{
 "cells": [
  {
   "cell_type": "markdown",
   "id": "3493ec5a",
   "metadata": {},
   "source": [
    "# Transformer les noms des fichiers Concordances\n",
    "\n",
    "1. renommer les fichiers concordances avec un numéro aléatoire nnn de \"mot.pdf\" à \"mot-nnn.pdf\"\n",
    "1. copier les fichiers concordances vers le Public Folder de pCloud en ne gardant que le numéro aléatoire et créer un fichier NumMots.csv avec les correspondances"
   ]
  },
  {
   "cell_type": "code",
   "execution_count": 44,
   "id": "971ffc69",
   "metadata": {},
   "outputs": [],
   "source": [
    "import glob,re,os,shutil,yaml\n",
    "import numpy as np"
   ]
  },
  {
   "cell_type": "code",
   "execution_count": 34,
   "id": "11a4afe7",
   "metadata": {},
   "outputs": [],
   "source": [
    "origName=\"/Users/gilles/ownCloud/Cours/Bordeaux/M1-FormalisationMorphologie/ExtraitsSets/\"\n",
    "destName=\"/Users/gilles/pCloud Drive/Public Folder/M1-Word2Vec/\""
   ]
  },
  {
   "cell_type": "code",
   "execution_count": 35,
   "id": "e794a5a8",
   "metadata": {},
   "outputs": [],
   "source": [
    "lFichiers=glob.glob(origName+\"*.pdf\")\n",
    "nFichiers=np.random.choice(1000,len(nFichiers))"
   ]
  },
  {
   "cell_type": "code",
   "execution_count": 37,
   "id": "4c2c7999",
   "metadata": {
    "collapsed": true
   },
   "outputs": [
    {
     "name": "stdout",
     "output_type": "stream",
     "text": [
      "acacia 491\n",
      "alevin 591\n",
      "anchois 861\n",
      "arbre 944\n",
      "aulne 799\n",
      "bambou 298\n",
      "bananier 749\n",
      "bouleau 675\n",
      "buis 784\n",
      "cabillaud 441\n",
      "cactus 876\n",
      "calamar 541\n",
      "chagrin 736\n",
      "chance 201\n",
      "charité 756\n",
      "châtaignier 685\n",
      "chêne 451\n",
      "clarté 472\n",
      "colère 560\n",
      "colin 456\n",
      "confort 506\n",
      "congre 180\n",
      "crabe 795\n",
      "curiosité 669\n",
      "cyprès 235\n",
      "danger 360\n",
      "désespoir 693\n",
      "détermination 422\n",
      "disgrâce 633\n",
      "dorade 368\n",
      "douleur 839\n",
      "espoir 358\n",
      "eucalyptus 100\n",
      "épicéa 022\n",
      "érable 575\n",
      "frêne 746\n",
      "hareng 555\n",
      "hêtre 575\n",
      "homard 006\n",
      "honnêteté 311\n",
      "huître 967\n",
      "idée 591\n",
      "impatience 160\n",
      "indifférence 496\n",
      "joie 860\n",
      "langouste 652\n",
      "liberté 448\n",
      "limande 803\n",
      "lotte 847\n",
      "luxe 628\n",
      "maquereau 947\n",
      "marronnier 725\n",
      "merisier 963\n",
      "merlan 279\n",
      "merlu 245\n",
      "moule 211\n",
      "noyer 735\n",
      "olivier 437\n",
      "orme 436\n",
      "oursin 431\n",
      "palourde 055\n",
      "patience 506\n",
      "pensée 490\n",
      "peuplier 276\n",
      "peur 268\n",
      "pétoncle 384\n",
      "pieuvre 643\n",
      "pin 822\n",
      "platane 121\n",
      "poisson 442\n",
      "pommier 041\n",
      "poulpe 075\n",
      "prunier 827\n",
      "requin 924\n",
      "sagesse 795\n",
      "sapin 229\n",
      "sardine 360\n",
      "saule 468\n",
      "sensibilité 175\n",
      "sole 260\n",
      "soulagement 585\n",
      "stress 114\n",
      "sureau 008\n",
      "thon 789\n",
      "tilleul 763\n",
      "tolérance 016\n",
      "tromperie 071\n",
      "truite 328\n",
      "turbot 825\n",
      "vérité 535\n"
     ]
    }
   ],
   "source": [
    "for n,f in enumerate(lFichiers):\n",
    "    os.rename(f,f.replace(\".pdf\",\"-%03d.pdf\"%nFichiers[n]))"
   ]
  },
  {
   "cell_type": "code",
   "execution_count": 58,
   "id": "04557791",
   "metadata": {},
   "outputs": [],
   "source": [
    "dNumMots={}\n",
    "for f in glob.glob(origName+\"*.pdf\"):\n",
    "    m=re.search(ur\"/([^/]*)-(\\d*).pdf\",f)\n",
    "    mot=m.group(1)\n",
    "    numero=m.group(2)\n",
    "    dNumMots[numero]=mot\n",
    "    destFile=destName+numero+\".pdf\"    \n",
    "    shutil.copy(f,destFile)"
   ]
  },
  {
   "cell_type": "code",
   "execution_count": 59,
   "id": "2106fea0",
   "metadata": {},
   "outputs": [],
   "source": [
    "yaml.safe_dump(dNumMots, file(destName+\"NumMots.csv\", 'w'), encoding='utf-8', allow_unicode=True)"
   ]
  },
  {
   "cell_type": "code",
   "execution_count": 60,
   "id": "d7a06248",
   "metadata": {},
   "outputs": [],
   "source": [
    "lNums=[]\n",
    "for f in glob.glob(origName+\"*.pdf\"):\n",
    "    m=re.search(ur\"/([^/]*)-(\\d*).pdf\",f)\n",
    "    mot=m.group(1)\n",
    "    numero=m.group(2)\n",
    "    if numero in lNums:\n",
    "        print numero, mot\n",
    "    else:\n",
    "        lNums.append(numero)"
   ]
  },
  {
   "cell_type": "code",
   "execution_count": null,
   "id": "8ce388b7",
   "metadata": {},
   "outputs": [],
   "source": []
  }
 ],
 "metadata": {
  "kernelspec": {
   "display_name": "Python [conda env:python2]",
   "language": "python",
   "name": "conda-env-python2-py"
  },
  "language_info": {
   "codemirror_mode": {
    "name": "ipython",
    "version": 2
   },
   "file_extension": ".py",
   "mimetype": "text/x-python",
   "name": "python",
   "nbconvert_exporter": "python",
   "pygments_lexer": "ipython2",
   "version": "2.7.16"
  }
 },
 "nbformat": 4,
 "nbformat_minor": 5
}
