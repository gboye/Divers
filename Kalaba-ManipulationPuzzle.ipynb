{
 "cells": [
  {
   "cell_type": "markdown",
   "metadata": {},
   "source": [
    "# Script pour générer les exemples de la solution du puzzle\n",
    "- à partir des exemples de l'exercice\n",
    " - ajouter une ligne de phono\n",
    " - ajouter une ligne de gloses  \n",
    " - ajouter un espace entre les gloses pour séparer les mots\n",
    " \n",
    "Le fichier d'entrée est \"Exemples-Texte.tex\"  \n",
    "Le fichier de sortie est \"Exemples-Solution.tex\""
   ]
  },
  {
   "cell_type": "code",
   "execution_count": 1,
   "metadata": {
    "collapsed": true
   },
   "outputs": [],
   "source": [
    "import codecs, re, string\n",
    "from os.path import expanduser\n",
    "\n",
    "home = expanduser(\"~\")"
   ]
  },
  {
   "cell_type": "code",
   "execution_count": 2,
   "metadata": {},
   "outputs": [],
   "source": [
    "nKalaba=\"K5\"\n",
    "annee=\"17\"\n",
    "repertoire=home+\"/ownCloud/Cours/Bordeaux/L1-LinguistiqueGenerale/Kalaba-Project/%s-%s\"%(annee,nKalaba)\n",
    "serie=repertoire+\"/\"\n",
    "\n",
    "nomExemples=\"Exemples-Texte.tex\"\n",
    "with codecs.open(serie+nomExemples,\"r\",encoding=\"utf8\") as input:\n",
    "    lignesFichier=input.readlines()\n"
   ]
  },
  {
   "cell_type": "code",
   "execution_count": 3,
   "metadata": {
    "collapsed": true
   },
   "outputs": [],
   "source": [
    "def makePhonoGloses(phrase):\n",
    "    lignes=[\"\\\\gloses\"]\n",
    "    mots=phrase.strip().split(\"{}\")\n",
    "    lignes.append(\"{} \".join(mots))\n",
    "    lignes.append(\"P{} \".join(mots))\n",
    "    lignes.append(\"G{} \".join(mots))\n",
    "    return \"\\n\".join(lignes)"
   ]
  },
  {
   "cell_type": "code",
   "execution_count": 4,
   "metadata": {},
   "outputs": [],
   "source": [
    "nomExemplesRadicaux=nomExemples.replace(\"-Texte.tex\",\"-Solution.tex\")\n",
    "if nomExemplesRadicaux==nomExemples:\n",
    "    print \"Le nom de la sortie est le même que celui de l'entrée...\"\n",
    "else:\n",
    "    with codecs.open(serie+nomExemplesRadicaux,\"w\",encoding=\"utf8\") as output:\n",
    "        for nLigne,ligne in enumerate(lignesFichier):\n",
    "            ligne=ligne.strip()\n",
    "            if ligne.startswith(\"\\\\tornpaper\"):\n",
    "                debPhrases=nLigne+2\n",
    "                nbPhrases=lignesFichier[debPhrases:debPhrases+10].index(\"}\\n\")\n",
    "                for numPhrase,phrase in enumerate(lignesFichier[debPhrases:debPhrases+nbPhrases]):\n",
    "                    lignesFichier[debPhrases+numPhrase]=makePhonoGloses(phrase)\n",
    "            output.write(ligne+\"\\n\")\n"
   ]
  },
  {
   "cell_type": "code",
   "execution_count": null,
   "metadata": {
    "collapsed": true
   },
   "outputs": [],
   "source": []
  }
 ],
 "metadata": {
  "kernelspec": {
   "display_name": "Python 2",
   "language": "python",
   "name": "python2"
  },
  "language_info": {
   "codemirror_mode": {
    "name": "ipython",
    "version": 2
   },
   "file_extension": ".py",
   "mimetype": "text/x-python",
   "name": "python",
   "nbconvert_exporter": "python",
   "pygments_lexer": "ipython2",
   "version": "2.7.11"
  }
 },
 "nbformat": 4,
 "nbformat_minor": 1
}
