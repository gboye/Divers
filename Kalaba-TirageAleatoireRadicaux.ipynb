{
 "cells": [
  {
   "cell_type": "code",
   "execution_count": 10,
   "metadata": {
    "collapsed": true
   },
   "outputs": [],
   "source": [
    "import yaml\n",
    "from os.path import expanduser\n",
    "import random as rd"
   ]
  },
  {
   "cell_type": "code",
   "execution_count": 7,
   "metadata": {},
   "outputs": [],
   "source": [
    "home = expanduser(\"~\")\n",
    "repertoire=home+\"/ownCloud/Cours/Bordeaux/L1-LinguistiqueGenerale/Kalaba-Project/\"\n",
    "serie=repertoire+\"17-K5/\""
   ]
  },
  {
   "cell_type": "code",
   "execution_count": 25,
   "metadata": {},
   "outputs": [],
   "source": [
    "with open(serie+\"Phonology.yaml\", 'r') as stream:\n",
    "    phonology=yaml.load(stream)"
   ]
  },
  {
   "cell_type": "code",
   "execution_count": 26,
   "metadata": {
    "collapsed": true
   },
   "outputs": [],
   "source": [
    "consonnes=phonology[\"consonnes\"]\n",
    "voyelles=phonology[\"voyelles\"]"
   ]
  },
  {
   "cell_type": "code",
   "execution_count": 27,
   "metadata": {
    "collapsed": true
   },
   "outputs": [],
   "source": [
    "def v():\n",
    "    return rd.choice(voyelles)\n",
    "def c():\n",
    "    return rd.choice(consonnes)"
   ]
  },
  {
   "cell_type": "code",
   "execution_count": 37,
   "metadata": {},
   "outputs": [
    {
     "name": "stdout",
     "output_type": "stream",
     "text": [
      "jiSeD\tSokos\tTozan\tToTav\tfuSob\tSezag\tluTed\ttonub\tdupag\tfanot\tketam\tfeTet\twelez\ttovuj\tpawaf\ttaTep\triwos\tfiZob\tgojoD\triSef\tpapan\trulij\tkeguf\tSeguZ\tbukot\t"
     ]
    }
   ],
   "source": [
    "for i in range(25):\n",
    "    tirage=c()+v()+c()+v()+c()+v()*rd.choice([0,0,0])\n",
    "    print tirage+\"\\t\","
   ]
  },
  {
   "cell_type": "code",
   "execution_count": 36,
   "metadata": {},
   "outputs": [
    {
     "name": "stdout",
     "output_type": "stream",
     "text": [
      "Zetev\tkiTor\tDipud\tguNun\tfiSel\tvuTak\tzobiS\tmojiv\tnaTur\tzepum\tTibuj\tzeTit\ttunuS\tZelon\tsiwol\tNiluv\tNiniT\tgabil\tZigiN\tvotus\tribuz\tneweT\tTeSir\tdiruz\tvukeb\t"
     ]
    }
   ],
   "source": [
    "for i in range(25):\n",
    "    r=rd.sample(consonnes,3)\n",
    "    print r[0]+v()+r[1]+v()+r[2]+\"\\t\","
   ]
  },
  {
   "cell_type": "code",
   "execution_count": 38,
   "metadata": {},
   "outputs": [
    {
     "name": "stdout",
     "output_type": "stream",
     "text": [
      "puw\tsir\tSol\tful\twe\tbo\tval\tso\tNov\tsuz\tna\tpi\tDop\tbaN\tpeg\tta\tso\twu\tDa\tdiZ\tlij\twa\tNir\tsi\tsaj\t"
     ]
    }
   ],
   "source": [
    "for i in range(25):\n",
    "    tirage=c()+v()+c()*rd.choice([0,1])\n",
    "    print tirage+\"\\t\","
   ]
  }
 ],
 "metadata": {
  "kernelspec": {
   "display_name": "Python 2",
   "language": "python",
   "name": "python2"
  },
  "language_info": {
   "codemirror_mode": {
    "name": "ipython",
    "version": 2
   },
   "file_extension": ".py",
   "mimetype": "text/x-python",
   "name": "python",
   "nbconvert_exporter": "python",
   "pygments_lexer": "ipython2",
   "version": "2.7.11"
  }
 },
 "nbformat": 4,
 "nbformat_minor": 1
}
