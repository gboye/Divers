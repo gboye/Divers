{
 "cells": [
  {
   "cell_type": "code",
   "execution_count": 234,
   "metadata": {},
   "outputs": [],
   "source": [
    "import pandas as pd\n",
    "import random\n",
    "from math import log10, ceil"
   ]
  },
  {
   "cell_type": "code",
   "execution_count": 235,
   "metadata": {
    "collapsed": true
   },
   "outputs": [],
   "source": [
    "taille=10000\n",
    "nbSamples=1\n",
    "nbTirages=1000"
   ]
  },
  {
   "cell_type": "code",
   "execution_count": 236,
   "metadata": {
    "collapsed": true
   },
   "outputs": [],
   "source": [
    "def zSomme(nbElements):\n",
    "    somme=0.0\n",
    "    for i in range(nbElements):\n",
    "        n=i+1\n",
    "        somme+=1/float(n)\n",
    "    return somme\n",
    "\n",
    "def zProb(n,nbElements):\n",
    "    return (1/float(n))/zSomme(nbElements)\n",
    "\n",
    "def zLine(nbElements,lType=\"z\"):\n",
    "    line=[]\n",
    "    for i in range(nbElements):\n",
    "        n=i+1\n",
    "        if lType==\"zProb\":\n",
    "            line.append(zProb(n,nbElements))\n",
    "        else:\n",
    "            line.append((xFactor/float(n)))\n",
    "    return line"
   ]
  },
  {
   "cell_type": "code",
   "execution_count": 237,
   "metadata": {},
   "outputs": [],
   "source": [
    "def tirageIndex(nb,max):\n",
    "    tirage=[]\n",
    "    for n in range(nb):\n",
    "        tirage.append(random.randrange(max))\n",
    "    return tirage"
   ]
  },
  {
   "cell_type": "code",
   "execution_count": 238,
   "metadata": {
    "collapsed": true
   },
   "outputs": [],
   "source": [
    "def tirage2triage(tirage):    \n",
    "    triage=sorted(tirage)\n",
    "    freqTop=0\n",
    "    indexMin=0\n",
    "    tirs={0:0}\n",
    "    lexique=lexiqueBase.copy()\n",
    "    lexique[\"tir1\"]=0\n",
    "    freqTop=lexique.ix[0,'freqcum']\n",
    "    for num,tir in enumerate(triage[:]):\n",
    "        if tir > freqTop:\n",
    "            indexMin=lexique[lexique[\"freqcum\"]>=tir][0:1].index.astype(int)[0]\n",
    "            freqTop=lexique.ix[indexMin,'freqcum']\n",
    "            tirs[indexMin]=0\n",
    "        tirs[indexMin] += 1\n",
    "#        if num%5000000==0:\n",
    "#            print num,\n",
    "#    print\n",
    "    for indexNum in tirs:\n",
    "        lexique.ix[indexNum,'tir1']+=tirs[indexNum]\n",
    "    return lexique"
   ]
  },
  {
   "cell_type": "code",
   "execution_count": 243,
   "metadata": {
    "scrolled": true
   },
   "outputs": [],
   "source": [
    "xFactor=10*taille\n",
    "lexiqueBase=pd.DataFrame.from_dict({\"freq\":zLine(taille)})\n",
    "minFreq=lexiqueBase[\"freq\"].min()\n",
    "# xFreq=10**ceil(log10(1/minFreq))\n",
    "# print xFreq"
   ]
  },
  {
   "cell_type": "code",
   "execution_count": 244,
   "metadata": {
    "collapsed": true
   },
   "outputs": [],
   "source": [
    "lexiqueBase[\"freqcum\"]= (lexiqueBase[\"freq\"].cumsum()).astype(int)\n",
    "maxFreqCum=lexiqueBase[\"freqcum\"].max()+1"
   ]
  },
  {
   "cell_type": "code",
   "execution_count": 245,
   "metadata": {},
   "outputs": [
    {
     "name": "stdout",
     "output_type": "stream",
     "text": [
      "CPU times: user 1.6 s, sys: 87.8 ms, total: 1.69 s\n",
      "Wall time: 2.4 s\n",
      "CPU times: user 21min 20s, sys: 6min 38s, total: 27min 58s\n",
      "Wall time: 28min 20s\n",
      "\n",
      "nbSample 1 360000\n",
      "2000000 tirages 223644 formes\n"
     ]
    }
   ],
   "source": [
    "for nbSample in range(nbSamples):\n",
    "    %time tirage=tirageIndex(nbTirages,maxFreqCum)\n",
    "    %time lexique=tirage2triage(tirage)\n",
    "    print\n",
    "    print \"nbSample\",nbSample+1,taille\n",
    "    print lexique[lexique[\"tir1\"]!=0][\"tir1\"].sum(),\"tirages\",lexique[lexique[\"tir1\"]!=0][\"tir1\"].count(),\"formes\"\n",
    "    if lexique[lexique[\"tir1\"]!=0][\"tir1\"].sum()<nbTirages:\n",
    "        print sorted(tirage)"
   ]
  },
  {
   "cell_type": "code",
   "execution_count": 242,
   "metadata": {
    "collapsed": true
   },
   "outputs": [],
   "source": [
    "taille=360000\n",
    "nbSamples=1\n",
    "nbTirages=2000000"
   ]
  },
  {
   "cell_type": "code",
   "execution_count": null,
   "metadata": {
    "collapsed": true
   },
   "outputs": [],
   "source": []
  }
 ],
 "metadata": {
  "kernelspec": {
   "display_name": "Python 2",
   "language": "python",
   "name": "python2"
  },
  "language_info": {
   "codemirror_mode": {
    "name": "ipython",
    "version": 2
   },
   "file_extension": ".py",
   "mimetype": "text/x-python",
   "name": "python",
   "nbconvert_exporter": "python",
   "pygments_lexer": "ipython2",
   "version": "2.7.11"
  }
 },
 "nbformat": 4,
 "nbformat_minor": 2
}
