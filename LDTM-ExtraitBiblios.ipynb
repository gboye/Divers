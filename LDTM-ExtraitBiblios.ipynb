{
 "cells": [
  {
   "cell_type": "markdown",
   "metadata": {},
   "source": [
    "# Script pour extraire et mélanger les exemples du Kalaba final\n",
    "- Le fichier d'entrée est \"16-K5-Texte.pdf\"\n",
    "- Les fichiers de sortie sont\n",
    " - \"16-K5-Shuffle.pdf\"\n",
    " - \"16-K5-Extrait.pdf\""
   ]
  },
  {
   "cell_type": "code",
   "execution_count": 8,
   "metadata": {
    "collapsed": true
   },
   "outputs": [],
   "source": [
    "import codecs, re, string\n",
    "from os.path import expanduser\n",
    "import random, sys\n",
    "from pyPdf import PdfFileWriter, PdfFileReader\n",
    "home = expanduser(\"~\")"
   ]
  },
  {
   "cell_type": "code",
   "execution_count": 9,
   "metadata": {
    "collapsed": true
   },
   "outputs": [],
   "source": [
    "repertoire=\"/Users/gilles/Dropbox/Travail/Recherche/BoBo/editedbook-workingcopy-180125/\"\n",
    "serie=repertoire+\"/\""
   ]
  },
  {
   "cell_type": "code",
   "execution_count": 21,
   "metadata": {
    "collapsed": true
   },
   "outputs": [],
   "source": [
    "biblios=\"17-20, 38-40, 64-66, 95-96, 117-119, 151-159, 200-204, 220-221, 253-257, 293-294, 316-319, 341-344, 372-374, 418-422, 457-464, 485-489, 538-543, 564-567, 592-594, 611-614\""
   ]
  },
  {
   "cell_type": "code",
   "execution_count": 22,
   "metadata": {
    "collapsed": true
   },
   "outputs": [],
   "source": [
    "def cutRanges(chaine):\n",
    "    result=[]\n",
    "    ranges=chaine.split(\",\")\n",
    "    for r in ranges:\n",
    "        d,f=r.split(\"-\")\n",
    "        result.extend([e for e in range(int(d),int(f)+1)])\n",
    "    return result"
   ]
  },
  {
   "cell_type": "code",
   "execution_count": 23,
   "metadata": {},
   "outputs": [
    {
     "data": {
      "text/plain": [
       "[17,\n",
       " 18,\n",
       " 19,\n",
       " 20,\n",
       " 38,\n",
       " 39,\n",
       " 40,\n",
       " 64,\n",
       " 65,\n",
       " 66,\n",
       " 95,\n",
       " 96,\n",
       " 117,\n",
       " 118,\n",
       " 119,\n",
       " 151,\n",
       " 152,\n",
       " 153,\n",
       " 154,\n",
       " 155,\n",
       " 156,\n",
       " 157,\n",
       " 158,\n",
       " 159,\n",
       " 200,\n",
       " 201,\n",
       " 202,\n",
       " 203,\n",
       " 204,\n",
       " 220,\n",
       " 221,\n",
       " 253,\n",
       " 254,\n",
       " 255,\n",
       " 256,\n",
       " 257,\n",
       " 293,\n",
       " 294,\n",
       " 316,\n",
       " 317,\n",
       " 318,\n",
       " 319,\n",
       " 341,\n",
       " 342,\n",
       " 343,\n",
       " 344,\n",
       " 372,\n",
       " 373,\n",
       " 374,\n",
       " 418,\n",
       " 419,\n",
       " 420,\n",
       " 421,\n",
       " 422,\n",
       " 457,\n",
       " 458,\n",
       " 459,\n",
       " 460,\n",
       " 461,\n",
       " 462,\n",
       " 463,\n",
       " 464,\n",
       " 485,\n",
       " 486,\n",
       " 487,\n",
       " 488,\n",
       " 489,\n",
       " 538,\n",
       " 539,\n",
       " 540,\n",
       " 541,\n",
       " 542,\n",
       " 543,\n",
       " 564,\n",
       " 565,\n",
       " 566,\n",
       " 567,\n",
       " 592,\n",
       " 593,\n",
       " 594,\n",
       " 611,\n",
       " 612,\n",
       " 613,\n",
       " 614]"
      ]
     },
     "execution_count": 23,
     "metadata": {},
     "output_type": "execute_result"
    }
   ],
   "source": [
    "cutRanges(biblios)"
   ]
  },
  {
   "cell_type": "code",
   "execution_count": 24,
   "metadata": {
    "collapsed": true
   },
   "outputs": [],
   "source": [
    "nomExtrait=\"main-IDX.pdf\"\n",
    "nomPuzzle=\"IndexCle.tex\"\n",
    "lines=[r\"\\documentclass{article}\",r\"\\usepackage{graphicx,geometry,dashrule}\",\n",
    "       r\"\\geometry{scale={0.95,0.95},noheadfoot} % scale={largeur,hauteur}\",\n",
    "       r\"\\begin{document}\",r\"\\pagestyle{empty}\\thispagestyle{empty}\",r\"\\noindent\\centering\"\n",
    "      ]"
   ]
  },
  {
   "cell_type": "code",
   "execution_count": 25,
   "metadata": {},
   "outputs": [
    {
     "name": "stdout",
     "output_type": "stream",
     "text": [
      "\\documentclass{article}\n",
      "\\usepackage{graphicx,geometry,dashrule}\n",
      "\\geometry{scale={0.95,0.95},noheadfoot} % scale={largeur,hauteur}\n",
      "\\begin{document}\n",
      "\\pagestyle{empty}\\thispagestyle{empty}\n",
      "\\noindent\\centering\n",
      "\\includegraphics[page=17]{main-IDX.pdf}\\\\\n",
      "\\includegraphics[page=18]{main-IDX.pdf}\\\\\n",
      "\\includegraphics[page=19]{main-IDX.pdf}\\\\\n",
      "\\includegraphics[page=20]{main-IDX.pdf}\\\\\n",
      "\\includegraphics[page=38]{main-IDX.pdf}\\\\\n",
      "\\includegraphics[page=39]{main-IDX.pdf}\\\\\n",
      "\\includegraphics[page=40]{main-IDX.pdf}\\\\\n",
      "\\includegraphics[page=64]{main-IDX.pdf}\\\\\n",
      "\\includegraphics[page=65]{main-IDX.pdf}\\\\\n",
      "\\includegraphics[page=66]{main-IDX.pdf}\\\\\n",
      "\\includegraphics[page=95]{main-IDX.pdf}\\\\\n",
      "\\includegraphics[page=96]{main-IDX.pdf}\\\\\n",
      "\\includegraphics[page=117]{main-IDX.pdf}\\\\\n",
      "\\includegraphics[page=118]{main-IDX.pdf}\\\\\n",
      "\\includegraphics[page=119]{main-IDX.pdf}\\\\\n",
      "\\includegraphics[page=151]{main-IDX.pdf}\\\\\n",
      "\\includegraphics[page=152]{main-IDX.pdf}\\\\\n",
      "\\includegraphics[page=153]{main-IDX.pdf}\\\\\n",
      "\\includegraphics[page=154]{main-IDX.pdf}\\\\\n",
      "\\includegraphics[page=155]{main-IDX.pdf}\\\\\n",
      "\\includegraphics[page=156]{main-IDX.pdf}\\\\\n",
      "\\includegraphics[page=157]{main-IDX.pdf}\\\\\n",
      "\\includegraphics[page=158]{main-IDX.pdf}\\\\\n",
      "\\includegraphics[page=159]{main-IDX.pdf}\\\\\n",
      "\\includegraphics[page=200]{main-IDX.pdf}\\\\\n",
      "\\includegraphics[page=201]{main-IDX.pdf}\\\\\n",
      "\\includegraphics[page=202]{main-IDX.pdf}\\\\\n",
      "\\includegraphics[page=203]{main-IDX.pdf}\\\\\n",
      "\\includegraphics[page=204]{main-IDX.pdf}\\\\\n",
      "\\includegraphics[page=220]{main-IDX.pdf}\\\\\n",
      "\\includegraphics[page=221]{main-IDX.pdf}\\\\\n",
      "\\includegraphics[page=253]{main-IDX.pdf}\\\\\n",
      "\\includegraphics[page=254]{main-IDX.pdf}\\\\\n",
      "\\includegraphics[page=255]{main-IDX.pdf}\\\\\n",
      "\\includegraphics[page=256]{main-IDX.pdf}\\\\\n",
      "\\includegraphics[page=257]{main-IDX.pdf}\\\\\n",
      "\\includegraphics[page=293]{main-IDX.pdf}\\\\\n",
      "\\includegraphics[page=294]{main-IDX.pdf}\\\\\n",
      "\\includegraphics[page=316]{main-IDX.pdf}\\\\\n",
      "\\includegraphics[page=317]{main-IDX.pdf}\\\\\n",
      "\\includegraphics[page=318]{main-IDX.pdf}\\\\\n",
      "\\includegraphics[page=319]{main-IDX.pdf}\\\\\n",
      "\\includegraphics[page=341]{main-IDX.pdf}\\\\\n",
      "\\includegraphics[page=342]{main-IDX.pdf}\\\\\n",
      "\\includegraphics[page=343]{main-IDX.pdf}\\\\\n",
      "\\includegraphics[page=344]{main-IDX.pdf}\\\\\n",
      "\\includegraphics[page=372]{main-IDX.pdf}\\\\\n",
      "\\includegraphics[page=373]{main-IDX.pdf}\\\\\n",
      "\\includegraphics[page=374]{main-IDX.pdf}\\\\\n",
      "\\includegraphics[page=418]{main-IDX.pdf}\\\\\n",
      "\\includegraphics[page=419]{main-IDX.pdf}\\\\\n",
      "\\includegraphics[page=420]{main-IDX.pdf}\\\\\n",
      "\\includegraphics[page=421]{main-IDX.pdf}\\\\\n",
      "\\includegraphics[page=422]{main-IDX.pdf}\\\\\n",
      "\\includegraphics[page=457]{main-IDX.pdf}\\\\\n",
      "\\includegraphics[page=458]{main-IDX.pdf}\\\\\n",
      "\\includegraphics[page=459]{main-IDX.pdf}\\\\\n",
      "\\includegraphics[page=460]{main-IDX.pdf}\\\\\n",
      "\\includegraphics[page=461]{main-IDX.pdf}\\\\\n",
      "\\includegraphics[page=462]{main-IDX.pdf}\\\\\n",
      "\\includegraphics[page=463]{main-IDX.pdf}\\\\\n",
      "\\includegraphics[page=464]{main-IDX.pdf}\\\\\n",
      "\\includegraphics[page=485]{main-IDX.pdf}\\\\\n",
      "\\includegraphics[page=486]{main-IDX.pdf}\\\\\n",
      "\\includegraphics[page=487]{main-IDX.pdf}\\\\\n",
      "\\includegraphics[page=488]{main-IDX.pdf}\\\\\n",
      "\\includegraphics[page=489]{main-IDX.pdf}\\\\\n",
      "\\includegraphics[page=538]{main-IDX.pdf}\\\\\n",
      "\\includegraphics[page=539]{main-IDX.pdf}\\\\\n",
      "\\includegraphics[page=540]{main-IDX.pdf}\\\\\n",
      "\\includegraphics[page=541]{main-IDX.pdf}\\\\\n",
      "\\includegraphics[page=542]{main-IDX.pdf}\\\\\n",
      "\\includegraphics[page=543]{main-IDX.pdf}\\\\\n",
      "\\includegraphics[page=564]{main-IDX.pdf}\\\\\n",
      "\\includegraphics[page=565]{main-IDX.pdf}\\\\\n",
      "\\includegraphics[page=566]{main-IDX.pdf}\\\\\n",
      "\\includegraphics[page=567]{main-IDX.pdf}\\\\\n",
      "\\includegraphics[page=592]{main-IDX.pdf}\\\\\n",
      "\\includegraphics[page=593]{main-IDX.pdf}\\\\\n",
      "\\includegraphics[page=594]{main-IDX.pdf}\\\\\n",
      "\\includegraphics[page=611]{main-IDX.pdf}\\\\\n",
      "\\includegraphics[page=612]{main-IDX.pdf}\\\\\n",
      "\\includegraphics[page=613]{main-IDX.pdf}\\\\\n",
      "\\includegraphics[page=614]{main-IDX.pdf}\\\\\n",
      "\\end{document}\n"
     ]
    }
   ],
   "source": [
    "for i in cutRanges(biblios):\n",
    "     lines.append(r\"\\includegraphics[page=%d]{%s}\\\\\"%(i,nomExtrait))\n",
    "lines.append(r\"\\end{document}\")\n",
    "print \"\\n\".join(lines)"
   ]
  },
  {
   "cell_type": "code",
   "execution_count": 26,
   "metadata": {},
   "outputs": [],
   "source": [
    "with open(serie+nomPuzzle,\"w\") as output:\n",
    "    for line in lines:\n",
    "        output.write(line+\"\\n\")"
   ]
  },
  {
   "cell_type": "code",
   "execution_count": null,
   "metadata": {
    "collapsed": true
   },
   "outputs": [],
   "source": []
  }
 ],
 "metadata": {
  "kernelspec": {
   "display_name": "Python 2",
   "language": "python",
   "name": "python2"
  },
  "language_info": {
   "codemirror_mode": {
    "name": "ipython",
    "version": 2
   },
   "file_extension": ".py",
   "mimetype": "text/x-python",
   "name": "python",
   "nbconvert_exporter": "python",
   "pygments_lexer": "ipython2",
   "version": "2.7.11"
  }
 },
 "nbformat": 4,
 "nbformat_minor": 1
}
