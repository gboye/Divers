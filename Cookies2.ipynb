{
 "cells": [
  {
   "cell_type": "code",
   "execution_count": 1,
   "metadata": {
    "collapsed": false
   },
   "outputs": [],
   "source": [
    "\"\"\"Example app to login to eCampus\"\"\"\n",
    "import mechanicalsoup"
   ]
  },
  {
   "cell_type": "code",
   "execution_count": 2,
   "metadata": {
    "collapsed": false,
    "scrolled": true
   },
   "outputs": [
    {
     "name": "stderr",
     "output_type": "stream",
     "text": [
      "/Users/gilles/anaconda/lib/python2.7/site-packages/bs4/__init__.py:166: UserWarning: No parser was explicitly specified, so I'm using the best available HTML parser for this system (\"lxml\"). This usually isn't a problem, but if you run this code on another system, or in a different virtual environment, it may use a different parser and behave differently.\n",
      "\n",
      "To get rid of this warning, change this:\n",
      "\n",
      " BeautifulSoup([your markup])\n",
      "\n",
      "to this:\n",
      "\n",
      " BeautifulSoup([your markup], \"lxml\")\n",
      "\n",
      "  markup_type=markup_type))\n"
     ]
    }
   ],
   "source": [
    "args={\"username\":\"gboye\", \"password\":\"hysw2z3315\"}\n",
    "browser = mechanicalsoup.Browser()\n",
    "\n",
    "# request github login page. the result is a requests.Response object http://docs.python-requests.org/en/latest/user/quickstart/#response-content\n",
    "login_page = browser.get(\"https://sso.u-bordeaux-montaigne.fr/cas/\")"
   ]
  },
  {
   "cell_type": "code",
   "execution_count": 3,
   "metadata": {
    "collapsed": false
   },
   "outputs": [
    {
     "name": "stdout",
     "output_type": "stream",
     "text": [
      "<form action=\"/cas/login;jsessionid=453906EEAC7AEB8446890607F1BE271E\" class=\"fm-v clearfix\" id=\"fm1\" method=\"post\">\n",
      "<!-- Félicitations, votre serveur est en ligne ! Vous pouvez maintenant essayer le service d'authentification par défaut, qui authentifie lorsque le mot de passe est égal au nom d'utilisateur. -->\n",
      "<h2>Entrez votre identifiant et votre mot de passe</h2>\n",
      "<div class=\"row fl-controls-left\">\n",
      "<label class=\"fl-label\" for=\"username\"><span class=\"accesskey\">I</span>dentifiant :</label>\n",
      "<input accesskey=\"i\" autocomplete=\"false\" class=\"required\" id=\"username\" name=\"username\" size=\"25\" tabindex=\"1\" type=\"text\" value=\"\"/>\n",
      "</div>\n",
      "<div class=\"row fl-controls-left\">\n",
      "<label class=\"fl-label\" for=\"password\"><span class=\"accesskey\">M</span>ot de passe :</label>\n",
      "<input accesskey=\"m\" autocomplete=\"off\" class=\"required\" id=\"password\" name=\"password\" size=\"25\" tabindex=\"2\" type=\"password\" value=\"\"/>\n",
      "</div>\n",
      "<!--div class=\"row check\">\n",
      "\t\t\t\t\t<input id=\"warn\" name=\"warn\" value=\"true\" tabindex=\"3\" accesskey=\"p\" type=\"checkbox\" />\n",
      "\t\t\t\t\t<label for=\"warn\"><span class=\"accesskey\">P</span>révenez-moi avant d'accéder à d'autres services.</label>\n",
      "\t\t\t\t</div-->\n",
      "<div class=\"row btn-row\">\n",
      "<input name=\"lt\" type=\"hidden\" value=\"LT-349689-9OSSIXKoNE9vGAoc4seWKxf4rqz0kF\"/>\n",
      "<input name=\"execution\" type=\"hidden\" value=\"e1s1\"/>\n",
      "<input name=\"_eventId\" type=\"hidden\" value=\"submit\"/>\n",
      "<input accesskey=\"l\" class=\"btn-submit\" name=\"submit\" tabindex=\"4\" type=\"submit\" value=\"SE CONNECTER\"/>\n",
      "<input accesskey=\"c\" class=\"btn-reset\" name=\"reset\" tabindex=\"5\" type=\"reset\" value=\"EFFACER\"/>\n",
      "</div>\n",
      "</form>\n"
     ]
    }
   ],
   "source": [
    "# login_page.soup is a BeautifulSoup object http://www.crummy.com/software/BeautifulSoup/bs4/doc/#beautifulsoup \n",
    "# we grab the login form\n",
    "login_form = login_page.soup.select(\"#fm1\")[0]\n",
    "print login_form"
   ]
  },
  {
   "cell_type": "code",
   "execution_count": null,
   "metadata": {
    "collapsed": true
   },
   "outputs": [],
   "source": [
    "# specify username and password\n",
    "login_form.select(\"#username\")[0]['value'] = args[\"username\"]\n",
    "login_form.select(\"#password\")[0]['value'] = args[\"password\"]"
   ]
  },
  {
   "cell_type": "code",
   "execution_count": null,
   "metadata": {
    "collapsed": false
   },
   "outputs": [],
   "source": [
    "print \"login form\"\n",
    "print login_form"
   ]
  },
  {
   "cell_type": "code",
   "execution_count": null,
   "metadata": {
    "collapsed": true
   },
   "outputs": [],
   "source": [
    "# submit form\n",
    "page2 = browser.submit(login_form, login_page.url)"
   ]
  },
  {
   "cell_type": "code",
   "execution_count": null,
   "metadata": {
    "collapsed": false,
    "scrolled": true
   },
   "outputs": [],
   "source": [
    "print page2.soup"
   ]
  },
  {
   "cell_type": "code",
   "execution_count": null,
   "metadata": {
    "collapsed": false
   },
   "outputs": [],
   "source": [
    "# Mettre l'url d'un cours accessible à l'identifiant\n",
    "page3 = browser.get(\"http://ecampus.u-bordeaux-montaigne.fr/course/view.php?id=194\")\n",
    "print page3.soup"
   ]
  }
 ],
 "metadata": {
  "kernelspec": {
   "display_name": "Python 2",
   "language": "python",
   "name": "python2"
  },
  "language_info": {
   "codemirror_mode": {
    "name": "ipython",
    "version": 2
   },
   "file_extension": ".py",
   "mimetype": "text/x-python",
   "name": "python",
   "nbconvert_exporter": "python",
   "pygments_lexer": "ipython2",
   "version": "2.7.10"
  }
 },
 "nbformat": 4,
 "nbformat_minor": 0
}
