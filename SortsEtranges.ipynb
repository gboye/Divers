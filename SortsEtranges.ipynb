{
 "metadata": {
  "name": "",
  "signature": "sha256:a2ac14cc831ccaad7e254d84b33615a74ed846c06d70cbc26ffc061857e6fbd3"
 },
 "nbformat": 3,
 "nbformat_minor": 0,
 "worksheets": [
  {
   "cells": [
    {
     "cell_type": "markdown",
     "metadata": {},
     "source": [
      "#Les trois pi\u00e8ces\n",
      "On lance trois pi\u00e8ces de monnaie. \n",
      "- Quelle est la probabilit\u00e9 que toutes trois retombent du m\u00eame c\u00f4t\u00e9, que ce soit pile ou face ? \n"
     ]
    },
    {
     "cell_type": "code",
     "collapsed": false,
     "input": [
      "from random import randrange,choice\n",
      "pieces=range(3)\n",
      "cotes=[\"pile\",\"face\"]\n",
      "lancers={}\n",
      "result=0\n",
      "for i in range(10000):\n",
      "    for piece in pieces:\n",
      "        lancers[piece]=choice(cotes)\n",
      "    resultat=lancers[pieces[0]]\n",
      "    result+=(len(set(lancers.values()))==1)\n",
      "print float(result)/(i+1)"
     ],
     "language": "python",
     "metadata": {},
     "outputs": [
      {
       "output_type": "stream",
       "stream": "stdout",
       "text": [
        "0.2494\n"
       ]
      }
     ],
     "prompt_number": 114
    },
    {
     "cell_type": "markdown",
     "metadata": {},
     "source": [
      "#Les trois prisonniers\n",
      "Trois prisonniers sont dans une cellule. Ils savent que deux vont \u00eatre condamn\u00e9s \u00e0 mort et un graci\u00e9, mais ils ne savent pas qui. \n",
      "\n",
      "L'un d'entre eux va voir le gardien et lui demande :\n",
      "\n",
      "    \u00ab Je sais bien que tu ne peux rien me dire, mais tu peux au moins me montrer un de mes compagnons qui sera ex\u00e9cut\u00e9 \u00bb. \n",
      "Le gardien r\u00e9fl\u00e9chit, se dit que de toutes mani\u00e8res au moins l'un des deux autres prisonniers sera condamn\u00e9, et s'ex\u00e9cute. Le prisonnier lui r\u00e9pond alors : \n",
      "\n",
      "    \u00ab Merci, avant, j'avais une chance sur trois d'\u00eatre graci\u00e9, et maintenant, j'ai une chance sur deux. \u00bb\n",
      "\n",
      "\u00c9videmment, quiconque a en main la d\u00e9cision de gr\u00e2ce sait avec certitude qui est d\u00e9j\u00e0 graci\u00e9. Le probl\u00e8me se situe au point de vue du prisonnier. \n",
      "- A-t-il raison de croire que sa probabilit\u00e9 d'\u00eatre ex\u00e9cut\u00e9 a vari\u00e9 ?"
     ]
    },
    {
     "cell_type": "markdown",
     "metadata": {},
     "source": [
      "#[Let's make a deal](https://fr.wikipedia.org/wiki/Probl%C3%A8me_de_Monty_Hall)\n",
      "Le jeu oppose un pr\u00e9sentateur \u00e0 un candidat (le joueur). Ce joueur est plac\u00e9 devant trois portes ferm\u00e9es. Derri\u00e8re l'une d'elles se trouve une voiture (ou tout autre prix magnifique) et derri\u00e8re chacune des deux autres se trouve une ch\u00e8vre (ou tout autre prix sans importance). Il doit tout d'abord d\u00e9signer une porte. Puis le pr\u00e9sentateur ouvre une porte qui n'est ni celle choisie par le candidat, ni celle cachant la voiture (le pr\u00e9sentateur sait quelle est la bonne porte d\u00e8s le d\u00e9but). Le candidat a alors le droit ou bien d'ouvrir la porte qu'il a choisie initialement, ou bien d'ouvrir la troisi\u00e8me porte.\n",
      "\n",
      "Les questions qui se posent au candidat sont :\n",
      "\n",
      "- Que doit-il faire ?\n",
      "- Quelles sont ses chances de gagner la voiture en agissant au mieux ?\n"
     ]
    },
    {
     "cell_type": "markdown",
     "metadata": {},
     "source": [
      "##Importation des modules utilis\u00e9s\n",
      "- random pour les tirages au sort\n",
      " - randrange(N) pour tirer un nombre entier inf\u00e9rieur \u00e0 N\n",
      " - choice pour tirer un \u00e9l\u00e9ment d'une liste"
     ]
    },
    {
     "cell_type": "code",
     "collapsed": false,
     "input": [
      "from random import randrange,choice"
     ],
     "language": "python",
     "metadata": {},
     "outputs": []
    },
    {
     "cell_type": "markdown",
     "metadata": {},
     "source": [
      "##Cr\u00e9ation des \u00e9l\u00e9ments du jeu\n",
      "- *portes* : les trois portes\n",
      "- *voiture* : le num\u00e9ro de la porte avec la voiture\n",
      "- *choix1* : la porte choisie par le joueur au d\u00e9but\n",
      "- *choix2* : la porte choisie par le joueur qui change de porte\n",
      "- *choix3* : la porte choisie par le joueur qui rechoisit au hasard entre sa porte et la porte restante\n",
      "- *strategie1* : gains du choix1\n",
      "- *strategie2* : gains du choix2\n",
      "- *strategie3* : gains du choix3\n"
     ]
    },
    {
     "cell_type": "code",
     "collapsed": false,
     "input": [
      "portes=[1,2,3]\n",
      "voiture=0\n",
      "choix1=0\n",
      "choix2=0\n",
      "choix3=0\n",
      "presentateur=0\n",
      "\n",
      "strategie1=0\n",
      "strategie2=0\n",
      "strategie3=0\n",
      "\n",
      "verbose=False"
     ],
     "language": "python",
     "metadata": {},
     "outputs": [],
     "prompt_number": 109
    },
    {
     "cell_type": "code",
     "collapsed": false,
     "input": [
      "for i in range(10000):\n",
      "    voiture=randrange(3)+1\n",
      "    choix1=randrange(3)+1\n",
      "    presentateur=choice([p for p in portes if not p in [voiture, choix1]])\n",
      "    strategie1+=(choix1==voiture)\n",
      "    choix2=choice([p for p in portes if not p in [presentateur, choix1]])\n",
      "    strategie2+=(choix2==voiture)\n",
      "    choix3=choice([p for p in portes if not p in [presentateur]])\n",
      "    strategie3+=(choix3==voiture)\n",
      "    if verbose: print choix1==voiture,\":\",(voiture, choix1, presentateur),\"\\t\",choix2==voiture,\":\", (voiture, choix2, presentateur),\"\\t\",choix3==voiture,\":\", (voiture, choix3, presentateur)"
     ],
     "language": "python",
     "metadata": {},
     "outputs": [],
     "prompt_number": 110
    },
    {
     "cell_type": "code",
     "collapsed": false,
     "input": [
      "strategie1/float(i+1), strategie2/float(i+1), strategie3/float(i+1)"
     ],
     "language": "python",
     "metadata": {},
     "outputs": [
      {
       "metadata": {},
       "output_type": "pyout",
       "prompt_number": 111,
       "text": [
        "(0.3362, 0.6638, 0.4945)"
       ]
      }
     ],
     "prompt_number": 111
    },
    {
     "cell_type": "markdown",
     "metadata": {},
     "source": [
      "#Sleeping Beauty\n",
      "Le dimanche soir, alors que Aurore est endormie, on lance une pi\u00e8ce de monnaie pour un tirage \u00e0 pile ou face. Le tirage n'est pas truqu\u00e9. Le lendemain (le lundi), on r\u00e9veille Aurore et on lui pose la question :\n",
      "\n",
      "    \u00ab Quelle est la probabilit\u00e9 que la pi\u00e8ce soit tomb\u00e9e sur pile ? \u00bb\n",
      "    \n",
      "Si la pi\u00e8ce est tomb\u00e9e sur face, l'exp\u00e9rience s'arr\u00eate, si c\u2019est pile, on la rendort en lui administrant un somnif\u00e8re \u00e0 effet amn\u00e9sique qui lui fait compl\u00e8tement oublier la journ\u00e9e du lundi et on la r\u00e9veille \u00e0 nouveau le mardi pour lui reposer la m\u00eame question :\n",
      "\n",
      "    \u00ab Quelle est la probabilit\u00e9 que la pi\u00e8ce soit tomb\u00e9e sur pile ? \u00bb\n",
      "    \n",
      "\u00c0 chaque r\u00e9veil, Aurore ignore si on est lundi ou mardi mais tout le processus est connu de la princesse.\n",
      "\n",
      "Quand Aurore r\u00e9pond \u00ab La pi\u00e8ce est tomb\u00e9e sur pile \u00bb sans conna\u00eetre le jour, quelle est la probabilit\u00e9 qu'elle ait raison ?"
     ]
    },
    {
     "cell_type": "code",
     "collapsed": false,
     "input": [
      "cotes=[\"pile\",\"face\"]\n",
      "jours=[\"lundi\",\"mardi\"]\n",
      "piles=0\n",
      "for i in range(10000):\n",
      "    piece=choice(cotes)\n",
      "    if piece==\"face\":\n",
      "        jour=\"lundi\"\n",
      "    else:\n",
      "        jour=choice(jours)\n",
      "    if jour==\"lundi\":\n",
      "        if piece==\"pile\":\n",
      "            piles+=1\n",
      "    if jour==\"mardi\":\n",
      "        piles+=1\n",
      "print float(piles)/(i+1)"
     ],
     "language": "python",
     "metadata": {},
     "outputs": [
      {
       "output_type": "stream",
       "stream": "stdout",
       "text": [
        "0.4988\n"
       ]
      }
     ],
     "prompt_number": 112
    },
    {
     "cell_type": "code",
     "collapsed": false,
     "input": [
      "reveils=[\"lundi-pile\",\"lundi-face\",\"mardi-pile\"]\n",
      "piles=0\n",
      "for i in range(10000):\n",
      "    reveil=choice(reveils)\n",
      "    if \"pile\" in reveil:\n",
      "        piles+=1\n",
      "print float(piles)/(i+1)"
     ],
     "language": "python",
     "metadata": {},
     "outputs": [
      {
       "output_type": "stream",
       "stream": "stdout",
       "text": [
        "0.6657\n"
       ]
      }
     ],
     "prompt_number": 113
    }
   ],
   "metadata": {}
  }
 ]
}