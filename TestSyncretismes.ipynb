{
 "cells": [
  {
   "cell_type": "code",
   "execution_count": 58,
   "metadata": {},
   "outputs": [
    {
     "data": {
      "text/plain": [
       "['pi1S',\n",
       " 'pi2S',\n",
       " 'pi3S',\n",
       " 'pi1P',\n",
       " 'pi2P',\n",
       " 'pi3P',\n",
       " 'ii1S',\n",
       " 'ii2S',\n",
       " 'ii3S',\n",
       " 'ii1P',\n",
       " 'ii2P',\n",
       " 'ii3P']"
      ]
     },
     "execution_count": 58,
     "metadata": {},
     "output_type": "execute_result"
    }
   ],
   "source": [
    "syncretisms=[\"pi3S = pi2S\",\"ii2S = ii3S\",\"ii3S = ii3P\", \"ii1S = ii2S\"]\n",
    "cases=[a+b for a in [\"pi\", \"ii\"] for b in [\"1S\",\"2S\",\"3S\",\"1P\",\"2P\",\"3P\"]]\n",
    "cases"
   ]
  },
  {
   "cell_type": "code",
   "execution_count": 59,
   "metadata": {},
   "outputs": [],
   "source": [
    "casesParadigme=cases[:]\n",
    "reductionParadigme={}"
   ]
  },
  {
   "cell_type": "code",
   "execution_count": 43,
   "metadata": {},
   "outputs": [
    {
     "name": "stdout",
     "output_type": "stream",
     "text": [
      "not keyC pi2S\n",
      "add pi2S pi3S\n",
      "set(['pi2S', 'pi3S'])\n",
      "{'pi2S': set(['pi2S', 'pi3S'])}\n",
      "not keyC ii2S\n",
      "add ii2S ii3S\n",
      "set(['ii3S', 'ii2S'])\n",
      "{'ii2S': set(['ii3S', 'ii2S']), 'pi2S': set(['pi2S', 'pi3S'])}\n",
      "not keyC ii3P\n",
      "add ii3P ii3S\n",
      "set(['ii3S', 'ii3P'])\n",
      "{'ii3P': set(['ii3S', 'ii3P']), 'ii2S': set(['ii3S', 'ii2S']), 'pi2S': set(['pi2S', 'pi3S'])}\n",
      "not keyC ii1S\n",
      "add ii1S trans ii2S\n",
      "set(['ii3S', 'ii2S'])\n",
      "{'ii3P': set(['ii3S', 'ii3P']), 'ii1S': set(['ii3S', 'ii1S', 'ii2S']), 'pi2S': set(['pi2S', 'pi3S'])}\n",
      "3\n",
      "paradigme :  pi1S, pi2S, ii1S\n",
      "syncrétismes {'ii3P': set(['ii3S', 'ii3P']), 'ii1S': set(['ii3S', 'ii1S', 'ii2S']), 'pi2S': set(['pi2S', 'pi3S'])}\n"
     ]
    }
   ],
   "source": [
    "casesParadigme=cases[:]\n",
    "reductionParadigme={}\n",
    "for syncretism in syncretisms:\n",
    "    c1,c2=syncretism.split(\" = \")\n",
    "#    print c1,c2\n",
    "    removeC=max(c1,c2)\n",
    "    keyC=min(c1,c2)\n",
    "    if removeC in casesParadigme:\n",
    "        casesParadigme.remove(removeC)\n",
    "    if not keyC in reductionParadigme:\n",
    "        print \"not keyC\",keyC\n",
    "        if removeC in reductionParadigme:\n",
    "            print \"add %s trans %s\"%(keyC,removeC)\n",
    "            reductionParadigme[keyC]=reductionParadigme[removeC]\n",
    "            print reductionParadigme[keyC]\n",
    "            reductionParadigme[keyC].add(keyC)\n",
    "            del reductionParadigme[removeC]\n",
    "        else:\n",
    "            print \"add\", keyC,removeC\n",
    "            reductionParadigme[keyC]=set([keyC,removeC])\n",
    "            print reductionParadigme[keyC]\n",
    "    else:\n",
    "        print \"keyC\",keyC\n",
    "        if removeC in reductionParadigme:\n",
    "            print \"removeC\",reductionParadigme[removeC]\n",
    "            reductionParadigme[keyC].add(reductionParadigme[removeC])\n",
    "        else:\n",
    "            print \"not removeC\",removeC\n",
    "            reductionParadigme[keyC].add(removeC)\n",
    "    print reductionParadigme\n",
    "print len(casesParadigme)\n",
    "print 'paradigme : ',\", \".join(casesParadigme)\n",
    "print \"syncrétismes\", reductionParadigme"
   ]
  },
  {
   "cell_type": "code",
   "execution_count": 60,
   "metadata": {
    "collapsed": true
   },
   "outputs": [],
   "source": [
    "def reduceTrad(el,traductions):\n",
    "    if traductions[el]==el:\n",
    "        return el\n",
    "    else:\n",
    "        return reduceTrad(traductions[el],traductions)"
   ]
  },
  {
   "cell_type": "code",
   "execution_count": 68,
   "metadata": {},
   "outputs": [
    {
     "data": {
      "text/plain": [
       "'ii1S'"
      ]
     },
     "execution_count": 68,
     "metadata": {},
     "output_type": "execute_result"
    }
   ],
   "source": [
    "reduceTrad(\"ii2S\",reductionParadigme)"
   ]
  },
  {
   "cell_type": "code",
   "execution_count": 76,
   "metadata": {},
   "outputs": [
    {
     "name": "stdout",
     "output_type": "stream",
     "text": [
      "syncrétismes 8 {'ii1P': ['ii1P'], 'ii1S': ['ii1S', 'ii2S', 'ii3S', 'ii3P'], 'pi3P': ['pi3P'], 'ii2P': ['ii2P'], 'pi1S': ['pi1S'], 'pi1P': ['pi1P'], 'pi2S': ['pi3S', 'pi2S'], 'pi2P': ['pi2P']}\n"
     ]
    }
   ],
   "source": [
    "reductionParadigme={c:c for c in casesParadigme}\n",
    "for syncretism in syncretisms:\n",
    "    c1,c2=syncretism.split(\" = \")\n",
    "    removeC=max(c1,c2)\n",
    "    keyC=min(c1,c2)\n",
    "    if removeC in reductionParadigme:\n",
    "        if keyC in reductionParadigme:\n",
    "            key=min(reductionParadigme[keyC],reductionParadigme[removeC])\n",
    "        else:\n",
    "            key=min(keyC,reductionParadigme[removeC])\n",
    "    else:\n",
    "        if keyC in reductionParadigme:\n",
    "            key=reductionParadigme[keyC]\n",
    "        else:\n",
    "            key=keyC\n",
    "    reductionParadigme[removeC]=key\n",
    "    reductionParadigme[keyC]=key\n",
    "\n",
    "for el in reductionParadigme:\n",
    "    reductionParadigme[el]=reduceTrad(el,reductionParadigme)\n",
    "\n",
    "paradigmeReduit = {}\n",
    "for k, v in reductionParadigme.iteritems():\n",
    "    paradigmeReduit[v] = paradigmeReduit.get(v, [])\n",
    "    paradigmeReduit[v].append(k)\n",
    "print \"syncrétismes\",len(paradigmeReduit), paradigmeReduit"
   ]
  },
  {
   "cell_type": "code",
   "execution_count": 80,
   "metadata": {
    "collapsed": true
   },
   "outputs": [],
   "source": [
    "import pickle\n",
    "import pandas as pd"
   ]
  },
  {
   "cell_type": "code",
   "execution_count": 108,
   "metadata": {
    "collapsed": true
   },
   "outputs": [],
   "source": [
    "nomLexique=\"/Users/gilles/Box Sync/2015-Data/MGC-170330-01-100Ko-Tirage.pkl\"\n",
    "with open(nomLexique, 'rb') as input:\n",
    "    lexique=pickle.load(input)\n",
    "paradigmes=pd.pivot_table(lexique[lexique[\"tir1\"]>0], values='phono', index=['lexeme'], columns=['case'], aggfunc=lambda x: \",\".join(x)).reset_index().reindex()    "
   ]
  },
  {
   "cell_type": "code",
   "execution_count": 109,
   "metadata": {},
   "outputs": [
    {
     "data": {
      "text/html": [
       "<div>\n",
       "<table border=\"1\" class=\"dataframe\">\n",
       "  <thead>\n",
       "    <tr style=\"text-align: right;\">\n",
       "      <th>case</th>\n",
       "      <th>lexeme</th>\n",
       "      <th>ai1P</th>\n",
       "      <th>ai3P</th>\n",
       "    </tr>\n",
       "  </thead>\n",
       "  <tbody>\n",
       "    <tr>\n",
       "      <th>97</th>\n",
       "      <td>arrêter</td>\n",
       "      <td>arEtam</td>\n",
       "      <td>arEtEr</td>\n",
       "    </tr>\n",
       "    <tr>\n",
       "      <th>1032</th>\n",
       "      <td>rester</td>\n",
       "      <td>rEstam</td>\n",
       "      <td>rEstEr</td>\n",
       "    </tr>\n",
       "  </tbody>\n",
       "</table>\n",
       "</div>"
      ],
      "text/plain": [
       "case   lexeme    ai1P    ai3P\n",
       "97    arrêter  arEtam  arEtEr\n",
       "1032   rester  rEstam  rEstEr"
      ]
     },
     "execution_count": 109,
     "metadata": {},
     "output_type": "execute_result"
    }
   ],
   "source": [
    "c1=\"ai1P\"\n",
    "c2=\"ai3P\"\n",
    "c1Val=paradigmes[c1].notnull()\n",
    "c2Val=paradigmes[c2].notnull()\n",
    "paradigmes[c1Val & c2Val][[\"lexeme\",c1,c2]]"
   ]
  }
 ],
 "metadata": {
  "kernelspec": {
   "display_name": "Python 2",
   "language": "python",
   "name": "python2"
  },
  "language_info": {
   "codemirror_mode": {
    "name": "ipython",
    "version": 2
   },
   "file_extension": ".py",
   "mimetype": "text/x-python",
   "name": "python",
   "nbconvert_exporter": "python",
   "pygments_lexer": "ipython2",
   "version": "2.7.6"
  }
 },
 "nbformat": 4,
 "nbformat_minor": 1
}
