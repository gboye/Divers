{
 "cells": [
  {
   "cell_type": "markdown",
   "metadata": {},
   "source": [
    "# Constitution d'une liste d'adjectifs arabes à partir de corpus.quran.com\n",
    "\n",
    "Sur corpus.quran.com, on trouve une page avec une liste d'adjectifs arabes. Cette liste s'étend sur 40 pages HTML et les adjectifs sont donnés dans une table, avec leur écriture, leur  translitération et leur sens.\n",
    "\n",
    "Le script visite les 40 pages successivement et sur chaque page récupère chaque adjectif avec ses données associées (écriture, translitération, sens)."
   ]
  },
  {
   "cell_type": "markdown",
   "metadata": {},
   "source": [
    "## Préparation du traitement des pages HTML\n",
    "- préparer un navigateur => mechanicalsoup\n",
    "- définir la page d'accueil de Wiktionary"
   ]
  },
  {
   "cell_type": "markdown",
   "metadata": {},
   "source": [
    "# Corpus Quran"
   ]
  },
  {
   "cell_type": "code",
   "execution_count": 1,
   "metadata": {},
   "outputs": [],
   "source": [
    "\"\"\"Example app pour chercher des adjectifs sur Corpus.Quran.com\"\"\"\n",
    "import mechanicalsoup\n",
    "import re\n",
    "baseURL=\"https://corpus.quran.com/\"\n",
    "\n",
    "browser = mechanicalsoup.Browser()"
   ]
  },
  {
   "cell_type": "markdown",
   "metadata": {},
   "source": [
    "Défini la page de démarrage"
   ]
  },
  {
   "cell_type": "code",
   "execution_count": 2,
   "metadata": {},
   "outputs": [],
   "source": [
    "url=\"search.jsp?q=pos%3AADJ\"\n",
    "fullPage=browser.get(baseURL+url)"
   ]
  },
  {
   "cell_type": "markdown",
   "metadata": {},
   "source": [
    "Cherche la structure intéressantes sur la page en question\n",
    " - table class=\"taf\""
   ]
  },
  {
   "cell_type": "code",
   "execution_count": 3,
   "metadata": {},
   "outputs": [],
   "source": [
    "def getAdj(url):\n",
    "    fullPage=browser.get(url)\n",
    "    table=fullPage.soup.find(\"table\",class_=\"taf\")\n",
    "    adjectifsPage=[]\n",
    "    for tr in table.findAll(\"tr\"):\n",
    "        c1=tr.find(\"td\",class_=\"c1\")\n",
    "        translit=c1.find(class_=\"ab\").text\n",
    "        # print (translit)\n",
    "        traduction=tr.find(\"td\",class_=\"c2\").text\n",
    "        # print (traduction)\n",
    "        c3=tr.find(\"td\",class_=\"c3\")\n",
    "        mot=c3.find(\"span\",class_='auu').text\n",
    "        adjectifsPage.append([mot, traduction, translit])\n",
    "    return adjectifsPage           "
   ]
  },
  {
   "cell_type": "code",
   "execution_count": 4,
   "metadata": {},
   "outputs": [
    {
     "name": "stdout",
     "output_type": "stream",
     "text": [
      "https://corpus.quran.com/search.jsp?q=pos%3AADJ&s=1&page=1\n"
     ]
    }
   ],
   "source": [
    "adressePage=\"search.jsp?q=pos%3AADJ&s=1&page=\"\n",
    "print (baseURL+adressePage+str(1))"
   ]
  },
  {
   "cell_type": "code",
   "execution_count": 5,
   "metadata": {},
   "outputs": [],
   "source": [
    "adjectifsQuran=[]\n",
    "for i in range(40):\n",
    "    adjectifsQuran.extend(getAdj(baseURL+adressePage+str(i+1)))"
   ]
  },
  {
   "cell_type": "code",
   "execution_count": 6,
   "metadata": {
    "tags": []
   },
   "outputs": [],
   "source": [
    "import codecs\n",
    "with codecs.open(\"ADJ-Quran.tsv\",\"w\",encoding=\"utf8\") as outFile:\n",
    "    for l in adjectifsQuran:\n",
    "        for c in l:\n",
    "            outFile.write(c)\n",
    "            outFile.write(\"\\t\")\n",
    "        outFile.write(\"\\n\")"
   ]
  },
  {
   "cell_type": "code",
   "execution_count": null,
   "metadata": {},
   "outputs": [],
   "source": []
  }
 ],
 "metadata": {
  "kernelspec": {
   "display_name": "Python 3 (ipykernel)",
   "language": "python",
   "name": "python3"
  },
  "language_info": {
   "codemirror_mode": {
    "name": "ipython",
    "version": 3
   },
   "file_extension": ".py",
   "mimetype": "text/x-python",
   "name": "python",
   "nbconvert_exporter": "python",
   "pygments_lexer": "ipython3",
   "version": "3.9.18"
  }
 },
 "nbformat": 4,
 "nbformat_minor": 4
}
