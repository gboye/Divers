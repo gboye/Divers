{
 "cells": [
  {
   "cell_type": "code",
   "execution_count": 4,
   "metadata": {
    "collapsed": true
   },
   "outputs": [],
   "source": [
    "import codecs, unidecode"
   ]
  },
  {
   "cell_type": "code",
   "execution_count": 11,
   "metadata": {
    "collapsed": true
   },
   "outputs": [],
   "source": [
    "nomsFichier=codecs.open(\"/Users/gilles/Desktop/NomsMontaigne.txt\",\"r\",encoding=\"utf8\")\n",
    "lignes=nomsFichier.readlines()"
   ]
  },
  {
   "cell_type": "code",
   "execution_count": 19,
   "metadata": {
    "collapsed": false
   },
   "outputs": [
    {
     "name": "stdout",
     "output_type": "stream",
     "text": [
      "0 Helene.Velasco-Graciet@u-bordeaux-montaigne.fr\n",
      "1 Jean-Yves.Adam@u-bordeaux-montaigne.fr\n",
      "2 Silvia.Amorim@u-bordeaux-montaigne.fr\n",
      "3 Marie-Helene.Avril@u-bordeaux-montaigne.fr\n",
      "4 Olivier.Ballesta@u-bordeaux-montaigne.fr\n",
      "5 Susan.Barrett@u-bordeaux-montaigne.fr\n",
      "6 Alpha.Barry@u-bordeaux-montaigne.fr\n",
      "7 Pierre.Baumann@u-bordeaux-montaigne.fr\n",
      "8 Olga.Belova@u-bordeaux-montaigne.fr\n",
      "9 Ayed.Ben-Amara@u-bordeaux-montaigne.fr\n",
      "10 Olivier.Bessard-Banquy@u-bordeaux-montaigne.fr\n",
      "11 Agnes.Berland-Berthon@u-bordeaux-montaigne.fr\n",
      "12 Julien.Beziat@u-bordeaux-montaigne.fr\n",
      "13 Ana-Maria.Binet@u-bordeaux-montaigne.fr\n",
      "14 Pierre.Bourdareau@u-bordeaux-montaigne.fr\n",
      "15 Frederic.Boutoulle@u-bordeaux-montaigne.fr\n",
      "16 Martine.Bovo@u-bordeaux-montaigne.fr\n",
      "17 Gilles.Boye@u-bordeaux-montaigne.fr\n",
      "18 Beatrice.Boyer@u-bordeaux-montaigne.fr\n",
      "19 Bernard.Calas@u-bordeaux-montaigne.fr\n",
      "20 Cesar.Canales@u-bordeaux-montaigne.fr\n",
      "21 Carole.Carribon@u-bordeaux-montaigne.fr\n",
      "22 Jean.Casenave@u-bordeaux-montaigne.fr\n",
      "23 Mariella.Causa@u-bordeaux-montaigne.fr\n",
      "24 Remy.Chapoulie@u-bordeaux-montaigne.fr\n",
      "25 Martine.Charageat@u-bordeaux-montaigne.fr\n",
      "26 Chantal.Crenn@u-bordeaux-montaigne.fr\n",
      "27 Anne.Colin@u-bordeaux-montaigne.fr\n",
      "28 Cecile.Croce@u-bordeaux-montaigne.fr\n",
      "29 Lucie.Demettre@u-bordeaux-montaigne.fr\n",
      "30 Corinne.De-Thoury@u-bordeaux-montaigne.fr\n",
      "31 Marie.Dinclaux@u-bordeaux-montaigne.fr\n",
      "32 Marie-Bernadette.Dufourcet@u-bordeaux-montaigne.fr\n",
      "33 Stephanie.Durrans@u-bordeaux-montaigne.fr\n",
      "34 Bruno.Duverneuil@u-bordeaux-montaigne.fr\n",
      "35 Lucy.Edwards@u-bordeaux-montaigne.fr\n",
      "36 Alain.Escadafal@u-bordeaux-montaigne.fr\n",
      "37 Ricardo.Etxepare@u-bordeaux-montaigne.fr\n",
      "38 Sylvie.Faravel@u-bordeaux-montaigne.fr\n",
      "39 Helene.Ferbos@u-bordeaux-montaigne.fr\n",
      "40 Alexandre.Fernandez@u-bordeaux-montaigne.fr\n",
      "41 Veronique.Ferrer@u-bordeaux-montaigne.fr\n",
      "42 Lhorine.Francois@u-bordeaux-montaigne.fr\n",
      "43 Yves.Galet@u-bordeaux-montaigne.fr\n",
      "44 Pierre.Garcia@u-bordeaux-montaigne.fr\n",
      "45 Christian.Gensbeitel@u-bordeaux-montaigne.fr\n",
      "46 Cecilia.Gonzalez-Scavino@u-bordeaux-montaigne.fr\n",
      "47 Alexis.Gorgues@u-bordeaux-montaigne.fr\n",
      "48 Anne.Gossot@u-bordeaux-montaigne.fr\n",
      "49 Guillaume.Guerin@u-bordeaux-montaigne.fr\n",
      "50 Pierre.Guibert@u-bordeaux-montaigne.fr\n",
      "51 Mustapha.Jaouhari@u-bordeaux-montaigne.fr\n",
      "52 Ezechiel.Jean-Courret@u-bordeaux-montaigne.fr\n",
      "53 Valerie.Kociemba@u-bordeaux-montaigne.fr\n",
      "54 Sophie.Krausz@u-bordeaux-montaigne.fr\n",
      "55 Anna.Kupsc@u-bordeaux-montaigne.fr\n",
      "56 Nicolas.Labarre@u-bordeaux-montaigne.fr\n",
      "57 Laurence.Labrune@u-bordeaux-montaigne.fr\n",
      "58 Pierre.Laforgue@u-bordeaux-montaigne.fr\n",
      "59 Christelle.Lahaye@u-bordeaux-montaigne.fr\n",
      "60 Loic.Larmazelle@u-bordeaux-montaigne.fr\n",
      "61 Christophe.Lastecoueres@u-bordeaux-montaigne.fr\n",
      "62 Sandrine.Lavaud@u-bordeaux-montaigne.fr\n",
      "63 Beatrice.Laville@u-bordeaux-montaigne.fr\n",
      "64 Linda.Lawrance@u-bordeaux-montaigne.fr\n",
      "65 Francois-Xavier.Le-Bourdonnec@u-bordeaux-montaigne.fr\n",
      "66 Richard.Leeman@u-bordeaux-montaigne.fr\n",
      "67 Christine.Levy@u-bordeaux-montaigne.fr\n",
      "68 Marie-Christine.Lipani@u-bordeaux-montaigne.fr\n",
      "69 Elisabeth.Magne@u-bordeaux-montaigne.fr\n",
      "70 Carmela.Maltone@u-bordeaux-montaigne.fr\n",
      "71 Pascale.Massias@u-bordeaux-montaigne.fr\n",
      "72 Catherine.Mathon@u-bordeaux-montaigne.fr\n",
      "73 Pascale.Melani@u-bordeaux-montaigne.fr\n",
      "74 Catherine.Moreau@u-bordeaux-montaigne.fr\n",
      "75 Nicolas.Nercam@u-bordeaux-montaigne.fr\n",
      "76 Nicole.Ollier@u-bordeaux-montaigne.fr\n",
      "77 Kim.Sang-Ong-Van-Cung@u-bordeaux-montaigne.fr\n",
      "78 Philippe.Ortel@u-bordeaux-montaigne.fr\n",
      "79 Vincent.Parello@u-bordeaux-montaigne.fr\n",
      "80 Verane.Partensky@u-bordeaux-montaigne.fr\n",
      "81 Catherine.Pascal@u-bordeaux-montaigne.fr\n",
      "82 Florence.Pellegrini@u-bordeaux-montaigne.fr\n",
      "83 Alexandre.Peraud@u-bordeaux-montaigne.fr\n",
      "84 Dominique.Picco@u-bordeaux-montaigne.fr\n",
      "85 Alban.Pichon@u-bordeaux-montaigne.fr\n",
      "86 Francois.Pouthier@u-bordeaux-montaigne.fr\n",
      "87 Sophie.Rachmuhl@u-bordeaux-montaigne.fr\n",
      "88 Rayya.Roumanos@u-bordeaux-montaigne.fr\n",
      "89 Takaaki.Shochi@u-bordeaux-montaigne.fr\n",
      "90 Francois.Simon@u-bordeaux-montaigne.fr\n",
      "91 Karine.Sion-Jenkis@u-bordeaux-montaigne.fr\n",
      "92 Sabine.Tinchant@u-bordeaux-montaigne.fr\n",
      "93 Pascal.Tozzi@u-bordeaux-montaigne.fr\n",
      "94 Catherine.Andre@u-bordeaux-montaigne.fr\n"
     ]
    }
   ],
   "source": [
    "for l,ligne in enumerate(lignes):\n",
    "    ligne=unidecode.unidecode(ligne.strip())\n",
    "    elements=ligne.split(\" \")\n",
    "    elements=[\"-\".join([i.capitalize() for i in k.split(\"-\")]) for k in elements]\n",
    "#    prenom=\"-\".join([i.capitalize() for i in elements[0].split(\"-\")])\n",
    "    prenom=elements[0]\n",
    "    nom=\"-\".join(elements[1:])\n",
    "    print l,\"%s.%s@u-bordeaux-montaigne.fr\"%(prenom,nom)"
   ]
  }
 ],
 "metadata": {
  "kernelspec": {
   "display_name": "Python 2",
   "language": "python",
   "name": "python2"
  },
  "language_info": {
   "codemirror_mode": {
    "name": "ipython",
    "version": 2
   },
   "file_extension": ".py",
   "mimetype": "text/x-python",
   "name": "python",
   "nbconvert_exporter": "python",
   "pygments_lexer": "ipython2",
   "version": "2.7.11"
  }
 },
 "nbformat": 4,
 "nbformat_minor": 0
}
