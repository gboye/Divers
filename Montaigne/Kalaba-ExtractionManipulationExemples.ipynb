{
 "cells": [
  {
   "cell_type": "markdown",
   "metadata": {},
   "source": [
    "# Script pour générer les exemples du Kalaba final\n",
    "- à partir des exemples de Mahira\n",
    " - sélectionner la première ligne après \\\\gloses\n",
    " - supprimer les espaces entre les mots  \n",
    "- à partie des exemples de Mots\n",
    " - supprimer les environnements preview\n",
    " - supprimer les espaces entre les mots\n",
    "- à partir des déclarations\n",
    " - changer les mises en forme des noms propres\n",
    " \n",
    "Les fichiers d'entrée sont \"Exemples.tex\" et \"Mots.tex\", et \"Declarations.tex\"\n",
    "Le fichier de sortie est \"Exemples-Texte.tex\" et \"Declarations-Texte.tex\""
   ]
  },
  {
   "cell_type": "code",
   "execution_count": 47,
   "metadata": {},
   "outputs": [],
   "source": [
    "import codecs, re, string\n",
    "from os.path import expanduser\n",
    "import random as rd\n",
    "import pyperclip\n",
    "\n",
    "home = expanduser(\"~\")"
   ]
  },
  {
   "cell_type": "code",
   "execution_count": 48,
   "metadata": {},
   "outputs": [],
   "source": [
    "nKalaba=\"K5\"\n",
    "annee=\"21\"\n",
    "RightLeft=True\n",
    "repertoire=home+\"/ownCloud/Cours/Bordeaux/L1-LinguistiqueGenerale/00-ProjetKalaba/%s-%s\"%(annee,nKalaba)\n",
    "serie=repertoire+\"/\""
   ]
  },
  {
   "cell_type": "code",
   "execution_count": 49,
   "metadata": {},
   "outputs": [
    {
     "name": "stdout",
     "output_type": "stream",
     "text": [
      "RightLeft\n"
     ]
    }
   ],
   "source": [
    "beginEnv=\"\\\\begin{piece}\\n\\\\tornpaper{%\\n\\\\parbox{.95\\\\textwidth}{\\\\vspace{2ex}\"\n",
    "if \"RightLeft\" in globals() and RightLeft:\n",
    "    print \"RightLeft\"\n",
    "    beginEnv+=\"\\\\raggedleft\"\n",
    "endEnv=\"\\\\vspace{1ex}}\\n}\\n\\\\end{piece}\""
   ]
  },
  {
   "cell_type": "code",
   "execution_count": 50,
   "metadata": {},
   "outputs": [],
   "source": [
    "nomExemples=\"Exemples.tex\"\n",
    "with codecs.open(serie+nomExemples,\"r\",encoding=\"utf8\") as input:\n",
    "    lignesExemples=input.readlines()\n",
    "# print len(lignesExemples)\n",
    "\n",
    "nomMots=\"Mots.tex\"\n",
    "with codecs.open(serie+nomMots,\"r\",encoding=\"utf8\") as input:\n",
    "    lignesMots=input.readlines()\n",
    "#print len(lignesMots)\n",
    "\n",
    "nomDeclarations=\"Declarations.tex\"\n",
    "with codecs.open(serie+nomDeclarations,\"r\",encoding=\"utf8\") as input:\n",
    "    lignesDeclarations=input.readlines()\n"
   ]
  },
  {
   "cell_type": "markdown",
   "metadata": {},
   "source": [
    "# Best way to split a list into randomly sized chunks?\n",
    "- roippi's answer"
   ]
  },
  {
   "cell_type": "code",
   "execution_count": 51,
   "metadata": {},
   "outputs": [],
   "source": [
    "from itertools import islice\n",
    "from random import gauss\n",
    "\n",
    "def random_chunk(li, moyenne=3.75, var=.5):\n",
    "    it = iter(li)\n",
    "    while True:\n",
    "        nxt = list(islice(it,int(gauss(moyenne,var))))\n",
    "        if nxt:\n",
    "            yield nxt\n",
    "        else:\n",
    "            break\n"
   ]
  },
  {
   "cell_type": "raw",
   "metadata": {},
   "source": [
    "list(random_chunk(range(151)))"
   ]
  },
  {
   "cell_type": "code",
   "execution_count": 52,
   "metadata": {},
   "outputs": [],
   "source": [
    "def getChunks(chunks,point=0,min=4,max=8):\n",
    "    rChunks=[]\n",
    "    nbChunks=rd.randrange(min,max)\n",
    "    lChunk=0\n",
    "    for i in range(0,nbChunks):\n",
    "        rChunks.append(chunks[point+i])\n",
    "        lChunk+=len(chunks[point+i])\n",
    "    print lChunk\n",
    "    return rChunks"
   ]
  },
  {
   "cell_type": "code",
   "execution_count": 53,
   "metadata": {},
   "outputs": [],
   "source": [
    "mahiraExemples=[]\n",
    "for nLigne,ligne in enumerate(lignesExemples):\n",
    "#     print nLigne,ligne\n",
    "    ligne=ligne.strip()\n",
    "    if ligne==\"\\\\gloses\":\n",
    "        mahiraExemples.append(\"{}\".join(re.split(\"{} \",lignesExemples[nLigne+1])).strip())\n",
    "mahiraChunks=list(random_chunk(mahiraExemples))\n",
    "# print len(mahiraChunks)\n",
    "# print mahiraChunks"
   ]
  },
  {
   "cell_type": "code",
   "execution_count": 54,
   "metadata": {},
   "outputs": [
    {
     "name": "stdout",
     "output_type": "stream",
     "text": [
      "20\n",
      "20\n"
     ]
    }
   ],
   "source": [
    "minMahiraChunks=5\n",
    "maxMahiraChunks=9\n",
    "mahiraChunks1=getChunks(mahiraChunks,0,minMahiraChunks,maxMahiraChunks)\n",
    "\n",
    "point2=rd.randrange(maxMahiraChunks+2,len(mahiraChunks)-maxMahiraChunks)\n",
    "mahiraChunks2=getChunks(mahiraChunks,point2,minMahiraChunks,maxMahiraChunks)"
   ]
  },
  {
   "cell_type": "code",
   "execution_count": 55,
   "metadata": {},
   "outputs": [
    {
     "name": "stdout",
     "output_type": "stream",
     "text": [
      "543\n"
     ]
    }
   ],
   "source": [
    "autresExemples=[]\n",
    "lignesMots=[ligne for ligne in lignesMots if not ligne.startswith(\"%\")]\n",
    "print len(lignesMots)\n",
    "for nLigne,ligne in enumerate(lignesMots):\n",
    "    ligne=ligne.strip()\n",
    "    if nLigne%3==0:\n",
    "        ligne=ligne.replace(\"\\\\begin{preview}\",\"\")\n",
    "        ligne=ligne.replace(\"\\\\end{preview}\",\"\")\n",
    "        autresExemples.append(\"{}\".join(re.split(\"{} \",ligne))+\"\\\\\\\\\")\n",
    "autresChunks=list(random_chunk(autresExemples))"
   ]
  },
  {
   "cell_type": "code",
   "execution_count": 56,
   "metadata": {},
   "outputs": [
    {
     "name": "stdout",
     "output_type": "stream",
     "text": [
      "26\n",
      "21\n"
     ]
    }
   ],
   "source": [
    "minAutresChunks=5\n",
    "maxAutresChunks=9\n",
    "autresChunks1=getChunks(autresChunks,0,minAutresChunks,maxAutresChunks)\n",
    "\n",
    "point2=rd.randrange(maxAutresChunks+2,len(autresChunks)-maxAutresChunks)\n",
    "autresChunks2=getChunks(autresChunks,point2,minAutresChunks,maxAutresChunks)"
   ]
  },
  {
   "cell_type": "code",
   "execution_count": 57,
   "metadata": {
    "scrolled": true
   },
   "outputs": [
    {
     "name": "stdout",
     "output_type": "stream",
     "text": [
      "0 4\n",
      "1 3\n",
      "2 3\n",
      "3 4\n",
      "4 3\n",
      "5 3\n",
      "####################\n",
      "0 4\n",
      "1 3\n",
      "2 3\n",
      "3 3\n",
      "4 4\n",
      "5 3\n",
      "####################\n",
      "8\n",
      "0 4\n",
      "1 4\n",
      "2 3\n",
      "3 3\n",
      "4 3\n",
      "5 3\n",
      "6 3\n",
      "7 3\n",
      "####################\n",
      "7\n",
      "0 2\n",
      "1 3\n",
      "2 4\n",
      "3 3\n",
      "4 2\n",
      "5 4\n",
      "6 3\n"
     ]
    }
   ],
   "source": [
    "nomExemplesTexte=nomExemples.replace(\".tex\",\"-Texte.tex\")\n",
    "if nomExemplesTexte==nomExemples:\n",
    "    print \"Le nom de la sortie est le même que celui de l'entrée...\"\n",
    "else:\n",
    "    with codecs.open(serie+nomExemplesTexte,\"w\",encoding=\"utf8\") as output:\n",
    "        for nChunk,chunk in enumerate(mahiraChunks1):\n",
    "            print nChunk, len(chunk)\n",
    "            output.write(beginEnv+\"\\n\")\n",
    "            for exemple in chunk:\n",
    "                output.write(exemple+\"\\n\")\n",
    "            output.write(endEnv+\"\\n\")\n",
    "\n",
    "        print \"####################\"\n",
    "        output.write(beginEnv+\"\\n\")\n",
    "        output.write(endEnv+\"\\n\")\n",
    "        \n",
    "        for nChunk,chunk in enumerate(mahiraChunks2):\n",
    "            print nChunk, len(chunk)\n",
    "            output.write(beginEnv+\"\\n\")\n",
    "            for exemple in chunk:\n",
    "                output.write(exemple+\"\\n\")\n",
    "            output.write(endEnv+\"\\n\")\n",
    "\n",
    "        print \"####################\"\n",
    "        output.write(beginEnv+\"\\n\")\n",
    "        output.write(endEnv+\"\\n\")\n",
    "\n",
    "        print len(autresChunks1)\n",
    "        for nChunk,chunk in enumerate(autresChunks1):\n",
    "            print nChunk, len(chunk)\n",
    "            output.write(beginEnv+\"\\n\")\n",
    "            for exemple in chunk:\n",
    "                output.write(exemple+\"\\n\")\n",
    "            output.write(endEnv+\"\\n\") \n",
    "            \n",
    "        print \"####################\"\n",
    "        output.write(beginEnv+\"\\n\")\n",
    "        output.write(endEnv+\"\\n\")\n",
    "\n",
    "        print len(autresChunks2)\n",
    "        for nChunk,chunk in enumerate(autresChunks2):\n",
    "            print nChunk, len(chunk)\n",
    "            output.write(beginEnv+\"\\n\")\n",
    "            for exemple in chunk:\n",
    "                output.write(exemple+\"\\n\")\n",
    "            output.write(endEnv+\"\\n\")             "
   ]
  },
  {
   "cell_type": "code",
   "execution_count": 58,
   "metadata": {
    "scrolled": true
   },
   "outputs": [
    {
     "name": "stdout",
     "output_type": "stream",
     "text": [
      "0 4\n",
      "1 3\n",
      "2 3\n",
      "3 4\n",
      "4 3\n",
      "5 3\n",
      "6 3\n",
      "7 4\n",
      "8 3\n",
      "9 3\n",
      "10 2\n",
      "11 3\n",
      "12 3\n",
      "13 3\n",
      "14 3\n",
      "15 3\n",
      "16 3\n",
      "17 4\n",
      "18 4\n",
      "19 4\n",
      "20 3\n",
      "21 3\n",
      "22 3\n",
      "23 4\n",
      "24 3\n",
      "25 2\n",
      "26 2\n",
      "27 4\n",
      "28 4\n",
      "29 4\n",
      "30 4\n",
      "31 3\n",
      "32 3\n",
      "33 4\n",
      "34 3\n",
      "35 2\n",
      "36 4\n",
      "37 3\n",
      "38 3\n",
      "39 3\n",
      "40 4\n",
      "41 3\n",
      "42 3\n",
      "43 3\n",
      "44 3\n",
      "45 3\n",
      "46 1\n",
      "####################\n",
      "55\n",
      "0 4\n",
      "1 4\n",
      "2 3\n",
      "3 3\n",
      "4 3\n",
      "5 3\n",
      "6 3\n",
      "7 3\n",
      "8 3\n",
      "9 3\n",
      "10 3\n",
      "11 2\n",
      "12 4\n",
      "13 4\n",
      "14 3\n",
      "15 4\n",
      "16 3\n",
      "17 4\n",
      "18 3\n",
      "19 4\n",
      "20 4\n",
      "21 3\n",
      "22 3\n",
      "23 4\n",
      "24 3\n",
      "25 3\n",
      "26 4\n",
      "27 3\n",
      "28 4\n",
      "29 3\n",
      "30 4\n",
      "31 2\n",
      "32 3\n",
      "33 4\n",
      "34 3\n",
      "35 2\n",
      "36 4\n",
      "37 3\n",
      "38 3\n",
      "39 4\n",
      "40 4\n",
      "41 3\n",
      "42 3\n",
      "43 3\n",
      "44 4\n",
      "45 4\n",
      "46 4\n",
      "47 3\n",
      "48 3\n",
      "49 3\n",
      "50 3\n",
      "51 3\n",
      "52 3\n",
      "53 3\n",
      "54 3\n"
     ]
    }
   ],
   "source": [
    "nomSolutionTexte=nomExemples.replace(\".tex\",\"-Solution.tex\")\n",
    "if nomSolutionTexte==nomExemples:\n",
    "    print \"Le nom de la sortie est le même que celui de l'entrée...\"\n",
    "else:\n",
    "    with codecs.open(serie+nomSolutionTexte,\"w\",encoding=\"utf8\") as output:\n",
    "        for nChunk,chunk in enumerate(mahiraChunks):\n",
    "            print nChunk, len(chunk)\n",
    "            output.write(beginEnv+\"\\n\")\n",
    "            for exemple in chunk:\n",
    "                output.write(\"{} \".join(re.split(\"{}\",exemple)).strip()+\"\\n\")\n",
    "                output.write(\"P{} \".join(re.split(\"{}\",exemple)).strip()+\"\\n\")\n",
    "                output.write(\"G{} \".join(re.split(\"{}\",exemple)).strip()+\"\\n\")\n",
    "            output.write(endEnv+\"\\n\")\n",
    "\n",
    "        print \"####################\"\n",
    "        output.write(beginEnv+\"\\n\")\n",
    "        output.write(endEnv+\"\\n\")\n",
    "        \n",
    "        print len(autresChunks)\n",
    "        for nChunk,chunk in enumerate(autresChunks):\n",
    "            print nChunk, len(chunk)\n",
    "            output.write(beginEnv+\"\\n\")\n",
    "            for exemple in chunk:\n",
    "                output.write(\"{} \".join(re.split(\"{}\",exemple)).strip()+\"\\n\")\n",
    "                output.write(\"P{} \".join(re.split(\"{}\",exemple)).strip()+\"\\n\")\n",
    "                output.write(\"G{} \".join(re.split(\"{}\",exemple)).strip()+\"\\n\")\n",
    "            output.write(endEnv+\"\\n\") "
   ]
  },
  {
   "cell_type": "code",
   "execution_count": 59,
   "metadata": {},
   "outputs": [],
   "source": [
    "annee=\"21\"\n",
    "nKalaba=\"K5\""
   ]
  },
  {
   "cell_type": "code",
   "execution_count": 60,
   "metadata": {},
   "outputs": [
    {
     "name": "stdout",
     "output_type": "stream",
     "text": [
      "27\n",
      "18\n",
      "11\n",
      "22\n",
      "20\n",
      "29\n",
      "25\n",
      "28\n",
      "9\n",
      "32\n",
      "30\n",
      "21\n",
      "16\n",
      "23\n",
      "7\n",
      "26\n",
      "13\n",
      "3\n",
      "2\n",
      "10\n",
      "1\n",
      "14\n",
      "19\n",
      "31\n",
      "12\n",
      "6\n",
      "5\n",
      "17\n",
      "4\n"
     ]
    }
   ],
   "source": [
    "lines=[]\n",
    "nbPages=32\n",
    "iBlanks=[8,15,24]\n",
    "for i in rd.sample(range(32),32):\n",
    "    n=i+1\n",
    "    if n not in iBlanks:\n",
    "        print n\n",
    "        line=ur\"\\includegraphics[page=%d]{%s-%s-Texte.pdf}\\\\\\hdashrule[0.5ex]{\\textwidth}{1pt}{3mm}\\\\\"%(n,annee,nKalaba)\n",
    "        lines.append(line)\n",
    "pyperclip.copy(\"\\n\".join(lines))"
   ]
  },
  {
   "cell_type": "code",
   "execution_count": null,
   "metadata": {},
   "outputs": [],
   "source": []
  }
 ],
 "metadata": {
  "kernelspec": {
   "display_name": "Python 2",
   "language": "python",
   "name": "python2"
  },
  "language_info": {
   "codemirror_mode": {
    "name": "ipython",
    "version": 2
   },
   "file_extension": ".py",
   "mimetype": "text/x-python",
   "name": "python",
   "nbconvert_exporter": "python",
   "pygments_lexer": "ipython2",
   "version": "2.7.16"
  }
 },
 "nbformat": 4,
 "nbformat_minor": 1
}
