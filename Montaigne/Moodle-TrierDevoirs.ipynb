{
 "cells": [
  {
   "cell_type": "code",
   "execution_count": 1,
   "metadata": {},
   "outputs": [],
   "source": [
    "import glob,os,re,shutil"
   ]
  },
  {
   "cell_type": "code",
   "execution_count": 2,
   "metadata": {},
   "outputs": [
    {
     "data": {
      "text/plain": [
       "[]"
      ]
     },
     "execution_count": 2,
     "metadata": {},
     "output_type": "execute_result"
    }
   ],
   "source": [
    "home = os.path.expanduser(\"~\")\n",
    "repDownloads=home+\"/Downloads/\"\n",
    "devoir=u\"LNS2U2-Dépot pour les Kanoniks finalisés-120498\"\n",
    "devoir=u\"LNS6E812-Évaluations Ski et Visite incinérateur-62435 2\"\n",
    "devoir=u\"LNS2U2-Dépôt DM Kalabia-124014\"\n",
    "devoir=u\"LNS1U4-LNS1T2-Dossier Kalabia-153008\"\n",
    "devoir=u\"LNS5M21B-Dossier  Présentation de la conjugaison-160026\"\n",
    "devoir=u\"20-Dossier1\"\n",
    "dest=u\"Extrait/\"\n",
    "\n",
    "regexPref=ur\"(Kalabia-\\d\\d?)-\"\n",
    "regexRename=ur\"(Kalabia)-(\\d\\d?)\"\n",
    "regexPref=ur\"(Dossier-1 \\w)-\"\n",
    "regexRename=ur\"(Dossier-1) (\\w)\"\n",
    "\n",
    "\n",
    "repDevoir=repDownloads+devoir+\"/\"\n",
    "listURL=glob.glob(repDevoir+\"*.*\")\n",
    "listURL\n"
   ]
  },
  {
   "cell_type": "markdown",
   "metadata": {},
   "source": [
    "Raccourci pour renommer les pdf uniques avec le nom du groupe"
   ]
  },
  {
   "cell_type": "code",
   "execution_count": 3,
   "metadata": {},
   "outputs": [],
   "source": [
    "boolRename=True"
   ]
  },
  {
   "cell_type": "code",
   "execution_count": null,
   "metadata": {},
   "outputs": [],
   "source": [
    "def copyFichiers(regex,listURL):\n",
    "    etuGroupe={}\n",
    "    repGroupe={}\n",
    "    repFichiers={}\n",
    "    for url in listURL:\n",
    "        nomFichier=url.split(\"/\")[-1]\n",
    "#         print nomFichier\n",
    "        m=re.match(regex,nomFichier)\n",
    "        if m:\n",
    "            groupe=m.group(1)\n",
    "            etudiant=m.group(2)\n",
    "            if groupe not in repGroupe:\n",
    "                repGroupe[groupe]=etudiant\n",
    "                etuGroupe[groupe]=set([etudiant])\n",
    "                repFichiers[groupe]=set()\n",
    "                repFichiers[groupe].add(m.group(3))\n",
    "            elif etudiant==repGroupe[groupe]:\n",
    "                repFichiers[groupe].add(m.group(3))\n",
    "            else:\n",
    "                etuGroupe[groupe].add(etudiant)\n",
    "    for groupe in repGroupe:\n",
    "        etudiant=repGroupe[groupe]\n",
    "        print groupe,etudiant\n",
    "        for fichier in repFichiers[groupe]:\n",
    "            print repDevoir+groupe+\"-\"+etudiant+fichier\n",
    "            repertoire=repDevoir+groupe+\"/\"\n",
    "            print repertoire+fichier\n",
    "            if not os.path.exists(repertoire):\n",
    "                os.makedirs(repertoire)\n",
    "            shutil.copy2(repDevoir+groupe+\"-\"+etudiant+fichier,repDevoir+groupe+\"/\"+fichier)\n",
    "    return repGroupe,etuGroupe"
   ]
  },
  {
   "cell_type": "code",
   "execution_count": null,
   "metadata": {},
   "outputs": [],
   "source": [
    "repGroupe,etuGroupe=copyFichiers(regexPref+ur\"(.*_\\d+_assignsubmission_file_)(.*)\",listURL)"
   ]
  },
  {
   "cell_type": "code",
   "execution_count": null,
   "metadata": {},
   "outputs": [],
   "source": [
    "repGroupe"
   ]
  },
  {
   "cell_type": "markdown",
   "metadata": {},
   "source": [
    "# Renommer les pdf uniques par le nom du groupe\n",
    "- faire le ménage dans le répertoire principal avant de lancer cette partie"
   ]
  },
  {
   "cell_type": "code",
   "execution_count": null,
   "metadata": {},
   "outputs": [],
   "source": [
    "if boolRename:\n",
    "    for rep in glob.glob(repDevoir+\"*\"):\n",
    "        m=re.search(regexRename,rep.split(\"/\")[-1])\n",
    "        if m:\n",
    "            groupe=\"%s%02d\"%(m.group(1),int(m.group(2)))\n",
    "            pdfFiles=glob.glob(rep+\"/*.pdf\")\n",
    "            if len(pdfFiles)==1:\n",
    "                pdfFile=pdfFiles[0]\n",
    "                print pdfFile,repDevoir+groupe+\".pdf\"\n",
    "#                 shutil.copy2(pdfFile,repDevoir+groupe+\".pdf\")"
   ]
  },
  {
   "cell_type": "code",
   "execution_count": 4,
   "metadata": {},
   "outputs": [
    {
     "data": {
      "text/plain": [
       "u'/Users/gilles/Downloads/20-Dossier1/'"
      ]
     },
     "execution_count": 4,
     "metadata": {},
     "output_type": "execute_result"
    }
   ],
   "source": [
    "repDevoir"
   ]
  },
  {
   "cell_type": "code",
   "execution_count": 12,
   "metadata": {},
   "outputs": [
    {
     "name": "stdout",
     "output_type": "stream",
     "text": [
      "/Users/gilles/Downloads/20-Dossier1/\n"
     ]
    }
   ],
   "source": [
    "if boolRename:\n",
    "    print repDevoir\n",
    "    for nFile in glob.glob(repDevoir+\"*/*\"):\n",
    "        newName=nFile.rsplit(\"/\",1)[0]+\".pdf\"\n",
    "#         print newName\n",
    "        shutil.copy2(nFile,newName)"
   ]
  },
  {
   "cell_type": "code",
   "execution_count": null,
   "metadata": {},
   "outputs": [],
   "source": []
  }
 ],
 "metadata": {
  "kernelspec": {
   "display_name": "Python 2",
   "language": "python",
   "name": "python2"
  },
  "language_info": {
   "codemirror_mode": {
    "name": "ipython",
    "version": 2
   },
   "file_extension": ".py",
   "mimetype": "text/x-python",
   "name": "python",
   "nbconvert_exporter": "python",
   "pygments_lexer": "ipython2",
   "version": "2.7.15"
  }
 },
 "nbformat": 4,
 "nbformat_minor": 2
}
