{
 "cells": [
  {
   "cell_type": "markdown",
   "id": "9a2c233f-e122-45c7-914a-2eb9703f9f8d",
   "metadata": {},
   "source": [
    "# Mettre des liens sur les mots pour les TD de morpho\n",
    "Le package hyperref ne permet pas de bien interpréter les liens qui contiennent des caractères spéciaux (accents et autres) sans encodage à pourcent. Pour pallier ce problème, on remplace les mots à lier par un \\renvoi{encodé}{naturel} où encodé est la forme de naturel encodée pour une url (quote de urllib.parse).\n",
    "\n",
    "- repérer les mots avec regex\n",
    "- échapper les caractères accentués avec quote\n",
    "- insérer le lien avec la macro \\renvoi{}"
   ]
  },
  {
   "cell_type": "code",
   "execution_count": 134,
   "id": "05eaccb0-5661-4fa9-995d-d920310d5467",
   "metadata": {},
   "outputs": [],
   "source": [
    "import codecs,re,unidecode\n",
    "from urllib.parse import quote"
   ]
  },
  {
   "cell_type": "code",
   "execution_count": 141,
   "id": "d755557b-adc4-4e14-95ea-5979c946399d",
   "metadata": {},
   "outputs": [],
   "source": [
    "repSource=\"/Users/gilles/ownCloud/Cours/Bordeaux/L1-UE4-Morphologie/S01/\"\n",
    "fName=\"S1-EX-Decoupage.tex\""
   ]
  },
  {
   "cell_type": "code",
   "execution_count": 142,
   "id": "4ff4cafb-14b1-4eba-a257-bcf905205bed",
   "metadata": {},
   "outputs": [],
   "source": [
    "with codecs.open(repSource+fName,\"r\",encoding=\"utf8\") as inFile:\n",
    "    lines=inFile.readlines()\n",
    "lines=[l.strip() for l in lines]"
   ]
  },
  {
   "cell_type": "code",
   "execution_count": 143,
   "id": "21241d21-db94-4568-8650-e7ef0c13f7d2",
   "metadata": {},
   "outputs": [
    {
     "data": {
      "text/plain": [
       "['\\\\toprule',\n",
       " '\\\\begin{tabular}[t]{r@{ : }l}',\n",
       " '\\\\nex[1] & limaçon \\\\\\\\',\n",
       " '\\\\nex & chaton \\\\\\\\',\n",
       " '\\\\nex & paillasson \\\\\\\\',\n",
       " '\\\\nex &  carafon \\\\\\\\',\n",
       " '\\\\end{tabular}',\n",
       " '&',\n",
       " '\\\\begin{tabular}[t]{r@{ : }l}',\n",
       " '\\\\nex &  aiglon \\\\\\\\']"
      ]
     },
     "execution_count": 143,
     "metadata": {},
     "output_type": "execute_result"
    }
   ],
   "source": [
    "lines[100:110]"
   ]
  },
  {
   "cell_type": "code",
   "execution_count": 144,
   "id": "f966d8ea-3b35-448c-bc07-5cbb7e3e04ec",
   "metadata": {},
   "outputs": [],
   "source": [
    "def renvoi(m):\n",
    "    l1=m.group(1)\n",
    "    l2=m.group(2).strip()\n",
    "    l2s=re.sub(r\"\\\\[^}]+\\{(.*)\\}\",r\"\\1\",l2)\n",
    "    l2h=quote(l2s).replace(\"%\",\"\\%\")\n",
    "    l3=m.group(3)\n",
    "    return str(l1+\"\\\\renvoi{%s}{%s}\"%(l2h,l2)+l3)   "
   ]
  },
  {
   "cell_type": "code",
   "execution_count": 145,
   "id": "8a90ce10-b55b-4118-a8f4-a654568a1145",
   "metadata": {},
   "outputs": [],
   "source": [
    "result=[]\n",
    "for line in lines:\n",
    "    m=re.match(r\"(\\\\nex[^&]*&\\s*)(.*)(\\s*\\\\\\\\)\\s*\",line)\n",
    "    if m:\n",
    "        result.append(renvoi(m))\n",
    "    else:\n",
    "        result.append(line)\n"
   ]
  },
  {
   "cell_type": "raw",
   "id": "932019f7-c56f-4ae6-a739-3bf0bd31b5f4",
   "metadata": {},
   "source": [
    "print (\"\\n\".join(result))"
   ]
  },
  {
   "cell_type": "code",
   "execution_count": 146,
   "id": "5b2dac80-4bf2-4b63-a54c-148f375c9bee",
   "metadata": {},
   "outputs": [],
   "source": [
    "with codecs.open(repSource+fName.replace(\".tex\",\"-linked.tex\"),\"w\",encoding=\"utf8\") as outFile:\n",
    "    outFile.writelines(\"\\n\".join(result))"
   ]
  }
 ],
 "metadata": {
  "kernelspec": {
   "display_name": "Python 3 (ipykernel)",
   "language": "python",
   "name": "python3"
  },
  "language_info": {
   "codemirror_mode": {
    "name": "ipython",
    "version": 3
   },
   "file_extension": ".py",
   "mimetype": "text/x-python",
   "name": "python",
   "nbconvert_exporter": "python",
   "pygments_lexer": "ipython3",
   "version": "3.9.18"
  }
 },
 "nbformat": 4,
 "nbformat_minor": 5
}
