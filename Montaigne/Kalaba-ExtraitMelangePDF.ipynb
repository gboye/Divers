{
 "cells": [
  {
   "cell_type": "markdown",
   "metadata": {},
   "source": [
    "# Script pour extraire et mélanger les exemples du Kalaba final\n",
    "- Le fichier d'entrée est \"16-K5-Texte.pdf\"\n",
    "- Les fichiers de sortie sont\n",
    " - \"16-K5-Shuffle.pdf\"\n",
    " - \"16-K5-Extrait.pdf\""
   ]
  },
  {
   "cell_type": "code",
   "execution_count": 1,
   "metadata": {},
   "outputs": [],
   "source": [
    "import codecs, re, string\n",
    "from os.path import expanduser\n",
    "import random, sys\n",
    "from pyPdf import PdfFileWriter, PdfFileReader\n",
    "home = expanduser(\"~\")"
   ]
  },
  {
   "cell_type": "code",
   "execution_count": 5,
   "metadata": {},
   "outputs": [],
   "source": [
    "nKalaba=\"K5\"\n",
    "annee=\"19\"\n",
    "nPageSep=25\n",
    "repertoire=home+\"/ownCloud/Cours/Bordeaux/L1-LinguistiqueGenerale/00-ProjetKalaba/%s-%s\"%(annee,nKalaba)\n",
    "serie=repertoire+\"/\""
   ]
  },
  {
   "cell_type": "code",
   "execution_count": 6,
   "metadata": {},
   "outputs": [],
   "source": [
    "def indexConsecutifs(index):\n",
    "    if len(index)<2:\n",
    "        return False\n",
    "    else:\n",
    "        for i in range(len(index)-1):\n",
    "            if index[i]+1==index[i+1]:\n",
    "                return True\n",
    "        return False"
   ]
  },
  {
   "cell_type": "code",
   "execution_count": 7,
   "metadata": {},
   "outputs": [
    {
     "name": "stdout",
     "output_type": "stream",
     "text": [
      "4 13 6 64\n",
      "[0, 1, 2, 3, 10, 11, 12, 13, 20, 21, 22, 23, 28, 29, 30, 33, 35, 36, 37, 39, 41, 43, 44, 46, 47, 48, 49, 50, 52, 56, 57, 60]\n",
      "[0, 21, 10, 23, 1, 41, 49, 12, 47, 22, 29, 44, 30, 50, 35, 56, 2, 28, 39, 33, 52, 60, 43, 48, 13, 20, 36, 11, 46, 57, 3, 37]\n"
     ]
    }
   ],
   "source": [
    "nomTexte=\"%s-%s-Texte.pdf\"%(annee,nKalaba)\n",
    "nomExtrait=\"%s-%s-Extrait.pdf\"%(annee,nKalaba)\n",
    "nomMelange=\"%s-%s-Shuffle.pdf\"%(annee,nKalaba)\n",
    "fileTexte=open(serie+nomTexte,\"rb\")\n",
    "input = PdfFileReader(fileTexte)\n",
    "outExtrait = PdfFileWriter()\n",
    "outShuffle = PdfFileWriter()\n",
    "pages=[]\n",
    "nProp=2\n",
    "nChunks=3\n",
    "moitie=nPageSep//nProp\n",
    "chunkSize=moitie//nChunks+(moitie%nChunks!=0)\n",
    "nTrash=nPageSep-chunkSize*nChunks\n",
    "excludeSize=nTrash//(nChunks-1)\n",
    "nPagesTotal = input.getNumPages()\n",
    "print chunkSize,nTrash,excludeSize,nPagesTotal\n",
    "for n in range(nChunks):    \n",
    "    pages.extend(range(n*(excludeSize+chunkSize),n*excludeSize+(n+1)*chunkSize))\n",
    "pages.extend(random.sample(range(nPageSep+1,nPagesTotal),20))\n",
    "random.shuffle(pages)\n",
    "while indexConsecutifs(pages):\n",
    "    random.shuffle(pages)\n",
    "print sorted(pages)\n",
    "print pages"
   ]
  },
  {
   "cell_type": "code",
   "execution_count": 8,
   "metadata": {},
   "outputs": [],
   "source": [
    "fileExtrait=open(serie+nomExtrait,\"wb\")\n",
    "for i in sorted(pages):\n",
    "    outExtrait.addPage(input.getPage(i))\n",
    "outExtrait.write(fileExtrait)\n",
    "fileExtrait.close()\n",
    "\n",
    "fileMelange=open(serie+nomMelange,\"wb\")\n",
    "for i in pages:\n",
    "     outShuffle.addPage(input.getPage(i))\n",
    "outShuffle.write(fileMelange)\n",
    "fileMelange.close()"
   ]
  },
  {
   "cell_type": "code",
   "execution_count": 9,
   "metadata": {},
   "outputs": [],
   "source": [
    "nomPuzzle=\"%s-%s-Puzzle.tex\"%(annee,nKalaba)\n",
    "lines=[r\"\\documentclass{article}\",r\"\\usepackage{graphicx,geometry,dashrule}\",\n",
    "       r\"\\geometry{scale={0.95,0.95},noheadfoot} % scale={largeur,hauteur}\",\n",
    "       r\"\\begin{document}\",r\"\\pagestyle{empty}\\thispagestyle{empty}\",r\"\\noindent\\centering\"\n",
    "      ]\n",
    "for i in range(len(pages)):\n",
    "     lines.append(r\"\\includegraphics[page=%d]{%s}\\\\\\hdashrule[0.5ex]{\\textwidth}{1pt}{3mm}\\\\\"%(i+1,nomMelange))\n",
    "lines.append(r\"\\end{document}\")\n",
    "with open(serie+nomPuzzle,\"w\") as output:\n",
    "    for line in lines:\n",
    "        output.write(line+\"\\n\")"
   ]
  },
  {
   "cell_type": "code",
   "execution_count": 10,
   "metadata": {},
   "outputs": [],
   "source": [
    "nomPuzzle=\"%s-%s-PuzzleCle.tex\"%(annee,nKalaba)\n",
    "lines=[r\"\\documentclass{article}\",r\"\\usepackage{graphicx,geometry,dashrule}\",\n",
    "       r\"\\geometry{scale={0.95,0.95},noheadfoot} % scale={largeur,hauteur}\",\n",
    "       r\"\\begin{document}\",r\"\\pagestyle{empty}\\thispagestyle{empty}\",r\"\\noindent\\centering\"\n",
    "      ]\n",
    "for i in range(len(pages)):\n",
    "     lines.append(r\"\\includegraphics[page=%d]{%s}\\\\\\hdashrule[0.5ex]{\\textwidth}{1pt}{3mm}\\\\\"%(i+1,nomExtrait))\n",
    "lines.append(r\"\\end{document}\")\n",
    "with open(serie+nomPuzzle,\"w\") as output:\n",
    "    for line in lines:\n",
    "        output.write(line+\"\\n\")"
   ]
  },
  {
   "cell_type": "code",
   "execution_count": 11,
   "metadata": {},
   "outputs": [],
   "source": [
    "import random as rd"
   ]
  },
  {
   "cell_type": "code",
   "execution_count": 12,
   "metadata": {},
   "outputs": [
    {
     "name": "stdout",
     "output_type": "stream",
     "text": [
      "\\includegraphics[page=7]{19-K5-Texte.pdf}\\\\\\hdashrule[0.5ex]{\\textwidth}{1pt}{3mm}\\\\\n",
      "\\includegraphics[page=37]{19-K5-Texte.pdf}\\\\\\hdashrule[0.5ex]{\\textwidth}{1pt}{3mm}\\\\\n",
      "\\includegraphics[page=4]{19-K5-Texte.pdf}\\\\\\hdashrule[0.5ex]{\\textwidth}{1pt}{3mm}\\\\\n",
      "\\includegraphics[page=33]{19-K5-Texte.pdf}\\\\\\hdashrule[0.5ex]{\\textwidth}{1pt}{3mm}\\\\\n",
      "\\includegraphics[page=14]{19-K5-Texte.pdf}\\\\\\hdashrule[0.5ex]{\\textwidth}{1pt}{3mm}\\\\\n",
      "\\includegraphics[page=2]{19-K5-Texte.pdf}\\\\\\hdashrule[0.5ex]{\\textwidth}{1pt}{3mm}\\\\\n",
      "\\includegraphics[page=19]{19-K5-Texte.pdf}\\\\\\hdashrule[0.5ex]{\\textwidth}{1pt}{3mm}\\\\\n",
      "\\includegraphics[page=31]{19-K5-Texte.pdf}\\\\\\hdashrule[0.5ex]{\\textwidth}{1pt}{3mm}\\\\\n",
      "\\includegraphics[page=3]{19-K5-Texte.pdf}\\\\\\hdashrule[0.5ex]{\\textwidth}{1pt}{3mm}\\\\\n",
      "\\includegraphics[page=9]{19-K5-Texte.pdf}\\\\\\hdashrule[0.5ex]{\\textwidth}{1pt}{3mm}\\\\\n",
      "\\includegraphics[page=28]{19-K5-Texte.pdf}\\\\\\hdashrule[0.5ex]{\\textwidth}{1pt}{3mm}\\\\\n",
      "\\includegraphics[page=11]{19-K5-Texte.pdf}\\\\\\hdashrule[0.5ex]{\\textwidth}{1pt}{3mm}\\\\\n",
      "\\includegraphics[page=16]{19-K5-Texte.pdf}\\\\\\hdashrule[0.5ex]{\\textwidth}{1pt}{3mm}\\\\\n",
      "\\includegraphics[page=24]{19-K5-Texte.pdf}\\\\\\hdashrule[0.5ex]{\\textwidth}{1pt}{3mm}\\\\\n",
      "\\includegraphics[page=10]{19-K5-Texte.pdf}\\\\\\hdashrule[0.5ex]{\\textwidth}{1pt}{3mm}\\\\\n",
      "\\includegraphics[page=12]{19-K5-Texte.pdf}\\\\\\hdashrule[0.5ex]{\\textwidth}{1pt}{3mm}\\\\\n",
      "\\includegraphics[page=25]{19-K5-Texte.pdf}\\\\\\hdashrule[0.5ex]{\\textwidth}{1pt}{3mm}\\\\\n",
      "\\includegraphics[page=21]{19-K5-Texte.pdf}\\\\\\hdashrule[0.5ex]{\\textwidth}{1pt}{3mm}\\\\\n",
      "\\includegraphics[page=18]{19-K5-Texte.pdf}\\\\\\hdashrule[0.5ex]{\\textwidth}{1pt}{3mm}\\\\\n",
      "\\includegraphics[page=20]{19-K5-Texte.pdf}\\\\\\hdashrule[0.5ex]{\\textwidth}{1pt}{3mm}\\\\\n",
      "\\includegraphics[page=22]{19-K5-Texte.pdf}\\\\\\hdashrule[0.5ex]{\\textwidth}{1pt}{3mm}\\\\\n",
      "\\includegraphics[page=13]{19-K5-Texte.pdf}\\\\\\hdashrule[0.5ex]{\\textwidth}{1pt}{3mm}\\\\\n",
      "\\includegraphics[page=5]{19-K5-Texte.pdf}\\\\\\hdashrule[0.5ex]{\\textwidth}{1pt}{3mm}\\\\\n",
      "\\includegraphics[page=34]{19-K5-Texte.pdf}\\\\\\hdashrule[0.5ex]{\\textwidth}{1pt}{3mm}\\\\\n",
      "\\includegraphics[page=36]{19-K5-Texte.pdf}\\\\\\hdashrule[0.5ex]{\\textwidth}{1pt}{3mm}\\\\\n",
      "\\includegraphics[page=6]{19-K5-Texte.pdf}\\\\\\hdashrule[0.5ex]{\\textwidth}{1pt}{3mm}\\\\\n",
      "\\includegraphics[page=32]{19-K5-Texte.pdf}\\\\\\hdashrule[0.5ex]{\\textwidth}{1pt}{3mm}\\\\\n",
      "\\includegraphics[page=23]{19-K5-Texte.pdf}\\\\\\hdashrule[0.5ex]{\\textwidth}{1pt}{3mm}\\\\\n",
      "\\includegraphics[page=30]{19-K5-Texte.pdf}\\\\\\hdashrule[0.5ex]{\\textwidth}{1pt}{3mm}\\\\\n",
      "\\includegraphics[page=8]{19-K5-Texte.pdf}\\\\\\hdashrule[0.5ex]{\\textwidth}{1pt}{3mm}\\\\\n",
      "\\includegraphics[page=26]{19-K5-Texte.pdf}\\\\\\hdashrule[0.5ex]{\\textwidth}{1pt}{3mm}\\\\\n",
      "\\includegraphics[page=1]{19-K5-Texte.pdf}\\\\\\hdashrule[0.5ex]{\\textwidth}{1pt}{3mm}\\\\\n",
      "\\includegraphics[page=35]{19-K5-Texte.pdf}\\\\\\hdashrule[0.5ex]{\\textwidth}{1pt}{3mm}\\\\\n",
      "\\includegraphics[page=15]{19-K5-Texte.pdf}\\\\\\hdashrule[0.5ex]{\\textwidth}{1pt}{3mm}\\\\\n",
      "\\includegraphics[page=17]{19-K5-Texte.pdf}\\\\\\hdashrule[0.5ex]{\\textwidth}{1pt}{3mm}\\\\\n",
      "\\includegraphics[page=29]{19-K5-Texte.pdf}\\\\\\hdashrule[0.5ex]{\\textwidth}{1pt}{3mm}\\\\\n",
      "\\includegraphics[page=27]{19-K5-Texte.pdf}\\\\\\hdashrule[0.5ex]{\\textwidth}{1pt}{3mm}\\\\\n"
     ]
    }
   ],
   "source": [
    "pages=[i+1 for i in range(37)]\n",
    "rd.shuffle(pages)\n",
    "for page in pages:\n",
    "    print ur\"\\includegraphics[page=%d]{%s-%s-Texte.pdf}\\\\\\hdashrule[0.5ex]{\\textwidth}{1pt}{3mm}\\\\\"%(page,annee,nKalaba)"
   ]
  },
  {
   "cell_type": "code",
   "execution_count": null,
   "metadata": {},
   "outputs": [],
   "source": []
  }
 ],
 "metadata": {
  "kernelspec": {
   "display_name": "Python 2",
   "language": "python",
   "name": "python2"
  },
  "language_info": {
   "codemirror_mode": {
    "name": "ipython",
    "version": 2
   },
   "file_extension": ".py",
   "mimetype": "text/x-python",
   "name": "python",
   "nbconvert_exporter": "python",
   "pygments_lexer": "ipython2",
   "version": "2.7.15"
  }
 },
 "nbformat": 4,
 "nbformat_minor": 1
}
