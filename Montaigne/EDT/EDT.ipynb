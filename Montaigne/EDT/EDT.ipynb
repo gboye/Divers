{
 "cells": [
  {
   "cell_type": "code",
   "execution_count": 103,
   "id": "27250b14-4ebb-4b8c-a6af-34680159f424",
   "metadata": {},
   "outputs": [],
   "source": [
    "import pandas as pd\n",
    "import datetime\n",
    "import locale\n",
    "locale.setlocale(locale.LC_ALL, 'fr_FR')\n",
    "\n",
    "from icalendar import Calendar, Event"
   ]
  },
  {
   "cell_type": "code",
   "execution_count": 104,
   "id": "c17cd9b6-92a3-4344-8e27-954860849749",
   "metadata": {},
   "outputs": [],
   "source": [
    "sJours = ['lundi', 'mardi', 'mercredi', 'jeudi', 'vendredi', 'samedi', 'dimanche']\n",
    "dJours = {'lundi':datetime.datetime.strptime(\"02/09/24\",\"%d/%m/%y\"),\n",
    "          'mardi':datetime.datetime.strptime(\"03/09/24\",\"%d/%m/%y\"),\n",
    "          'mercredi':datetime.datetime.strptime(\"04/09/24\",\"%d/%m/%y\"),\n",
    "          'jeudi':datetime.datetime.strptime(\"05/09/24\",\"%d/%m/%y\"), \n",
    "          'vendredi':datetime.datetime.strptime(\"06/09/24\",\"%d/%m/%y\"), \n",
    "          'samedi':datetime.datetime.strptime(\"07/09/24\",\"%d/%m/%y\"),\n",
    "          'dimanche':datetime.datetime.strptime(\"08/09/24\",\"%d/%m/%y\")}"
   ]
  },
  {
   "cell_type": "code",
   "execution_count": 105,
   "id": "8e75bdd2-95b6-4331-924c-37396897ec33",
   "metadata": {},
   "outputs": [],
   "source": [
    "fEDT=\"24-EdT-SDL.xlsx\"\n",
    "xEDT=pd.ExcelFile(fEDT)"
   ]
  },
  {
   "cell_type": "code",
   "execution_count": 106,
   "id": "5521d7e6-bbaf-4812-8f68-fbf0a6a779c9",
   "metadata": {},
   "outputs": [
    {
     "data": {
      "text/plain": [
       "'Département, Licence 1 Sciences du langage, Licence 2 Sciences du langage, Licence 3 Sciences du langage, Master 1 Sciences du langage, Master 2 Langues et langage, Master 2 Plurilinguisme, Master 2 Linguistique A.O, M1 Plurilinguisme DD, M2 Plurilinguisme DD, Master 1 DiFLES ingénieries de , Master 2 DiFLES ingénieries de , Master 1 DD FLE Naples, Master 2 DD Naples, DU EDILE, DU FLES, DU FLES (FAD), DU LSF'"
      ]
     },
     "execution_count": 106,
     "metadata": {},
     "output_type": "execute_result"
    }
   ],
   "source": [
    "\", \".join(xEDT.sheet_names)"
   ]
  },
  {
   "cell_type": "code",
   "execution_count": 107,
   "id": "d8f1a496-e9b2-4173-bec5-5e3daab24e7e",
   "metadata": {},
   "outputs": [],
   "source": [
    "def readEDT(sheetName):\n",
    "    dfXL=pd.read_excel(xEDT,sheetName,skiprows=2)\n",
    "    dfXL=dfXL[dfXL.JOUR.notnull()].copy()\n",
    "    dfXL.rename({\" H Début\":\"deb\",\"Hfin\":\"fin\",\"N°semaine\":\"semaines\",\n",
    "                 \"Besoin en salle\":\"équip\",\"Observations\":\"obs\"},axis=1,inplace=True)\n",
    "    dfXL.columns=[c.lower() for c in dfXL.columns]\n",
    "    # print(dfXL1.columns)\n",
    "    dfXL[\"code\"]=dfXL[\"code\"].ffill()\n",
    "    dfXL[\"libellé\"]=dfXL[\"libellé\"].ffill()\n",
    "    dfXL[\"jour\"]=pd.Categorical(dfXL[\"jour\"],categories=sJours,ordered=True)\n",
    "    dfXL.loc[~(dfXL.deb.str.startswith(\"1\")),\"deb\"]=\"0\"+dfXL.deb\n",
    "    dfXL.loc[~(dfXL.fin.str.startswith(\"1\")),\"fin\"]=\"0\"+dfXL.fin\n",
    "    dfXL.loc[:,\"deb\"]=dfXL.deb.str.replace(\"h\",\":\")\n",
    "    dfXL.loc[:,\"fin\"]=dfXL.fin.str.replace(\"h\",\":\")\n",
    "    dfXL.loc[:,\"deb\"]=dfXL.deb.str.replace(\"H\",\":\")\n",
    "    dfXL.loc[:,\"fin\"]=dfXL.fin.str.replace(\"H\",\":\")\n",
    "    dfXL.loc[dfXL.type==\"CM\",\"groupe\"]=\"CM\"\n",
    "    return dfXL[\"code libellé enseignant groupe jour deb fin semaines équip obs\".split(\" \")]"
   ]
  },
  {
   "cell_type": "code",
   "execution_count": 109,
   "id": "9c66f90c-baa6-44fd-8f0a-664737763471",
   "metadata": {},
   "outputs": [
    {
     "name": "stderr",
     "output_type": "stream",
     "text": [
      "/var/folders/dy/h2nycthd7qjbd6qkb5h8t0nm0000gn/T/ipykernel_49789/1292407992.py:17: FutureWarning:\n",
      "\n",
      "Setting an item of incompatible dtype is deprecated and will raise an error in a future version of pandas. Value 'CM' has dtype incompatible with float64, please explicitly cast to a compatible dtype first.\n",
      "\n"
     ]
    }
   ],
   "source": [
    "dfL1=readEDT(\"Licence 1 Sciences du langage\")\n",
    "dfL2=readEDT(\"Licence 2 Sciences du langage\")\n",
    "dfL3=readEDT(\"Licence 3 Sciences du langage\")\n",
    "dfM1=readEDT(\"Master 1 Sciences du langage\")\n",
    "dfM2=readEDT(\"Master 2 Langues et langage\")\n",
    "df=pd.concat([dfL1,dfL2,dfL3,dfM1,dfM2])"
   ]
  },
  {
   "cell_type": "code",
   "execution_count": 111,
   "id": "dca17caa-bbd7-4957-a78b-503f5ef69ec6",
   "metadata": {},
   "outputs": [
    {
     "data": {
      "text/html": [
       "<div>\n",
       "<style scoped>\n",
       "    .dataframe tbody tr th:only-of-type {\n",
       "        vertical-align: middle;\n",
       "    }\n",
       "\n",
       "    .dataframe tbody tr th {\n",
       "        vertical-align: top;\n",
       "    }\n",
       "\n",
       "    .dataframe thead th {\n",
       "        text-align: right;\n",
       "    }\n",
       "</style>\n",
       "<table border=\"1\" class=\"dataframe\">\n",
       "  <thead>\n",
       "    <tr style=\"text-align: right;\">\n",
       "      <th></th>\n",
       "      <th></th>\n",
       "      <th></th>\n",
       "      <th>code</th>\n",
       "      <th>libellé</th>\n",
       "      <th>enseignant</th>\n",
       "      <th>groupe</th>\n",
       "      <th>semaines</th>\n",
       "      <th>équip</th>\n",
       "      <th>obs</th>\n",
       "    </tr>\n",
       "    <tr>\n",
       "      <th>jour</th>\n",
       "      <th>deb</th>\n",
       "      <th>fin</th>\n",
       "      <th></th>\n",
       "      <th></th>\n",
       "      <th></th>\n",
       "      <th></th>\n",
       "      <th></th>\n",
       "      <th></th>\n",
       "      <th></th>\n",
       "    </tr>\n",
       "  </thead>\n",
       "  <tbody>\n",
       "    <tr>\n",
       "      <th rowspan=\"3\" valign=\"top\">mardi</th>\n",
       "      <th rowspan=\"2\" valign=\"top\">13:30</th>\n",
       "      <th>15:30</th>\n",
       "      <td>2MNTM413</td>\n",
       "      <td>ECUE Données et modèles en linguistique japonaise</td>\n",
       "      <td>Laurence Labrune</td>\n",
       "      <td>NaN</td>\n",
       "      <td>9</td>\n",
       "      <td>VP</td>\n",
       "      <td>à partir s.4</td>\n",
       "    </tr>\n",
       "    <tr>\n",
       "      <th>15:30</th>\n",
       "      <td>2MNTM413</td>\n",
       "      <td>ECUE Données et modèles en linguistique japonaise</td>\n",
       "      <td>Laurence Labrune</td>\n",
       "      <td>NaN</td>\n",
       "      <td>9</td>\n",
       "      <td>VP</td>\n",
       "      <td>à partir s.4</td>\n",
       "    </tr>\n",
       "    <tr>\n",
       "      <th>15:30</th>\n",
       "      <th>18:30</th>\n",
       "      <td>2MNTY1</td>\n",
       "      <td>UE Théories et modèles en syntaxe et en phonol...</td>\n",
       "      <td>Nicolas Guilliot/Laurence Labrune</td>\n",
       "      <td>CM</td>\n",
       "      <td>12</td>\n",
       "      <td>VP</td>\n",
       "      <td>à partir s.4</td>\n",
       "    </tr>\n",
       "    <tr>\n",
       "      <th rowspan=\"2\" valign=\"top\">mercredi</th>\n",
       "      <th>13:30</th>\n",
       "      <th>15:30</th>\n",
       "      <td>4LNSE11</td>\n",
       "      <td>ECUE Phonologie 1</td>\n",
       "      <td>Laurence Labrune</td>\n",
       "      <td>NaN</td>\n",
       "      <td>12</td>\n",
       "      <td>Jean Loiseau 310</td>\n",
       "      <td>NaN</td>\n",
       "    </tr>\n",
       "    <tr>\n",
       "      <th>15:30</th>\n",
       "      <th>17:30</th>\n",
       "      <td>4LNSE11</td>\n",
       "      <td>ECUE Phonologie 1</td>\n",
       "      <td>Laurence Labrune</td>\n",
       "      <td>NaN</td>\n",
       "      <td>12</td>\n",
       "      <td>Jean Loiseau 310</td>\n",
       "      <td>NaN</td>\n",
       "    </tr>\n",
       "  </tbody>\n",
       "</table>\n",
       "</div>"
      ],
      "text/plain": [
       "                          code  \\\n",
       "jour     deb   fin               \n",
       "mardi    13:30 15:30  2MNTM413   \n",
       "               15:30  2MNTM413   \n",
       "         15:30 18:30    2MNTY1   \n",
       "mercredi 13:30 15:30   4LNSE11   \n",
       "         15:30 17:30   4LNSE11   \n",
       "\n",
       "                                                                libellé  \\\n",
       "jour     deb   fin                                                        \n",
       "mardi    13:30 15:30  ECUE Données et modèles en linguistique japonaise   \n",
       "               15:30  ECUE Données et modèles en linguistique japonaise   \n",
       "         15:30 18:30  UE Théories et modèles en syntaxe et en phonol...   \n",
       "mercredi 13:30 15:30                                  ECUE Phonologie 1   \n",
       "         15:30 17:30                                  ECUE Phonologie 1   \n",
       "\n",
       "                                             enseignant groupe semaines  \\\n",
       "jour     deb   fin                                                        \n",
       "mardi    13:30 15:30                   Laurence Labrune    NaN        9   \n",
       "               15:30                   Laurence Labrune    NaN        9   \n",
       "         15:30 18:30  Nicolas Guilliot/Laurence Labrune     CM       12   \n",
       "mercredi 13:30 15:30                   Laurence Labrune    NaN       12   \n",
       "         15:30 17:30                   Laurence Labrune    NaN       12   \n",
       "\n",
       "                                 équip            obs  \n",
       "jour     deb   fin                                     \n",
       "mardi    13:30 15:30                VP   à partir s.4  \n",
       "               15:30                VP   à partir s.4  \n",
       "         15:30 18:30                VP  à partir s.4   \n",
       "mercredi 13:30 15:30  Jean Loiseau 310            NaN  \n",
       "         15:30 17:30  Jean Loiseau 310            NaN  "
      ]
     },
     "execution_count": 111,
     "metadata": {},
     "output_type": "execute_result"
    }
   ],
   "source": [
    "df[(df.code.str[0].isin(list(\"246\")))&df.enseignant.str.contains(\"Labrune\")].sort_values([\"jour\",\"deb\",\"fin\"]).set_index([\"jour\",\"deb\",\"fin\"])"
   ]
  },
  {
   "cell_type": "code",
   "execution_count": null,
   "id": "7b7d8ddc-0923-4a3e-ba87-7a277d866cae",
   "metadata": {},
   "outputs": [],
   "source": []
  }
 ],
 "metadata": {
  "kernelspec": {
   "display_name": "Python 3 (ipykernel)",
   "language": "python",
   "name": "python3"
  },
  "language_info": {
   "codemirror_mode": {
    "name": "ipython",
    "version": 3
   },
   "file_extension": ".py",
   "mimetype": "text/x-python",
   "name": "python",
   "nbconvert_exporter": "python",
   "pygments_lexer": "ipython3",
   "version": "3.11.8"
  }
 },
 "nbformat": 4,
 "nbformat_minor": 5
}
