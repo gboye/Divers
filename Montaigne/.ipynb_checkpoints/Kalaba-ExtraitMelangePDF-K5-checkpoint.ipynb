{
 "cells": [
  {
   "cell_type": "markdown",
   "metadata": {},
   "source": [
    "# Répartition des papiers déchirés entre le devoir et les fichiers complémentaires\n",
    "- Le fichier d'entrée est \"AA-K5-Texte.pdf\"\n",
    "- Les fichiers de sortie sont\n",
    " - AA-K5-Devoir.tex\n",
    " - AA-K5-Devoir-Comp-K1.tex\n",
    " - AA-K5-Devoir-Comp-K2.tex\n",
    " - AA-K5-Devoir-Comp-K3.tex\n",
    " - AA-K5-Devoir-Comp-K4.tex\n",
    " - AA-K5-Devoir-Comp-K5.tex"
   ]
  },
  {
   "cell_type": "markdown",
   "metadata": {},
   "source": [
    "## Préparation K5\n",
    "Pour la préparation des pièces de puzzle pour le kalaba de Kalabia, il faut mettre compte Phrases-A1-agathos.csv comme fichier Phrases.csv et Phrases-A1-mahira.csv comme fichier Mots.csv dans la chaîne principale du kalaba.\n",
    "\n",
    "Après ça, il y a d'autres étapes spécifiques.\n",
    "1. la coloration des noms propres\n",
    "1. la préparation des exemples pour les papiers déchirés\n",
    "1. la compilation de AA-K5-Texte.tex pour produire le PDF de référence avec les papiers déchirés\n",
    "1. la répartition des papiers entre les 6 fichiers : \n",
    " - AA-K5-Devoir.tex\n",
    " - AA-K5-Devoir-Comp-K1.tex\n",
    " - AA-K5-Devoir-Comp-K2.tex\n",
    " - AA-K5-Devoir-Comp-K3.tex\n",
    " - AA-K5-Devoir-Comp-K4.tex\n",
    " - AA-K5-Devoir-Comp-K5.tex"
   ]
  },
  {
   "cell_type": "code",
   "execution_count": 2,
   "metadata": {},
   "outputs": [],
   "source": [
    "import codecs, re, string\n",
    "from os.path import expanduser\n",
    "import random, sys\n",
    "import numpy as np\n",
    "from pyPdf import PdfFileWriter, PdfFileReader\n",
    "home = expanduser(\"~\")"
   ]
  },
  {
   "cell_type": "code",
   "execution_count": 3,
   "metadata": {},
   "outputs": [],
   "source": [
    "nKalaba=\"K5\"\n",
    "annee=\"22\"\n",
    "repertoire=home+\"/ownCloud/Cours/Bordeaux/L1-LinguistiqueGenerale/00-ProjetKalaba/%s-%s\"%(annee,nKalaba)\n",
    "serie=repertoire+\"/\""
   ]
  },
  {
   "cell_type": "markdown",
   "metadata": {},
   "source": [
    "# Best way to split a list into randomly sized chunks?\n",
    "- roippi's answer"
   ]
  },
  {
   "cell_type": "code",
   "execution_count": 12,
   "metadata": {},
   "outputs": [],
   "source": [
    "from itertools import islice\n",
    "from random import gauss\n",
    "\n",
    "# def random_chunk(li, moyenne=3.75, var=.5):\n",
    "#     it = iter(li)\n",
    "#     while True:\n",
    "#         nxt = list(islice(it,int(gauss(moyenne,var))))\n",
    "#         if nxt:\n",
    "#             yield nxt\n",
    "#         else:\n",
    "#             break\n",
    "\n",
    "def getChunk(chunks,point=0,min=4,max=8):\n",
    "    rChunks=[]\n",
    "    nbChunks=random.randrange(min,max)\n",
    "    lChunk=0\n",
    "    for i in range(0,nbChunks):\n",
    "        rChunks.append(chunks[point+i])\n",
    "        lChunk+=len(chunks[point+i])\n",
    "#     print lChunk\n",
    "    return rChunks\n",
    "\n",
    "def getChunks(chunks,point=0,min=4,max=8):\n",
    "    result=[]\n",
    "    lChunks=len(chunks)\n",
    "    cPoint=point\n",
    "    while cPoint<lChunks-max:\n",
    "        cChunk=getChunk(chunks,cPoint,min, max)\n",
    "        result.append(cChunk)\n",
    "        cPoint+=len(cChunk)\n",
    "    if chunks[cPoint:]:\n",
    "        result.append(chunks[cPoint:])\n",
    "    return result"
   ]
  },
  {
   "cell_type": "code",
   "execution_count": 27,
   "metadata": {},
   "outputs": [],
   "source": [
    "pSep=[48,95]\n",
    "lChunks0=[str(i+1) for i in range(pSep[0]-1)]\n",
    "pChunks=getChunks(lChunks0,0,2,5)\n",
    "lChunks1=[str(i+1) for i in range(pSep[0],pSep[1]-1)]\n",
    "pChunks+=getChunks(lChunks1,0,2,5)\n",
    "\n",
    "cDevoir=[c for n,c in enumerate(pChunks) if n%2==0]\n",
    "pDevoir=[int(i) for c in cDevoir for i in c ]\n",
    "cComp=[c for n,c in enumerate(pChunks) if n%2==1]\n",
    "pComp=[int(i) for c in cComp for i in c]\n"
   ]
  },
  {
   "cell_type": "code",
   "execution_count": 28,
   "metadata": {},
   "outputs": [
    {
     "data": {
      "text/plain": [
       "[1,\n",
       " 2,\n",
       " 3,\n",
       " 4,\n",
       " 8,\n",
       " 9,\n",
       " 10,\n",
       " 15,\n",
       " 16,\n",
       " 17,\n",
       " 21,\n",
       " 22,\n",
       " 26,\n",
       " 27,\n",
       " 28,\n",
       " 29,\n",
       " 32,\n",
       " 33,\n",
       " 34,\n",
       " 37,\n",
       " 38,\n",
       " 39,\n",
       " 42,\n",
       " 43,\n",
       " 44,\n",
       " 45,\n",
       " 49,\n",
       " 50,\n",
       " 53,\n",
       " 54,\n",
       " 55,\n",
       " 56,\n",
       " 61,\n",
       " 62,\n",
       " 63,\n",
       " 64,\n",
       " 69,\n",
       " 70,\n",
       " 74,\n",
       " 75,\n",
       " 76,\n",
       " 81,\n",
       " 82,\n",
       " 87,\n",
       " 88,\n",
       " 89]"
      ]
     },
     "execution_count": 28,
     "metadata": {},
     "output_type": "execute_result"
    }
   ],
   "source": [
    "pDevoir"
   ]
  },
  {
   "cell_type": "code",
   "execution_count": 29,
   "metadata": {},
   "outputs": [
    {
     "data": {
      "text/plain": [
       "[5,\n",
       " 6,\n",
       " 7,\n",
       " 11,\n",
       " 12,\n",
       " 13,\n",
       " 14,\n",
       " 18,\n",
       " 19,\n",
       " 20,\n",
       " 23,\n",
       " 24,\n",
       " 25,\n",
       " 30,\n",
       " 31,\n",
       " 35,\n",
       " 36,\n",
       " 40,\n",
       " 41,\n",
       " 46,\n",
       " 47,\n",
       " 51,\n",
       " 52,\n",
       " 57,\n",
       " 58,\n",
       " 59,\n",
       " 60,\n",
       " 65,\n",
       " 66,\n",
       " 67,\n",
       " 68,\n",
       " 71,\n",
       " 72,\n",
       " 73,\n",
       " 77,\n",
       " 78,\n",
       " 79,\n",
       " 80,\n",
       " 83,\n",
       " 84,\n",
       " 85,\n",
       " 86,\n",
       " 90,\n",
       " 91,\n",
       " 92,\n",
       " 93,\n",
       " 94]"
      ]
     },
     "execution_count": 29,
     "metadata": {},
     "output_type": "execute_result"
    }
   ],
   "source": [
    "pComp"
   ]
  },
  {
   "cell_type": "raw",
   "metadata": {},
   "source": [
    "# pDevoir=range(4,12)+range(16,24)+range(28,29)+range(33,41)\\\n",
    "#         +range(46,50)+range(58,63)+range(64,69)+range(77,81)+range(89,94)\n",
    "# pComp=range(0,4)+range(12,16)+range(24,28)+range(29,33)+range(41,45)\\\n",
    "#         +range(50,58)+range(63,64)+range(69,77)+range(81,89)\n",
    "\n",
    "# pDevoir=[p+1 for p in pDevoir]\n",
    "# pComp=[p+1 for p in pComp]"
   ]
  },
  {
   "cell_type": "code",
   "execution_count": 30,
   "metadata": {},
   "outputs": [
    {
     "name": "stdout",
     "output_type": "stream",
     "text": [
      "[26, 16, 87, 64, 55, 45, 15, 37, 29, 53, 34, 56, 49, 54, 50, 4, 17, 81, 76, 82, 38, 21, 89, 88, 39, 1, 62, 43, 42, 2, 33, 69, 70, 44, 28, 22, 27, 61, 8, 32, 74, 10, 3, 75, 63, 9]\n"
     ]
    }
   ],
   "source": [
    "rDevoir=random.sample(pDevoir,len(pDevoir))\n",
    "rComp=random.sample(pComp,len(pComp))\n",
    "print rDevoir"
   ]
  },
  {
   "cell_type": "code",
   "execution_count": 31,
   "metadata": {},
   "outputs": [],
   "source": [
    "nomTexte=\"%s-%s-Texte.pdf\"%(annee,nKalaba)\n",
    "nomDevoir=\"%s-%s-Devoir.tex\"%(annee,nKalaba)\n",
    "nomDevoirCle=\"%s-%s-DevoirCle.tex\"%(annee,nKalaba)\n",
    "nomCompCle=\"%s-%s-Devoir-CompCle.tex\"%(annee,nKalaba)\n",
    "# nomCompCle=\"%s-%s-Devoir-Comp.tex\"%(annee,nKalaba)"
   ]
  },
  {
   "cell_type": "markdown",
   "metadata": {},
   "source": [
    "# Génération Devoir (exemples mélangés)"
   ]
  },
  {
   "cell_type": "code",
   "execution_count": 32,
   "metadata": {},
   "outputs": [],
   "source": [
    "lines=[r\"\\documentclass{article}\",r\"\\usepackage{graphicx,geometry,dashrule}\",\n",
    "       r\"\\geometry{scale={0.95,0.95},noheadfoot} % scale={largeur,hauteur}\",\n",
    "       r\"\\begin{document}\",r\"\\pagestyle{empty}\\thispagestyle{empty}\",r\"\\noindent\\centering\"\n",
    "      ]\n",
    "for i in rDevoir:\n",
    "     lines.append(r\"\\includegraphics[page=%d]{%s}\\\\\\hdashrule[0.5ex]{\\textwidth}{1pt}{3mm}\\\\\"%(i,nomTexte))\n",
    "lines.append(r\"\\end{document}\")\n",
    "with open(serie+nomDevoir,\"w\") as output:\n",
    "    for line in lines:\n",
    "        output.write(line+\"\\n\")"
   ]
  },
  {
   "cell_type": "markdown",
   "metadata": {},
   "source": [
    "# Génération Clé du devoir (exemples dans l'ordre)"
   ]
  },
  {
   "cell_type": "code",
   "execution_count": 33,
   "metadata": {},
   "outputs": [],
   "source": [
    "lines=[r\"\\documentclass{article}\",r\"\\usepackage{graphicx,geometry,dashrule}\",\n",
    "       r\"\\geometry{scale={0.95,0.95},noheadfoot} % scale={largeur,hauteur}\",\n",
    "       r\"\\begin{document}\",r\"\\pagestyle{empty}\\thispagestyle{empty}\",r\"\\noindent\\centering\"\n",
    "      ]\n",
    "for i in pDevoir:\n",
    "     lines.append(r\"\\includegraphics[page=%d]{%s}\\\\\\hdashrule[0.5ex]{\\textwidth}{1pt}{3mm}\\\\\"%(i,nomTexte))\n",
    "lines.append(r\"\\end{document}\")\n",
    "with open(serie+nomDevoirCle,\"w\") as output:\n",
    "    for line in lines:\n",
    "        output.write(line+\"\\n\")"
   ]
  },
  {
   "cell_type": "markdown",
   "metadata": {},
   "source": [
    "# Génération des exemples complémentaires du devoir\n",
    "- exemples manquants dans le devoir"
   ]
  },
  {
   "cell_type": "code",
   "execution_count": 34,
   "metadata": {},
   "outputs": [],
   "source": [
    "l = np.array_split(np.array(rComp),5)\n",
    "for k in range(1,6):\n",
    "    pages=l[k-1]\n",
    "    lines=[r\"\\documentclass{article}\",r\"\\usepackage{graphicx,geometry,dashrule}\",\n",
    "           r\"\\geometry{scale={0.95,0.95},noheadfoot} % scale={largeur,hauteur}\",\n",
    "           r\"\\begin{document}\",r\"\\pagestyle{empty}\\thispagestyle{empty}\",r\"\\noindent\\centering\"\n",
    "          ]\n",
    "    for i in pages:\n",
    "         lines.append(r\"\\includegraphics[page=%d]{%s}\\\\\\hdashrule[0.5ex]{\\textwidth}{1pt}{3mm}\\\\\"%(i,nomTexte))\n",
    "    lines.append(r\"\\end{document}\")\n",
    "    with open(serie+\"%s-%s-Devoir-Comp-K%d.tex\"%(annee,nKalaba,k),\"w\") as output:\n",
    "        for line in lines:\n",
    "            output.write(line+\"\\n\")"
   ]
  }
 ],
 "metadata": {
  "kernelspec": {
   "display_name": "Python [conda env:python2]",
   "language": "python",
   "name": "conda-env-python2-py"
  },
  "language_info": {
   "codemirror_mode": {
    "name": "ipython",
    "version": 2
   },
   "file_extension": ".py",
   "mimetype": "text/x-python",
   "name": "python",
   "nbconvert_exporter": "python",
   "pygments_lexer": "ipython2",
   "version": "2.7.16"
  }
 },
 "nbformat": 4,
 "nbformat_minor": 1
}
