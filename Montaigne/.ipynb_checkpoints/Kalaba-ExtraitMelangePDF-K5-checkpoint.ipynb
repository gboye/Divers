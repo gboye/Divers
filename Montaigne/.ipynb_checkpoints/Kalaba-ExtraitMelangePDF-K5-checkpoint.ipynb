{
 "cells": [
  {
   "cell_type": "markdown",
   "metadata": {},
   "source": [
    "# Script pour extraire et mélanger les exemples du Kalaba final\n",
    "- Le fichier d'entrée est \"21-K5-Texte.pdf\"\n",
    "- Les fichiers de sortie sont\n",
    " - \"21-K5-Shuffle-Devoir.pdf\"\n",
    " - \"21-K5-Shuffle-K1.pdf\"\n",
    " - \"21-K5-Shuffle-K2.pdf\"\n",
    " - \"21-K5-Shuffle-K3.pdf\"\n",
    " - \"21-K5-Shuffle-K4.pdf\"\n",
    " - \"21-K5-Shuffle-K5.pdf\"\n",
    " - \"21-K5-Extrait.pdf\""
   ]
  },
  {
   "cell_type": "code",
   "execution_count": 30,
   "metadata": {},
   "outputs": [],
   "source": [
    "import codecs, re, string\n",
    "from os.path import expanduser\n",
    "import random, sys\n",
    "import numpy as np\n",
    "from pyPdf import PdfFileWriter, PdfFileReader\n",
    "home = expanduser(\"~\")"
   ]
  },
  {
   "cell_type": "code",
   "execution_count": 16,
   "metadata": {},
   "outputs": [],
   "source": [
    "repertoire=home+\"/ownCloud/Cours/Bordeaux/L1-LinguistiqueGenerale/00-ProjetKalaba/%s-%s\"%(annee,nKalaba)\n",
    "serie=repertoire+\"/\""
   ]
  },
  {
   "cell_type": "code",
   "execution_count": 22,
   "metadata": {},
   "outputs": [
    {
     "name": "stdout",
     "output_type": "stream",
     "text": [
      "[76, 7, 51, 38, 29, 39, 64, 36, 24, 85, 70, 74, 55, 75, 17, 54, 18, 89, 73, 6, 35, 41, 88, 12, 11, 9, 82, 8, 53, 83, 22, 71, 72, 40, 84, 87, 19, 23, 21, 57, 10, 86, 37, 58, 34, 5, 20, 77, 56, 52]\n"
     ]
    }
   ],
   "source": [
    "nKalaba=\"K5\"\n",
    "annee=\"21\"\n",
    "pDevoir=range(4,12)+range(16,24)+range(28,29)+range(33,41)\\\n",
    "        +range(50,58)+range(63,64)+range(69,77)+range(81,89)\n",
    "pComp=range(0,4)+range(12,16)+range(24,28)+range(29,33)+range(41,45)\\\n",
    "        +range(46,50)+range(58,63)+range(64,69)+range(77,81)+range(89,94)\n",
    "\n",
    "pSep=[45,94]\n",
    "pDevoir=[p+1 for p in pDevoir]\n",
    "rDevoir=random.sample(pDevoir,len(pDevoir))\n",
    "pComp=[p+1 for p in pComp]\n",
    "rComp=random.sample(pComp,len(pComp))\n",
    "print rDevoir"
   ]
  },
  {
   "cell_type": "code",
   "execution_count": 23,
   "metadata": {},
   "outputs": [],
   "source": [
    "nomTexte=\"%s-%s-Texte.pdf\"%(annee,nKalaba)\n",
    "nomDevoir=\"%s-%s-Devoir.tex\"%(annee,nKalaba)\n",
    "nomDevoirCle=\"%s-%s-DevoirCle.tex\"%(annee,nKalaba)\n",
    "nomCompCle=\"%s-%s-Devoir-CompCle.tex\"%(annee,nKalaba)\n",
    "# nomCompCle=\"%s-%s-Devoir-Comp.tex\"%(annee,nKalaba)"
   ]
  },
  {
   "cell_type": "markdown",
   "metadata": {},
   "source": [
    "# Génération Devoir (exemples mélangés)"
   ]
  },
  {
   "cell_type": "code",
   "execution_count": 24,
   "metadata": {},
   "outputs": [],
   "source": [
    "lines=[r\"\\documentclass{article}\",r\"\\usepackage{graphicx,geometry,dashrule}\",\n",
    "       r\"\\geometry{scale={0.95,0.95},noheadfoot} % scale={largeur,hauteur}\",\n",
    "       r\"\\begin{document}\",r\"\\pagestyle{empty}\\thispagestyle{empty}\",r\"\\noindent\\centering\"\n",
    "      ]\n",
    "for i in rDevoir:\n",
    "     lines.append(r\"\\includegraphics[page=%d]{%s}\\\\\\hdashrule[0.5ex]{\\textwidth}{1pt}{3mm}\\\\\"%(i,nomTexte))\n",
    "lines.append(r\"\\end{document}\")\n",
    "with open(serie+nomDevoir,\"w\") as output:\n",
    "    for line in lines:\n",
    "        output.write(line+\"\\n\")"
   ]
  },
  {
   "cell_type": "markdown",
   "metadata": {},
   "source": [
    "# Génération Clé du devoir (exemples dans l'ordre)"
   ]
  },
  {
   "cell_type": "code",
   "execution_count": 25,
   "metadata": {},
   "outputs": [],
   "source": [
    "lines=[r\"\\documentclass{article}\",r\"\\usepackage{graphicx,geometry,dashrule}\",\n",
    "       r\"\\geometry{scale={0.95,0.95},noheadfoot} % scale={largeur,hauteur}\",\n",
    "       r\"\\begin{document}\",r\"\\pagestyle{empty}\\thispagestyle{empty}\",r\"\\noindent\\centering\"\n",
    "      ]\n",
    "for i in pDevoir:\n",
    "     lines.append(r\"\\includegraphics[page=%d]{%s}\\\\\\hdashrule[0.5ex]{\\textwidth}{1pt}{3mm}\\\\\"%(i,nomTexte))\n",
    "lines.append(r\"\\end{document}\")\n",
    "with open(serie+nomDevoirCle,\"w\") as output:\n",
    "    for line in lines:\n",
    "        output.write(line+\"\\n\")"
   ]
  },
  {
   "cell_type": "markdown",
   "metadata": {},
   "source": [
    "# Génération des exemples complémentaires du devoir\n",
    "- exemples manquants dans le devoir"
   ]
  },
  {
   "cell_type": "code",
   "execution_count": 36,
   "metadata": {},
   "outputs": [],
   "source": [
    "l = np.array_split(np.array(rComp),5)\n",
    "for k in range(1,6):\n",
    "    pages=l[k-1]\n",
    "    lines=[r\"\\documentclass{article}\",r\"\\usepackage{graphicx,geometry,dashrule}\",\n",
    "           r\"\\geometry{scale={0.95,0.95},noheadfoot} % scale={largeur,hauteur}\",\n",
    "           r\"\\begin{document}\",r\"\\pagestyle{empty}\\thispagestyle{empty}\",r\"\\noindent\\centering\"\n",
    "          ]\n",
    "    for i in pages:\n",
    "         lines.append(r\"\\includegraphics[page=%d]{%s}\\\\\\hdashrule[0.5ex]{\\textwidth}{1pt}{3mm}\\\\\"%(i,nomTexte))\n",
    "    lines.append(r\"\\end{document}\")\n",
    "    with open(serie+\"%s-%s-Devoir-Comp-K%d.tex\"%(annee,nKalaba,k),\"w\") as output:\n",
    "        for line in lines:\n",
    "            output.write(line+\"\\n\")"
   ]
  }
 ],
 "metadata": {
  "kernelspec": {
   "display_name": "Python 2",
   "language": "python",
   "name": "python2"
  },
  "language_info": {
   "codemirror_mode": {
    "name": "ipython",
    "version": 2
   },
   "file_extension": ".py",
   "mimetype": "text/x-python",
   "name": "python",
   "nbconvert_exporter": "python",
   "pygments_lexer": "ipython2",
   "version": "2.7.15"
  }
 },
 "nbformat": 4,
 "nbformat_minor": 1
}
