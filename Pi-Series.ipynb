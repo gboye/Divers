{
 "cells": [
  {
   "cell_type": "code",
   "execution_count": 11,
   "id": "ec7bf9b5-918a-4453-896d-cf6b49ede912",
   "metadata": {},
   "outputs": [],
   "source": [
    "%matplotlib ipympl"
   ]
  },
  {
   "cell_type": "code",
   "execution_count": 12,
   "id": "e990677a-ef8c-43ea-a42a-9726e25f2f9e",
   "metadata": {},
   "outputs": [
    {
     "data": {
      "application/vnd.jupyter.widget-view+json": {
       "model_id": "af7452631a834d87916c2b8199ffe413",
       "version_major": 2,
       "version_minor": 0
      },
      "text/plain": [
       "FigureCanvasNbAgg()"
      ]
     },
     "metadata": {},
     "output_type": "display_data"
    }
   ],
   "source": [
    "import numpy as np\n",
    "import matplotlib.pyplot as plt\n",
    "from matplotlib.animation import FuncAnimation\n",
    "\n",
    "# Données pour le graphe animé\n",
    "x_data = np.linspace(0, 2 * np.pi, 100)  # Données x\n",
    "y_data = np.sin(x_data)  # Données y\n",
    "\n",
    "# Initialisation de la figure et de l'axe\n",
    "fig, ax = plt.subplots()\n",
    "line, = ax.plot(x_data, y_data, lw=2)\n",
    "\n",
    "# Fonction de mise à jour des données à chaque image de l'animation\n",
    "def update(frame):\n",
    "    line.set_ydata(np.sin(x_data + frame/10))\n",
    "    return line,\n",
    "\n",
    "# Création de l'animation\n",
    "animation = FuncAnimation(fig, update, frames=100, interval=50)\n",
    "\n",
    "# Affichage de l'animation\n",
    "plt.show()\n"
   ]
  },
  {
   "cell_type": "markdown",
   "id": "b0b9369f-c501-4400-af84-6970d7b14cbd",
   "metadata": {},
   "source": [
    "# Manipulations sur PI"
   ]
  },
  {
   "cell_type": "code",
   "execution_count": 13,
   "id": "c288a9e3-c342-4f3c-9e24-a37fd86934ba",
   "metadata": {},
   "outputs": [],
   "source": [
    "# Calculer un milliard de décimales de Pi\n",
    "from mpmath import mp\n",
    "precision=1E9\n",
    "mp.dps = precision  # Précision des décimales\n",
    "sPi=str(mp.pi)\n",
    "with open(\"pi.txt\",\"w\") as outFile:\n",
    "    outFile.write(sPi)"
   ]
  },
  {
   "cell_type": "code",
   "execution_count": 14,
   "id": "9ff2491f-623a-433e-8769-521181b0168d",
   "metadata": {},
   "outputs": [],
   "source": [
    "with open(\"pi.txt\",\"r\") as inFile:\n",
    "    sPi=inFile.read()"
   ]
  },
  {
   "cell_type": "code",
   "execution_count": 15,
   "id": "d6e887bb-9495-4b17-820a-3e9209df697d",
   "metadata": {},
   "outputs": [
    {
     "name": "stdout",
     "output_type": "stream",
     "text": [
      "7\n"
     ]
    }
   ],
   "source": [
    "# Chercher la nième décimale\n",
    "\n",
    "decimaleCherchee=20041964 # => 2\n",
    "decimaleCherchee=20031963 # => 1\n",
    "decimaleCherchee=20061967 # => 7\n",
    "indexCherche=decimaleCherchee+1\n",
    "print(sPi[indexCherche])"
   ]
  },
  {
   "cell_type": "code",
   "execution_count": 16,
   "id": "f35b2358-6cff-43e4-87fa-2f9dd4e8a10b",
   "metadata": {},
   "outputs": [
    {
     "name": "stdout",
     "output_type": "stream",
     "text": [
      "104853588\n",
      "00127162\n"
     ]
    }
   ],
   "source": [
    "# sequence=\"141592\" => 1\n",
    "sequence=\"200363\" # => 1906665\n",
    "sequence=\"200464\" # => 5389317\n",
    "sequence=\"20031963\" # => 267733361\n",
    "sequence=\"20041964\" # => 67443412\n",
    "sequence=\"4326075\" # => 3410690\n",
    "sequence=\"00127162\" # => 104853588\n",
    "iSeq=sPi.find(sequence)\n",
    "print (iSeq-1)\n",
    "print (sPi[iSeq:iSeq+len(sequence)])"
   ]
  },
  {
   "cell_type": "code",
   "execution_count": null,
   "id": "abf203ee-18ea-4a6c-9274-3fc3b7d8e390",
   "metadata": {},
   "outputs": [],
   "source": [
    "%%time\n",
    "order=1000000\n",
    "for i in range(order,10*order):\n",
    "    sequence=str(i)\n",
    "    iSeq=sPi.find(sequence)\n",
    "    if iSeq==-1: print (sequence)\n",
    "print (\"terminé\")"
   ]
  },
  {
   "cell_type": "code",
   "execution_count": 25,
   "id": "e57ec55e-32a0-45e4-b5a0-d7dde06aee10",
   "metadata": {},
   "outputs": [],
   "source": [
    "code=\"\"\"Mode GEO, Jade Dac, BD Gong  Long\n",
    "Badd Klem DelmK, Belg DM, Gang Gened Kem\"\"\"\n",
    "nord=\"Mode GEO Jade Dac\"\n",
    "nordC=\"4 3 1 9\"\n",
    "ouest=\"Badd Klem DelmK Belg DM\"\n",
    "ouestC=\"0 0 1 3 5\""
   ]
  },
  {
   "cell_type": "code",
   "execution_count": 27,
   "id": "1262695b-0024-46ea-9373-efb0c5fd8431",
   "metadata": {},
   "outputs": [
    {
     "name": "stdout",
     "output_type": "stream",
     "text": [
      "0 B, 1 D, 2 E, 3 G, 4 J, 5 K, 6 M, 7 O, 8 a, 9 c, 10 d, 11 e, 12 g, 13 l, 14 m, 15 o, "
     ]
    },
    {
     "data": {
      "text/plain": [
       "16"
      ]
     },
     "execution_count": 27,
     "metadata": {},
     "output_type": "execute_result"
    }
   ],
   "source": [
    "dLettres={}\n",
    "lettres=sorted(list(set(l for l in nord+ouest if l!=\" \" and l!=\",\" and l!=\"\\n\")))\n",
    "for n,lettre in enumerate(lettres):\n",
    "    print (n,lettre,end=\", \")\n",
    "    dLettres[lettre]=n\n",
    "len(dLettres)"
   ]
  },
  {
   "cell_type": "code",
   "execution_count": 29,
   "id": "c0099bf5-cd68-4903-8f74-c25ba5883e29",
   "metadata": {},
   "outputs": [
    {
     "data": {
      "text/plain": [
       "[4, 3, 1, 9, 0, 0, 1, 3, 5]"
      ]
     },
     "execution_count": 29,
     "metadata": {},
     "output_type": "execute_result"
    }
   ],
   "source": [
    "chiffres=[int(c) for c in nordC.split(\" \")+ouestC.split(\" \")]\n",
    "chiffres"
   ]
  },
  {
   "cell_type": "code",
   "execution_count": 33,
   "id": "b65c3680-1a62-46ed-9528-8cb291922b66",
   "metadata": {},
   "outputs": [
    {
     "name": "stdout",
     "output_type": "stream",
     "text": [
      "9\n"
     ]
    }
   ],
   "source": [
    "vect0=[0,0,0,0,0,0,0,0,0,0,0,0,0,0,0,0]\n",
    "a=[]\n",
    "b=[]\n",
    "i=0\n",
    "for m in nord.split(\" \")+ouest.split(\" \"):\n",
    "    vect=vect0.copy()\n",
    "    for l in m:\n",
    "        n=dLettres[l]\n",
    "        vect[n]=1\n",
    "    a.append(vect)\n",
    "    b.append(chiffres[i])\n",
    "    i+=1\n",
    "print (len(a))"
   ]
  },
  {
   "cell_type": "code",
   "execution_count": 31,
   "id": "07c8b01b-db36-45ff-a03e-22fb8903246a",
   "metadata": {},
   "outputs": [
    {
     "ename": "LinAlgError",
     "evalue": "Last 2 dimensions of the array must be square",
     "output_type": "error",
     "traceback": [
      "\u001b[0;31m---------------------------------------------------------------------------\u001b[0m",
      "\u001b[0;31mLinAlgError\u001b[0m                               Traceback (most recent call last)",
      "Cell \u001b[0;32mIn[31], line 8\u001b[0m\n\u001b[1;32m      5\u001b[0m B \u001b[38;5;241m=\u001b[39m np\u001b[38;5;241m.\u001b[39marray(b)\n\u001b[1;32m      7\u001b[0m \u001b[38;5;66;03m# Résoudre le système d'équations linéaires\u001b[39;00m\n\u001b[0;32m----> 8\u001b[0m solution \u001b[38;5;241m=\u001b[39m \u001b[43mnp\u001b[49m\u001b[38;5;241;43m.\u001b[39;49m\u001b[43mlinalg\u001b[49m\u001b[38;5;241;43m.\u001b[39;49m\u001b[43msolve\u001b[49m\u001b[43m(\u001b[49m\u001b[43mA\u001b[49m\u001b[43m,\u001b[49m\u001b[43m \u001b[49m\u001b[43mB\u001b[49m\u001b[43m)\u001b[49m\n\u001b[1;32m     10\u001b[0m \u001b[38;5;66;03m# Afficher la solution\u001b[39;00m\n\u001b[1;32m     11\u001b[0m \u001b[38;5;28mprint\u001b[39m(\u001b[38;5;124m\"\u001b[39m\u001b[38;5;124mLa solution du système d\u001b[39m\u001b[38;5;124m'\u001b[39m\u001b[38;5;124méquations est :\u001b[39m\u001b[38;5;124m\"\u001b[39m, solution)\n",
      "File \u001b[0;32m<__array_function__ internals>:200\u001b[0m, in \u001b[0;36msolve\u001b[0;34m(*args, **kwargs)\u001b[0m\n",
      "File \u001b[0;32m~/opt/anaconda3/lib/python3.9/site-packages/numpy/linalg/linalg.py:373\u001b[0m, in \u001b[0;36msolve\u001b[0;34m(a, b)\u001b[0m\n\u001b[1;32m    371\u001b[0m a, _ \u001b[38;5;241m=\u001b[39m _makearray(a)\n\u001b[1;32m    372\u001b[0m _assert_stacked_2d(a)\n\u001b[0;32m--> 373\u001b[0m \u001b[43m_assert_stacked_square\u001b[49m\u001b[43m(\u001b[49m\u001b[43ma\u001b[49m\u001b[43m)\u001b[49m\n\u001b[1;32m    374\u001b[0m b, wrap \u001b[38;5;241m=\u001b[39m _makearray(b)\n\u001b[1;32m    375\u001b[0m t, result_t \u001b[38;5;241m=\u001b[39m _commonType(a, b)\n",
      "File \u001b[0;32m~/opt/anaconda3/lib/python3.9/site-packages/numpy/linalg/linalg.py:190\u001b[0m, in \u001b[0;36m_assert_stacked_square\u001b[0;34m(*arrays)\u001b[0m\n\u001b[1;32m    188\u001b[0m m, n \u001b[38;5;241m=\u001b[39m a\u001b[38;5;241m.\u001b[39mshape[\u001b[38;5;241m-\u001b[39m\u001b[38;5;241m2\u001b[39m:]\n\u001b[1;32m    189\u001b[0m \u001b[38;5;28;01mif\u001b[39;00m m \u001b[38;5;241m!=\u001b[39m n:\n\u001b[0;32m--> 190\u001b[0m     \u001b[38;5;28;01mraise\u001b[39;00m LinAlgError(\u001b[38;5;124m'\u001b[39m\u001b[38;5;124mLast 2 dimensions of the array must be square\u001b[39m\u001b[38;5;124m'\u001b[39m)\n",
      "\u001b[0;31mLinAlgError\u001b[0m: Last 2 dimensions of the array must be square"
     ]
    }
   ],
   "source": [
    "import numpy as np\n",
    "\n",
    "# Définir les coefficients des équations\n",
    "A = np.array(a)\n",
    "B = np.array(b)\n",
    "\n",
    "# Résoudre le système d'équations linéaires\n",
    "solution = np.linalg.solve(A, B)\n",
    "\n",
    "# Afficher la solution\n",
    "print(\"La solution du système d'équations est :\", solution)\n"
   ]
  },
  {
   "cell_type": "code",
   "execution_count": null,
   "id": "0b18a507-ea62-4e7f-a966-5a083e4a74eb",
   "metadata": {},
   "outputs": [],
   "source": []
  }
 ],
 "metadata": {
  "kernelspec": {
   "display_name": "Python 2.7",
   "language": "python",
   "name": "py2"
  },
  "language_info": {
   "codemirror_mode": {
    "name": "ipython",
    "version": 2
   },
   "file_extension": ".py",
   "mimetype": "text/x-python",
   "name": "python",
   "nbconvert_exporter": "python",
   "pygments_lexer": "ipython2",
   "version": "2.7.16"
  }
 },
 "nbformat": 4,
 "nbformat_minor": 5
}
