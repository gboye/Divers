{
 "cells": [
  {
   "cell_type": "code",
   "execution_count": 20,
   "metadata": {
    "collapsed": false
   },
   "outputs": [],
   "source": [
    "\"\"\"Example app pour analyser un fichier sur TreeTagger online\"\"\"\n",
    "import requests\n",
    "files={'file_to_tag':open(\"test.txt\", \"rb\")}\n",
    "r=requests.post(\"http://cental.fltr.ucl.ac.be/treetagger/\",files=files)\n",
    "#r=requests.post(\"http://pythonscraping.com/pages/processing2.php\",files=files)"
   ]
  },
  {
   "cell_type": "code",
   "execution_count": 22,
   "metadata": {
    "collapsed": false
   },
   "outputs": [
    {
     "name": "stdout",
     "output_type": "stream",
     "text": [
      "\n",
      "  <!DOCTYPE HTML PUBLIC \"-//W3C//DTD HTML 4.01 Transitional//EN\">\n",
      "<html>\n",
      "  <!-- sessionKey= loginguid= -->\n",
      "  <!-- Variables du bandeau PreExecute -->\n",
      "    <!--tmp-fr/cental.html-->  <!--tmp-fr/cental.html-->    <head><!-- PageID 44005 - published by RedDot 7.5 - 7.5.2.17 - 14445 -->\n",
      "\n",
      "  <title>Treetagger</title>\n",
      "      <!-- Modele de page : page_deux_colonnes ; date_publ: 20090712T2047 -->\n",
      "    <!--domaine_code=cental-->\n",
      "    <meta http-equiv=\"Content-Type\" content=\"text/html; charset=utf-8\">\n",
      "        <link rel=\"schema.DC\" href=\"http://purl.org/DC/elements/1.1/\">\n",
      "    <meta name=\"DC.Title\" content=\"Recherche au Cental\">\n",
      "    <meta name=\"DC.Creator\" content=\"Isabelle Lecroart\">\n",
      "    <meta name=\"DC.Subject\" content=\"Universit&eacute; catholique de Louvain\">\n",
      "    <meta name=\"DC.Description\" content=\"\">\n",
      "    <meta name=\"DC.Publisher\" content=\"Isabelle Lecroart\">\n",
      "    <meta name=\"DC.Contributor\" content=\"\">\n",
      "    <meta name=\"DC.Date\" content=\"9/03/2009\">\n",
      "    <meta name=\"DC.Type\" content=\"text\">\n",
      "    <meta name=\"DC.Format\" content=\"text/html\">\n",
      "    <meta name=\"DC.Identifier\" content=\"http://www.uclouvain.be/cental-recherche.html\">\n",
      "    <meta name=\"DC.Language\" content=\"FRB\">\n",
      "    <meta name=\"DC.Audience\" content=\"Public\">\n",
      "    <meta name=\"keywords\" content=\"CENTAL,traitement automatique du langage,TAL,TALN,linguistique informatique,linguistique computationnelle,concordanciers,corpus,dictionnaires &eacute;lectroniques,NLP,natural language processing,human language technologies,HLT,\">\n",
      "    <meta name=\"copyright\" content=\"Copyright 2009 Universit&eacute; catholique de Louvain\" />\n",
      "    <script type=\"text/javascript\" src=\"http://www.uclouvain.be/cps/ucl/scripts/utilitaires.js\"></script>\n",
      "    <!--tmp-fr/cental.html--><link type=\"text/css\" href=\"http://www.uclouvain.be/cps/ucl/styles/fltr_page.css\" rel=\"stylesheet\">\n",
      "    <link type=\"text/css\" href=\"http://www.uclouvain.be/cps/ucl/styles/ucl_page_print.css\" rel=\"stylesheet\" media=\"print\">\n",
      "  </head>\n",
      "  \n",
      "  \n",
      "  <body>\n",
      "    <center>\n",
      "      <div id=\"container\">\n",
      "        <div id=\"intro\">\n",
      "        </div>\n",
      "        <div id=\"header\">\n",
      "          <!-- Debut outils -->\n",
      "<div id=\"outils\" class=\"non-imprime\">\n",
      "  <span class=\"option2\">| </span>\n",
      "  <a href=\"http://www2.adcp.ucl.ac.be/cal/intro.htm\" target=\"_blank\" class=\"option1\">agenda</a>\n",
      "  <span class=\"option2\"> | </span>\n",
      "  <a href=\"http://www.uclouvain.be/repertoires.html\" class=\"option1\">r&eacute;pertoires</a>\n",
      "  <span class=\"option2\"> | </span>\n",
      "  <a href=\"http://www.bib.ucl.ac.be/\" target=\"_blank\" class=\"option1\">biblioth&egrave;ques</a>\n",
      "  <span class=\"option2\"> | </span>\n",
      "  <a href=\"http://www.uclouvain.be/emploi-offres.html\" class=\"option1\">offres d'emploi</a>\n",
      "  <span class=\"option2\"> | </span>\n",
      "  <a href=\"http://www.uclouvain.be/acces.html\" class=\"option1\">plan d'acc&egrave;s</a>\n",
      "  <span class=\"option2\"> | </span>\n",
      "  <form class=\"forme\" name=\"recherche\" id=\"recherche\" method=\"get\" action=\"http://uclouvain.be/67374bis.html\" target=\"_blank\" onsubmit='this.q.value = this.q.value.replace (new RegExp(\"\\\"\",\"g\"),\"\\\\\\\"\")'>\n",
      "    &nbsp;<input name=\"sa\" type=\"image\" value=\"submit\" src=\"/cps/ucl/doc/ucl/images/icones/bouton_recherche.png\" border=\"0\">\n",
      "    <input type=\"text\" class=\"entree-boite\" name=\"q\" size=\"20\" value=\"votre recherche...\" onfocus=\"this.value='';\" >\n",
      "  </form>\n",
      "</div>\n",
      "<!-- Fin outils -->\n",
      "          <!-- Debut identification -->\n",
      "<div id=\"identification\" class=\"non-imprime\">\n",
      "  <span class=\"option1\">| </span><a href=\"http://www.uclouvain.be/onglet_bureau.html\" class=\"option2\">mon bureau</a>\n",
      "  \n",
      "    <span class=\"option1\"> | </span><a href=\"http://www.uclouvain.be/page_connexion.html\" class=\"option2\">s'identifier</a>\n",
      "    <span class=\"option1\"> |</span>\n",
      "  \n",
      "  \n",
      "</div>\n",
      "<!-- Fin identification -->\n",
      "                    <!--tmp-fr/cental.html--><!-- Debut bandeau ID: 97392-->\n",
      "<div id=\"bandeau\">\n",
      "  <img src=\"http://www.uclouvain.be/cps/ucl/doc/ucl/images/bandeaux/BandeauN_fltr.jpg\" height=\"110\" alt=\"\">\n",
      "  <div id=\"bandeauUcl\" class=\"non-imprime\">\n",
      "    <a href=\"http://www.uclouvain.be/index.html\"><img src=\"http://www.uclouvain.be/cps/ucl/doc/ucl/images/icones/espace.gif\" width=\"295\" height=\"70\" border=\"0\" alt=\"\"></a>\n",
      "  </div>\n",
      "  <div id=\"bandeauDomaines\">\n",
      "    <p></p>\n",
      "    <p><a href=\"http://www.uclouvain.be/cental.html\" class=\"bandeau-domaine\" >Centre de traitement automatique du langage</a></p>\n",
      "  </div>\n",
      "  <div id=\"bandeauSecteur\">\n",
      "  </div>\n",
      "</div>\n",
      "<!-- Fin bandeau -->          <div id=\"breadCrump\" class=\"option1\">\n",
      "            <span class='option3' >&gt; <a href=\"http://www.uclouvain.be/index.html\">UCL</a> </span>\n",
      "            <span class='option3' >&gt; <a href=\"http://www.uclouvain.be/208781.html\">Les plateformes technologiques</a> </span>\n",
      "            <span class='option1' >&gt; <a href=\"http://www.uclouvain.be/cental.html\">Centre de traitement automatique du langage</a> </span>\n",
      "            <span class=\"option2\">&gt; </span><span class=\"option1\">Recherche</span>&nbsp;\n",
      "                      </div>\n",
      "          <div id=\"langues\" class=\"non-imprime option1\">\n",
      "            <div align=\"right\">\n",
      "            </div>\n",
      "          </div>\n",
      "        </div>\n",
      "        <table id=\"main\">\n",
      "          <!-- Debut contenu -->\n",
      "          <tr>\n",
      "            <td id=\"menu\" class=\"non-imprime\">\n",
      "              <!--tmp-fr/cental.html-->\n",
      "              <table class='menu-table' border='0' cellspacing='0' cellpadding='0' >\n",
      "<tr><td class='menu-titre' colspan='5'><a href='http://www.uclouvain.be/cental.html'>> Centre de traitement automatique du langage</a></td></tr>\n",
      "<tr class='menu-separateur'><td colspan='5'>&nbsp;</td></tr>\n",
      "<tr class='menu-ligne'>\n",
      "<td class='menu-colun'>&nbsp;</td><td class='menu-signet'>></td>\n",
      "<td class='menu-td' width='160px' colspan='3' ><a href='http://www.uclouvain.be/cental.html' title='' >Accueil</a></td>\n",
      "</tr>\n",
      "</table>\n",
      "              <div class=\"menu-separateur\">&nbsp;</div>\n",
      "              <!-- tmp-fr/cental.html-->\n",
      "              <br /><img src=\"/cps/ucl/doc/ucl/images/icones/espace.gif\" width=\"175\" height=\"1\" alt=\"\"/>\n",
      "            </td>\n",
      "            <td id=\"content2\">\n",
      "              <div id=\"IORD_OpenPage\">\n",
      "              </div>\n",
      "              <div>\n",
      "                <h1 class=\"cache\">Recherche au Cental</h1>\n",
      "                \n",
      "                  \n",
      "                    <div class=\"texte-base\"><table border=\"0\" width=\"100&#x25;\" align=\"right\" cellspacing=\"0\" cellpadding=\"0\" height=\"122\">\n",
      "</table>\n",
      "\n",
      "\n",
      "    <h1>&gt; Étiqueter un texte en français grâce à <em>TreeTagger</em></h1>\n",
      "    <br/>\n",
      "    \n",
      "    <br/>\n",
      "<!-- AFFICHAGE DU FORMULAIRE -->\n",
      "    <form name=\"treetagger_form\" action=\"index.html\" method=\"POST\" enctype=\"multipart/form-data\">\n",
      "      <table cellspacing=\"5px\" cellpadding=\"2px\">\n",
      "        <tbody>\n",
      "          <tr>\n",
      "            <td>\n",
      "               Texte à étiqueter : \n",
      "            </td>\n",
      "            <td>\n",
      "              <input type=\"file\" name=\"file_to_tag\" size=50/>\n",
      "            </td>\n",
      "          </tr>\n",
      "          <tr>\n",
      "            <td>\n",
      "            </td>\n",
      "            <td>\n",
      "              <input type=\"submit\" name=\"submit\"/>\n",
      "            </td>\n",
      "          </tr>\n",
      "        </tbody>\n",
      "      </table>\n",
      "    </form>\n",
      "\n",
      "<br/><br/>\n",
      "\n",
      "(Attention, le traitement peut prendre un certain temps.)\n",
      "\n",
      "<br/><br/>\n",
      "Pour plus d'informations sur Treetagger, consultez le site de <a href='http://www.ims.uni-stuttgart.de/projekte/corplex/TreeTagger/'>TreeTagger</a>.\n",
      "\n",
      "<!-- FIN DE L'AFFICHAGE DU FORMULAIRE -->\n",
      "  </td>\n",
      "\n",
      "    <td width=\"25\">&nbsp;</td>\n",
      " \n",
      "  \n",
      "  <tr valign=\"top\">\n",
      "    <td width=\"25\" class=\"non-imprime\">&nbsp;</td>\n",
      "    <td width=\"175\">            \n",
      "    </td>\n",
      "  </tr>\n",
      "\n",
      "\n",
      "  </html>\n",
      "\n",
      "\n",
      "\n"
     ]
    }
   ],
   "source": [
    "print r.text"
   ]
  },
  {
   "cell_type": "code",
   "execution_count": null,
   "metadata": {
    "collapsed": true
   },
   "outputs": [],
   "source": [
    "browser = mechanicalsoup.Browser()"
   ]
  },
  {
   "cell_type": "code",
   "execution_count": null,
   "metadata": {
    "collapsed": false
   },
   "outputs": [],
   "source": [
    "# request marmiton home page. the result is a requests.Response object http://docs.python-requests.org/en/latest/user/quickstart/#response-content\n",
    "accueil = browser.get(\"http://cental.fltr.ucl.ac.be/treetagger/\")"
   ]
  },
  {
   "cell_type": "code",
   "execution_count": null,
   "metadata": {
    "collapsed": false,
    "scrolled": true
   },
   "outputs": [],
   "source": [
    "print accueil.soup"
   ]
  },
  {
   "cell_type": "code",
   "execution_count": null,
   "metadata": {
    "collapsed": false,
    "scrolled": true
   },
   "outputs": [],
   "source": [
    "# accueil.soup is a BeautifulSoup object http://www.crummy.com/software/BeautifulSoup/bs4/doc/#beautifulsoup \n",
    "# we grab the search form\n",
    "formulaire = accueil.soup.select(\"form[name=treetagger_form]\")[0]"
   ]
  },
  {
   "cell_type": "code",
   "execution_count": null,
   "metadata": {
    "collapsed": false,
    "scrolled": true
   },
   "outputs": [],
   "source": [
    "# fill out the search in the right box\n",
    "formulaire.select(\"[name=file_to_tag]\")[0][\"data\"]=\"test.txt\""
   ]
  },
  {
   "cell_type": "code",
   "execution_count": null,
   "metadata": {
    "collapsed": false,
    "scrolled": true
   },
   "outputs": [],
   "source": [
    "upload=browser._build_request(formulaire)"
   ]
  },
  {
   "cell_type": "code",
   "execution_count": null,
   "metadata": {
    "collapsed": false
   },
   "outputs": [],
   "source": [
    "print upload.data"
   ]
  },
  {
   "cell_type": "code",
   "execution_count": null,
   "metadata": {
    "collapsed": false
   },
   "outputs": [],
   "source": [
    "# submit form\n",
    "recherche = browser.post(formulaire, accueil.url)"
   ]
  },
  {
   "cell_type": "code",
   "execution_count": null,
   "metadata": {
    "collapsed": false,
    "scrolled": true
   },
   "outputs": [],
   "source": [
    "print recherche.soup"
   ]
  },
  {
   "cell_type": "code",
   "execution_count": null,
   "metadata": {
    "collapsed": true
   },
   "outputs": [],
   "source": []
  }
 ],
 "metadata": {
  "kernelspec": {
   "display_name": "Python 2",
   "language": "python",
   "name": "python2"
  },
  "language_info": {
   "codemirror_mode": {
    "name": "ipython",
    "version": 2
   },
   "file_extension": ".py",
   "mimetype": "text/x-python",
   "name": "python",
   "nbconvert_exporter": "python",
   "pygments_lexer": "ipython2",
   "version": "2.7.10"
  }
 },
 "nbformat": 4,
 "nbformat_minor": 0
}
