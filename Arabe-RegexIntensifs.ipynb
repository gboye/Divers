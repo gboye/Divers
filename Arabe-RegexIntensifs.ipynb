{
 "cells": [
  {
   "cell_type": "code",
   "execution_count": 3,
   "id": "cd542b7b-3c8f-42e3-abeb-9335c3b09c9b",
   "metadata": {},
   "outputs": [
    {
     "name": "stdout",
     "output_type": "stream",
     "text": [
      "Intel MKL WARNING: Support of Intel(R) Streaming SIMD Extensions 4.2 (Intel(R) SSE4.2) enabled only processors has been deprecated. Intel oneAPI Math Kernel Library 2025.0 will require Intel(R) Advanced Vector Extensions (Intel(R) AVX) instructions.\n",
      "Intel MKL WARNING: Support of Intel(R) Streaming SIMD Extensions 4.2 (Intel(R) SSE4.2) enabled only processors has been deprecated. Intel oneAPI Math Kernel Library 2025.0 will require Intel(R) Advanced Vector Extensions (Intel(R) AVX) instructions.\n"
     ]
    }
   ],
   "source": [
    "import pandas as pd\n",
    "import glob, re"
   ]
  },
  {
   "cell_type": "markdown",
   "id": "d2816792-77c8-4a04-9c2a-94127269071c",
   "metadata": {},
   "source": [
    "### Définition des lettres pour les gabarits"
   ]
  },
  {
   "cell_type": "code",
   "execution_count": 4,
   "id": "7d4faa54-289c-4ed8-8570-e5a9349dc6f4",
   "metadata": {},
   "outputs": [],
   "source": [
    "meem=\"م\"\n",
    "marbotat=\"ة\"\n",
    "waw=\"و\"\n",
    "yeh=\"ي\"\n",
    "alef=\"ا\"\n",
    "fatha=\"َ\"\n",
    "shadda=\"ّ\"\n",
    "damma=\"ُ\"\n",
    "dammatan=\"ٌ\"\n",
    "kasra=\"ِ\"\n",
    "sukun=\"ْ\""
   ]
  },
  {
   "cell_type": "markdown",
   "id": "7431a126-4678-4ac4-8066-cb81a39f2db3",
   "metadata": {},
   "source": [
    "### Choix de la source\n",
    "- Toutes les sources ont le champ contenant l'écriture dans la première colonne"
   ]
  },
  {
   "cell_type": "code",
   "execution_count": 19,
   "id": "6ca69e3d-1c21-4bad-a81b-a10c3977c44b",
   "metadata": {
    "tags": []
   },
   "outputs": [
    {
     "data": {
      "text/plain": [
       "4795"
      ]
     },
     "execution_count": 19,
     "metadata": {},
     "output_type": "execute_result"
    }
   ],
   "source": [
    "source=\"SketchEngine\"\n",
    "# source=\"Wiktionary\"\n",
    "# source=\"Quran\"\n",
    "pdAdj=pd.read_csv(\"ADJ-%s.tsv\"%source,encoding=\"utf8\",sep=\"\\t\").drop_duplicates()\n",
    "len(pdAdj)"
   ]
  },
  {
   "cell_type": "code",
   "execution_count": 20,
   "id": "ccbcf6ea-96ea-4637-8c86-5638cd6ebabe",
   "metadata": {},
   "outputs": [],
   "source": [
    "pdAdj.columns=range(len(pdAdj.columns))\n",
    "adjectifs=pdAdj[0].drop_duplicates().tolist()\n",
    "# print(adjectifs)"
   ]
  },
  {
   "cell_type": "code",
   "execution_count": 21,
   "id": "6498d949-8db0-44fe-9776-d499bec34309",
   "metadata": {},
   "outputs": [
    {
     "data": {
      "text/plain": [
       "4795"
      ]
     },
     "execution_count": 21,
     "metadata": {},
     "output_type": "execute_result"
    }
   ],
   "source": [
    "len(adjectifs)"
   ]
  },
  {
   "cell_type": "markdown",
   "id": "a4b33b58-c69d-449e-814d-2ddeae59e244",
   "metadata": {},
   "source": [
    "# Définition des gabarits\n",
    "- les mots tirés de SketchEngine ne sont pas orthographiés comme ceux des deux autres CSV, il faut utiliser des expressions régulières différentes\n",
    "- pour la séquence َّ , Wiktionary et Quran ont deux stratégies différentes :\n",
    "    - fatha+shadda\n",
    "    - shadda+fatha  \n",
    "- il faut en tenir compte dans les regexp, ici en acceptant les deux ordres"
   ]
  },
  {
   "cell_type": "code",
   "execution_count": 22,
   "id": "02e3693c-496e-4dea-b977-8e67be296f99",
   "metadata": {},
   "outputs": [],
   "source": [
    "shaddafatha=\"(?:\"+shadda+fatha+\"|\"+fatha+shadda+\")\"\n",
    "fa33aalFull=\"^(.)\"+fatha+\"(.)\"+shaddafatha+alef+\"(.)\"+marbotat+\"?\"+dammatan+\"?$\"\n",
    "fa33aalSketch=u\"^(.)(.)\"+alef+\"(.)\"+marbotat+\"?$\"\n",
    "mif3aalFull=\"^\"+meem+kasra+\"(.)\"+sukun+\"(.)\"+fatha+alef+\"(.)\"+marbotat+\"?\"+dammatan+\"?$\"\n",
    "mif3aalSketch=meem+u\"^(.)(.)\"+alef+\"(.)\"+marbotat+\"?$\"\n",
    "fa3uulFull=\"^(.)\"+damma+\"(.)\"+damma+waw+\"(.)\"+marbotat+\"?\"+dammatan+\"?$\"\n",
    "fa3uulSketch=\"^(.)(.)\"+waw+\"(.)\"+marbotat+\"?$\"\n",
    "fa3iilFull=\"^(.)\"+fatha+\"(.)\"+kasra+yeh+\"(.)\"+marbotat+\"?\"+dammatan+\"?$\"\n",
    "fa3iilSketch=\"^(.)(.)\"+yeh+\"(.)\"+marbotat+\"?$\"\n",
    "fa3ilFull=\"^(.)\"+fatha+\"(.)\"+kasra+\"(.)\"+marbotat+\"?\"+dammatan+\"?$\"\n",
    "fa3ilSketch=\"^(.)(.)\"+yeh+\"(.)\"+marbotat+\"?$\"\n",
    "\n",
    "if source==\"SketchEngine\":\n",
    "    fa33aalRegex=fa33aalSketch\n",
    "    mif3aalRegex=mif3aalSketch\n",
    "    fa3uulRegex=fa3uulSketch\n",
    "    fa3iilRegex=fa3iilSketch\n",
    "    fa3ilRegex=fa3ilSketch\n",
    "else:\n",
    "    fa33aalRegex=fa33aalFull\n",
    "    mif3aalRegex=mif3aalFull\n",
    "    fa3uulRegex=fa3uulFull\n",
    "    fa3iilRegex=fa3iilFull\n",
    "    fa3ilRegex=fa3ilFull\n"
   ]
  },
  {
   "cell_type": "code",
   "execution_count": 23,
   "id": "fafdc360-3ca5-403a-89e5-5a9ccc05783e",
   "metadata": {
    "tags": []
   },
   "outputs": [
    {
     "data": {
      "text/html": [
       "<div>\n",
       "<style scoped>\n",
       "    .dataframe tbody tr th:only-of-type {\n",
       "        vertical-align: middle;\n",
       "    }\n",
       "\n",
       "    .dataframe tbody tr th {\n",
       "        vertical-align: top;\n",
       "    }\n",
       "\n",
       "    .dataframe thead th {\n",
       "        text-align: right;\n",
       "    }\n",
       "</style>\n",
       "<table border=\"1\" class=\"dataframe\">\n",
       "  <thead>\n",
       "    <tr style=\"text-align: right;\">\n",
       "      <th></th>\n",
       "      <th>forme</th>\n",
       "      <th>gabarit</th>\n",
       "      <th>c3</th>\n",
       "      <th>c2</th>\n",
       "      <th>c1</th>\n",
       "    </tr>\n",
       "  </thead>\n",
       "  <tbody>\n",
       "    <tr>\n",
       "      <th>0</th>\n",
       "      <td>جديد</td>\n",
       "      <td>[fa3iil, fa3il]</td>\n",
       "      <td>د</td>\n",
       "      <td>د</td>\n",
       "      <td>ج</td>\n",
       "    </tr>\n",
       "    <tr>\n",
       "      <th>1</th>\n",
       "      <td>كبير</td>\n",
       "      <td>[fa3iil, fa3il]</td>\n",
       "      <td>ر</td>\n",
       "      <td>ب</td>\n",
       "      <td>ك</td>\n",
       "    </tr>\n",
       "    <tr>\n",
       "      <th>2</th>\n",
       "      <td>ثلاث</td>\n",
       "      <td>[fa33aal]</td>\n",
       "      <td>ث</td>\n",
       "      <td>ل</td>\n",
       "      <td>ث</td>\n",
       "    </tr>\n",
       "    <tr>\n",
       "      <th>3</th>\n",
       "      <td>أخير</td>\n",
       "      <td>[fa3iil, fa3il]</td>\n",
       "      <td>ر</td>\n",
       "      <td>خ</td>\n",
       "      <td>أ</td>\n",
       "    </tr>\n",
       "    <tr>\n",
       "      <th>4</th>\n",
       "      <td>عديد</td>\n",
       "      <td>[fa3iil, fa3il]</td>\n",
       "      <td>د</td>\n",
       "      <td>د</td>\n",
       "      <td>ع</td>\n",
       "    </tr>\n",
       "    <tr>\n",
       "      <th>...</th>\n",
       "      <td>...</td>\n",
       "      <td>...</td>\n",
       "      <td>...</td>\n",
       "      <td>...</td>\n",
       "      <td>...</td>\n",
       "    </tr>\n",
       "    <tr>\n",
       "      <th>592</th>\n",
       "      <td>رضيض</td>\n",
       "      <td>[fa3iil, fa3il]</td>\n",
       "      <td>ض</td>\n",
       "      <td>ض</td>\n",
       "      <td>ر</td>\n",
       "    </tr>\n",
       "    <tr>\n",
       "      <th>593</th>\n",
       "      <td>مصوح</td>\n",
       "      <td>[fa3uul]</td>\n",
       "      <td>ح</td>\n",
       "      <td>ص</td>\n",
       "      <td>م</td>\n",
       "    </tr>\n",
       "    <tr>\n",
       "      <th>594</th>\n",
       "      <td>لفوح</td>\n",
       "      <td>[fa3uul]</td>\n",
       "      <td>ح</td>\n",
       "      <td>ف</td>\n",
       "      <td>ل</td>\n",
       "    </tr>\n",
       "    <tr>\n",
       "      <th>595</th>\n",
       "      <td>نزيح</td>\n",
       "      <td>[fa3iil, fa3il]</td>\n",
       "      <td>ح</td>\n",
       "      <td>ز</td>\n",
       "      <td>ن</td>\n",
       "    </tr>\n",
       "    <tr>\n",
       "      <th>596</th>\n",
       "      <td>لفات</td>\n",
       "      <td>[fa33aal]</td>\n",
       "      <td>ت</td>\n",
       "      <td>ف</td>\n",
       "      <td>ل</td>\n",
       "    </tr>\n",
       "  </tbody>\n",
       "</table>\n",
       "<p>597 rows × 5 columns</p>\n",
       "</div>"
      ],
      "text/plain": [
       "    forme          gabarit c3 c2 c1\n",
       "0    جديد  [fa3iil, fa3il]  د  د  ج\n",
       "1    كبير  [fa3iil, fa3il]  ر  ب  ك\n",
       "2    ثلاث        [fa33aal]  ث  ل  ث\n",
       "3    أخير  [fa3iil, fa3il]  ر  خ  أ\n",
       "4    عديد  [fa3iil, fa3il]  د  د  ع\n",
       "..    ...              ... .. .. ..\n",
       "592  رضيض  [fa3iil, fa3il]  ض  ض  ر\n",
       "593  مصوح         [fa3uul]  ح  ص  م\n",
       "594  لفوح         [fa3uul]  ح  ف  ل\n",
       "595  نزيح  [fa3iil, fa3il]  ح  ز  ن\n",
       "596  لفات        [fa33aal]  ت  ف  ل\n",
       "\n",
       "[597 rows x 5 columns]"
      ]
     },
     "execution_count": 23,
     "metadata": {},
     "output_type": "execute_result"
    }
   ],
   "source": [
    "dfIntensifs=pd.DataFrame(columns=\"forme gabarit c3 c2 c1\".split(\" \"))\n",
    "\n",
    "def extractDict(match):\n",
    "    return {\"forme\":match.group(0),\n",
    "            \"c1\":match.group(1),\n",
    "            \"c2\":match.group(2),\n",
    "            \"c3\":match.group(3),\n",
    "           }\n",
    "for i,form in enumerate(adjectifs):\n",
    "    # print (form)\n",
    "    m=re.match(fa33aalRegex,form)\n",
    "    if m:\n",
    "        # print (i,m.group(0),\"\\tfa33aal,racine :\",m.group(1),m.group(2),m.group(3))\n",
    "        formeDict=extractDict(m)\n",
    "        formeDict[\"gabarit\"]=[\"fa33aal\"]\n",
    "        pdFormeDict=pd.DataFrame([formeDict])\n",
    "        dfIntensifs=pd.concat([dfIntensifs,pdFormeDict])\n",
    "    m=re.match(mif3aalRegex,form)\n",
    "    if m:\n",
    "        # # print (i,m.group(0),\"\\t  mif3al, racine :\",m.group(1),m.group(2),m.group(3))\n",
    "        formeDict=extractDict(m)\n",
    "        formeDict[\"gabarit\"]=[\"mif3al\"]\n",
    "        pdFormeDict=pd.DataFrame([formeDict])\n",
    "        dfIntensifs=pd.concat([dfIntensifs,pdFormeDict])\n",
    "    m=re.match(fa3uulRegex,form)\n",
    "    if m:\n",
    "        # print (i,m.group(0),\"\\t    fa3uul, racine :\",m.group(1),m.group(2),m.group(3))    \n",
    "        formeDict=extractDict(m)\n",
    "        formeDict[\"gabarit\"]=[\"fa3uul\"]\n",
    "        pdFormeDict=pd.DataFrame([formeDict])\n",
    "        dfIntensifs=pd.concat([dfIntensifs,pdFormeDict])\n",
    "    if source==\"SketchEngine\":\n",
    "        m=re.match(fa3iilSketch,form)\n",
    "        if m:\n",
    "            # print (i,m.group(0),\"\\t      fa3iil, racine :\",m.group(1),m.group(2),m.group(3))            \n",
    "            formeDict=extractDict(m)\n",
    "            formeDict[\"gabarit\"]=[\"fa3iil\", \"fa3il\"]\n",
    "            pdFormeDict=pd.DataFrame([formeDict])\n",
    "            dfIntensifs=pd.concat([dfIntensifs,pdFormeDict])        \n",
    "    else:\n",
    "        m=re.match(fa3iilRegex,form)\n",
    "        if m:\n",
    "            # print (i,m.group(0),\"\\t      fa3iil, racine :\",m.group(1),m.group(2),m.group(3))            \n",
    "            formeDict=extractDict(m)\n",
    "            formeDict[\"gabarit\"]=[\"fa3iil\"]\n",
    "            pdFormeDict=pd.DataFrame([formeDict])\n",
    "            dfIntensifs=pd.concat([dfIntensifs,pdFormeDict])\n",
    "        m=re.match(fa3ilRegex,form)\n",
    "        if m:\n",
    "            # print (i,m.group(0),\"\\t        fa3il, racine :\",m.group(1),m.group(2),m.group(3))                    \n",
    "            formeDict=extractDict(m)\n",
    "            formeDict[\"gabarit\"]=[\"fa3il\"]\n",
    "            pdFormeDict=pd.DataFrame([formeDict])\n",
    "            dfIntensifs=pd.concat([dfIntensifs,pdFormeDict])\n",
    "dfIntensifs=dfIntensifs.reset_index().drop(columns=\"index\")\n",
    "dfIntensifs  "
   ]
  },
  {
   "cell_type": "code",
   "execution_count": 24,
   "id": "679a351f-9cfd-4939-bcd3-fa0220ed1b0c",
   "metadata": {},
   "outputs": [],
   "source": [
    "\n",
    "dfIntensifs.to_csv(path_or_buf=\"ADJ-Extraction-%s.tsv\"%source,encoding=\"utf8\",sep=\"\\t\")"
   ]
  },
  {
   "cell_type": "markdown",
   "id": "f76dba32-3b2e-473e-b73b-9ec962add2f3",
   "metadata": {},
   "source": [
    "# Fin"
   ]
  },
  {
   "cell_type": "code",
   "execution_count": 25,
   "id": "2c6baa6d-42b3-476d-8d9d-9397a086301a",
   "metadata": {},
   "outputs": [
    {
     "data": {
      "text/html": [
       "<div>\n",
       "<style scoped>\n",
       "    .dataframe tbody tr th:only-of-type {\n",
       "        vertical-align: middle;\n",
       "    }\n",
       "\n",
       "    .dataframe tbody tr th {\n",
       "        vertical-align: top;\n",
       "    }\n",
       "\n",
       "    .dataframe thead th {\n",
       "        text-align: right;\n",
       "    }\n",
       "</style>\n",
       "<table border=\"1\" class=\"dataframe\">\n",
       "  <thead>\n",
       "    <tr style=\"text-align: right;\">\n",
       "      <th></th>\n",
       "      <th>forme</th>\n",
       "      <th>gabarit</th>\n",
       "      <th>c3</th>\n",
       "      <th>c2</th>\n",
       "      <th>c1</th>\n",
       "    </tr>\n",
       "  </thead>\n",
       "  <tbody>\n",
       "    <tr>\n",
       "      <th>99</th>\n",
       "      <td>شقيقة</td>\n",
       "      <td>[fa3iil, fa3il]</td>\n",
       "      <td>ق</td>\n",
       "      <td>ق</td>\n",
       "      <td>ش</td>\n",
       "    </tr>\n",
       "    <tr>\n",
       "      <th>158</th>\n",
       "      <td>بسيطة</td>\n",
       "      <td>[fa3iil, fa3il]</td>\n",
       "      <td>ط</td>\n",
       "      <td>س</td>\n",
       "      <td>ب</td>\n",
       "    </tr>\n",
       "    <tr>\n",
       "      <th>380</th>\n",
       "      <td>مشاحة</td>\n",
       "      <td>[fa33aal]</td>\n",
       "      <td>ح</td>\n",
       "      <td>ش</td>\n",
       "      <td>م</td>\n",
       "    </tr>\n",
       "    <tr>\n",
       "      <th>577</th>\n",
       "      <td>شجيعة</td>\n",
       "      <td>[fa3iil, fa3il]</td>\n",
       "      <td>ع</td>\n",
       "      <td>ج</td>\n",
       "      <td>ش</td>\n",
       "    </tr>\n",
       "  </tbody>\n",
       "</table>\n",
       "</div>"
      ],
      "text/plain": [
       "     forme          gabarit c3 c2 c1\n",
       "99   شقيقة  [fa3iil, fa3il]  ق  ق  ش\n",
       "158  بسيطة  [fa3iil, fa3il]  ط  س  ب\n",
       "380  مشاحة        [fa33aal]  ح  ش  م\n",
       "577  شجيعة  [fa3iil, fa3il]  ع  ج  ش"
      ]
     },
     "execution_count": 25,
     "metadata": {},
     "output_type": "execute_result"
    }
   ],
   "source": [
    "dfIntensifs[dfIntensifs[\"forme\"].str.endswith(marbotat)]"
   ]
  },
  {
   "cell_type": "code",
   "execution_count": 10,
   "id": "e1a8cd0c-7f48-4032-a417-00b27c9583c9",
   "metadata": {},
   "outputs": [
    {
     "data": {
      "text/plain": [
       "False"
      ]
     },
     "execution_count": 10,
     "metadata": {},
     "output_type": "execute_result"
    }
   ],
   "source": [
    "dfIntensifs.iloc[164,0]==dfIntensifs.iloc[165,0]"
   ]
  },
  {
   "cell_type": "code",
   "execution_count": null,
   "id": "f1d706ef-7898-4bba-963a-56c37d0158d7",
   "metadata": {},
   "outputs": [],
   "source": []
  }
 ],
 "metadata": {
  "kernelspec": {
   "display_name": "Python 3 (ipykernel)",
   "language": "python",
   "name": "python3"
  },
  "language_info": {
   "codemirror_mode": {
    "name": "ipython",
    "version": 3
   },
   "file_extension": ".py",
   "mimetype": "text/x-python",
   "name": "python",
   "nbconvert_exporter": "python",
   "pygments_lexer": "ipython3",
   "version": "3.9.15"
  }
 },
 "nbformat": 4,
 "nbformat_minor": 5
}
