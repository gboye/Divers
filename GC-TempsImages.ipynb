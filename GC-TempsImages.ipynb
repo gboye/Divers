{
 "cells": [
  {
   "cell_type": "code",
   "execution_count": 7,
   "metadata": {},
   "outputs": [],
   "source": [
    "import pycurl, time\n",
    "\n",
    "# As long as the file is opened in binary mode, both Python 2 and Python 3\n",
    "# can write response body to it without decoding."
   ]
  },
  {
   "cell_type": "code",
   "execution_count": 10,
   "metadata": {},
   "outputs": [],
   "source": [
    "for n in range(100):\n",
    "    with open('Time-%d.png'%n, 'wb') as f:\n",
    "        c = pycurl.Curl()\n",
    "        c.setopt(c.URL, 'http://ljtech.free.fr/geocaching/GC5MFB2/time.php')\n",
    "        c.setopt(c.WRITEDATA, f)\n",
    "        c.perform()\n",
    "        c.close()\n",
    "    time.sleep(121)"
   ]
  },
  {
   "cell_type": "code",
   "execution_count": 1,
   "metadata": {},
   "outputs": [],
   "source": []
  },
  {
   "cell_type": "code",
   "execution_count": null,
   "metadata": {},
   "outputs": [],
   "source": []
  }
 ],
 "metadata": {
  "kernelspec": {
   "display_name": "Python 2",
   "language": "python",
   "name": "python2"
  },
  "language_info": {
   "codemirror_mode": {
    "name": "ipython",
    "version": 2
   },
   "file_extension": ".py",
   "mimetype": "text/x-python",
   "name": "python",
   "nbconvert_exporter": "python",
   "pygments_lexer": "ipython2",
   "version": "2.7.11"
  }
 },
 "nbformat": 4,
 "nbformat_minor": 1
}
