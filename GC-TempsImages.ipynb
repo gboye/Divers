{
 "metadata": {
  "name": "",
  "signature": "sha256:52e87b8a64ee7446f5375b2fe2cb605ed356e84f058c0b69a6b2ebc1bec29d34"
 },
 "nbformat": 3,
 "nbformat_minor": 0,
 "worksheets": [
  {
   "cells": [
    {
     "cell_type": "code",
     "collapsed": false,
     "input": [
      "import pycurl, time\n",
      "\n",
      "# As long as the file is opened in binary mode, both Python 2 and Python 3\n",
      "# can write response body to it without decoding."
     ],
     "language": "python",
     "metadata": {},
     "outputs": [],
     "prompt_number": 7
    },
    {
     "cell_type": "code",
     "collapsed": false,
     "input": [
      "for n in range(100):\n",
      "    with open('Time-%d.png'%n, 'wb') as f:\n",
      "        c = pycurl.Curl()\n",
      "        c.setopt(c.URL, 'http://ljtech.free.fr/geocaching/GC5MFB2/time.php')\n",
      "        c.setopt(c.WRITEDATA, f)\n",
      "        c.perform()\n",
      "        c.close()\n",
      "    time.sleep(121)"
     ],
     "language": "python",
     "metadata": {},
     "outputs": [],
     "prompt_number": 10
    },
    {
     "cell_type": "code",
     "collapsed": false,
     "input": [],
     "language": "python",
     "metadata": {},
     "outputs": [],
     "prompt_number": 1
    },
    {
     "cell_type": "code",
     "collapsed": false,
     "input": [],
     "language": "python",
     "metadata": {},
     "outputs": []
    }
   ],
   "metadata": {}
  }
 ]
}