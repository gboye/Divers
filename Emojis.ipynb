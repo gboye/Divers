{
 "cells": [
  {
   "cell_type": "code",
   "execution_count": 2,
   "metadata": {},
   "outputs": [],
   "source": [
    "import re,codecs"
   ]
  },
  {
   "cell_type": "code",
   "execution_count": null,
   "metadata": {},
   "outputs": [],
   "source": [
    "with codecs.open(\"/Users/gilles/Desktop/TEMP.txt\", encoding=\"utf8\") as inFile:\n",
    "    lines=inFile.readlines()"
   ]
  },
  {
   "cell_type": "markdown",
   "metadata": {},
   "source": [
    "### Length"
   ]
  },
  {
   "cell_type": "code",
   "execution_count": 6,
   "metadata": {},
   "outputs": [
    {
     "data": {
      "text/plain": [
       "10"
      ]
     },
     "execution_count": 6,
     "metadata": {},
     "output_type": "execute_result"
    }
   ],
   "source": [
    "maxL=0\n",
    "for line in lines[1:]:\n",
    "    lineL=line.count(\"U+\")\n",
    "    if lineL>maxL:\n",
    "        maxL=lineL\n",
    "maxL"
   ]
  },
  {
   "cell_type": "markdown",
   "metadata": {},
   "source": [
    "### Flags"
   ]
  },
  {
   "cell_type": "code",
   "execution_count": 7,
   "metadata": {},
   "outputs": [
    {
     "data": {
      "text/plain": [
       "(7,\n",
       " [u'\\U0001f3f4\\U000e0067\\U000e0062\\U000e0065\\U000e006e\\U000e0067\\U000e007f Flag: England\\tU+1F3F4, U+E0067, U+E0062, U+E0065, U+E006E, U+E0067, U+E007F\\n',\n",
       "  u'\\U0001f3f4\\U000e0067\\U000e0062\\U000e0073\\U000e0063\\U000e0074\\U000e007f Flag: Scotland\\tU+1F3F4, U+E0067, U+E0062, U+E0073, U+E0063, U+E0074, U+E007F\\n',\n",
       "  u'\\U0001f3f4\\U000e0067\\U000e0062\\U000e0077\\U000e006c\\U000e0073\\U000e007f Flag: Wales\\tU+1F3F4, U+E0067, U+E0062, U+E0077, U+E006C, U+E0073, U+E007F\\n'])"
      ]
     },
     "execution_count": 7,
     "metadata": {},
     "output_type": "execute_result"
    }
   ],
   "source": [
    "maxL=0\n",
    "flags=[]\n",
    "for line in lines[1:]:\n",
    "    m=re.search(\"Flag:\",line)\n",
    "    if m:\n",
    "        lineL=line.count(\"U+\")\n",
    "        if lineL>maxL:\n",
    "            maxL=lineL\n",
    "            flags=[line]\n",
    "        elif lineL==maxL:\n",
    "            flags.append(line)\n",
    "maxL,flags"
   ]
  },
  {
   "cell_type": "markdown",
   "metadata": {},
   "source": [
    "### Combinations with 🔥, ❤️, 🚒"
   ]
  },
  {
   "cell_type": "code",
   "execution_count": 16,
   "metadata": {},
   "outputs": [
    {
     "data": {
      "text/plain": [
       "(18,\n",
       " [u'\\U0001f9d1\\u200d\\U0001f692 Firefighter\\tU+1F9D1, U+200D, U+1F692\\n',\n",
       "  u'\\U0001f9d1\\U0001f3fb\\u200d\\U0001f692 Firefighter: Light Skin Tone\\tU+1F9D1, U+1F3FB, U+200D, U+1F692\\n',\n",
       "  u'\\U0001f9d1\\U0001f3fc\\u200d\\U0001f692 Firefighter: Medium-Light Skin Tone\\tU+1F9D1, U+1F3FC, U+200D, U+1F692\\n',\n",
       "  u'\\U0001f9d1\\U0001f3fd\\u200d\\U0001f692 Firefighter: Medium Skin Tone\\tU+1F9D1, U+1F3FD, U+200D, U+1F692\\n',\n",
       "  u'\\U0001f9d1\\U0001f3fe\\u200d\\U0001f692 Firefighter: Medium-Dark Skin Tone\\tU+1F9D1, U+1F3FE, U+200D, U+1F692\\n',\n",
       "  u'\\U0001f9d1\\U0001f3ff\\u200d\\U0001f692 Firefighter: Dark Skin Tone\\tU+1F9D1, U+1F3FF, U+200D, U+1F692\\n',\n",
       "  u'\\U0001f468\\u200d\\U0001f692 Man Firefighter\\tU+1F468, U+200D, U+1F692\\n',\n",
       "  u'\\U0001f468\\U0001f3fb\\u200d\\U0001f692 Man Firefighter: Light Skin Tone\\tU+1F468, U+1F3FB, U+200D, U+1F692\\n',\n",
       "  u'\\U0001f468\\U0001f3fc\\u200d\\U0001f692 Man Firefighter: Medium-Light Skin Tone\\tU+1F468, U+1F3FC, U+200D, U+1F692\\n',\n",
       "  u'\\U0001f468\\U0001f3fd\\u200d\\U0001f692 Man Firefighter: Medium Skin Tone\\tU+1F468, U+1F3FD, U+200D, U+1F692\\n',\n",
       "  u'\\U0001f468\\U0001f3fe\\u200d\\U0001f692 Man Firefighter: Medium-Dark Skin Tone\\tU+1F468, U+1F3FE, U+200D, U+1F692\\n',\n",
       "  u'\\U0001f468\\U0001f3ff\\u200d\\U0001f692 Man Firefighter: Dark Skin Tone\\tU+1F468, U+1F3FF, U+200D, U+1F692\\n',\n",
       "  u'\\U0001f469\\u200d\\U0001f692 Woman Firefighter\\tU+1F469, U+200D, U+1F692\\n',\n",
       "  u'\\U0001f469\\U0001f3fb\\u200d\\U0001f692 Woman Firefighter: Light Skin Tone\\tU+1F469, U+1F3FB, U+200D, U+1F692\\n',\n",
       "  u'\\U0001f469\\U0001f3fc\\u200d\\U0001f692 Woman Firefighter: Medium-Light Skin Tone\\tU+1F469, U+1F3FC, U+200D, U+1F692\\n',\n",
       "  u'\\U0001f469\\U0001f3fd\\u200d\\U0001f692 Woman Firefighter: Medium Skin Tone\\tU+1F469, U+1F3FD, U+200D, U+1F692\\n',\n",
       "  u'\\U0001f469\\U0001f3fe\\u200d\\U0001f692 Woman Firefighter: Medium-Dark Skin Tone\\tU+1F469, U+1F3FE, U+200D, U+1F692\\n',\n",
       "  u'\\U0001f469\\U0001f3ff\\u200d\\U0001f692 Woman Firefighter: Dark Skin Tone\\tU+1F469, U+1F3FF, U+200D, U+1F692\\n'])"
      ]
     },
     "execution_count": 16,
     "metadata": {},
     "output_type": "execute_result"
    }
   ],
   "source": [
    "x=r\"U\\+1F525\" # fire 🔥 => 1\n",
    "x=r\"U\\+2764\" # heart ❤️ => 199\n",
    "x=r\"U\\+1F692\" # firetruck 🚒 => 18\n",
    "compounds=[]\n",
    "for line in lines[1:]:\n",
    "    m=re.search(x,line)\n",
    "    if m:\n",
    "        lineL=line.count(\"U+\")\n",
    "        if lineL>=2:\n",
    "            compounds.append(line)\n",
    "len(compounds),compounds"
   ]
  }
 ],
 "metadata": {
  "kernelspec": {
   "display_name": "Python 2",
   "language": "python",
   "name": "python2"
  },
  "language_info": {
   "codemirror_mode": {
    "name": "ipython",
    "version": 2
   },
   "file_extension": ".py",
   "mimetype": "text/x-python",
   "name": "python",
   "nbconvert_exporter": "python",
   "pygments_lexer": "ipython2",
   "version": "2.7.16"
  }
 },
 "nbformat": 4,
 "nbformat_minor": 2
}
