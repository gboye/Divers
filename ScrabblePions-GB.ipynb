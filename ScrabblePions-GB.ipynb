{
 "metadata": {
  "name": "",
  "signature": "sha256:e8b3a23793be9ce00d98caf8edb51448cb680acb37e0eadb2d137e58a9406804"
 },
 "nbformat": 3,
 "nbformat_minor": 0,
 "worksheets": [
  {
   "cells": [
    {
     "cell_type": "code",
     "collapsed": false,
     "input": [
      "from unidecode import unidecode\n",
      "import re\n",
      "import random as rd\n",
      "import itertools as it\n",
      "import warnings"
     ],
     "language": "python",
     "metadata": {},
     "outputs": [],
     "prompt_number": 1
    },
    {
     "cell_type": "code",
     "collapsed": false,
     "input": [
      "cotePlateau=15\n",
      "nombrePionsRack=7\n",
      "jetonsFR = {\"a\": 9, \"b\": 2, \"c\": 2, \"d\": 3, \"e\": 15, \n",
      " \"f\": 2, \"g\": 2, \"h\": 2, \"i\": 8, \"j\": 1, \n",
      " \"k\": 1, \"l\": 5, \"m\": 3, \"n\": 6, \"o\": 6, \n",
      " \"p\": 2, \"q\": 1, \"r\": 6, \"s\": 6, \"t\": 6, \n",
      " \"u\": 6, \"v\": 2, \"w\": 1, \"x\": 1, \"y\": 1, \n",
      " \"z\": 1, \"*\": 2}\n",
      "pointsFR = {\"a\": 1, \"b\": 3, \"c\": 3, \"d\": 2, \"e\": 1, \n",
      " \"f\": 4, \"g\": 2, \"h\": 4, \"i\": 1, \"j\": 8, \n",
      " \"k\": 10, \"l\": 1, \"m\": 2, \"n\": 1, \"o\": 1, \n",
      " \"p\": 3, \"q\": 8, \"r\": 1, \"s\": 1, \"t\": 1, \n",
      " \"u\": 1, \"v\": 4, \"w\": 10, \"x\": 10, \"y\": 10, \n",
      " \"z\": 10, \"*\":0}"
     ],
     "language": "python",
     "metadata": {},
     "outputs": [],
     "prompt_number": 2
    },
    {
     "cell_type": "code",
     "collapsed": false,
     "input": [
      "class Jetons():\n",
      "    def __init__(self,jetons={},points={}):\n",
      "        if jetons:\n",
      "            self.jetons=jetons\n",
      "        else:\n",
      "            self.jetons=jetonsFR\n",
      "        if points:\n",
      "            self.points=points\n",
      "        else:\n",
      "            self.points=pointsFR\n",
      "        self.base={}\n",
      "        for cle in self.jetons:\n",
      "            self.base[cle]=0\n",
      "        self.vide=False\n",
      "\n",
      "    def __repr__(self):\n",
      "        result=[]\n",
      "        for lettre in self.jetons:\n",
      "            result.append(lettre*self.jetons[lettre])\n",
      "        return \", \".join(result)\n",
      "            \n",
      "    def listerJetons(self):\n",
      "        listeJetons=[]\n",
      "        for element in self.jetons:\n",
      "            for num in range(self.jetons[element]):\n",
      "                listeJetons.append(element)\n",
      "        return listeJetons\n",
      "\n",
      "    def tirerJetons(self,n):\n",
      "        jetonsTirage=[]\n",
      "        for element in self.jetons:\n",
      "            for num in range(self.jetons[element]):\n",
      "                jetonsTirage.append(element)\n",
      "        try:\n",
      "            tirageJetons=rd.sample(jetonsTirage,n)\n",
      "        except ValueError:\n",
      "            tirageJetons=jetonsTirage\n",
      "            self.vide=True\n",
      "        if self.vide:\n",
      "            warnings.warn(\"le sac est vide\")\n",
      "        for jeton in tirageJetons:\n",
      "            self.jetons[jeton]+=-1\n",
      "        return tirageJetons\n",
      "\n",
      "    def ajouterJetons(self,listeJetons):\n",
      "        for element in listeJetons:\n",
      "            self.jetons[element]+=1\n",
      "\n",
      "    def transfererJetons(self,destination,lettres):\n",
      "        correct=True\n",
      "        changements=[]\n",
      "        for lettre in lettres:\n",
      "            if self.jetons[lettre]>0:\n",
      "                self.jetons[lettre]-=1\n",
      "                destination.jetons[lettre]+=1\n",
      "                changements.append(lettre)\n",
      "            else:\n",
      "                print (\"la lettre %s n'est pas disponible\")\n",
      "                correct=False\n",
      "        if not correct:\n",
      "            for changement in changements:\n",
      "                self.jetons[changement]+=1\n",
      "                destination.jetons[changement]-=1\n",
      "        return correct"
     ],
     "language": "python",
     "metadata": {},
     "outputs": [],
     "prompt_number": 3
    },
    {
     "cell_type": "code",
     "collapsed": false,
     "input": [
      "class Scrabble():\n",
      "    def __init__(self,jetons=Jetons()):\n",
      "        self.jetons=jetons\n",
      "        self.joueurs=[]\n",
      "        self.racks={}\n",
      "        self.sac=jetons\n",
      "        self.plateau=Jetons(jetons.base)\n",
      "        self.fin=\"\"\n",
      "        \n",
      "    def ajouterJoueur(self,joueur):\n",
      "        if not joueur in self.joueurs:\n",
      "            self.joueurs.append(joueur)\n",
      "            self.racks[joueur]=Jetons(Jetons().base)\n",
      "        else:\n",
      "            print \"Le joueur %s est d\u00e9j\u00e0 dans la liste, proposez un autre nom.\"%joueur\n",
      "    \n",
      "    def ajouterJoueurs(self,*joueurs):\n",
      "        for joueur in joueurs:\n",
      "            self.ajouterJoueur(joueur)\n",
      "            \n",
      "    def remplirRack(self,joueur):\n",
      "        nombreManquants=nombrePionsRack-len(self.racks[joueur].listerJetons())\n",
      "        nouveauxPions=self.sac.tirerJetons(nombreManquants)\n",
      "        self.racks[joueur].ajouterJetons(nouveauxPions)\n",
      "            \n",
      "    def jouerLettres(self,joueur,lettres):\n",
      "        if self.fin==\"\":\n",
      "            if isinstance(lettres,str) or isinstance(lettres,unicode):\n",
      "                lettres=list(lettres)\n",
      "            correct=self.racks[joueur].transfererJetons(self.plateau,lettres)\n",
      "            if correct:\n",
      "                nombreManquants=len(lettres)\n",
      "                nouveauxPions=self.sac.tirerJetons(nombreManquants)\n",
      "                self.racks[joueur].ajouterJetons(nouveauxPions)\n",
      "                if len(self.racks[joueur].listerJetons())==0:\n",
      "                    print \"%s a termin\u00e9, la partie est finie\"%joueur\n",
      "                    self.fin=joueur\n",
      "            else:\n",
      "                warnings.warn(\"%s ne peut pas jouer %s\"%(joueur,lettres))\n",
      "            return correct\n",
      "        else:\n",
      "            warnings.warn(\"La partie est finie, %s a termin\u00e9\"%self.fin)\n",
      "        "
     ],
     "language": "python",
     "metadata": {},
     "outputs": [],
     "prompt_number": 4
    },
    {
     "cell_type": "code",
     "collapsed": false,
     "input": [
      "jeu=Scrabble()"
     ],
     "language": "python",
     "metadata": {},
     "outputs": [],
     "prompt_number": 5
    },
    {
     "cell_type": "code",
     "collapsed": false,
     "input": [
      "jeu.ajouterJoueur(\"Thomas\")"
     ],
     "language": "python",
     "metadata": {},
     "outputs": [],
     "prompt_number": 6
    },
    {
     "cell_type": "code",
     "collapsed": false,
     "input": [
      "jeu.ajouterJoueurs(\"H\u00e9lios\",\"Joseph\",\"Olivier\")"
     ],
     "language": "python",
     "metadata": {},
     "outputs": [],
     "prompt_number": 7
    },
    {
     "cell_type": "code",
     "collapsed": false,
     "input": [
      "for joueur in jeu.joueurs:\n",
      "    jeu.remplirRack(joueur)\n",
      "    print joueur, jeu.racks[joueur].listerJetons()"
     ],
     "language": "python",
     "metadata": {},
     "outputs": [
      {
       "output_type": "stream",
       "stream": "stdout",
       "text": [
        "Thomas ['e', 'i', 'm', 'o', 's', 'u', 't']\n",
        "H\u00e9lios ['a', 'e', 'g', 'l', 'n', 'p', 't']\n",
        "Joseph ['e', 'f', 'o', 'o', 's', 'u', 'u']\n",
        "Olivier ['a', 'i', 'l', 'n', 's', 't', 'v']\n"
       ]
      }
     ],
     "prompt_number": 8
    },
    {
     "cell_type": "code",
     "collapsed": false,
     "input": [
      "jeu.plateau"
     ],
     "language": "python",
     "metadata": {},
     "outputs": [
      {
       "metadata": {},
       "output_type": "pyout",
       "prompt_number": 21,
       "text": [
        "**, aaaaaaa, cc, bb, eeeeeeeeee, d, gg, ff, iiiiii, hh, k, , mmm, lllll, oooooo, nnnn, q, pp, ssss, rrrr, uuuuu, tttt, w, vv, , x, z"
       ]
      }
     ],
     "prompt_number": 21
    },
    {
     "cell_type": "code",
     "collapsed": false,
     "input": [
      "for joueur in jeu.joueurs:\n",
      "    jeu.jouerLettres(joueur,rd.sample(jeu.racks[joueur].listerJetons(),5))"
     ],
     "language": "python",
     "metadata": {},
     "outputs": [
      {
       "output_type": "stream",
       "stream": "stderr",
       "text": [
        "-c:40: UserWarning: le sac est vide\n"
       ]
      }
     ],
     "prompt_number": 19
    },
    {
     "cell_type": "code",
     "collapsed": false,
     "input": [
      "jeu.sac"
     ],
     "language": "python",
     "metadata": {},
     "outputs": [
      {
       "metadata": {},
       "output_type": "pyout",
       "prompt_number": 20,
       "text": [
        ", , , , , , , , , , , , , , , , , , , , , , , , , , "
       ]
      }
     ],
     "prompt_number": 20
    },
    {
     "cell_type": "code",
     "collapsed": false,
     "input": [
      "for joueur in jeu.joueurs:\n",
      "    print joueur, jeu.racks[joueur].listerJetons()"
     ],
     "language": "python",
     "metadata": {},
     "outputs": [
      {
       "output_type": "stream",
       "stream": "stdout",
       "text": [
        "Thomas ['n', 's', 't']\n",
        "H\u00e9lios ['d', 'i', 'y']\n",
        "Joseph ['e', 'e']\n",
        "Olivier []\n"
       ]
      }
     ],
     "prompt_number": 29
    },
    {
     "cell_type": "code",
     "collapsed": false,
     "input": [
      "jeu.jouerLettres(\"Thomas\",\"rare\")"
     ],
     "language": "python",
     "metadata": {},
     "outputs": [
      {
       "metadata": {},
       "output_type": "pyout",
       "prompt_number": 23,
       "text": [
        "True"
       ]
      }
     ],
     "prompt_number": 23
    },
    {
     "cell_type": "code",
     "collapsed": false,
     "input": [
      "jeu.jouerLettres(\"H\u00e9lios\",\"jets\")"
     ],
     "language": "python",
     "metadata": {},
     "outputs": [
      {
       "metadata": {},
       "output_type": "pyout",
       "prompt_number": 25,
       "text": [
        "True"
       ]
      }
     ],
     "prompt_number": 25
    },
    {
     "cell_type": "code",
     "collapsed": false,
     "input": [
      "jeu.jouerLettres(\"Joseph\",\"nuie\")"
     ],
     "language": "python",
     "metadata": {},
     "outputs": [
      {
       "metadata": {},
       "output_type": "pyout",
       "prompt_number": 27,
       "text": [
        "True"
       ]
      }
     ],
     "prompt_number": 27
    },
    {
     "cell_type": "code",
     "collapsed": false,
     "input": [
      "jeu.jouerLettres(\"Olivier\",\"da\")"
     ],
     "language": "python",
     "metadata": {},
     "outputs": [
      {
       "output_type": "stream",
       "stream": "stdout",
       "text": [
        "Olivier a termin\u00e9, la partie est finie\n"
       ]
      },
      {
       "metadata": {},
       "output_type": "pyout",
       "prompt_number": 28,
       "text": [
        "True"
       ]
      }
     ],
     "prompt_number": 28
    },
    {
     "cell_type": "code",
     "collapsed": false,
     "input": [],
     "language": "python",
     "metadata": {},
     "outputs": []
    }
   ],
   "metadata": {}
  }
 ]
}