{
 "cells": [
  {
   "cell_type": "code",
   "execution_count": 51,
   "metadata": {
    "collapsed": true
   },
   "outputs": [],
   "source": [
    "import string,unidecode,codecs"
   ]
  },
  {
   "cell_type": "code",
   "execution_count": 52,
   "metadata": {
    "collapsed": true
   },
   "outputs": [],
   "source": [
    "strMots=u\"banc, bord, cars, coin, cris, lacs, lait, lieu, lion, lots, loup, lune, mine, mode, noms, onde, parc, pneu, quai, sels, tirs, état\"\n",
    "outFichier=\"IUT-Lettres.csv\""
   ]
  },
  {
   "cell_type": "code",
   "execution_count": 53,
   "metadata": {
    "collapsed": true
   },
   "outputs": [],
   "source": [
    "mots=[mot.strip() for mot in strMots.split(\",\")]"
   ]
  },
  {
   "cell_type": "code",
   "execution_count": 54,
   "metadata": {
    "collapsed": false
   },
   "outputs": [
    {
     "name": "stdout",
     "output_type": "stream",
     "text": [
      "{'a': 7, 'c': 6, 'b': 2, 'e': 8, 'd': 3, 'g': 0, 'f': 0, 'i': 8, 'h': 0, 'k': 0, 'j': 0, 'm': 3, 'l': 8, 'o': 8, 'n': 8, 'q': 1, 'p': 3, 's': 8, 'r': 5, 'u': 5, 't': 5, 'w': 0, 'v': 0, 'y': 0, 'x': 0, 'z': 0}\n"
     ]
    }
   ],
   "source": [
    "dicLettres={l:0 for l in string.ascii_lowercase}\n",
    "for mot in mots:\n",
    "    for lettre in mot:\n",
    "        dicLettres[unidecode.unidecode(lettre)]+=1\n",
    "print dicLettres"
   ]
  },
  {
   "cell_type": "raw",
   "metadata": {},
   "source": [
    "reste=len(mots)%3\n",
    "if reste!=0:\n",
    "    for n in range(3-reste):\n",
    "        mots.append(u\"----\")\n",
    "lignes=zip(*(iter(mots),) * 3)"
   ]
  },
  {
   "cell_type": "raw",
   "metadata": {},
   "source": [
    "for ligne in lignes:\n",
    "    lstLigne=[unidecode.unidecode(lettre) for mot in ligne for lettre in mot]+list(ligne)\n",
    "    print \";\".join(lstLigne)"
   ]
  },
  {
   "cell_type": "code",
   "execution_count": 55,
   "metadata": {
    "collapsed": false
   },
   "outputs": [],
   "source": [
    "with codecs.open(outFichier, \"w\", encoding=\"utf8\") as output:\n",
    "    for mot in mots:\n",
    "        lstLigne=[unidecode.unidecode(lettre) for lettre in mot]\n",
    "        output.write(\";\".join(lstLigne)+\"\\n\")"
   ]
  }
 ],
 "metadata": {
  "kernelspec": {
   "display_name": "Python 2",
   "language": "python",
   "name": "python2"
  },
  "language_info": {
   "codemirror_mode": {
    "name": "ipython",
    "version": 2
   },
   "file_extension": ".py",
   "mimetype": "text/x-python",
   "name": "python",
   "nbconvert_exporter": "python",
   "pygments_lexer": "ipython2",
   "version": "2.7.11"
  }
 },
 "nbformat": 4,
 "nbformat_minor": 0
}
