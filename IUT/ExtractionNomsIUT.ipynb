{
 "cells": [
  {
   "cell_type": "markdown",
   "metadata": {},
   "source": [
    "## Importations\n",
    "- codecs pour les encodages\n",
    "- pandas et numpy pour les calculs sur tableaux\n",
    "- matplotlib pour les graphiques\n",
    "- itertools pour les itérateurs sophistiqués (paires sur liste, ...)"
   ]
  },
  {
   "cell_type": "code",
   "execution_count": 1,
   "metadata": {
    "collapsed": false
   },
   "outputs": [],
   "source": [
    "# -*- coding: utf8 -*-\n",
    "import codecs\n",
    "import re\n",
    "import pandas as pd\n",
    "import numpy as np\n",
    "import matplotlib.pyplot as plt\n",
    "import itertools as it\n"
   ]
  },
  {
   "cell_type": "code",
   "execution_count": 2,
   "metadata": {
    "collapsed": false
   },
   "outputs": [],
   "source": [
    "bdlexiqueIn = unicode(u\"èò\")\n",
    "bdlexiqueNum = [ord(char) for char in bdlexiqueIn]\n",
    "neutreOut = unicode(u\"EO\")\n",
    "neutralise = dict(zip(bdlexiqueNum, neutreOut))"
   ]
  },
  {
   "cell_type": "code",
   "execution_count": 3,
   "metadata": {
    "collapsed": false
   },
   "outputs": [],
   "source": [
    "def recoder(chaine,table=neutralise):\n",
    "    if type(chaine)==str:\n",
    "        temp=unicode(chaine.decode('utf8')).translate(table)\n",
    "        result=temp.encode('utf8')\n",
    "    elif type(chaine)==unicode:\n",
    "        result=chaine.translate(table)\n",
    "    return result"
   ]
  },
  {
   "cell_type": "markdown",
   "metadata": {},
   "source": [
    "### Lecture du lexique"
   ]
  },
  {
   "cell_type": "code",
   "execution_count": 5,
   "metadata": {
    "collapsed": false
   },
   "outputs": [],
   "source": [
    "nomLexique=\"/Users/gilles/ownCloud/Python/phonemisation/bdlexique-PDM-Resync.txt\"\n",
    "bdlexique=pd.read_csv(nomLexique,sep=\";\",names=[\"ortho\",\"phono\",\"ext\",\"cs\",\"ms\",\"vs\",\"lexeme\",\"L23\",\"lemmeFrantext\",\"lemmeFilms\",\"formeFrantext\",\"formeFilms\"],encoding=\"utf8\")"
   ]
  },
  {
   "cell_type": "code",
   "execution_count": 32,
   "metadata": {
    "collapsed": false
   },
   "outputs": [],
   "source": [
    "bdlexique.loc[bdlexique[\"lemmeFrantext\"]==\"***\",\"lemmeFrantext\"]=0"
   ]
  },
  {
   "cell_type": "code",
   "execution_count": 40,
   "metadata": {
    "collapsed": false
   },
   "outputs": [],
   "source": [
    "setMots=set(bdlexique[(bdlexique[\"ortho\"].str.len()==4) & (bdlexique[\"cs\"]==\"N\") & (bdlexique[\"lemmeFrantext\"].astype(int)>1000)][\"ortho\"].values)"
   ]
  },
  {
   "cell_type": "code",
   "execution_count": 41,
   "metadata": {
    "collapsed": false
   },
   "outputs": [
    {
     "name": "stdout",
     "output_type": "stream",
     "text": [
      "300\n",
      "taxi, aube, cous, code, golf, voix, gant, coup, peur, robe, fins, fond, rire, rang, dose, four, clou, blés, cour, fête, kilo, bail, bain, puce, prix, onde, mais, yeux, lady, boue, fans, noix, tirs, tort, bloc, avis, nord, noce, bout, main, idée, abri, vers, mers, âmes, pâte, auto, pied, reçu, stop, caps, hôte, jupe, sons, poil, banc, foot, lois, cage, jeux, vols, vent, slip, fous, bons, saut, skis, sens, sang, soie, lacs, mode, rock, paye, épée, rein, sels, page, gang, bleu, mets, bars, rats, rêve, ères, psys, porc, lieu, aide, chef, lion, loge, parc, faim, prés, bord, clef, port, oeuf, luxe, lait, miel, lots, tube, sous, gage, bien, race, télé, trou, aile, prof, cris, viol, jobs, sexe, cars, team, pose, labo, tour, boss, nids, bols, base, dire, vues, coma, zoos, oeil, sols, zéro, culs, bras, ange, choc, soda, tire, plat, midi, loup, gens, père, rois, mont, aura, rose, rôle, star, vies, ânes, fait, dons, côté, clés, ciel, pays, mise, gare, lien, ducs, jets, fers, rues, mort, lune, café, vote, étés, miss, gars, coqs, curé, bois, arts, foie, ciné, fric, pots, mari, cent, mark, pute, noms, airs, ares, pile, cran, arme, type, aveu, sort, peso, jury, club, être, tons, pari, site, buts, boys, mans, quai, ours, baby, juge, truc, moto, baux, pote, fort, pull, tête, poux, look, rage, maux, fées, rate, joie, sacs, lire, coca, voeu, taux, dame, flot, sein, flic, fils, cuir, soif, file, côte, pont, soin, vélo, mine, hâte, char, îles, mots, zone, défi, soir, mois, dent, vins, film, nerf, eaux, murs, jour, lame, pain, cave, pneu, août, lits, goût, note, cité, juin, joue, beau, test, roue, acte, chou, voie, nuit, drap, peau, papa, fois, dieu, pubs, paix, état, plan, date, âges, coin, bals, toit, vice, thés, camp, feux, face, pipe, nana, tsar, part, vase, mecs, prêt, pipi, tops, came\n"
     ]
    }
   ],
   "source": [
    "print len(setMots)\n",
    "print \", \".join(setMots)"
   ]
  }
 ],
 "metadata": {
  "kernelspec": {
   "display_name": "Python 2",
   "language": "python",
   "name": "python2"
  },
  "language_info": {
   "codemirror_mode": {
    "name": "ipython",
    "version": 2
   },
   "file_extension": ".py",
   "mimetype": "text/x-python",
   "name": "python",
   "nbconvert_exporter": "python",
   "pygments_lexer": "ipython2",
   "version": "2.7.11"
  }
 },
 "nbformat": 4,
 "nbformat_minor": 0
}
