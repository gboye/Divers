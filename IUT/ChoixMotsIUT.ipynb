{
 "cells": [
  {
   "cell_type": "code",
   "execution_count": 2,
   "metadata": {
    "collapsed": true
   },
   "outputs": [],
   "source": [
    "import string, unidecode\n",
    "import random as rd"
   ]
  },
  {
   "cell_type": "code",
   "execution_count": 3,
   "metadata": {
    "collapsed": false
   },
   "outputs": [],
   "source": [
    "strMots=u\"taxi, aube, cous, code, golf, voix, gant, coup, peur, fins, fond, rire, rang, four, clou, blés, cour, fête, kilo, bail, bain, puce, prix, onde, mais, yeux, boue, fans, noix, tirs, tort, bloc, avis, nord, noce, main, idée, abri, vers, mers, âmes, pâte, pied, reçu, stop, caps, hôte, sons, banc, foot, lois, cage, jeux, vols, vent, fous, bons, saut, skis, sens, soie, lacs, mode, rock, paye, épée, sels, page, bleu, mets, bars, rats, rêve, porc, lieu, aide, chef, lion, loge, parc, faim, prés, bord, clef, port, oeuf, luxe, lait, miel, lots, tube, sous, gage, bien, race, trou, aile, cris, cars, pose, tour, nids, bols, base, dire, vues, zoos, oeil, sols, bras, ange, choc, soda, tire, plat, midi, loup, gens, père, rois, mont, aura, rose, rôle, vies, ânes, fait, dons, côté, clés, ciel, pays, mise, gare, lien, ducs, jets, fers, rues, lune, café, vote, étés, coqs, bois, arts, foie, pots, mari, cent, noms, airs, ares, pile, cran, type, aveu, sort, jury, club, être, tons, pari, site, buts, quai, ours, juge, truc, moto, baux, pote, fort, tête, poux, rage, maux, fées, rate, joie, sacs, lire, voeu, taux, flot, fils, cuir, soif, file, côte, pont, soin, vélo, mine, hâte, char, îles, mots, zone, défi, soir, mois, dent, film, nerf, eaux, murs, jour, lame, pain, cave, pneu, août, lits, goût, note, cité, juin, joue, beau, test, roue, acte, chou, voie, nuit, peau, fois, paix, état, plan, date, âges, coin, bals, toit, thés, camp, feux, face, tsar, part, vase, prêt\""
   ]
  },
  {
   "cell_type": "code",
   "execution_count": 4,
   "metadata": {
    "collapsed": false
   },
   "outputs": [],
   "source": [
    "lstMots=strMots.split(\",\")\n",
    "lstMots=[e.strip() for e in lstMots]"
   ]
  },
  {
   "cell_type": "code",
   "execution_count": 5,
   "metadata": {
    "collapsed": true
   },
   "outputs": [],
   "source": [
    "sample=[]"
   ]
  },
  {
   "cell_type": "code",
   "execution_count": 17,
   "metadata": {
    "collapsed": false
   },
   "outputs": [
    {
     "name": "stdout",
     "output_type": "stream",
     "text": [
      "aube, camp, cars, club, cuir, fers, hôte, jury, kilo, mine, murs, note, part, plan, pont, pote, prix, prêt, sacs, sous, tons, vent\n",
      "8 {'a': 6, 'c': 5, 'b': 2, 'e': 8, 'd': 0, 'g': 0, 'f': 1, 'i': 4, 'h': 1, 'k': 1, 'j': 1, 'm': 3, 'l': 3, 'o': 7, 'n': 6, 'q': 0, 'p': 7, 's': 8, 'r': 8, 'u': 6, 't': 8, 'w': 0, 'v': 1, 'y': 1, 'x': 1, 'z': 0}\n",
      "avis, bain, bord, café, cent, fond, lits, luxe, maux, onde, part, plat, pots, quai, rire, rock, skis, sons, taux, tour, vent, voix\n",
      "8 {'a': 8, 'c': 3, 'b': 2, 'e': 6, 'd': 3, 'g': 0, 'f': 2, 'i': 7, 'h': 0, 'k': 2, 'j': 0, 'm': 1, 'l': 3, 'o': 8, 'n': 6, 'q': 1, 'p': 3, 's': 7, 'r': 6, 'u': 5, 't': 8, 'w': 0, 'v': 3, 'y': 0, 'x': 4, 'z': 0}\n",
      "abri, aura, bain, baux, blés, bols, buts, cent, choc, cran, côte, dire, dons, fort, gage, jury, mets, midi, miel, soda, stop, zone\n",
      "8 {'a': 8, 'c': 5, 'b': 6, 'e': 8, 'd': 4, 'g': 2, 'f': 1, 'i': 6, 'h': 1, 'k': 0, 'j': 1, 'm': 3, 'l': 3, 'o': 8, 'n': 5, 'q': 0, 'p': 1, 's': 7, 'r': 6, 'u': 4, 't': 6, 'w': 0, 'v': 0, 'y': 1, 'x': 1, 'z': 1}\n",
      "abri, bail, bien, blés, bord, buts, cars, cour, cran, ducs, eaux, file, fond, juin, loup, main, mois, rang, stop, vase, vote, îles\n",
      "8 {'a': 8, 'c': 4, 'b': 6, 'e': 7, 'd': 3, 'g': 1, 'f': 2, 'i': 8, 'h': 0, 'k': 0, 'j': 1, 'm': 2, 'l': 5, 'o': 7, 'n': 6, 'q': 0, 'p': 2, 's': 8, 'r': 6, 'u': 6, 't': 3, 'w': 0, 'v': 2, 'y': 0, 'x': 1, 'z': 0}\n",
      "banc, buts, cars, club, cous, cran, dire, film, gant, goût, jury, lire, mois, moto, pneu, pont, pose, puce, saut, tort, âges, ânes\n",
      "8 {'a': 7, 'c': 6, 'b': 3, 'e': 7, 'd': 1, 'g': 3, 'f': 1, 'i': 4, 'h': 0, 'k': 0, 'j': 1, 'm': 3, 'l': 3, 'o': 8, 'n': 6, 'q': 0, 'p': 4, 's': 8, 'r': 6, 'u': 8, 't': 8, 'w': 0, 'v': 0, 'y': 1, 'x': 0, 'z': 0}\n",
      "acte, café, caps, cris, eaux, fils, fins, foot, jets, juge, lots, mari, maux, pari, pont, prix, rang, soif, truc, voix, yeux, étés\n",
      "8 {'a': 8, 'c': 5, 'b': 0, 'e': 8, 'd': 0, 'g': 2, 'f': 5, 'i': 8, 'h': 0, 'k': 0, 'j': 2, 'm': 2, 'l': 2, 'o': 6, 'n': 3, 'q': 0, 'p': 4, 's': 8, 'r': 6, 'u': 5, 't': 7, 'w': 0, 'v': 1, 'y': 1, 'x': 5, 'z': 0}\n",
      "ange, baux, bloc, camp, clef, fils, fort, goût, jeux, jour, lacs, midi, mise, noms, rôle, saut, tire, tour, truc, vase, voix, ânes\n",
      "8 {'a': 7, 'c': 5, 'b': 2, 'e': 8, 'd': 1, 'g': 2, 'f': 3, 'i': 6, 'h': 0, 'k': 0, 'j': 2, 'm': 4, 'l': 5, 'o': 8, 'n': 3, 'q': 0, 'p': 1, 's': 7, 'r': 6, 'u': 7, 't': 6, 'w': 0, 'v': 2, 'y': 0, 'x': 3, 'z': 0}\n",
      "abri, aide, arts, baux, choc, coin, cuir, ducs, film, jets, juin, loup, mots, nerf, parc, pneu, port, reçu, sacs, vent, vers, âmes\n",
      "8 {'a': 7, 'c': 8, 'b': 2, 'e': 8, 'd': 2, 'g': 0, 'f': 2, 'i': 6, 'h': 1, 'k': 0, 'j': 2, 'm': 3, 'l': 2, 'o': 5, 'n': 5, 'q': 0, 'p': 4, 's': 8, 'r': 8, 'u': 7, 't': 5, 'w': 0, 'v': 2, 'y': 0, 'x': 1, 'z': 0}\n",
      "avis, buts, camp, caps, cars, ciel, code, cuir, côte, dent, film, four, lien, mont, mots, nids, noms, pain, part, peur, taux, taxi\n",
      "8 {'a': 8, 'c': 7, 'b': 1, 'e': 6, 'd': 3, 'g': 0, 'f': 2, 'i': 8, 'h': 0, 'k': 0, 'j': 0, 'm': 5, 'l': 3, 'o': 6, 'n': 6, 'q': 0, 'p': 5, 's': 7, 'r': 5, 'u': 5, 't': 8, 'w': 0, 'v': 1, 'y': 0, 'x': 2, 'z': 0}\n",
      "baux, dons, faim, film, fond, fées, gant, gens, goût, juge, juin, lame, lits, murs, paye, pont, poux, soda, tour, trou, tsar, vase\n",
      "8 {'a': 8, 'c': 0, 'b': 1, 'e': 7, 'd': 3, 'g': 4, 'f': 4, 'i': 4, 'h': 0, 'k': 0, 'j': 2, 'm': 4, 'l': 3, 'o': 8, 'n': 6, 'q': 0, 'p': 3, 's': 8, 'r': 4, 'u': 8, 't': 7, 'w': 0, 'v': 1, 'y': 1, 'x': 2, 'z': 0}\n",
      "camp, clou, date, fils, fins, jour, jury, lacs, luxe, maux, murs, oeil, paix, part, pont, pose, prix, rock, soir, thés, type, voix\n",
      "8 {'a': 6, 'c': 4, 'b': 0, 'e': 6, 'd': 1, 'g': 0, 'f': 2, 'i': 7, 'h': 1, 'k': 1, 'j': 2, 'm': 3, 'l': 5, 'o': 8, 'n': 2, 'q': 0, 'p': 7, 's': 7, 'r': 7, 'u': 6, 't': 5, 'w': 0, 'v': 1, 'y': 2, 'x': 5, 'z': 0}\n",
      "airs, bain, clou, coup, côte, dent, faim, foie, fous, juin, jury, lait, loge, loup, pays, porc, prix, prés, puce, thés, tirs, vent\n",
      "8 {'a': 5, 'c': 5, 'b': 1, 'e': 8, 'd': 1, 'g': 1, 'f': 3, 'i': 8, 'h': 1, 'k': 0, 'j': 2, 'm': 1, 'l': 4, 'o': 8, 'n': 4, 'q': 0, 'p': 7, 's': 6, 'r': 6, 'u': 7, 't': 6, 'w': 0, 'v': 1, 'y': 2, 'x': 1, 'z': 0}\n",
      "acte, avis, cuir, ducs, faim, fils, fond, gant, lire, lots, lune, mais, noms, nord, note, plan, rang, rate, rire, rêve, soif, vols\n",
      "8 {'a': 8, 'c': 3, 'b': 0, 'e': 8, 'd': 3, 'g': 2, 'f': 4, 'i': 8, 'h': 0, 'k': 0, 'j': 0, 'm': 3, 'l': 6, 'o': 7, 'n': 8, 'q': 0, 'p': 1, 's': 8, 'r': 8, 'u': 3, 't': 5, 'w': 0, 'v': 3, 'y': 0, 'x': 0, 'z': 0}\n",
      "bras, char, clef, club, coqs, date, dire, eaux, fins, foot, jeux, lien, loup, mari, midi, nuit, page, plat, prix, sons, truc, vers\n",
      "8 {'a': 7, 'c': 5, 'b': 2, 'e': 8, 'd': 3, 'g': 1, 'f': 3, 'i': 8, 'h': 1, 'k': 0, 'j': 1, 'm': 2, 'l': 5, 'o': 5, 'n': 4, 'q': 1, 'p': 4, 's': 6, 'r': 7, 'u': 6, 't': 5, 'w': 0, 'v': 1, 'y': 0, 'x': 3, 'z': 0}\n",
      "beau, bloc, bols, buts, choc, cuir, dire, fils, lait, mers, noix, pays, plat, pont, porc, prêt, race, saut, soin, type, voix, yeux\n",
      "8 {'a': 6, 'c': 6, 'b': 4, 'e': 7, 'd': 1, 'g': 0, 'f': 1, 'i': 7, 'h': 1, 'k': 0, 'j': 0, 'm': 1, 'l': 5, 'o': 8, 'n': 3, 'q': 0, 'p': 6, 's': 7, 'r': 6, 'u': 5, 't': 7, 'w': 0, 'v': 1, 'y': 3, 'x': 3, 'z': 0}\n",
      "ares, aveu, bols, cent, choc, cran, cuir, fond, lacs, lait, lots, lune, mers, midi, noce, paix, prix, prés, sort, taxi, tons, vent\n",
      "8 {'a': 7, 'c': 7, 'b': 1, 'e': 8, 'd': 2, 'g': 0, 'f': 1, 'i': 7, 'h': 1, 'k': 0, 'j': 0, 'm': 2, 'l': 5, 'o': 7, 'n': 7, 'q': 0, 'p': 3, 's': 8, 'r': 7, 'u': 3, 't': 7, 'w': 0, 'v': 2, 'y': 0, 'x': 3, 'z': 0}\n",
      "base, bord, café, char, club, cour, cuir, feux, film, goût, lion, midi, peau, plat, sols, sons, stop, taux, taxi, type, vies, îles\n",
      "8 {'a': 7, 'c': 5, 'b': 3, 'e': 7, 'd': 2, 'g': 1, 'f': 3, 'i': 8, 'h': 1, 'k': 0, 'j': 0, 'm': 2, 'l': 6, 'o': 7, 'n': 2, 'q': 0, 'p': 4, 's': 8, 'r': 4, 'u': 7, 't': 6, 'w': 0, 'v': 1, 'y': 1, 'x': 3, 'z': 0}\n",
      "bail, base, café, clou, coup, dons, file, fois, gant, jury, main, midi, nids, prêt, rock, rose, sacs, sort, truc, vent, yeux, zone\n",
      "8 {'a': 6, 'c': 6, 'b': 2, 'e': 8, 'd': 3, 'g': 1, 'f': 3, 'i': 7, 'h': 0, 'k': 1, 'j': 1, 'm': 2, 'l': 3, 'o': 8, 'n': 6, 'q': 0, 'p': 2, 's': 8, 'r': 6, 'u': 5, 't': 5, 'w': 0, 'v': 1, 'y': 2, 'x': 1, 'z': 1}\n",
      "acte, aura, banc, bloc, bras, club, cuir, fers, film, fois, gage, juin, lait, nerf, noms, onde, porc, port, prés, taux, test, vols\n",
      "8 {'a': 8, 'c': 6, 'b': 4, 'e': 7, 'd': 1, 'g': 2, 'f': 4, 'i': 5, 'h': 0, 'k': 0, 'j': 1, 'm': 2, 'l': 5, 'o': 7, 'n': 5, 'q': 0, 'p': 3, 's': 7, 'r': 8, 'u': 5, 't': 6, 'w': 0, 'v': 1, 'y': 0, 'x': 1, 'z': 0}\n",
      "août, bail, bain, beau, bras, dire, fous, gage, gens, golf, kilo, lien, maux, mont, nuit, pain, pont, prix, thés, vent, voeu, vols\n",
      "8 {'a': 8, 'c': 0, 'b': 4, 'e': 8, 'd': 1, 'g': 4, 'f': 2, 'i': 8, 'h': 1, 'k': 1, 'j': 0, 'm': 2, 'l': 5, 'o': 8, 'n': 8, 'q': 0, 'p': 3, 's': 5, 'r': 3, 'u': 6, 't': 6, 'w': 0, 'v': 3, 'y': 0, 'x': 2, 'z': 0}\n",
      "avis, bain, bleu, clef, code, cous, cran, cris, fort, juin, midi, onde, page, pays, porc, poux, rage, rêve, taux, toit, tort, truc\n",
      "8 {'a': 7, 'c': 7, 'b': 2, 'e': 8, 'd': 3, 'g': 2, 'f': 2, 'i': 7, 'h': 0, 'k': 0, 'j': 1, 'm': 1, 'l': 2, 'o': 8, 'n': 4, 'q': 0, 'p': 4, 's': 4, 'r': 8, 'u': 6, 't': 7, 'w': 0, 'v': 2, 'y': 1, 'x': 2, 'z': 0}\n",
      "aura, bals, bons, club, coup, cuir, fans, film, fond, jeux, lois, midi, pari, pneu, porc, pose, prix, prêt, soie, tort, tube, vues\n",
      "8 {'a': 5, 'c': 4, 'b': 4, 'e': 7, 'd': 2, 'g': 0, 'f': 3, 'i': 8, 'h': 0, 'k': 0, 'j': 1, 'm': 2, 'l': 4, 'o': 8, 'n': 4, 'q': 0, 'p': 7, 's': 7, 'r': 7, 'u': 8, 't': 4, 'w': 0, 'v': 1, 'y': 0, 'x': 2, 'z': 0}\n",
      "airs, aveu, baux, bons, cage, ciel, club, clés, coup, face, faim, film, fois, fond, gant, goût, murs, noce, soif, tons, tube, vent\n",
      "8 {'a': 7, 'c': 7, 'b': 4, 'e': 8, 'd': 1, 'g': 3, 'f': 6, 'i': 6, 'h': 0, 'k': 0, 'j': 0, 'm': 3, 'l': 4, 'o': 8, 'n': 6, 'q': 0, 'p': 1, 's': 7, 'r': 2, 'u': 7, 't': 5, 'w': 0, 'v': 2, 'y': 0, 'x': 1, 'z': 0}\n"
     ]
    }
   ],
   "source": [
    "sampleNumber=10000\n",
    "seuilLettre=8\n",
    "for numSample in range(sampleNumber):\n",
    "    lstSample=rd.sample(lstMots,22)\n",
    "    dicLettres={l:0 for l in string.ascii_lowercase}\n",
    "    for mot in lstSample:\n",
    "        lettres=list(mot)\n",
    "        for lettre in lettres:\n",
    "            dicLettres[unidecode.unidecode(lettre)]+=1\n",
    "    maxLettre=max(dicLettres.values())\n",
    "    if maxLettre<=seuilLettre:\n",
    "        print \", \".join(sorted(lstSample))\n",
    "        print max(dicLettres.values()), dicLettres\n",
    "        sample.append(lstSample)\n",
    "        "
   ]
  },
  {
   "cell_type": "code",
   "execution_count": 18,
   "metadata": {
    "collapsed": false,
    "scrolled": true
   },
   "outputs": [
    {
     "name": "stdout",
     "output_type": "stream",
     "text": [
      "aube, camp, cars, club, cuir, fers, hôte, jury, kilo, mine, murs, note, part, plan, pont, pote, prix, prêt, sacs, sous, tons, vent\n",
      "bail, choc, coin, eaux, fers, fous, lait, midi, noms, nuit, part, pays, pneu, port, pots, race, rang, tour, tsar, vent, vols, vues\n",
      "abri, aide, arts, baux, choc, coin, cuir, ducs, film, jets, juin, loup, mots, nerf, parc, pneu, port, reçu, sacs, vent, vers, âmes\n",
      "banc, bols, club, face, fils, fort, fous, hâte, joie, joue, jury, lame, lire, maux, nord, pari, rang, rois, sels, stop, truc, âmes\n",
      "caps, cars, cité, coup, faim, film, fils, goût, hâte, hôte, kilo, lion, mers, mets, mont, part, pays, prix, rage, rats, soir, yeux\n",
      "airs, bain, clou, coup, côte, dent, faim, foie, fous, juin, jury, lait, loge, loup, pays, porc, prix, prés, puce, thés, tirs, vent\n",
      "airs, aveu, baux, bons, cage, ciel, club, clés, coup, face, faim, film, fois, fond, gant, goût, murs, noce, soif, tons, tube, vent\n",
      "banc, bars, boue, buts, cave, clef, coin, cour, file, fins, four, jury, maux, mine, mode, noix, noms, prix, saut, tsar, vues, âmes\n",
      "acte, aura, banc, bloc, bras, club, cuir, fers, film, fois, gage, juin, lait, nerf, noms, onde, porc, port, prés, taux, test, vols\n",
      "bien, buts, char, clef, clés, cour, film, luxe, mais, mont, moto, noix, pneu, prés, quai, rang, saut, soir, tons, truc, vase, état\n",
      "abri, bain, club, eaux, fers, fond, golf, juin, lacs, lieu, loup, mais, mots, pile, plat, pneu, pots, prix, soda, test, truc, âmes\n",
      "ares, aveu, bols, cent, choc, cran, cuir, fond, lacs, lait, lots, lune, mers, midi, noce, paix, prix, prés, sort, taxi, tons, vent\n",
      "bail, base, café, clou, coup, dons, file, fois, gant, jury, main, midi, nids, prêt, rock, rose, sacs, sort, truc, vent, yeux, zone\n",
      "bloc, bras, choc, dons, film, flot, hôte, juin, kilo, luxe, parc, pari, paye, peau, pied, porc, rage, sons, taxi, tsar, tube, vers\n",
      "acte, avis, cuir, ducs, faim, fils, fond, gant, lire, lots, lune, mais, noms, nord, note, plan, rang, rate, rire, rêve, soif, vols\n",
      "avis, bain, bord, café, cent, fond, lits, luxe, maux, onde, part, plat, pots, quai, rire, rock, skis, sons, taux, tour, vent, voix\n",
      "bons, choc, cris, côte, ducs, défi, fait, golf, juin, lacs, lune, mari, murs, ours, paye, plat, rate, rire, sons, trou, tube, vote\n",
      "banc, buts, cars, club, cous, cran, dire, film, gant, goût, jury, lire, mois, moto, pneu, pont, pose, puce, saut, tort, âges, ânes\n",
      "banc, base, beau, bons, clef, cuir, flot, fond, jury, mari, mers, mine, noce, oeil, plan, poux, prix, prés, rats, soir, sols, taux\n",
      "base, bord, café, char, club, cour, cuir, feux, film, goût, lion, midi, peau, plat, sols, sons, stop, taux, taxi, type, vies, îles\n",
      "avis, buts, camp, caps, cars, ciel, code, cuir, côte, dent, film, four, lien, mont, mots, nids, noms, pain, part, peur, taux, taxi\n",
      "abri, bail, bien, blés, bord, buts, cars, cour, cran, ducs, eaux, file, fond, juin, loup, main, mois, rang, stop, vase, vote, îles\n",
      "abri, bars, caps, cave, choc, cour, fond, lion, mers, mets, mise, nerf, noms, nuit, pain, plat, poux, quai, tirs, trou, vues, état\n",
      "chou, cuir, fins, jour, lire, lits, lots, loup, maux, mets, mont, paye, peur, porc, race, rate, sacs, taxi, trou, tube, vols, âmes\n",
      "août, avis, baux, char, chef, chou, clou, dent, fois, gage, gant, gens, jeux, jour, lits, lois, mise, paye, pays, pots, poux, puce\n",
      "août, bail, bain, beau, bras, dire, fous, gage, gens, golf, kilo, lien, maux, mont, nuit, pain, pont, prix, thés, vent, voeu, vols\n",
      "bras, char, clef, club, coqs, date, dire, eaux, fins, foot, jeux, lien, loup, mari, midi, nuit, page, plat, prix, sons, truc, vers\n",
      "airs, aube, bail, bons, bord, camp, caps, cent, ciel, cuir, dent, ducs, fond, fort, hôte, jury, lame, luxe, noce, nord, tirs, tons\n",
      "ange, baux, bloc, camp, clef, fils, fort, goût, jeux, jour, lacs, midi, mise, noms, rôle, saut, tire, tour, truc, vase, voix, ânes\n",
      "acte, café, caps, cris, eaux, fils, fins, foot, jets, juge, lots, mari, maux, pari, pont, prix, rang, soif, truc, voix, yeux, étés\n",
      "airs, cars, cent, cité, coup, cris, fans, film, fond, mont, mots, murs, noix, note, pari, plan, rang, rate, soie, taux, voix, épée\n",
      "abri, ange, bain, code, coqs, cran, ducs, feux, fils, hâte, hôte, juin, luxe, nuit, pied, pâte, sols, taux, toit, truc, vols, zoos\n",
      "bail, bleu, bois, boue, cran, cuir, date, dons, ducs, défi, mois, nord, parc, pile, plat, port, prix, rues, sous, truc, tube, âmes\n",
      "banc, bleu, boue, camp, choc, cran, flot, gage, juge, juin, lait, loup, maux, mets, midi, murs, sacs, truc, vase, vent, zone, zoos\n",
      "bals, bois, bols, boue, camp, dent, fils, fort, gant, juin, lots, mari, mers, noce, noms, onde, paye, plan, pneu, quai, taxi, vers\n",
      "camp, clou, date, fils, fins, jour, jury, lacs, luxe, maux, murs, oeil, paix, part, pont, pose, prix, rock, soir, thés, type, voix\n",
      "beau, bleu, bols, club, flot, fond, juge, juin, lien, mari, maux, midi, mont, part, poux, prix, rock, tirs, tour, vase, zone, âges\n",
      "aura, bals, bons, club, coup, cuir, fans, film, fond, jeux, lois, midi, pari, pneu, porc, pose, prix, prêt, soie, tort, tube, vues\n",
      "avis, bain, bien, bord, cage, club, dent, foot, fous, gens, jury, noix, nord, ours, part, plan, prêt, reçu, rois, skis, état, îles\n",
      "baux, dons, faim, film, fond, fées, gant, gens, goût, juge, juin, lame, lits, murs, paye, pont, poux, soda, tour, trou, tsar, vase\n",
      "avis, bain, bleu, clef, code, cous, cran, cris, fort, juin, midi, onde, page, pays, porc, poux, rage, rêve, taux, toit, tort, truc\n",
      "bons, cave, club, cuir, fait, flot, fous, main, mais, noms, parc, part, pied, port, puce, rock, saut, sens, soie, taxi, vent, yeux\n",
      "banc, bord, cars, coin, cris, lacs, lait, lieu, lion, lots, loup, lune, mine, mode, noms, onde, parc, pneu, quai, sels, tirs, état\n",
      "abri, aura, bain, baux, blés, bols, buts, cent, choc, cran, côte, dire, dons, fort, gage, jury, mets, midi, miel, soda, stop, zone\n",
      "bain, beau, bord, buts, camp, chou, clef, code, ducs, fort, lien, maux, mois, murs, page, pain, plan, pots, prix, rats, vues, yeux\n",
      "beau, bloc, bols, buts, choc, cuir, dire, fils, lait, mers, noix, pays, plat, pont, porc, prêt, race, saut, soin, type, voix, yeux\n",
      "avis, bals, bien, bras, cour, cran, ducs, faim, file, juin, lire, maux, miel, moto, plan, port, prix, prés, roue, stop, thés, yeux\n",
      "août, bloc, bois, camp, choc, clés, cour, ducs, fers, film, fils, fond, lire, main, noce, part, paye, peur, prêt, soif, tire, tsar\n"
     ]
    }
   ],
   "source": [
    "setSample=set(\", \".join(sorted(exemple)) for exemple in sample)\n",
    "for element in setSample:\n",
    "    print element"
   ]
  },
  {
   "cell_type": "code",
   "execution_count": 14,
   "metadata": {
    "collapsed": false
   },
   "outputs": [
    {
     "data": {
      "text/plain": [
       "0"
      ]
     },
     "execution_count": 14,
     "metadata": {},
     "output_type": "execute_result"
    }
   ],
   "source": [
    "len(sample)"
   ]
  },
  {
   "cell_type": "code",
   "execution_count": null,
   "metadata": {
    "collapsed": true
   },
   "outputs": [],
   "source": []
  }
 ],
 "metadata": {
  "kernelspec": {
   "display_name": "Python 2",
   "language": "python",
   "name": "python2"
  },
  "language_info": {
   "codemirror_mode": {
    "name": "ipython",
    "version": 2
   },
   "file_extension": ".py",
   "mimetype": "text/x-python",
   "name": "python",
   "nbconvert_exporter": "python",
   "pygments_lexer": "ipython2",
   "version": "2.7.11"
  }
 },
 "nbformat": 4,
 "nbformat_minor": 0
}
