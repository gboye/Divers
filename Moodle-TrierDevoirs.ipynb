{
 "cells": [
  {
   "cell_type": "code",
   "execution_count": 22,
   "metadata": {},
   "outputs": [],
   "source": [
    "import glob,os,re,shutil"
   ]
  },
  {
   "cell_type": "code",
   "execution_count": null,
   "metadata": {},
   "outputs": [],
   "source": [
    "home = os.path.expanduser(\"~\")\n",
    "repDownloads=home+\"/Downloads/\"\n",
    "devoir=u\"LNS2U2-Dépot pour les Kanoniks finalisés-120498\"\n",
    "devoir=u\"LNS6E812-Évaluations Ski et Visite incinérateur-62435 2\"\n",
    "devoir=u\"LNS2U2-Dépôt DM Kalabia-124014\"\n",
    "dest=u\"Extrait/\"\n",
    "repDevoir=repDownloads+devoir+\"/\"\n",
    "listURL=glob.glob(repDevoir+\"*.*\")\n",
    "listURL\n",
    "regexPref=ur\"(Kalabia-\\d\\d?)-\"\n",
    "regexRename=ur\"(Kalabia)-(\\d\\d?)\""
   ]
  },
  {
   "cell_type": "markdown",
   "metadata": {},
   "source": [
    "Raccourci pour renommer les pdf uniques avec le nom du groupe"
   ]
  },
  {
   "cell_type": "code",
   "execution_count": 36,
   "metadata": {},
   "outputs": [],
   "source": [
    "boolRename=False"
   ]
  },
  {
   "cell_type": "code",
   "execution_count": 24,
   "metadata": {},
   "outputs": [],
   "source": [
    "def copyFichiers(regex,listURL):\n",
    "    etuGroupe={}\n",
    "    repGroupe={}\n",
    "    repFichiers={}\n",
    "    for url in listURL:\n",
    "        nomFichier=url.split(\"/\")[-1]\n",
    "    #    print nomFichier\n",
    "        m=re.match(regex,nomFichier)\n",
    "        if m:\n",
    "            groupe=m.group(1)\n",
    "            etudiant=m.group(2)\n",
    "            if groupe not in repGroupe:\n",
    "                repGroupe[groupe]=etudiant\n",
    "                etuGroupe[groupe]=set([etudiant])\n",
    "                repFichiers[groupe]=set()\n",
    "                repFichiers[groupe].add(m.group(3))\n",
    "            elif etudiant==repGroupe[groupe]:\n",
    "                repFichiers[groupe].add(m.group(3))\n",
    "            else:\n",
    "                etuGroupe[groupe].add(etudiant)\n",
    "    for groupe in repGroupe:\n",
    "        etudiant=repGroupe[groupe]\n",
    "        for fichier in repFichiers[groupe]:\n",
    "            print repDevoir+groupe+\"-\"+etudiant+fichier\n",
    "            repertoire=repDevoir+groupe+\"/\"\n",
    "            print repertoire+fichier\n",
    "            if not os.path.exists(repertoire):\n",
    "                os.makedirs(repertoire)\n",
    "            shutil.copy2(repDevoir+groupe+\"-\"+etudiant+fichier,repDevoir+groupe+\"/\"+fichier)"
   ]
  },
  {
   "cell_type": "code",
   "execution_count": 25,
   "metadata": {},
   "outputs": [
    {
     "name": "stdout",
     "output_type": "stream",
     "text": [
      "/Users/gilles/Downloads/LNS2U2-Dépôt DM Kalabia-124014/Kalabia-9-LUCIE CAILLABET_354218_assignsubmission_file_Kalabia G9.pdf\n",
      "/Users/gilles/Downloads/LNS2U2-Dépôt DM Kalabia-124014/Kalabia-9/Kalabia G9.pdf\n",
      "/Users/gilles/Downloads/LNS2U2-Dépôt DM Kalabia-124014/Kalabia-8-CHIFIU BOURDET_354221_assignsubmission_file_Kalabia.pdf\n",
      "/Users/gilles/Downloads/LNS2U2-Dépôt DM Kalabia-124014/Kalabia-8/Kalabia.pdf\n",
      "/Users/gilles/Downloads/LNS2U2-Dépôt DM Kalabia-124014/Kalabia-5-ELEA DUPONT--TABEL_353166_assignsubmission_file_groupe 5.pdf\n",
      "/Users/gilles/Downloads/LNS2U2-Dépôt DM Kalabia-124014/Kalabia-5/groupe 5.pdf\n",
      "/Users/gilles/Downloads/LNS2U2-Dépôt DM Kalabia-124014/Kalabia-4-KALANGA NDJADI_353188_assignsubmission_file_DM KALABIA.pdf\n",
      "/Users/gilles/Downloads/LNS2U2-Dépôt DM Kalabia-124014/Kalabia-4/DM KALABIA.pdf\n",
      "/Users/gilles/Downloads/LNS2U2-Dépôt DM Kalabia-124014/Kalabia-7-JULIENNE METAIS_354196_assignsubmission_file_DM kalabia S2.pdf\n",
      "/Users/gilles/Downloads/LNS2U2-Dépôt DM Kalabia-124014/Kalabia-7/DM kalabia S2.pdf\n",
      "/Users/gilles/Downloads/LNS2U2-Dépôt DM Kalabia-124014/Kalabia-1-LYSA RIVES_353088_assignsubmission_file_DM Kalabia groupe 1.pdf\n",
      "/Users/gilles/Downloads/LNS2U2-Dépôt DM Kalabia-124014/Kalabia-1/DM Kalabia groupe 1.pdf\n",
      "/Users/gilles/Downloads/LNS2U2-Dépôt DM Kalabia-124014/Kalabia-3-MARIE MONTAGNE_353151_assignsubmission_file_DM KALABIA.pdf\n",
      "/Users/gilles/Downloads/LNS2U2-Dépôt DM Kalabia-124014/Kalabia-3/DM KALABIA.pdf\n",
      "/Users/gilles/Downloads/LNS2U2-Dépôt DM Kalabia-124014/Kalabia-2-BLANDINE GAULTIER DE CARVILLE_353092_assignsubmission_file_Grammaire_Kalabia.pdf\n",
      "/Users/gilles/Downloads/LNS2U2-Dépôt DM Kalabia-124014/Kalabia-2/Grammaire_Kalabia.pdf\n",
      "/Users/gilles/Downloads/LNS2U2-Dépôt DM Kalabia-124014/Kalabia-37-KA-TANJU GAUTIER_354212_assignsubmission_file_DevoirMaison morphologie 2.pdf\n",
      "/Users/gilles/Downloads/LNS2U2-Dépôt DM Kalabia-124014/Kalabia-37/DevoirMaison morphologie 2.pdf\n",
      "/Users/gilles/Downloads/LNS2U2-Dépôt DM Kalabia-124014/Kalabia-32-ANNE COURREGELONGUE_354214_assignsubmission_file_Dossier Kalaba _ Zoé Pronost, Célia Demontoux, Anne courrègelongue, Andréa Bottin .pdf\n",
      "/Users/gilles/Downloads/LNS2U2-Dépôt DM Kalabia-124014/Kalabia-32/Dossier Kalaba _ Zoé Pronost, Célia Demontoux, Anne courrègelongue, Andréa Bottin .pdf\n",
      "/Users/gilles/Downloads/LNS2U2-Dépôt DM Kalabia-124014/Kalabia-31-CELIA DEPETRO_353173_assignsubmission_file_Kalabia Groupe 31.pdf\n",
      "/Users/gilles/Downloads/LNS2U2-Dépôt DM Kalabia-124014/Kalabia-31/Kalabia Groupe 31.pdf\n",
      "/Users/gilles/Downloads/LNS2U2-Dépôt DM Kalabia-124014/Kalabia-30-EMELINE COLOMBEL_354204_assignsubmission_file_DM2.pdf\n",
      "/Users/gilles/Downloads/LNS2U2-Dépôt DM Kalabia-124014/Kalabia-30/DM2.pdf\n",
      "/Users/gilles/Downloads/LNS2U2-Dépôt DM Kalabia-124014/Kalabia-15-LUCIE JOLY_353147_assignsubmission_file_Kalabia Groupe n°15.pdf\n",
      "/Users/gilles/Downloads/LNS2U2-Dépôt DM Kalabia-124014/Kalabia-15/Kalabia Groupe n°15.pdf\n",
      "/Users/gilles/Downloads/LNS2U2-Dépôt DM Kalabia-124014/Kalabia-14-ALBANE RIVERON_353096_assignsubmission_file_DM K-14.pdf\n",
      "/Users/gilles/Downloads/LNS2U2-Dépôt DM Kalabia-124014/Kalabia-14/DM K-14.pdf\n",
      "/Users/gilles/Downloads/LNS2U2-Dépôt DM Kalabia-124014/Kalabia-17-ANTOINE PUCH_354202_assignsubmission_file_dm final kalabia .pdf\n",
      "/Users/gilles/Downloads/LNS2U2-Dépôt DM Kalabia-124014/Kalabia-17/dm final kalabia .pdf\n",
      "/Users/gilles/Downloads/LNS2U2-Dépôt DM Kalabia-124014/Kalabia-16-SARAH SENECHAU_354205_assignsubmission_file_KALABIA groupe 16.pdf\n",
      "/Users/gilles/Downloads/LNS2U2-Dépôt DM Kalabia-124014/Kalabia-16/KALABIA groupe 16.pdf\n",
      "/Users/gilles/Downloads/LNS2U2-Dépôt DM Kalabia-124014/Kalabia-11-CLARA HUGUENY_354225_assignsubmission_file_Kalabia K11.pdf\n",
      "/Users/gilles/Downloads/LNS2U2-Dépôt DM Kalabia-124014/Kalabia-11/Kalabia K11.pdf\n",
      "/Users/gilles/Downloads/LNS2U2-Dépôt DM Kalabia-124014/Kalabia-10-LINDSAY FIXY_354244_assignsubmission_file_KALABIA.pdf\n",
      "/Users/gilles/Downloads/LNS2U2-Dépôt DM Kalabia-124014/Kalabia-10/KALABIA.pdf\n",
      "/Users/gilles/Downloads/LNS2U2-Dépôt DM Kalabia-124014/Kalabia-13-JULIE HINSINGER_354239_assignsubmission_file_Kalaba13.pdf\n",
      "/Users/gilles/Downloads/LNS2U2-Dépôt DM Kalabia-124014/Kalabia-13/Kalaba13.pdf\n",
      "/Users/gilles/Downloads/LNS2U2-Dépôt DM Kalabia-124014/Kalabia-12-JULIE CAZETTE_352914_assignsubmission_file_DM KALABIA 2 Version Définitive.pdf\n",
      "/Users/gilles/Downloads/LNS2U2-Dépôt DM Kalabia-124014/Kalabia-12/DM KALABIA 2 Version Définitive.pdf\n",
      "/Users/gilles/Downloads/LNS2U2-Dépôt DM Kalabia-124014/Kalabia-19-ANNA MARTOS--REYROLLES_353175_assignsubmission_file_DM Kalabia.pdf\n",
      "/Users/gilles/Downloads/LNS2U2-Dépôt DM Kalabia-124014/Kalabia-19/DM Kalabia.pdf\n",
      "/Users/gilles/Downloads/LNS2U2-Dépôt DM Kalabia-124014/Kalabia-18-MELOE ABDOU_353181_assignsubmission_file_Kalaba Glosé.pdf\n",
      "/Users/gilles/Downloads/LNS2U2-Dépôt DM Kalabia-124014/Kalabia-18/Kalaba Glosé.pdf\n",
      "/Users/gilles/Downloads/LNS2U2-Dépôt DM Kalabia-124014/Kalabia-28-CLARA ESPEROU-PILLET_353153_assignsubmission_file_DM KALABA-28.pdf\n",
      "/Users/gilles/Downloads/LNS2U2-Dépôt DM Kalabia-124014/Kalabia-28/DM KALABA-28.pdf\n",
      "/Users/gilles/Downloads/LNS2U2-Dépôt DM Kalabia-124014/Kalabia-29-CLEMENCE GROUSSEAU_353161_assignsubmission_file_DM morphologie.pdf\n",
      "/Users/gilles/Downloads/LNS2U2-Dépôt DM Kalabia-124014/Kalabia-29/DM morphologie.pdf\n",
      "/Users/gilles/Downloads/LNS2U2-Dépôt DM Kalabia-124014/Kalabia-20-LOUIS BERARD_353072_assignsubmission_file_K20 Kalabia .pdf\n",
      "/Users/gilles/Downloads/LNS2U2-Dépôt DM Kalabia-124014/Kalabia-20/K20 Kalabia .pdf\n",
      "/Users/gilles/Downloads/LNS2U2-Dépôt DM Kalabia-124014/Kalabia-22-MAELLE PHINMA_353184_assignsubmission_file_dossier 2 kalabia.pdf\n",
      "/Users/gilles/Downloads/LNS2U2-Dépôt DM Kalabia-124014/Kalabia-22/dossier 2 kalabia.pdf\n",
      "/Users/gilles/Downloads/LNS2U2-Dépôt DM Kalabia-124014/Kalabia-23-MAITENA INARRA_353084_assignsubmission_file_Analyse kalabia[4253].pdf\n",
      "/Users/gilles/Downloads/LNS2U2-Dépôt DM Kalabia-124014/Kalabia-23/Analyse kalabia[4253].pdf\n",
      "/Users/gilles/Downloads/LNS2U2-Dépôt DM Kalabia-124014/Kalabia-24-JEANNE LANDURE_354210_assignsubmission_file_DM KALABA.pdf\n",
      "/Users/gilles/Downloads/LNS2U2-Dépôt DM Kalabia-124014/Kalabia-24/DM KALABA.pdf\n",
      "/Users/gilles/Downloads/LNS2U2-Dépôt DM Kalabia-124014/Kalabia-25-CAMILLE BEAUVAIS_353094_assignsubmission_file_DM Kalabia.pdf\n",
      "/Users/gilles/Downloads/LNS2U2-Dépôt DM Kalabia-124014/Kalabia-25/DM Kalabia.pdf\n",
      "/Users/gilles/Downloads/LNS2U2-Dépôt DM Kalabia-124014/Kalabia-26-KLEA FIGUERES_353178_assignsubmission_file_DMKalabiaGroupe26.pdf\n",
      "/Users/gilles/Downloads/LNS2U2-Dépôt DM Kalabia-124014/Kalabia-26/DMKalabiaGroupe26.pdf\n",
      "/Users/gilles/Downloads/LNS2U2-Dépôt DM Kalabia-124014/Kalabia-27-ALYSSA PIRRITANO_353158_assignsubmission_file_explication kalaba.pdf\n",
      "/Users/gilles/Downloads/LNS2U2-Dépôt DM Kalabia-124014/Kalabia-27/explication kalaba.pdf\n"
     ]
    }
   ],
   "source": [
    "copyFichiers(regexPref+ur\"(.*_\\d+_assignsubmission_file_)(.*)\",listURL)"
   ]
  },
  {
   "cell_type": "markdown",
   "metadata": {},
   "source": [
    "# Renommer les pdf uniques par le nom du groupe\n",
    "- faire le ménage dans le répertoire principal avant de lancer cette partie"
   ]
  },
  {
   "cell_type": "code",
   "execution_count": 35,
   "metadata": {},
   "outputs": [],
   "source": [
    "if boolRename:\n",
    "    for rep in glob.glob(repDevoir+\"*\"):\n",
    "        m=re.search(regexRename,rep.split(\"/\")[-1])\n",
    "        if m:\n",
    "            groupe=\"%s%02d\"%(m.group(1),int(m.group(2)))\n",
    "            pdfFiles=glob.glob(rep+\"/*.pdf\")\n",
    "            if len(pdfFiles)==1:\n",
    "                pdfFile=pdfFiles[0]\n",
    "                shutil.copy2(pdfFile,repDevoir+groupe+\".pdf\")"
   ]
  },
  {
   "cell_type": "code",
   "execution_count": null,
   "metadata": {},
   "outputs": [],
   "source": []
  }
 ],
 "metadata": {
  "kernelspec": {
   "display_name": "Python 2",
   "language": "python",
   "name": "python2"
  },
  "language_info": {
   "codemirror_mode": {
    "name": "ipython",
    "version": 2
   },
   "file_extension": ".py",
   "mimetype": "text/x-python",
   "name": "python",
   "nbconvert_exporter": "python",
   "pygments_lexer": "ipython2",
   "version": "2.7.15"
  }
 },
 "nbformat": 4,
 "nbformat_minor": 2
}
