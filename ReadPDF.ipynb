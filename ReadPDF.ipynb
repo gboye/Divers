{
 "cells": [
  {
   "cell_type": "code",
   "execution_count": 1,
   "metadata": {},
   "outputs": [],
   "source": [
    "#from pdfminer.pdfparser import PDFParser"
   ]
  },
  {
   "cell_type": "code",
   "execution_count": 2,
   "metadata": {
    "collapsed": true
   },
   "outputs": [],
   "source": [
    "filePDF=\"/Users/gilles/Desktop/LNS1M41.pdf\""
   ]
  },
  {
   "cell_type": "code",
   "execution_count": 3,
   "metadata": {},
   "outputs": [],
   "source": [
    "def pdf_to_csv(filename):\n",
    "    from cStringIO import StringIO  \n",
    "    from pdfminer.converter import LTChar, TextConverter\n",
    "    from pdfminer.layout import LAParams\n",
    "    from pdfminer.pdfparser import PDFDocument, PDFParser\n",
    "    from pdfminer.pdfinterp import PDFResourceManager, PDFPageInterpreter\n",
    "\n",
    "    class CsvConverter(TextConverter):\n",
    "        def __init__(self, *args, **kwargs):\n",
    "            TextConverter.__init__(self, *args, **kwargs)\n",
    "\n",
    "        def end_page(self, i):\n",
    "            from collections import defaultdict\n",
    "            lines = defaultdict(lambda : {})\n",
    "            for child in self.cur_item._objs:                #<-- changed\n",
    "                if isinstance(child, LTChar):\n",
    "                    (_,_,x,y) = child.bbox                   \n",
    "                    line = lines[int(-y)]\n",
    "                    line[x] = child._text.encode(self.codec) #<-- changed\n",
    "\n",
    "            for y in sorted(lines.keys()):\n",
    "                line = lines[y]\n",
    "                self.outfp.write(\";\".join(line[x] for x in sorted(line.keys())))\n",
    "                self.outfp.write(\"\\n\")\n",
    "\n",
    "    # ... the following part of the code is a remix of the \n",
    "    # convert() function in the pdfminer/tools/pdf2text module\n",
    "    rsrc = PDFResourceManager()\n",
    "    outfp = StringIO()\n",
    "    device = CsvConverter(rsrc, outfp, codec=\"utf-8\", laparams=LAParams())\n",
    "        # becuase my test documents are utf-8 (note: utf-8 is the default codec)\n",
    "\n",
    "    doc = PDFDocument()\n",
    "    fp = open(filename, 'rb')\n",
    "    parser = PDFParser(fp)       \n",
    "    parser.set_document(doc)     \n",
    "    doc.set_parser(parser)       \n",
    "    doc.initialize('')\n",
    "\n",
    "    interpreter = PDFPageInterpreter(rsrc, device)\n",
    "\n",
    "    for i, page in enumerate(doc.get_pages()):\n",
    "        outfp.write(\"START PAGE %d\\n\" % i)\n",
    "        if page is not None:\n",
    "            interpreter.process_page(page)\n",
    "        outfp.write(\"END PAGE %d\\n\" % i)\n",
    "\n",
    "    device.close()\n",
    "    fp.close()\n",
    "\n",
    "    return outfp.getvalue()"
   ]
  },
  {
   "cell_type": "code",
   "execution_count": 4,
   "metadata": {},
   "outputs": [
    {
     "ename": "ImportError",
     "evalue": "cannot import name PDFDocument",
     "output_type": "error",
     "traceback": [
      "\u001b[0;31m---------------------------------------------------------------------------\u001b[0m",
      "\u001b[0;31mImportError\u001b[0m                               Traceback (most recent call last)",
      "\u001b[0;32m<ipython-input-4-90a2533b7b89>\u001b[0m in \u001b[0;36m<module>\u001b[0;34m()\u001b[0m\n\u001b[0;32m----> 1\u001b[0;31m \u001b[0mpdf_to_csv\u001b[0m\u001b[0;34m(\u001b[0m\u001b[0mfilePDF\u001b[0m\u001b[0;34m)\u001b[0m\u001b[0;34m\u001b[0m\u001b[0m\n\u001b[0m",
      "\u001b[0;32m<ipython-input-3-14ac837b3e5c>\u001b[0m in \u001b[0;36mpdf_to_csv\u001b[0;34m(filename)\u001b[0m\n\u001b[1;32m      3\u001b[0m     \u001b[0;32mfrom\u001b[0m \u001b[0mpdfminer\u001b[0m\u001b[0;34m.\u001b[0m\u001b[0mconverter\u001b[0m \u001b[0;32mimport\u001b[0m \u001b[0mLTChar\u001b[0m\u001b[0;34m,\u001b[0m \u001b[0mTextConverter\u001b[0m\u001b[0;34m\u001b[0m\u001b[0m\n\u001b[1;32m      4\u001b[0m     \u001b[0;32mfrom\u001b[0m \u001b[0mpdfminer\u001b[0m\u001b[0;34m.\u001b[0m\u001b[0mlayout\u001b[0m \u001b[0;32mimport\u001b[0m \u001b[0mLAParams\u001b[0m\u001b[0;34m\u001b[0m\u001b[0m\n\u001b[0;32m----> 5\u001b[0;31m     \u001b[0;32mfrom\u001b[0m \u001b[0mpdfminer\u001b[0m\u001b[0;34m.\u001b[0m\u001b[0mpdfparser\u001b[0m \u001b[0;32mimport\u001b[0m \u001b[0mPDFDocument\u001b[0m\u001b[0;34m,\u001b[0m \u001b[0mPDFParser\u001b[0m\u001b[0;34m\u001b[0m\u001b[0m\n\u001b[0m\u001b[1;32m      6\u001b[0m     \u001b[0;32mfrom\u001b[0m \u001b[0mpdfminer\u001b[0m\u001b[0;34m.\u001b[0m\u001b[0mpdfinterp\u001b[0m \u001b[0;32mimport\u001b[0m \u001b[0mPDFResourceManager\u001b[0m\u001b[0;34m,\u001b[0m \u001b[0mPDFPageInterpreter\u001b[0m\u001b[0;34m\u001b[0m\u001b[0m\n\u001b[1;32m      7\u001b[0m \u001b[0;34m\u001b[0m\u001b[0m\n",
      "\u001b[0;31mImportError\u001b[0m: cannot import name PDFDocument"
     ]
    }
   ],
   "source": [
    "pdf_to_csv(filePDF)"
   ]
  },
  {
   "cell_type": "code",
   "execution_count": null,
   "metadata": {},
   "outputs": [],
   "source": [
    "import PyPDF2\n",
    "pdf = PyPDF2.PdfFileReader(open(filePDF, \"rb\"))\n",
    "content=\"\"\n",
    "for page in pdf.pages:\n",
    "    print page.extractText()+\"\\n\""
   ]
  },
  {
   "cell_type": "code",
   "execution_count": 7,
   "metadata": {},
   "outputs": [
    {
     "name": "stdout",
     "output_type": "stream",
     "text": [
      "Université Bordeaux Montaigne3LISTE DES ETUDIANTS AUTORISES A COMPOSERANNEE UNIVERSITAIRE 2016/2017Page:/10:54:20Date:Heure:31/05/20171038394041424344454647484950515253545556575859606162636465666768697071727374N° Ordre23/05/199826/09/199624/11/199813/03/199711/09/199728/08/199701/12/199520/05/199808/08/198613/07/199817/11/199811/12/199718/10/199824/08/199830/11/196005/11/199612/03/199821/08/199810/06/199806/05/199723/07/199710/09/199601/02/199731/08/199817/03/199522/10/199817/10/199809/01/199819/10/199706/12/199614/11/198923/05/199811/04/199809/08/199709/10/199514/08/199714/04/1997Date de naissanceSession 2Session :Admission339279333907336176334217336391335940336049338248343606334265335845333312333836335989337169337058334928337000336727338480340401339389324097334410292147337542334940334862321192336524320540340416343761337566313336341172336898N° EtudiantBLAIRETBLANCBODINBOETTIBOEUFBOILLYBOINEAUBONAQUE MORENOBORDASBORDESBOSCBOULAGHRIFABOULAGNONBOURDONCLEBOURITBOURNIGALBRETONBRIHAYEBRIVALCAILLAUDCARCALYCARMONACASTAINGCAYLACAZALBOUCELJOCERUTTICEYRATCHADHOULICHARENTONCHARLESCHARRONCHASSAINGCHAVELARDCIBRELISCLAVELCLERVEAUNomCORALYLAURATHOMASCAMILLERAPHAELALEXANDRECAMILLECHLOÉVIRGINIELAURIANEVANESSAREDOUANEAMBREJULIACATHERINEVIRGINIECIRCEMANONJORDANEALICIAVALENTINEBASTIENMANDYMAENAMARIEAMIRCALLUMTHIBAUTYOLANDEMARGOTDAMIENANNEMARIELUCILECECILIALOUISELINDAPrénomElément pédagogique :  LNS1M41    Introduction à la linguistique générale 1\n"
     ]
    }
   ],
   "source": [
    "import PyPDF2\n",
    "pdf_file = open(filePDF)\n",
    "read_pdf = PyPDF2.PdfFileReader(pdf_file)\n",
    "number_of_pages = read_pdf.getNumPages()\n",
    "page = read_pdf.getPage(2)\n",
    "page_content = page.extractText()\n",
    "print page_content"
   ]
  }
 ],
 "metadata": {
  "kernelspec": {
   "display_name": "Python 2",
   "language": "python",
   "name": "python2"
  },
  "language_info": {
   "codemirror_mode": {
    "name": "ipython",
    "version": 2
   },
   "file_extension": ".py",
   "mimetype": "text/x-python",
   "name": "python",
   "nbconvert_exporter": "python",
   "pygments_lexer": "ipython2",
   "version": "2.7.11"
  }
 },
 "nbformat": 4,
 "nbformat_minor": 1
}
