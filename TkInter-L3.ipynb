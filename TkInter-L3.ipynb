{
 "cells": [
  {
   "cell_type": "code",
   "execution_count": 4,
   "metadata": {
    "collapsed": false
   },
   "outputs": [],
   "source": [
    "from tkinter import *\n",
    "import codecs, random\n",
    "from tkinter.messagebox import showinfo"
   ]
  },
  {
   "cell_type": "code",
   "execution_count": 5,
   "metadata": {
    "collapsed": true
   },
   "outputs": [],
   "source": [
    "fields = ['Words?', 'Letters?']"
   ]
  },
  {
   "cell_type": "code",
   "execution_count": 6,
   "metadata": {
    "collapsed": false
   },
   "outputs": [],
   "source": [
    "nomLexique=\"/Users/gilles/Copy/Python/phonemisation/bdlexique-PDM.txt\"\n",
    "\n",
    "with codecs.open(nomLexique, \"r\", \"utf-8\") as file:\n",
    "    text = file.readlines()\n",
    "    words = []\n",
    "    for line in text:\n",
    "        line = line.strip()\n",
    "        word = line.split(\";\")\n",
    "        if \" \" not in word[0] and \"-\" not in word[0]:\n",
    "            words.append(word[0])\n",
    "    s = set(words)"
   ]
  },
  {
   "cell_type": "code",
   "execution_count": 7,
   "metadata": {
    "collapsed": true
   },
   "outputs": [],
   "source": [
    "def find_words(nb_letters, nb_words):\n",
    "    reduceLength = []\n",
    "    for w in s:\n",
    "        if len(w) == nb_letters:\n",
    "            reduceLength.append(w)\n",
    "    return random.sample(reduceLength, nb_words)"
   ]
  },
  {
   "cell_type": "code",
   "execution_count": 8,
   "metadata": {
    "collapsed": true
   },
   "outputs": [],
   "source": [
    "def makeform1(root, fields):\n",
    "    entries = []\n",
    "    for field in fields:\n",
    "        row = Frame(root)\n",
    "        lab = Label(row, width=15, text=field[0]+\": \"+field[1], anchor='w')\n",
    "        #ent = Entry(row)\n",
    "        row.pack(side=TOP, fill=X, padx=5, pady=5)\n",
    "        lab.pack(side=LEFT)\n"
   ]
  },
  {
   "cell_type": "code",
   "execution_count": 9,
   "metadata": {
    "collapsed": true
   },
   "outputs": [],
   "source": [
    "def fetch(entries):\n",
    "    w = entries[0][1].get()\n",
    "    l = entries[1][1].get()\n",
    "    print('%s: %s' % (w, l))\n",
    "    result = find_words(int(l), int(w))\n",
    "    result.sort()\n",
    "    i=1\n",
    "    cached = []\n",
    "    for m in result:\n",
    "        mots.append(m)\n",
    "        list_letters = []\n",
    "        for let in m:\n",
    "            list_letters.append(let)\n",
    "        random.shuffle(list_letters)\n",
    "        cached.append((\"word\"+str(i),\" \".join(list_letters)))\n",
    "        i += 1\n",
    "    makeform1(root,cached) \n",
    "    print (result)"
   ]
  },
  {
   "cell_type": "code",
   "execution_count": 10,
   "metadata": {
    "collapsed": true
   },
   "outputs": [],
   "source": [
    "def fetch1():\n",
    "    i=1\n",
    "    cached = []\n",
    "    for m in result:\n",
    "        list_letters = []\n",
    "        for let in m:\n",
    "            list_letters.append(let)\n",
    "        random.shuffle(list_letters)\n",
    "        cached.append((\"word\"+str(i),\" \".join(list_letters)))\n",
    "        i += 1\n",
    "    makeform1(root,cached) \n",
    "    #print (result)"
   ]
  },
  {
   "cell_type": "code",
   "execution_count": 11,
   "metadata": {
    "collapsed": true
   },
   "outputs": [],
   "source": [
    "def makeform(root, fields):\n",
    "    entries = []\n",
    "    for field in fields:\n",
    "        row = Frame(root)\n",
    "        lab = Label(row, width=15, text=field, anchor='w')\n",
    "        ent = Entry(row)\n",
    "        #if field == \"Your Guess?\":\n",
    "        #    ent.delete(0,END)\n",
    "        #    ent.insert(0,\"Wait till you see the words!\")\n",
    "        row.pack(side=TOP, fill=X, padx=5, pady=5)\n",
    "        lab.pack(side=LEFT)\n",
    "        ent.pack(side=RIGHT, expand=YES, fill=X)\n",
    "        entries.append((field, ent))\n",
    "    return entries"
   ]
  },
  {
   "cell_type": "code",
   "execution_count": 12,
   "metadata": {
    "collapsed": true
   },
   "outputs": [],
   "source": [
    "def check(answer):\n",
    "    a = answer.get()\n",
    "    print (a)\n",
    "    if a in mots:\n",
    "        showinfo('Bravo!', \"One word GUESSED!\")\n",
    "        answer.delete(0,END)\n",
    "    else:\n",
    "        showinfo('Oops...', \"Try again\")\n",
    "        answer.delete(0,END)"
   ]
  },
  {
   "cell_type": "code",
   "execution_count": null,
   "metadata": {
    "collapsed": false
   },
   "outputs": [],
   "source": [
    "#result"
   ]
  },
  {
   "cell_type": "code",
   "execution_count": null,
   "metadata": {
    "collapsed": false
   },
   "outputs": [
    {
     "name": "stdout",
     "output_type": "stream",
     "text": [
      "3: 6\n",
      "['bridge', 'nasale', 'pavent']"
     ]
    }
   ],
   "source": [
    "if __name__ == '__main__':\n",
    "    root = Tk()\n",
    "    mots=[]\n",
    "    l=6\n",
    "    w=3\n",
    "    ents = makeform(root, fields) # AK temporary OUT\n",
    "    #l = 6\n",
    "    #w = 3\n",
    "    #result = find_words(int(l), int(w))\n",
    "    #result.sort()\n",
    "    #print(result)\n",
    "    #sys.stdout.flush()\n",
    "    root.title(\"Guess {} words with {} letters each\".format(w,l))\n",
    "    #fetch(ents)\n",
    "    #words2guess = getWords(ents)\n",
    "    #root.bind('<Return>', (lambda event, e=ents: fetch(e))) \n",
    "    b1 = Button(root, text='Show Ltrs',\n",
    "          #command=fetch1)\n",
    "          command=(lambda e=ents: fetch(e)))\n",
    "    #print (fetch(ents))\n",
    "    b1.pack(side=LEFT, padx=5, pady=5)\n",
    "    b2 = Button(root, text='Quit', command=root.quit)\n",
    "    b2.pack(side=LEFT, padx=5, pady=5)\n",
    "    ent = Entry(root)\n",
    "    b3 = Button(root, text='VerifyGuess',\n",
    "          command=(lambda e=ent: check(e)))\n",
    "    b3.pack(side=LEFT, padx=5, pady=5)\n",
    "    l = Label(root, width=15, text=\"Your Guess?\", anchor='e')\n",
    "    ent.pack(side=RIGHT, expand=YES, fill=X)\n",
    "    l.pack(side=RIGHT, padx=5, pady=5)\n",
    "    root.mainloop()"
   ]
  },
  {
   "cell_type": "code",
   "execution_count": null,
   "metadata": {
    "collapsed": false
   },
   "outputs": [],
   "source": [
    "import random\n",
    "from tkinter import *\n",
    "\n",
    "root = Tk()\n",
    "\n",
    "w = Label(root, text=\"GAME\")\n",
    "w.pack(side=TOP)\n",
    "frameContainer=[]\n",
    "frameContainer.append(Frame(root,height=100))\n",
    "frameContainer[-1].pack()\n",
    "# there are 40 tiles\n",
    "tiles_letter = ['a', 'b', 'c', 'c', 'c', 'd', 'd', 'e', 'e', 'e', 'e', 'f', 'f', 'g', 'g', 'h', 'i', 'j', 'k', 'k', 'a', 'b', 'c', 'c', 'c', 'd', 'd', 'e', 'e', 'e', 'e', 'f', 'f', 'g', 'g', 'h', 'i', 'j', 'k', 'k']\n",
    "\n",
    "tiles_make_word = []\n",
    "\n",
    "def add_letter():\n",
    "    global frameContainer\n",
    "    if not tiles_letter:\n",
    "        return\n",
    "    rand = random.choice(tiles_letter)\n",
    "    tiles_make_word.append(rand)\n",
    "    print(len(tiles_make_word))\n",
    "    tile_frame_column = Label(frameContainer[-1], text=rand, bg=\"black\", fg=\"white\",width=3,height=2)\n",
    "    tile_frame_column.pack(side=LEFT, padx=5, pady=10)\n",
    "    tiles_letter.remove(rand)  # remove that tile from list of tiles\n",
    "    print (len(tiles_make_word),'***********')\n",
    "    if len(tiles_make_word) % 10 == 0:\n",
    "        frameContainer.append(Frame(root,height=100))\n",
    "        frameContainer[-1].pack()\n",
    "    root.after(500, add_letter)\n",
    "\n",
    "root.after(500, add_letter)\n",
    "\n",
    "root.mainloop()"
   ]
  },
  {
   "cell_type": "code",
   "execution_count": null,
   "metadata": {
    "collapsed": true
   },
   "outputs": [],
   "source": []
  }
 ],
 "metadata": {
  "kernelspec": {
   "display_name": "Python 3",
   "language": "python",
   "name": "python3"
  },
  "language_info": {
   "codemirror_mode": {
    "name": "ipython",
    "version": 3
   },
   "file_extension": ".py",
   "mimetype": "text/x-python",
   "name": "python",
   "nbconvert_exporter": "python",
   "pygments_lexer": "ipython3",
   "version": "3.3.5"
  }
 },
 "nbformat": 4,
 "nbformat_minor": 0
}
