{
 "cells": [
  {
   "cell_type": "markdown",
   "metadata": {},
   "source": [
    "# Script pour extraire et mélanger les exemples du Kalaba final\n",
    "\n",
    "Le fichier d'entrée est \"16-K5-Texte.pdf\"\n",
    "Le fichier de sortie est \"16-K5-Shuffle.pdf\""
   ]
  },
  {
   "cell_type": "code",
   "execution_count": 19,
   "metadata": {
    "collapsed": true
   },
   "outputs": [],
   "source": [
    "import codecs, re, string\n",
    "from os.path import expanduser\n",
    "import random, sys\n",
    "from pyPdf import PdfFileWriter, PdfFileReader\n",
    "home = expanduser(\"~\")"
   ]
  },
  {
   "cell_type": "code",
   "execution_count": 20,
   "metadata": {
    "collapsed": true
   },
   "outputs": [],
   "source": [
    "nKalaba=\"K5\"\n",
    "repertoire=home+\"/ownCloud/Cours/Bordeaux/L1-LinguistiqueGenerale/Kalaba-Project/16-%s\"%nKalaba\n",
    "serie=repertoire+\"/\""
   ]
  },
  {
   "cell_type": "code",
   "execution_count": 21,
   "metadata": {
    "collapsed": false
   },
   "outputs": [
    {
     "name": "stdout",
     "output_type": "stream",
     "text": [
      "8 21 10\n"
     ]
    }
   ],
   "source": [
    "nomExtrait=\"16-%s-Texte.pdf\"%nKalaba\n",
    "nomMelange=\"16-%s-Shuffle.pdf\"%nKalaba\n",
    "fileExtrait=open(serie+nomExtrait,\"rb\")\n",
    "fileMelange=open(serie+nomMelange,\"wb\")\n",
    "input = PdfFileReader(fileExtrait)\n",
    "output = PdfFileWriter()\n",
    "pages=[]\n",
    "nPageSep=45\n",
    "nProp=2\n",
    "nChunks=3\n",
    "moitie=nPageSep//nProp\n",
    "chunkSize=moitie//nChunks+(moitie%nChunks!=0)\n",
    "nTrash=nPageSep-chunkSize*nChunks\n",
    "excludeSize=nTrash//(nChunks-1)\n",
    "print chunkSize,nTrash,excludeSize\n",
    "for n in range(nChunks):    \n",
    "    pages.extend(range(n*(excludeSize+chunkSize),n*excludeSize+(n+1)*chunkSize))\n",
    "nPagesTotal = input.getNumPages()\n",
    "pages.extend(random.sample(range(nPageSep,nPagesTotal),20))\n",
    "random.shuffle(pages)\n",
    "\n",
    "for i in pages:\n",
    "     output.addPage(input.getPage(i))\n",
    "output.write(fileMelange)\n",
    "fileMelange.close()"
   ]
  },
  {
   "cell_type": "code",
   "execution_count": null,
   "metadata": {
    "collapsed": true
   },
   "outputs": [],
   "source": []
  }
 ],
 "metadata": {
  "kernelspec": {
   "display_name": "Python 2",
   "language": "python",
   "name": "python2"
  },
  "language_info": {
   "codemirror_mode": {
    "name": "ipython",
    "version": 2
   },
   "file_extension": ".py",
   "mimetype": "text/x-python",
   "name": "python",
   "nbconvert_exporter": "python",
   "pygments_lexer": "ipython2",
   "version": "2.7.11"
  }
 },
 "nbformat": 4,
 "nbformat_minor": 0
}
