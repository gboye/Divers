{
 "cells": [
  {
   "cell_type": "code",
   "execution_count": 4,
   "metadata": {
    "collapsed": true
   },
   "outputs": [],
   "source": [
    "import pandas as pd"
   ]
  },
  {
   "cell_type": "code",
   "execution_count": 5,
   "metadata": {},
   "outputs": [],
   "source": [
    "#import cellbell"
   ]
  },
  {
   "cell_type": "code",
   "execution_count": 6,
   "metadata": {
    "collapsed": true
   },
   "outputs": [],
   "source": [
    "from ipywidgets import FloatProgress\n",
    "from IPython.display import display\n",
    "import time"
   ]
  },
  {
   "cell_type": "code",
   "execution_count": 7,
   "metadata": {
    "collapsed": true
   },
   "outputs": [],
   "source": [
    "para={\n",
    "    u\"être\":{\n",
    "        \"suis\":[20,u\"je pense donc je suis.\"],\n",
    "        \"es\":[10,u\"tu es où ?\"],\n",
    "        \"est\":[50,u\"c'est ça !\"]\n",
    "        },\n",
    "    u\"avoir\":{\n",
    "        \"ai\":[20,u\"j'ai mangé.\"],\n",
    "        \"as\":[2,u\"tu as faim ?\"],\n",
    "        \"a\":[50,u\"il a parlé\"]\n",
    "        }\n",
    "    }"
   ]
  },
  {
   "cell_type": "code",
   "execution_count": 8,
   "metadata": {},
   "outputs": [
    {
     "data": {
      "text/plain": [
       "{(u'avoir', 'a'): {'exemple': u'il a parl\\xe9', 'nb': 50},\n",
       " (u'avoir', 'ai'): {'exemple': u\"j'ai mang\\xe9.\", 'nb': 20},\n",
       " (u'avoir', 'as'): {'exemple': u'tu as faim ?', 'nb': 2},\n",
       " (u'\\xeatre', 'es'): {'exemple': u'tu es o\\xf9 ?', 'nb': 10},\n",
       " (u'\\xeatre', 'est'): {'exemple': u\"c'est \\xe7a !\", 'nb': 50},\n",
       " (u'\\xeatre', 'suis'): {'exemple': u'je pense donc je suis.', 'nb': 20}}"
      ]
     },
     "execution_count": 8,
     "metadata": {},
     "output_type": "execute_result"
    }
   ],
   "source": [
    "para2={(l0,l1):{\"nb\":para[l0][l1][0], \"exemple\":para[l0][l1][1]} for l0 in para for l1 in para[l0]}\n",
    "para2"
   ]
  },
  {
   "cell_type": "code",
   "execution_count": 9,
   "metadata": {},
   "outputs": [
    {
     "data": {
      "text/plain": [
       "{(u'avoir', 'a'): [50, u'il a parl\\xe9'],\n",
       " (u'avoir', 'ai'): [20, u\"j'ai mang\\xe9.\"],\n",
       " (u'avoir', 'as'): [2, u'tu as faim ?'],\n",
       " (u'\\xeatre', 'es'): [10, u'tu es o\\xf9 ?'],\n",
       " (u'\\xeatre', 'est'): [50, u\"c'est \\xe7a !\"],\n",
       " (u'\\xeatre', 'suis'): [20, u'je pense donc je suis.']}"
      ]
     },
     "execution_count": 9,
     "metadata": {},
     "output_type": "execute_result"
    }
   ],
   "source": [
    "lfc={(l0,l1):para[l0][l1] for l0 in para for l1 in para[l0]}\n",
    "lfc"
   ]
  },
  {
   "cell_type": "code",
   "execution_count": 10,
   "metadata": {},
   "outputs": [],
   "source": [
    "progressBar = FloatProgress(min=0, max=120)\n",
    "display(progressBar)\n",
    "for i in range(120):\n",
    "    time.sleep(1)\n",
    "    progressBar.value+=1\n",
    "    \n"
   ]
  },
  {
   "cell_type": "code",
   "execution_count": 11,
   "metadata": {},
   "outputs": [
    {
     "data": {
      "text/html": [
       "<div>\n",
       "<table border=\"1\" class=\"dataframe\">\n",
       "  <thead>\n",
       "    <tr style=\"text-align: right;\">\n",
       "      <th></th>\n",
       "      <th>lexeme</th>\n",
       "      <th>forme</th>\n",
       "      <th>nb</th>\n",
       "      <th>exemple</th>\n",
       "    </tr>\n",
       "  </thead>\n",
       "  <tbody>\n",
       "    <tr>\n",
       "      <th>0</th>\n",
       "      <td>avoir</td>\n",
       "      <td>a</td>\n",
       "      <td>50</td>\n",
       "      <td>il a parlé</td>\n",
       "    </tr>\n",
       "    <tr>\n",
       "      <th>1</th>\n",
       "      <td>avoir</td>\n",
       "      <td>ai</td>\n",
       "      <td>20</td>\n",
       "      <td>j'ai mangé.</td>\n",
       "    </tr>\n",
       "    <tr>\n",
       "      <th>2</th>\n",
       "      <td>avoir</td>\n",
       "      <td>as</td>\n",
       "      <td>2</td>\n",
       "      <td>tu as faim ?</td>\n",
       "    </tr>\n",
       "    <tr>\n",
       "      <th>3</th>\n",
       "      <td>être</td>\n",
       "      <td>es</td>\n",
       "      <td>10</td>\n",
       "      <td>tu es où ?</td>\n",
       "    </tr>\n",
       "    <tr>\n",
       "      <th>4</th>\n",
       "      <td>être</td>\n",
       "      <td>est</td>\n",
       "      <td>50</td>\n",
       "      <td>c'est ça !</td>\n",
       "    </tr>\n",
       "    <tr>\n",
       "      <th>5</th>\n",
       "      <td>être</td>\n",
       "      <td>suis</td>\n",
       "      <td>20</td>\n",
       "      <td>je pense donc je suis.</td>\n",
       "    </tr>\n",
       "  </tbody>\n",
       "</table>\n",
       "</div>"
      ],
      "text/plain": [
       "  lexeme forme  nb                 exemple\n",
       "0  avoir     a  50              il a parlé\n",
       "1  avoir    ai  20             j'ai mangé.\n",
       "2  avoir    as   2            tu as faim ?\n",
       "3   être    es  10              tu es où ?\n",
       "4   être   est  50              c'est ça !\n",
       "5   être  suis  20  je pense donc je suis."
      ]
     },
     "execution_count": 11,
     "metadata": {},
     "output_type": "execute_result"
    }
   ],
   "source": [
    "#%%ding\n",
    "pdLFC=pd.DataFrame(para2).T\n",
    "pdLFC.reset_index(inplace=True)\n",
    "pdLFC.columns=[u\"lexeme\",u\"forme\",\"exemple\",\"nb\"]\n",
    "pdLFC[[\"lexeme\",\"forme\",\"nb\",\"exemple\"]]"
   ]
  },
  {
   "cell_type": "code",
   "execution_count": null,
   "metadata": {
    "collapsed": true
   },
   "outputs": [],
   "source": []
  }
 ],
 "metadata": {
  "kernelspec": {
   "display_name": "Python 2",
   "language": "python",
   "name": "python2"
  },
  "language_info": {
   "codemirror_mode": {
    "name": "ipython",
    "version": 2
   },
   "file_extension": ".py",
   "mimetype": "text/x-python",
   "name": "python",
   "nbconvert_exporter": "python",
   "pygments_lexer": "ipython2",
   "version": "2.7.6"
  }
 },
 "nbformat": 4,
 "nbformat_minor": 1
}
