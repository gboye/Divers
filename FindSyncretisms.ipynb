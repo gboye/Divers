{
 "cells": [
  {
   "cell_type": "code",
   "execution_count": 1,
   "metadata": {
    "collapsed": true
   },
   "outputs": [],
   "source": [
    "import networkx as nx\n",
    "import pickle\n",
    "import pandas as pd"
   ]
  },
  {
   "cell_type": "code",
   "execution_count": 2,
   "metadata": {},
   "outputs": [],
   "source": [
    "from networkx.generators.atlas import *\n",
    "atlas=graph_atlas_g()[0:20]\n",
    "nx.draw(atlas[18])"
   ]
  },
  {
   "cell_type": "code",
   "execution_count": 3,
   "metadata": {},
   "outputs": [
    {
     "data": {
      "text/plain": [
       "{0: {}, 1: {}, 2: {}, 3: {}}"
      ]
     },
     "execution_count": 3,
     "metadata": {},
     "output_type": "execute_result"
    }
   ],
   "source": [
    "g = nx.karate_club_graph()\n",
    "g=atlas[18]\n",
    "g.node"
   ]
  },
  {
   "cell_type": "code",
   "execution_count": 4,
   "metadata": {},
   "outputs": [
    {
     "name": "stdout",
     "output_type": "stream",
     "text": [
      "Populating the interactive namespace from numpy and matplotlib\n"
     ]
    }
   ],
   "source": [
    "pylab inline"
   ]
  },
  {
   "cell_type": "code",
   "execution_count": 5,
   "metadata": {},
   "outputs": [
    {
     "data": {
      "image/png": "[encoded data removed]",
      "text/plain": [
       "<matplotlib.figure.Figure at 0x1125f5c10>"
      ]
     },
     "metadata": {},
     "output_type": "display_data"
    }
   ],
   "source": [
    "nx.draw_networkx(g)"
   ]
  },
  {
   "cell_type": "code",
   "execution_count": 24,
   "metadata": {},
   "outputs": [],
   "source": [
    "g=nx.Graph()\n",
    "for case in [tam+per for tam in [\"ii\",\"pi\",\"fi\"] for per in [num+nb for num in [\"1\",\"2\",\"3\"] for nb in \"SP\"]]:\n",
    "    g.add_node(case)"
   ]
  },
  {
   "cell_type": "code",
   "execution_count": 25,
   "metadata": {},
   "outputs": [
    {
     "data": {
      "text/plain": [
       "['ii1S = ii2S',\n",
       " 'ii3S = ii2S',\n",
       " 'ii3P = ii3S',\n",
       " 'ii1S = ii3S',\n",
       " 'ii3P = ii1S',\n",
       " 'ii3P = ii2S',\n",
       " 'fi3P = fi1P',\n",
       " 'fi3P = fi2S',\n",
       " 'fi3S = fi2S',\n",
       " 'fi3S = fi1S',\n",
       " 'ip3S = ip2S']"
      ]
     },
     "execution_count": 25,
     "metadata": {},
     "output_type": "execute_result"
    }
   ],
   "source": [
    "syncretismes=[\n",
    "    \"ii1S = ii2S\", \n",
    "    \"ii3S = ii2S\", \n",
    "    \"ii3P = ii3S\", \n",
    "    \"ii1S = ii3S\", \n",
    "    \"ii3P = ii1S\",\n",
    "    \"ii3P = ii2S\",\n",
    "    \"fi3P = fi1P\",\n",
    "    \"fi3P = fi2S\",\n",
    "    \"fi3S = fi2S\",\n",
    "    \"fi3S = fi1S\",\n",
    "    \"ip3S = ip2S\" \n",
    "            ]\n",
    "syncretismes"
   ]
  },
  {
   "cell_type": "code",
   "execution_count": 26,
   "metadata": {},
   "outputs": [
    {
     "data": {
      "text/plain": [
       "[('ii1S', 'ii3S'),\n",
       " ('ii1S', 'ii2S'),\n",
       " ('ii1S', 'ii3P'),\n",
       " ('ii3P', 'ii3S'),\n",
       " ('ii3P', 'ii2S'),\n",
       " ('ip3S', 'ip2S'),\n",
       " ('fi3S', 'fi2S'),\n",
       " ('fi3S', 'fi1S'),\n",
       " ('ii3S', 'ii2S'),\n",
       " ('fi3P', 'fi1P'),\n",
       " ('fi3P', 'fi2S')]"
      ]
     },
     "execution_count": 26,
     "metadata": {},
     "output_type": "execute_result"
    }
   ],
   "source": [
    "for syncretisme in syncretismes:\n",
    "    c1,c2=syncretisme.split(\" = \")\n",
    "    g.add_edge(c1,c2)\n",
    "g.edges()"
   ]
  },
  {
   "cell_type": "code",
   "execution_count": 27,
   "metadata": {
    "collapsed": true
   },
   "outputs": [],
   "source": [
    "cliques=list(nx.find_cliques(g))"
   ]
  },
  {
   "cell_type": "code",
   "execution_count": 28,
   "metadata": {},
   "outputs": [
    {
     "name": "stdout",
     "output_type": "stream",
     "text": [
      "15 [['ii1S', 'ii3S', 'ii3P', 'ii2S'], ['ip3S', 'ip2S'], ['fi3S', 'fi2S'], ['fi3S', 'fi1S'], ['fi3P', 'fi1P'], ['fi3P', 'fi2S'], ['ii1P'], ['pi3P'], ['ii2P'], ['pi1S'], ['pi1P'], ['pi3S'], ['pi2S'], ['fi2P'], ['pi2P']]\n"
     ]
    }
   ],
   "source": [
    "sCliques=sorted(cliques, key=len, reverse=True)\n",
    "print len(sCliques),sCliques"
   ]
  },
  {
   "cell_type": "code",
   "execution_count": 29,
   "metadata": {},
   "outputs": [],
   "source": [
    "def findClique(cliques):\n",
    "    pNodes=set()\n",
    "\n",
    "    sCliques=sorted(cliques, key=len, reverse=True)\n",
    "\n",
    "    cliqueFound=sCliques[0]\n",
    "    pNodes=pNodes|set(sCliques[0])\n",
    "\n",
    "    removeCliques=[]\n",
    "    for clique in sCliques:\n",
    "        sClique=set(clique)\n",
    "#        print \"sClique\",sClique\n",
    "        if set.intersection(pNodes,sClique):\n",
    "#            print \"intersection\",set.intersection(pNodes,sClique)\n",
    "            removeCliques.append(clique)\n",
    "    for clique in removeCliques:\n",
    "        sCliques.remove(clique)\n",
    "#    print pCliques\n",
    "#    print sCliques\n",
    "    return (cliqueFound,sCliques)"
   ]
  },
  {
   "cell_type": "code",
   "execution_count": 30,
   "metadata": {},
   "outputs": [],
   "source": [
    "foundCliques=[]\n",
    "while sCliques:\n",
    "    foundClique,sCliques=findClique(sCliques)\n",
    "    foundCliques.append(foundClique)\n",
    "#foundNodes=set()\n"
   ]
  },
  {
   "cell_type": "code",
   "execution_count": 31,
   "metadata": {},
   "outputs": [
    {
     "data": {
      "text/plain": [
       "[['ii1S', 'ii3S', 'ii3P', 'ii2S'],\n",
       " ['ip3S', 'ip2S'],\n",
       " ['fi3S', 'fi2S'],\n",
       " ['fi3P', 'fi1P'],\n",
       " ['ii1P'],\n",
       " ['pi3P'],\n",
       " ['ii2P'],\n",
       " ['pi1S'],\n",
       " ['pi1P'],\n",
       " ['pi3S'],\n",
       " ['pi2S'],\n",
       " ['fi2P'],\n",
       " ['pi2P']]"
      ]
     },
     "execution_count": 31,
     "metadata": {},
     "output_type": "execute_result"
    }
   ],
   "source": [
    "foundCliques"
   ]
  },
  {
   "cell_type": "code",
   "execution_count": 32,
   "metadata": {},
   "outputs": [
    {
     "name": "stdout",
     "output_type": "stream",
     "text": [
      "['fi1P', 'fi2P', 'fi2S', 'fi3P', 'fi3S', 'ii1P', 'ii1S', 'ii2P', 'ii2S', 'ii3P', 'ii3S', 'ip2S', 'ip3S', 'pi1P', 'pi1S', 'pi2P', 'pi2S', 'pi3P', 'pi3S']\n"
     ]
    },
    {
     "data": {
      "text/plain": [
       "[['fi1S']]"
      ]
     },
     "execution_count": 32,
     "metadata": {},
     "output_type": "execute_result"
    }
   ],
   "source": [
    "foundNodes=set(n for l in foundCliques for n in l )\n",
    "print sorted(foundNodes)\n",
    "missingNodes=[[n] for n in g.nodes() if not n in foundNodes]\n",
    "missingNodes"
   ]
  },
  {
   "cell_type": "code",
   "execution_count": 33,
   "metadata": {},
   "outputs": [
    {
     "data": {
      "text/plain": [
       "(14,\n",
       " [['ii1S', 'ii3S', 'ii3P', 'ii2S'],\n",
       "  ['ip3S', 'ip2S'],\n",
       "  ['fi3S', 'fi2S'],\n",
       "  ['fi3P', 'fi1P'],\n",
       "  ['ii1P'],\n",
       "  ['pi3P'],\n",
       "  ['ii2P'],\n",
       "  ['pi1S'],\n",
       "  ['pi1P'],\n",
       "  ['pi3S'],\n",
       "  ['pi2S'],\n",
       "  ['fi2P'],\n",
       "  ['pi2P'],\n",
       "  ['fi1S']])"
      ]
     },
     "execution_count": 33,
     "metadata": {},
     "output_type": "execute_result"
    }
   ],
   "source": [
    "partition=foundCliques+missingNodes\n",
    "len(partition),partition"
   ]
  },
  {
   "cell_type": "code",
   "execution_count": null,
   "metadata": {
    "collapsed": true
   },
   "outputs": [],
   "source": []
  },
  {
   "cell_type": "code",
   "execution_count": 49,
   "metadata": {},
   "outputs": [],
   "source": [
    "def findClique(cliques):\n",
    "    pNodes=set()\n",
    "\n",
    "    sCliques=sorted(cliques, key=len, reverse=True)\n",
    "\n",
    "    cliqueFound=sorted(sCliques[0])\n",
    "    pNodes=pNodes|set(sCliques[0])\n",
    "\n",
    "    removeCliques=[]\n",
    "    for clique in sCliques:\n",
    "        sClique=set(clique)\n",
    "#        print \"sClique\",sClique\n",
    "        if set.intersection(pNodes,sClique):\n",
    "#            print \"intersection\",set.intersection(pNodes,sClique)\n",
    "            removeCliques.append(clique)\n",
    "    for clique in removeCliques:\n",
    "        sCliques.remove(clique)\n",
    "#    print pCliques\n",
    "#    print sCliques\n",
    "    return (cliqueFound,sCliques)"
   ]
  },
  {
   "cell_type": "code",
   "execution_count": 50,
   "metadata": {
    "collapsed": true
   },
   "outputs": [],
   "source": [
    "def findPartition(syncretismes):\n",
    "    g=nx.Graph()\n",
    "    for syncretisme in syncretismes:\n",
    "        c1,c2=syncretisme.split(\" = \")\n",
    "        g.add_edge(c1,c2)\n",
    "    cliques=list(nx.find_cliques(g))\n",
    "    sCliques=sorted(cliques, key=len, reverse=True)\n",
    "    foundCliques=[]\n",
    "    while sCliques:\n",
    "        foundClique,sCliques=findClique(sCliques)\n",
    "        foundCliques.append(foundClique)\n",
    "    foundNodes=set(n for l in foundCliques for n in l )\n",
    "    missingNodes=[[n] for n in g.nodes() if not n in foundNodes]\n",
    "    partition=foundCliques+missingNodes\n",
    "    dictPartition={l[0]:l for l in partition}\n",
    "    return dictPartition"
   ]
  },
  {
   "cell_type": "code",
   "execution_count": 51,
   "metadata": {
    "collapsed": true
   },
   "outputs": [],
   "source": [
    "syncretismes=[\n",
    "    \"ii1S = ii2S\", \n",
    "    \"ii3S = ii2S\", \n",
    "    \"ii3P = ii3S\", \n",
    "    \"ii1S = ii3S\", \n",
    "    \"ii3P = ii1S\",\n",
    "    \"ii3P = ii2S\",\n",
    "    \"fi3P = fi1P\",\n",
    "    \"fi3P = fi2S\",\n",
    "    \"fi3S = fi2S\",\n",
    "    \"fi3S = fi1S\",\n",
    "    \"pi3S = pi2S\" \n",
    "            ]"
   ]
  },
  {
   "cell_type": "code",
   "execution_count": 52,
   "metadata": {},
   "outputs": [
    {
     "data": {
      "text/plain": [
       "{'fi1P': ['fi1P', 'fi3P'],\n",
       " 'fi1S': ['fi1S'],\n",
       " 'fi2S': ['fi2S', 'fi3S'],\n",
       " 'ii1S': ['ii1S', 'ii2S', 'ii3P', 'ii3S'],\n",
       " 'pi2S': ['pi2S', 'pi3S']}"
      ]
     },
     "execution_count": 52,
     "metadata": {},
     "output_type": "execute_result"
    }
   ],
   "source": [
    "findPartition(syncretismes)"
   ]
  },
  {
   "cell_type": "code",
   "execution_count": null,
   "metadata": {
    "collapsed": true
   },
   "outputs": [],
   "source": []
  }
 ],
 "metadata": {
  "kernelspec": {
   "display_name": "Python 2",
   "language": "python",
   "name": "python2"
  },
  "language_info": {
   "codemirror_mode": {
    "name": "ipython",
    "version": 2
   },
   "file_extension": ".py",
   "mimetype": "text/x-python",
   "name": "python",
   "nbconvert_exporter": "python",
   "pygments_lexer": "ipython2",
   "version": "2.7.15"
  }
 },
 "nbformat": 4,
 "nbformat_minor": 1
}
