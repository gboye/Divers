{
 "cells": [
  {
   "cell_type": "code",
   "execution_count": 68,
   "metadata": {},
   "outputs": [],
   "source": [
    "from cellbell import ding"
   ]
  },
  {
   "cell_type": "code",
   "execution_count": 69,
   "metadata": {},
   "outputs": [],
   "source": [
    "lettreInitiale=u\"t\"\n",
    "ligne1=u\"irbzeeuhe\"\n",
    "ligne2=u\"kmtggsbbm\"\n",
    "longueurMot=6\n",
    "lemme=0"
   ]
  },
  {
   "cell_type": "code",
   "execution_count": 70,
   "metadata": {},
   "outputs": [],
   "source": [
    "from unidecode import unidecode\n",
    "import re,sys,codecs\n",
    "import random as rd\n",
    "import itertools as it"
   ]
  },
  {
   "cell_type": "code",
   "execution_count": 71,
   "metadata": {},
   "outputs": [],
   "source": [
    "nomLexique=\"../../ownCloud/Cours/Bordeaux/L2-XML/XML-Ressources/bdlexique.txt\"\n",
    "fichierLexique=codecs.open(nomLexique,encoding=\"utf8\")"
   ]
  },
  {
   "cell_type": "code",
   "execution_count": 72,
   "metadata": {},
   "outputs": [],
   "source": [
    "def sortLettres(mot):\n",
    "    return \"\".join(sorted(list(unidecode(mot))))"
   ]
  },
  {
   "cell_type": "code",
   "execution_count": 73,
   "metadata": {},
   "outputs": [],
   "source": [
    "def bonMot(mot):\n",
    "    if re.search(\"[-']\",mot):\n",
    "         return False     \n",
    "    else:\n",
    "        return True"
   ]
  },
  {
   "cell_type": "code",
   "execution_count": 74,
   "metadata": {},
   "outputs": [],
   "source": [
    "mots={}\n",
    "for element in fichierLexique:\n",
    "    elements=element.split(\";\")\n",
    "    if lemme:\n",
    "        mot=elements[6]\n",
    "    else:    \n",
    "        mot=elements[0]\n",
    "    if bonMot(mot):\n",
    "        longMot=len(mot)\n",
    "        if not longMot in mots:\n",
    "            mots[longMot]={}\n",
    "        lettresMot=sortLettres(mot)\n",
    "        if not lettresMot in mots[longMot]:\n",
    "            mots[longMot][lettresMot]=set()\n",
    "        mots[longMot][lettresMot].add(mot)"
   ]
  },
  {
   "cell_type": "code",
   "execution_count": 75,
   "metadata": {},
   "outputs": [],
   "source": [
    "def tirageLettres(lettre,lettres,nb):\n",
    "    ensMots=set()\n",
    "    for combi in it.combinations(lettres,nb):\n",
    "        cle=\"\".join(sorted(combi))\n",
    "        if cle in mots[nb] :\n",
    "            for mot in mots[nb][cle]:\n",
    "                if mot.startswith(lettre) or lettre==\"\":\n",
    "                    ensMots.add(mot)\n",
    "    return sorted(list(ensMots))"
   ]
  },
  {
   "cell_type": "code",
   "execution_count": 76,
   "metadata": {},
   "outputs": [],
   "source": [
    "def tirageLettres(lettreInitiale,tirage,nb):\n",
    "    ensMots=set()\n",
    "    # Prendre nb-1 lettres dans le tirage pour ajouter après la lettre initiale\n",
    "    for lettres in it.combinations(tirage,nb-(lettreInitiale!=\"\")):\n",
    "        cle=\"\".join(sorted(list(lettres)+[lettreInitiale]))\n",
    "        if cle in mots[nb] :\n",
    "            for mot in mots[nb][cle]:\n",
    "                if unidecode(mot).startswith(lettreInitiale) or lettreInitiale==\"\":\n",
    "                    ensMots.add(mot)\n",
    "    return sorted(list(ensMots))"
   ]
  },
  {
   "cell_type": "code",
   "execution_count": 77,
   "metadata": {},
   "outputs": [
    {
     "name": "stdout",
     "output_type": "stream",
     "text": [
      "acdeffhikkkkkmrstv 8\n",
      "cardites charisme charités chavires chavirés chemisât chiffras chiffres chiffrât chiffrés chistera cithares crickets crithmes créatifs créchais créchait créditas\n"
     ]
    }
   ],
   "source": [
    "lettresTirage=ligne1+ligne2\n",
    "lettres=sortLettres(lettresTirage)\n",
    "print lettres, longueurMot\n",
    "for mot in tirageLettres(lettreInitiale,lettres,longueurMot):\n",
    "    print mot,"
   ]
  },
  {
   "cell_type": "raw",
   "metadata": {},
   "source": [
    "lettres=u\"lgeule\"\n",
    "lettres=sortLettres(lettres)\n",
    "for longueur in range(2,9):\n",
    "    print longueur\n",
    "    for mot in tirageLettres(\"\",lettres,longueur):\n",
    "        print mot,\n",
    "    print"
   ]
  },
  {
   "cell_type": "raw",
   "metadata": {},
   "source": [
    "lettres=u\"mtcrpaeou\"\n",
    "lettres=sortLettres(lettres)\n",
    "for mot in tirageLettres(\"\",lettres,7):\n",
    "    print mot,\n"
   ]
  },
  {
   "cell_type": "code",
   "execution_count": 78,
   "metadata": {},
   "outputs": [],
   "source": [
    "ding()"
   ]
  }
 ],
 "metadata": {
  "kernelspec": {
   "display_name": "Python 2",
   "language": "python",
   "name": "python2"
  },
  "language_info": {
   "codemirror_mode": {
    "name": "ipython",
    "version": 2
   },
   "file_extension": ".py",
   "mimetype": "text/x-python",
   "name": "python",
   "nbconvert_exporter": "python",
   "pygments_lexer": "ipython2",
   "version": "2.7.15"
  }
 },
 "nbformat": 4,
 "nbformat_minor": 1
}
