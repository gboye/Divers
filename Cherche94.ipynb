{
 "cells": [
  {
   "cell_type": "code",
   "execution_count": 1,
   "metadata": {
    "collapsed": true
   },
   "outputs": [],
   "source": [
    "lettreInitiale=u\"d\"\n",
    "ligne1=u\"ujxvluppd\"\n",
    "ligne2=u\"eistizqls\"\n",
    "longueurMot=7\n",
    "lemme=True"
   ]
  },
  {
   "cell_type": "code",
   "execution_count": 2,
   "metadata": {
    "collapsed": true
   },
   "outputs": [],
   "source": [
    "from unidecode import unidecode\n",
    "import re,sys,codecs\n",
    "import random as rd\n",
    "import itertools as it"
   ]
  },
  {
   "cell_type": "code",
   "execution_count": 5,
   "metadata": {},
   "outputs": [],
   "source": [
    "nomLexique=\"../../ownCloud/Cours/Bordeaux/L2-XML/XML-Ressources/bdlexique.txt\"\n",
    "fichierLexique=codecs.open(nomLexique,encoding=\"utf8\")"
   ]
  },
  {
   "cell_type": "code",
   "execution_count": 6,
   "metadata": {
    "collapsed": true
   },
   "outputs": [],
   "source": [
    "def sortLettres(mot):\n",
    "    return \"\".join(sorted(list(unidecode(mot))))"
   ]
  },
  {
   "cell_type": "code",
   "execution_count": 7,
   "metadata": {
    "collapsed": true
   },
   "outputs": [],
   "source": [
    "def bonMot(mot):\n",
    "    if re.search(\"[-']\",mot):\n",
    "         return False     \n",
    "    else:\n",
    "        return True"
   ]
  },
  {
   "cell_type": "code",
   "execution_count": 8,
   "metadata": {
    "collapsed": true
   },
   "outputs": [],
   "source": [
    "mots={}\n",
    "for element in fichierLexique:\n",
    "    elements=element.split(\";\")\n",
    "    if lemme:\n",
    "        mot=elements[6]\n",
    "    else:    \n",
    "        mot=elements[0]\n",
    "    if bonMot(mot):\n",
    "        longMot=len(mot)\n",
    "        if not longMot in mots:\n",
    "            mots[longMot]={}\n",
    "        lettresMot=sortLettres(mot)\n",
    "        if not lettresMot in mots[longMot]:\n",
    "            mots[longMot][lettresMot]=set()\n",
    "        mots[longMot][lettresMot].add(mot)"
   ]
  },
  {
   "cell_type": "code",
   "execution_count": 9,
   "metadata": {
    "collapsed": true
   },
   "outputs": [],
   "source": [
    "def tirageLettres(lettre,lettres,nb):\n",
    "    ensMots=set()\n",
    "    for combi in it.combinations(lettres,nb):\n",
    "        cle=\"\".join(sorted(combi))\n",
    "        if cle in mots[nb] :\n",
    "            for mot in mots[nb][cle]:\n",
    "                if mot.startswith(lettre) or lettre==\"\":\n",
    "                    ensMots.add(mot)\n",
    "    return sorted(list(ensMots))"
   ]
  },
  {
   "cell_type": "code",
   "execution_count": 10,
   "metadata": {
    "collapsed": true
   },
   "outputs": [],
   "source": [
    "def tirageLettres(lettreInitiale,tirage,nb):\n",
    "    ensMots=set()\n",
    "    # Prendre nb-1 lettres dans le tirage pour ajouter après la lettre initiale\n",
    "    for lettres in it.combinations(tirage,nb-(lettreInitiale!=\"\")):\n",
    "        cle=\"\".join(sorted(list(lettres)+[lettreInitiale]))\n",
    "        if cle in mots[nb] :\n",
    "            for mot in mots[nb][cle]:\n",
    "                if mot.startswith(lettreInitiale) or lettreInitiale==\"\":\n",
    "                    ensMots.add(mot)\n",
    "    return sorted(list(ensMots))"
   ]
  },
  {
   "cell_type": "code",
   "execution_count": 11,
   "metadata": {},
   "outputs": [
    {
     "name": "stdout",
     "output_type": "stream",
     "text": [
      "deiijllppqsstuuvxz 7\n",
      "dispute dissipé\n"
     ]
    }
   ],
   "source": [
    "lettresTirage=ligne1+ligne2\n",
    "lettres=sortLettres(lettresTirage)\n",
    "print lettres, longueurMot\n",
    "for mot in tirageLettres(lettreInitiale,lettres,longueurMot):\n",
    "    print mot,"
   ]
  },
  {
   "cell_type": "code",
   "execution_count": 12,
   "metadata": {},
   "outputs": [
    {
     "name": "stdout",
     "output_type": "stream",
     "text": [
      "2\n",
      "au ce et ma me mu oc or ou où ra ru ré ta te tu té ut ça çà\n",
      "3\n",
      "ace arc are art cap car cep cet cor cou cru eau mac mat mec mer mot mou mue mur mât mûr ope ore out par pat pec pet peu pot pou pro pré pur rap rat roc rot rue rut réa rôt tac tao tau tec ter toc top tuc ure âme écu ému êta öre\n",
      "4\n",
      "acmé acre acte amer août apte arec arme armé arum auto came camp camé cape coma coré cote coup cour coût crue crêt cure curé côte côté euro marc mare maté more mort moue moût muer muet méat mûre ocre ocré orme parc part paré peau peur porc pore port pote pour prou prêt puce puer puma pute pâte pâté race racé rame ramé rapt rate raté repu reçu rote roue roué râpe râpé réac tape tapé tare taro taré team tome tope tore tour trac tram troc trop trou truc tuer turc âcre âpre âtre écot écru émou épar étau étoc ôter\n",
      "5\n",
      "acore amour amure aorte apéro armet arome arôme atome atour autre campé capot caret carme carpe carte coeur comte comté copra copte coter cotre coupe court croup crépu câpre cérat macre macro marte mater matou maure morue mucor muret muter mâter mérou métro opter opéra ouate ouaté outre outré pacte parec parme paréo pater paume paumé perçu porte pouce prame promu prote proue préau pâmer pâter pâtre pérot rampe raout recta recto rompu rouet route taper taupe taure tempo tomer toper touer trace trame tramp trapu trope troué tréma turco urate écart écrou épart\n",
      "6\n",
      "acteur amorce aoûter aperçu apôtre atroce camper capote capter compte comput copeau coteau couper coutre coûter crampe croupe croûte emport mature moteur mâture omerta ormeau ouater paumer poteau poutre pâture rectum rotacé tapeur trompe troupe\n",
      "7\n",
      "acompte amputer campeur capoter capteur capture comparé compter macoute maroute morceau pouacre\n",
      "8\n",
      "compteur computer\n"
     ]
    }
   ],
   "source": [
    "lettres=u\"mtrcpaeou\"\n",
    "lettres=sortLettres(lettres)\n",
    "for longueur in range(2,9):\n",
    "    print longueur\n",
    "    for mot in tirageLettres(\"\",lettres,longueur):\n",
    "        print mot,\n",
    "    print"
   ]
  }
 ],
 "metadata": {
  "kernelspec": {
   "display_name": "Python 2",
   "language": "python",
   "name": "python2"
  },
  "language_info": {
   "codemirror_mode": {
    "name": "ipython",
    "version": 2
   },
   "file_extension": ".py",
   "mimetype": "text/x-python",
   "name": "python",
   "nbconvert_exporter": "python",
   "pygments_lexer": "ipython2",
   "version": "2.7.11"
  }
 },
 "nbformat": 4,
 "nbformat_minor": 1
}
