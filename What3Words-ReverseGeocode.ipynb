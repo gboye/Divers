{
 "cells": [
  {
   "cell_type": "code",
   "execution_count": 2,
   "metadata": {},
   "outputs": [],
   "source": [
    "import mechanicalsoup, bs4, re, lxml, json, chardet, unidecode"
   ]
  },
  {
   "cell_type": "code",
   "execution_count": 3,
   "metadata": {},
   "outputs": [],
   "source": [
    "browser = mechanicalsoup.Browser()"
   ]
  },
  {
   "cell_type": "code",
   "execution_count": 4,
   "metadata": {},
   "outputs": [],
   "source": [
    "def getSoup(url):\n",
    "    page = browser.get(url)\n",
    "    soup = bs4.BeautifulSoup(page.content,\"lxml\")\n",
    "    return soup"
   ]
  },
  {
   "cell_type": "markdown",
   "metadata": {},
   "source": [
    "### Coordinates \n",
    "N 43.45655 W 1.01695"
   ]
  },
  {
   "cell_type": "code",
   "execution_count": 5,
   "metadata": {},
   "outputs": [],
   "source": [
    "def makeSquare(bounds,supp=1):\n",
    "    coords=[]\n",
    "    lat1=bounds[\"northeast\"][\"lat\"]\n",
    "    long1=bounds[\"northeast\"][\"lng\"]\n",
    "    lat2=bounds[\"southwest\"][\"lat\"]\n",
    "    long2=bounds[\"southwest\"][\"lng\"]\n",
    "    h=lat1-lat2\n",
    "    l=long1-long2\n",
    "    hs=(lat1+lat2)/2-h\n",
    "    lw=(long1+long2)/2-supp*l\n",
    "    for n in range(2*supp+1):\n",
    "        for w in range(2*supp+1):\n",
    "            coords.append((round(hs+n*h,7),round(lw+w*l,7)))\n",
    "    return coords"
   ]
  },
  {
   "cell_type": "code",
   "execution_count": 6,
   "metadata": {},
   "outputs": [],
   "source": [
    "def makeHVLine(locCenter,deltas,supp=1,hollow=True):\n",
    "    gauche=[]\n",
    "    droite=[]\n",
    "    haut=[]\n",
    "    bas=[]\n",
    "    lat=locCenter[\"lat\"]\n",
    "    lng=locCenter[\"lng\"]\n",
    "    h,l=deltas\n",
    "    for i in range(supp):\n",
    "        n=i+1\n",
    "        gauche.append((lat,lng-n*l))\n",
    "        droite.append((lat,lng+n*l))\n",
    "        haut.append((lat+n*h,lng))\n",
    "        bas.append((lat-n*h,lng))\n",
    "    if hollow:\n",
    "        return gauche+haut+droite+bas\n",
    "    else:\n",
    "        return gauche+haut+[center]+droite+bas\n",
    "    \n",
    "def makeCross(bounds,supp=1,hollow=True):\n",
    "    coords=[]\n",
    "    locCenter={}\n",
    "    lat1=bounds[\"northeast\"][\"lat\"]\n",
    "    long1=bounds[\"northeast\"][\"lng\"]\n",
    "    lat2=bounds[\"southwest\"][\"lat\"]\n",
    "    long2=bounds[\"southwest\"][\"lng\"]\n",
    "    h=lat1-lat2\n",
    "    l=long1-long2\n",
    "    locCenter[\"lat\"]=round((lat1+lat2)/2,7)\n",
    "    locCenter[\"lng\"]=round((long1+long2)/2,7)\n",
    "    coords=makeHVLine(locCenter,(h,l),supp,hollow)\n",
    "    return coords"
   ]
  },
  {
   "cell_type": "code",
   "execution_count": 7,
   "metadata": {},
   "outputs": [],
   "source": [
    "def convert_fake_unicode_to_real_unicode(string):\n",
    "    '''https://stackoverflow.com/questions/9973815/python-to-show-special-characters'''\n",
    "    try:\n",
    "        return ''.join(map(chr, map(ord, string))).decode('utf-8')\n",
    "    except:\n",
    "        return string\n",
    "    \n",
    "\n",
    "def getWords(words):\n",
    "    result=words\n",
    "    try:\n",
    "        result=convert_fake_unicode_to_real_unicode(words)\n",
    "    except UnicodeDecodeError:\n",
    "        result=words\n",
    "    return result"
   ]
  },
  {
   "cell_type": "code",
   "execution_count": 8,
   "metadata": {},
   "outputs": [],
   "source": [
    "def getCoordsMots(origine,rayon,forme=\"O\"):\n",
    "    mots=[]\n",
    "    url=\"https://api.what3words.com/v2/reverse?coords=%f,%f&display=full&lang=fr&format=json&key=QBH16AWV\"%origine\n",
    "    jsonResult=getSoup(url).text\n",
    "    center=json.loads(jsonResult)\n",
    "    cWords=center[\"words\"]\n",
    "    print getWords(cWords)\n",
    "    print\n",
    "    if forme=='+':\n",
    "        wps=makeCross(center[\"bounds\"],rayon)\n",
    "    elif forme=='x':\n",
    "        wps=makeCross(center[\"bounds\"],rayon,hollow=False)\n",
    "    else:\n",
    "        wps=makeSquare(center[\"bounds\"],rayon)\n",
    "    for wp in wps:\n",
    "        url=\"https://api.what3words.com/v2/reverse?coords=%f,%f&display=full&lang=fr&format=json&key=QBH16AWV\"%wp\n",
    "        jsonResult=getSoup(url).text\n",
    "        result=json.loads(jsonResult)\n",
    "        rWords=result[\"words\"]\n",
    "        words=getWords(rWords)\n",
    "        mots.append(words)\n",
    "    return mots"
   ]
  },
  {
   "cell_type": "code",
   "execution_count": 9,
   "metadata": {},
   "outputs": [],
   "source": [
    "def getMotsMots(w3w,rayon,forme=\"O\",lang=\"fr\"):\n",
    "    mots=[]\n",
    "    url=\"https://api.what3words.com/v2/forward?addr=%s&display=full&format=json&key=QBH16AWV\"%w3w\n",
    "    jsonResult=getSoup(url).text\n",
    "    center=json.loads(jsonResult)\n",
    "    cCoords=center[\"geometry\"]\n",
    "    print cCoords[\"lat\"],cCoords[\"lng\"]\n",
    "    print\n",
    "    if forme=='+':\n",
    "        wps=makeCross(center[\"bounds\"],rayon)\n",
    "    elif forme=='x':\n",
    "        wps=makeCross(center[\"bounds\"],rayon,hollow=False)\n",
    "    else:\n",
    "        wps=makeSquare(center[\"bounds\"],rayon)\n",
    "    for wp in wps:\n",
    "        url=\"https://api.what3words.com/v2/reverse?coords=%s&display=full&lang=%s&format=json&key=QBH16AWV\"%(\"%f,%f\"%wp,lang)\n",
    "        jsonResult=getSoup(url).text\n",
    "        result=json.loads(jsonResult)\n",
    "        rWords=result[\"words\"]\n",
    "        words=getWords(rWords)\n",
    "        mots.append(words)\n",
    "    return mots"
   ]
  },
  {
   "cell_type": "code",
   "execution_count": 10,
   "metadata": {},
   "outputs": [],
   "source": [
    "rayon=3\n",
    "origine=(43.456541,-1.016953)\n",
    "origine=(43.162483, -1.239617)\n",
    "origine=(43.251750, -0.775150)\n",
    "\n",
    "\n",
    "# w3w=u\"battage.faïence.doublon\"\n",
    "#w3w=u\"couchant.sevrer.modique\"\n",
    "#w3w=u\"aviatrice.optimiste.côte\"\n",
    "#w3w=u\"épineux.aboyeur.comparative\"\n",
    "#w3w=u\"\"\n",
    "#w3w=u\"factice.kiosque.affectif\"\n",
    "#w3w=u\"lendemain.ramequin.camembert\"\n",
    "#w3w=u\"boisson.massif.encadrer\"\n",
    "#w3w=u\"maigre.aucun.intrépide\"\n",
    "#w3w=u\"calendrier.différer.connexe\"\n",
    "#w3w=u\"aussitôt.honneur.chercher\"\n",
    "#w3w=u\"rôtisseur.gratinons.patinant\"\n",
    "#w3w=u\"fanion.montrant.amenons\"\n",
    "w3w=u\"trouver.livrer.revoir\"\n",
    "w3w=u\"combien.gardien.tissure\"\n",
    "w3w=u\"valeur.séparer.éclair\"\n",
    "w3w=u\"réactivons.connexe.réacteur\"\n",
    "w3w=u\"enduire.léguons.écurie\"\n",
    "w3w=u\"découverte.plombier.picoter\"\n",
    "w3w=u\"trembler.suivante.canif\"\n",
    "\n",
    "\n"
   ]
  },
  {
   "cell_type": "code",
   "execution_count": 16,
   "metadata": {
    "scrolled": true
   },
   "outputs": [
    {
     "name": "stdout",
     "output_type": "stream",
     "text": [
      "43.464087 -1.549305\n",
      "\n",
      "imprimant.rimant.disque\n",
      "débat.décorons.assoupir\n",
      "bourdon.targuer.soupape\n",
      "cirant.tartiner.facturer\n",
      "déclic.fixement.vivace\n",
      "chavirer.froideur.laurier\n",
      "toiture.piéton.moutarde\n",
      "trembler.suivante.canif\n",
      "apprécions.mondiaux.bancal\n",
      "entente.brisons.mouette\n",
      "pierre.corail.copiage\n",
      "filtrer.élisant.visant\n",
      "musicien.trier.replier\n",
      "déplacer.ourson.sablant\n",
      "broute.chausson.voici\n",
      "avouer.saumon.peignoir\n",
      "accouru.personne.bordant\n",
      "dortoir.vocaux.gérons\n",
      "salière.stuc.combien\n",
      "berçons.azote.rétablir\n",
      "ventre.lanière.marge\n",
      "blanche.diluons.bricoler\n",
      "marteler.mijoter.jambe\n",
      "jouons.fonçant.profiter\n",
      "machin.publions.bassin\n",
      "43.464087 -1.549305\n",
      "\n",
      "apprécions bancal bourdon mondiaux moutarde musicien piéton replier soupape targuer toiture trier\n"
     ]
    }
   ],
   "source": [
    "# print \"\\n\".join(getCoordsMots(origine,4))\n",
    "# print\n",
    "print \"\\n\".join(getMotsMots(w3w,2,forme=\"O\",lang=\"fr\"))\n",
    "lexique=sorted(u\".\".join(getMotsMots(w3w,1,forme=\"+\")).split(u\".\"),key=unidecode.unidecode)\n",
    "print \" \".join(lexique)"
   ]
  },
  {
   "cell_type": "code",
   "execution_count": 238,
   "metadata": {},
   "outputs": [
    {
     "name": "stdout",
     "output_type": "stream",
     "text": [
      "fermons.fêter.ponde {u'lat': 43.496348, u'lng': -1.469057} 36.845227947\n",
      "laver.brider.grange {u'lat': 43.496294, u'lng': -1.469057} 36.8445244639\n",
      "ponde.blaguer.cireux {u'lat': 43.474679, u'lng': -1.464113} 36.2413601099\n",
      "rougeur.vissant.cireux {u'lat': 43.496321, u'lng': -1.469019} 36.8418237885\n",
      "vrai.blaguer.carotte {u'lat': 43.496321, u'lng': -1.469094} 36.8478480615\n"
     ]
    }
   ],
   "source": [
    "import itertools as it\n",
    "import geopy.distance\n",
    "\n",
    "for m1,m2,m3 in it.permutations(lexique,3):\n",
    "    mots=\"%s.%s.%s\"%(m1,m2,m3)\n",
    "    url=\"https://api.what3words.com/v2/forward?addr=%s&display=full&format=json&key=QBH16AWV\"%mots\n",
    "    jsonResult=getSoup(url).text\n",
    "    center=json.loads(jsonResult)\n",
    "    cCoords=center[\"geometry\"]\n",
    "    distance=geopy.distance.distance(origine,(cCoords[\"lat\"],cCoords[\"lng\"])).km\n",
    "    if distance<50:\n",
    "        print mots,cCoords,distance\n",
    "#    print mots, geopy.distance.distance(origine,(cCoords[\"lat\"],cCoords[\"lng\"])).km"
   ]
  },
  {
   "cell_type": "code",
   "execution_count": null,
   "metadata": {},
   "outputs": [],
   "source": [
    "potentiels=[u\"méridien.maquette.animant\",\n",
    "            u\"trouver.livrer.revoir\",\n",
    "            u\"gravure.poème.îlot\",\n",
    "            u\"touriste.naître.rieur\",\n",
    "            u\"insolite.pesante.espèce\",\n",
    "            u\"trouver.livrer.revoir\",\n",
    "            u\"touchons.centrer.décodage\",\n",
    "            u\"chercher.lorsque.frôlant\",\n",
    "            u\"sentant.emmener.espérer\",\n",
    "            u\"retirer.pièce.refaire\",\n",
    "            u\"tortue.carotte.crevette\",\n",
    "            \n",
    "           ]"
   ]
  }
 ],
 "metadata": {
  "kernelspec": {
   "display_name": "Python 2.7",
   "language": "python",
   "name": "py2"
  },
  "language_info": {
   "codemirror_mode": {
    "name": "ipython",
    "version": 2
   },
   "file_extension": ".py",
   "mimetype": "text/x-python",
   "name": "python",
   "nbconvert_exporter": "python",
   "pygments_lexer": "ipython2",
   "version": "2.7.16"
  }
 },
 "nbformat": 4,
 "nbformat_minor": 4
}
