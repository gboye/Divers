{
 "cells": [
  {
   "cell_type": "code",
   "execution_count": 1,
   "metadata": {},
   "outputs": [
    {
     "name": "stderr",
     "output_type": "stream",
     "text": [
      "/Users/gilles/anaconda/lib/python2.7/site-packages/cryptography/hazmat/primitives/constant_time.py:26: CryptographyDeprecationWarning: Support for your Python version is deprecated. The next version of cryptography will remove support. Please upgrade to a 2.7.x release that supports hmac.compare_digest as soon as possible.\n",
      "  utils.DeprecatedIn23,\n"
     ]
    }
   ],
   "source": [
    "import mechanicalsoup, bs4, re, lxml, json, chardet, unidecode"
   ]
  },
  {
   "cell_type": "code",
   "execution_count": 2,
   "metadata": {},
   "outputs": [],
   "source": [
    "browser = mechanicalsoup.Browser()"
   ]
  },
  {
   "cell_type": "code",
   "execution_count": 3,
   "metadata": {},
   "outputs": [],
   "source": [
    "def getSoup(url):\n",
    "    page = browser.get(url)\n",
    "    soup = bs4.BeautifulSoup(page.content,\"lxml\")\n",
    "    return soup"
   ]
  },
  {
   "cell_type": "markdown",
   "metadata": {},
   "source": [
    "### Coordinates \n",
    "N 43.45655 W 1.01695"
   ]
  },
  {
   "cell_type": "code",
   "execution_count": 4,
   "metadata": {},
   "outputs": [],
   "source": [
    "def makeSquare(bounds,supp=1):\n",
    "    coords=[]\n",
    "    lat1=bounds[\"northeast\"][\"lat\"]\n",
    "    long1=bounds[\"northeast\"][\"lng\"]\n",
    "    lat2=bounds[\"southwest\"][\"lat\"]\n",
    "    long2=bounds[\"southwest\"][\"lng\"]\n",
    "    h=lat1-lat2\n",
    "    l=long1-long2\n",
    "    hs=(lat1+lat2)/2-h\n",
    "    lw=(long1+long2)/2-supp*l\n",
    "    for n in range(2*supp+1):\n",
    "        for w in range(2*supp+1):\n",
    "            coords.append((round(hs+n*h,7),round(lw+w*l,7)))\n",
    "    return coords"
   ]
  },
  {
   "cell_type": "code",
   "execution_count": 5,
   "metadata": {},
   "outputs": [],
   "source": [
    "def makeHVLine(locCenter,deltas,supp=1,hollow=True):\n",
    "    gauche=[]\n",
    "    droite=[]\n",
    "    haut=[]\n",
    "    bas=[]\n",
    "    lat=locCenter[\"lat\"]\n",
    "    lng=locCenter[\"lng\"]\n",
    "    h,l=deltas\n",
    "    for i in range(supp):\n",
    "        n=i+1\n",
    "        gauche.append((lat,lng-n*l))\n",
    "        droite.append((lat,lng+n*l))\n",
    "        haut.append((lat+n*h,lng))\n",
    "        bas.append((lat-n*h,lng))\n",
    "    if hollow:\n",
    "        return gauche+haut+droite+bas\n",
    "    else:\n",
    "        return gauche+haut+[center]+droite+bas\n",
    "    \n",
    "def makeCross(bounds,supp=1,hollow=True):\n",
    "    coords=[]\n",
    "    locCenter={}\n",
    "    lat1=bounds[\"northeast\"][\"lat\"]\n",
    "    long1=bounds[\"northeast\"][\"lng\"]\n",
    "    lat2=bounds[\"southwest\"][\"lat\"]\n",
    "    long2=bounds[\"southwest\"][\"lng\"]\n",
    "    h=lat1-lat2\n",
    "    l=long1-long2\n",
    "    locCenter[\"lat\"]=round((lat1+lat2)/2,7)\n",
    "    locCenter[\"lng\"]=round((long1+long2)/2,7)\n",
    "    coords=makeHVLine(locCenter,(h,l),supp,hollow)\n",
    "    return coords"
   ]
  },
  {
   "cell_type": "code",
   "execution_count": 6,
   "metadata": {},
   "outputs": [],
   "source": [
    "def convert_fake_unicode_to_real_unicode(string):\n",
    "    '''https://stackoverflow.com/questions/9973815/python-to-show-special-characters'''\n",
    "    try:\n",
    "        return ''.join(map(chr, map(ord, string))).decode('utf-8')\n",
    "    except:\n",
    "        return string\n",
    "    \n",
    "\n",
    "def getWords(words):\n",
    "    result=words\n",
    "    try:\n",
    "        result=convert_fake_unicode_to_real_unicode(words)\n",
    "    except UnicodeDecodeError:\n",
    "        result=words\n",
    "    return result"
   ]
  },
  {
   "cell_type": "code",
   "execution_count": 7,
   "metadata": {},
   "outputs": [],
   "source": [
    "def getCoordsMots(origine,rayon,forme=\"O\"):\n",
    "    mots=[]\n",
    "    url=\"https://api.what3words.com/v2/reverse?coords=%f,%f&display=full&lang=fr&format=json&key=QBH16AWV\"%origine\n",
    "    jsonResult=getSoup(url).text\n",
    "    center=json.loads(jsonResult)\n",
    "    cWords=center[\"words\"]\n",
    "    print getWords(cWords)\n",
    "    print\n",
    "    if forme=='+':\n",
    "        wps=makeCross(center[\"bounds\"],rayon)\n",
    "    elif forme=='x':\n",
    "        wps=makeCross(center[\"bounds\"],rayon,hollow=False)\n",
    "    else:\n",
    "        wps=makeSquare(center[\"bounds\"],rayon)\n",
    "    for wp in wps:\n",
    "        url=\"https://api.what3words.com/v2/reverse?coords=%f,%f&display=full&lang=fr&format=json&key=QBH16AWV\"%wp\n",
    "        jsonResult=getSoup(url).text\n",
    "        result=json.loads(jsonResult)\n",
    "        rWords=result[\"words\"]\n",
    "        words=getWords(rWords)\n",
    "        mots.append(words)\n",
    "    return mots"
   ]
  },
  {
   "cell_type": "code",
   "execution_count": 8,
   "metadata": {},
   "outputs": [],
   "source": [
    "def getMotsMots(w3w,rayon,forme=\"O\",lang=\"fr\"):\n",
    "    mots=[]\n",
    "    url=\"https://api.what3words.com/v2/forward?addr=%s&display=full&format=json&key=QBH16AWV\"%w3w\n",
    "    jsonResult=getSoup(url).text\n",
    "    center=json.loads(jsonResult)\n",
    "    cCoords=center[\"geometry\"]\n",
    "    print cCoords[\"lat\"],cCoords[\"lng\"]\n",
    "    print\n",
    "    if forme=='+':\n",
    "        wps=makeCross(center[\"bounds\"],rayon)\n",
    "    elif forme=='x':\n",
    "        wps=makeCross(center[\"bounds\"],rayon,hollow=False)\n",
    "    else:\n",
    "        wps=makeSquare(center[\"bounds\"],rayon)\n",
    "    for wp in wps:\n",
    "        url=\"https://api.what3words.com/v2/reverse?coords=%s&display=full&lang=%s&format=json&key=QBH16AWV\"%(\"%f,%f\"%wp,lang)\n",
    "        jsonResult=getSoup(url).text\n",
    "        result=json.loads(jsonResult)\n",
    "        rWords=result[\"words\"]\n",
    "        words=getWords(rWords)\n",
    "        mots.append(words)\n",
    "    return mots"
   ]
  },
  {
   "cell_type": "code",
   "execution_count": 15,
   "metadata": {},
   "outputs": [],
   "source": [
    "rayon=3\n",
    "origine=(43.456541,-1.016953)\n",
    "w3w=u\"battage.faïence.doublon\"\n",
    "#w3w=u\"couchant.sevrer.modique\"\n",
    "w3w=u\"aviatrice.optimiste.côte\"\n",
    "#w3w=u\"épineux.aboyeur.comparative\"\n",
    "#w3w=u\"\"\n",
    "w3w=u\"factice.kiosque.affectif\"\n",
    "w3w=u\"lendemain.ramequin.camembert\"\n",
    "w3w=u\"boisson.massif.encadrer\"\n",
    "#w3w=u\"maigre.aucun.intrépide\"\n",
    "#w3w=u\"calendrier.différer.connexe\"\n",
    "#w3w=u\"aussitôt.honneur.chercher\"\n",
    "#w3w=u\"rôtisseur.gratinons.patinant\""
   ]
  },
  {
   "cell_type": "code",
   "execution_count": 20,
   "metadata": {},
   "outputs": [
    {
     "name": "stdout",
     "output_type": "stream",
     "text": [
      "43.489772 -1.46731\n",
      "\n",
      "goat.jetted.lays\n",
      "shorter.longer.applies\n",
      "bedding.flasks.product\n",
      "cost.settled.plunger\n",
      "dampen.planting.paraded\n",
      "hung.founders.wardrobe\n",
      "blesses.line.again\n",
      "lied.forms.display\n",
      "secure.hissing.from\n",
      "universe.heave.started\n",
      "deciding.contexts.scanner\n",
      "stitch.inviting.pouting\n",
      "baking.self.reviews\n",
      "wiping.subject.elder\n",
      "aims.headset.sprain\n",
      "rise.saunas.olive\n",
      "tonsils.ready.octopus\n",
      "graceful.january.request\n",
      "forgiven.squad.bound\n",
      "staked.pegged.races\n",
      "frog.sailing.proofs\n",
      "tripled.glider.crab\n",
      "armrest.protests.delved\n",
      "troubles.explored.armful\n",
      "crass.torn.sunroof\n",
      "43.489772 -1.46731\n",
      "\n",
      "avançons avoir bavardant bouger cassante évoluer glissons indiquons lainier ornant perron tripler\n"
     ]
    }
   ],
   "source": [
    "#print \"\\n\".join(getCoordsMots(origine,2))\n",
    "#print\n",
    "print \"\\n\".join(getMotsMots(w3w,2,forme=\"O\",lang=\"en\"))\n",
    "lexique=sorted(u\".\".join(getMotsMots(w3w,1,forme=\"+\")).split(u\".\"),key=unidecode.unidecode)\n",
    "print \" \".join(lexique)"
   ]
  },
  {
   "cell_type": "code",
   "execution_count": 238,
   "metadata": {},
   "outputs": [
    {
     "name": "stdout",
     "output_type": "stream",
     "text": [
      "fermons.fêter.ponde {u'lat': 43.496348, u'lng': -1.469057} 36.845227947\n",
      "laver.brider.grange {u'lat': 43.496294, u'lng': -1.469057} 36.8445244639\n",
      "ponde.blaguer.cireux {u'lat': 43.474679, u'lng': -1.464113} 36.2413601099\n",
      "rougeur.vissant.cireux {u'lat': 43.496321, u'lng': -1.469019} 36.8418237885\n",
      "vrai.blaguer.carotte {u'lat': 43.496321, u'lng': -1.469094} 36.8478480615\n"
     ]
    }
   ],
   "source": [
    "import itertools as it\n",
    "import geopy.distance\n",
    "\n",
    "for m1,m2,m3 in it.permutations(lexique,3):\n",
    "    mots=\"%s.%s.%s\"%(m1,m2,m3)\n",
    "    url=\"https://api.what3words.com/v2/forward?addr=%s&display=full&format=json&key=QBH16AWV\"%mots\n",
    "    jsonResult=getSoup(url).text\n",
    "    center=json.loads(jsonResult)\n",
    "    cCoords=center[\"geometry\"]\n",
    "    distance=geopy.distance.distance(origine,(cCoords[\"lat\"],cCoords[\"lng\"])).km\n",
    "    if distance<50:\n",
    "        print mots,cCoords,distance\n",
    "#    print mots, geopy.distance.distance(origine,(cCoords[\"lat\"],cCoords[\"lng\"])).km"
   ]
  }
 ],
 "metadata": {
  "kernelspec": {
   "display_name": "Python 2",
   "language": "python",
   "name": "python2"
  },
  "language_info": {
   "codemirror_mode": {
    "name": "ipython",
    "version": 2
   },
   "file_extension": ".py",
   "mimetype": "text/x-python",
   "name": "python",
   "nbconvert_exporter": "python",
   "pygments_lexer": "ipython2",
   "version": "2.7.15"
  }
 },
 "nbformat": 4,
 "nbformat_minor": 2
}
