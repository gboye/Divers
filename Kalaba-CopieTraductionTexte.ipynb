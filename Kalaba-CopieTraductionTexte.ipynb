{
 "cells": [
  {
   "cell_type": "markdown",
   "metadata": {},
   "source": [
    "# Script pour copier les traduction de la solution du puzzle\n",
    "\n",
    "Le fichier d'entrée est \"Exemples.tex\"  \n",
    "Le fichier de sortie est \"Exemples-Solution.tex\""
   ]
  },
  {
   "cell_type": "code",
   "execution_count": 64,
   "metadata": {},
   "outputs": [],
   "source": [
    "import codecs, re, string\n",
    "from os.path import expanduser\n",
    "\n",
    "home = expanduser(\"~\")"
   ]
  },
  {
   "cell_type": "code",
   "execution_count": 65,
   "metadata": {},
   "outputs": [],
   "source": [
    "annee=\"18\"\n",
    "nKalaba=\"K5\"\n",
    "repertoire=home+\"/ownCloud/Cours/Bordeaux/L1-LinguistiqueGenerale/Kalaba-Project/%s-%s\"%(annee,nKalaba)\n",
    "serie=repertoire+\"/\""
   ]
  },
  {
   "cell_type": "code",
   "execution_count": 66,
   "metadata": {},
   "outputs": [],
   "source": [
    "def normalizeLigne(ligne):\n",
    "    listeElements=[l for l in re.split(r\"\\\\|{|}| \",ligne) if l!=\"\"]\n",
    "    return \" \".join(listeElements)\n",
    "\n",
    "def normalizeLigneG(ligne):\n",
    "    listeElements=[l+\"G\" for l in re.split(r\"\\\\|{|}| \",ligne) if l!=\"\"]\n",
    "    return \" \".join(listeElements)"
   ]
  },
  {
   "cell_type": "code",
   "execution_count": 67,
   "metadata": {},
   "outputs": [
    {
     "data": {
      "text/plain": [
       "'defG techG niG vmeG lamG eG'"
      ]
     },
     "execution_count": 67,
     "metadata": {},
     "output_type": "execute_result"
    }
   ],
   "source": [
    "normalizeLigneG(\"def{} \\\\tech ni{vme}lam e\")"
   ]
  },
  {
   "cell_type": "code",
   "execution_count": 68,
   "metadata": {},
   "outputs": [],
   "source": [
    "nomExemples=\"Exemples.tex\"\n",
    "with codecs.open(serie+nomExemples,\"r\",encoding=\"utf8\") as input:\n",
    "    lignesExemples=input.readlines()"
   ]
  },
  {
   "cell_type": "code",
   "execution_count": 69,
   "metadata": {
    "scrolled": true
   },
   "outputs": [
    {
     "name": "stdout",
     "output_type": "stream",
     "text": [
      "demonDSgAbsG DEFSgDG MahiraDSgDatG DEFSgDG parlerViPstTroisSgDG\n",
      "combattantCPlAbsG DEFPlCG courageuxCPlAbsG VERSG foretASgOblG DEFSgAG DEG louveAPlOblG DEFPlAG allerViPstTroisPlCG\n",
      "loupCSgErgG INDSgCG DANSG gorgeCSgOblG DEFSgCG DEG hommeASgOblG INDSgAG crocBPlAbsG DEFPlBG planterVtPrsTroisPlBG\n",
      "loupCSgErgG DEFSgCG grandCSgErgG blancCSgErgG DEG demonDSgOblG DEFSgDG villageoiseDDuAbsG DEFDuDG chasserVtPrsTroisDuDG\n",
      "combatBPlErgG DEFPlBG suivantBPlErgG villageDSgDatG DEFSgDG mortCPlAbsG INDPlCG apporterVdPstTroisPlCG\n",
      "nuitBSgAbsG DEFSgBG tomberViPstTroisSgBG\n",
      "VioletteDSgErgG DEFSgDG DANSG foretASgOblG DEFSgAG MahiraDSgAbsG DEFSgDG chercherVtPstTroisSgDG\n",
      "louveASgErgG DEFSgAG VioletteDSgAbsG DEFSgDG jeterVtPrsTroisSgDG\n",
      "lueurCSgErgG DEFSgCG DEG luneASgOblG DEFSgAG maisonCSgAbsG DEFSgCG DEG MahiraDSgOblG DEFSgDG envahirVtPstTroisSgCG\n",
      "louveASgAbsG DEFSgAG blancASgAbsG DEG milieuCSgOblG DEFSgCG DEG arbreBDuOblG DEFDuBG sortirViPrsTroisSgAG\n",
      "louveASgAbsG DEFSgAG blesseASgAbsG DANSG ombreASgOblG DEFSgAG DEG arbreBPlOblG DEFPlBG disparaitreViPstTroisSgAG\n",
      "demonDSgErgG DEFSgDG terribleDSgErgG villageoisCSgAbsG INDSgCG devorerVtPstTroisSgCG DERRIEREG arbreBSgOblG INDSgBG\n",
      "ombreASgErgG DEMSgAG rougeASgErgG noirASgErgG demonDSgAbsG INDSgDG etreVtPstTroisSgDG\n",
      "demonDSgErgG DEFSgDG mortCPlDatG DEFPlCG sortASgAbsG INDSgAG jeterVtPrsTroisSgAG\n",
      "MahiraDSgErgG DEFSgDG courageuxDSgErgG AVECG couteauASgOblG INDSgAG VioletteDSgAbsG DEFSgDG protegerVtPrsTroisSgDG\n",
      "KalebASgErgG DEFSgAG VERSG louveASgOblG DEFSgAG lanceCSgAbsG DEMSgCG jeterVtPrsTroisSgCG\n",
      "louveASgErgG DEFSgAG grandASgErgG demonDSgDatG DEFSgDG corpsCDuAbsG DEMDuCG apporterVdPrsTroisDuCG\n",
      "loupCSgErgG DEFSgCG blancCSgErgG louveAPlAbsG DEFPlAG noirAPlAbsG protegerVtPstTroisPlAG\n",
      "filleDDuErgG DEFDuDG ombreASgAbsG INDSgAG grandASgAbsG voirVtPstTroisSgAG\n",
      "loupCPlErgG DEFPlCG noirCPlErgG DANSG foretASgOblG DEFSgAG louveASgDatG DEFSgAG blancASgDatG corpsCDuAbsG INDDuCG DEG villageoiseDPlOblG INDPlDG apporterVdPrsTroisDuCG\n",
      "louveASgAbsG DEFSgAG blesseASgAbsG DEG combatBSgOblG DEFSgBG sortirViPrsTroisSgAG\n",
      "MahiraDSgAbsG DEFSgDG DEG maisonCSgOblG DEFSgCG sortirViPstTroisSgDG\n",
      "corpsCSgAbsG DEFSgCG DEG loupCSgOblG DEFSgCG tomberViPrsTroisSgCG\n",
      "chefDSgErgG DEFSgDG DEG hommeAPlOblG DEFPlAG louveASgDatG DEFSgAG coupBSgAbsG INDSgBG DEG couteauASgOblG INDSgAG donnerVdPrsTroisSgBG\n",
      "KalebASgAbsG DEFSgAG courageuxASgAbsG combattantCPlDatG DEFPlCG parlerViPrsTroisSgAG\n",
      "louveASgErgG DEMSgAG effrayeASgErgG DANSG foretASgOblG DEFSgAG demonDSgAbsG DEFSgDG chercherVtPrsTroisSgDG\n",
      "loupCSgErgG DEFSgCG grandCSgErgG DANSG mainBSgOblG DEFSgBG DEG MahiraDSgOblG DEFSgDG crocBPlAbsG DEFPlBG planterVtPrsTroisPlBG\n",
      "KalebASgAbsG DEFSgAG VERSG louveASgOblG DEFSgAG courirViPrsTroisSgAG AVECG lanceCSgOblG DEFSgCG DANSG mainBSgOblG DEFSgBG\n",
      "VioletteDSgErgG DEFSgDG petitDSgErgG criDPlAbsG INDPlDG terribleDPlAbsG pousserVtPrsTroisPlDG DANSG nuitBSgOblG DEFSgBG noirBSgOblG\n",
      "crocBPlErgG DEFPlBG DEG chefDSgOblG DEFSgDG gorgeCSgAbsG DEFSgCG DEG loupCSgOblG DEMSgCG petitCSgOblG transpercerVtPrsTroisSgCG\n",
      "hommeAPlErgG DEFPlAG lanceCPlAbsG DEFPlCG prendreVtPrsTroisPlCG DANSG nuitBSgOblG DEFSgBG suivantBSgOblG\n",
      "louveASgAbsG DEFSgAG blesseASgAbsG tomberViPrsTroisSgAG\n",
      "corpsCDuAbsG DEFDuCG disparaitreViPrsTroisDuCG\n",
      "nuitBSgAbsG DEFSgBG SURG villageDSgOblG DEFSgDG DEG KalebASgOblG DEFSgAG tomberViPrsTroisSgBG\n",
      "lanceCDuErgG INDDuCG loupCDuAbsG INDDuCG transpercerVtPrsTroisDuCG\n",
      "KalebASgAbsG DEFSgAG VERSG criDSgOblG DEMSgDG courirViPrsTroisSgAG AVECG combattantCSgOblG INDSgCG DEG villageDSgOblG DEFSgDG\n",
      "nuitBDuAbsG DEFDuBG suivantBDuAbsG passerViPstTroisDuBG\n",
      "luneASgAbsG DEFSgAG rougeASgAbsG DERRIEREG arbreBPlOblG DEFPlBG disparaitreViPstTroisSgAG\n",
      "louveAPlAbsG DEFPlAG DEG foretASgOblG DEFSgAG sortirViPstTroisPlAG\n",
      "MahiraDSgErgG DEFSgDG DANSG foretASgOblG DEFSgAG AVECG filleDSgOblG DEFSgDG DEG KalebASgOblG DEFSgAG chasserVtPstTroisSgAG\n",
      "serpentDSgAbsG DEFSgDG VERSG maisonCSgOblG DEFSgCG DEG chefDSgOblG DEFSgDG DEG villageDSgOblG DEFSgDG allerViPstTroisSgDG\n",
      "couteauASgErgG DEMSgAG visageDSgAbsG DEFSgDG DEG MahiraDSgOblG DEFSgDG protegerVtPrsTroisSgDG\n",
      "nuitBPlAbsG DEFPlBG passerViPstTroisPlBG\n",
      "VioletteDSgErgG DEFSgDG DANSG nuitBSgOblG DEFSgBG noirBSgOblG loupCDuAbsG DEMDuCG voirVtPrsTroisDuCG\n",
      "KalebASgErgG DEFSgAG SURG louveASgOblG DEFSgAG blesseASgOblG lanceCSgAbsG DEFSgCG prendreVtPrsTroisSgCG\n",
      "lanceCSgAbsG INDSgCG DANSG corpsCSgOblG DEFSgCG DEG chefDSgOblG DEFSgDG DEG louveAPlOblG DEFPlAG disparaitreViPrsTroisSgCG\n",
      "sortASgAbsG DEFSgAG AVECG mortCSgOblG DEFSgCG DEG villageoiseDPlOblG DEFPlDG disparaitreViPrsTroisSgAG\n",
      "KalebASgErgG DEFSgAG couteauASgAbsG INDSgAG prendreVtPrsTroisSgAG\n",
      "KalebASgErgG DEFSgAG louveASgAbsG INDSgAG AVECG filleDSgOblG INDSgDG ENTREG crocBPlOblG DEFPlBG voirVtPrsTroisSgAG\n",
      "nuitBSgErgG DEFSgBG visageDSgAbsG DEFSgDG DEG soeurASgOblG DEFSgAG DEG KalebASgOblG DEFSgAG transformerVtPrsTroisSgDG\n",
      "villageoiseDSgErgG INDSgDG effrayeDSgErgG criDSgAbsG INDSgDG pousserVtPrsTroisSgDG\n",
      "filleDDuAbsG DEMDuDG VERSG villageDSgOblG DEFSgDG courirViPrsTroisDuDG\n",
      "chefDSgErgG DEFSgDG DEG villageDSgOblG DEFSgDG lanceCSgAbsG INDSgCG prendreVtPrsTroisSgCG\n",
      "nuitBPlErgG DEMPlBG combatBPlAbsG INDPlBG terribleBPlAbsG voirVtPstTroisPlBG\n",
      "louveASgErgG DEFSgAG grandASgErgG ENTREG crocBPlOblG DEFPlBG VioletteDSgAbsG DEFSgDG prendreVtPrsTroisSgDG\n",
      "louveASgAbsG DEFSgAG VERSG combattantCSgOblG DEMSgCG sauterViPrsTroisSgAG\n",
      "hommeAPlErgG DEFPlAG louveAPlDatG DEFPlAG lanceCPlAbsG INDPlCG jeterVtPrsTroisPlCG\n",
      "loupCDuErgG DEFDuCG terribleCDuErgG VioletteDSgAbsG DEFSgDG chasserVtPrsTroisSgDG\n",
      "demonDSgErgG DEFSgDG chefDSgDatG DEFSgDG DEG louveAPlOblG DEFPlAG colereBSgAbsG INDSgBG grandBSgAbsG donnerVdPrsTroisSgBG\n",
      "filleDSgErgG DEFSgDG petitDSgErgG ombreASgAbsG INDSgAG ENTREG arbreBPlOblG DEFPlBG voirVtPrsTroisSgAG\n",
      "KalebASgErgG DEFSgAG chefDSgAbsG DEFSgDG DEG villageDSgOblG INDSgDG petitDSgOblG DEG foretASgOblG INDSgAG etreVtPstTroisSgDG\n",
      "corpsCSgAbsG DEMSgCG DANSG nuitBSgOblG DEFSgBG noirBSgOblG disparaitreViPrsTroisSgCG\n",
      "chefDSgAbsG DEFSgDG DEG villageoiseDPlOblG DEFPlDG tomberViPrsTroisSgDG\n",
      "KalebASgErgG DEFSgAG SURG arbreBSgOblG DEFSgBG lanceCSgAbsG DEFSgCG prendreVtPrsTroisSgCG\n",
      "enfantCDuErgG INDDuCG VERSG foretASgOblG DEFSgAG VioletteDSgAbsG DEFSgDG rejoindreVtPrsTroisSgDG\n",
      "mortCSgErgG DEFSgCG DEG VioletteDSgOblG DEFSgDG corpsCSgDatG DEFSgCG DEG louveASgOblG DEFSgAG lueurCSgAbsG INDSgCG rougeCSgAbsG donnerVdPrsTroisSgCG\n",
      "combattantCSgAbsG DEFSgCG AVECG loupCSgOblG DEFSgCG tomberViPrsTroisSgCG\n",
      "louveAPlErgG DEFPlAG villageoiseDPlAbsG DEFPlDG devorerVtPrsTroisPlDG\n",
      "lueurCDuErgG INDDuCG foretASgAbsG DEFSgAG noirASgAbsG envahirVtPrsTroisSgAG\n",
      "couteauASgAbsG DEFSgAG tomberViPrsTroisSgAG\n",
      "MahiraDSgErgG DEFSgDG soeurASgAbsG DEFSgAG grandASgAbsG DEG KalebASgOblG DEFSgAG etreVtPstTroisSgAG\n",
      "KalebASgErgG DEFSgAG VioletteDSgAbsG DEFSgDG rejoindreVtPrsTroisSgDG\n",
      "combatBSgAbsG DEFSgBG terribleBSgAbsG approcherViPrsTroisSgBG\n",
      "villageoiseDSgErgG DEMSgDG enfantADuDatG DEFDuAG petitADuDatG mainBSgAbsG DEFSgBG prendreVtPrsTroisSgBG\n",
      "villageoisCPlAbsG DEFPlCG VERSG villageDSgOblG DEFSgDG fuirViPstTroisPlCG\n",
      "loupCSgAbsG DEFSgCG petitCSgAbsG noirCSgAbsG DEG louveASgOblG DEFSgAG approcherViPrsTroisSgCG\n",
      "serpentDSgAbsG DEFSgDG louveASgDatG DEFSgAG blancASgDatG parlerViPstTroisSgDG\n",
      "VioletteDSgErgG DEFSgDG DANSG mortCSgOblG DEFSgCG louveASgAbsG DEFSgAG grandASgAbsG blancASgAbsG rejoindreVtPrsTroisSgAG\n",
      "loupCSgAbsG DEFSgCG suivantCSgAbsG approcherViPrsTroisSgCG\n",
      "loupCDuAbsG INDDuCG noirCDuAbsG approcherViPstTroisDuCG\n",
      "louveASgAbsG DEFSgAG fuirViPrsTroisSgAG AVECG filleDSgOblG DEMSgDG petitDSgOblG ENTREG crocBPlOblG DEFPlBG\n",
      "lueurCSgErgG INDSgCG rougeCSgErgG filleDDuAbsG DEFDuDG recouvrirVtPrsTroisDuDG\n",
      "villageoiseDDuAbsG INDDuDG VERSG hommeASgOblG DEMSgAG blesseASgOblG courirViPrsTroisDuDG\n",
      "combattantCDuAbsG DEFDuCG DANSG mortCSgOblG DEFSgCG disparaitreViPrsTroisDuCG\n",
      "sortASgErgG DEFSgAG corpsCSgAbsG INDSgCG differentCSgAbsG chercherVtPrsTroisSgCG\n",
      "KalebASgErgG DEFSgAG VioletteDSgAbsG DEFSgDG rejoindreVtPrsTroisSgDG DEVANTG arbreBSgOblG DEFSgBG\n",
      "loupCSgErgG DEFSgCG noirCSgErgG DANSG gorgeCSgOblG DEFSgCG DEG hommeASgOblG DEMSgAG crocBPlAbsG DEFPlBG planterVtPrsTroisPlBG\n",
      "loupCSgErgG DEFSgCG DANSG gorgeCSgOblG DEFSgCG coupBSgAbsG INDSgBG profondBSgAbsG DEG couteauASgOblG INDSgAG prendreVtPrsTroisSgBG\n",
      "nuitBSgAbsG DEFSgBG approcherViPstTroisSgBG\n",
      "blessureBSgErgG DEMSgBG profondBSgErgG loupCSgDatG DEMSgCG grandCSgDatG blancCSgDatG mortCSgAbsG DEFSgCG donnerVdPrsTroisSgCG\n",
      "chefDSgErgG DEFSgDG DEG louveAPlOblG DEFPlAG filleDSgAbsG DEFSgDG petitDSgAbsG blesseDSgAbsG protegerVtPrsTroisSgDG\n",
      "villageoisCSgErgG DEFSgCG furieuxCSgErgG DANSG corpsCSgOblG DEMSgCG blesseCSgOblG lanceCDuAbsG DEMDuCG planterVtPrsTroisDuCG\n",
      "loupCSgAbsG DEFSgCG noirCSgAbsG SURG combattantCSgOblG DEFSgCG sauterViPrsTroisSgCG\n",
      "lueurCSgErgG DEFSgCG louveASgAbsG DEFSgAG transformerVtPrsTroisSgAG DEVANTG KalebASgOblG DEFSgAG\n",
      "demonDSgErgG DEFSgDG furieuxDSgErgG filleDDuAbsG DEFDuDG voirVtPrsTroisDuDG\n",
      "chefDSgErgG DEFSgDG DEG villageoiseDPlOblG DEFPlDG louveASgDatG DEFSgAG coupBSgAbsG INDSgBG donnerVdPrsTroisSgBG\n",
      "VioletteDSgErgG DEFSgDG MahiraDSgAbsG DEFSgDG chercherVtPrsTroisSgDG AG villageDSgOblG DEFSgDG\n",
      "sortASgErgG DEFSgAG DEG demonDSgOblG DEFSgDG villageoiseDSgAbsG DEFSgDG transformerVtPrsTroisSgDG DANSG nuitBSgOblG DEFSgBG\n",
      "blessureBPlErgG DEMPlBG profondBPlErgG louveASgDatG DEFSgAG grandASgDatG mortCSgAbsG DEFSgCG donnerVdPrsTroisSgCG\n",
      "loupCSgAbsG DEFSgCG petitCSgAbsG SURG chefDSgOblG DEFSgDG DEG louveAPlOblG DEFPlAG sauterViPrsTroisSgCG\n",
      "lueurCSgErgG DEFSgCG DEG luneASgOblG DEFSgAG corpsCSgAbsG DEFSgCG DEG MahiraDSgOblG DEFSgDG recouvrirVtPrsTroisSgCG\n",
      "KalebASgErgG DEFSgAG criDSgAbsG INDSgDG pousserVtPrsTroisSgDG\n",
      "villageoiseDPlErgG DEFPlDG louveAPlAbsG DEFPlAG chasserVtPrsTroisPlAG\n",
      "colereBSgErgG INDSgBG profondBSgErgG visageDSgAbsG DEFSgDG rougeDSgAbsG DEG demonDSgOblG DEFSgDG envahirVtPrsTroisSgDG\n",
      "lueurCSgErgG DEMSgCG blessureBSgDatG DEFSgBG DEG MahiraDSgOblG DEFSgDG souffranceDSgAbsG INDSgDG grandDSgAbsG donnerVdPstTroisSgDG\n",
      "MahiraDSgErgG DEFSgDG louveASgAbsG INDSgAG grandASgAbsG blancASgAbsG etreVtPstTroisSgAG\n",
      "lueurCPlErgG DEFPlCG blancCPlErgG corpsCSgAbsG DEFSgCG DEG VioletteDSgOblG DEFSgDG recouvrirVtPrsTroisSgCG\n",
      "filleDSgAbsG DEFSgDG petitDSgAbsG tomberViPrsTroisSgDG\n",
      "KalebASgErgG DEFSgAG louveASgAbsG DEMSgAG rejoindreVtPrsTroisSgAG\n",
      "villageoisCPlErgG DEFPlCG lanceCPlAbsG INDPlCG prendreVtPstTroisPlCG\n",
      "villageoisCSgErgG DEFSgCG loupCDuDatG DEFDuCG lanceCSgAbsG INDSgCG jeterVtPrsTroisSgCG\n",
      "villageoiseDSgAbsG DEFSgDG DANSG maisonCSgOblG DEFSgCG allerViPrsTroisSgDG AVECG enfantASgOblG DEFSgAG\n",
      "loupCSgAbsG DEFSgCG noirCSgAbsG suivantCSgAbsG APRESG louveASgOblG DEFSgAG courirViPrsTroisSgCG\n",
      "villageoiseDPlErgG DEFPlDG enfantCPlAbsG DEFPlCG petitCPlAbsG protegerVtPrsTroisPlCG DANSG maisonCSgOblG INDSgCG\n",
      "souffranceDSgErgG INDSgDG profondDSgErgG combattantCSgAbsG DEFSgCG envahirVtPrsTroisSgCG\n",
      "hommeASgErgG DEFSgAG DANSG corpsCSgOblG DEFSgCG DEG loupCSgOblG DEFSgCG couteauASgAbsG INDSgAG planterVtPrsTroisSgAG\n",
      "hommeAPlAbsG DEFPlAG DANSG foretASgOblG DEFSgAG allerViPrsTroisPlAG\n",
      "mortCSgErgG DEFSgCG filleDSgAbsG DEFSgDG petitDSgAbsG prendreVtPrsTroisSgDG\n",
      "serpentDSgAbsG DEMSgDG KalebASgDatG DEFSgAG parlerViPstTroisSgDG\n",
      "VioletteDSgAbsG DEFSgDG enfantCPlDatG INDPlCG petitCPlDatG parlerViPstTroisSgDG DEVANTG maisonCSgOblG DEFSgCG\n",
      "enfantCPlErgG DEFPlCG maisonCSgAbsG DEFSgCG grandCSgAbsG rejoindreVtPstTroisSgCG AVECG villageoiseDPlOblG DEFPlDG\n",
      "demonDSgErgG DEFSgDG filleDDuDatG DEFDuDG sortASgAbsG INDSgAG jeterVtPrsTroisSgAG\n",
      "enfantCPlAbsG DEFPlCG effrayeCPlAbsG DANSG maisonCSgOblG INDSgCG DEG villageDSgOblG DEFSgDG allerViPrsTroisPlCG AVECG villageoiseDPlOblG DEFPlDG courageuxDPlOblG\n",
      "filleDDuAbsG DEFDuDG effrayeDDuAbsG DEVANTG corpsCSgOblG DEFSgCG DEG villageoisCSgOblG DEMSgCG fuirViPrsTroisDuDG\n",
      "sortASgErgG DEFSgAG villageoiseDDuDatG DEFDuDG lueurCSgAbsG INDSgCG rougeCSgAbsG donnerVdPrsTroisSgCG\n",
      "louveAPlErgG DEFPlAG villageDSgAbsG DEFSgDG petitDSgAbsG envahirVtPrsTroisSgDG\n",
      "villageoiseDPlErgG DEFPlDG DANSG maisonCPlOblG DEFPlCG enfantCPlAbsG DEFPlCG pousserVtPrsTroisPlCG\n",
      "VioletteDSgAbsG DEFSgDG VERSG MahiraDSgOblG DEFSgDG courirViPrsTroisSgDG\n",
      "criDDuAbsG INDDuDG DEG louveAPlOblG INDPlAG SURG villageDSgOblG DEFSgDG tomberViPrsTroisDuDG\n",
      "louveASgErgG DEFSgAG couteauASgAbsG DEMSgAG pousserVtPrsTroisSgAG\n",
      "VioletteDSgErgG DEFSgDG filleDSgAbsG DEFSgDG DEG KalebASgOblG DEFSgAG etreVtPstTroisSgDG\n",
      "loupCSgAbsG DEFSgCG noirCSgAbsG VERSG combattantCDuOblG DEFDuCG courageuxCDuOblG allerViPrsTroisSgCG\n",
      "lanceCSgErgG DEFSgCG arbreBSgAbsG INDSgBG transpercerVtPrsTroisSgBG\n",
      "loupCSgAbsG DEFSgCG blancCSgAbsG VERSG filleDSgOblG DEMSgDG petitDSgOblG courirViPrsTroisSgCG\n",
      "KalebASgErgG DEFSgAG MahiraDSgAbsG DEFSgDG AVECG lanceCDuOblG INDDuCG DANSG corpsCSgOblG DEFSgCG voirVtPrsTroisSgDG\n",
      "louveASgErgG DEFSgAG DANSG mainBSgOblG DEFSgBG DEG KalebASgOblG DEFSgAG crocBPlAbsG DEFPlBG planterVtPrsTroisPlBG\n",
      "crocBPlErgG DEFPlBG DEG louveASgOblG DEFSgAG villageoisCSgDatG DEFSgCG blessureBSgAbsG INDSgBG profondBSgAbsG donnerVdPrsTroisSgBG\n",
      "blessureBSgErgG INDSgBG visageDSgAbsG DEFSgDG DEG combattantCSgOblG INDSgCG recouvrirVtPstTroisSgDG\n",
      "chefDSgAbsG DEFSgDG DEG villageDSgOblG DEFSgDG DEG louveAPlOblG DEFPlAG furieuxAPlOblG villageoiseDPlDatG DEFPlDG parlerViPrsTroisSgDG\n",
      "colereBSgErgG INDSgBG noirBSgErgG louveAPlAbsG DEFPlAG envahirVtPrsTroisPlAG\n",
      "lanceCSgErgG DEFSgCG suivantCSgErgG gorgeCSgAbsG DEFSgCG DEG louveASgOblG DEFSgAG transpercerVtPrsTroisSgCG\n",
      "filleDSgAbsG DEFSgDG petitDSgAbsG VERSG lueurCPlOblG DEFPlCG DEG villageDSgOblG DEFSgDG fuirViPrsTroisSgDG\n",
      "MahiraDSgAbsG DEFSgDG DANSG foretASgOblG DEFSgAG profondASgOblG disparaitreViPstTroisSgDG\n",
      "lanceCSgErgG DEMSgCG corpsCSgAbsG DEFSgCG blancCSgAbsG DEG louveASgOblG DEFSgAG transpercerVtPrsTroisSgCG\n",
      "louveASgErgG DEFSgAG serpentDSgAbsG INDSgDG grandDSgAbsG noirDSgAbsG voirVtPstTroisSgDG\n",
      "VioletteDSgAbsG DEFSgDG SURG arbreBSgOblG INDSgBG tomberViPrsTroisSgDG\n",
      "VioletteDSgAbsG DEFSgDG fuirViPrsTroisSgDG\n",
      "mainBDuErgG DEFDuBG DEG KalebASgOblG DEFSgAG corpsCSgAbsG DEFSgCG rougeCSgAbsG DEG filleDSgOblG DEFSgDG petitDSgOblG prendreVtPrsTroisSgCG\n",
      "loupCPlErgG DEFPlCG noirCPlErgG DANSG foretASgOblG DEFSgAG louveASgAbsG DEFSgAG grandASgAbsG rejoindreVtPrsTroisSgAG\n",
      "chefDSgAbsG DEFSgDG DEG combattantCPlOblG DEFPlCG DEG louveASgOblG DEFSgAG approcherViPrsTroisSgDG\n",
      "loupCSgErgG DEFSgCG petitCSgErgG DANSG filleDSgOblG DEFSgDG crocBPlAbsG INDPlBG planterVtPrsTroisPlBG\n"
     ]
    }
   ],
   "source": [
    "tradExemples={}\n",
    "for numEx,ligneEx in enumerate(lignesExemples):\n",
    "    if not ligneEx[0] in [\"\\\\\",\"%\",\"}\"]:\n",
    "        trad=normalizeLigneG(lignesExemples[numEx-3].strip())\n",
    "        tradExemples[trad]=ligneEx.strip()\n",
    "for cle in tradExemples:\n",
    "    print cle"
   ]
  },
  {
   "cell_type": "code",
   "execution_count": 70,
   "metadata": {},
   "outputs": [],
   "source": [
    "nomSolutionEntree=\"Exemples-Solution.tex\"\n",
    "with codecs.open(serie+nomSolutionEntree,\"r\",encoding=\"utf8\") as input:\n",
    "    lignesSolution=input.readlines()"
   ]
  },
  {
   "cell_type": "code",
   "execution_count": 71,
   "metadata": {
    "scrolled": false
   },
   "outputs": [],
   "source": [
    "traductionExemples={}\n",
    "nomSolutionSortie=\"Exemples-Solution-trad.tex\"\n",
    "with codecs.open(serie+nomSolutionSortie,\"w\",encoding=\"utf8\") as output:\n",
    "    for numSol,ligneSol in enumerate(lignesSolution):\n",
    "        cle=normalizeLigne(ligneSol).strip()\n",
    "        if cle in tradExemples:\n",
    "            ligneSol+=tradExemples[cle]+\"\\\\\\\\\\n\"\n",
    "        output.write(ligneSol)"
   ]
  },
  {
   "cell_type": "code",
   "execution_count": null,
   "metadata": {},
   "outputs": [],
   "source": []
  }
 ],
 "metadata": {
  "kernelspec": {
   "display_name": "Python 2",
   "language": "python",
   "name": "python2"
  },
  "language_info": {
   "codemirror_mode": {
    "name": "ipython",
    "version": 2
   },
   "file_extension": ".py",
   "mimetype": "text/x-python",
   "name": "python",
   "nbconvert_exporter": "python",
   "pygments_lexer": "ipython2",
   "version": "2.7.11"
  }
 },
 "nbformat": 4,
 "nbformat_minor": 1
}
