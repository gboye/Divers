{
 "cells": [
  {
   "cell_type": "markdown",
   "metadata": {},
   "source": [
    "# Script pour copier les traduction de la solution du puzzle\n",
    "\n",
    "Le fichier d'entrée est \"Exemples.tex\"  \n",
    "Le fichier de sortie est \"Exemples-Solution.tex\""
   ]
  },
  {
   "cell_type": "code",
   "execution_count": 1,
   "metadata": {},
   "outputs": [],
   "source": [
    "import codecs, re, string\n",
    "from os.path import expanduser\n",
    "\n",
    "home = expanduser(\"~\")"
   ]
  },
  {
   "cell_type": "code",
   "execution_count": 2,
   "metadata": {},
   "outputs": [],
   "source": [
    "annee=\"20\"\n",
    "nKalaba=\"K5\"\n",
    "repertoire=home+\"/ownCloud/Cours/Bordeaux/L1-LinguistiqueGenerale/Kalaba-Project/%s-%s\"%(annee,nKalaba)\n",
    "repertoire=home+\"/ownCloud/Cours/Bordeaux/L1-LinguistiqueGenerale/00-ProjetKalaba/%s-%s\"%(annee,nKalaba)\n",
    "serie=repertoire+\"/\""
   ]
  },
  {
   "cell_type": "code",
   "execution_count": 3,
   "metadata": {},
   "outputs": [],
   "source": [
    "def normalizeLigne(ligne):\n",
    "    listeElements=[l for l in re.split(r\"\\\\|{|}| \",ligne) if l!=\"\"]\n",
    "    return \" \".join(listeElements)\n",
    "\n",
    "def normalizeLigneG(ligne):\n",
    "    listeElements=[l+\"G\" for l in re.split(r\"\\\\|{|}| \",ligne) if l!=\"\"]\n",
    "    return \" \".join(listeElements)"
   ]
  },
  {
   "cell_type": "code",
   "execution_count": 4,
   "metadata": {},
   "outputs": [
    {
     "data": {
      "text/plain": [
       "'defG techG niG vmeG lamG eG'"
      ]
     },
     "execution_count": 4,
     "metadata": {},
     "output_type": "execute_result"
    }
   ],
   "source": [
    "normalizeLigneG(\"def{} \\\\tech ni{vme}lam e\")"
   ]
  },
  {
   "cell_type": "code",
   "execution_count": 5,
   "metadata": {},
   "outputs": [],
   "source": [
    "nomExemples=\"Exemples.tex\"\n",
    "with codecs.open(serie+nomExemples,\"r\",encoding=\"utf8\") as input:\n",
    "    lignesExemples=input.readlines()"
   ]
  },
  {
   "cell_type": "code",
   "execution_count": 6,
   "metadata": {
    "scrolled": true
   },
   "outputs": [
    {
     "name": "stdout",
     "output_type": "stream",
     "text": [
      "approcherViPrsTroisSgDG DEG louveCSgAbsG DEFSgCG chefDSgAbsG DEFSgDG DEG combattantCPlAbsG DEFPlCG\n",
      "envahirVtPstTroisSgDG maisonDSgAbsG DEFSgDG DEG MahiraCSgAbsG DEFSgCG lueurCSgErgG DEFSgCG DEG luneCSgAbsG DEFSgCG\n",
      "protegerVtPstTroisPlCG louveCPlAbsG noirCPlAbsG DEFPlCG loupBSgErgG blancBSgErgG DEFSgBG\n",
      "donnerVdPrsTroisSgDG chefDSgDatG DEFSgDG DEG louveCPlAbsG DEFPlCG colereDSgAbsG grandDSgAbsG INDSgDG demonBSgErgG DEFSgBG\n",
      "allerViPrsTroisPlBG DANSG foretBSgOblG DEFSgBG hommeBPlAbsG DEFPlBG\n",
      "tomberViPrsTroisSgCG louveCSgAbsG blesseCSgAbsG DEFSgCG\n",
      "tomberViPrsTroisSgBG SURG villageDSgOblG DEFSgDG DEG KalebASgAbsG DEFSgAG nuitBSgAbsG DEFSgBG\n",
      "etreVtPstTroisSgBG demonBSgAbsG INDSgBG ombreASgErgG rougeASgErgG noirASgErgG DEMSgAG\n",
      "fuirViPrsTroisSgAG VERSG lueurCPlOblG DEFPlCG DEG villageDSgAbsG DEFSgDG filleASgAbsG petitASgAbsG DEFSgAG\n",
      "allerViPstTroisPlCG VERSG foretBSgOblG DEFSgBG DEG louveCPlAbsG DEFPlCG combattantCPlAbsG courageuxCPlAbsG DEFPlCG\n",
      "approcherViPstTroisDuBG loupBDuAbsG noirBDuAbsG INDDuBG\n",
      "tomberViPstTroisSgBG nuitBSgAbsG DEFSgBG\n",
      "planterVtPrsTroisPlCG crocCPlAbsG DEFPlCG DANSG mainASgOblG DEFSgAG DEG KalebASgAbsG DEFSgAG louveCSgErgG DEFSgCG\n",
      "jeterVtPrsTroisPlBG louveCPlDatG DEFPlCG lanceBPlAbsG INDPlBG hommeBPlErgG DEFPlBG\n",
      "allerViPrsTroisPlCG DANSG maisonDSgOblG INDSgDG DEG villageDSgAbsG DEFSgDG enfantCPlAbsG effrayeCPlAbsG DEFPlCG AVECG villageoiseCPlErgG courageuxCPlErgG DEFPlCG\n",
      "sauterViPrsTroisSgBG SURG chefDSgOblG DEFSgDG DEG louveCPlAbsG DEFPlCG loupBSgAbsG petitBSgAbsG DEFSgBG\n",
      "chasserVtPrsTroisPlCG louveCPlAbsG DEFPlCG villageoiseCPlErgG DEFPlCG\n",
      "chercherVtPrsTroisSgCG MahiraCSgAbsG DEFSgCG VioletteASgErgG DEFSgAG AG villageDSgAbsG DEFSgDG\n",
      "etreVtPstTroisSgCG louveCSgAbsG grandCSgAbsG blancCSgAbsG INDSgCG MahiraCSgErgG DEFSgCG\n",
      "prendreVtPrsTroisSgAG VioletteASgAbsG DEFSgAG ENTREG crocCPlOblG DEFPlCG louveCSgErgG grandCSgErgG DEFSgCG\n",
      "prendreVtPrsTroisSgAG corpsASgAbsG rougeASgAbsG DEFSgAG DEG filleASgAbsG petitASgAbsG DEFSgAG mainADuErgG DEFDuAG DEG KalebASgAbsG DEFSgAG\n",
      "apporterVdPrsTroisDuAG louveCSgDatG blancCSgDatG DEFSgCG corpsADuAbsG INDDuAG DEG villageoiseCPlAbsG INDPlCG DANSG foretBSgOblG DEFSgBG loupBPlErgG noirBPlErgG DEFPlBG\n",
      "pousserVtPrsTroisPlAG criAPlAbsG terribleAPlAbsG INDPlAG VioletteASgErgG petitASgErgG DEFSgAG DANSG nuitBSgOblG noirBSgOblG DEFSgBG\n",
      "donnerVdPrsTroisSgCG corpsASgDatG DEFSgAG DEG louveCSgAbsG DEFSgCG lueurCSgAbsG rougeCSgAbsG INDSgCG mortDSgErgG DEFSgDG DEG VioletteASgAbsG DEFSgAG\n",
      "tomberViPrsTroisSgDG chefDSgAbsG DEFSgDG DEG villageoiseCPlAbsG DEFPlCG\n",
      "parlerViPstTroisSgBG MahiraCSgDatG DEFSgCG demonBSgAbsG DEFSgBG\n",
      "disparaitreViPstTroisSgCG DANSG ombreASgOblG DEFSgAG DEG arbreBPlAbsG DEFPlBG louveCSgAbsG blesseCSgAbsG DEFSgCG\n",
      "protegerVtPrsTroisSgAG filleASgAbsG petitASgAbsG blesseASgAbsG DEFSgAG chefDSgErgG DEFSgDG DEG louveCPlAbsG DEFPlCG\n",
      "donnerVdPrsTroisSgAG villageoisDSgDatG DEFSgDG blessureASgAbsG profondASgAbsG INDSgAG crocCPlErgG DEFPlCG DEG louveCSgAbsG DEFSgCG\n",
      "disparaitreViPrsTroisSgDG sortDSgAbsG DEFSgDG AVECG mortDSgErgG DEFSgDG DEG villageoiseCPlAbsG DEFPlCG\n",
      "pousserVtPrsTroisPlCG enfantCPlAbsG DEFPlCG DANSG maisonDPlOblG DEFPlDG villageoiseCPlErgG DEFPlCG\n",
      "passerViPstTroisPlBG nuitBPlAbsG DEFPlBG\n",
      "disparaitreViPstTroisSgCG DERRIEREG arbreBPlOblG DEFPlBG luneCSgAbsG rougeCSgAbsG DEFSgCG\n",
      "tomberViPrsTroisSgCG combattantCSgAbsG DEFSgCG AVECG loupBSgErgG DEFSgBG\n",
      "planterVtPrsTroisPlCG crocCPlAbsG DEFPlCG DANSG gorgeCSgOblG DEFSgCG DEG hommeBSgAbsG DEMSgBG loupBSgErgG noirBSgErgG DEFSgBG\n",
      "recouvrirVtPstTroisSgAG visageASgAbsG DEFSgAG DEG combattantCSgAbsG INDSgCG blessureASgErgG INDSgAG\n",
      "approcherViPrsTroisSgBG DEG louveCSgAbsG DEFSgCG loupBSgAbsG petitBSgAbsG noirBSgAbsG DEFSgBG\n",
      "sortirViPstTroisPlCG DEG foretBSgAbsG DEFSgBG louveCPlAbsG DEFPlCG\n",
      "pousserVtPrsTroisSgBG couteauBSgAbsG DEMSgBG louveCSgErgG DEFSgCG\n",
      "sauterViPrsTroisSgCG VERSG combattantCSgOblG DEMSgCG louveCSgAbsG DEFSgCG\n",
      "fuirViPrsTroisDuAG DEVANTG corpsASgOblG DEFSgAG DEG villageoisDSgAbsG DEMSgDG filleADuAbsG effrayeADuAbsG DEFDuAG\n",
      "courirViPrsTroisDuAG VERSG villageDSgOblG DEFSgDG filleADuAbsG DEMDuAG\n",
      "fuirViPrsTroisSgCG louveCSgAbsG DEFSgCG AVECG filleASgErgG petitASgErgG DEMSgAG ENTREG crocCPlOblG DEFPlCG\n",
      "prendreVtPrsTroisSgBG lanceBSgAbsG DEFSgBG SURG louveCSgOblG blesseCSgOblG DEFSgCG KalebASgErgG DEFSgAG\n",
      "prendreVtPrsTroisSgAG filleASgAbsG petitASgAbsG DEFSgAG mortDSgErgG DEFSgDG\n",
      "rejoindreVtPrsTroisSgAG VioletteASgAbsG DEFSgAG KalebASgErgG DEFSgAG\n",
      "rejoindreVtPrsTroisSgAG VioletteASgAbsG DEFSgAG DEVANTG arbreBSgOblG DEFSgBG KalebASgErgG DEFSgAG\n",
      "envahirVtPrsTroisSgCG combattantCSgAbsG DEFSgCG souffranceCSgErgG profondCSgErgG INDSgCG\n",
      "disparaitreViPrsTroisSgBG DANSG corpsASgOblG DEFSgAG DEG chefDSgAbsG DEFSgDG DEG louveCPlAbsG DEFPlCG lanceBSgAbsG INDSgBG\n",
      "sortirViPrsTroisSgCG DEG combatCSgAbsG DEFSgCG louveCSgAbsG blesseCSgAbsG DEFSgCG\n",
      "voirVtPstTroisSgAG ombreASgAbsG grandASgAbsG INDSgAG filleADuErgG DEFDuAG\n",
      "jeterVtPrsTroisSgDG filleADuDatG DEFDuAG sortDSgAbsG INDSgDG demonBSgErgG DEFSgBG\n",
      "planterVtPrsTroisDuBG lanceBDuAbsG DEMDuBG DANSG corpsASgOblG blesseASgOblG DEMSgAG villageoisDSgErgG furieuxDSgErgG DEFSgDG\n",
      "allerViPrsTroisSgBG VERSG combattantCDuOblG courageuxCDuOblG DEFDuCG loupBSgAbsG noirBSgAbsG DEFSgBG\n",
      "sortirViPstTroisSgCG DEG maisonDSgAbsG DEFSgDG MahiraCSgAbsG DEFSgCG\n",
      "voirVtPrsTroisSgAG ombreASgAbsG INDSgAG ENTREG arbreBPlOblG DEFPlBG filleASgErgG petitASgErgG DEFSgAG\n",
      "devorerVtPstTroisSgDG villageoisDSgAbsG INDSgDG demonBSgErgG terribleBSgErgG DEFSgBG DERRIEREG arbreBSgOblG INDSgBG\n",
      "prendreVtPrsTroisSgBG couteauBSgAbsG INDSgBG KalebASgErgG DEFSgAG\n",
      "disparaitreViPrsTroisDuCG DANSG mortDSgOblG DEFSgDG combattantCDuAbsG DEFDuCG\n",
      "voirVtPrsTroisDuAG filleADuAbsG DEFDuAG demonBSgErgG furieuxBSgErgG DEFSgBG\n",
      "chercherVtPrsTroisSgAG corpsASgAbsG differentASgAbsG INDSgAG sortDSgErgG DEFSgDG\n",
      "courirViPrsTroisSgBG VERSG filleASgOblG petitASgOblG DEMSgAG loupBSgAbsG blancBSgAbsG DEFSgBG\n",
      "parlerViPrsTroisSgDG villageoiseCPlDatG DEFPlCG DEG louveCPlAbsG furieuxCPlAbsG DEFPlCG chefDSgAbsG DEFSgDG DEG villageDSgAbsG DEFSgDG\n",
      "transpercerVtPrsTroisSgAG corpsASgAbsG blancASgAbsG DEFSgAG DEG louveCSgAbsG DEFSgCG lanceBSgErgG DEMSgBG\n",
      "chercherVtPstTroisSgCG MahiraCSgAbsG DEFSgCG VioletteASgErgG DEFSgAG DANSG foretBSgOblG DEFSgBG\n",
      "prendreVtPstTroisPlBG lanceBPlAbsG INDPlBG villageoisDPlErgG DEFPlDG\n",
      "donnerVdPrsTroisSgDG louveCSgDatG grandCSgDatG DEFSgCG mortDSgAbsG DEFSgDG blessureAPlErgG profondAPlErgG DEMPlAG\n",
      "voirVtPrsTroisSgCG louveCSgAbsG INDSgCG AVECG filleASgErgG INDSgAG ENTREG crocCPlOblG DEFPlCG KalebASgErgG DEFSgAG\n",
      "tomberViPrsTroisSgBG couteauBSgAbsG DEFSgBG\n",
      "voirVtPrsTroisSgCG MahiraCSgAbsG DEFSgCG AVECG lanceBDuErgG INDDuBG DANSG corpsASgOblG DEFSgAG KalebASgErgG DEFSgAG\n",
      "tomberViPrsTroisSgAG SURG arbreBSgOblG INDSgBG VioletteASgAbsG DEFSgAG\n",
      "envahirVtPrsTroisSgDG villageDSgAbsG petitDSgAbsG DEFSgDG louveCPlErgG DEFPlCG\n",
      "envahirVtPrsTroisSgAG visageASgAbsG rougeASgAbsG DEFSgAG DEG demonBSgAbsG DEFSgBG colereDSgErgG profondDSgErgG INDSgDG\n",
      "planterVtPrsTroisPlCG crocCPlAbsG INDPlCG DANSG filleASgOblG DEFSgAG loupBSgErgG petitBSgErgG DEFSgBG\n",
      "donnerVdPrsTroisSgDG loupBSgDatG grandBSgDatG blancBSgDatG DEMSgBG mortDSgAbsG DEFSgDG blessureASgErgG profondASgErgG DEMSgAG\n",
      "etreVtPstTroisSgAG filleASgAbsG DEFSgAG DEG KalebASgAbsG DEFSgAG VioletteASgErgG DEFSgAG\n",
      "parlerViPstTroisSgAG louveCSgDatG blancCSgDatG DEFSgCG serpentASgAbsG DEFSgAG\n",
      "transformerVtPrsTroisSgAG visageASgAbsG DEFSgAG DEG soeurDSgAbsG DEFSgDG DEG KalebASgAbsG DEFSgAG nuitBSgErgG DEFSgBG\n",
      "jeterVtPrsTroisSgAG VioletteASgAbsG DEFSgAG louveCSgErgG DEFSgCG\n",
      "courirViPrsTroisSgBG APRESG louveCSgOblG DEFSgCG loupBSgAbsG noirBSgAbsG suivantBSgAbsG DEFSgBG\n",
      "rejoindreVtPrsTroisSgCG louveCSgAbsG grandCSgAbsG blancCSgAbsG DEFSgCG DANSG mortDSgOblG DEFSgDG VioletteASgErgG DEFSgAG\n",
      "protegerVtPrsTroisSgAG visageASgAbsG DEFSgAG DEG MahiraCSgAbsG DEFSgCG couteauBSgErgG DEMSgBG\n",
      "recouvrirVtPrsTroisSgAG corpsASgAbsG DEFSgAG DEG MahiraCSgAbsG DEFSgCG lueurCSgErgG DEFSgCG DEG luneCSgAbsG DEFSgCG\n",
      "prendreVtPrsTroisSgBG lanceBSgAbsG INDSgBG chefDSgErgG DEFSgDG DEG villageDSgAbsG DEFSgDG\n",
      "tomberViPrsTroisDuAG SURG villageDSgOblG DEFSgDG criADuAbsG INDDuAG DEG louveCPlAbsG INDPlCG\n",
      "voirVtPstTroisPlCG combatCPlAbsG terribleCPlAbsG INDPlCG nuitBPlErgG DEMPlBG\n",
      "passerViPstTroisDuBG nuitBDuAbsG suivantBDuAbsG DEFDuBG\n",
      "jeterVtPrsTroisSgDG mortDPlDatG DEFPlDG sortDSgAbsG INDSgDG demonBSgErgG DEFSgBG\n",
      "apporterVdPrsTroisDuAG demonBSgDatG DEFSgBG corpsADuAbsG DEMDuAG louveCSgErgG grandCSgErgG DEFSgCG\n",
      "prendreVtPrsTroisSgAG coupASgAbsG profondASgAbsG INDSgAG DEG couteauBSgAbsG INDSgBG DANSG gorgeCSgOblG DEFSgCG loupBSgErgG DEFSgBG\n",
      "chasserVtPrsTroisSgAG VioletteASgAbsG DEFSgAG loupBDuErgG terribleBDuErgG DEFDuBG\n",
      "rejoindreVtPrsTroisSgCG louveCSgAbsG DEMSgCG KalebASgErgG DEFSgAG\n",
      "jeterVtPrsTroisSgBG lanceBSgAbsG DEMSgBG VERSG louveCSgOblG DEFSgCG KalebASgErgG DEFSgAG\n",
      "parlerViPstTroisSgAG enfantCPlDatG petitCPlDatG INDPlCG VioletteASgAbsG DEFSgAG DEVANTG maisonDSgOblG DEFSgDG\n",
      "prendreVtPrsTroisSgBG lanceBSgAbsG DEFSgBG SURG arbreBSgOblG DEFSgBG KalebASgErgG DEFSgAG\n",
      "donnerVdPrsTroisSgAG louveCSgDatG DEFSgCG coupASgAbsG INDSgAG DEG couteauBSgAbsG INDSgBG chefDSgErgG DEFSgDG DEG hommeBPlAbsG DEFPlBG\n",
      "protegerVtPrsTroisPlCG enfantCPlAbsG petitCPlAbsG DEFPlCG villageoiseCPlErgG DEFPlCG DANSG maisonDSgOblG INDSgDG\n",
      "transformerVtPrsTroisSgCG villageoiseCSgAbsG DEFSgCG sortDSgErgG DEFSgDG DEG demonBSgAbsG DEFSgBG DANSG nuitBSgOblG DEFSgBG\n",
      "disparaitreViPstTroisSgCG DANSG foretBSgOblG profondBSgOblG DEFSgBG MahiraCSgAbsG DEFSgCG\n",
      "voirVtPstTroisSgAG serpentASgAbsG grandASgAbsG noirASgAbsG INDSgAG louveCSgErgG DEFSgCG\n",
      "donnerVdPrsTroisSgCG villageoiseCDuDatG DEFDuCG lueurCSgAbsG rougeCSgAbsG INDSgCG sortDSgErgG DEFSgDG\n",
      "envahirVtPrsTroisSgBG foretBSgAbsG noirBSgAbsG DEFSgBG lueurCDuErgG INDDuCG\n",
      "voirVtPrsTroisDuBG loupBDuAbsG DEMDuBG VioletteASgErgG DEFSgAG DANSG nuitBSgOblG noirBSgOblG DEFSgBG\n",
      "chasserVtPrsTroisDuCG villageoiseCDuAbsG DEFDuCG loupBSgErgG grandBSgErgG blancBSgErgG DEFSgBG DEG demonBSgAbsG DEFSgBG\n",
      "approcherViPrsTroisSgBG loupBSgAbsG suivantBSgAbsG DEFSgBG\n",
      "pousserVtPrsTroisSgAG criASgAbsG INDSgAG KalebASgErgG DEFSgAG\n",
      "transpercerVtPrsTroisSgCG gorgeCSgAbsG DEFSgCG DEG louveCSgAbsG DEFSgCG lanceBSgErgG suivantBSgErgG DEFSgBG\n",
      "transpercerVtPrsTroisSgBG arbreBSgAbsG INDSgBG lanceBSgErgG DEFSgBG\n",
      "planterVtPrsTroisSgBG couteauBSgAbsG INDSgBG DANSG corpsASgOblG DEFSgAG DEG loupBSgAbsG DEFSgBG hommeBSgErgG DEFSgBG\n",
      "devorerVtPrsTroisPlCG villageoiseCPlAbsG DEFPlCG louveCPlErgG DEFPlCG\n",
      "fuirViPrsTroisSgAG VioletteASgAbsG DEFSgAG\n",
      "courirViPrsTroisSgAG VERSG louveCSgOblG DEFSgCG KalebASgAbsG DEFSgAG AVECG lanceBSgErgG DEFSgBG DANSG mainASgOblG DEFSgAG\n",
      "tomberViPrsTroisSgAG filleASgAbsG petitASgAbsG DEFSgAG\n",
      "apporterVdPstTroisPlDG villageDSgDatG DEFSgDG mortDPlAbsG INDPlDG combatCPlErgG suivantCPlErgG DEFPlCG\n",
      "planterVtPrsTroisPlCG crocCPlAbsG DEFPlCG DANSG mainASgOblG DEFSgAG DEG MahiraCSgAbsG DEFSgCG loupBSgErgG grandBSgErgG DEFSgBG\n",
      "allerViPrsTroisSgCG DANSG maisonDSgOblG DEFSgDG villageoiseCSgAbsG DEFSgCG AVECG enfantBSgErgG DEFSgBG\n",
      "transpercerVtPrsTroisDuBG loupBDuAbsG INDDuBG lanceBDuErgG INDDuBG\n",
      "fuirViPstTroisPlDG VERSG villageDSgOblG DEFSgDG villageoisDPlAbsG DEFPlDG\n",
      "courirViPrsTroisSgAG VERSG criASgOblG DEMSgAG KalebASgAbsG DEFSgAG AVECG combattantCSgErgG INDSgCG DEG villageDSgAbsG DEFSgDG\n",
      "allerViPstTroisSgAG VERSG maisonDSgOblG DEFSgDG DEG chefDSgAbsG DEFSgDG DEG villageDSgAbsG DEFSgDG serpentASgAbsG DEFSgAG\n",
      "parlerViPrsTroisSgAG combattantCPlDatG DEFPlCG KalebASgAbsG courageuxASgAbsG DEFSgAG\n",
      "disparaitreViPrsTroisDuAG corpsADuAbsG DEFDuAG\n",
      "pousserVtPrsTroisSgAG criASgAbsG INDSgAG villageoiseCSgErgG effrayeCSgErgG INDSgCG\n",
      "disparaitreViPrsTroisSgAG DANSG nuitBSgOblG noirBSgOblG DEFSgBG corpsASgAbsG DEMSgAG\n",
      "transpercerVtPrsTroisSgCG gorgeCSgAbsG DEFSgCG DEG loupBSgAbsG petitBSgAbsG DEMSgBG crocCPlErgG DEFPlCG DEG chefDSgAbsG DEFSgDG\n",
      "recouvrirVtPrsTroisDuAG filleADuAbsG DEFDuAG lueurCSgErgG rougeCSgErgG INDSgCG\n",
      "approcherViPstTroisSgBG nuitBSgAbsG DEFSgBG\n",
      "rejoindreVtPrsTroisSgCG louveCSgAbsG grandCSgAbsG DEFSgCG DANSG foretBSgOblG DEFSgBG loupBPlErgG noirBPlErgG DEFPlBG\n",
      "sortirViPrsTroisSgCG DEG milieuASgAbsG DEFSgAG DEG arbreBDuAbsG DEFDuBG louveCSgAbsG blancCSgAbsG DEFSgCG\n",
      "etreVtPstTroisSgDG chefDSgAbsG DEFSgDG DEG villageDSgAbsG petitDSgAbsG INDSgDG DEG foretBSgAbsG INDSgBG KalebASgErgG DEFSgAG\n",
      "courirViPrsTroisDuCG VERSG hommeBSgOblG blesseBSgOblG DEMSgBG villageoiseCDuAbsG INDDuCG\n",
      "prendreVtPrsTroisSgAG enfantBDuDatG petitBDuDatG DEFDuBG mainASgAbsG DEFSgAG villageoiseCSgErgG DEMSgCG\n",
      "chasserVtPstTroisSgAG MahiraCSgErgG DEFSgCG DANSG foretBSgOblG DEFSgBG AVECG filleASgErgG DEFSgAG DEG KalebASgAbsG DEFSgAG\n",
      "rejoindreVtPrsTroisSgAG VioletteASgAbsG DEFSgAG VERSG foretBSgOblG DEFSgBG enfantCDuErgG INDDuCG\n",
      "recouvrirVtPrsTroisSgAG corpsASgAbsG DEFSgAG DEG VioletteASgAbsG DEFSgAG lueurCPlErgG blancCPlErgG DEFPlCG\n",
      "tomberViPrsTroisSgAG corpsASgAbsG DEFSgAG DEG loupBSgAbsG DEFSgBG\n",
      "sauterViPrsTroisSgBG SURG combattantCSgOblG DEFSgCG loupBSgAbsG noirBSgAbsG DEFSgBG\n",
      "courirViPrsTroisSgAG VERSG MahiraCSgOblG DEFSgCG VioletteASgAbsG DEFSgAG\n",
      "rejoindreVtPstTroisSgDG maisonDSgAbsG grandDSgAbsG DEFSgDG enfantCPlErgG DEFPlCG AVECG villageoiseCPlErgG DEFPlCG\n",
      "donnerVdPrsTroisSgAG louveCSgDatG DEFSgCG coupASgAbsG INDSgAG chefDSgErgG DEFSgDG DEG villageoiseCPlAbsG DEFPlCG\n",
      "prendreVtPrsTroisPlBG lanceBPlAbsG DEFPlBG hommeBPlErgG DEFPlBG DANSG nuitBSgOblG suivantBSgOblG DEFSgBG\n",
      "envahirVtPrsTroisPlCG louveCPlAbsG DEFPlCG colereDSgErgG noirDSgErgG INDSgDG\n",
      "donnerVdPstTroisSgCG blessureASgDatG DEFSgAG DEG MahiraCSgAbsG DEFSgCG souffranceCSgAbsG grandCSgAbsG INDSgCG lueurCSgErgG DEMSgCG\n",
      "etreVtPstTroisSgDG soeurDSgAbsG grandDSgAbsG DEFSgDG DEG KalebASgAbsG DEFSgAG MahiraCSgErgG DEFSgCG\n",
      "protegerVtPrsTroisSgAG VioletteASgAbsG DEFSgAG AVECG couteauBSgErgG INDSgBG MahiraCSgErgG courageuxCSgErgG DEFSgCG\n",
      "planterVtPrsTroisPlCG crocCPlAbsG DEFPlCG DANSG gorgeCSgOblG DEFSgCG DEG hommeBSgAbsG INDSgBG loupBSgErgG INDSgBG\n",
      "jeterVtPrsTroisSgBG loupBDuDatG DEFDuBG lanceBSgAbsG INDSgBG villageoisDSgErgG DEFSgDG\n",
      "parlerViPstTroisSgAG KalebASgDatG DEFSgAG serpentASgAbsG DEMSgAG\n",
      "transformerVtPrsTroisSgCG louveCSgAbsG DEFSgCG lueurCSgErgG DEFSgCG DEVANTG KalebASgOblG DEFSgAG\n",
      "approcherViPrsTroisSgCG combatCSgAbsG terribleCSgAbsG DEFSgCG\n",
      "chercherVtPrsTroisSgBG demonBSgAbsG DEFSgBG louveCSgErgG effrayeCSgErgG DEMSgCG DANSG foretBSgOblG DEFSgBG\n"
     ]
    }
   ],
   "source": [
    "tradExemples={}\n",
    "for numEx,ligneEx in enumerate(lignesExemples):\n",
    "    if not ligneEx[0] in [\"\\\\\",\"%\",\"}\"]:\n",
    "        trad=normalizeLigneG(lignesExemples[numEx-3].strip())\n",
    "        tradExemples[trad]=ligneEx.strip()\n",
    "for cle in tradExemples:\n",
    "    print cle"
   ]
  },
  {
   "cell_type": "code",
   "execution_count": 7,
   "metadata": {},
   "outputs": [],
   "source": [
    "nomSolutionEntree=\"Exemples-Solution.tex\"\n",
    "with codecs.open(serie+nomSolutionEntree,\"r\",encoding=\"utf8\") as input:\n",
    "    lignesSolution=input.readlines()"
   ]
  },
  {
   "cell_type": "code",
   "execution_count": 8,
   "metadata": {
    "scrolled": false
   },
   "outputs": [],
   "source": [
    "traductionExemples={}\n",
    "nomSolutionSortie=\"Exemples-Solution-trad.tex\"\n",
    "with codecs.open(serie+nomSolutionSortie,\"w\",encoding=\"utf8\") as output:\n",
    "    for numSol,ligneSol in enumerate(lignesSolution):\n",
    "        cle=normalizeLigne(ligneSol).strip()\n",
    "        if cle in tradExemples:\n",
    "            ligneSol+=tradExemples[cle]+\"\\\\\\\\\\n\"\n",
    "        output.write(ligneSol)"
   ]
  },
  {
   "cell_type": "code",
   "execution_count": null,
   "metadata": {},
   "outputs": [],
   "source": []
  }
 ],
 "metadata": {
  "kernelspec": {
   "display_name": "Python 2",
   "language": "python",
   "name": "python2"
  },
  "language_info": {
   "codemirror_mode": {
    "name": "ipython",
    "version": 2
   },
   "file_extension": ".py",
   "mimetype": "text/x-python",
   "name": "python",
   "nbconvert_exporter": "python",
   "pygments_lexer": "ipython2",
   "version": "2.7.15"
  }
 },
 "nbformat": 4,
 "nbformat_minor": 1
}
