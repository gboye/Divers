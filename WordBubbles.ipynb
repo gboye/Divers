{
 "metadata": {
  "name": "",
  "signature": "sha256:d88b9623e1700693cdf48db9822e32b0a9d8b6178e356d4429f616f5f0f245b6"
 },
 "nbformat": 3,
 "nbformat_minor": 0,
 "worksheets": [
  {
   "cells": [
    {
     "cell_type": "code",
     "collapsed": false,
     "input": [
      "from unidecode import unidecode\n",
      "import re,sys\n",
      "import random as rd\n",
      "import itertools as it"
     ],
     "language": "python",
     "metadata": {},
     "outputs": [],
     "prompt_number": 3
    },
    {
     "cell_type": "code",
     "collapsed": false,
     "input": [
      "nomLexique=\"../../Copy/Python/phonemisation/bdlexique.txt\"\n",
      "fichierLexique=open(nomLexique)"
     ],
     "language": "python",
     "metadata": {},
     "outputs": [],
     "prompt_number": 4
    },
    {
     "cell_type": "code",
     "collapsed": false,
     "input": [
      "def sortLettres(mot):\n",
      "    result=[]\n",
      "#    stdMot=unidecode(mot)\n",
      "    for lettre in stdMot:\n",
      "        result.append(lettre)\n",
      "    result.sort()\n",
      "    return \"\".join(result)"
     ],
     "language": "python",
     "metadata": {},
     "outputs": [],
     "prompt_number": 5
    },
    {
     "cell_type": "code",
     "collapsed": false,
     "input": [
      "def bonMot(mot):\n",
      "    if re.search(\"[-']\",mot):\n",
      "         return False     \n",
      "    else:\n",
      "        return True"
     ],
     "language": "python",
     "metadata": {},
     "outputs": [],
     "prompt_number": 6
    },
    {
     "cell_type": "code",
     "collapsed": false,
     "input": [
      "mots={}\n",
      "for element in fichierLexique:\n",
      "    mot=element.split(\";\")[0]\n",
      "    if bonMot(mot):\n",
      "        longueurMot=len(mot)\n",
      "        if not longueurMot in mots:\n",
      "            mots[longueurMot]={}\n",
      "        lettresMot=sortLettres(mot)\n",
      "        if not lettresMot in mots[longueurMot]:\n",
      "            mots[longueurMot][lettresMot]=set()\n",
      "        mots[longueurMot][lettresMot].add(mot)"
     ],
     "language": "python",
     "metadata": {},
     "outputs": [
      {
       "ename": "NameError",
       "evalue": "global name 'stdMot' is not defined",
       "output_type": "pyerr",
       "traceback": [
        "\u001b[0;31m---------------------------------------------------------------------------\u001b[0m\n\u001b[0;31mNameError\u001b[0m                                 Traceback (most recent call last)",
        "\u001b[0;32m<ipython-input-7-457246f66bd2>\u001b[0m in \u001b[0;36m<module>\u001b[0;34m()\u001b[0m\n\u001b[1;32m      6\u001b[0m         \u001b[0;32mif\u001b[0m \u001b[0;32mnot\u001b[0m \u001b[0mlongueurMot\u001b[0m \u001b[0;32min\u001b[0m \u001b[0mmots\u001b[0m\u001b[0;34m:\u001b[0m\u001b[0;34m\u001b[0m\u001b[0m\n\u001b[1;32m      7\u001b[0m             \u001b[0mmots\u001b[0m\u001b[0;34m[\u001b[0m\u001b[0mlongueurMot\u001b[0m\u001b[0;34m]\u001b[0m\u001b[0;34m=\u001b[0m\u001b[0;34m{\u001b[0m\u001b[0;34m}\u001b[0m\u001b[0;34m\u001b[0m\u001b[0m\n\u001b[0;32m----> 8\u001b[0;31m         \u001b[0mlettresMot\u001b[0m\u001b[0;34m=\u001b[0m\u001b[0msortLettres\u001b[0m\u001b[0;34m(\u001b[0m\u001b[0mmot\u001b[0m\u001b[0;34m)\u001b[0m\u001b[0;34m\u001b[0m\u001b[0m\n\u001b[0m\u001b[1;32m      9\u001b[0m         \u001b[0;32mif\u001b[0m \u001b[0;32mnot\u001b[0m \u001b[0mlettresMot\u001b[0m \u001b[0;32min\u001b[0m \u001b[0mmots\u001b[0m\u001b[0;34m[\u001b[0m\u001b[0mlongueurMot\u001b[0m\u001b[0;34m]\u001b[0m\u001b[0;34m:\u001b[0m\u001b[0;34m\u001b[0m\u001b[0m\n\u001b[1;32m     10\u001b[0m             \u001b[0mmots\u001b[0m\u001b[0;34m[\u001b[0m\u001b[0mlongueurMot\u001b[0m\u001b[0;34m]\u001b[0m\u001b[0;34m[\u001b[0m\u001b[0mlettresMot\u001b[0m\u001b[0;34m]\u001b[0m\u001b[0;34m=\u001b[0m\u001b[0mset\u001b[0m\u001b[0;34m(\u001b[0m\u001b[0;34m)\u001b[0m\u001b[0;34m\u001b[0m\u001b[0m\n",
        "\u001b[0;32m<ipython-input-5-4a4ea950c245>\u001b[0m in \u001b[0;36msortLettres\u001b[0;34m(mot)\u001b[0m\n\u001b[1;32m      2\u001b[0m     \u001b[0mresult\u001b[0m\u001b[0;34m=\u001b[0m\u001b[0;34m[\u001b[0m\u001b[0;34m]\u001b[0m\u001b[0;34m\u001b[0m\u001b[0m\n\u001b[1;32m      3\u001b[0m \u001b[0;31m#    stdMot=unidecode(mot)\u001b[0m\u001b[0;34m\u001b[0m\u001b[0;34m\u001b[0m\u001b[0m\n\u001b[0;32m----> 4\u001b[0;31m     \u001b[0;32mfor\u001b[0m \u001b[0mlettre\u001b[0m \u001b[0;32min\u001b[0m \u001b[0mstdMot\u001b[0m\u001b[0;34m:\u001b[0m\u001b[0;34m\u001b[0m\u001b[0m\n\u001b[0m\u001b[1;32m      5\u001b[0m         \u001b[0mresult\u001b[0m\u001b[0;34m.\u001b[0m\u001b[0mappend\u001b[0m\u001b[0;34m(\u001b[0m\u001b[0mlettre\u001b[0m\u001b[0;34m)\u001b[0m\u001b[0;34m\u001b[0m\u001b[0m\n\u001b[1;32m      6\u001b[0m     \u001b[0mresult\u001b[0m\u001b[0;34m.\u001b[0m\u001b[0msort\u001b[0m\u001b[0;34m(\u001b[0m\u001b[0;34m)\u001b[0m\u001b[0;34m\u001b[0m\u001b[0m\n",
        "\u001b[0;31mNameError\u001b[0m: global name 'stdMot' is not defined"
       ]
      }
     ],
     "prompt_number": 7
    },
    {
     "cell_type": "code",
     "collapsed": false,
     "input": [
      "def motsLettres(lettres,longueur):\n",
      "    result=[]\n",
      "    lettres=sortLettres(lettres)\n",
      "    for retrait in range(longueur-1):\n",
      "        l=longueur-retrait\n",
      "        for comb in set(it.combinations(lettres,l)):\n",
      "            cle=\"\".join(comb)\n",
      "            if cle in mots[l]:\n",
      "                result.append(mots[l][cle])\n",
      "    result.sort() \n",
      "    return result"
     ],
     "language": "python",
     "metadata": {},
     "outputs": [],
     "prompt_number": 8
    },
    {
     "cell_type": "code",
     "collapsed": false,
     "input": [
      "def Ngram(lot,n):\n",
      "    result=[]\n",
      "    if n<len(questions):\n",
      "        longueur=questions[n]\n",
      "        for ngram in set(it.combinations(lot,longueur)):\n",
      "            mot=sortLettres(\"\".join(ngram))\n",
      "            if mot in mots[longueur]:\n",
      "                reste=lot[:]\n",
      "                for element in ngram:\n",
      "                    reste.remove(element)\n",
      "                suivant=Ngram(reste,n+1)\n",
      "                if suivant:\n",
      "                    result.append((mots[longueur][mot],suivant))\n",
      "                else:\n",
      "                    result.append(mots[longueur][mot])\n",
      "    if result and n>0:\n",
      "        print (n,result)\n",
      "    return result\n"
     ],
     "language": "python",
     "metadata": {},
     "outputs": [],
     "prompt_number": 57
    },
    {
     "cell_type": "code",
     "collapsed": false,
     "input": [
      "bubbles=[\"moceu\",\"\u00e9hraa\",\"cafup\",\"bebdr\",\"lao\"]\n",
      "lettres=\"\"\n",
      "for ligne in bubbles:\n",
      "    lettres+=ligne\n",
      "questions=[8,8,7]\n",
      "solutions=[\"\"]\n",
      "complet=[]\n",
      "results=set()\n",
      "for lettre in lettres:\n",
      "    complet.append(lettre)\n",
      "for solution in solutions:\n",
      "    if len(solution)>0:\n",
      "        questions.remove(len(solution))\n",
      "    for lettre in solution:\n",
      "        complet.remove(lettre)"
     ],
     "language": "python",
     "metadata": {},
     "outputs": [],
     "prompt_number": 1
    },
    {
     "cell_type": "code",
     "collapsed": false,
     "input": [
      "possibles=[]\n",
      "Ngram(complet,0)"
     ],
     "language": "python",
     "metadata": {},
     "outputs": [
      {
       "ename": "NameError",
       "evalue": "name 'Ngram' is not defined",
       "output_type": "pyerr",
       "traceback": [
        "\u001b[0;31m---------------------------------------------------------------------------\u001b[0m\n\u001b[0;31mNameError\u001b[0m                                 Traceback (most recent call last)",
        "\u001b[0;32m<ipython-input-2-cb0d14d99ada>\u001b[0m in \u001b[0;36m<module>\u001b[0;34m()\u001b[0m\n\u001b[1;32m      1\u001b[0m \u001b[0mpossibles\u001b[0m\u001b[0;34m=\u001b[0m\u001b[0;34m[\u001b[0m\u001b[0;34m]\u001b[0m\u001b[0;34m\u001b[0m\u001b[0m\n\u001b[0;32m----> 2\u001b[0;31m \u001b[0mNgram\u001b[0m\u001b[0;34m(\u001b[0m\u001b[0mcomplet\u001b[0m\u001b[0;34m,\u001b[0m\u001b[0;36m0\u001b[0m\u001b[0;34m)\u001b[0m\u001b[0;34m\u001b[0m\u001b[0m\n\u001b[0m",
        "\u001b[0;31mNameError\u001b[0m: name 'Ngram' is not defined"
       ]
      }
     ],
     "prompt_number": 2
    },
    {
     "cell_type": "code",
     "collapsed": false,
     "input": [],
     "language": "python",
     "metadata": {},
     "outputs": []
    },
    {
     "cell_type": "code",
     "collapsed": false,
     "input": [],
     "language": "python",
     "metadata": {},
     "outputs": []
    }
   ],
   "metadata": {}
  }
 ]
}