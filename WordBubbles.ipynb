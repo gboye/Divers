{
 "cells": [
  {
   "cell_type": "code",
   "execution_count": 1,
   "metadata": {
    "collapsed": false
   },
   "outputs": [],
   "source": [
    "from unidecode import unidecode\n",
    "import re,sys\n",
    "import random as rd\n",
    "import itertools as it"
   ]
  },
  {
   "cell_type": "code",
   "execution_count": 3,
   "metadata": {
    "collapsed": false
   },
   "outputs": [],
   "source": [
    "nomLexique=\"../../ownCloud/Python/phonemisation/bdlexique.txt\"\n",
    "fichierLexique=open(nomLexique)"
   ]
  },
  {
   "cell_type": "code",
   "execution_count": 11,
   "metadata": {
    "collapsed": false
   },
   "outputs": [],
   "source": [
    "def sortLettres(mot):\n",
    "    result=[]\n",
    "#    stdMot=unidecode(mot)\n",
    "#    for lettre in stdMot:\n",
    "    for lettre in mot:\n",
    "        result.append(lettre)\n",
    "    result.sort()\n",
    "    return \"\".join(result)"
   ]
  },
  {
   "cell_type": "code",
   "execution_count": 12,
   "metadata": {
    "collapsed": false
   },
   "outputs": [],
   "source": [
    "def bonMot(mot):\n",
    "    if re.search(\"[-']\",mot):\n",
    "         return False     \n",
    "    else:\n",
    "        return True"
   ]
  },
  {
   "cell_type": "code",
   "execution_count": 13,
   "metadata": {
    "collapsed": false
   },
   "outputs": [],
   "source": [
    "mots={}\n",
    "for element in fichierLexique:\n",
    "    mot=element.split(\";\")[0]\n",
    "    if bonMot(mot):\n",
    "        longueurMot=len(mot)\n",
    "        if not longueurMot in mots:\n",
    "            mots[longueurMot]={}\n",
    "        lettresMot=sortLettres(mot)\n",
    "        if not lettresMot in mots[longueurMot]:\n",
    "            mots[longueurMot][lettresMot]=set()\n",
    "        mots[longueurMot][lettresMot].add(mot)"
   ]
  },
  {
   "cell_type": "code",
   "execution_count": 14,
   "metadata": {
    "collapsed": false
   },
   "outputs": [],
   "source": [
    "def motsLettres(lettres,longueur):\n",
    "    result=[]\n",
    "    lettres=sortLettres(lettres)\n",
    "    for retrait in range(longueur-1):\n",
    "        l=longueur-retrait\n",
    "        for comb in set(it.combinations(lettres,l)):\n",
    "            cle=\"\".join(comb)\n",
    "            if cle in mots[l]:\n",
    "                result.append(mots[l][cle])\n",
    "    result.sort() \n",
    "    return result"
   ]
  },
  {
   "cell_type": "code",
   "execution_count": 15,
   "metadata": {
    "collapsed": false
   },
   "outputs": [],
   "source": [
    "def Ngram(lot,n):\n",
    "    result=[]\n",
    "    if n<len(questions):\n",
    "        longueur=questions[n]\n",
    "        for ngram in set(it.combinations(lot,longueur)):\n",
    "            mot=sortLettres(\"\".join(ngram))\n",
    "            if mot in mots[longueur]:\n",
    "                reste=lot[:]\n",
    "                for element in ngram:\n",
    "                    reste.remove(element)\n",
    "                suivant=Ngram(reste,n+1)\n",
    "                if suivant:\n",
    "                    result.append((mots[longueur][mot],suivant))\n",
    "                else:\n",
    "                    result.append(mots[longueur][mot])\n",
    "    if result and n>0:\n",
    "        print (n,result)\n",
    "    return result\n"
   ]
  },
  {
   "cell_type": "code",
   "execution_count": 16,
   "metadata": {
    "collapsed": false
   },
   "outputs": [],
   "source": [
    "bubbles=[\"moceu\",\"éhraa\",\"cafup\",\"bebdr\",\"lao\"]\n",
    "lettres=\"\"\n",
    "for ligne in bubbles:\n",
    "    lettres+=ligne\n",
    "questions=[8,8,7]\n",
    "solutions=[\"\"]\n",
    "complet=[]\n",
    "results=set()\n",
    "for lettre in lettres:\n",
    "    complet.append(lettre)\n",
    "for solution in solutions:\n",
    "    if len(solution)>0:\n",
    "        questions.remove(len(solution))\n",
    "    for lettre in solution:\n",
    "        complet.remove(lettre)"
   ]
  },
  {
   "cell_type": "code",
   "execution_count": 17,
   "metadata": {
    "collapsed": false
   },
   "outputs": [
    {
     "ename": "KeyError",
     "evalue": "8",
     "output_type": "error",
     "traceback": [
      "\u001b[0;31m---------------------------------------------------------------------------\u001b[0m",
      "\u001b[0;31mKeyError\u001b[0m                                  Traceback (most recent call last)",
      "\u001b[0;32m<ipython-input-17-cb0d14d99ada>\u001b[0m in \u001b[0;36m<module>\u001b[0;34m()\u001b[0m\n\u001b[1;32m      1\u001b[0m \u001b[0mpossibles\u001b[0m\u001b[0;34m=\u001b[0m\u001b[0;34m[\u001b[0m\u001b[0;34m]\u001b[0m\u001b[0;34m\u001b[0m\u001b[0m\n\u001b[0;32m----> 2\u001b[0;31m \u001b[0mNgram\u001b[0m\u001b[0;34m(\u001b[0m\u001b[0mcomplet\u001b[0m\u001b[0;34m,\u001b[0m\u001b[0;36m0\u001b[0m\u001b[0;34m)\u001b[0m\u001b[0;34m\u001b[0m\u001b[0m\n\u001b[0m",
      "\u001b[0;32m<ipython-input-15-2ef7f9815385>\u001b[0m in \u001b[0;36mNgram\u001b[0;34m(lot, n)\u001b[0m\n\u001b[1;32m      5\u001b[0m         \u001b[0;32mfor\u001b[0m \u001b[0mngram\u001b[0m \u001b[0;32min\u001b[0m \u001b[0mset\u001b[0m\u001b[0;34m(\u001b[0m\u001b[0mit\u001b[0m\u001b[0;34m.\u001b[0m\u001b[0mcombinations\u001b[0m\u001b[0;34m(\u001b[0m\u001b[0mlot\u001b[0m\u001b[0;34m,\u001b[0m\u001b[0mlongueur\u001b[0m\u001b[0;34m)\u001b[0m\u001b[0;34m)\u001b[0m\u001b[0;34m:\u001b[0m\u001b[0;34m\u001b[0m\u001b[0m\n\u001b[1;32m      6\u001b[0m             \u001b[0mmot\u001b[0m\u001b[0;34m=\u001b[0m\u001b[0msortLettres\u001b[0m\u001b[0;34m(\u001b[0m\u001b[0;34m\"\"\u001b[0m\u001b[0;34m.\u001b[0m\u001b[0mjoin\u001b[0m\u001b[0;34m(\u001b[0m\u001b[0mngram\u001b[0m\u001b[0;34m)\u001b[0m\u001b[0;34m)\u001b[0m\u001b[0;34m\u001b[0m\u001b[0m\n\u001b[0;32m----> 7\u001b[0;31m             \u001b[0;32mif\u001b[0m \u001b[0mmot\u001b[0m \u001b[0;32min\u001b[0m \u001b[0mmots\u001b[0m\u001b[0;34m[\u001b[0m\u001b[0mlongueur\u001b[0m\u001b[0;34m]\u001b[0m\u001b[0;34m:\u001b[0m\u001b[0;34m\u001b[0m\u001b[0m\n\u001b[0m\u001b[1;32m      8\u001b[0m                 \u001b[0mreste\u001b[0m\u001b[0;34m=\u001b[0m\u001b[0mlot\u001b[0m\u001b[0;34m[\u001b[0m\u001b[0;34m:\u001b[0m\u001b[0;34m]\u001b[0m\u001b[0;34m\u001b[0m\u001b[0m\n\u001b[1;32m      9\u001b[0m                 \u001b[0;32mfor\u001b[0m \u001b[0melement\u001b[0m \u001b[0;32min\u001b[0m \u001b[0mngram\u001b[0m\u001b[0;34m:\u001b[0m\u001b[0;34m\u001b[0m\u001b[0m\n",
      "\u001b[0;31mKeyError\u001b[0m: 8"
     ]
    }
   ],
   "source": [
    "possibles=[]\n",
    "Ngram(complet,0)"
   ]
  },
  {
   "cell_type": "code",
   "execution_count": null,
   "metadata": {
    "collapsed": false
   },
   "outputs": [],
   "source": []
  },
  {
   "cell_type": "code",
   "execution_count": null,
   "metadata": {
    "collapsed": false
   },
   "outputs": [],
   "source": []
  }
 ],
 "metadata": {
  "kernelspec": {
   "display_name": "Python 2",
   "language": "python",
   "name": "python2"
  },
  "language_info": {
   "codemirror_mode": {
    "name": "ipython",
    "version": 2
   },
   "file_extension": ".py",
   "mimetype": "text/x-python",
   "name": "python",
   "nbconvert_exporter": "python",
   "pygments_lexer": "ipython2",
   "version": "2.7.11"
  }
 },
 "nbformat": 4,
 "nbformat_minor": 0
}
