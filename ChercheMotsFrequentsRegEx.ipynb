{
 "cells": [
  {
   "cell_type": "code",
   "execution_count": 43,
   "metadata": {
    "collapsed": true
   },
   "outputs": [],
   "source": [
    "from unidecode import unidecode\n",
    "import re,sys,codecs\n",
    "import random as rd\n",
    "import itertools as it"
   ]
  },
  {
   "cell_type": "code",
   "execution_count": 44,
   "metadata": {
    "collapsed": true
   },
   "outputs": [],
   "source": [
    "nomLexique=\"../../ownCloud/Python/phonemisation/bdlexique.txt\"\n",
    "fichierLexique=codecs.open(nomLexique,encoding=\"utf8\")"
   ]
  },
  {
   "cell_type": "code",
   "execution_count": 45,
   "metadata": {
    "collapsed": true
   },
   "outputs": [],
   "source": [
    "def makeFreq(freq):\n",
    "    if \"***\" in freq:\n",
    "        return 0\n",
    "    else:\n",
    "        return int(freq)"
   ]
  },
  {
   "cell_type": "code",
   "execution_count": 46,
   "metadata": {},
   "outputs": [],
   "source": [
    "mots={}\n",
    "lemmes={}\n",
    "for nElement,element in enumerate(fichierLexique):\n",
    "    elements=element.split(\";\")\n",
    "    mot=elements[0]\n",
    "    lemme=elements[6]\n",
    "    freqLemme=makeFreq(elements[9])\n",
    "    freqMot=makeFreq(elements[11])\n",
    "    if not lemme in lemmes:\n",
    "        lemmes[lemme]=freqLemme\n",
    "    if not mot in mots:\n",
    "        mots[mot]=freqMot"
   ]
  },
  {
   "cell_type": "code",
   "execution_count": 75,
   "metadata": {},
   "outputs": [
    {
     "name": "stdout",
     "output_type": "stream",
     "text": [
      "homme chez hommes heures heure chambre ah histoire bouche cheveux chemin oh eh chef chercher aujourd'hui bonheur blanche hôtel habitude heureux hasard chien chance chaleur cheval dehors poche marche hiver téléphone hier chair hein haute gauche dimanche honneur phrase chaise herbe honte marcher chemise chapeau malheur changer empêcher chevaux histoires cherche hauteur théâtre château branches horreur horizon blanches machine heureuse marché acheter photo chiens phrases chasse marches champs humeur silhouette cherchait champ choix heureusement hôpital haine marchait échapper chaussures humaine chaude hâte poches thé chauffeur héros charme chaîne fraîche approcha là-haut rythme riche haut chaud empêche revanche malheureux photos recherche maréchal humide choc hautes taches bibliothèque réfléchir cheminée huile atmosphère hésita charge tâche humain chapitre manche approcher chute sèche fraîcheur choisir hélas sachant haussa arracher chanter pencha tache chemins enthousiasme chefs chambres prochaine écho herbes chaises cherchant habitait hé plancher hauts moustache mouchoir chant franchement mouches échelle approchait physique triomphe sache chercha planches penche pêche changement chanson machines habitudes hall thomas whisky démarche chevelure habitants choeur philosophie branche sympathie échange manches humanité photographie chasseur chère catastrophe riches hanches couche machinalement péché chantait tronche habite demi-heure franchir chaussée approche chances rochers charbon marcha prochain cachait chevalier haleine catholique malheureusement chasser phares horrible silhouettes chansons chiffres lâcher douche cher honnête cahier proches charmant malheurs hésitation téléphoner chars cauchemar réfléchit mèche mouche échappe touchait empêchait hésite chevet chante sèches chaussettes hurle cloche changeait chier orchestre rocher chasseurs reproche photographies souhaite hurler rez-de-chaussée chemises charrette humour chinois chêne méthode habits cloches hésiter moustaches malheureuse\n"
     ]
    }
   ],
   "source": [
    "patron=u\"^.*h.*$\"\n",
    "longMax=250\n",
    "\n",
    "candidats={}\n",
    "for mot in mots:\n",
    "    m=re.match(patron,mot)\n",
    "    if m:\n",
    "        if not mot in candidats:\n",
    "            candidats[mot]=mots[mot]\n",
    "listeMots=sorted(candidats.items(), key=lambda x: x[1],reverse=True)\n",
    "longueur=min(len(listeMots),longMax)\n",
    "for mot in listeMots[:longueur]:\n",
    "    print mot[0],\n",
    "print\n"
   ]
  },
  {
   "cell_type": "code",
   "execution_count": null,
   "metadata": {
    "collapsed": true
   },
   "outputs": [],
   "source": []
  }
 ],
 "metadata": {
  "kernelspec": {
   "display_name": "Python 2",
   "language": "python",
   "name": "python2"
  },
  "language_info": {
   "codemirror_mode": {
    "name": "ipython",
    "version": 2
   },
   "file_extension": ".py",
   "mimetype": "text/x-python",
   "name": "python",
   "nbconvert_exporter": "python",
   "pygments_lexer": "ipython2",
   "version": "2.7.11"
  }
 },
 "nbformat": 4,
 "nbformat_minor": 1
}
