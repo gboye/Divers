{
 "cells": [
  {
   "cell_type": "markdown",
   "id": "24aaab85-5438-45eb-9173-527afb6d3486",
   "metadata": {},
   "source": [
    "# Extraire les dossiers du fichier ZIP de Moodle\n",
    "bNomFichier pour garder les noms des fichiers, utile si il y a plusieurs fichiers par dossier"
   ]
  },
  {
   "cell_type": "code",
   "execution_count": 1,
   "id": "e6000ce6-b6db-46f0-868c-613d6aa72d15",
   "metadata": {},
   "outputs": [],
   "source": [
    "import os,zipfile\n",
    "bNomFichier=True"
   ]
  },
  {
   "cell_type": "code",
   "execution_count": 2,
   "id": "79a8c80d-73a4-440e-830b-d45a13f02b82",
   "metadata": {},
   "outputs": [],
   "source": [
    "rZip=\"/Users/gilles/ownCloud/Cours/Bordeaux/L1-LinguistiqueGenerale/23-Kalabia/\"\n",
    "fZip=\"23-Kalabia.zip\""
   ]
  },
  {
   "cell_type": "code",
   "execution_count": 4,
   "id": "a26ce6c7-df46-4a73-90b0-dae6419c7204",
   "metadata": {},
   "outputs": [
    {
     "name": "stdout",
     "output_type": "stream",
     "text": [
      "Kalabia-16\n",
      "PDF KALABIA.pdf\n",
      "Kalabia-17\n",
      "Dossier Kalabia groupe 17.pdf\n",
      "Kalabia-06\n",
      "KALABIA GROUPE 6.pdf\n",
      "Kalabia-23\n",
      "KALABIA DOSSIER.pdf\n",
      "Kalabia-19\n",
      "Kalaba Groupe 19 (Rachel Amouzou, Liam Martel, Hermès Méchain).pdf\n",
      "Kalabia-21\n",
      "Kalabia_groupe21.pdf\n",
      "Kalabia-09\n",
      "Dossier Kalabia Juliette.pdf\n",
      "Kalabia-08\n",
      "dossier-kalabia-groupe-08.pdf\n",
      "Kalabia-37\n",
      "Groupe 37 kalabia .pdf\n",
      "Kalabia-01\n",
      "dossierkalabia_gr1.pdf\n",
      "Kalabia-34\n",
      "DEVOIR MAISON KALABIA.pdf\n",
      "Kalabia-30\n",
      "kalabia Groupe 30 .pdf\n",
      "Kalabia-38\n",
      "Devoir maison-analyse linguistique.pdf\n",
      "Kalabia-38\n",
      "Devoir maison- analyse linguistique - tableur.pdf\n",
      "Kalabia-14\n",
      "DOSSIER KALABIA GROUPE 14.pdf\n",
      "Kalabia-05\n",
      "Dossier kalabia groupe 5.pdf\n",
      "Kalabia-36\n",
      "Dossier KALABIA .pdf\n",
      "Kalabia-12\n",
      "Dossier_Groupe12.pdf\n",
      "Kalabia-04\n",
      "Kalabia MARCENAT Marine- DE ALMEIDA Neuza- POURIEUX Laura .pdf\n",
      "Kalabia-24\n",
      "Kalabia Groupe 24.pdf\n",
      "Kalabia-25\n",
      "Groupe n°25.pdf\n",
      "Kalabia-26\n",
      "Grammaire Kalabia groupe 26.pdf\n",
      "Kalabia-11\n",
      "KALABIA camille Raynaud, maelys Ferrol , agathe Raynal , julie Pouget.pdf\n",
      "Kalabia-13\n",
      "Dossier Kalabia Groupe 13.pdf\n",
      "Kalabia-20\n",
      "Dossier KALABIA G20 groupe.pdf\n",
      "Kalabia-03\n",
      "Document final à rendre Kalabia.pdf\n",
      "Kalabia-22\n",
      "Analyse linguistique - DM.pdf\n",
      "Kalabia-15\n",
      "Kalabia_ copie.pdf\n",
      "Kalabia-18\n",
      "Adele Sombrun, Louisiane Evangeline Perolle L1 DM Kalabia (3).pdf\n"
     ]
    }
   ],
   "source": [
    "with zipfile.ZipFile(rZip+fZip,\"r\") as archive:\n",
    "    for info in archive.infolist():\n",
    "        zFile=info.filename\n",
    "        nDossier=zFile.split(\"_\")[0]\n",
    "        print(nDossier)\n",
    "        nFichier=zFile.split(\"/\")[-1]\n",
    "        print(nFichier)\n",
    "        dFile=archive.read(zFile)\n",
    "        if bNomFichier:\n",
    "            nOutFile=rZip+nDossier+\"/\"+nFichier\n",
    "            try:\n",
    "                os.makedirs(rZip+nDossier)\n",
    "            except FileExistsError:\n",
    "                # directory already exists\n",
    "                pass\n",
    "        else:\n",
    "            nOutFile=rZip+nDossier+\".\"+nFichier.split(\".\")[-1]\n",
    "        with open(nOutFile,\"wb\") as outFile:\n",
    "            outFile.write(dFile)\n",
    "            "
   ]
  },
  {
   "cell_type": "markdown",
   "id": "b16b1dd6-66c5-498b-811f-9823313b33f3",
   "metadata": {},
   "source": [
    "# Aplatir les dossiers"
   ]
  },
  {
   "cell_type": "code",
   "execution_count": 16,
   "id": "a1301fae-9dc1-4bb9-881e-bc0d57e967f3",
   "metadata": {},
   "outputs": [],
   "source": [
    "import glob"
   ]
  },
  {
   "cell_type": "code",
   "execution_count": 29,
   "id": "d532c136-bdd1-4315-9304-7f660c2248dd",
   "metadata": {},
   "outputs": [],
   "source": [
    "rDossiers=\"/Users/gilles/Library/Mobile Documents/com~apple~CloudDocs/Downloads/23-Dossiers3/\""
   ]
  },
  {
   "cell_type": "code",
   "execution_count": 30,
   "id": "72a8cb30-0dad-4475-894c-5471c2b63c5b",
   "metadata": {},
   "outputs": [
    {
     "name": "stdout",
     "output_type": "stream",
     "text": [
      "/Users/gilles/Library/Mobile Documents/com~apple~CloudDocs/Downloads/23-Dossiers3/Dossier-3 R-EM, LC, MC, CB.pdf\n",
      "/Users/gilles/Library/Mobile Documents/com~apple~CloudDocs/Downloads/23-Dossiers3/Dossier-3 G-D3 Morphologie_Laujac_Labbe_DosSantos_Anton.pdf\n",
      "/Users/gilles/Library/Mobile Documents/com~apple~CloudDocs/Downloads/23-Dossiers3/Dossier-3 I-Jean Demaggio  Viviane Etienne Dossier 3.pdf\n",
      "/Users/gilles/Library/Mobile Documents/com~apple~CloudDocs/Downloads/23-Dossiers3/Dossier-3 H-DOSSIER3 - RIQUIER ROUX CHAVIER.pdf\n",
      "/Users/gilles/Library/Mobile Documents/com~apple~CloudDocs/Downloads/23-Dossiers3/Dossier-3 F-Richardson Lamouroux Hardouin Ponthier.pdf\n",
      "/Users/gilles/Library/Mobile Documents/com~apple~CloudDocs/Downloads/23-Dossiers3/Dossier-3 A-dossier3_gary_soatto_zappino.pdf\n",
      "/Users/gilles/Library/Mobile Documents/com~apple~CloudDocs/Downloads/23-Dossiers3/Dossier-3 D-Morpho 3.pdf\n",
      "/Users/gilles/Library/Mobile Documents/com~apple~CloudDocs/Downloads/23-Dossiers3/Dossier-3 C-BARTOLOMUCCI-ALBRESPY-BONNEFON.pdf\n",
      "/Users/gilles/Library/Mobile Documents/com~apple~CloudDocs/Downloads/23-Dossiers3/Dossier-3 C-Tableau des résultats.pdf\n",
      "/Users/gilles/Library/Mobile Documents/com~apple~CloudDocs/Downloads/23-Dossiers3/Dossier-3 J-Emma Delhove-Myriam Latrache-Jade Hazera-Louis Chamard.pdf\n",
      "/Users/gilles/Library/Mobile Documents/com~apple~CloudDocs/Downloads/23-Dossiers3/Dossier-3 Q-Morphologie 3.pdf\n",
      "/Users/gilles/Library/Mobile Documents/com~apple~CloudDocs/Downloads/23-Dossiers3/Dossier-3 B-Dossier 3 mopho BEGAY BENNADJEMA HAMON.pdf\n",
      "/Users/gilles/Library/Mobile Documents/com~apple~CloudDocs/Downloads/23-Dossiers3/Dossier-3 E-Dossier_Morphologie3-DUPOUYManon-MARTINSLéna-LAPEYREInès-LAPEYREJeanne.pdf\n"
     ]
    }
   ],
   "source": [
    "for fichier in glob.glob(rDossiers+\"*/*.*\"):\n",
    "    cFichier=fichier.split(\"/\")\n",
    "    nFichier=rDossiers+cFichier[-2]+\"-\"+cFichier[-1]\n",
    "    print(nFichier)\n",
    "    os.rename(fichier,nFichier)"
   ]
  }
 ],
 "metadata": {
  "kernelspec": {
   "display_name": "Python 3 (ipykernel)",
   "language": "python",
   "name": "python3"
  },
  "language_info": {
   "codemirror_mode": {
    "name": "ipython",
    "version": 3
   },
   "file_extension": ".py",
   "mimetype": "text/x-python",
   "name": "python",
   "nbconvert_exporter": "python",
   "pygments_lexer": "ipython3",
   "version": "3.9.18"
  }
 },
 "nbformat": 4,
 "nbformat_minor": 5
}
