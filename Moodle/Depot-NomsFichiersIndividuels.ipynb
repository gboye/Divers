{
 "cells": [
  {
   "cell_type": "markdown",
   "metadata": {},
   "source": [
    "# Extraire les fichiers d'un ZIP de dépot"
   ]
  },
  {
   "cell_type": "code",
   "execution_count": 19,
   "metadata": {},
   "outputs": [],
   "source": [
    "import glob,re,filecmp,os,shutil\n",
    "import itertools as it"
   ]
  },
  {
   "cell_type": "code",
   "execution_count": 23,
   "metadata": {
    "scrolled": true
   },
   "outputs": [],
   "source": [
    "repDepot=u\"/Users/gilles/Downloads/3LNSE32-Tâche 2 - Transcription de France - Nouvelle-Zélande-118464/\"\n",
    "repCible=u\"/Users/gilles/Downloads/Cosedi-FranceNouvelleZelande/\"\n",
    "fichiers=glob.glob(repDepot+u\"*submission*/*\")"
   ]
  },
  {
   "cell_type": "code",
   "execution_count": 24,
   "metadata": {},
   "outputs": [],
   "source": [
    "patronIndividuel=ur\"^([^_]+)_.*/.*$\"\n",
    "fichierEtudiants={}\n",
    "for nFichier,fichier in enumerate(fichiers):\n",
    "    nom=\"/\".join(fichier.split(u\"/\")[-2:])\n",
    "    m=re.match(patronIndividuel,nom)\n",
    "    if m:\n",
    "        nEtudiant=m.group(1).replace(\" \",\"-\")\n",
    "        fichierEtudiants[fichier]=(nEtudiant,nom.split(\"/\")[-1])\n",
    "        shutil.copy(fichier,repCible+nEtudiant+\".eaf\")        "
   ]
  },
  {
   "cell_type": "code",
   "execution_count": 25,
   "metadata": {},
   "outputs": [
    {
     "data": {
      "text/plain": [
       "{u'/Users/gilles/Downloads/3LNSE32-T\\xe2che 2 - Transcription de France - Nouvelle-Z\\xe9lande-118464/ALEX HELVERT_229975_assignsubmission_file/France-Nouvelle-Ze\\u0301lande-HELVERT.eaf': (u'ALEX-HELVERT',\n",
       "  u'France-Nouvelle-Ze\\u0301lande-HELVERT.eaf'),\n",
       " u'/Users/gilles/Downloads/3LNSE32-T\\xe2che 2 - Transcription de France - Nouvelle-Z\\xe9lande-118464/ALICE LOOF_229037_assignsubmission_file/France-Nouvelle-Ze\\u0301lande Alice LOOF .eaf': (u'ALICE-LOOF',\n",
       "  u'France-Nouvelle-Ze\\u0301lande Alice LOOF .eaf'),\n",
       " u'/Users/gilles/Downloads/3LNSE32-T\\xe2che 2 - Transcription de France - Nouvelle-Z\\xe9lande-118464/ANNA DARRIBA_228936_assignsubmission_file/France-Nouvelle-Ze\\u0301lande Anna DARRIBA.eaf': (u'ANNA-DARRIBA',\n",
       "  u'France-Nouvelle-Ze\\u0301lande Anna DARRIBA.eaf'),\n",
       " u'/Users/gilles/Downloads/3LNSE32-T\\xe2che 2 - Transcription de France - Nouvelle-Z\\xe9lande-118464/AXEL MEUNIER_223721_assignsubmission_file/France-Nouvelle-Ze\\u0301lande 16-20-880 AM.eaf': (u'AXEL-MEUNIER',\n",
       "  u'France-Nouvelle-Ze\\u0301lande 16-20-880 AM.eaf'),\n",
       " u'/Users/gilles/Downloads/3LNSE32-T\\xe2che 2 - Transcription de France - Nouvelle-Z\\xe9lande-118464/BERNHARD DICHTL_231117_assignsubmission_file/Activite2_dichtl.eaf': (u'BERNHARD-DICHTL',\n",
       "  u'Activite2_dichtl.eaf'),\n",
       " u'/Users/gilles/Downloads/3LNSE32-T\\xe2che 2 - Transcription de France - Nouvelle-Z\\xe9lande-118464/CAMILLE VILLECHALANNE_230103_assignsubmission_file/France-Nouvelle-Ze\\u0301lande (Transcription Orthographique).eaf': (u'CAMILLE-VILLECHALANNE',\n",
       "  u'France-Nouvelle-Ze\\u0301lande (Transcription Orthographique).eaf'),\n",
       " u'/Users/gilles/Downloads/3LNSE32-T\\xe2che 2 - Transcription de France - Nouvelle-Z\\xe9lande-118464/CAPUCINE MERESSE-ETIENNE_231044_assignsubmission_file/Ta\\u0302che 2 MERESSE Capucine 12sec-14sec.eaf': (u'CAPUCINE-MERESSE-ETIENNE',\n",
       "  u'Ta\\u0302che 2 MERESSE Capucine 12sec-14sec.eaf'),\n",
       " u'/Users/gilles/Downloads/3LNSE32-T\\xe2che 2 - Transcription de France - Nouvelle-Z\\xe9lande-118464/CHARLINE LEMOINE_223723_assignsubmission_file/France-Nouvelle-Ze\\u0301lande devoir 2 lemoine charline.eaf': (u'CHARLINE-LEMOINE',\n",
       "  u'France-Nouvelle-Ze\\u0301lande devoir 2 lemoine charline.eaf'),\n",
       " u'/Users/gilles/Downloads/3LNSE32-T\\xe2che 2 - Transcription de France - Nouvelle-Z\\xe9lande-118464/CLARA LEGER_229035_assignsubmission_file/Ta\\u0302che 2 - Transcription de France - Nouvelle-Ze\\u0301lande.eaf': (u'CLARA-LEGER',\n",
       "  u'Ta\\u0302che 2 - Transcription de France - Nouvelle-Ze\\u0301lande.eaf'),\n",
       " u'/Users/gilles/Downloads/3LNSE32-T\\xe2che 2 - Transcription de France - Nouvelle-Z\\xe9lande-118464/COLEEN MOREAU_222835_assignsubmission_file/Tache 2 Nouvelle Ze\\u0301lande-France.eaf': (u'COLEEN-MOREAU',\n",
       "  u'Tache 2 Nouvelle Ze\\u0301lande-France.eaf'),\n",
       " u'/Users/gilles/Downloads/3LNSE32-T\\xe2che 2 - Transcription de France - Nouvelle-Z\\xe9lande-118464/ELENA BENTO_230105_assignsubmission_file/Correction France- Black.eaf': (u'ELENA-BENTO',\n",
       "  u'Correction France- Black.eaf'),\n",
       " u'/Users/gilles/Downloads/3LNSE32-T\\xe2che 2 - Transcription de France - Nouvelle-Z\\xe9lande-118464/ELIANE MEGARUS_228854_assignsubmission_file/France-Nouvelle-Ze\\u0301lande (1).eaf': (u'ELIANE-MEGARUS',\n",
       "  u'France-Nouvelle-Ze\\u0301lande (1).eaf'),\n",
       " u'/Users/gilles/Downloads/3LNSE32-T\\xe2che 2 - Transcription de France - Nouvelle-Z\\xe9lande-118464/ELISE CHAIGNE_228938_assignsubmission_file/2015-10-17_NouvelleZelande-France Tache 2 bon.eaf': (u'ELISE-CHAIGNE',\n",
       "  u'2015-10-17_NouvelleZelande-France Tache 2 bon.eaf'),\n",
       " u'/Users/gilles/Downloads/3LNSE32-T\\xe2che 2 - Transcription de France - Nouvelle-Z\\xe9lande-118464/ELYSA RAVET_229131_assignsubmission_file/France-Nouvelle-Ze\\u0301lande minute 00-53-06.080 a\\u0300 00-55-06.520.eaf': (u'ELYSA-RAVET',\n",
       "  u'France-Nouvelle-Ze\\u0301lande minute 00-53-06.080 a\\u0300 00-55-06.520.eaf'),\n",
       " u'/Users/gilles/Downloads/3LNSE32-T\\xe2che 2 - Transcription de France - Nouvelle-Z\\xe9lande-118464/ESTELLE VEAU_222834_assignsubmission_file/France-Nouvelle-Ze\\u0301lande Tache 2.eaf': (u'ESTELLE-VEAU',\n",
       "  u'France-Nouvelle-Ze\\u0301lande Tache 2.eaf'),\n",
       " u'/Users/gilles/Downloads/3LNSE32-T\\xe2che 2 - Transcription de France - Nouvelle-Z\\xe9lande-118464/ESTELLE VEAU_222834_assignsubmission_file/France-Nouvelle-Ze\\u0301lande Tache 2.pfsx': (u'ESTELLE-VEAU',\n",
       "  u'France-Nouvelle-Ze\\u0301lande Tache 2.pfsx'),\n",
       " u'/Users/gilles/Downloads/3LNSE32-T\\xe2che 2 - Transcription de France - Nouvelle-Z\\xe9lande-118464/EVA DELAHODDE_231042_assignsubmission_file/France-Nouvelle-Ze\\u0301lande.eaf': (u'EVA-DELAHODDE',\n",
       "  u'France-Nouvelle-Ze\\u0301lande.eaf'),\n",
       " u'/Users/gilles/Downloads/3LNSE32-T\\xe2che 2 - Transcription de France - Nouvelle-Z\\xe9lande-118464/GAELLE LAMARQUE_231043_assignsubmission_file/France-Nouvelle-Ze\\u0301lande Gae\\u0308lle Lamarque.eaf': (u'GAELLE-LAMARQUE',\n",
       "  u'France-Nouvelle-Ze\\u0301lande Gae\\u0308lle Lamarque.eaf'),\n",
       " u'/Users/gilles/Downloads/3LNSE32-T\\xe2che 2 - Transcription de France - Nouvelle-Z\\xe9lande-118464/JEANNE MASSIAS_232548_assignsubmission_file/tache 2.eaf': (u'JEANNE-MASSIAS',\n",
       "  u'tache 2.eaf'),\n",
       " u'/Users/gilles/Downloads/3LNSE32-T\\xe2che 2 - Transcription de France - Nouvelle-Z\\xe9lande-118464/JEANNE ROBIN_230870_assignsubmission_file/France-Nouvelle-Ze\\u0301lande (1).eaf': (u'JEANNE-ROBIN',\n",
       "  u'France-Nouvelle-Ze\\u0301lande (1).eaf'),\n",
       " u'/Users/gilles/Downloads/3LNSE32-T\\xe2che 2 - Transcription de France - Nouvelle-Z\\xe9lande-118464/JULIE BOATTO_229354_assignsubmission_file/ELAN France-Nouvelle Ze\\u0301lande ta\\u0302che 2.eaf': (u'JULIE-BOATTO',\n",
       "  u'ELAN France-Nouvelle Ze\\u0301lande ta\\u0302che 2.eaf'),\n",
       " u'/Users/gilles/Downloads/3LNSE32-T\\xe2che 2 - Transcription de France - Nouvelle-Z\\xe9lande-118464/LAETITIA CAPELO_230104_assignsubmission_file/France-Nouvelle-Ze\\u0301lande_CAPELO.eaf': (u'LAETITIA-CAPELO',\n",
       "  u'France-Nouvelle-Ze\\u0301lande_CAPELO.eaf'),\n",
       " u'/Users/gilles/Downloads/3LNSE32-T\\xe2che 2 - Transcription de France - Nouvelle-Z\\xe9lande-118464/LAURINE BIGLIONE_233020_assignsubmission_file/Laurine Biglione Tache 2.eaf': (u'LAURINE-BIGLIONE',\n",
       "  u'Laurine Biglione Tache 2.eaf'),\n",
       " u'/Users/gilles/Downloads/3LNSE32-T\\xe2che 2 - Transcription de France - Nouvelle-Z\\xe9lande-118464/LEA BOUSSARD_223722_assignsubmission_file/Le\\u0301a Boussard Transcription France-Nouvelle-Ze\\u0301lande .eaf': (u'LEA-BOUSSARD',\n",
       "  u'Le\\u0301a Boussard Transcription France-Nouvelle-Ze\\u0301lande .eaf'),\n",
       " u'/Users/gilles/Downloads/3LNSE32-T\\xe2che 2 - Transcription de France - Nouvelle-Z\\xe9lande-118464/LEELOU DE GIRARDI_228602_assignsubmission_file/France-Nouvelle-Ze\\u0301lande leelou.eaf': (u'LEELOU-DE-GIRARDI',\n",
       "  u'France-Nouvelle-Ze\\u0301lande leelou.eaf'),\n",
       " u'/Users/gilles/Downloads/3LNSE32-T\\xe2che 2 - Transcription de France - Nouvelle-Z\\xe9lande-118464/LEELOU DE GIRARDI_228602_assignsubmission_file/Temps pour les deux taches De Girardi .png': (u'LEELOU-DE-GIRARDI',\n",
       "  u'Temps pour les deux taches De Girardi .png'),\n",
       " u'/Users/gilles/Downloads/3LNSE32-T\\xe2che 2 - Transcription de France - Nouvelle-Z\\xe9lande-118464/LEO MESQUITA_228959_assignsubmission_file/France-Nouvelle-Ze\\u0301lande modifie\\u0301.eaf': (u'LEO-MESQUITA',\n",
       "  u'France-Nouvelle-Ze\\u0301lande modifie\\u0301.eaf'),\n",
       " u'/Users/gilles/Downloads/3LNSE32-T\\xe2che 2 - Transcription de France - Nouvelle-Z\\xe9lande-118464/MAEWENN GAUDIN_224134_assignsubmission_file/Transcription France Nouvelle-Ze\\u0301lande Maewenn Gaudin.eaf': (u'MAEWENN-GAUDIN',\n",
       "  u'Transcription France Nouvelle-Ze\\u0301lande Maewenn Gaudin.eaf'),\n",
       " u'/Users/gilles/Downloads/3LNSE32-T\\xe2che 2 - Transcription de France - Nouvelle-Z\\xe9lande-118464/MANON BARANGER_232549_assignsubmission_file/Tache 2 France-NZ Baranger Manon.eaf': (u'MANON-BARANGER',\n",
       "  u'Tache 2 France-NZ Baranger Manon.eaf'),\n",
       " u'/Users/gilles/Downloads/3LNSE32-T\\xe2che 2 - Transcription de France - Nouvelle-Z\\xe9lande-118464/MARIAH GOTTER_229130_assignsubmission_file/France-Nouvelle-Ze\\u0301lande modif.eaf': (u'MARIAH-GOTTER',\n",
       "  u'France-Nouvelle-Ze\\u0301lande modif.eaf'),\n",
       " u'/Users/gilles/Downloads/3LNSE32-T\\xe2che 2 - Transcription de France - Nouvelle-Z\\xe9lande-118464/MAUREEN VIARD_228603_assignsubmission_file/France-Nouvelle-Ze\\u0301lande.eaf': (u'MAUREEN-VIARD',\n",
       "  u'France-Nouvelle-Ze\\u0301lande.eaf'),\n",
       " u'/Users/gilles/Downloads/3LNSE32-T\\xe2che 2 - Transcription de France - Nouvelle-Z\\xe9lande-118464/MINSI CHEN_231118_assignsubmission_file/France-Nouvelle-ZA\\u0303\\xa9lande.eaf': (u'MINSI-CHEN',\n",
       "  u'France-Nouvelle-ZA\\u0303\\xa9lande.eaf'),\n",
       " u'/Users/gilles/Downloads/3LNSE32-T\\xe2che 2 - Transcription de France - Nouvelle-Z\\xe9lande-118464/NORIKO ROBINSON_229036_assignsubmission_file/France-Nouvelle-Ze\\u0301lande.eaf': (u'NORIKO-ROBINSON',\n",
       "  u'France-Nouvelle-Ze\\u0301lande.eaf'),\n",
       " u'/Users/gilles/Downloads/3LNSE32-T\\xe2che 2 - Transcription de France - Nouvelle-Z\\xe9lande-118464/PRISCILLA ELIAZORD_232417_assignsubmission_file/France-Nouvelle-Ze\\u0301lande.ELIAZORD.eaf': (u'PRISCILLA-ELIAZORD',\n",
       "  u'France-Nouvelle-Ze\\u0301lande.ELIAZORD.eaf'),\n",
       " u'/Users/gilles/Downloads/3LNSE32-T\\xe2che 2 - Transcription de France - Nouvelle-Z\\xe9lande-118464/ROMAIN DUBOIS_219515_assignsubmission_file/France-Nouvelle-Ze\\u0301lande 1h38 - 1h40.eaf': (u'ROMAIN-DUBOIS',\n",
       "  u'France-Nouvelle-Ze\\u0301lande 1h38 - 1h40.eaf'),\n",
       " u'/Users/gilles/Downloads/3LNSE32-T\\xe2che 2 - Transcription de France - Nouvelle-Z\\xe9lande-118464/SASCHA BERTRAND_230157_assignsubmission_file/France-Nouvelle-Ze\\u0301lande 36 42_38 42 Sascha Bertrand.eaf': (u'SASCHA-BERTRAND',\n",
       "  u'France-Nouvelle-Ze\\u0301lande 36 42_38 42 Sascha Bertrand.eaf'),\n",
       " u'/Users/gilles/Downloads/3LNSE32-T\\xe2che 2 - Transcription de France - Nouvelle-Z\\xe9lande-118464/THOMAS CASTAIGNA_232021_assignsubmission_file/France-Nouvelle-Ze\\u0301lande.eaf': (u'THOMAS-CASTAIGNA',\n",
       "  u'France-Nouvelle-Ze\\u0301lande.eaf'),\n",
       " u'/Users/gilles/Downloads/3LNSE32-T\\xe2che 2 - Transcription de France - Nouvelle-Z\\xe9lande-118464/YELYZAVETA SHADRINA_220593_assignsubmission_file/France-Nouvelle-Ze\\u0301lande 11.eaf': (u'YELYZAVETA-SHADRINA',\n",
       "  u'France-Nouvelle-Ze\\u0301lande 11.eaf'),\n",
       " u'/Users/gilles/Downloads/3LNSE32-T\\xe2che 2 - Transcription de France - Nouvelle-Z\\xe9lande-118464/YELYZAVETA SHADRINA_220593_assignsubmission_file/France-Nouvelle-Ze\\u0301lande 11.pfsx': (u'YELYZAVETA-SHADRINA',\n",
       "  u'France-Nouvelle-Ze\\u0301lande 11.pfsx')}"
      ]
     },
     "execution_count": 25,
     "metadata": {},
     "output_type": "execute_result"
    }
   ],
   "source": [
    "fichierEtudiants"
   ]
  },
  {
   "cell_type": "code",
   "execution_count": null,
   "metadata": {},
   "outputs": [],
   "source": []
  }
 ],
 "metadata": {
  "kernelspec": {
   "display_name": "Python 2.7",
   "language": "python",
   "name": "py2"
  },
  "language_info": {
   "codemirror_mode": {
    "name": "ipython",
    "version": 2
   },
   "file_extension": ".py",
   "mimetype": "text/x-python",
   "name": "python",
   "nbconvert_exporter": "python",
   "pygments_lexer": "ipython2",
   "version": "2.7.16"
  }
 },
 "nbformat": 4,
 "nbformat_minor": 4
}
