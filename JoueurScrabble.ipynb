{
 "metadata": {
  "name": "",
  "signature": "sha256:a2c12de4254259ce94228be6f6b5546c55db6c8ff184b919901b3af5ae3a9a4f"
 },
 "nbformat": 3,
 "nbformat_minor": 0,
 "worksheets": [
  {
   "cells": [
    {
     "cell_type": "code",
     "collapsed": false,
     "input": [
      "from unidecode import unidecode\n",
      "import re\n",
      "import random as rd\n",
      "import itertools as it"
     ],
     "language": "python",
     "metadata": {},
     "outputs": [],
     "prompt_number": 1
    },
    {
     "cell_type": "code",
     "collapsed": false,
     "input": [
      "nomLexique=\"../../Copy/Python/phonemisation/bdlexique.txt\"\n",
      "fichierLexique=open(nomLexique)"
     ],
     "language": "python",
     "metadata": {},
     "outputs": [],
     "prompt_number": 3
    },
    {
     "cell_type": "code",
     "collapsed": false,
     "input": [
      "def sortLettres(mot):\n",
      "    result=[]\n",
      "    stdMot=unidecode(mot)\n",
      "    for lettre in stdMot:\n",
      "        result.append(lettre)\n",
      "    result.sort()\n",
      "    return \"\".join(result)"
     ],
     "language": "python",
     "metadata": {},
     "outputs": [],
     "prompt_number": 4
    },
    {
     "cell_type": "code",
     "collapsed": false,
     "input": [
      "sortLettres(\"accentu\u00e9es\")"
     ],
     "language": "python",
     "metadata": {},
     "outputs": [
      {
       "metadata": {},
       "output_type": "pyout",
       "prompt_number": 5,
       "text": [
        "'acceeenstu'"
       ]
      }
     ],
     "prompt_number": 5
    },
    {
     "cell_type": "code",
     "collapsed": false,
     "input": [
      "def bonMot(mot):\n",
      "    if re.search(\"[-']\",mot):\n",
      "         return False     \n",
      "    else:\n",
      "        return True"
     ],
     "language": "python",
     "metadata": {},
     "outputs": [],
     "prompt_number": 6
    },
    {
     "cell_type": "code",
     "collapsed": false,
     "input": [
      "bonMot(\"presse-papier\")"
     ],
     "language": "python",
     "metadata": {},
     "outputs": [
      {
       "metadata": {},
       "output_type": "pyout",
       "prompt_number": 7,
       "text": [
        "False"
       ]
      }
     ],
     "prompt_number": 7
    },
    {
     "cell_type": "code",
     "collapsed": false,
     "input": [
      "mots={}\n",
      "for element in fichierLexique:\n",
      "    mot=element.split(\";\")[0]\n",
      "    if bonMot(mot):\n",
      "        longueurMot=len(mot)\n",
      "        if not longueurMot in mots:\n",
      "            mots[longueurMot]={}\n",
      "        lettresMot=sortLettres(mot)\n",
      "        if not lettresMot in mots[longueurMot]:\n",
      "            mots[longueurMot][lettresMot]=set()\n",
      "        mots[longueurMot][lettresMot].add(mot)\n",
      "    "
     ],
     "language": "python",
     "metadata": {},
     "outputs": [],
     "prompt_number": 8
    },
    {
     "cell_type": "code",
     "collapsed": false,
     "input": [
      "score = {\"a\": 1, \"b\": 3, \"c\": 3, \"d\": 2, \"e\": 1, \n",
      "         \"f\": 4, \"g\": 2, \"h\": 4, \"i\": 1, \"j\": 8, \n",
      "         \"k\": 10, \"l\": 1, \"m\": 2, \"n\": 1, \"o\": 1, \n",
      "         \"p\": 3, \"q\": 8, \"r\": 1, \"s\": 1, \"t\": 1, \n",
      "         \"u\": 1, \"v\": 4, \"w\": 10, \"x\": 10, \"y\": 10, \n",
      "         \"z\": 10, \"*\":0}"
     ],
     "language": "python",
     "metadata": {},
     "outputs": [],
     "prompt_number": 9
    },
    {
     "cell_type": "code",
     "collapsed": false,
     "input": [
      "def scoreLettres(lettres):\n",
      "    result=0\n",
      "    for lettre in lettres:\n",
      "        if lettre in score:\n",
      "            result+=score[lettre]\n",
      "    return result"
     ],
     "language": "python",
     "metadata": {},
     "outputs": [],
     "prompt_number": 10
    },
    {
     "cell_type": "code",
     "collapsed": false,
     "input": [
      "scoreLettres(\"boNjour\")"
     ],
     "language": "python",
     "metadata": {},
     "outputs": [
      {
       "metadata": {},
       "output_type": "pyout",
       "prompt_number": 11,
       "text": [
        "15"
       ]
      }
     ],
     "prompt_number": 11
    },
    {
     "cell_type": "code",
     "collapsed": false,
     "input": [
      "def motsLettres(lettres,max=len(lettres)):\n",
      "    result=[]\n",
      "    longueur=max\n",
      "    lettres=sortLettres(lettres)\n",
      "    for retrait in range(longueur-1):\n",
      "        l=longueur-retrait\n",
      "        for comb in set(it.combinations(lettres,l)):\n",
      "            cle=\"\".join(comb)\n",
      "            if cle in mots[l]:\n",
      "                result.append((scoreLettres(cle),mots[l][cle],len(cle)))\n",
      "    result.sort(key=lambda x: x[0], reverse=True) \n",
      "    return result"
     ],
     "language": "python",
     "metadata": {},
     "outputs": [],
     "prompt_number": 15
    },
    {
     "cell_type": "code",
     "collapsed": false,
     "input": [
      "motsLettres(\"fxgheia\")"
     ],
     "language": "python",
     "metadata": {},
     "outputs": [
      {
       "metadata": {},
       "output_type": "pyout",
       "prompt_number": 16,
       "text": [
        "[(16, {'fixe', 'fix\u00e9'}, 4),\n",
        " (16, {'faix', 'fixa'}, 4),\n",
        " (12, {'axe', 'ax\u00e9'}, 3),\n",
        " (11, {'xi'}, 2),\n",
        " (9, {'figea'}, 5),\n",
        " (8, {'fige', 'fig\u00e9'}, 4),\n",
        " (7, {'haie', 'ha\u00efe'}, 4),\n",
        " (6, {'fia'}, 3),\n",
        " (6, {'fie', 'fi\u00e9'}, 3),\n",
        " (6, {'ha\u00ef'}, 3),\n",
        " (5, {'gaie', 'geai'}, 4),\n",
        " (5, {'eh', 'h\u00e9'}, 2),\n",
        " (5, {'ah', 'ha'}, 2),\n",
        " (5, {'hi'}, 2),\n",
        " (5, {'fa'}, 2),\n",
        " (5, {'fi', 'if'}, 2),\n",
        " (4, {'age', '\u00e2ge', '\u00e2g\u00e9'}, 3),\n",
        " (4, {'agi', 'gai'}, 3),\n",
        " (3, {'aie', 'a\u00efe'}, 3),\n",
        " (2, {'ai', 'a\u00ef'}, 2)]"
       ]
      }
     ],
     "prompt_number": 16
    },
    {
     "cell_type": "code",
     "collapsed": false,
     "input": [
      "class sacJetons():\n",
      "    def __init__(self,jetons={}):\n",
      "        self.jetons=jetons\n",
      "    def tirage(self,n):\n",
      "        jetonsTirage=[]\n",
      "        for element in self.jetons:\n",
      "            for num in range(self.jetons[element]):\n",
      "                jetonsTirage.append(element)\n",
      "        tirageJetons=rd.sample(jetonsTirage,n)\n",
      "        for jeton in tirageJetons:\n",
      "            self.jetons[jeton]+=-1\n",
      "        return \"\".join(tirageJetons)\n",
      "    def echange(self,lettres):\n",
      "        nouvelles=self.tirage(len(lettres))\n",
      "        for lettre in lettres:\n",
      "            self.jetons[lettre]+=1\n",
      "        return nouvelles\n",
      "    def reconstituer(self,lettres):\n",
      "        self.jetons={}\n",
      "        for lettre in lettres:\n",
      "            if not lettre in self.jetons:\n",
      "                self.jetons[lettre]=1\n",
      "            else:\n",
      "                self.jetons[lettre]+=1\n",
      "    def retrait(self,lettres):\n",
      "        for lettre in lettres:\n",
      "            self.jetons[lettre]+=-1"
     ],
     "language": "python",
     "metadata": {},
     "outputs": [],
     "prompt_number": 14
    },
    {
     "cell_type": "code",
     "collapsed": false,
     "input": [
      "jetons = {\"a\": 9, \"b\": 2, \"c\": 2, \"d\": 3, \"e\": 15, \n",
      "         \"f\": 2, \"g\": 2, \"h\": 2, \"i\": 8, \"j\": 1, \n",
      "         \"k\": 1, \"l\": 5, \"m\": 3, \"n\": 6, \"o\": 6, \n",
      "         \"p\": 2, \"q\": 1, \"r\": 6, \"s\": 6, \"t\": 6, \n",
      "         \"u\": 6, \"v\": 2, \"w\": 1, \"x\": 1, \"y\": 1, \n",
      "         \"z\": 1, \"*\": 2}"
     ],
     "language": "python",
     "metadata": {},
     "outputs": [],
     "prompt_number": 16
    },
    {
     "cell_type": "code",
     "collapsed": false,
     "input": [
      "sac=sacJetons(jetons)"
     ],
     "language": "python",
     "metadata": {},
     "outputs": [],
     "prompt_number": 17
    },
    {
     "cell_type": "code",
     "collapsed": false,
     "input": [
      "nomsJoueurs=[\"Benjamin\",\"Alexandre\",\"Tanguy\",\"Fabien\"]\n",
      "rackLettres=7\n",
      "racks={}\n",
      "for lettre in range(rackLettres):\n",
      "    for joueur in nomsJoueurs:\n",
      "        if not joueur in racks:\n",
      "            racks[joueur]=\"\"\n",
      "        racks[joueur]+=sac.tirage(1)\n",
      "print (racks)"
     ],
     "language": "python",
     "metadata": {},
     "outputs": [
      {
       "output_type": "stream",
       "stream": "stdout",
       "text": [
        "{'Fabien': 'kuep*ii', 'Benjamin': 'exoceen', 'Alexandre': 'ieebnro', 'Tanguy': 'lsdtjtn'}\n"
       ]
      }
     ],
     "prompt_number": 18
    },
    {
     "cell_type": "code",
     "collapsed": false,
     "input": [
      "motsLettres(racks[\"Tanguy\"])"
     ],
     "language": "python",
     "metadata": {},
     "outputs": [
      {
       "metadata": {},
       "output_type": "pyout",
       "prompt_number": 19,
       "text": [
        "[(4, {'lsd'}, 3)]"
       ]
      }
     ],
     "prompt_number": 19
    },
    {
     "cell_type": "code",
     "collapsed": false,
     "input": [
      "sac.echange(\"kw\")"
     ],
     "language": "python",
     "metadata": {},
     "outputs": [
      {
       "metadata": {},
       "output_type": "pyout",
       "prompt_number": 20,
       "text": [
        "'rd'"
       ]
      }
     ],
     "prompt_number": 20
    },
    {
     "cell_type": "code",
     "collapsed": false,
     "input": [
      "sac.jetons"
     ],
     "language": "python",
     "metadata": {},
     "outputs": [
      {
       "metadata": {},
       "output_type": "pyout",
       "prompt_number": 21,
       "text": [
        "{'w': 2,\n",
        " 'v': 2,\n",
        " 'u': 5,\n",
        " 't': 4,\n",
        " 's': 5,\n",
        " 'r': 4,\n",
        " 'q': 1,\n",
        " 'p': 1,\n",
        " 'z': 1,\n",
        " 'y': 1,\n",
        " 'x': 0,\n",
        " 'g': 2,\n",
        " 'f': 2,\n",
        " 'e': 9,\n",
        " 'd': 1,\n",
        " 'c': 1,\n",
        " 'b': 1,\n",
        " 'a': 9,\n",
        " 'o': 4,\n",
        " 'n': 3,\n",
        " 'm': 3,\n",
        " 'l': 4,\n",
        " 'k': 1,\n",
        " 'j': 0,\n",
        " 'i': 5,\n",
        " 'h': 2,\n",
        " '*': 1}"
       ]
      }
     ],
     "prompt_number": 21
    },
    {
     "cell_type": "code",
     "collapsed": false,
     "input": [
      "bubbles=[\"anoll\",\"sioca\",\"rta\",\"uorc\u00e9\",\"clate\"]\n",
      "lettres=\"\"\n",
      "for ligne in bubbles:\n",
      "    lettres+=ligne\n",
      "grille=sacJetons()\n",
      "grille.reconstituer(lettres)"
     ],
     "language": "python",
     "metadata": {},
     "outputs": [
      {
       "ename": "NameError",
       "evalue": "name 'sacJetons' is not defined",
       "output_type": "pyerr",
       "traceback": [
        "\u001b[0;31m---------------------------------------------------------------------------\u001b[0m\n\u001b[0;31mNameError\u001b[0m                                 Traceback (most recent call last)",
        "\u001b[0;32m<ipython-input-13-269e28960e0b>\u001b[0m in \u001b[0;36m<module>\u001b[0;34m()\u001b[0m\n\u001b[1;32m      3\u001b[0m \u001b[0;32mfor\u001b[0m \u001b[0mligne\u001b[0m \u001b[0;32min\u001b[0m \u001b[0mbubbles\u001b[0m\u001b[0;34m:\u001b[0m\u001b[0;34m\u001b[0m\u001b[0m\n\u001b[1;32m      4\u001b[0m     \u001b[0mlettres\u001b[0m\u001b[0;34m+=\u001b[0m\u001b[0mligne\u001b[0m\u001b[0;34m\u001b[0m\u001b[0m\n\u001b[0;32m----> 5\u001b[0;31m \u001b[0mgrille\u001b[0m\u001b[0;34m=\u001b[0m\u001b[0msacJetons\u001b[0m\u001b[0;34m(\u001b[0m\u001b[0;34m)\u001b[0m\u001b[0;34m\u001b[0m\u001b[0m\n\u001b[0m\u001b[1;32m      6\u001b[0m \u001b[0mgrille\u001b[0m\u001b[0;34m.\u001b[0m\u001b[0mreconstituer\u001b[0m\u001b[0;34m(\u001b[0m\u001b[0mlettres\u001b[0m\u001b[0;34m)\u001b[0m\u001b[0;34m\u001b[0m\u001b[0m\n",
        "\u001b[0;31mNameError\u001b[0m: name 'sacJetons' is not defined"
       ]
      }
     ],
     "prompt_number": 13
    },
    {
     "cell_type": "markdown",
     "metadata": {},
     "source": [
      "complet=[]\n",
      "for lettre in lettres:\n",
      "    complet.append(lettre)\n",
      "for neuf in it.combinations(lettres,9):\n",
      "    mot9=sortLettres(\"\".join(neuf))\n",
      "    if mot9 in mots[9]:\n",
      "        reste9=complet[:]\n",
      "        for element in neuf:\n",
      "            reste9.remove(element)\n",
      "        for huit in it.combinations(reste9,8):\n",
      "            mot8=sortLettres(\"\".join(huit))\n",
      "            if mot8 in mots[8]:\n",
      "                reste8=reste9[:]\n",
      "                for element in huit:                    \n",
      "                    reste8.delete(element)\n",
      "                mot6=sortLettres(\"\".join(reste8))\n"
     ]
    },
    {
     "cell_type": "code",
     "collapsed": false,
     "input": [
      "bubbles=[\"eaipl\",\"xegna\",\"orsse\",\"tueue\",\"iqr\"]\n",
      "lettres=\"\"\n",
      "for ligne in bubbles:\n",
      "    lettres+=ligne\n",
      "solutions=[(9,\"\"),(8,\"exotique\"),(6,\"\")]\n",
      "complet=[]\n",
      "results=set()\n",
      "for lettre in lettres:\n",
      "    complet.append(lettre)\n",
      "for solution in solutions:\n",
      "    if solution[1]!=\"\":\n",
      "        for lettre in solution[1]:\n",
      "            complet.remove(lettre)\n",
      "        solutions.remove(solution)\n",
      "\n",
      "\n",
      "def Ngram(lot,n):\n",
      "    result=[]\n",
      "    for ngram in set(it.combinations(lot,n)):\n",
      "        mot=sortLettres(\"\".join(ngram))\n",
      "        if mot in mots[n]:\n",
      "            reste=lot[:]\n",
      "            for element in ngram:\n",
      "                reste.remove(element)\n",
      "            result.append((mots[n][mot],\"\".join(reste)))\n",
      "    return result\n"
     ],
     "language": "python",
     "metadata": {},
     "outputs": [],
     "prompt_number": 23
    },
    {
     "cell_type": "code",
     "collapsed": false,
     "input": [
      "for neuf in set(it.combinations(lettres,9)):\n",
      "    mot9=sortLettres(\"\".join(neuf))\n",
      "    if mot9 in mots[9]:\n",
      "        reste9=complet[:]\n",
      "        for element in neuf:\n",
      "            reste9.remove(element)\n",
      "        for huit in set(it.combinations(reste9,8)):\n",
      "            mot8=sortLettres(\"\".join(huit))\n",
      "            if mot8 in mots[8]:\n",
      "                reste8=reste9[:]\n",
      "                for element in huit:                    \n",
      "                    reste8.remove(element)\n",
      "                mot6=sortLettres(\"\".join(reste8))\n",
      "                if mot6 in mots[6]:\n",
      "                    if not mot9 in results9:\n",
      "                        print (mots[9][mot9], mots[8][mot8],mots[6][mot6])\n",
      "                    results.add((mot9,mot8,mot6))"
     ],
     "language": "python",
     "metadata": {},
     "outputs": [
      {
       "ename": "ValueError",
       "evalue": "list.remove(x): x not in list",
       "output_type": "pyerr",
       "traceback": [
        "\u001b[0;31m---------------------------------------------------------------------------\u001b[0m\n\u001b[0;31mValueError\u001b[0m                                Traceback (most recent call last)",
        "\u001b[0;32m<ipython-input-25-93d79149a891>\u001b[0m in \u001b[0;36m<module>\u001b[0;34m()\u001b[0m\n\u001b[1;32m      4\u001b[0m         \u001b[0mreste9\u001b[0m\u001b[0;34m=\u001b[0m\u001b[0mcomplet\u001b[0m\u001b[0;34m[\u001b[0m\u001b[0;34m:\u001b[0m\u001b[0;34m]\u001b[0m\u001b[0;34m\u001b[0m\u001b[0m\n\u001b[1;32m      5\u001b[0m         \u001b[0;32mfor\u001b[0m \u001b[0melement\u001b[0m \u001b[0;32min\u001b[0m \u001b[0mneuf\u001b[0m\u001b[0;34m:\u001b[0m\u001b[0;34m\u001b[0m\u001b[0m\n\u001b[0;32m----> 6\u001b[0;31m             \u001b[0mreste9\u001b[0m\u001b[0;34m.\u001b[0m\u001b[0mremove\u001b[0m\u001b[0;34m(\u001b[0m\u001b[0melement\u001b[0m\u001b[0;34m)\u001b[0m\u001b[0;34m\u001b[0m\u001b[0m\n\u001b[0m\u001b[1;32m      7\u001b[0m         \u001b[0;32mfor\u001b[0m \u001b[0mhuit\u001b[0m \u001b[0;32min\u001b[0m \u001b[0mset\u001b[0m\u001b[0;34m(\u001b[0m\u001b[0mit\u001b[0m\u001b[0;34m.\u001b[0m\u001b[0mcombinations\u001b[0m\u001b[0;34m(\u001b[0m\u001b[0mreste9\u001b[0m\u001b[0;34m,\u001b[0m\u001b[0;36m8\u001b[0m\u001b[0;34m)\u001b[0m\u001b[0;34m)\u001b[0m\u001b[0;34m:\u001b[0m\u001b[0;34m\u001b[0m\u001b[0m\n\u001b[1;32m      8\u001b[0m             \u001b[0mmot8\u001b[0m\u001b[0;34m=\u001b[0m\u001b[0msortLettres\u001b[0m\u001b[0;34m(\u001b[0m\u001b[0;34m\"\"\u001b[0m\u001b[0;34m.\u001b[0m\u001b[0mjoin\u001b[0m\u001b[0;34m(\u001b[0m\u001b[0mhuit\u001b[0m\u001b[0;34m)\u001b[0m\u001b[0;34m)\u001b[0m\u001b[0;34m\u001b[0m\u001b[0m\n",
        "\u001b[0;31mValueError\u001b[0m: list.remove(x): x not in list"
       ]
      }
     ],
     "prompt_number": 25
    },
    {
     "cell_type": "code",
     "collapsed": false,
     "input": [],
     "language": "python",
     "metadata": {},
     "outputs": []
    }
   ],
   "metadata": {}
  }
 ]
}