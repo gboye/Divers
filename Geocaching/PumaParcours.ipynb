{
 "cells": [
  {
   "cell_type": "code",
   "execution_count": 56,
   "id": "cee2058e-2a7c-48f1-883a-9b927b943137",
   "metadata": {},
   "outputs": [],
   "source": [
    "import geopy.distance\n",
    "import re\n",
    "import math"
   ]
  },
  {
   "cell_type": "code",
   "execution_count": 49,
   "id": "f9df9603-2ce4-4277-bb50-a8f5e9341e0c",
   "metadata": {},
   "outputs": [],
   "source": [
    "points=\"\"\"LFBP - PAU : N 43°22.800 W 000°25.117\n",
    "LFBZ - BIARRITZ : N 43°28.100 W 001°32.867\n",
    "LFBD - BORDEAUX : N 44°49.717 W 000°42.917\n",
    "LFBI - POITIERS : N 46°35.250 E 000°18.400\n",
    "LFRS - NANTES : N 47°09.417 W 001°36.467\n",
    "LFRL - LANVEOC : N 48°16.950 W 004°26.617\n",
    "LFRG - DEAUVILLE : N 49°21.800 E 000°09.600\n",
    "LFAT- LE TOUQUET : N 50°30.883 E 001°37.650\n",
    "LFQQ - LILLE : N 50°33.800 E 003°05.217\n",
    "LFQE - ETAIN : N 49°13.733 E 005°40.550\n",
    "LFQP - PHALSBOURG : N 48°46.100 E 007°12.300\n",
    "LFGJ - DOLE : N 47°02.567 E 005°26.100\n",
    "LFLB - CHAMBERY : N 45°38.350 E 005°52.800\n",
    "LFNA - GAP : N 44°27.233 E 006°02.200\n",
    "LFMF - FAYENCE : N 43°36.483 E 006°42.100\n",
    "LFKC - CALVI : N 42°31.467 E 008°47.583\n",
    "LFKJ - AJACCIO : N 41°55.433 E 008°48.150\n",
    "LFTH - HYERES : N 43°05.833 E 006°08.767\n",
    "LFMU - BEZIERS : N 43°19.400 E 003°21.200\n",
    "LFDB- MONTAUBAN : N 44°01.600 E 001°22.617\n",
    "LFBP - PAU :  N 43°22.800 W 000°25.117\"\"\".split(\"\\n\")"
   ]
  },
  {
   "cell_type": "code",
   "execution_count": 50,
   "id": "f8f53753-8a46-4e43-9179-afd5b6102f00",
   "metadata": {},
   "outputs": [],
   "source": [
    "def convert2dd(ddmm):\n",
    "    m=re.match(r\"([NS]) (\\d+)°(\\d+\\.\\d+) ([WE]) (\\d+)°(\\d+\\.\\d+)\",ddmm)\n",
    "    if m:\n",
    "        ns=m.group(1)\n",
    "        nsd=int(m.group(2))\n",
    "        nsm=float(m.group(3))\n",
    "        nsr=nsd+nsm/60\n",
    "        if ns==\"S\":\n",
    "            nsr=-nsr\n",
    "        ew=m.group(4)\n",
    "        ewd=int(m.group(5))\n",
    "        ewm=float(m.group(6))\n",
    "        ewr=ewd+ewm/60\n",
    "        if ew==\"W\":\n",
    "            ewr=-ewr\n",
    "        return (nsr, ewr)"
   ]
  },
  {
   "cell_type": "code",
   "execution_count": 64,
   "id": "2ef7a536-3ddb-4974-94aa-e59901133098",
   "metadata": {},
   "outputs": [
    {
     "data": {
      "text/plain": [
       "(43.38, -0.4186166666666667)"
      ]
     },
     "execution_count": 64,
     "metadata": {},
     "output_type": "execute_result"
    }
   ],
   "source": [
    "convert2dd(\"N 43°22.800 W 000°25.117\")"
   ]
  },
  {
   "cell_type": "code",
   "execution_count": 71,
   "id": "d2a3bba1-beae-49d7-aa42-f0fa7f18209c",
   "metadata": {},
   "outputs": [
    {
     "name": "stdout",
     "output_type": "stream",
     "text": [
      "PAU - BIARRITZ = 91\n",
      "BIARRITZ - BORDEAUX = 165\n",
      "BORDEAUX - POITIERS = 211\n",
      "POITIERS - NANTES = 159\n",
      "NANTES - LANVEOC = 246\n",
      "LANVEOC - DEAUVILLE = 358\n",
      "DEAUVILLE - LE TOUQUET = 165\n",
      "LE TOUQUET - LILLE = 103\n",
      "LILLE - ETAIN = 237\n",
      "ETAIN - PHALSBOURG = 123\n",
      "PHALSBOURG - DOLE = 233\n",
      "DOLE - CHAMBERY = 159\n",
      "CHAMBERY - GAP = 132\n",
      "GAP - FAYENCE = 108\n",
      "FAYENCE - CALVI = 208\n",
      "CALVI - AJACCIO = 66\n",
      "AJACCIO - HYERES = 254\n",
      "HYERES - BEZIERS = 228\n",
      "BEZIERS - MONTAUBAN = 177\n",
      "MONTAUBAN - PAU = 161\n",
      "Distance totale 3584\n"
     ]
    }
   ],
   "source": [
    "gps0=\"\"\n",
    "nom0=\"\"\n",
    "distance=0\n",
    "for n,point in enumerate(points):\n",
    "    # print (n,end=\" : \")\n",
    "    nom,gps=point.split(\":\")\n",
    "    nom1=nom.split(\"-\")[-1].strip()\n",
    "    gps1=convert2dd(gps.strip())\n",
    "    if n!=0 :\n",
    "        # print (gps0)\n",
    "        d=geopy.distance.distance(gps0, gps1).km\n",
    "        print (nom0,\"-\",nom1, \"=\", int(d))\n",
    "        distance+=int(d)\n",
    "    gps0=gps1\n",
    "    nom0=nom1\n",
    "print (\"Distance totale\",distance)"
   ]
  },
  {
   "cell_type": "code",
   "execution_count": null,
   "id": "d49fcad6-56eb-4444-ab57-00bde506238d",
   "metadata": {},
   "outputs": [],
   "source": []
  }
 ],
 "metadata": {
  "kernelspec": {
   "display_name": "Python 3 (ipykernel)",
   "language": "python",
   "name": "python3"
  },
  "language_info": {
   "codemirror_mode": {
    "name": "ipython",
    "version": 3
   },
   "file_extension": ".py",
   "mimetype": "text/x-python",
   "name": "python",
   "nbconvert_exporter": "python",
   "pygments_lexer": "ipython3",
   "version": "3.11.8"
  }
 },
 "nbformat": 4,
 "nbformat_minor": 5
}
