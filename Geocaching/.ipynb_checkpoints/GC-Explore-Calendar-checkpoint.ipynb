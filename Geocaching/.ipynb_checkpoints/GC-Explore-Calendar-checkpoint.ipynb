{
 "cells": [
  {
   "cell_type": "markdown",
   "metadata": {},
   "source": [
    "# Analyse des tables calendriers de project-gc"
   ]
  },
  {
   "cell_type": "code",
   "execution_count": null,
   "metadata": {},
   "outputs": [],
   "source": [
    "import bs4,codecs,datetime\n",
    "import pandas as pd\n",
    "import numpy as np\n",
    "\n",
    "from dateutil import rrule\n",
    "\n",
    "from platform import python_version\n",
    "\n",
    "print (python_version())"
   ]
  },
  {
   "cell_type": "markdown",
   "metadata": {},
   "source": [
    "### Changer la locale pour avoir les dates en français\n",
    "https://stackoverflow.com/questions/18593661/how-do-i-strftime-a-date-object-in-a-different-locale"
   ]
  },
  {
   "cell_type": "code",
   "execution_count": 16,
   "metadata": {},
   "outputs": [
    {
     "data": {
      "text/plain": [
       "'fr_FR'"
      ]
     },
     "execution_count": 16,
     "metadata": {},
     "output_type": "execute_result"
    }
   ],
   "source": [
    "import locale\n",
    "locale.setlocale(locale.LC_ALL, 'fr_FR')"
   ]
  },
  {
   "cell_type": "code",
   "execution_count": 17,
   "metadata": {},
   "outputs": [],
   "source": [
    "with codecs.open(\"/Users/gilles/Downloads/GC-CalendarData.html\",encoding=\"utf8\") as inFile:\n",
    "    soup = pd.read_html(inFile,flavor=\"bs4\",index_col=0,header=1)"
   ]
  },
  {
   "cell_type": "markdown",
   "metadata": {},
   "source": [
    "# Tables des caches par date"
   ]
  },
  {
   "cell_type": "code",
   "execution_count": 18,
   "metadata": {},
   "outputs": [
    {
     "data": {
      "text/html": [
       "<div>\n",
       "<style scoped>\n",
       "    .dataframe tbody tr th:only-of-type {\n",
       "        vertical-align: middle;\n",
       "    }\n",
       "\n",
       "    .dataframe tbody tr th {\n",
       "        vertical-align: top;\n",
       "    }\n",
       "\n",
       "    .dataframe thead th {\n",
       "        text-align: right;\n",
       "    }\n",
       "</style>\n",
       "<table border=\"1\" class=\"dataframe\">\n",
       "  <thead>\n",
       "    <tr style=\"text-align: right;\">\n",
       "      <th></th>\n",
       "      <th>1</th>\n",
       "      <th>2</th>\n",
       "      <th>3</th>\n",
       "      <th>4</th>\n",
       "      <th>5</th>\n",
       "      <th>6</th>\n",
       "      <th>7</th>\n",
       "      <th>8</th>\n",
       "      <th>9</th>\n",
       "      <th>10</th>\n",
       "      <th>...</th>\n",
       "      <th>22</th>\n",
       "      <th>23</th>\n",
       "      <th>24</th>\n",
       "      <th>25</th>\n",
       "      <th>26</th>\n",
       "      <th>27</th>\n",
       "      <th>28</th>\n",
       "      <th>29</th>\n",
       "      <th>30</th>\n",
       "      <th>31</th>\n",
       "    </tr>\n",
       "  </thead>\n",
       "  <tbody>\n",
       "    <tr>\n",
       "      <th>Jan</th>\n",
       "      <td>17</td>\n",
       "      <td>5</td>\n",
       "      <td>2</td>\n",
       "      <td>2</td>\n",
       "      <td>4</td>\n",
       "      <td>5</td>\n",
       "      <td>13</td>\n",
       "      <td>4</td>\n",
       "      <td>5</td>\n",
       "      <td>4</td>\n",
       "      <td>...</td>\n",
       "      <td>6</td>\n",
       "      <td>2</td>\n",
       "      <td>2</td>\n",
       "      <td>32</td>\n",
       "      <td>4</td>\n",
       "      <td>3</td>\n",
       "      <td>1</td>\n",
       "      <td>3</td>\n",
       "      <td>8</td>\n",
       "      <td>2</td>\n",
       "    </tr>\n",
       "    <tr>\n",
       "      <th>Fév</th>\n",
       "      <td>4</td>\n",
       "      <td>10</td>\n",
       "      <td>30</td>\n",
       "      <td>16</td>\n",
       "      <td>16</td>\n",
       "      <td>2</td>\n",
       "      <td>7</td>\n",
       "      <td>9</td>\n",
       "      <td>4</td>\n",
       "      <td>2</td>\n",
       "      <td>...</td>\n",
       "      <td>23</td>\n",
       "      <td>20</td>\n",
       "      <td>16</td>\n",
       "      <td>4</td>\n",
       "      <td>31</td>\n",
       "      <td>47</td>\n",
       "      <td>16</td>\n",
       "      <td>3</td>\n",
       "      <td>X</td>\n",
       "      <td>X</td>\n",
       "    </tr>\n",
       "    <tr>\n",
       "      <th>Mar</th>\n",
       "      <td>8</td>\n",
       "      <td>8</td>\n",
       "      <td>2</td>\n",
       "      <td>3</td>\n",
       "      <td>15</td>\n",
       "      <td>17</td>\n",
       "      <td>1</td>\n",
       "      <td>8</td>\n",
       "      <td>4</td>\n",
       "      <td>7</td>\n",
       "      <td>...</td>\n",
       "      <td>15</td>\n",
       "      <td>9</td>\n",
       "      <td>8</td>\n",
       "      <td>12</td>\n",
       "      <td>14</td>\n",
       "      <td>3</td>\n",
       "      <td>3</td>\n",
       "      <td>4</td>\n",
       "      <td>4</td>\n",
       "      <td>7</td>\n",
       "    </tr>\n",
       "    <tr>\n",
       "      <th>Avr</th>\n",
       "      <td>3</td>\n",
       "      <td>4</td>\n",
       "      <td>26</td>\n",
       "      <td>5</td>\n",
       "      <td>12</td>\n",
       "      <td>7</td>\n",
       "      <td>38</td>\n",
       "      <td>13</td>\n",
       "      <td>30</td>\n",
       "      <td>32</td>\n",
       "      <td>...</td>\n",
       "      <td>24</td>\n",
       "      <td>39</td>\n",
       "      <td>7</td>\n",
       "      <td>11</td>\n",
       "      <td>34</td>\n",
       "      <td>38</td>\n",
       "      <td>40</td>\n",
       "      <td>11</td>\n",
       "      <td>4</td>\n",
       "      <td>X</td>\n",
       "    </tr>\n",
       "    <tr>\n",
       "      <th>Mai</th>\n",
       "      <td>31</td>\n",
       "      <td>31</td>\n",
       "      <td>25</td>\n",
       "      <td>9</td>\n",
       "      <td>24</td>\n",
       "      <td>17</td>\n",
       "      <td>12</td>\n",
       "      <td>33</td>\n",
       "      <td>2</td>\n",
       "      <td>1</td>\n",
       "      <td>...</td>\n",
       "      <td>23</td>\n",
       "      <td>10</td>\n",
       "      <td>7</td>\n",
       "      <td>36</td>\n",
       "      <td>125</td>\n",
       "      <td>14</td>\n",
       "      <td>16</td>\n",
       "      <td>8</td>\n",
       "      <td>5</td>\n",
       "      <td>3</td>\n",
       "    </tr>\n",
       "    <tr>\n",
       "      <th>Jui</th>\n",
       "      <td>9</td>\n",
       "      <td>60</td>\n",
       "      <td>7</td>\n",
       "      <td>17</td>\n",
       "      <td>16</td>\n",
       "      <td>10</td>\n",
       "      <td>8</td>\n",
       "      <td>74</td>\n",
       "      <td>19</td>\n",
       "      <td>16</td>\n",
       "      <td>...</td>\n",
       "      <td>3</td>\n",
       "      <td>14</td>\n",
       "      <td>5</td>\n",
       "      <td>21</td>\n",
       "      <td>28</td>\n",
       "      <td>24</td>\n",
       "      <td>4</td>\n",
       "      <td>1</td>\n",
       "      <td>6</td>\n",
       "      <td>X</td>\n",
       "    </tr>\n",
       "    <tr>\n",
       "      <th>Jul</th>\n",
       "      <td>17</td>\n",
       "      <td>20</td>\n",
       "      <td>46</td>\n",
       "      <td>30</td>\n",
       "      <td>41</td>\n",
       "      <td>22</td>\n",
       "      <td>15</td>\n",
       "      <td>5</td>\n",
       "      <td>19</td>\n",
       "      <td>32</td>\n",
       "      <td>...</td>\n",
       "      <td>38</td>\n",
       "      <td>29</td>\n",
       "      <td>16</td>\n",
       "      <td>28</td>\n",
       "      <td>19</td>\n",
       "      <td>33</td>\n",
       "      <td>30</td>\n",
       "      <td>18</td>\n",
       "      <td>32</td>\n",
       "      <td>6</td>\n",
       "    </tr>\n",
       "    <tr>\n",
       "      <th>Aou</th>\n",
       "      <td>12</td>\n",
       "      <td>12</td>\n",
       "      <td>11</td>\n",
       "      <td>34</td>\n",
       "      <td>30</td>\n",
       "      <td>37</td>\n",
       "      <td>22</td>\n",
       "      <td>17</td>\n",
       "      <td>25</td>\n",
       "      <td>18</td>\n",
       "      <td>...</td>\n",
       "      <td>5</td>\n",
       "      <td>6</td>\n",
       "      <td>3</td>\n",
       "      <td>15</td>\n",
       "      <td>24</td>\n",
       "      <td>51</td>\n",
       "      <td>36</td>\n",
       "      <td>51</td>\n",
       "      <td>18</td>\n",
       "      <td>22</td>\n",
       "    </tr>\n",
       "    <tr>\n",
       "      <th>Sep</th>\n",
       "      <td>26</td>\n",
       "      <td>14</td>\n",
       "      <td>9</td>\n",
       "      <td>11</td>\n",
       "      <td>10</td>\n",
       "      <td>6</td>\n",
       "      <td>18</td>\n",
       "      <td>11</td>\n",
       "      <td>3</td>\n",
       "      <td>9</td>\n",
       "      <td>...</td>\n",
       "      <td>15</td>\n",
       "      <td>5</td>\n",
       "      <td>36</td>\n",
       "      <td>14</td>\n",
       "      <td>5</td>\n",
       "      <td>5</td>\n",
       "      <td>29</td>\n",
       "      <td>36</td>\n",
       "      <td>22</td>\n",
       "      <td>X</td>\n",
       "    </tr>\n",
       "    <tr>\n",
       "      <th>Oct</th>\n",
       "      <td>21</td>\n",
       "      <td>3</td>\n",
       "      <td>4</td>\n",
       "      <td>1</td>\n",
       "      <td>4</td>\n",
       "      <td>3</td>\n",
       "      <td>11</td>\n",
       "      <td>12</td>\n",
       "      <td>5</td>\n",
       "      <td>7</td>\n",
       "      <td>...</td>\n",
       "      <td>7</td>\n",
       "      <td>9</td>\n",
       "      <td>19</td>\n",
       "      <td>12</td>\n",
       "      <td>16</td>\n",
       "      <td>16</td>\n",
       "      <td>4</td>\n",
       "      <td>9</td>\n",
       "      <td>22</td>\n",
       "      <td>25</td>\n",
       "    </tr>\n",
       "    <tr>\n",
       "      <th>Nov</th>\n",
       "      <td>36</td>\n",
       "      <td>31</td>\n",
       "      <td>24</td>\n",
       "      <td>6</td>\n",
       "      <td>2</td>\n",
       "      <td>1</td>\n",
       "      <td>1</td>\n",
       "      <td>12</td>\n",
       "      <td>1</td>\n",
       "      <td>6</td>\n",
       "      <td>...</td>\n",
       "      <td>1</td>\n",
       "      <td>18</td>\n",
       "      <td>26</td>\n",
       "      <td>2</td>\n",
       "      <td>16</td>\n",
       "      <td>17</td>\n",
       "      <td>5</td>\n",
       "      <td>2</td>\n",
       "      <td>8</td>\n",
       "      <td>X</td>\n",
       "    </tr>\n",
       "    <tr>\n",
       "      <th>Déc</th>\n",
       "      <td>21</td>\n",
       "      <td>7</td>\n",
       "      <td>15</td>\n",
       "      <td>2</td>\n",
       "      <td>2</td>\n",
       "      <td>19</td>\n",
       "      <td>1</td>\n",
       "      <td>5</td>\n",
       "      <td>3</td>\n",
       "      <td>5</td>\n",
       "      <td>...</td>\n",
       "      <td>12</td>\n",
       "      <td>4</td>\n",
       "      <td>4</td>\n",
       "      <td>3</td>\n",
       "      <td>20</td>\n",
       "      <td>45</td>\n",
       "      <td>11</td>\n",
       "      <td>11</td>\n",
       "      <td>30</td>\n",
       "      <td>7</td>\n",
       "    </tr>\n",
       "  </tbody>\n",
       "</table>\n",
       "<p>12 rows × 31 columns</p>\n",
       "</div>"
      ],
      "text/plain": [
       "      1   2   3   4   5   6   7   8   9  10  ...  22  23  24  25   26  27  28  \\\n",
       "Jan  17   5   2   2   4   5  13   4   5   4  ...   6   2   2  32    4   3   1   \n",
       "Fév   4  10  30  16  16   2   7   9   4   2  ...  23  20  16   4   31  47  16   \n",
       "Mar   8   8   2   3  15  17   1   8   4   7  ...  15   9   8  12   14   3   3   \n",
       "Avr   3   4  26   5  12   7  38  13  30  32  ...  24  39   7  11   34  38  40   \n",
       "Mai  31  31  25   9  24  17  12  33   2   1  ...  23  10   7  36  125  14  16   \n",
       "Jui   9  60   7  17  16  10   8  74  19  16  ...   3  14   5  21   28  24   4   \n",
       "Jul  17  20  46  30  41  22  15   5  19  32  ...  38  29  16  28   19  33  30   \n",
       "Aou  12  12  11  34  30  37  22  17  25  18  ...   5   6   3  15   24  51  36   \n",
       "Sep  26  14   9  11  10   6  18  11   3   9  ...  15   5  36  14    5   5  29   \n",
       "Oct  21   3   4   1   4   3  11  12   5   7  ...   7   9  19  12   16  16   4   \n",
       "Nov  36  31  24   6   2   1   1  12   1   6  ...   1  18  26   2   16  17   5   \n",
       "Déc  21   7  15   2   2  19   1   5   3   5  ...  12   4   4   3   20  45  11   \n",
       "\n",
       "     29  30  31  \n",
       "Jan   3   8   2  \n",
       "Fév   3   X   X  \n",
       "Mar   4   4   7  \n",
       "Avr  11   4   X  \n",
       "Mai   8   5   3  \n",
       "Jui   1   6   X  \n",
       "Jul  18  32   6  \n",
       "Aou  51  18  22  \n",
       "Sep  36  22   X  \n",
       "Oct   9  22  25  \n",
       "Nov   2   8   X  \n",
       "Déc  11  30   7  \n",
       "\n",
       "[12 rows x 31 columns]"
      ]
     },
     "execution_count": 18,
     "metadata": {},
     "output_type": "execute_result"
    }
   ],
   "source": [
    "dfCal=soup[0].drop(index=np.nan)\n",
    "dfCal.drop(\"Unnamed: 32\", axis=1, inplace=True)\n",
    "dfCal"
   ]
  },
  {
   "cell_type": "code",
   "execution_count": 19,
   "metadata": {},
   "outputs": [
    {
     "data": {
      "text/plain": [
       "5447"
      ]
     },
     "execution_count": 19,
     "metadata": {},
     "output_type": "execute_result"
    }
   ],
   "source": [
    "dfCalSum=dfCal.replace(\"X\",0).astype(int)\n",
    "dfCalSum.sum().sum()"
   ]
  },
  {
   "cell_type": "code",
   "execution_count": 20,
   "metadata": {},
   "outputs": [
    {
     "data": {
      "text/plain": [
       "('03', '23')"
      ]
     },
     "execution_count": 20,
     "metadata": {},
     "output_type": "execute_result"
    }
   ],
   "source": [
    "d = datetime.datetime.now()\n",
    "d.strftime(\"%m\"),d.strftime(\"%d\")"
   ]
  },
  {
   "cell_type": "code",
   "execution_count": 23,
   "metadata": {},
   "outputs": [
    {
     "name": "stdout",
     "output_type": "stream",
     "text": [
      "10/05 Mardi\n",
      "29/06 Mercredi\n",
      "19/09 Lundi\n",
      "04/10 Mardi\n",
      "11/10 Mardi\n",
      "06/11 Dimanche\n",
      "07/11 Lundi\n",
      "09/11 Mercredi\n",
      "18/11 Vendredi\n",
      "22/11 Mardi\n",
      "07/12 Mercredi\n",
      "13/12 Mardi\n",
      "16/12 Vendredi\n",
      "14/01 Samedi\n",
      "16/01 Lundi\n",
      "17/01 Mardi\n",
      "28/01 Samedi\n",
      "15/02 Mercredi\n",
      "07/03 Mardi\n"
     ]
    }
   ],
   "source": [
    "minTrouvees=2\n",
    "for cDate in (datetime.datetime.now() + datetime.timedelta(n) for n in range(366)):\n",
    "    cJour=int(cDate.strftime(\"%d\"))-1\n",
    "    cMois=int(cDate.strftime(\"%m\"))-1\n",
    "    nbTrouvees=int(dfCal.iat[cMois,cJour])\n",
    "    if nbTrouvees<minTrouvees:\n",
    "        print (cDate.strftime(\"%d/%m %A\"))"
   ]
  },
  {
   "cell_type": "markdown",
   "metadata": {},
   "source": [
    "# Table des jours de FTF"
   ]
  },
  {
   "cell_type": "code",
   "execution_count": 24,
   "metadata": {},
   "outputs": [],
   "source": [
    "with codecs.open(\"/Users/gilles/Downloads/GC-CalendarData.html\",encoding=\"utf8\") as inFile:\n",
    "    content = inFile.read()\n",
    "    soupFTF = bs4.BeautifulSoup(content, 'html.parser')"
   ]
  },
  {
   "cell_type": "markdown",
   "metadata": {},
   "source": [
    "### Extraction de la table des trouvailles par jour"
   ]
  },
  {
   "cell_type": "code",
   "execution_count": 25,
   "metadata": {},
   "outputs": [],
   "source": [
    "divCal=soupFTF.find(\"div\", {\"id\": \"ps_Finds_findsbyfounddate\"})\n",
    "tabCal=divCal.find(\"table\")\n",
    "# print tabCal"
   ]
  },
  {
   "cell_type": "markdown",
   "metadata": {},
   "source": [
    "### Exploration de la table des trouvailles\n",
    "- chaque rangée correspond à un mois\n",
    "- chaque ligne correspond à un jour\n",
    "\n",
    "Si un nombre de la table est stylé par *\"color: #FFFFFF\"*, c'est qu'il n'a pas de FTF"
   ]
  },
  {
   "cell_type": "code",
   "execution_count": 29,
   "metadata": {},
   "outputs": [
    {
     "name": "stdout",
     "output_type": "stream",
     "text": [
      "\n",
      "Jan\n",
      "5 8 9 15 16 17 19 27 30 Fév\n",
      "3 5 6 8 12 15 21 24 25 28 29 Mar\n",
      "3 6 7 8 9 23 27 29 31 Avr\n",
      "10 12 13 Mai\n",
      "4 6 8 9 13 19 24 30 Jui\n",
      "12 13 24 27 28 29 30 Jul\n",
      "6 10 18 19 23 26 27 28 29 30 31 Aou\n",
      "2 3 7 8 10 11 13 14 22 Sep\n",
      "1 12 18 19 22 24 26 27 28 29 Oct\n",
      "4 6 7 8 9 14 17 18 19 Nov\n",
      "6 7 9 10 16 18 19 22 23 30 Déc\n",
      "3 6 7 10 11 13 14 16 20 24 28 31 "
     ]
    }
   ],
   "source": [
    "for tr in tabCal.findAll(\"tr\"):\n",
    "    n=0\n",
    "    for td in tr.findAll(\"td\"):\n",
    "        if \"class\" not in td.attrs:\n",
    "            print (td.text)\n",
    "        elif \"style\" in td.attrs and \"color: #FFFFFF\" in td.attrs[\"style\"]:\n",
    "            print (n,end=\" \")\n",
    "        n+=1\n",
    "    print"
   ]
  },
  {
   "cell_type": "markdown",
   "metadata": {},
   "source": [
    "# Tables des caches par mois de placement"
   ]
  },
  {
   "cell_type": "code",
   "execution_count": 30,
   "metadata": {
    "scrolled": false
   },
   "outputs": [
    {
     "data": {
      "text/plain": [
       "1.0"
      ]
     },
     "execution_count": 30,
     "metadata": {},
     "output_type": "execute_result"
    }
   ],
   "source": [
    "dfCal=soup[2].drop(index=np.nan)\n",
    "dfCal.drop(\"Unnamed: 13\", axis=1, inplace=True)\n",
    "dfCal.iat[0,5]"
   ]
  },
  {
   "cell_type": "code",
   "execution_count": 32,
   "metadata": {},
   "outputs": [
    {
     "name": "stdout",
     "output_type": "stream",
     "text": [
      "2022 3\n"
     ]
    }
   ],
   "source": [
    "startAnnee=2000\n",
    "startMois=5\n",
    "nowGC = datetime.datetime.now()\n",
    "endAnnee=int(nowGC.strftime(\"%Y\"))\n",
    "endMois=int(nowGC.strftime(\"%m\"))\n",
    "print (endAnnee,endMois)"
   ]
  },
  {
   "cell_type": "code",
   "execution_count": 34,
   "metadata": {},
   "outputs": [
    {
     "name": "stdout",
     "output_type": "stream",
     "text": [
      "2000 5, 8, 9, 10, 11, 12\n",
      "2001 1, 2, 3, 4, 5, 6, 7, 8, 9, 11\n",
      "2002 1, 2, 6, 7, 8, 12\n",
      "2003 2, 7, 8, 9, 10, 11\n",
      "2004 1, 2, 3, 4, 6, 8, 9, 11\n",
      "2005 2, 6, 12\n",
      "2006 2, 7\n",
      "2009 12\n",
      "2022 1, 2, 3, 4, 5, 6, 7, 8, 9, 10, 11, 12\n"
     ]
    }
   ],
   "source": [
    "for anneeGC in range(endAnnee-startAnnee+1):\n",
    "    missingMonths=[]\n",
    "    for moisGC in range(12):\n",
    "        if dfCal.iat[anneeGC,moisGC]!=dfCal.iat[anneeGC,moisGC]:\n",
    "            missingMonths.append(str(moisGC+1))\n",
    "    if missingMonths:\n",
    "        print (anneeGC+startAnnee, \", \".join(missingMonths))"
   ]
  },
  {
   "cell_type": "code",
   "execution_count": null,
   "metadata": {},
   "outputs": [],
   "source": []
  }
 ],
 "metadata": {
  "kernelspec": {
   "display_name": "py27",
   "language": "python",
   "name": "py27"
  },
  "language_info": {
   "codemirror_mode": {
    "name": "ipython",
    "version": 3
   },
   "file_extension": ".py",
   "mimetype": "text/x-python",
   "name": "python",
   "nbconvert_exporter": "python",
   "pygments_lexer": "ipython3",
   "version": "3.9.7"
  }
 },
 "nbformat": 4,
 "nbformat_minor": 2
}
