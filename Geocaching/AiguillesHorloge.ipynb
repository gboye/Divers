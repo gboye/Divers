{
 "cells": [
  {
   "cell_type": "code",
   "execution_count": 27,
   "id": "9b7c61b2",
   "metadata": {},
   "outputs": [
    {
     "name": "stdout",
     "output_type": "stream",
     "text": [
      "00:00:00 0.0\n",
      "01:05:05 0.00138888888889\n",
      "02:10:10 0.00277777777778\n",
      "03:15:15 0.00402777777778\n",
      "04:20:20 0.00263888888889\n",
      "05:25:25 0.00125\n",
      "06:30:30 0.000138888888891\n",
      "07:35:35 0.00152777777777\n",
      "08:40:40 0.00291666666667\n",
      "09:45:46 0.00388888888889\n",
      "10:50:51 0.0025\n",
      "11:55:56 0.00111111111111\n",
      "12:00:00 0.0\n",
      "13:05:05 0.00138888888889\n",
      "14:10:10 0.00277777777778\n",
      "15:15:15 0.00402777777778\n",
      "16:20:20 0.00263888888889\n",
      "17:25:25 0.00125\n",
      "18:30:30 0.000138888888891\n",
      "19:35:35 0.00152777777777\n",
      "20:40:40 0.00291666666667\n",
      "21:45:46 0.00388888888889\n",
      "22:50:51 0.0025\n",
      "23:55:56 0.00111111111111\n"
     ]
    }
   ],
   "source": [
    "secondes=120\n",
    "minutes=60\n",
    "heures=24\n",
    "\n",
    "croisements=[]\n",
    "for heure in range(heures):\n",
    "    h=float(heure%12)\n",
    "    minDelta=minutes\n",
    "    candidat=(None,None,None)\n",
    "    for minute in range(minutes):\n",
    "        m=float(minute)\n",
    "        for seconde in range(secondes):\n",
    "            s=float(seconde)\n",
    "            trotteuse=s\n",
    "            pAiguille=m+s/secondes\n",
    "            gAiguille=h*5+pAiguille/minutes\n",
    "            delta=abs(pAiguille-gAiguille)\n",
    "            if delta<0.01 and delta<minDelta:\n",
    "                minDelta=delta\n",
    "#                print delta\n",
    "                candidat=(heure,int(m),int(s/2))\n",
    "    croisements.append((candidat,minDelta))\n",
    "    \n",
    "for (h,m,s),minDelta in croisements:\n",
    "#    print h,m,s\n",
    "    print \"{:02d}:{:02d}:{:02d}\".format(h,m,s),minDelta"
   ]
  },
  {
   "cell_type": "code",
   "execution_count": null,
   "id": "02aca25d",
   "metadata": {},
   "outputs": [],
   "source": []
  }
 ],
 "metadata": {
  "kernelspec": {
   "display_name": "Python 2 (ipykernel)",
   "language": "python",
   "name": "py27"
  },
  "language_info": {
   "codemirror_mode": {
    "name": "ipython",
    "version": 2
   },
   "file_extension": ".py",
   "mimetype": "text/x-python",
   "name": "python",
   "nbconvert_exporter": "python",
   "pygments_lexer": "ipython2",
   "version": "2.7.16"
  }
 },
 "nbformat": 4,
 "nbformat_minor": 5
}
