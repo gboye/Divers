{
 "cells": [
  {
   "cell_type": "code",
   "execution_count": 2,
   "id": "bcd301fb",
   "metadata": {},
   "outputs": [],
   "source": [
    "message=\"EVQHE ADMLQ VEDTR DFDSR RVSHE ADHLM XEDGB HDOLE ZADJQ OHSIJ VDDNY CEXCL EDEPE FDSRY DDRLS EEEGB HOILI EANJQ OHSIJ VDDNY DZUMJ\""
   ]
  },
  {
   "cell_type": "code",
   "execution_count": 14,
   "id": "a1a67043",
   "metadata": {},
   "outputs": [
    {
     "name": "stdout",
     "output_type": "stream",
     "text": [
      "{'A': 'Z', 'C': 'X', 'B': 'Y', 'E': 'V', 'D': 'W', 'G': 'T', 'F': 'U', 'I': 'R', 'H': 'S', 'K': 'P', 'J': 'Q', 'M': 'N', 'L': 'O', 'O': 'L', 'N': 'M', 'Q': 'J', 'P': 'K', 'S': 'H', 'R': 'I', 'U': 'F', 'T': 'G', 'W': 'D', 'V': 'E', 'Y': 'B', 'X': 'C', 'Z': 'A'}\n"
     ]
    }
   ],
   "source": [
    "alphabet=\"ABCDEFGHIJKLMNOPQRSTUVWXYZ\"\n",
    "for a in [1,3,5,7,9,11,15,17,19,21,23,25]:\n",
    "    for b in range(26):\n",
    "        alphaCode={l:alphabet[(a*(alphabet.index(l)+1+b)%26)-1] for l in alphabet}\n",
    "        if alphaCode[\"E\"]==\"N\" and alphaCode[\"V\"]==\"O\" and alphaCode[\"Q\"]==\"R\":\n",
    "            print alphaCode\n",
    "            break\n",
    "print alphaCode\n",
    "        "
   ]
  },
  {
   "cell_type": "code",
   "execution_count": 15,
   "id": "474668e3",
   "metadata": {},
   "outputs": [
    {
     "name": "stdout",
     "output_type": "stream",
     "text": [
      "{'A': 'Z', 'C': 'X', 'B': 'Y', 'E': 'V', 'D': 'W', 'G': 'T', 'F': 'U', 'I': 'R', 'H': 'S', 'K': 'P', 'J': 'Q', 'M': 'N', 'L': 'O', 'O': 'L', 'N': 'M', 'Q': 'J', 'P': 'K', 'S': 'H', 'R': 'I', 'U': 'F', 'T': 'G', 'W': 'D', 'V': 'E', 'Y': 'B', 'X': 'C', 'Z': 'A'}\n"
     ]
    }
   ],
   "source": [
    "betaCode={v:k for k,v in alphaCode.items()}\n",
    "print betaCode"
   ]
  }
 ],
 "metadata": {
  "kernelspec": {
   "display_name": "Python 2 (ipykernel)",
   "language": "python",
   "name": "py27"
  },
  "language_info": {
   "codemirror_mode": {
    "name": "ipython",
    "version": 2
   },
   "file_extension": ".py",
   "mimetype": "text/x-python",
   "name": "python",
   "nbconvert_exporter": "python",
   "pygments_lexer": "ipython2",
   "version": "2.7.16"
  }
 },
 "nbformat": 4,
 "nbformat_minor": 5
}
