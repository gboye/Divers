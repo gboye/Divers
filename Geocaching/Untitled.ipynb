{
 "cells": [
  {
   "cell_type": "code",
   "execution_count": 2,
   "id": "bcd301fb",
   "metadata": {},
   "outputs": [],
   "source": [
    "message=\"EVQHE ADMLQ VEDTR DFDSR RVSHE ADHLM XEDGB HDOLE ZADJQ OHSIJ VDDNY CEXCL EDEPE FDSRY DDRLS EEEGB HOILI EANJQ OHSIJ VDDNY DZUMJ\""
   ]
  },
  {
   "cell_type": "code",
   "execution_count": 14,
   "id": "a1a67043",
   "metadata": {},
   "outputs": [
    {
     "name": "stdout",
     "output_type": "stream",
     "text": [
      "{'A': 'Z', 'C': 'X', 'B': 'Y', 'E': 'V', 'D': 'W', 'G': 'T', 'F': 'U', 'I': 'R', 'H': 'S', 'K': 'P', 'J': 'Q', 'M': 'N', 'L': 'O', 'O': 'L', 'N': 'M', 'Q': 'J', 'P': 'K', 'S': 'H', 'R': 'I', 'U': 'F', 'T': 'G', 'W': 'D', 'V': 'E', 'Y': 'B', 'X': 'C', 'Z': 'A'}\n"
     ]
    }
   ],
   "source": [
    "alphabet=\"ABCDEFGHIJKLMNOPQRSTUVWXYZ\"\n",
    "for a in [1,3,5,7,9,11,15,17,19,21,23,25]:\n",
    "    for b in range(26):\n",
    "        alphaCode={l:alphabet[(a*(alphabet.index(l)+1+b)%26)-1] for l in alphabet}\n",
    "        if alphaCode[\"E\"]==\"N\" and alphaCode[\"V\"]==\"O\" and alphaCode[\"Q\"]==\"R\":\n",
    "            print alphaCode\n",
    "            break\n",
    "print alphaCode\n",
    "        "
   ]
  },
  {
   "cell_type": "code",
   "execution_count": 15,
   "id": "474668e3",
   "metadata": {},
   "outputs": [
    {
     "name": "stdout",
     "output_type": "stream",
     "text": [
      "{'A': 'Z', 'C': 'X', 'B': 'Y', 'E': 'V', 'D': 'W', 'G': 'T', 'F': 'U', 'I': 'R', 'H': 'S', 'K': 'P', 'J': 'Q', 'M': 'N', 'L': 'O', 'O': 'L', 'N': 'M', 'Q': 'J', 'P': 'K', 'S': 'H', 'R': 'I', 'U': 'F', 'T': 'G', 'W': 'D', 'V': 'E', 'Y': 'B', 'X': 'C', 'Z': 'A'}\n"
     ]
    }
   ],
   "source": [
    "betaCode={v:k for k,v in alphaCode.items()}\n",
    "print betaCode"
   ]
  },
  {
   "cell_type": "code",
   "execution_count": 22,
   "id": "e5bda4a9-ea85-4e01-92bd-46da8367b510",
   "metadata": {},
   "outputs": [
    {
     "name": "stdout",
     "output_type": "stream",
     "text": [
      "a = 12\n",
      "b = 8\n",
      "c = 5\n",
      "d = 5\n",
      "e = 8\n",
      "f = 4\n",
      "g = 6\n",
      "h = 4\n",
      "i = 6\n",
      "j = 9\n",
      "\n",
      "for the love of chocolate: solved\n",
      "3 8 2\n",
      "9 7 3\n"
     ]
    }
   ],
   "source": [
    "clues=[\"double decker\", \"milky way\", \"wispa\", \n",
    "       \"twirl\", \"smarties\", \"mars\", \"bounty\", \n",
    "       \"lion\", \"Kinder\", \"maltesers\"]\n",
    "letters=\"abcdefghij\"\n",
    "\n",
    "for n,clue in enumerate(clues):\n",
    "    v=len(clue.replace(\" \",\"\"))\n",
    "    print \"%s = %d\"%(letters[n],v)\n",
    "    exec(\"%s = %d\"%(letters[n],v))\n",
    "\n",
    "print\n",
    "print 'for the love of chocolate: solved'\n",
    "print (a-j),(f+h),(b-g)\n",
    "print (c+f),(i+j-b),(e-d)\n",
    "\n",
    "    "
   ]
  },
  {
   "cell_type": "code",
   "execution_count": 7,
   "id": "4cdb7028-0536-4324-a657-fdf52639b2a1",
   "metadata": {},
   "outputs": [
    {
     "name": "stdout",
     "output_type": "stream",
     "text": [
      "a = 23\n",
      "b = 12\n",
      "c = 52\n",
      "d = 36\n",
      "e = 28\n",
      "f = 29\n",
      "g = 32\n",
      "h = 32\n",
      "\n",
      "Malta map spot: solved\n",
      "N35 54.069 E14 30.908\n"
     ]
    }
   ],
   "source": [
    "clues=[23,12,52,36,28,29,32,32]\n",
    "letters=\"abcdefgh\"\n",
    "\n",
    "for n,clue in enumerate(clues):\n",
    "    print \"%s = %d\"%(letters[n],clue)\n",
    "    exec(\"%s = %d\"%(letters[n],clue))\n",
    "\n",
    "print\n",
    "print 'Malta map spot: solved'\n",
    "print \"N35\",float(53934+a+c+e+g)/1000,\n",
    "print \"E14\",float(30799+b+d+f+h)/1000\n",
    "\n",
    "    "
   ]
  }
 ],
 "metadata": {
  "kernelspec": {
   "display_name": "Python [conda env:python2]",
   "language": "python",
   "name": "conda-env-python2-py"
  },
  "language_info": {
   "codemirror_mode": {
    "name": "ipython",
    "version": 2
   },
   "file_extension": ".py",
   "mimetype": "text/x-python",
   "name": "python",
   "nbconvert_exporter": "python",
   "pygments_lexer": "ipython2",
   "version": "2.7.16"
  }
 },
 "nbformat": 4,
 "nbformat_minor": 5
}
