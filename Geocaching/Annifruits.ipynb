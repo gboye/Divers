{
 "cells": [
  {
   "cell_type": "code",
   "execution_count": 52,
   "metadata": {},
   "outputs": [],
   "source": [
    "import pandas as pd\n",
    "import operator"
   ]
  },
  {
   "cell_type": "code",
   "execution_count": 1,
   "metadata": {},
   "outputs": [],
   "source": [
    "image = \"\"\"\n",
    "av ki ci ba co pa ci pv av pa\n",
    "co pv ce an ra co ba ce ce po\n",
    "pr ki ki co pv av pa ci po pr\n",
    "av ba an ra or au an ra po ce\n",
    "co av ba an ra ce pv or or ki\n",
    "co ba ci au an ki or au ce ki\n",
    "pv av pa ci co ba po pr or au\n",
    "ki co ba ci pa pa ci pv ce ra\n",
    "an co ba an an pr ki ki co ki\n",
    "ra ra ci pv ce ki ce av ci pv\n",
    "ce ki co ra ra pv ce ki ce ba\n",
    "co ba co ba an ba an ra po pr\n",
    "po pr or au pr po pr or ba ra\n",
    "po pr co ba an ra po ce ki co\n",
    "ra or ra ci pv ba pr or au av\n",
    "\"\"\""
   ]
  },
  {
   "cell_type": "code",
   "execution_count": 39,
   "metadata": {},
   "outputs": [],
   "source": [
    "lignes=[l.split(\" \") for l in image.split(\"\\n\") if l!=\"\"]\n",
    "df=pd.DataFrame(lignes)"
   ]
  },
  {
   "cell_type": "code",
   "execution_count": 67,
   "metadata": {},
   "outputs": [
    {
     "data": {
      "text/plain": [
       "[('co', 15),\n",
       " ('ba', 15),\n",
       " ('ki', 14),\n",
       " ('ra', 14),\n",
       " ('ce', 13),\n",
       " ('an', 11),\n",
       " ('pr', 10),\n",
       " ('ci', 10),\n",
       " ('pv', 10),\n",
       " ('or', 9),\n",
       " ('po', 9),\n",
       " ('av', 8),\n",
       " ('pa', 6),\n",
       " ('au', 6)]"
      ]
     },
     "execution_count": 67,
     "metadata": {},
     "output_type": "execute_result"
    }
   ],
   "source": [
    "freqs={}\n",
    "for i in range(10):\n",
    "    colFreq=df[i].value_counts().to_dict()\n",
    "    for k in colFreq:\n",
    "        if k not in freqs:\n",
    "            freqs[k]=0\n",
    "        freqs[k]+=colFreq[k]\n",
    "sorted(freqs.items(), key=operator.itemgetter(1),reverse=True)"
   ]
  },
  {
   "cell_type": "code",
   "execution_count": 98,
   "metadata": {},
   "outputs": [
    {
     "data": {
      "text/plain": [
       "14"
      ]
     },
     "execution_count": 98,
     "metadata": {},
     "output_type": "execute_result"
    }
   ],
   "source": [
    "len(freqs.keys())"
   ]
  },
  {
   "cell_type": "code",
   "execution_count": 16,
   "metadata": {},
   "outputs": [],
   "source": [
    "def subImage():\n",
    "    sub=image\n",
    "    for k in lettres:\n",
    "        sub=sub.replace(k,lettres[k])\n",
    "    print sub"
   ]
  },
  {
   "cell_type": "code",
   "execution_count": 97,
   "metadata": {},
   "outputs": [
    {
     "name": "stdout",
     "output_type": "stream",
     "text": [
      "\n",
      "_ _ _ l _ _ _ _ _ _\n",
      "_ _ _ e s _ l _ _ _\n",
      "_ _ _ _ _ _ _ _ _ _\n",
      "_ l e s _ _ e s _ _\n",
      "_ _ l e s _ _ _ _ _\n",
      "_ l _ _ e _ _ _ _ _\n",
      "_ _ _ _ _ l _ _ _ _\n",
      "_ _ l _ _ _ _ _ _ s\n",
      "e _ l e e _ _ _ _ _\n",
      "s s _ _ _ _ _ _ _ _\n",
      "_ _ _ s s _ _ _ _ l\n",
      "_ l _ l e l e s _ _\n",
      "_ _ _ _ _ _ _ _ l s\n",
      "_ _ _ l e s _ _ _ _\n",
      "s _ s _ _ l _ _ _ _\n",
      "\n"
     ]
    }
   ],
   "source": [
    "lettres={k:\"_\" for k in freqs}\n",
    "# lettres[\"av\"]=\"l\"\n",
    "lettres[\"ba\"]=\"l\"\n",
    "lettres[\"an\"]=\"e\"\n",
    "lettres[\"ra\"]=\"s\"\n",
    "lettres[\"po\"]=\"_\"\n",
    "lettres[\"ce\"]=\"_\"\n",
    "lettres[\"co\"]=\"_\"\n",
    "# lettres[\"ce\"]=\"u\"\n",
    "# lettres[\"ki\"]=\"a\"\n",
    "\n",
    "\n",
    "subImage()"
   ]
  },
  {
   "cell_type": "code",
   "execution_count": 45,
   "metadata": {},
   "outputs": [],
   "source": [
    "texte=sum(lignes,[])"
   ]
  },
  {
   "cell_type": "code",
   "execution_count": 94,
   "metadata": {},
   "outputs": [],
   "source": [
    "def ngrams(n):\n",
    "    result={}\n",
    "    for m,mot in enumerate(texte[:-n+1]):\n",
    "        ngram=\"-\".join(texte[m:m+n])\n",
    "        if ngram not in result:\n",
    "            result[ngram]=0\n",
    "        result[ngram]+=1\n",
    "    return sorted(result.items(), key=operator.itemgetter(1),reverse=True)"
   ]
  },
  {
   "cell_type": "code",
   "execution_count": 96,
   "metadata": {},
   "outputs": [
    {
     "data": {
      "text/plain": [
       "[('ba-an-ra', 4),\n",
       " ('pv-ce-ki', 3),\n",
       " ('co-ba-an', 3),\n",
       " ('an-ra-po', 3),\n",
       " ('pv-av-pa', 3),\n",
       " ('pr-or-au', 3),\n",
       " ('po-pr-or', 3),\n",
       " ('ci-pv-ce', 3),\n",
       " ('ki-co-ba', 2),\n",
       " ('ra-ci-pv', 2),\n",
       " ('ki-ki-co', 2),\n",
       " ('ki-co-ra', 2),\n",
       " ('ra-po-ce', 2),\n",
       " ('av-ba-an', 2),\n",
       " ('co-ba-ci', 2),\n",
       " ('ra-po-pr', 2),\n",
       " ('ce-ki-co', 2),\n",
       " ('ce-ki-ce', 2),\n",
       " ('pa-ci-pv', 2),\n",
       " ('pr-ki-ki', 2),\n",
       " ('ba-co-ba', 2),\n",
       " ('av-pa-ci', 2),\n",
       " ('pr-po-pr', 2),\n",
       " ('ci-co-ba', 1),\n",
       " ('ce-av-ci', 1),\n",
       " ('pr-co-ba', 1),\n",
       " ('pv-ce-ra', 1),\n",
       " ('pa-pa-ci', 1),\n",
       " ('ba-po-pr', 1),\n",
       " ('an-ba-an', 1),\n",
       " ('pv-ce-an', 1),\n",
       " ('ba-an-an', 1),\n",
       " ('ba-pr-or', 1),\n",
       " ('ce-ba-co', 1),\n",
       " ('co-pv-av', 1),\n",
       " ('pr-or-ba', 1),\n",
       " ('ba-ra-po', 1),\n",
       " ('po-pr-po', 1),\n",
       " ('pa-ci-co', 1),\n",
       " ('au-ki-co', 1),\n",
       " ('or-au-ki', 1),\n",
       " ('ba-ci-pa', 1),\n",
       " ('po-pr-co', 1),\n",
       " ('ra-an-co', 1),\n",
       " ('or-au-ce', 1),\n",
       " ('ra-ra-ci', 1),\n",
       " ('ba-co-pa', 1),\n",
       " ('an-ra-or', 1),\n",
       " ('co-ba-ce', 1),\n",
       " ('ce-pv-or', 1),\n",
       " ('ki-ce-ba', 1),\n",
       " ('ki-ci-ba', 1),\n",
       " ('ce-ra-an', 1),\n",
       " ('ci-po-pr', 1),\n",
       " ('an-ra-ce', 1),\n",
       " ('an-ra-co', 1),\n",
       " ('an-pr-ki', 1),\n",
       " ('ci-pa-pa', 1),\n",
       " ('ki-co-ki', 1),\n",
       " ('ce-co-av', 1),\n",
       " ('co-ra-or', 1),\n",
       " ('ra-co-ba', 1),\n",
       " ('co-ra-ra', 1),\n",
       " ('po-pr-ki', 1),\n",
       " ('pv-or-or', 1),\n",
       " ('ci-ba-co', 1),\n",
       " ('an-co-ba', 1),\n",
       " ('au-an-ki', 1),\n",
       " ('ki-ra-ra', 1),\n",
       " ('po-ce-ki', 1),\n",
       " ('pv-ba-pr', 1),\n",
       " ('or-au-pr', 1),\n",
       " ('ci-pv-ba', 1),\n",
       " ('ba-an-ba', 1),\n",
       " ('po-ce-co', 1),\n",
       " ('au-ce-ki', 1),\n",
       " ('co-ki-ra', 1),\n",
       " ('ra-pv-ce', 1),\n",
       " ('ce-ki-pv', 1),\n",
       " ('ra-ra-pv', 1),\n",
       " ('co-av-ba', 1),\n",
       " ('or-ki-co', 1),\n",
       " ('ci-pv-av', 1),\n",
       " ('ce-po-pr', 1),\n",
       " ('or-ba-ra', 1),\n",
       " ('an-ki-or', 1),\n",
       " ('pr-av-ba', 1),\n",
       " ('ba-ci-au', 1),\n",
       " ('po-pr-av', 1),\n",
       " ('av-ki-ci', 1),\n",
       " ('pa-ci-po', 1),\n",
       " ('co-ba-po', 1),\n",
       " ('or-ra-ci', 1),\n",
       " ('au-pr-po', 1),\n",
       " ('pa-co-pv', 1),\n",
       " ('ce-ce-po', 1),\n",
       " ('ra-ce-pv', 1),\n",
       " ('co-pa-ci', 1),\n",
       " ('co-ba-co', 1),\n",
       " ('ci-au-an', 1),\n",
       " ('or-or-ki', 1),\n",
       " ('ki-pv-av', 1),\n",
       " ('ce-an-ra', 1),\n",
       " ('co-pv-ce', 1),\n",
       " ('au-an-ra', 1),\n",
       " ('av-ci-pv', 1),\n",
       " ('ki-co-pv', 1),\n",
       " ('av-pa-co', 1),\n",
       " ('ki-or-au', 1),\n",
       " ('an-an-pr', 1),\n",
       " ('or-au-av', 1),\n",
       " ('ba-ce-ce', 1),\n",
       " ('ki-ce-av', 1),\n",
       " ('or-au-an', 1),\n",
       " ('ra-or-au', 1),\n",
       " ('ra-or-ra', 1)]"
      ]
     },
     "execution_count": 96,
     "metadata": {},
     "output_type": "execute_result"
    }
   ],
   "source": [
    "ngrams(3)"
   ]
  },
  {
   "cell_type": "code",
   "execution_count": 99,
   "metadata": {},
   "outputs": [],
   "source": [
    "def chunks(lst, n):\n",
    "    \"\"\"Yield successive n-sized chunks from lst.\"\"\"\n",
    "    for i in xrange(0, len(lst), n):\n",
    "        yield lst[i:i + n]"
   ]
  },
  {
   "cell_type": "code",
   "execution_count": 102,
   "metadata": {},
   "outputs": [
    {
     "name": "stdout",
     "output_type": "stream",
     "text": [
      "av-ki-ci-ba-co-pa-ci-pv-av-pa-co-pv-ce-an-ra-co-ba-ce-ce-po-pr-ki-ki-co-pv\n",
      "av-pa-ci-po-pr-av-ba-an-ra-or-au-an-ra-po-ce-co-av-ba-an-ra-ce-pv-or-or-ki\n",
      "co-ba-ci-au-an-ki-or-au-ce-ki-pv-av-pa-ci-co-ba-po-pr-or-au-ki-co-ba-ci-pa\n",
      "pa-ci-pv-ce-ra-an-co-ba-an-an-pr-ki-ki-co-ki-ra-ra-ci-pv-ce-ki-ce-av-ci-pv\n",
      "ce-ki-co-ra-ra-pv-ce-ki-ce-ba-co-ba-co-ba-an-ba-an-ra-po-pr-po-pr-or-au-pr\n",
      "po-pr-or-ba-ra-po-pr-co-ba-an-ra-po-ce-ki-co-ra-or-ra-ci-pv-ba-pr-or-au-av\n"
     ]
    }
   ],
   "source": [
    "for c in chunks(texte,25):\n",
    "    print \"-\".join(c)"
   ]
  }
 ],
 "metadata": {
  "kernelspec": {
   "display_name": "Python (py27)",
   "language": "python",
   "name": "py27"
  },
  "language_info": {
   "codemirror_mode": {
    "name": "ipython",
    "version": 2
   },
   "file_extension": ".py",
   "mimetype": "text/x-python",
   "name": "python",
   "nbconvert_exporter": "python",
   "pygments_lexer": "ipython2",
   "version": "2.7.16"
  }
 },
 "nbformat": 4,
 "nbformat_minor": 2
}
