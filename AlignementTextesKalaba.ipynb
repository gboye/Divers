{
 "cells": [
  {
   "cell_type": "code",
   "execution_count": 50,
   "metadata": {
    "collapsed": true
   },
   "outputs": [],
   "source": [
    "import codecs, re, string"
   ]
  },
  {
   "cell_type": "code",
   "execution_count": 51,
   "metadata": {
    "collapsed": false
   },
   "outputs": [],
   "source": [
    "texteNom=\"/Users/gilles/ownCloud/Cours/Bordeaux/L1-LinguistiqueGenerale/Kalaba-Project/phrases.txt\"\n",
    "texteFichier=codecs.open(texteNom,\"r\",encoding=\"utf8\")\n",
    "texteLignes=[l.strip() for l in texteFichier.readlines()]"
   ]
  },
  {
   "cell_type": "code",
   "execution_count": 52,
   "metadata": {
    "collapsed": true
   },
   "outputs": [],
   "source": [
    "phrasesNom=\"/Users/gilles/ownCloud/Cours/Bordeaux/L1-LinguistiqueGenerale/Kalaba-Project/16-K5/phrases.csv\"\n",
    "phrasesFichier=codecs.open(phrasesNom,\"r\",encoding=\"utf8\")\n",
    "phrasesLignes=[\" \".join(l.strip().split(\"\\t\")) for l in phrasesFichier.readlines()]"
   ]
  },
  {
   "cell_type": "code",
   "execution_count": 53,
   "metadata": {
    "collapsed": true
   },
   "outputs": [],
   "source": [
    "def enlevePonctuation(phrase):\n",
    "    return \" \".join([mot.lower().strip(string.punctuation) for mot in phrase.split()])\n",
    "    "
   ]
  },
  {
   "cell_type": "code",
   "execution_count": 186,
   "metadata": {
    "collapsed": true
   },
   "outputs": [],
   "source": [
    "def compareMots(phrase1,phrase2):\n",
    "    phrase1=enlevePonctuation(phrase1)\n",
    "    phrase2=enlevePonctuation(phrase2)\n",
    "    mots1=re.split(u\"\\s+\",phrase1)\n",
    "    mots2=re.split(u\"\\s+\",phrase2)\n",
    "    if mots1==mots2:\n",
    "#        print phrase1\n",
    "        return True\n",
    "    else:\n",
    "#        print mots1, mots2\n",
    "        return False"
   ]
  },
  {
   "cell_type": "code",
   "execution_count": 55,
   "metadata": {
    "collapsed": false
   },
   "outputs": [
    {
     "name": "stdout",
     "output_type": "stream",
     "text": [
      "True\n"
     ]
    },
    {
     "data": {
      "text/plain": [
       "(u\"Kaleb \\xe9tait le chef d'un petit village de for\\xeat\",\n",
       " u\"Kaleb \\xe9tait le chef d'un petit village de for\\xeat.\")"
      ]
     },
     "execution_count": 55,
     "metadata": {},
     "output_type": "execute_result"
    }
   ],
   "source": [
    "print compareMots(phrasesLignes[0],texteLignes[0])\n",
    "phrasesLignes[0],texteLignes[0]"
   ]
  },
  {
   "cell_type": "code",
   "execution_count": 192,
   "metadata": {
    "collapsed": false
   },
   "outputs": [
    {
     "name": "stdout",
     "output_type": "stream",
     "text": [
      "5 Cette ombre rouge et noire était un démon.\n",
      "19 Le démon jette un sort aux deux filles.\n",
      "48 Les hommes jettent des lances aux loups.\n",
      "55 Dans la nuit suivante, les hommes prennent les lances.\n",
      "56 Le courageux Kaleb parle aux combattant.\n",
      "58 Au village, Violette cherche Mahira.\n",
      "59 Deux cris de loups tombent sur le village.\n",
      "75 Le démon donne à la cheffe des loups une grande colère.\n",
      "79 Violette parlait à des petits enfants devant la maison.\n",
      "83 Deux enfants rejoignent Violette vers la foret.\n",
      "95 La louve blanche sort d'entre deux arbres.\n",
      "108 Le loup noir va vers les deux courageux combattants.\n",
      "109 Le villageois jette une lance aux deux loups.\n",
      "135 Une lance disparait dans le corps de la chef des loups.\n"
     ]
    }
   ],
   "source": [
    "for nt,texte in enumerate(texteLignes):\n",
    "    i=0\n",
    "    while i<len(phrasesLignes) and not compareMots(texte,phrasesLignes[i]):\n",
    "        i+=1\n",
    "    if i<len(phrasesLignes) and compareMots(texte,phrasesLignes[i]):\n",
    "#            print nt\n",
    "            pass\n",
    "    else:\n",
    "        print nt, texte\n"
   ]
  },
  {
   "cell_type": "code",
   "execution_count": 181,
   "metadata": {
    "collapsed": false
   },
   "outputs": [
    {
     "data": {
      "text/plain": [
       "2"
      ]
     },
     "execution_count": 181,
     "metadata": {},
     "output_type": "execute_result"
    }
   ],
   "source": [
    "noPhrase=set([5,19])\n",
    "len(noPhrase)"
   ]
  },
  {
   "cell_type": "code",
   "execution_count": 184,
   "metadata": {
    "collapsed": false
   },
   "outputs": [
    {
     "name": "stdout",
     "output_type": "stream",
     "text": [
      "-2\n",
      "-1\n",
      "kaleb était le chef d'un petit village de forêt\n",
      "mahira était la grande sœur de kaleb\n",
      "violette était la fille de kaleb\n",
      "mahira chassait dans la forêt avec la fille de kaleb\n",
      "les deux filles virent une grande ombre\n",
      "5\n",
      "le terrible démon dévorait un villageois derrière un arbre\n",
      "les deux filles effrayées fuient devant le corps de ce villageois\n",
      "ces deux filles courent vers le village\n",
      "le démon furieux voit les deux filles\n",
      "le grand loup blanc du démon chasse les deux villageoises\n",
      "la petite fille tombe\n",
      "le loup blanc court vers cette petite fille\n",
      "la courageuse mahira protège violette avec un couteau\n",
      "ce couteau protège le visage de mahira\n",
      "le grand loup plante les crocs dans la main de mahira\n",
      "le loup prend un profond coup de couteau dans la gorge\n",
      "cette profonde blessure donne la mort à ce grand loup blanc\n",
      "une profonde colère envahit le visage rouge du démon\n",
      "19\n",
      "20\n",
      "21\n",
      "22\n",
      "23\n",
      "24\n",
      "25\n",
      "26\n",
      "27\n",
      "28\n",
      "29\n",
      "30\n",
      "31\n",
      "32\n",
      "33\n",
      "34\n",
      "35\n",
      "36\n",
      "37\n",
      "38\n",
      "39\n",
      "40\n",
      "41\n",
      "42\n",
      "43\n",
      "44\n",
      "45\n",
      "46\n",
      "47\n",
      "48\n",
      "49\n",
      "50\n",
      "51\n",
      "52\n",
      "53\n",
      "54\n",
      "55\n",
      "56\n",
      "57\n",
      "58\n",
      "59\n",
      "60\n",
      "61\n",
      "62\n",
      "63\n",
      "64\n",
      "65\n",
      "66\n",
      "67\n",
      "68\n",
      "69\n",
      "70\n",
      "71\n",
      "72\n",
      "73\n",
      "74\n",
      "75\n",
      "76\n",
      "77\n",
      "78\n",
      "79\n",
      "80\n",
      "81\n",
      "82\n",
      "83\n",
      "84\n",
      "85\n",
      "86\n",
      "87\n",
      "88\n",
      "89\n",
      "90\n",
      "91\n",
      "92\n",
      "93\n",
      "94\n",
      "95\n",
      "96\n",
      "97\n",
      "98\n",
      "99\n",
      "100\n",
      "101\n",
      "102\n",
      "103\n",
      "104\n",
      "105\n",
      "106\n",
      "107\n",
      "108\n",
      "109\n",
      "110\n",
      "111\n",
      "112\n",
      "113\n",
      "114\n",
      "115\n",
      "116\n",
      "117\n",
      "118\n",
      "119\n",
      "120\n",
      "121\n",
      "122\n",
      "123\n",
      "124\n",
      "125\n",
      "126\n",
      "127\n",
      "128\n",
      "129\n",
      "130\n",
      "131\n",
      "132\n",
      "133\n",
      "134\n",
      "135\n",
      "136\n",
      "137\n",
      "138\n",
      "139\n",
      "140\n",
      "141\n",
      "142\n",
      "143\n",
      "144\n",
      "145\n",
      "146\n",
      "147\n",
      "148\n",
      "20 Une lueur rouge recouvre les deux filles.\n"
     ]
    },
    {
     "ename": "IndexError",
     "evalue": "list index out of range",
     "output_type": "error",
     "traceback": [
      "\u001b[0;31m---------------------------------------------------------------------------\u001b[0m",
      "\u001b[0;31mIndexError\u001b[0m                                Traceback (most recent call last)",
      "\u001b[0;32m<ipython-input-184-4e563b1a3bbc>\u001b[0m in \u001b[0;36m<module>\u001b[0;34m()\u001b[0m\n\u001b[1;32m      2\u001b[0m \u001b[0;32mfor\u001b[0m \u001b[0mnum\u001b[0m\u001b[0;34m,\u001b[0m\u001b[0mphrase\u001b[0m \u001b[0;32min\u001b[0m \u001b[0menumerate\u001b[0m\u001b[0;34m(\u001b[0m\u001b[0mtexteLignes\u001b[0m\u001b[0;34m)\u001b[0m\u001b[0;34m:\u001b[0m\u001b[0;34m\u001b[0m\u001b[0m\n\u001b[1;32m      3\u001b[0m     \u001b[0;32mif\u001b[0m \u001b[0;32mnot\u001b[0m \u001b[0mnum\u001b[0m \u001b[0;32min\u001b[0m \u001b[0mnoPhrase\u001b[0m\u001b[0;34m:\u001b[0m\u001b[0;34m\u001b[0m\u001b[0m\n\u001b[0;32m----> 4\u001b[0;31m         \u001b[0;32mwhile\u001b[0m \u001b[0;32mnot\u001b[0m \u001b[0mcompareMots\u001b[0m\u001b[0;34m(\u001b[0m\u001b[0mphrase\u001b[0m\u001b[0;34m,\u001b[0m\u001b[0mphrasesLignes\u001b[0m\u001b[0;34m[\u001b[0m\u001b[0mnum\u001b[0m\u001b[0;34m+\u001b[0m\u001b[0mi\u001b[0m\u001b[0;34m-\u001b[0m\u001b[0mlen\u001b[0m\u001b[0;34m(\u001b[0m\u001b[0mnoPhrase\u001b[0m\u001b[0;34m)\u001b[0m\u001b[0;34m]\u001b[0m\u001b[0;34m)\u001b[0m\u001b[0;34m:\u001b[0m\u001b[0;34m\u001b[0m\u001b[0m\n\u001b[0m\u001b[1;32m      5\u001b[0m             \u001b[0;32mprint\u001b[0m \u001b[0mnum\u001b[0m\u001b[0;34m+\u001b[0m\u001b[0mi\u001b[0m\u001b[0;34m-\u001b[0m\u001b[0mlen\u001b[0m\u001b[0;34m(\u001b[0m\u001b[0mnoPhrase\u001b[0m\u001b[0;34m)\u001b[0m\u001b[0;34m\u001b[0m\u001b[0m\n\u001b[1;32m      6\u001b[0m             \u001b[0mi\u001b[0m\u001b[0;34m+=\u001b[0m\u001b[0;36m1\u001b[0m\u001b[0;34m\u001b[0m\u001b[0m\n",
      "\u001b[0;31mIndexError\u001b[0m: list index out of range"
     ]
    }
   ],
   "source": [
    "i=0\n",
    "for num,phrase in enumerate(texteLignes):\n",
    "    if not num in noPhrase:\n",
    "        while not compareMots(phrase,phrasesLignes[num+i-len(noPhrase)]):\n",
    "            print num+i-len(noPhrase)\n",
    "            i+=1\n",
    "            if num+i-len(noPhrase)>=len(phrasesLignes):\n",
    "                print num, phrase\n",
    "    else:\n",
    "        print num"
   ]
  },
  {
   "cell_type": "code",
   "execution_count": 152,
   "metadata": {
    "collapsed": true
   },
   "outputs": [],
   "source": [
    "ignorePhrase=set([5,47,54,56])"
   ]
  },
  {
   "cell_type": "code",
   "execution_count": 153,
   "metadata": {
    "collapsed": false
   },
   "outputs": [
    {
     "name": "stdout",
     "output_type": "stream",
     "text": [
      "[u'une', u'lueur', u'rouge', u'recouvre', u'les', u'deux', u'filles'] [u'le', u'd\\xe9mon', u'jette', u'un', u'sort', u'aux', u'deux', u'filles']\n",
      "[u'les', u'hommes', u'vont', u'dans', u'la', u'for\\xeat'] [u'le', u'courageux', u'kaleb', u'parle', u'aux', u'combattant']\n",
      "[u'deux', u'cris', u'de', u'loup', u'tombent', u'sur', u'le', u'village'] [u'deux', u'cris', u'de', u'loups', u'tombent', u'sur', u'le', u'village']\n",
      "[u'deux', u'cris', u'de', u'loup', u'tombent', u'sur', u'le', u'village'] [u'les', u'enfants', u'effray\\xe9s', u'vont', u'dans', u'une', u'maison', u'du', u'village', u'avec', u'les', u'courageuses', u'villageoises']\n",
      "[u'deux', u'cris', u'de', u'loup', u'tombent', u'sur', u'le', u'village'] [u'les', u'villageois', u'fuyaient', u'vers', u'le', u'village']\n",
      "[u'deux', u'cris', u'de', u'loup', u'tombent', u'sur', u'le', u'village'] [u'une', u'blessure', u'recouvrait', u'le', u'visage', u\"d'un\", u'combattant']\n",
      "[u'deux', u'cris', u'de', u'loup', u'tombent', u'sur', u'le', u'village'] [u'deux', u'villageoises', u'courent', u'vers', u'cet', u'homme', u'bless\\xe9']\n",
      "[u'deux', u'cris', u'de', u'loup', u'tombent', u'sur', u'le', u'village'] [u'kaleb', u'rejoint', u'violette']\n",
      "[u'deux', u'cris', u'de', u'loup', u'tombent', u'sur', u'le', u'village'] [u'les', u'villageois', u'poussent', u'les', u'enfants', u'dans', u'les', u'maisons']\n",
      "[u'deux', u'cris', u'de', u'loup', u'tombent', u'sur', u'le', u'village'] [u'les', u'nuits', u'passaient']\n",
      "[u'deux', u'cris', u'de', u'loup', u'tombent', u'sur', u'le', u'village'] [u'les', u'combats', u'suivants', u'apport\\xe8rent', u'des', u'morts', u'au', u'village']\n",
      "[u'deux', u'cris', u'de', u'loup', u'tombent', u'sur', u'le', u'village'] [u'les', u'loups', u'noirs', u'apportent', u'deux', u'corps', u'de', u'villageois', u'\\xe0', u'la', u'louve', u'blanche', u'dans', u'la', u'for\\xeat']\n",
      "[u'deux', u'cris', u'de', u'loup', u'tombent', u'sur', u'le', u'village'] [u'la', u'grande', u'louve', u'apporte', u'ces', u'deux', u'corps', u'au', u'd\\xe9mon']\n",
      "[u'deux', u'cris', u'de', u'loup', u'tombent', u'sur', u'le', u'village'] [u'le', u'd\\xe9mon', u'jette', u'un', u'sort', u'aux', u'morts']\n",
      "[u'deux', u'cris', u'de', u'loup', u'tombent', u'sur', u'le', u'village'] [u'le', u'sort', u'donne', u'une', u'lueur', u'rouge', u'aux', u'deux', u'villageois']\n",
      "[u'deux', u'cris', u'de', u'loup', u'tombent', u'sur', u'le', u'village'] [u'les', u'deux', u'corps', u'disparaissent']\n",
      "[u'deux', u'cris', u'de', u'loup', u'tombent', u'sur', u'le', u'village'] [u'le', u'd\\xe9mon', u'parla', u'\\xe0', u'mahira']\n",
      "[u'deux', u'cris', u'de', u'loup', u'tombent', u'sur', u'le', u'village'] [u'le', u'sort', u'cherche', u'un', u'corps', u'diff\\xe9rent']\n",
      "[u'deux', u'cris', u'de', u'loup', u'tombent', u'sur', u'le', u'village'] [u'le', u'd\\xe9mon', u'donne', u'\\xe0', u'la', u'cheffe', u'des', u'loups', u'une', u'grande', u'col\\xe8re']\n",
      "[u'deux', u'cris', u'de', u'loup', u'tombent', u'sur', u'le', u'village'] [u'la', u'nuit', u'approchait']\n",
      "[u'deux', u'cris', u'de', u'loup', u'tombent', u'sur', u'le', u'village'] [u'les', u'combattants', u'courageux', u'allaient', u'vers', u'la', u'for\\xeat', u'des', u'loups']\n",
      "[u'deux', u'cris', u'de', u'loup', u'tombent', u'sur', u'le', u'village'] [u'les', u'enfants', u'rejoignaient', u'la', u'grande', u'maison', u'avec', u'les', u'villageoises']\n",
      "[u'deux', u'cris', u'de', u'loup', u'tombent', u'sur', u'le', u'village'] [u'violette', u'parlait', u'\\xe0', u'des', u'petits', u'enfants', u'devant', u'la', u'maison']\n",
      "[u'deux', u'cris', u'de', u'loup', u'tombent', u'sur', u'le', u'village'] [u'la', u'petite', u'fille', u'voit', u'une', u'ombre', u'entre', u'les', u'arbres']\n",
      "[u'deux', u'cris', u'de', u'loup', u'tombent', u'sur', u'le', u'village'] [u'mahira', u'disparaissait', u'dans', u'la', u'for\\xeat', u'profonde']\n",
      "[u'deux', u'cris', u'de', u'loup', u'tombent', u'sur', u'le', u'village'] [u'violette', u'court', u'vers', u'mahira']\n",
      "[u'deux', u'cris', u'de', u'loup', u'tombent', u'sur', u'le', u'village'] [u'deux', u'enfants', u'rejoignent', u'violette', u'vers', u'la', u'foret']\n",
      "[u'deux', u'cris', u'de', u'loup', u'tombent', u'sur', u'le', u'village'] [u'une', u'villageoise', u'effray\\xe9e', u'pousse', u'un', u'cri']\n",
      "[u'deux', u'cris', u'de', u'loup', u'tombent', u'sur', u'le', u'village'] [u'violette', u'fuit']\n",
      "[u'deux', u'cris', u'de', u'loup', u'tombent', u'sur', u'le', u'village'] [u'cette', u'villageoise', u'prend', u'la', u'main', u'aux', u'deux', u'petits', u'enfants']\n",
      "[u'deux', u'cris', u'de', u'loup', u'tombent', u'sur', u'le', u'village'] [u'la', u'villageoise', u'va', u'dans', u'la', u'maison', u'avec', u\"l'enfant\"]\n",
      "[u'deux', u'cris', u'de', u'loup', u'tombent', u'sur', u'le', u'village'] [u'violette', u'cherchait', u'mahira', u'dans', u'la', u'for\\xeat']\n",
      "[u'deux', u'cris', u'de', u'loup', u'tombent', u'sur', u'le', u'village'] [u'deux', u'loups', u'noirs', u'approchaient']\n",
      "[u'deux', u'cris', u'de', u'loup', u'tombent', u'sur', u'le', u'village'] [u'violette', u'voit', u'ces', u'deux', u'loups', u'dans', u'la', u'nuit', u'noire']\n",
      "[u'deux', u'cris', u'de', u'loup', u'tombent', u'sur', u'le', u'village'] [u'la', u'petite', u'fille', u'fuit', u'vers', u'les', u'lueurs', u'du', u'village']\n",
      "[u'deux', u'cris', u'de', u'loup', u'tombent', u'sur', u'le', u'village'] [u'les', u'deux', u'terribles', u'loups', u'chassent', u'violette']\n",
      "[u'deux', u'cris', u'de', u'loup', u'tombent', u'sur', u'le', u'village'] [u'le', u'petit', u'loup', u'plante', u'des', u'crocs', u'dans', u'la', u'fille']\n",
      "[u'deux', u'cris', u'de', u'loup', u'tombent', u'sur', u'le', u'village'] [u'le', u'loup', u'suivant', u'approche']\n",
      "[u'deux', u'cris', u'de', u'loup', u'tombent', u'sur', u'le', u'village'] [u'la', u'louve', u'blanche', u'sort', u\"d'entre\", u'deux', u'arbres']\n",
      "[u'deux', u'cris', u'de', u'loup', u'tombent', u'sur', u'le', u'village'] [u'la', u'cheffe', u'des', u'loups', u'prot\\xe8ge', u'la', u'petite', u'fille', u'bless\\xe9e']\n",
      "[u'deux', u'cris', u'de', u'loup', u'tombent', u'sur', u'le', u'village'] [u'le', u'petit', u'loup', u'noir', u'approche', u'de', u'la', u'louve']\n",
      "[u'deux', u'cris', u'de', u'loup', u'tombent', u'sur', u'le', u'village'] [u'le', u'petit', u'loup', u'saute', u'sur', u'la', u'cheffe', u'des', u'loups']\n",
      "[u'deux', u'cris', u'de', u'loup', u'tombent', u'sur', u'le', u'village'] [u'la', u'louve', u'saute', u'vers', u'ce', u'combattant']\n",
      "[u'deux', u'cris', u'de', u'loup', u'tombent', u'sur', u'le', u'village'] [u'les', u'crocs', u'de', u'la', u'cheffe', u'transpercent', u'la', u'gorge', u'de', u'ce', u'petit', u'loup']\n",
      "[u'deux', u'cris', u'de', u'loup', u'tombent', u'sur', u'le', u'village'] [u'le', u'corps', u'du', u'loup', u'tombe']\n",
      "[u'deux', u'cris', u'de', u'loup', u'tombent', u'sur', u'le', u'village'] [u'la', u'grande', u'louve', u'prend', u'violette', u'entre', u'les', u'crocs']\n",
      "[u'deux', u'cris', u'de', u'loup', u'tombent', u'sur', u'le', u'village'] [u'la', u'louve', u'fuit', u'avec', u'cette', u'petite', u'fille', u'entre', u'les', u'crocs']\n",
      "[u'deux', u'cris', u'de', u'loup', u'tombent', u'sur', u'le', u'village'] [u'le', u'loup', u'noir', u'suivant', u'court', u'apr\\xe8s', u'la', u'louve']\n",
      "[u'deux', u'cris', u'de', u'loup', u'tombent', u'sur', u'le', u'village'] [u'la', u'petite', u'violette', u'pousse', u'de', u'terribles', u'cris', u'dans', u'la', u'nuit', u'noire']\n",
      "[u'deux', u'cris', u'de', u'loup', u'tombent', u'sur', u'le', u'village'] [u'kaleb', u'court', u'vers', u'ce', u'cri', u'avec', u'un', u'combattant', u'du', u'village']\n",
      "[u'deux', u'cris', u'de', u'loup', u'tombent', u'sur', u'le', u'village'] [u'kaleb', u'voit', u'une', u'louve', u'avec', u'une', u'fille', u'entre', u'les', u'crocs']\n",
      "[u'deux', u'cris', u'de', u'loup', u'tombent', u'sur', u'le', u'village'] [u'le', u'loup', u'noir', u'va', u'vers', u'les', u'deux', u'courageux', u'combattants']\n",
      "[u'deux', u'cris', u'de', u'loup', u'tombent', u'sur', u'le', u'village'] [u'le', u'villageois', u'jette', u'une', u'lance', u'aux', u'deux', u'loups']\n",
      "[u'deux', u'cris', u'de', u'loup', u'tombent', u'sur', u'le', u'village'] [u'la', u'lance', u'transperce', u'un', u'arbre']\n",
      "[u'deux', u'cris', u'de', u'loup', u'tombent', u'sur', u'le', u'village'] [u'la', u'louve', u'jette', u'violette']\n",
      "[u'deux', u'cris', u'de', u'loup', u'tombent', u'sur', u'le', u'village'] [u'violette', u'tombe', u'sur', u'un', u'arbre']\n",
      "[u'deux', u'cris', u'de', u'loup', u'tombent', u'sur', u'le', u'village'] [u'le', u'chef', u'du', u'village', u'prend', u'une', u'lance']\n",
      "[u'deux', u'cris', u'de', u'loup', u'tombent', u'sur', u'le', u'village'] [u'kaleb', u'jette', u'cette', u'lance', u'vers', u'la', u'louve']\n",
      "[u'deux', u'cris', u'de', u'loup', u'tombent', u'sur', u'le', u'village'] [u'cette', u'lance', u'transperce', u'le', u'corps', u'blanc', u'de', u'la', u'louve']\n",
      "[u'deux', u'cris', u'de', u'loup', u'tombent', u'sur', u'le', u'village'] [u'le', u'loup', u'noir', u'saute', u'sur', u'le', u'combattant']\n",
      "[u'deux', u'cris', u'de', u'loup', u'tombent', u'sur', u'le', u'village'] [u'le', u'combattant', u'tombe', u'avec', u'le', u'loup']\n",
      "[u'deux', u'cris', u'de', u'loup', u'tombent', u'sur', u'le', u'village'] [u\"l'homme\", u'plante', u'un', u'couteau', u'dans', u'le', u'corps', u'du', u'loup']\n",
      "[u'deux', u'cris', u'de', u'loup', u'tombent', u'sur', u'le', u'village'] [u'le', u'loup', u'noir', u'plante', u'les', u'crocs', u'dans', u'la', u'gorge', u'de', u'cet', u'homme']\n",
      "[u'deux', u'cris', u'de', u'loup', u'tombent', u'sur', u'le', u'village'] [u'les', u'deux', u'combattants', u'disparaissent', u'dans', u'la', u'mort']\n",
      "[u'deux', u'cris', u'de', u'loup', u'tombent', u'sur', u'le', u'village'] [u'kaleb', u'prend', u'un', u'couteau']\n",
      "[u'deux', u'cris', u'de', u'loup', u'tombent', u'sur', u'le', u'village'] [u'le', u'chef', u'des', u'combattants', u'approche', u'de', u'la', u'louve']\n",
      "[u'deux', u'cris', u'de', u'loup', u'tombent', u'sur', u'le', u'village'] [u'la', u'louve', u'plante', u'les', u'crocs', u'dans', u'la', u'main', u'de', u'kaleb']\n",
      "[u'deux', u'cris', u'de', u'loup', u'tombent', u'sur', u'le', u'village'] [u'les', u'crocs', u'de', u'la', u'louve', u'donnent', u'une', u'blessure', u'profonde', u'au', u'villageois']\n",
      "[u'deux', u'cris', u'de', u'loup', u'tombent', u'sur', u'le', u'village'] [u'le', u'couteau', u'tombe']\n",
      "[u'deux', u'cris', u'de', u'loup', u'tombent', u'sur', u'le', u'village'] [u'la', u'louve', u'pousse', u'ce', u'couteau']\n",
      "[u'deux', u'cris', u'de', u'loup', u'tombent', u'sur', u'le', u'village'] [u'kaleb', u'prend', u'la', u'lance', u'sur', u\"l'arbre\"]\n",
      "[u'deux', u'cris', u'de', u'loup', u'tombent', u'sur', u'le', u'village'] [u'la', u'louve', u'bless\\xe9e', u'disparaissait', u'dans', u\"l'ombre\", u'des', u'arbres']\n",
      "[u'deux', u'cris', u'de', u'loup', u'tombent', u'sur', u'le', u'village'] [u'kaleb', u'court', u'vers', u'la', u'louve', u'avec', u'la', u'lance', u'dans', u'la', u'main']\n",
      "[u'deux', u'cris', u'de', u'loup', u'tombent', u'sur', u'le', u'village'] [u'kaleb', u'rejoint', u'cette', u'louve']\n",
      "[u'deux', u'cris', u'de', u'loup', u'tombent', u'sur', u'le', u'village'] [u'le', u'chef', u'des', u'villageois', u'donne', u'un', u'coup', u'\\xe0', u'la', u'louve']\n",
      "[u'deux', u'cris', u'de', u'loup', u'tombent', u'sur', u'le', u'village'] [u'la', u'louve', u'bless\\xe9e', u'tombe']\n",
      "[u'deux', u'cris', u'de', u'loup', u'tombent', u'sur', u'le', u'village'] [u'kaleb', u'prend', u'la', u'lance', u'sur', u'la', u'louve', u'bless\\xe9e']\n",
      "[u'deux', u'cris', u'de', u'loup', u'tombent', u'sur', u'le', u'village'] [u'le', u'villageois', u'furieux', u'plante', u'ces', u'deux', u'lances', u'dans', u'ce', u'corps', u'bless\\xe9']\n",
      "[u'deux', u'cris', u'de', u'loup', u'tombent', u'sur', u'le', u'village'] [u'une', u'lance', u'disparait', u'dans', u'le', u'corps', u'de', u'la', u'chef', u'des', u'loups']\n",
      "[u'deux', u'cris', u'de', u'loup', u'tombent', u'sur', u'le', u'village'] [u'la', u'lance', u'suivante', u'transperce', u'la', u'gorge', u'de', u'la', u'louve']\n",
      "[u'deux', u'cris', u'de', u'loup', u'tombent', u'sur', u'le', u'village'] [u'ces', u'blessures', u'profondes', u'donnent', u'la', u'mort', u'\\xe0', u'la', u'grande', u'louve']\n",
      "[u'deux', u'cris', u'de', u'loup', u'tombent', u'sur', u'le', u'village'] [u'kaleb', u'rejoint', u'violette', u'devant', u\"l'arbre\"]\n",
      "[u'deux', u'cris', u'de', u'loup', u'tombent', u'sur', u'le', u'village'] [u'les', u'deux', u'mains', u'de', u'kaleb', u'prennent', u'le', u'corps', u'rouge', u'de', u'la', u'petite', u'fille']\n",
      "[u'deux', u'cris', u'de', u'loup', u'tombent', u'sur', u'le', u'village'] [u'la', u'mort', u'prend', u'la', u'petite', u'fille']\n",
      "[u'deux', u'cris', u'de', u'loup', u'tombent', u'sur', u'le', u'village'] [u'violette', u'rejoint', u'la', u'grande', u'louve', u'blanche', u'dans', u'la', u'mort']\n",
      "[u'deux', u'cris', u'de', u'loup', u'tombent', u'sur', u'le', u'village'] [u'deux', u'lueurs', u'envahissent', u'la', u'for\\xeat', u'noire']\n",
      "[u'deux', u'cris', u'de', u'loup', u'tombent', u'sur', u'le', u'village'] [u'les', u'lueurs', u'blanches', u'recouvrent', u'le', u'corps', u'de', u'violette']\n",
      "[u'deux', u'cris', u'de', u'loup', u'tombent', u'sur', u'le', u'village'] [u'la', u'mort', u'de', u'violette', u'donne', u'une', u'lueur', u'rouge', u'au', u'corps', u'de', u'la', u'louve']\n",
      "[u'deux', u'cris', u'de', u'loup', u'tombent', u'sur', u'le', u'village'] [u'la', u'lueur', u'transforme', u'la', u'louve', u'devant', u'kaleb']\n",
      "[u'deux', u'cris', u'de', u'loup', u'tombent', u'sur', u'le', u'village'] [u'kaleb', u'voit', u'mahira', u'avec', u'deux', u'lances', u'dans', u'le', u'corps']\n",
      "[u'deux', u'cris', u'de', u'loup', u'tombent', u'sur', u'le', u'village'] [u'le', u'chef', u'des', u'villageois', u'tombe']\n",
      "[u'deux', u'cris', u'de', u'loup', u'tombent', u'sur', u'le', u'village'] [u'une', u'profonde', u'souffrance', u'envahit', u'le', u'combattant']\n",
      "[u'deux', u'cris', u'de', u'loup', u'tombent', u'sur', u'le', u'village'] [u'kaleb', u'pousse', u'un', u'cri']\n",
      "[u'deux', u'cris', u'de', u'loup', u'tombent', u'sur', u'le', u'village'] [u'la', u'lune', u'rouge', u'disparaissait', u'derri\\xe8re', u'les', u'arbres']\n"
     ]
    },
    {
     "ename": "IndexError",
     "evalue": "list index out of range",
     "output_type": "error",
     "traceback": [
      "\u001b[0;31m---------------------------------------------------------------------------\u001b[0m",
      "\u001b[0;31mIndexError\u001b[0m                                Traceback (most recent call last)",
      "\u001b[0;32m<ipython-input-153-37044cfa3cd6>\u001b[0m in \u001b[0;36m<module>\u001b[0;34m()\u001b[0m\n\u001b[1;32m      2\u001b[0m \u001b[0;32mfor\u001b[0m \u001b[0mnum\u001b[0m\u001b[0;34m,\u001b[0m\u001b[0mphrase\u001b[0m \u001b[0;32min\u001b[0m \u001b[0menumerate\u001b[0m\u001b[0;34m(\u001b[0m\u001b[0mphrasesLignes\u001b[0m\u001b[0;34m)\u001b[0m\u001b[0;34m:\u001b[0m\u001b[0;34m\u001b[0m\u001b[0m\n\u001b[1;32m      3\u001b[0m     \u001b[0;32mif\u001b[0m \u001b[0;32mnot\u001b[0m \u001b[0mnum\u001b[0m \u001b[0;32min\u001b[0m \u001b[0mignorePhrase\u001b[0m\u001b[0;34m:\u001b[0m\u001b[0;34m\u001b[0m\u001b[0m\n\u001b[0;32m----> 4\u001b[0;31m         \u001b[0;32mwhile\u001b[0m \u001b[0;32mnot\u001b[0m \u001b[0mcompareMots\u001b[0m\u001b[0;34m(\u001b[0m\u001b[0mphrase\u001b[0m\u001b[0;34m,\u001b[0m\u001b[0mtexteLignes\u001b[0m\u001b[0;34m[\u001b[0m\u001b[0mnum\u001b[0m\u001b[0;34m+\u001b[0m\u001b[0mi\u001b[0m\u001b[0;34m]\u001b[0m\u001b[0;34m)\u001b[0m\u001b[0;34m:\u001b[0m\u001b[0;34m\u001b[0m\u001b[0m\n\u001b[0m\u001b[1;32m      5\u001b[0m             \u001b[0mignorePhrase\u001b[0m\u001b[0;34m.\u001b[0m\u001b[0madd\u001b[0m\u001b[0;34m(\u001b[0m\u001b[0mnum\u001b[0m\u001b[0;34m)\u001b[0m\u001b[0;34m\u001b[0m\u001b[0m\n\u001b[1;32m      6\u001b[0m             \u001b[0mi\u001b[0m\u001b[0;34m+=\u001b[0m\u001b[0;36m1\u001b[0m\u001b[0;34m\u001b[0m\u001b[0m\n",
      "\u001b[0;31mIndexError\u001b[0m: list index out of range"
     ]
    }
   ],
   "source": [
    "i=0\n",
    "for num,phrase in enumerate(phrasesLignes):\n",
    "    if not num in ignorePhrase:\n",
    "        while not compareMots(phrase,texteLignes[num+i]):\n",
    "            ignorePhrase.add(num)\n",
    "            i+=1"
   ]
  },
  {
   "cell_type": "code",
   "execution_count": 151,
   "metadata": {
    "collapsed": false
   },
   "outputs": [
    {
     "data": {
      "text/plain": [
       "{5,\n",
       " 19,\n",
       " 20,\n",
       " 21,\n",
       " 22,\n",
       " 23,\n",
       " 24,\n",
       " 25,\n",
       " 26,\n",
       " 27,\n",
       " 28,\n",
       " 29,\n",
       " 30,\n",
       " 31,\n",
       " 32,\n",
       " 33,\n",
       " 34,\n",
       " 35,\n",
       " 36,\n",
       " 37,\n",
       " 38,\n",
       " 39,\n",
       " 40,\n",
       " 41,\n",
       " 42,\n",
       " 43,\n",
       " 44,\n",
       " 45,\n",
       " 46,\n",
       " 47,\n",
       " 48,\n",
       " 49,\n",
       " 50,\n",
       " 51,\n",
       " 52,\n",
       " 53,\n",
       " 54,\n",
       " 55,\n",
       " 56,\n",
       " 57,\n",
       " 58,\n",
       " 59,\n",
       " 60,\n",
       " 61,\n",
       " 62,\n",
       " 63,\n",
       " 64,\n",
       " 65,\n",
       " 66,\n",
       " 67,\n",
       " 68,\n",
       " 69,\n",
       " 70,\n",
       " 71,\n",
       " 72,\n",
       " 73,\n",
       " 74,\n",
       " 75,\n",
       " 76,\n",
       " 77,\n",
       " 78,\n",
       " 79,\n",
       " 80,\n",
       " 81,\n",
       " 82,\n",
       " 83,\n",
       " 84,\n",
       " 85,\n",
       " 86,\n",
       " 87,\n",
       " 88,\n",
       " 89,\n",
       " 90,\n",
       " 91,\n",
       " 92,\n",
       " 93,\n",
       " 94,\n",
       " 95,\n",
       " 96,\n",
       " 97,\n",
       " 98,\n",
       " 99,\n",
       " 100,\n",
       " 101,\n",
       " 102,\n",
       " 103,\n",
       " 104,\n",
       " 105,\n",
       " 106,\n",
       " 107,\n",
       " 108,\n",
       " 109,\n",
       " 110,\n",
       " 111,\n",
       " 112,\n",
       " 113,\n",
       " 114,\n",
       " 115,\n",
       " 116,\n",
       " 117,\n",
       " 118,\n",
       " 119,\n",
       " 120,\n",
       " 121,\n",
       " 122,\n",
       " 123,\n",
       " 124,\n",
       " 125,\n",
       " 126,\n",
       " 127,\n",
       " 128,\n",
       " 129,\n",
       " 130,\n",
       " 131,\n",
       " 132,\n",
       " 133,\n",
       " 134,\n",
       " 135,\n",
       " 136,\n",
       " 137,\n",
       " 138,\n",
       " 139,\n",
       " 140,\n",
       " 141,\n",
       " 142,\n",
       " 143,\n",
       " 144,\n",
       " 145,\n",
       " 146,\n",
       " 147,\n",
       " 148}"
      ]
     },
     "execution_count": 151,
     "metadata": {},
     "output_type": "execute_result"
    }
   ],
   "source": [
    "ignorePhrase"
   ]
  }
 ],
 "metadata": {
  "kernelspec": {
   "display_name": "Python 2",
   "language": "python",
   "name": "python2"
  },
  "language_info": {
   "codemirror_mode": {
    "name": "ipython",
    "version": 2
   },
   "file_extension": ".py",
   "mimetype": "text/x-python",
   "name": "python",
   "nbconvert_exporter": "python",
   "pygments_lexer": "ipython2",
   "version": "2.7.12"
  }
 },
 "nbformat": 4,
 "nbformat_minor": 0
}
