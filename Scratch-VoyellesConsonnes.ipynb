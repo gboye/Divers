{
 "cells": [
  {
   "cell_type": "code",
   "execution_count": 4,
   "metadata": {
    "collapsed": true
   },
   "outputs": [],
   "source": [
    "voyelles=\"aeiouy\"\n",
    "nbVoyelles=[9,15,8,6,6,1]\n",
    "consonnes=\"bcdfghjklmnpqrstvwxz\"\n",
    "nbConsonnes=[2,2,3,2,2,2,1,1,5,3,6,2,1,6,6,6,2,1,1,1]"
   ]
  },
  {
   "cell_type": "code",
   "execution_count": 2,
   "metadata": {},
   "outputs": [
    {
     "name": "stdout",
     "output_type": "stream",
     "text": [
      "a\n",
      "a\n",
      "a\n",
      "a\n",
      "a\n",
      "a\n",
      "a\n",
      "a\n",
      "a\n",
      "e\n",
      "e\n",
      "e\n",
      "e\n",
      "e\n",
      "e\n",
      "e\n",
      "e\n",
      "e\n",
      "e\n",
      "e\n",
      "e\n",
      "e\n",
      "e\n",
      "e\n",
      "i\n",
      "i\n",
      "i\n",
      "i\n",
      "i\n",
      "i\n",
      "i\n",
      "i\n",
      "o\n",
      "o\n",
      "o\n",
      "o\n",
      "o\n",
      "o\n",
      "u\n",
      "u\n",
      "u\n",
      "u\n",
      "u\n",
      "u\n",
      "y\n"
     ]
    }
   ],
   "source": [
    "for n,voyelle in enumerate(voyelles):\n",
    "    for i in range(nbVoyelles[n]):\n",
    "        print voyelle"
   ]
  },
  {
   "cell_type": "code",
   "execution_count": 5,
   "metadata": {},
   "outputs": [
    {
     "name": "stdout",
     "output_type": "stream",
     "text": [
      "b\n",
      "b\n",
      "c\n",
      "c\n",
      "d\n",
      "d\n",
      "d\n",
      "f\n",
      "f\n",
      "g\n",
      "g\n",
      "h\n",
      "h\n",
      "j\n",
      "k\n",
      "l\n",
      "l\n",
      "l\n",
      "l\n",
      "l\n",
      "m\n",
      "m\n",
      "m\n",
      "n\n",
      "n\n",
      "n\n",
      "n\n",
      "n\n",
      "n\n",
      "p\n",
      "p\n",
      "q\n",
      "r\n",
      "r\n",
      "r\n",
      "r\n",
      "r\n",
      "r\n",
      "s\n",
      "s\n",
      "s\n",
      "s\n",
      "s\n",
      "s\n",
      "t\n",
      "t\n",
      "t\n",
      "t\n",
      "t\n",
      "t\n",
      "v\n",
      "v\n",
      "w\n",
      "x\n",
      "z\n"
     ]
    }
   ],
   "source": [
    "for n,consonne in enumerate(consonnes):\n",
    "    for i in range(nbConsonnes[n]):\n",
    "        print consonne"
   ]
  }
 ],
 "metadata": {
  "kernelspec": {
   "display_name": "Python 2",
   "language": "python",
   "name": "python2"
  },
  "language_info": {
   "codemirror_mode": {
    "name": "ipython",
    "version": 2
   },
   "file_extension": ".py",
   "mimetype": "text/x-python",
   "name": "python",
   "nbconvert_exporter": "python",
   "pygments_lexer": "ipython2",
   "version": "2.7.11"
  }
 },
 "nbformat": 4,
 "nbformat_minor": 1
}
