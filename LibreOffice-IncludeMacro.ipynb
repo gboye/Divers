{
 "cells": [
  {
   "cell_type": "code",
   "execution_count": 40,
   "metadata": {
    "collapsed": true
   },
   "outputs": [],
   "source": [
    "import zipfile\n",
    "import shutil\n",
    "import os\n",
    "import sys"
   ]
  },
  {
   "cell_type": "code",
   "execution_count": 41,
   "metadata": {
    "collapsed": true
   },
   "outputs": [],
   "source": [
    "nomMacro=\"myTableau.py\"\n",
    "nomFichierLO=\"TestMacro.ods\""
   ]
  },
  {
   "cell_type": "code",
   "execution_count": 42,
   "metadata": {
    "collapsed": false
   },
   "outputs": [
    {
     "name": "stdout",
     "output_type": "stream",
     "text": [
      "Delete and create directory with_macro\n"
     ]
    }
   ],
   "source": [
    "print(\"Delete and create directory with_macro\")\n",
    "shutil.rmtree(\"with_macro\",True)\n",
    "os.mkdir(\"with_macro\")"
   ]
  },
  {
   "cell_type": "code",
   "execution_count": 43,
   "metadata": {
    "collapsed": false
   },
   "outputs": [
    {
     "name": "stdout",
     "output_type": "stream",
     "text": [
      "Open file TestMacro.ods\n"
     ]
    }
   ],
   "source": [
    "filename = \"with_macro/\"+nomFichierLO\n",
    "print(\"Open file \" + nomFichierLO)\n",
    "shutil.copyfile(nomFichierLO,filename)"
   ]
  },
  {
   "cell_type": "code",
   "execution_count": 44,
   "metadata": {
    "collapsed": false
   },
   "outputs": [
    {
     "name": "stdout",
     "output_type": "stream",
     "text": [
      "<?xml version=\"1.0\" encoding=\"UTF-8\"?>\n",
      "\n",
      "<manifest:manifest xmlns:manifest=\"urn:oasis:names:tc:opendocument:xmlns:manifest:1.0\" manifest:version=\"1.2\">\n",
      "\n",
      " <manifest:file-entry manifest:full-path=\"/\" manifest:version=\"1.2\" manifest:media-type=\"application/vnd.oasis.opendocument.spreadsheet\"/>\n",
      "\n",
      " <manifest:file-entry manifest:full-path=\"Thumbnails/thumbnail.png\" manifest:media-type=\"image/png\"/>\n",
      "\n",
      " <manifest:file-entry manifest:full-path=\"settings.xml\" manifest:media-type=\"text/xml\"/>\n",
      "\n",
      " <manifest:file-entry manifest:full-path=\"content.xml\" manifest:media-type=\"text/xml\"/>\n",
      "\n",
      " <manifest:file-entry manifest:full-path=\"meta.xml\" manifest:media-type=\"text/xml\"/>\n",
      "\n",
      " <manifest:file-entry manifest:full-path=\"styles.xml\" manifest:media-type=\"text/xml\"/>\n",
      "\n",
      " <manifest:file-entry manifest:full-path=\"manifest.rdf\" manifest:media-type=\"application/rdf+xml\"/>\n",
      "\n",
      " <manifest:file-entry manifest:full-path=\"Configurations2/accelerator/current.xml\" manifest:media-type=\"\"/>\n",
      "\n",
      " <manifest:file-entry manifest:full-path=\"Configurations2/\" manifest:media-type=\"application/vnd.sun.xml.ui.configuration\"/>\n",
      "\n",
      "</manifest:manifest>\n"
     ]
    }
   ],
   "source": [
    "doc = zipfile.ZipFile(filename,'a')\n",
    "doc.write(nomMacro, \"Scripts/python/\"+nomMacro)\n",
    "manifest = []\n",
    "for line in doc.open('META-INF/manifest.xml'):\n",
    "    print line\n",
    "    if '</manifest:manifest>' in line.decode('utf-8'):\n",
    "        for path in ['Scripts/','Scripts/python/','Scripts/python/'+nomMacro]:\n",
    "            manifest.append(' <manifest:file-entry manifest:media-type=\"application/binary\" manifest:full-path=\"%s\"/>' % path)\n",
    "    manifest.append(line.decode('utf-8'))"
   ]
  },
  {
   "cell_type": "code",
   "execution_count": 45,
   "metadata": {
    "collapsed": false
   },
   "outputs": [
    {
     "name": "stdout",
     "output_type": "stream",
     "text": [
      "File created: with_macro/TestMacro.ods\n"
     ]
    },
    {
     "name": "stderr",
     "output_type": "stream",
     "text": [
      "/Users/gilles/anaconda/lib/python2.7/site-packages/ipykernel/__main__.py:1: UserWarning: Duplicate name: 'META-INF/manifest.xml'\n",
      "  if __name__ == '__main__':\n"
     ]
    }
   ],
   "source": [
    "doc.writestr('META-INF/manifest.xml', ''.join(manifest))\n",
    "doc.close()\n",
    "print(\"File created: \"+filename)"
   ]
  },
  {
   "cell_type": "code",
   "execution_count": null,
   "metadata": {
    "collapsed": true
   },
   "outputs": [],
   "source": []
  }
 ],
 "metadata": {
  "kernelspec": {
   "display_name": "Python 2",
   "language": "python",
   "name": "python2"
  },
  "language_info": {
   "codemirror_mode": {
    "name": "ipython",
    "version": 2
   },
   "file_extension": ".py",
   "mimetype": "text/x-python",
   "name": "python",
   "nbconvert_exporter": "python",
   "pygments_lexer": "ipython2",
   "version": "2.7.11"
  }
 },
 "nbformat": 4,
 "nbformat_minor": 0
}
