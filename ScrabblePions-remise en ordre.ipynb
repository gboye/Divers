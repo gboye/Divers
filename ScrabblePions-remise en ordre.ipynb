{
 "metadata": {
  "name": "",
  "signature": "sha256:322b79143d08e65b888cfaad19132ab772f1500857c4d09f1f40995dcf645951"
 },
 "nbformat": 3,
 "nbformat_minor": 0,
 "worksheets": [
  {
   "cells": [
    {
     "cell_type": "code",
     "collapsed": false,
     "input": [
      "import re\n",
      "import random as rd\n",
      "import itertools as it"
     ],
     "language": "python",
     "metadata": {},
     "outputs": [],
     "prompt_number": 1
    },
    {
     "cell_type": "markdown",
     "metadata": {},
     "source": [
      "### D\u00e9finir les jetons du jeux et le score de chaque jeton"
     ]
    },
    {
     "cell_type": "code",
     "collapsed": false,
     "input": [
      "jetons = {\"a\": 9, \"b\": 2, \"c\": 2, \"d\": 3, \"e\": 15, \n",
      "         \"f\": 2, \"g\": 2, \"h\": 2, \"i\": 8, \"j\": 1, \n",
      "         \"k\": 1, \"l\": 5, \"m\": 3, \"n\": 6, \"o\": 6, \n",
      "         \"p\": 2, \"q\": 1, \"r\": 6, \"s\": 6, \"t\": 6, \n",
      "         \"u\": 6, \"v\": 2, \"w\": 1, \"x\": 1, \"y\": 1, \n",
      "         \"z\": 1, \"*\": 2}\n",
      "score = {\"a\": 1, \"b\": 3, \"c\": 3, \"d\": 2, \"e\": 1, \n",
      "         \"f\": 4, \"g\": 2, \"h\": 4, \"i\": 1, \"j\": 8, \n",
      "         \"k\": 10, \"l\": 1, \"m\": 2, \"n\": 1, \"o\": 1, \n",
      "         \"p\": 3, \"q\": 8, \"r\": 1, \"s\": 1, \"t\": 1, \n",
      "         \"u\": 1, \"v\": 4, \"w\": 10, \"x\": 10, \"y\": 10, \n",
      "         \"z\": 10, \"*\":0}\n",
      "joueurs=[\"Valentine\",\"Maelys\",\"Javier\",\"Oana\"]\n",
      "rack={}\n",
      "nombreLettresRack=7\n",
      "for joueur in joueurs:\n",
      "    rack[joueur]=[\"\" for num in range(nombreLettresRack)]\n",
      "    "
     ],
     "language": "python",
     "metadata": {},
     "outputs": [],
     "prompt_number": 10
    },
    {
     "cell_type": "markdown",
     "metadata": {},
     "source": [
      "### D\u00e9finir l'objet \"sac de jetons\" (sacJetons)"
     ]
    },
    {
     "cell_type": "code",
     "collapsed": false,
     "input": [
      "class sacJetons():\n",
      "    def __init__(self,jetons={}):\n",
      "        self.jetons=jetons\n",
      "    def tirage(self,n):\n",
      "        jetonsTirage=[]\n",
      "        for element in self.jetons:\n",
      "            for num in range(self.jetons[element]):\n",
      "                jetonsTirage.append(element)\n",
      "        # D\u00e9finir le tirage des jetons de mani\u00e8re al\u00e9atoire\n",
      "        tirageJetons=rd.sample(jetonsTirage,n)\n",
      "        # Sortir les jetons du sac\n",
      "        for jeton in tirageJetons:\n",
      "            self.jetons[jeton]+=-1\n",
      "        # Donner au joueur le tirage qu'il a demand\u00e9\n",
      "        return \"\".join(tirageJetons)\n"
     ],
     "language": "python",
     "metadata": {},
     "outputs": [],
     "prompt_number": 3
    },
    {
     "cell_type": "markdown",
     "metadata": {},
     "source": [
      "### D\u00e9finir l'objet \"chevalet\""
     ]
    },
    {
     "cell_type": "code",
     "collapsed": false,
     "input": [
      "class objChevalet():\n",
      "    def __init__(self,lettres=\"\"):\n",
      "        self.lettres=lettres\n",
      "        if len(self.lettres)>7:\n",
      "            print(\"trop de lettres, pas possible\")\n",
      "            self.lettres=\"\""
     ],
     "language": "python",
     "metadata": {},
     "outputs": [],
     "prompt_number": 4
    },
    {
     "cell_type": "code",
     "collapsed": false,
     "input": [
      "sac=sacJetons(jetons)"
     ],
     "language": "python",
     "metadata": {},
     "outputs": [],
     "prompt_number": 5
    },
    {
     "cell_type": "code",
     "collapsed": false,
     "input": [
      "lettres=\"ABZEFSU\"\n",
      "for num,lettre in enumerate(lettres):\n",
      "    rack[\"Maelys\"][num]=lettre"
     ],
     "language": "python",
     "metadata": {},
     "outputs": [],
     "prompt_number": 16
    },
    {
     "cell_type": "code",
     "collapsed": false,
     "input": [
      "rack"
     ],
     "language": "python",
     "metadata": {},
     "outputs": [
      {
       "metadata": {},
       "output_type": "pyout",
       "prompt_number": 17,
       "text": [
        "{'Javier': ['', '', '', '', '', '', ''],\n",
        " 'Maelys': ['A', 'B', 'Z', 'E', 'F', 'S', 'U'],\n",
        " 'Oana': ['', '', '', '', '', '', ''],\n",
        " 'Valentine': ['', '', '', '', '', '', '']}"
       ]
      }
     ],
     "prompt_number": 17
    },
    {
     "cell_type": "code",
     "collapsed": false,
     "input": [
      "rack['Maelys'].lettres"
     ],
     "language": "python",
     "metadata": {},
     "outputs": [
      {
       "metadata": {},
       "output_type": "pyout",
       "prompt_number": 23,
       "text": [
        "'saetbop'"
       ]
      }
     ],
     "prompt_number": 23
    },
    {
     "cell_type": "code",
     "collapsed": false,
     "input": [
      "rack['Maelys']=chevalet(sac.tirage(7))"
     ],
     "language": "python",
     "metadata": {},
     "outputs": [],
     "prompt_number": 22
    },
    {
     "cell_type": "code",
     "collapsed": false,
     "input": [
      "rack1"
     ],
     "language": "python",
     "metadata": {},
     "outputs": [
      {
       "metadata": {},
       "output_type": "pyout",
       "prompt_number": 25,
       "text": [
        "'nekrblo'"
       ]
      }
     ],
     "prompt_number": 25
    },
    {
     "cell_type": "code",
     "collapsed": false,
     "input": [
      "sac.jetons"
     ],
     "language": "python",
     "metadata": {},
     "outputs": [
      {
       "metadata": {},
       "output_type": "pyout",
       "prompt_number": 27,
       "text": [
        "{'*': 2,\n",
        " 'a': 9,\n",
        " 'b': 1,\n",
        " 'c': 2,\n",
        " 'd': 3,\n",
        " 'e': 14,\n",
        " 'f': 2,\n",
        " 'g': 2,\n",
        " 'h': 2,\n",
        " 'i': 8,\n",
        " 'j': 1,\n",
        " 'k': 0,\n",
        " 'l': 4,\n",
        " 'm': 3,\n",
        " 'n': 5,\n",
        " 'o': 5,\n",
        " 'p': 2,\n",
        " 'q': 1,\n",
        " 'r': 5,\n",
        " 's': 6,\n",
        " 't': 6,\n",
        " 'u': 6,\n",
        " 'v': 2,\n",
        " 'w': 1,\n",
        " 'x': 1,\n",
        " 'y': 1,\n",
        " 'z': 1}"
       ]
      }
     ],
     "prompt_number": 27
    },
    {
     "cell_type": "code",
     "collapsed": false,
     "input": [
      "r={}\n",
      "r[\"Maelys\"]=rack(\"nekrblo\")"
     ],
     "language": "python",
     "metadata": {},
     "outputs": [],
     "prompt_number": 29
    },
    {
     "cell_type": "code",
     "collapsed": false,
     "input": [
      "r[\"Maelys\"].lettres"
     ],
     "language": "python",
     "metadata": {},
     "outputs": [
      {
       "metadata": {},
       "output_type": "pyout",
       "prompt_number": 31,
       "text": [
        "'nekrblo'"
       ]
      }
     ],
     "prompt_number": 31
    },
    {
     "cell_type": "code",
     "collapsed": false,
     "input": [
      "class scrabble:\n",
      "    self.jetons=jetons\n",
      "    self.joueurs=\n",
      "    self.racks="
     ],
     "language": "python",
     "metadata": {},
     "outputs": []
    }
   ],
   "metadata": {}
  }
 ]
}