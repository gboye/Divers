{
 "cells": [
  {
   "cell_type": "code",
   "execution_count": 2,
   "metadata": {
    "collapsed": true
   },
   "outputs": [],
   "source": [
    "import glob,re,codecs,bibtexparser\n",
    "from pattern.search import search, taxonomy, match"
   ]
  },
  {
   "cell_type": "code",
   "execution_count": 5,
   "metadata": {
    "collapsed": true
   },
   "outputs": [],
   "source": [
    "home=\"/Users/gilles/GitHub/LDTM/\""
   ]
  },
  {
   "cell_type": "markdown",
   "metadata": {},
   "source": [
    "# Get authors from .bib"
   ]
  },
  {
   "cell_type": "code",
   "execution_count": 33,
   "metadata": {
    "scrolled": false
   },
   "outputs": [
    {
     "name": "stdout",
     "output_type": "stream",
     "text": [
      "Brown set([u'Brown, Dunstan', u'Brown, Keith'])\n",
      "Paul set([u'Paul, Waltraud', u'Paul, Hermann'])\n",
      "Lyons set([u'Lyons, Christopher', u'Lyons, John'])\n",
      "Li set([u'Li, Sijun (\\u674e\\u601d\\u519b)', u'Li, Charles N.'])\n",
      "Dell set([u'Dell, Fran\\xe7ois', u'Dell, Fran{\\xe7}ois'])\n",
      "Štekauer set([u'\\u0160}tekauer, Pavol', u'\\u0160tekauer, Pavol'])\n",
      "Beniamine set([u'Beniamine, Sacha', u'Beniamine, Sarah'])\n",
      "Plénat set([u'Pl\\xe9nat, Camille', u'Pl\\xe9nat, Marc'])\n",
      "Evans set([u'Evans, Roger', u'Evans, Nicholas'])\n",
      "Kerleroux set([u'Kerleroux, Fran{\\xe7}oise', u'Kerleroux, Fran\\xe7oise'])\n",
      "Blevins set([u'Blevins, Juliette', u'Blevins, James P.'])\n",
      "Miller set([u'Miller, George A.', u'Miller, Philip', u'Miller, Jim'])\n",
      "Harris set([u'Harris, Zellig', u'Harris, R'])\n",
      "Bloomfield set([u'Bloomfield, Maurice', u'Bloomfield, Leonard'])\n",
      "Enger set([u'Enger, Hans-Olav', u'Enger, Hans-Olaf'])\n",
      "Hu set([u'Hu, Xiaobin (\\u80e1\\u5b5d\\u658c)', u'Hu, Xizhi (\\u80e1\\u4e60\\u4e4b)'])\n",
      "Davis set([u'Davis, Chris', u'Davis, Colin J', u'Davis, Matthew H', u'Davis, Matt H', u'Davis, Anthony R.'])\n",
      "Baayen set([u'Baayen, R Harald', u'Baayen, R. Harald', u'Baayen, Harald R.', u'Baayen, R. H.'])\n",
      "Zhang set([u'Zhang, Niina Ning', u'Zhang, Xiaoqian'])\n"
     ]
    }
   ],
   "source": [
    "bibNoms=glob.glob(home+\"*.bib\")\n",
    "with open(bibNoms[0]) as input:\n",
    "    parser = bibtexparser.bparser.BibTexParser()\n",
    "    parser.customization = bibtexparser.customization.convert_to_unicode\n",
    "    bibData = bibtexparser.load(input, parser=parser)\n",
    "\n",
    "auteurSet=set()\n",
    "auteursNoms={}\n",
    "exclus=[\"ar\",\"de\",\"eloise\",\"ito\",\"ra\",\"ra A.\",\"ro\",\"y Allen\",\"'t Hart\"]\n",
    "ajouts=[\"Trifone\"]\n",
    "for ajout in ajouts:\n",
    "    auteurSet.add(ajout)\n",
    "for entry in bibData.entries:\n",
    "    if \"author\" in entry:\n",
    "        auteurs=entry[\"author\"].split(\"and\")\n",
    "        for auteur in auteurs:\n",
    "            element=auteur.split(\",\")[0].strip().replace(\"{\",\"\").replace(\"}\",\"\").replace(\"~\",\" \")\n",
    "            if len(element)>1 and not element in exclus:\n",
    "                auteurSet.add(element)\n",
    "                if not element in auteursNoms:\n",
    "                    auteursNoms[element]=set()\n",
    "                auteursNoms[element].add(auteur.strip().strip(\"{\").strip(\"}\"))\n",
    "#    else:\n",
    "#        print \"no author\"\n",
    "#        print entry\n",
    "listeAuteurs=sorted(list(auteurSet))\n",
    "for auteur in auteursNoms:\n",
    "    if len(auteursNoms[auteur])>1:\n",
    "        print auteur, auteursNoms[auteur]"
   ]
  },
  {
   "cell_type": "code",
   "execution_count": null,
   "metadata": {
    "collapsed": true
   },
   "outputs": [],
   "source": []
  },
  {
   "cell_type": "code",
   "execution_count": null,
   "metadata": {
    "collapsed": true
   },
   "outputs": [],
   "source": []
  }
 ],
 "metadata": {
  "kernelspec": {
   "display_name": "Python 2",
   "language": "python",
   "name": "python2"
  },
  "language_info": {
   "codemirror_mode": {
    "name": "ipython",
    "version": 2
   },
   "file_extension": ".py",
   "mimetype": "text/x-python",
   "name": "python",
   "nbconvert_exporter": "python",
   "pygments_lexer": "ipython2",
   "version": "2.7.11"
  }
 },
 "nbformat": 4,
 "nbformat_minor": 1
}
