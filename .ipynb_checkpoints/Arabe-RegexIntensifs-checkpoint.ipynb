{
 "cells": [
  {
   "cell_type": "code",
   "execution_count": null,
   "id": "cd542b7b-3c8f-42e3-abeb-9335c3b09c9b",
   "metadata": {},
   "outputs": [],
   "source": [
    "import pandas as pd\n",
    "import glob, re"
   ]
  },
  {
   "cell_type": "markdown",
   "id": "d2816792-77c8-4a04-9c2a-94127269071c",
   "metadata": {},
   "source": [
    "### Définition des lettres pour les gabarits"
   ]
  },
  {
   "cell_type": "code",
   "execution_count": null,
   "id": "7d4faa54-289c-4ed8-8570-e5a9349dc6f4",
   "metadata": {},
   "outputs": [],
   "source": [
    "meem=\"م\"\n",
    "marbotat=\"ة\"\n",
    "waw=\"و\"\n",
    "yeh=\"ي\"\n",
    "alef=\"ا\"\n",
    "fatha=\"َ\"\n",
    "shadda=\"ّ\"\n",
    "damma=\"ُ\"\n",
    "dammatan=\"ٌ\"\n",
    "kasra=\"ِ\"\n",
    "sukun=\"ْ\""
   ]
  },
  {
   "cell_type": "markdown",
   "id": "7431a126-4678-4ac4-8066-cb81a39f2db3",
   "metadata": {},
   "source": [
    "### Choix de la source\n",
    "- Toutes les sources ont le champ contenant l'écriture dans la première colonne"
   ]
  },
  {
   "cell_type": "code",
   "execution_count": null,
   "id": "6ca69e3d-1c21-4bad-a81b-a10c3977c44b",
   "metadata": {
    "tags": []
   },
   "outputs": [],
   "source": [
    "source=\"SketchEngine\"\n",
    "source=\"Wiktionary\"\n",
    "# source=\"Quran\"\n",
    "pdAdj=pd.read_csv(\"ADJ-%s.tsv\"%source,encoding=\"utf8\",sep=\"\\t\").drop_duplicates()\n",
    "len(pdAdj)"
   ]
  },
  {
   "cell_type": "code",
   "execution_count": null,
   "id": "ccbcf6ea-96ea-4637-8c86-5638cd6ebabe",
   "metadata": {},
   "outputs": [],
   "source": [
    "pdAdj.columns=range(len(pdAdj.columns))\n",
    "adjectifs=pdAdj[0].drop_duplicates().tolist()\n",
    "# print(adjectifs)"
   ]
  },
  {
   "cell_type": "code",
   "execution_count": null,
   "id": "6498d949-8db0-44fe-9776-d499bec34309",
   "metadata": {},
   "outputs": [],
   "source": [
    "len(adjectifs)"
   ]
  },
  {
   "cell_type": "markdown",
   "id": "a4b33b58-c69d-449e-814d-2ddeae59e244",
   "metadata": {},
   "source": [
    "# Définition des gabarits\n",
    "- les mots tirés de SketchEngine ne sont pas orthographiés comme ceux des deux autres CSV, il faut utiliser des expressions régulières différentes\n",
    "- pour la séquence َّ , Wiktionary et Quran ont deux stratégies différentes :\n",
    "    - fatha+shadda\n",
    "    - shadda+fatha  \n",
    "- il faut en tenir compte dans les regexp, ici en acceptant les deux ordres"
   ]
  },
  {
   "cell_type": "code",
   "execution_count": null,
   "id": "02e3693c-496e-4dea-b977-8e67be296f99",
   "metadata": {},
   "outputs": [],
   "source": [
    "shaddafatha=\"(?:\"+shadda+fatha+\"|\"+fatha+shadda+\")\"\n",
    "fa33aalFull=\"^(.)\"+fatha+\"(.)\"+shaddafatha+alef+\"(.)\"+marbotat+\"?\"+dammatan+\"?$\"\n",
    "fa33aalSketch=u\"^(.)(.)\"+alef+\"(.)\"+marbotat+\"?$\"\n",
    "mif3aalFull=\"^\"+meem+kasra+\"(.)\"+sukun+\"(.)\"+fatha+alef+\"(.)\"+marbotat+\"?\"+dammatan+\"?$\"\n",
    "mif3aalSketch=meem+u\"^(.)(.)\"+alef+\"(.)\"+marbotat+\"?$\"\n",
    "fa3uulFull=\"^(.)\"+damma+\"(.)\"+damma+waw+\"(.)\"+marbotat+\"?\"+dammatan+\"?$\"\n",
    "fa3uulSketch=\"^(.)(.)\"+waw+\"(.)\"+marbotat+\"?$\"\n",
    "fa3iilFull=\"^(.)\"+fatha+\"(.)\"+kasra+yeh+\"(.)\"+marbotat+\"?\"+dammatan+\"?$\"\n",
    "fa3iilSketch=\"^(.)(.)\"+yeh+\"(.)\"+marbotat+\"?$\"\n",
    "fa3ilFull=\"^(.)\"+fatha+\"(.)\"+kasra+\"(.)\"+marbotat+\"?\"+dammatan+\"?$\"\n",
    "fa3ilSketch=\"^(.)(.)\"+yeh+\"(.)\"+marbotat+\"?$\"\n",
    "\n",
    "if source==\"SketchEngine\":\n",
    "    fa33aalRegex=fa33aalSketch\n",
    "    mif3aalRegex=mif3aalSketch\n",
    "    fa3uulRegex=fa3uulSketch\n",
    "    fa3iilRegex=fa3iilSketch\n",
    "    fa3ilRegex=fa3ilSketch\n",
    "else:\n",
    "    fa33aalRegex=fa33aalFull\n",
    "    mif3aalRegex=mif3aalFull\n",
    "    fa3uulRegex=fa3uulFull\n",
    "    fa3iilRegex=fa3iilFull\n",
    "    fa3ilRegex=fa3ilFull\n"
   ]
  },
  {
   "cell_type": "code",
   "execution_count": null,
   "id": "fafdc360-3ca5-403a-89e5-5a9ccc05783e",
   "metadata": {
    "tags": []
   },
   "outputs": [],
   "source": [
    "dfIntensifs=pd.DataFrame(columns=\"forme gabarit c3 c2 c1\".split(\" \"))\n",
    "\n",
    "def extractDict(match):\n",
    "    return {\"forme\":match.group(0),\n",
    "            \"c1\":match.group(1),\n",
    "            \"c2\":match.group(2),\n",
    "            \"c3\":match.group(3),\n",
    "           }\n",
    "for i,form in enumerate(adjectifs):\n",
    "    # print (form)\n",
    "    m=re.match(fa33aalRegex,form)\n",
    "    if m:\n",
    "        # print (i,m.group(0),\"\\tfa33aal,racine :\",m.group(1),m.group(2),m.group(3))\n",
    "        formeDict=extractDict(m)\n",
    "        formeDict[\"gabarit\"]=[\"fa33aal\"]\n",
    "        pdFormeDict=pd.DataFrame([formeDict])\n",
    "        dfIntensifs=pd.concat([dfIntensifs,pdFormeDict])\n",
    "    m=re.match(mif3aalRegex,form)\n",
    "    if m:\n",
    "        # # print (i,m.group(0),\"\\t  mif3al, racine :\",m.group(1),m.group(2),m.group(3))\n",
    "        formeDict=extractDict(m)\n",
    "        formeDict[\"gabarit\"]=[\"mif3al\"]\n",
    "        pdFormeDict=pd.DataFrame([formeDict])\n",
    "        dfIntensifs=pd.concat([dfIntensifs,pdFormeDict])\n",
    "    m=re.match(fa3uulRegex,form)\n",
    "    if m:\n",
    "        # print (i,m.group(0),\"\\t    fa3uul, racine :\",m.group(1),m.group(2),m.group(3))    \n",
    "        formeDict=extractDict(m)\n",
    "        formeDict[\"gabarit\"]=[\"fa3uul\"]\n",
    "        pdFormeDict=pd.DataFrame([formeDict])\n",
    "        dfIntensifs=pd.concat([dfIntensifs,pdFormeDict])\n",
    "    if source==\"SketchEngine\":\n",
    "        m=re.match(fa3iilSketch,form)\n",
    "        if m:\n",
    "            # print (i,m.group(0),\"\\t      fa3iil, racine :\",m.group(1),m.group(2),m.group(3))            \n",
    "            formeDict=extractDict(m)\n",
    "            formeDict[\"gabarit\"]=[\"fa3iil\", \"fa3il\"]\n",
    "            pdFormeDict=pd.DataFrame([formeDict])\n",
    "            dfIntensifs=pd.concat([dfIntensifs,pdFormeDict])        \n",
    "    else:\n",
    "        m=re.match(fa3iilRegex,form)\n",
    "        if m:\n",
    "            # print (i,m.group(0),\"\\t      fa3iil, racine :\",m.group(1),m.group(2),m.group(3))            \n",
    "            formeDict=extractDict(m)\n",
    "            formeDict[\"gabarit\"]=[\"fa3iil\"]\n",
    "            pdFormeDict=pd.DataFrame([formeDict])\n",
    "            dfIntensifs=pd.concat([dfIntensifs,pdFormeDict])\n",
    "        m=re.match(fa3ilRegex,form)\n",
    "        if m:\n",
    "            # print (i,m.group(0),\"\\t        fa3il, racine :\",m.group(1),m.group(2),m.group(3))                    \n",
    "            formeDict=extractDict(m)\n",
    "            formeDict[\"gabarit\"]=[\"fa3il\"]\n",
    "            pdFormeDict=pd.DataFrame([formeDict])\n",
    "            dfIntensifs=pd.concat([dfIntensifs,pdFormeDict])\n",
    "dfIntensifs=dfIntensifs.reset_index().drop(columns=\"index\")\n",
    "dfIntensifs  "
   ]
  },
  {
   "cell_type": "code",
   "execution_count": null,
   "id": "679a351f-9cfd-4939-bcd3-fa0220ed1b0c",
   "metadata": {},
   "outputs": [],
   "source": [
    "\n",
    "dfIntensifs.to_csv(path_or_buf=\"ADJ-Extraction-%s.tsv\"%source,encoding=\"utf8\",sep=\"\\t\")"
   ]
  }
 ],
 "metadata": {
  "kernelspec": {
   "display_name": "Python 3 (ipykernel)",
   "language": "python",
   "name": "python3"
  },
  "language_info": {
   "codemirror_mode": {
    "name": "ipython",
    "version": 3
   },
   "file_extension": ".py",
   "mimetype": "text/x-python",
   "name": "python",
   "nbconvert_exporter": "python",
   "pygments_lexer": "ipython3",
   "version": "3.9.18"
  }
 },
 "nbformat": 4,
 "nbformat_minor": 5
}
