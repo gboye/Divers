{
 "cells": [
  {
   "cell_type": "code",
   "execution_count": 1,
   "metadata": {
    "collapsed": true
   },
   "outputs": [],
   "source": [
    "lettreInitiale=u\"h\"\n",
    "ligne1=u\"ewyguurei\"\n",
    "ligne2=u\"spoyucgih\"\n",
    "longueurMot=10"
   ]
  },
  {
   "cell_type": "code",
   "execution_count": 2,
   "metadata": {
    "collapsed": false
   },
   "outputs": [],
   "source": [
    "from unidecode import unidecode\n",
    "import re,sys,codecs\n",
    "import random as rd\n",
    "import itertools as it"
   ]
  },
  {
   "cell_type": "code",
   "execution_count": 3,
   "metadata": {
    "collapsed": false
   },
   "outputs": [],
   "source": [
    "nomLexique=\"../../ownCloud/Python/phonemisation/bdlexique.txt\"\n",
    "fichierLexique=codecs.open(nomLexique,encoding=\"utf8\")"
   ]
  },
  {
   "cell_type": "code",
   "execution_count": 4,
   "metadata": {
    "collapsed": false
   },
   "outputs": [],
   "source": [
    "def sortLettres(mot):\n",
    "    return \"\".join(sorted(list(unidecode(mot))))"
   ]
  },
  {
   "cell_type": "code",
   "execution_count": 5,
   "metadata": {
    "collapsed": false
   },
   "outputs": [],
   "source": [
    "def bonMot(mot):\n",
    "    if re.search(\"[-']\",mot):\n",
    "         return False     \n",
    "    else:\n",
    "        return True"
   ]
  },
  {
   "cell_type": "code",
   "execution_count": 6,
   "metadata": {
    "collapsed": false
   },
   "outputs": [],
   "source": [
    "mots={}\n",
    "for element in fichierLexique:\n",
    "    mot=element.split(\";\")[0]\n",
    "    if bonMot(mot):\n",
    "        longMot=len(mot)\n",
    "        if not longMot in mots:\n",
    "            mots[longMot]={}\n",
    "        lettresMot=sortLettres(mot)\n",
    "        if not lettresMot in mots[longMot]:\n",
    "            mots[longMot][lettresMot]=set()\n",
    "        mots[longMot][lettresMot].add(mot)"
   ]
  },
  {
   "cell_type": "code",
   "execution_count": 7,
   "metadata": {
    "collapsed": false
   },
   "outputs": [],
   "source": [
    "def tirageLettres(lettre,lettres,nb):\n",
    "    ensMots=set()\n",
    "    for combi in it.combinations(lettres,nb):\n",
    "        cle=\"\".join(sorted(combi))\n",
    "        if cle in mots[nb] :\n",
    "            for mot in mots[nb][cle]:\n",
    "                if mot.startswith(lettre):\n",
    "                    ensMots.add(mot)\n",
    "    return sorted(list(ensMots))"
   ]
  },
  {
   "cell_type": "code",
   "execution_count": 8,
   "metadata": {
    "collapsed": false
   },
   "outputs": [],
   "source": [
    "def tirageLettres(lettreInitiale,tirage,nb):\n",
    "    ensMots=set()\n",
    "    # Prendre nb-1 lettres dans le tirage pour ajouter après la lettre initiale\n",
    "    for lettres in it.combinations(tirage,nb-1):\n",
    "        cle=\"\".join(sorted(list(lettres)+[lettreInitiale]))\n",
    "        if cle in mots[nb] :\n",
    "            for mot in mots[nb][cle]:\n",
    "                if mot.startswith(lettreInitiale):\n",
    "                    ensMots.add(mot)\n",
    "    return sorted(list(ensMots))"
   ]
  },
  {
   "cell_type": "code",
   "execution_count": 9,
   "metadata": {
    "collapsed": false
   },
   "outputs": [
    {
     "name": "stdout",
     "output_type": "stream",
     "text": [
      "ceegghiioprsuuuwyy 10\n",
      "hypocrisie\n"
     ]
    }
   ],
   "source": [
    "lettresTirage=ligne1+ligne2\n",
    "lettres=sortLettres(lettresTirage)\n",
    "print lettres, longueurMot\n",
    "for mot in tirageLettres(lettreInitiale,lettres,longueurMot):\n",
    "    print mot,"
   ]
  }
 ],
 "metadata": {
  "kernelspec": {
   "display_name": "Python 2",
   "language": "python",
   "name": "python2"
  },
  "language_info": {
   "codemirror_mode": {
    "name": "ipython",
    "version": 2
   },
   "file_extension": ".py",
   "mimetype": "text/x-python",
   "name": "python",
   "nbconvert_exporter": "python",
   "pygments_lexer": "ipython2",
   "version": "2.7.11"
  }
 },
 "nbformat": 4,
 "nbformat_minor": 0
}
