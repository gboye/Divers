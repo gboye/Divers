{
 "cells": [
  {
   "cell_type": "code",
   "execution_count": null,
   "metadata": {
    "collapsed": true
   },
   "outputs": [],
   "source": [
    "import mechanicalsoup\n",
    "import bs4, re\n",
    "import base64\n",
    "from appscript import *"
   ]
  },
  {
   "cell_type": "code",
   "execution_count": null,
   "metadata": {
    "collapsed": true
   },
   "outputs": [],
   "source": [
    "browser = mechanicalsoup.Browser()"
   ]
  },
  {
   "cell_type": "code",
   "execution_count": null,
   "metadata": {
    "collapsed": true,
    "scrolled": true
   },
   "outputs": [],
   "source": [
    "def getSoup(url):\n",
    "    page = browser.get(url)\n",
    "    soup = bs4.BeautifulSoup(page.content, 'html.parser')\n",
    "    return soup"
   ]
  },
  {
   "cell_type": "code",
   "execution_count": null,
   "metadata": {
    "collapsed": true
   },
   "outputs": [],
   "source": [
    "def getSubLinks(soup,tag=\"article\"):\n",
    "    links=[]\n",
    "    for article in soup.find_all(tag):\n",
    "        href=article.find('a')[\"href\"]\n",
    "        if linkFilter:\n",
    "            lF=[de(l) for l in linkFilter]\n",
    "            match=\"(\"+\"|\".join(lF)+\")\"\n",
    "            m=re.search(match,href)\n",
    "            if not m:\n",
    "                links.append(article.find('a')[\"href\"])\n",
    "        else:\n",
    "            links.append(article.find('a')[\"href\"])\n",
    "    return links"
   ]
  },
  {
   "cell_type": "code",
   "execution_count": null,
   "metadata": {},
   "outputs": [],
   "source": [
    "def getTwitterSecurelyLink(url):\n",
    "    link=url\n",
    "    for a in getSoup(url).find_all(\"a\"):\n",
    "        href=a.get(\"href\")\n",
    "        if href and \"url=https://openload.co\" in href:\n",
    "            link=href.split(\"url=\")[-1]\n",
    "    return link"
   ]
  },
  {
   "cell_type": "code",
   "execution_count": null,
   "metadata": {},
   "outputs": [],
   "source": [
    "def getSecurelyLink(url):\n",
    "    link=url\n",
    "    for meta in getSoup(url).find_all(\"meta\"):\n",
    "        content=meta.get(\"content\")\n",
    "        if content and \"://openload.co\" in content:\n",
    "            link=content\n",
    "    if link==url:\n",
    "        print \"pb\",link\n",
    "        link=getTwitterSecurelyLink(url)\n",
    "    elif \"securely.link\" in link:\n",
    "        print \"securely\",link\n",
    "        link=getSecurelyLink(link)\n",
    "    return link"
   ]
  },
  {
   "cell_type": "code",
   "execution_count": null,
   "metadata": {
    "collapsed": true
   },
   "outputs": [],
   "source": [
    "def getOpenloadLinks(soup):\n",
    "    links=[]\n",
    "    for article in soup.find_all(\"div\",class_=\"entry-content\"):\n",
    "        aSoup=article.find_all('a')\n",
    "        for a in aSoup:\n",
    "            link=a[\"href\"]\n",
    "            if \"openload.co\" in link:\n",
    "                links.append(link)\n",
    "            elif \"openload.co\" in a.text.lower() and \"securely.link\" in link:\n",
    "                links.append(getSecurelyLink(link))\n",
    "    return links"
   ]
  },
  {
   "cell_type": "code",
   "execution_count": null,
   "metadata": {
    "collapsed": true
   },
   "outputs": [],
   "source": [
    "def getNextPage(soup):\n",
    "    nextPage=soup.find(\"a\", class_=\"next page-numbers\")[\"href\"]\n",
    "    return getSoup(nextPage)"
   ]
  },
  {
   "cell_type": "raw",
   "metadata": {
    "scrolled": true
   },
   "source": [
    "# accueil.soup is a BeautifulSoup object http://www.crummy.com/software/BeautifulSoup/bs4/doc/#beautifulsoup \n",
    "# we grab the search form\n",
    "formulaire = accueil.soup.select(\"form\")[0]"
   ]
  },
  {
   "cell_type": "raw",
   "metadata": {
    "scrolled": true
   },
   "source": [
    "# fill out the search in the right box\n",
    "formulaire.select(\"#ctl00_cphMainContent_m_ctrlSearchEngine_m_ctrlRechercheForm_m_txtSearch\")[0][\"value\"]=\"tarte tatin\""
   ]
  },
  {
   "cell_type": "raw",
   "metadata": {},
   "source": [
    "# submit form\n",
    "recherche = browser.submit(formulaire, accueil.url)"
   ]
  },
  {
   "cell_type": "code",
   "execution_count": null,
   "metadata": {},
   "outputs": [],
   "source": [
    "def en(s):\n",
    "    return base64.b64encode(s)\n",
    "def de(s):\n",
    "    return base64.b64decode(s)\n",
    "en(\"\")"
   ]
  },
  {
   "cell_type": "code",
   "execution_count": null,
   "metadata": {},
   "outputs": [],
   "source": [
    "linkFilter=[\"c2l0ZXJpcA==\",\"bGVzYmlhbg==\"]\n",
    "urlBase=\"aHR0cDovL2Z1bGx4eHhtb3ZpZXMubmV0\"\n",
    "soup=getSoup(de(urlBase))\n",
    "urls=getSubLinks(soup)"
   ]
  },
  {
   "cell_type": "code",
   "execution_count": null,
   "metadata": {},
   "outputs": [],
   "source": [
    "getSoup(urls[0]).find(\"title\")"
   ]
  },
  {
   "cell_type": "code",
   "execution_count": null,
   "metadata": {
    "collapsed": true
   },
   "outputs": [],
   "source": [
    "safari = app(\"Safari\")\n",
    "fileNames={}\n",
    "numFin=20"
   ]
  },
  {
   "cell_type": "code",
   "execution_count": null,
   "metadata": {
    "scrolled": false
   },
   "outputs": [],
   "source": [
    "def pageLoop(urls,safariLoad=True,boolPrint=False):\n",
    "    for url in urls:\n",
    "        urlSoup=getSoup(url)\n",
    "        for nLink,link in enumerate(getOpenloadLinks(urlSoup)):\n",
    "            sLink=link.rsplit(\"/\")[-1]\n",
    "            if boolPrint:\n",
    "                print urlSoup.title.text\n",
    "                print sLink\n",
    "                print link\n",
    "            fileNames[sLink]=urlSoup.title.text+\"-%d\"%nLink\n",
    "            if safariLoad:\n",
    "                ok=raw_input(\"Press Enter to continue...\")\n",
    "                if ok.lower()!=\"n\":\n",
    "                    safari.windows.first.current_tab.URL.set(link)\n"
   ]
  },
  {
   "cell_type": "code",
   "execution_count": null,
   "metadata": {},
   "outputs": [],
   "source": [
    "page=getSoup(de(urlBase))\n",
    "for i in range(numFin):\n",
    "    print \"page %02d\"%i\n",
    "    print\n",
    "    \n",
    "    urls=getSubLinks(page)\n",
    "    pageLoop(urls,safariLoad=False,boolPrint=False)\n",
    "    page = getNextPage(page)\n"
   ]
  },
  {
   "cell_type": "code",
   "execution_count": null,
   "metadata": {
    "scrolled": false
   },
   "outputs": [],
   "source": [
    "fileNames"
   ]
  },
  {
   "cell_type": "code",
   "execution_count": null,
   "metadata": {},
   "outputs": [],
   "source": [
    "l=\"http://securely.link/LgQ06\"\n",
    "getTwitterSecurelyLink(l)"
   ]
  }
 ],
 "metadata": {
  "kernelspec": {
   "display_name": "Python 2",
   "language": "python",
   "name": "python2"
  },
  "language_info": {
   "codemirror_mode": {
    "name": "ipython",
    "version": 2
   },
   "file_extension": ".py",
   "mimetype": "text/x-python",
   "name": "python",
   "nbconvert_exporter": "python",
   "pygments_lexer": "ipython2",
   "version": "2.7.11"
  }
 },
 "nbformat": 4,
 "nbformat_minor": 1
}
