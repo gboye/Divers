{
 "cells": [
  {
   "cell_type": "code",
   "execution_count": 4,
   "metadata": {},
   "outputs": [],
   "source": [
    "import mechanicalsoup, bs4, re, lxml, json, chardet, unidecode"
   ]
  },
  {
   "cell_type": "code",
   "execution_count": 5,
   "metadata": {},
   "outputs": [],
   "source": [
    "browser = mechanicalsoup.Browser()"
   ]
  },
  {
   "cell_type": "code",
   "execution_count": 29,
   "metadata": {},
   "outputs": [],
   "source": [
    "def getSoup(url):\n",
    "    page = browser.get(url)\n",
    "    soup = bs4.BeautifulSoup(page.content,\"lxml\")\n",
    "    return soup"
   ]
  },
  {
   "cell_type": "markdown",
   "metadata": {},
   "source": [
    "### Coordinates \n",
    "N 43.45655 W 1.01695"
   ]
  },
  {
   "cell_type": "code",
   "execution_count": 7,
   "metadata": {},
   "outputs": [],
   "source": [
    "def makeSquare(bounds,supp=1):\n",
    "    coords=[]\n",
    "    lat1=bounds[\"northeast\"][\"lat\"]\n",
    "    long1=bounds[\"northeast\"][\"lng\"]\n",
    "    lat2=bounds[\"southwest\"][\"lat\"]\n",
    "    long2=bounds[\"southwest\"][\"lng\"]\n",
    "    h=lat1-lat2\n",
    "    l=long1-long2\n",
    "    hs=(lat1+lat2)/2-h\n",
    "    lw=(long1+long2)/2-supp*l\n",
    "    for n in range(2*supp+1):\n",
    "        for w in range(2*supp+1):\n",
    "            coords.append((round(hs+n*h,7),round(lw+w*l,7)))\n",
    "    return coords"
   ]
  },
  {
   "cell_type": "code",
   "execution_count": 8,
   "metadata": {},
   "outputs": [],
   "source": [
    "def makeHVLine(locCenter,deltas,supp=1,hollow=True):\n",
    "    gauche=[]\n",
    "    droite=[]\n",
    "    haut=[]\n",
    "    bas=[]\n",
    "    lat=locCenter[\"lat\"]\n",
    "    lng=locCenter[\"lng\"]\n",
    "    h,l=deltas\n",
    "    for i in range(supp):\n",
    "        n=i+1\n",
    "        gauche.append((lat,lng-n*l))\n",
    "        droite.append((lat,lng+n*l))\n",
    "        haut.append((lat+n*h,lng))\n",
    "        bas.append((lat-n*h,lng))\n",
    "    if hollow:\n",
    "        return gauche+haut+droite+bas\n",
    "    else:\n",
    "        return gauche+haut+[center]+droite+bas\n",
    "    \n",
    "def makeCross(bounds,supp=1,hollow=True):\n",
    "    coords=[]\n",
    "    locCenter={}\n",
    "    lat1=bounds[\"northeast\"][\"lat\"]\n",
    "    long1=bounds[\"northeast\"][\"lng\"]\n",
    "    lat2=bounds[\"southwest\"][\"lat\"]\n",
    "    long2=bounds[\"southwest\"][\"lng\"]\n",
    "    h=lat1-lat2\n",
    "    l=long1-long2\n",
    "    locCenter[\"lat\"]=round((lat1+lat2)/2,7)\n",
    "    locCenter[\"lng\"]=round((long1+long2)/2,7)\n",
    "    coords=makeHVLine(locCenter,(h,l),supp,hollow)\n",
    "    return coords"
   ]
  },
  {
   "cell_type": "code",
   "execution_count": 9,
   "metadata": {},
   "outputs": [],
   "source": [
    "def convert_fake_unicode_to_real_unicode(string):\n",
    "    '''https://stackoverflow.com/questions/9973815/python-to-show-special-characters'''\n",
    "    try:\n",
    "        return ''.join(map(chr, map(ord, string))).decode('utf-8')\n",
    "    except:\n",
    "        return string\n",
    "    \n",
    "\n",
    "def getWords(words):\n",
    "    result=words\n",
    "    try:\n",
    "        result=convert_fake_unicode_to_real_unicode(words)\n",
    "    except UnicodeDecodeError:\n",
    "        result=words\n",
    "    return result"
   ]
  },
  {
   "cell_type": "code",
   "execution_count": 28,
   "metadata": {},
   "outputs": [],
   "source": [
    "def getCoordsMots(origine,rayon,forme=\"O\"):\n",
    "    mots=[]\n",
    "    url=\"https://api.what3words.com/v2/reverse?coords=%f,%f&display=full&lang=fr&format=json&key=QBH16AWV\"%origine\n",
    "    jsonResult=getSoup(url).text.encode(\"utf8\")\n",
    "    center=json.loads(jsonResult)\n",
    "    cWords=center[\"words\"]\n",
    "    print (getWords(cWords))\n",
    "    print ()\n",
    "    if forme=='+':\n",
    "        wps=makeCross(center[\"bounds\"],rayon)\n",
    "    elif forme=='x':\n",
    "        wps=makeCross(center[\"bounds\"],rayon,hollow=False)\n",
    "    else:\n",
    "        wps=makeSquare(center[\"bounds\"],rayon)\n",
    "    for wp in wps:\n",
    "        url=\"https://api.what3words.com/v2/reverse?coords=%f,%f&display=full&lang=fr&format=json&key=QBH16AWV\"%wp\n",
    "        jsonResult=getSoup(url).text\n",
    "        result=json.loads(jsonResult)\n",
    "        rWords=result[\"words\"]\n",
    "        words=getWords(rWords)\n",
    "        mots.append(words)\n",
    "    return mots"
   ]
  },
  {
   "cell_type": "code",
   "execution_count": 13,
   "metadata": {},
   "outputs": [],
   "source": [
    "def getMotsMots(w3w,rayon,forme=\"O\",lang=\"fr\"):\n",
    "    mots=[]\n",
    "    url=\"https://api.what3words.com/v2/forward?addr=%s&display=full&format=json&key=QBH16AWV\"%w3w\n",
    "    jsonResult=getSoup(url).text\n",
    "    center=json.loads(jsonResult)\n",
    "    cCoords=center[\"geometry\"]\n",
    "    print (cCoords[\"lat\"],cCoords[\"lng\"])\n",
    "    print ()\n",
    "    if forme=='+':\n",
    "        wps=makeCross(center[\"bounds\"],rayon)\n",
    "    elif forme=='x':\n",
    "        wps=makeCross(center[\"bounds\"],rayon,hollow=False)\n",
    "    else:\n",
    "        wps=makeSquare(center[\"bounds\"],rayon)\n",
    "    for wp in wps:\n",
    "        url=\"https://api.what3words.com/v2/reverse?coords=%s&display=full&lang=%s&format=json&key=QBH16AWV\"%(\"%f,%f\"%wp,lang)\n",
    "        jsonResult=getSoup(url).text\n",
    "        result=json.loads(jsonResult)\n",
    "        rWords=result[\"words\"]\n",
    "        words=getWords(rWords)\n",
    "        mots.append(words)\n",
    "    return mots"
   ]
  },
  {
   "cell_type": "code",
   "execution_count": 30,
   "metadata": {},
   "outputs": [
    {
     "name": "stdout",
     "output_type": "stream",
     "text": [
      "relayer.formateur.hÃ©risser\n",
      "\n"
     ]
    }
   ],
   "source": [
    "rayon=10\n",
    "origine=(43.456541,-1.016953)\n",
    "origine=(43.162483, -1.239617)\n",
    "origine=(43.251750, -0.775150)\n",
    "origine=(45.017583, -0.429767)\n",
    "triplets=getCoordsMots(origine,rayon,forme=\"O\")"
   ]
  },
  {
   "cell_type": "code",
   "execution_count": 38,
   "metadata": {},
   "outputs": [
    {
     "name": "stdout",
     "output_type": "stream",
     "text": [
      "accessoire, accompagner, accumuler, adjectif, admettre, adverse, affûter, agissant, agrandi, alignement, alizÃ©, alpage, alvéole, amincir, animateur, annoncer, appareil, applicateur, apportant, approchons, appÃ¢ter, arguons, armature, aromatiser, arrêter, articuler, arÃ¨ne, asiatique, assaini, associons, astronaute, atelier, attelage, attestons, avançant, avenante, avenir, avérons, baladant, balader, banal, basse, batteur, beffroi, betterave, binette, boisant, bonbonne, bovin, brin, briser, brochette, brosser, broyeur, bulbe, calculer, camarade, camionnette, camoufler, caneton, capitaliser, carnassier, carrefour, carrossier, championne, changement, chantier, chatoyer, chauffer, chercheur, chiffreur, cirant, circuler, civisme, cligner, clouant, cohÃ©ritier, coiffons, combien, comparution, confrÃ¨re, connecter, consistance, consolider, copieuse, corriger, cotonneux, couchage, coupant, coussin, crabe, crachin, crapaud, cratÃ¨re, croire, crÃ©meuse, crémerie, crémière, culminant, cumuler, cyclisme, daigner, datons, dentier, dentition, devancer, devenons, digne, dinosaure, diriger, dogue, dortoir, dresseur, durer, dÃ©butons, dÃ©corant, dÃ©coratif, dÃ©coudre, dÃ©coupure, dÃ©couvre, dÃ©fendable, dÃ©givrer, dÃ©griser, dÃ©liter, dÃ©livrons, dÃ©nommer, dÃ©nouons, dÃ©tectons, dÃ©teler, dÃ©tente, déboîter, décidons, décoratif, découvrons, décréter, dégeler, déjeunant, démanger, démasquer, dénicher, dépassant, dépasser, désordre, effaÃ§ant, effiler, emmagasiner, empaqueter, empesage, enclume, endosser, enfantin, enjambement, enroulant, entente, escarpin, essayer, excessif, exclamons, exclure, exempter, existant, exotique, extraite, fabuleuse, facturer, faiseur, faxant, fixant, foin, forgeron, formatrice, forçons, frôlons, fusionner, gardant, gargariser, gavant, gelant, germant, gigoter, givrant, glissante, golfeur, graveur, greffon, griller, grisant, grive, guimauve, gÃ©ologue, gÃ®te, gémir, habituel, heureux, homologuer, huilons, humer, hérissonner, imaginant, immobilier, immÃ©diat, imprimante, inadaptable, inciter, incluant, incluons, indigner, indiquant, infiniment, infuser, infÃ©rer, initiatique, instructif, insérons, introuvable, inventer, irions, ironique, irrÃ©el, isoler, italique, jabot, jardinier, joviaux, jugeable, justesse, largement, lavant, laïus, libraire, librement, limitant, limiter, lisant, livreuse, localisons, losange, luxer, lÃ¨vre, lâchons, mairie, maison, mangeur, marbrer, marge, matelote, membre, mijoter, misant, mondial, moteur, mouette, mousseux, mouvance, muscler, mÃ©moriser, méridien, mésange, napperon, narrateur, narrons, naviguons, nostalgique, nourriture, olivette, ondoyer, oraux, orbital, orgeat, oursin, parafoudre, parrain, partager, patinant, patiner, paver, pendentif, perceuse, perlons, persil, peuplement, pierre, pierreux, pigmenter, piocheur, pivotant, plaise, plastron, platonique, plongeur, pointeur, poivron, poliment, porteur, portillon, possÃ©dons, potiron, poussons, prendre, pression, prince, productif, productrice, profonde, prologue, propre, prouvons, puisque, pétiller, rachetant, racheter, racontons, rambarde, ramer, ramette, rameuse, ramifier, rasséréner, reboiser, rebond, rebondir, recaler, recherchant, recouvert, redise, redisons, redonnons, refermons, regardons, relayer, renard, reniflement, repaver, repensons, reposons, repÃ©rer, repérage, requin, retirant, rigidement, rivaliser, rocher, ronronner, rotateur, rotative, roulons, roussir, rouvrir, royalisme, rude, rutabaga, rÃ¢peux, rÃ©adapter, rÃ©ducteur, rÃ©gnant, rÃ©utiliser, rÃ©viser, régénère, sagesse, saisir, salin, satisfaire, saumurer, secteur, selon, semeuse, semoir, septuor, serveur, sifflant, simplement, sociaux, soigneux, songer, source, sourire, squelette, sucrant, suivre, surimposer, survoler, sÃ©cher, sÃ©datif, sÃ©lectif, séance, séante, sécheresse, tabler, tablons, temporel, timide, toiler, tombons, tramant, translatif, travaux, trottant, trouons, trÃ©bucher, trÃ©mie, usinant, vachette, validons, vidanger, virons, viser, vitrer, vivant, vénérable, zÃ¨bre, zébrons, Ã©branler, Ã©cole, Ã©galiser, Ã©largir, Ã©lectrique, Ã©lisant, Ã©manons, Ã©olienne, Ã©pelant, Ã©piant, Ã©pineux, Ã©talement, Ã©ternuer, Ã©ther, Ã©tions, Ã©troitement, Ã©veiller, écriture, éditons, émouvoir, énonçons, épatante, époque, épurons\n"
     ]
    }
   ],
   "source": [
    "mots1=set()\n",
    "for triplet in triplets:\n",
    "    mots1.add(triplet.split(\".\")[0])\n",
    "print (\", \".join(sorted(mots1)))"
   ]
  },
  {
   "cell_type": "code",
   "execution_count": 4,
   "metadata": {},
   "outputs": [
    {
     "data": {
      "text/plain": [
       "'alizÃ©'"
      ]
     },
     "execution_count": 4,
     "metadata": {},
     "output_type": "execute_result"
    }
   ],
   "source": [
    "\"alizÃ©\""
   ]
  },
  {
   "cell_type": "code",
   "execution_count": null,
   "metadata": {},
   "outputs": [
    {
     "name": "stdout",
     "output_type": "stream",
     "text": [
      "relayer.formateur.hÃ©risser\n",
      "\n",
      "['reboiser.blondir.attrapant', 'dénicher.hôpital.relogement', 'trouons.acquérir.vêler', 'camoufler.citadin.paupiÃ¨re', 'platonique.tapement.goÃ»tons', 'asiatique.nuage.abaisser', 'calculer.bizarre.coiffons', 'tablons.modÃ©rateur.amicaux', 'banal.emporter.peuplons', 'profonde.alliage.catcheur', 'indigner.adverbe.poupon', 'brochette.sucrer.aviateur', 'cotonneux.agissant.Ã©largir', 'séance.infirmière.râpeux', 'gargariser.somnolons.fichage', 'jugeable.chocolat.coursier', 'maison.détendre.déplaçant', 'animateur.derrière.épluchure', 'rachetant.imprimons.accouru', 'paver.dÃ©bordante.retirer', 'attelage.remerciant.broyons', 'introuvable.prouvons.rebond', 'arrêter.réduire.épaisse', 'regardons.mesurage.fleurir', 'jabot.violette.agio', 'découvrons.semant.épater', 'repaver.enfanter.corsons', 'hérissonner.mélangeons.amarrage', 'muscler.balayons.sablier', 'dÃ©coudre.explicatif.timide', 'librement.nÅ“ud.rameuse', 'relayer.formateur.hÃ©risser', 'zÃ¨bre.valoir.savonnant', 'existant.membre.sÃ©curisant', 'mésange.natal.défendre', 'Ã©pineux.rire.dominateur', 'crémerie.chèvre.orteil', 'temporel.cacao.gravement', 'camarade.dÃ©vorant.misons', 'mouvance.motoriser.spÃ©cimen', 'inventer.durci.quasi', 'poliment.alternatif.mÃ©ridien', 'croire.aéroport.bâtiment', 'baladant.devancement.sautiller', 'oraux.viagÃ¨re.visiteuse', 'crapaud.capuche.muscade', 'persil.soulevant.Ã©quilibrer', 'avançant.démonter.douanier', 'daigner.garagiste.dessinons', 'comparution.exclamant.aimable', 'foin.jouant.bancal', 'patiner.attiser.admettant', 'semoir.flamber.hardi', 'marge.bientÃ´t.affilage', 'chantier.ralentir.muette', 'enjambement.dÃ©mystifier.allumage', 'gardant.guetter.accroupir', 'plastron.ouvrir.tartelette', 'démasquer.finançons.apaisant', 'perceuse.pudeur.apurons', 'déboîter.mouliner.longueur', 'source.anticiper.montagnarde', 'cratÃ¨re.remordre.canard', 'zébrons.tapioca.lançant', 'roulons.accroupir.rutabaga', 'capitaliser.bonbon.inventons', 'toiler.alarmer.cÃ´telette', 'balader.hautement.gardon', 'parafoudre.frileux.merlan', 'culminant.venger.rinÃ§ant', 'redisons.candidat.oblitÃ¨re', 'dortoir.vocabulaire.lampion', 'sÃ©datif.soif.recouvrer', 'source.brasure.terrage', 'alpage.courageuse.tÃ©lescoper', 'admettre.lÃ©cher.soupirant', 'rasséréner.doctorat.dégeler', 'trÃ©mie.qualifiable.rejouons', 'ronronner.laissant.rajouter', 'rotateur.brasser.enluminer', 'simplement.lavage.tournure', 'racheter.mÃ©langer.patois', 'guimauve.bonjour.tirelire', 'changement.causons.stimulation', 'dÃ©tente.trompette.utilisable', 'ironique.vraiment.presque', 'armature.Ã©gouttons.fracturer', 'semeuse.rainette.reparler', 'vivant.flaque.manquante', 'graveur.aligner.austÃ¨re', 'associons.vocaux.quotidien', 'digne.clouer.stimuler', 'limitant.probante.attiser', 'source.solde.mobilier', 'lavant.redoubler.Ã©clairer', 'affûter.jachère.tracter', 'gelant.gargariser.colvert', 'sifflant.aciditÃ©.cyclique', 'rutabaga.génétique.corroder', 'patinant.algÃ¨bre.urbain', 'plaise.articuler.instaurer', 'viser.dÃ©nouons.refroidir', 'durer.revirement.rasséréner', 'imaginant.hurlons.Ã©teindre', 'rÃ©utiliser.replier.capturer', 'rÃ¢peux.dalmatien.caroube', 'porteur.admirant.secondaire', 'faiseur.préférer.alpestre', 'prologue.froide.comparer', 'squelette.tombante.selon', 'mousseux.cliquons.dÃ©dier', 'misant.intÃ©grant.essorage', 'atelier.partenaire.exiger', 'faxant.prÃ©parons.enrouler', 'losange.bouchÃ¨re.rajoutant', 'italique.larguer.dÃ©cocher', 'chercheur.fier.assurer', 'potiron.méduser.manège', 'repérage.reproduite.éclat', 'rebondir.manquer.manchette', 'attestons.digÃ©rant.nageons', 'devancer.prestation.espacer', 'prendre.percuter.certifier', 'exempter.mélodique.récitant', 'dÃ©fendable.agrandi.fougue', 'amincir.autorail.girafon', 'refermons.voilier.soulagement', 'irrÃ©el.murette.mulot', 'binette.urgence.continuant', 'cyclisme.revendeur.rayer', 'beffroi.propulsive.boucher', 'rocher.Ã©paissie.basse', 'initiatique.devenons.soigner', 'secteur.majeur.Ã©lancer', 'Ã©tions.juger.gaine', 'localisons.comprise.bricoler', 'narrons.bisonne.peintre', 'empaqueter.remettre.habiller', 'songer.illustrons.aboyer', 'retirant.rédigeons.réalisons', 'piocheur.bloquant.Ã©clatement', 'rÃ©ducteur.dansante.ficher', 'repensons.boulangÃ¨re.laxisme', 'poivron.effarer.commenter', 'mijoter.cabanon.balayons', 'infuser.allÃ©gir.hurler', 'dÃ©givrer.camionneur.donneur', 'rÃ©gnant.raseur.calcaire', 'incluant.lÃ©gender.couverture', 'pression.dépêchant.couvrant', 'suivre.picorer.dÃ©clarant', 'productif.suggÃ©rant.moulage', 'exotique.dÃ©panner.repassons', 'pétiller.aéronaute.segmenter', 'consistance.Ã©colier.relire', 'redise.muer.arbuste', 'dentition.rejouer.apurant', 'requin.héros.légère', 'dentier.tournesol.aisÃ©ment', 'circuler.répondre.dépendre', 'luxer.Ã©carquiller.volontaire', 'givrant.ramasser.prÃ©dise', 'astronaute.râpeux.ministère', 'validons.crÃ©ateur.fourniture', 'épatante.grelot.écrêter', 'brosser.Ã©veillons.bichette', 'Ã©ternuer.naturaliser.huiler', 'bulbe.opinant.rougeÃ¢tre', 'libraire.appuyant.attelage', 'racontons.couchette.merle', 'reposons.écriture.célibataire', 'dépasser.fumer.décélérer', 'dÃ©livrons.ricaner.citoyen', 'peuplement.meneuse.sauf', 'indiquant.farineux.plaisir', 'effaÃ§ant.gamme.permette', 'accompagner.langage.lent', 'huilons.insistons.remboÃ®ter', 'enfantin.assoupir.engager', 'effiler.ioniser.bavarder', 'tombons.affirmer.hardi', 'habituel.embellir.hÃ©berger', 'reniflement.Ã©piant.camoufler', 'entente.tournesol.continuer', 'forçons.étude.cogiter', 'lâchons.réparer.surveiller', 'serveur.rÃ©aliste.corail', 'soigneux.tardive.traduite', 'isoler.simplement.associative', 'gigoter.sifflons.appartenir', 'accessoire.rÃ©siner.conduite', 'limiter.recrutons.motoriser', 'chatoyer.surpayer.orbital', 'possÃ©dons.moustique.envieuse', 'Ã©pineux.tarir.redisons', 'carrossier.trÃªve.muette', 'coupant.tremplin.mÃ©langer', 'rigidement.rainette.relisant', 'cumuler.pancarte.allumons', 'sÃ©cher.rituel.spirituel', 'vénérable.dénoter.blouser', 'homologuer.camoufler.baigner', 'dÃ©griser.vivante.cocarde', 'décréter.arriver.égayant', 'inadaptable.joli.dÃ©mesure', 'largement.amusons.dentiste', 'désordre.aviateur.révéler', 'sécheresse.bonjour.frontière', 'décidons.poétiser.bêchant', 'laïus.homologuer.chéquier', 'Ã©piant.binette.cresson', 'surimposer.gymnase.frisure', 'méridien.atteinte.préférant', 'ramifier.soudons.besoin', 'vachette.verdÃ¢tre.probante', 'gavant.jeton.coÃ»ter', 'Ã©veiller.droit.violon', 'salin.planchette.redite', 'puisque.Ã©quipier.penseur', 'trottant.enfiler.Ã©vertuer', 'justesse.offrant.universel', 'agrandi.moteur.critÃ¨re', 'dépassant.civique.génitif', 'sourire.structurer.remonter', 'séante.recoudre.fêtant', 'sucrant.miroiter.familier', 'dresseur.spÃ©cimen.plombage', 'lÃ¨vre.consommer.grange', 'arÃ¨ne.inclure.agripper', 'Ã©lectrique.optant.vorace', 'crÃ©meuse.judiciaire.latin', 'productrice.alternateur.actif', 'broyeur.levage.humeur', 'inciter.apnÃ©e.ouverte', 'ondoyer.horde.rÃ©citation', 'Ã©talement.bravade.achat', 'extraite.décréter.ponçant', 'glissante.Ã©vier.innombrable', 'sociaux.perlant.chanceux', 'émouvoir.assortir.idéalement', 'avenir.fusain.fÃªler', 'matelote.truculente.lÃ©ger', 'pigmenter.rÃ©sineux.comme', 'écriture.nantir.léguant', 'parrain.employeur.sevrer', 'boisant.spéciaux.étouffante', 'enroulant.virtuel.retaper', 'diriger.prÃ©cisons.bulbe', 'démanger.coinçage.sucrer', 'rÃ©adapter.situant.marquer', 'selon.croÃ®tre.bouger', 'escarpin.comprendre.glaneur', 'appareil.Ã©tablir.chaudron', 'Ã©troitement.remordre.chaton', 'décoratif.coiffons.gémir', 'coussin.savourons.portail', 'dÃ©corant.molaire.causeur', 'ramer.héroïque.secourable', 'pointeur.dÃ©sireuse.poussoir', 'virons.emprise.cultivateur', 'gÃ®te.ours.ciblons', 'briser.estimatif.rigueur', 'dÃ©tectons.moulant.furieux', 'bonbonne.bahut.moineau', 'corriger.cÃ¢lin.clou', 'emmagasiner.regrouper.couchage', 'mangeur.postant.planant', 'cohÃ©ritier.plaquette.patronyme', 'travaux.logiciel.Ã©crin', 'excessif.gruyÃ¨re.ricaner', 'rÃ©ducteur.ordinaux.jabot', 'nostalgique.conserver.sÃ©ante', 'chauffer.taquinons.dignement', 'renard.blindage.kilomÃ¨tre', 'greffon.incognito.sinueuse', 'frôlons.abréger.oncle', 'dinosaure.battage.Ã©venter', 'pierre.évacuer.plénière', 'betterave.serions.platonique', 'dÃ©coratif.betterave.faufiler', 'régénère.foire.mondain', 'applicateur.poulpe.doublage', 'brin.formuler.revalider', 'exclure.couchette.briser', 'translatif.rucher.relisant', 'perlons.assureur.picoter', 'insérons.épingler.algue', 'dÃ©nommer.nageur.retardement', 'orbital.faciliter.masculin', 'dÃ©liter.soignons.jeter', 'mondial.aventurier.dogue', 'moteur.descriptif.rÃ©glable', 'cirant.grappin.accepter', 'adjectif.aventuriÃ¨re.herbier', 'heureux.frÃ©quenter.changement', 'livreuse.ouragan.envelopper', 'civisme.soucier.Ã©olienne', 'articuler.acheteur.coiffer', 'pendentif.clapir.pommier', 'dÃ©butons.ciseler.sucrons', 'championne.adepte.dÃ©tende', 'ramette.minimiser.perlons', 'timide.formuler.recopier', 'déjeunant.paysanne.abréger', 'accumuler.lunette.bÃ©at', 'oursin.crisser.clavier', 'instructif.revoir.dominateur', 'immobilier.dÃ©nommer.robuste', 'arguons.gratiner.ajoutant', 'apportant.militer.indigestion', 'mÃ©moriser.titrer.fichons', 'mairie.tapoter.maternel', 'carrefour.focaliser.sectoriser', 'tabler.raidir.rabotage', 'confrÃ¨re.donc.dansant', 'roussir.plaÃ§ant.tropique', 'nourriture.spÃ©ciaux.striant', 'avenante.jaloux.avalons', 'infÃ©rer.ratifier.lunaire', 'grisant.vivement.chaussette', 'mouette.demandeur.inspirer', 'partager.gruyÃ¨re.calmons', 'dÃ©couvre.privatiser.disperser', 'poussons.cigare.Ã©ventail', 'copieuse.dÃ©coratif.translatif', 'batteur.cambrure.latÃ©raux', 'dÃ©coupure.gagnons.perdrix', 'recaler.oubliant.rÃªve', 'saisir.accessoire.Ã©plucher', 'carnassier.optons.refondre', 'profonde.novateur.saladier', 'Ã©galiser.embrassons.empocher', 'pierreux.actrice.dissuasif', 'marbrer.asiatique.captons', 'repÃ©rer.ramer.empaqueter', 'tramant.zonage.remordre', 'rude.automatisme.Ã©picentre', 'humer.cafÃ©ier.clouons', 'devenons.losange.universel', 'Ã©ther.fictif.soulager', 'datons.bavardons.dialecte', 'forgeron.désabonner.déborder', 'énonçons.intervienne.déclamer', 'alizÃ©.raciner.patois', 'septuor.vermeil.incroyable', 'approchons.citadin.cogiter', 'survoler.monarque.profiter', 'endosser.rubrique.ruban', 'crabe.lamer.lÃ¢cher', 'prince.séparant.réclamons', 'germant.rive.concluons', 'sagesse.congelant.bradant', 'dÃ©nouons.augmentant.branchons', 'Ã©branler.impulsion.redisons', 'rivaliser.cuver.officier', 'Ã©cole.pomper.sacrer', 'basse.dÃ©brancher.auberge', 'napperon.digne.compatir', 'incluons.assiette.explorateur', 'fusionner.aborder.cheptel', 'rouvrir.poliment.vrac', 'satisfaire.parlons.mouvement', 'essayer.partons.intuitif', 'dÃ©teler.comparant.mariner', 'pivotant.mÃ©langeons.cultiver', 'fixant.préparer.ôter', 'recherchant.zouk.rhÃ©teur', 'grive.pleinement.quÃªtons', 'rÃ©viser.breuvage.rotateur', 'crémière.civette.tricotons', 'Ã©olienne.bloquer.encastrable', 'orgeat.mÃ©ninge.ciblant', 'appÃ¢ter.contredire.replier', 'lisant.gageons.gigot', 'facturer.flatteur.versement', 'usinant.oublieux.ravir', 'bovin.opposer.pondÃ©rateur', 'connecter.sÃ©cable.jovial', 'gémir.guérir.bouchère', 'agissant.décimaux.sucrière', 'naviguons.dÃ©complexer.soupirer', 'propre.Ã©glantier.tuiler', 'rameuse.matiÃ¨re.flairer', 'époque.bêchage.propulsive', 'assaini.carrure.Ã©vasement', 'saumurer.existons.simuler', 'coiffons.cerfeuil.branchement', 'avérons.sapinière.enrober', 'vitrer.citoyen.fictive', 'redonnons.entrain.trÃ©sorerie', 'formatrice.patiner.bouillon', 'olivette.imitable.breuvage', 'griller.blindage.ruisselante', 'jardinier.atelier.veston', 'rebond.balayant.adverse', 'imprimante.devinons.pianiste', 'consolider.repeindre.trempons', 'dogue.respirer.alourdir', 'camionnette.uniquement.allusion', 'Ã©lisant.dirigeons.constituer', 'royalisme.machinal.coller', 'membre.arbitrage.copiste', 'Ã©largir.attentif.noisetier', 'portillon.algue.tentons', 'crachin.ponÃ§ant.torse', 'caneton.barbu.chemiserie', 'vidanger.oursin.instaurer', 'épurons.innovant.réécrire', 'plongeur.messagerie.carriÃ¨re', 'prouvons.sauÃ§ant.consommer', 'alvéole.soigneux.panthère', 'trÃ©bucher.tien.limitrophe', 'immÃ©diat.rotonde.verbeux', 'empesage.valoir.revendeur', 'combien.poche.journalisme', 'narrateur.abriter.centrer', 'Ã©pelant.calculer.voyance', 'infiniment.slalomeuse.zinguer', 'rotative.rapide.empiler', 'couchage.ciblant.mondain', 'enclume.traverse.bilan', 'aromatiser.combler.meute', 'recouvert.jaspe.hoche', 'exclamons.reclouer.mimant', 'annoncer.empÃªcher.exposant', 'clouant.dépêchons.encastrer', 'Ã©manons.langage.commun', 'gÃ©ologue.rassembler.clairon', 'golfeur.grÃªlant.fraise', 'irions.courbure.jaunir', 'sÃ©lectif.fonction.naviguer', 'joviaux.faveur.dÃ©raciner', 'fabuleuse.recaler.divisons', 'alignement.volontaire.Ã©criture', 'adverse.repenser.entamer', 'cligner.paresser.voilons', 'chiffreur.trompette.expÃ©dier', 'éditons.alester.réduisons', 'pendentif.vitrage.incitant', 'rambarde.publier.entreposer', 'dégeler.brûlante.autorail']\n"
     ]
    }
   ],
   "source": [
    "# w3w=u\"battage.faïence.doublon\"\n",
    "#w3w=u\"couchant.sevrer.modique\"\n",
    "#w3w=u\"aviatrice.optimiste.côte\"\n",
    "#w3w=u\"épineux.aboyeur.comparative\"\n",
    "#w3w=u\"\"\n",
    "#w3w=u\"factice.kiosque.affectif\"\n",
    "#w3w=u\"lendemain.ramequin.camembert\"\n",
    "#w3w=u\"boisson.massif.encadrer\"\n",
    "#w3w=u\"maigre.aucun.intrépide\"\n",
    "#w3w=u\"calendrier.différer.connexe\"\n",
    "#w3w=u\"aussitôt.honneur.chercher\"\n",
    "#w3w=u\"rôtisseur.gratinons.patinant\"\n",
    "#w3w=u\"fanion.montrant.amenons\"\n",
    "w3w=u\"trouver.livrer.revoir\"\n",
    "w3w=u\"combien.gardien.tissure\"\n",
    "w3w=u\"valeur.séparer.éclair\"\n",
    "w3w=u\"réactivons.connexe.réacteur\"\n",
    "w3w=u\"enduire.léguons.écurie\"\n",
    "w3w=u\"découverte.plombier.picoter\"\n",
    "w3w=u\"trembler.suivante.canif\""
   ]
  },
  {
   "cell_type": "code",
   "execution_count": 16,
   "metadata": {
    "scrolled": true
   },
   "outputs": [
    {
     "name": "stdout",
     "output_type": "stream",
     "text": [
      "43.464087 -1.549305\n",
      "\n",
      "imprimant.rimant.disque\n",
      "débat.décorons.assoupir\n",
      "bourdon.targuer.soupape\n",
      "cirant.tartiner.facturer\n",
      "déclic.fixement.vivace\n",
      "chavirer.froideur.laurier\n",
      "toiture.piéton.moutarde\n",
      "trembler.suivante.canif\n",
      "apprécions.mondiaux.bancal\n",
      "entente.brisons.mouette\n",
      "pierre.corail.copiage\n",
      "filtrer.élisant.visant\n",
      "musicien.trier.replier\n",
      "déplacer.ourson.sablant\n",
      "broute.chausson.voici\n",
      "avouer.saumon.peignoir\n",
      "accouru.personne.bordant\n",
      "dortoir.vocaux.gérons\n",
      "salière.stuc.combien\n",
      "berçons.azote.rétablir\n",
      "ventre.lanière.marge\n",
      "blanche.diluons.bricoler\n",
      "marteler.mijoter.jambe\n",
      "jouons.fonçant.profiter\n",
      "machin.publions.bassin\n",
      "43.464087 -1.549305\n",
      "\n",
      "apprécions bancal bourdon mondiaux moutarde musicien piéton replier soupape targuer toiture trier\n"
     ]
    }
   ],
   "source": [
    "# print \"\\n\".join(getCoordsMots(origine,4))\n",
    "# print\n",
    "print (\"\\n\".join(getMotsMots(w3w,2,forme=\"O\",lang=\"fr\")))\n",
    "lexique=sorted(u\".\".join(getMotsMots(w3w,1,forme=\"+\")).split(u\".\"),key=unidecode.unidecode)\n",
    "print (\" \".join(lexique))"
   ]
  },
  {
   "cell_type": "code",
   "execution_count": 238,
   "metadata": {},
   "outputs": [
    {
     "name": "stdout",
     "output_type": "stream",
     "text": [
      "fermons.fêter.ponde {u'lat': 43.496348, u'lng': -1.469057} 36.845227947\n",
      "laver.brider.grange {u'lat': 43.496294, u'lng': -1.469057} 36.8445244639\n",
      "ponde.blaguer.cireux {u'lat': 43.474679, u'lng': -1.464113} 36.2413601099\n",
      "rougeur.vissant.cireux {u'lat': 43.496321, u'lng': -1.469019} 36.8418237885\n",
      "vrai.blaguer.carotte {u'lat': 43.496321, u'lng': -1.469094} 36.8478480615\n"
     ]
    }
   ],
   "source": [
    "import itertools as it\n",
    "import geopy.distance\n",
    "\n",
    "for m1,m2,m3 in it.permutations(lexique,3):\n",
    "    mots=\"%s.%s.%s\"%(m1,m2,m3)\n",
    "    url=\"https://api.what3words.com/v2/forward?addr=%s&display=full&format=json&key=QBH16AWV\"%mots\n",
    "    jsonResult=getSoup(url).text\n",
    "    center=json.loads(jsonResult)\n",
    "    cCoords=center[\"geometry\"]\n",
    "    distance=geopy.distance.distance(origine,(cCoords[\"lat\"],cCoords[\"lng\"])).km\n",
    "    if distance<50:\n",
    "        print (mots,cCoords,distance)\n",
    "#    print mots, geopy.distance.distance(origine,(cCoords[\"lat\"],cCoords[\"lng\"])).km"
   ]
  },
  {
   "cell_type": "code",
   "execution_count": null,
   "metadata": {},
   "outputs": [],
   "source": [
    "potentiels=[u\"méridien.maquette.animant\",\n",
    "            u\"trouver.livrer.revoir\",\n",
    "            u\"gravure.poème.îlot\",\n",
    "            u\"touriste.naître.rieur\",\n",
    "            u\"insolite.pesante.espèce\",\n",
    "            u\"trouver.livrer.revoir\",\n",
    "            u\"touchons.centrer.décodage\",\n",
    "            u\"chercher.lorsque.frôlant\",\n",
    "            u\"sentant.emmener.espérer\",\n",
    "            u\"retirer.pièce.refaire\",\n",
    "            u\"tortue.carotte.crevette\",\n",
    "            \n",
    "           ]"
   ]
  }
 ],
 "metadata": {
  "kernelspec": {
   "display_name": "Python 3 (ipykernel)",
   "language": "python",
   "name": "python3"
  },
  "language_info": {
   "codemirror_mode": {
    "name": "ipython",
    "version": 3
   },
   "file_extension": ".py",
   "mimetype": "text/x-python",
   "name": "python",
   "nbconvert_exporter": "python",
   "pygments_lexer": "ipython3",
   "version": "3.11.8"
  }
 },
 "nbformat": 4,
 "nbformat_minor": 4
}
