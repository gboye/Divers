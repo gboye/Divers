{
 "cells": [
  {
   "cell_type": "markdown",
   "metadata": {},
   "source": [
    "# Téléchargement Contes de Grimm pour Charabias"
   ]
  },
  {
   "cell_type": "code",
   "execution_count": 1,
   "metadata": {},
   "outputs": [],
   "source": [
    "import mechanicalsoup,yaml\n",
    "import bs4, re, lxml, unidecode,codecs"
   ]
  },
  {
   "cell_type": "code",
   "execution_count": 2,
   "metadata": {},
   "outputs": [],
   "source": [
    "urlBase=\"https://www.grimmstories.com\""
   ]
  },
  {
   "cell_type": "code",
   "execution_count": 3,
   "metadata": {},
   "outputs": [],
   "source": [
    "browser = mechanicalsoup.StatefulBrowser()"
   ]
  },
  {
   "cell_type": "code",
   "execution_count": 4,
   "metadata": {},
   "outputs": [
    {
     "data": {
      "text/plain": [
       "<Response [200]>"
      ]
     },
     "execution_count": 4,
     "metadata": {},
     "output_type": "execute_result"
    }
   ],
   "source": [
    "browser.open(urlBase)"
   ]
  },
  {
   "cell_type": "code",
   "execution_count": 5,
   "metadata": {},
   "outputs": [],
   "source": [
    "languagePage={}\n",
    "for link in browser.get_current_page().select('a'):\n",
    "    if len(link.text)==2:\n",
    "        languagePage[link.text]=link.attrs['href'].replace(\"index\",\"list\")"
   ]
  },
  {
   "cell_type": "code",
   "execution_count": 6,
   "metadata": {},
   "outputs": [
    {
     "data": {
      "text/plain": [
       "{u'DA': 'https://www.grimmstories.com/da/grimm_eventyr/list',\n",
       " u'DE': 'https://www.grimmstories.com/de/grimm_maerchen/list',\n",
       " u'EN': 'https://www.grimmstories.com/en/grimm_fairy-tales/list',\n",
       " u'ES': 'https://www.grimmstories.com/es/grimm_cuentos/list',\n",
       " u'FI': 'https://www.grimmstories.com/fi/grimm_sadut/list',\n",
       " u'FR': 'https://www.grimmstories.com/fr/grimm_contes/list',\n",
       " u'HU': 'https://www.grimmstories.com/hu/grimm_mesek/list',\n",
       " u'IT': 'https://www.grimmstories.com/it/grimm_fiabe/list',\n",
       " u'JA': 'https://www.grimmstories.com/ja/grimm_dowa/list',\n",
       " u'KO': 'https://www.grimmstories.com/ko/grimm_donghwa/list',\n",
       " u'NL': 'https://www.grimmstories.com/nl/grimm_sprookjes/list',\n",
       " u'PL': 'https://www.grimmstories.com/pl/grimm_basnie/list',\n",
       " u'PT': 'https://www.grimmstories.com/pt/grimm_contos/list',\n",
       " u'RO': 'https://www.grimmstories.com/ro/grimm_basme/list',\n",
       " u'RU': 'https://www.grimmstories.com/ru/grimm_skazki/list',\n",
       " u'TR': 'https://www.grimmstories.com/tr/grimm_masallari/list',\n",
       " u'VI': 'https://www.grimmstories.com/vi/grimm_truyen/list',\n",
       " u'ZH': 'https://www.grimmstories.com/zh/grimm_tonghua/list'}"
      ]
     },
     "execution_count": 6,
     "metadata": {},
     "output_type": "execute_result"
    }
   ],
   "source": [
    "languagePage"
   ]
  },
  {
   "cell_type": "code",
   "execution_count": 7,
   "metadata": {},
   "outputs": [],
   "source": [
    "langues=[\"DA\",\"DE\",\"EN\",\"FI\",\"HU\",\"NL\",\"RO\",\"TR\",\"VI\",\"FR\"]"
   ]
  },
  {
   "cell_type": "raw",
   "metadata": {},
   "source": [
    "def getLangue(codeLangue):\n",
    "    browser.open(languagePage[codeLangue])\n",
    "    nbPages=1\n",
    "    page=browser.get_current_page()\n",
    "    for span in page.find_all(\"span\", class_=\"rechts\"):\n",
    "        for a in span.select(\"a\"):\n",
    "            href=a.attrs[\"href\"]\n",
    "            if \"?page=\" in href:\n",
    "                nbPages=max(nbPages,int(href.rsplit(\"=\",1)[1]))\n",
    "                languageBase=href.rsplit(\"=\",1)[0]+\"=\"\n",
    "\n",
    "    tales={}\n",
    "    for nPage in [languageBase+\"%d\"%(n+1) for n in range(nbPages)]:\n",
    "        browser.open(nPage)\n",
    "        page=browser.get_current_page().find(\"div\", class_=\"main\")\n",
    "        for title in page.find_all(\"div\", class_=\"list_titles\"):\n",
    "            for link in title.select(\"a\"):\n",
    "                href=link.attrs[\"href\"]\n",
    "                if urlBase in href and not \"index?page\" in href:\n",
    "                    nTale=title.find(\"img\").attrs[\"src\"].rsplit(\"/\",1)[1].split(\".\")[0]\n",
    "                    tale=href.rsplit(\"/\",1)[1]\n",
    "                    tales[nTale]=link.attrs['href']\n",
    "    textes={}\n",
    "    for tale in tales:\n",
    "        browser.open(tales[tale])\n",
    "        page=browser.get_current_page()\n",
    "        texte=browser.get_current_page().find(\"div\", class_=\"text\")\n",
    "        textes[tale]=texte.prettify()\n",
    "    return tales,textes"
   ]
  },
  {
   "cell_type": "code",
   "execution_count": 8,
   "metadata": {},
   "outputs": [],
   "source": [
    "def getLangue(codeLangue):\n",
    "    browser.open(languagePage[codeLangue])\n",
    "    tales={}\n",
    "    page=browser.get_current_page().find(\"div\", class_=\"main\")\n",
    "    for ligne in page.find_all(\"li\"):\n",
    "        conte=ligne.find(\"span\",class_=\"nr\")\n",
    "        if conte:\n",
    "            nConte=conte.text\n",
    "            a=ligne.find(\"a\")\n",
    "            if a:\n",
    "                nomConte=a.text\n",
    "                urlConte=a.attrs[\"href\"]\n",
    "                if not nConte in tales:\n",
    "                    tales[nConte]={}\n",
    "                tales[nConte][\"titre\"]=nomConte\n",
    "                tales[nConte][\"url\"]=urlConte\n",
    "    for tale in tales:\n",
    "        browser.open(tales[tale][\"url\"])\n",
    "        page=browser.get_current_page()\n",
    "        texte=browser.get_current_page().find(\"div\", class_=\"text\")\n",
    "        tales[tale][\"texte\"]=texte.prettify()\n",
    "    return tales"
   ]
  },
  {
   "cell_type": "code",
   "execution_count": 9,
   "metadata": {
    "scrolled": true
   },
   "outputs": [],
   "source": [
    "base={}\n",
    "for langue in langues:\n",
    "    tales=getLangue(langue)\n",
    "    for tale in tales:\n",
    "        if not tale in base:\n",
    "            base[tale]={}\n",
    "        if not langue in base[tale]:\n",
    "            base[tale][langue]={}\n",
    "        base[tale][langue][\"url\"]=tales[tale][\"url\"]\n",
    "        base[tale][langue][\"numero\"]=tale\n",
    "        base[tale][langue][\"titre\"]=tales[tale][\"titre\"]\n",
    "        base[tale][langue][\"texte\"]=tales[tale][\"texte\"]\n"
   ]
  },
  {
   "cell_type": "code",
   "execution_count": 10,
   "metadata": {},
   "outputs": [],
   "source": [
    "with codecs.open('Grimm.text', 'w',encoding=\"utf8\") as outfile:\n",
    "    for tale in sorted(base.keys()):\n",
    "        outfile.writelines(tale+\"\\n\")\n",
    "        for langue in base[tale]:\n",
    "            outfile.writelines(langue+\"\\n\")\n",
    "            outfile.writelines(base[tale][langue][\"url\"]+\"\\n\")\n",
    "            outfile.writelines(base[tale][langue][\"numero\"]+\"\\n\")\n",
    "            outfile.writelines(base[tale][langue][\"titre\"]+\"\\n\")\n",
    "            outfile.writelines(base[tale][langue][\"texte\"]+\"\\n\")\n",
    "            outfile.writelines(\"\\n\")\n",
    "        outfile.writelines(\"\\n\")\n",
    "    outfile.writelines(\"\\n\")\n",
    "        "
   ]
  },
  {
   "cell_type": "code",
   "execution_count": 22,
   "metadata": {},
   "outputs": [
    {
     "name": "stdout",
     "output_type": "stream",
     "text": [
      "DA\n",
      "30\n",
      "x w é z c y \n",
      "æ ø j p b å f u v h m k l o i s g a t r d n e\n",
      "DE\n",
      "31\n",
      "y q x j ö ä p v ß ü \n",
      "z k f b w o m g c l u h t d s a r i n e\n",
      "EN\n",
      "28\n",
      "ö z x q j \n",
      "v k p b y c f g m u w l r d s i n o a h t e\n",
      "FI\n",
      "23\n",
      "b g ö d \n",
      "j y r p v h m o u l k ä e s t n i a\n",
      "HU\n",
      "33\n",
      "ű í ú ü ő c ó u p ö f j v h b \n",
      "d é y i á g z r m o k s n l t e a\n",
      "NL\n",
      "33\n",
      "ü ú ö x ï è ë ó é f c \n",
      "p b u v w z j m k s g l h r o t d i a n e\n",
      "RO\n",
      "31\n",
      "k q x ­ j ţ h â î z ş g b v f \n",
      "ă m p d o l c n s t r u e i a\n",
      "TR\n",
      "33\n",
      "û w j â f ö p h c ğ v g ç z ş ü \n",
      "o b s m t u y l k ı d r n i e a\n",
      "VI\n",
      "94\n",
      "w ỵ ỹ z j f ỳ ẵ ỷ õ ễ ý ẩ ỡ è ẫ ẻ ĩ ằ ẳ ỗ ẽ ẹ ự ỉ é ù ụ ổ ũ ặ ử ị ữ í ỏ ể ệ ò ừ ọ ã ă ở ủ q ơ ậ ầ ắ ề ứ d x ồ ợ e â ú ố ộ ạ ả ê ớ ấ ì p ờ s ế k ô ó á b v r ư y l o u \n",
      "à đ m a t i g c h n\n",
      "FR\n",
      "41\n",
      "­ ë ï w k œ û î ù ô â ç z ê y x è à j g b h q f \n",
      "é v c p m d o u l n r s t i a e\n"
     ]
    }
   ],
   "source": [
    "filtrePonct=u\":,;()[]\\t- '`…–‚*¬>—^=_/«»‹›\\#~¯°\"+'\"'\n",
    "for langue in langues:\n",
    "    print langue\n",
    "    textes=\"\"\n",
    "    for conte in base:\n",
    "        if langue in base[conte] and not \"Translations are welcome\" in base[conte][langue][\"texte\"]:\n",
    "            textes+=base[conte][langue][\"numero\"]+u\" — \"+base[conte][langue][\"titre\"]+\"\\n\\n\"\n",
    "            textes+=base[conte][langue][\"texte\"]+\"\\n\\n\\n\\n\"\n",
    "\n",
    "    freqLettres={}\n",
    "    for lettreBrute in bs4.BeautifulSoup(textes).text:\n",
    "    #    lettre=unidecode.unidecode(lettreBrute)\n",
    "        lettre=lettreBrute\n",
    "        if not lettre in filtrePonct and not lettre in \"0123456789?.!\":\n",
    "            if not lettre.lower() in freqLettres:\n",
    "                freqLettres[lettre.lower()]=0\n",
    "            freqLettres[lettre.lower()]+=1\n",
    "\n",
    "    print len(freqLettres)\n",
    "    for lettre in sorted(freqLettres, key=freqLettres.get):\n",
    "        print lettre, #[lettre], freqLettres[lettre]\n",
    "    print\n",
    "    \n",
    "    with codecs.open('Grimm-%s.text'%langue, 'w',encoding=\"utf8\") as outfile:\n",
    "        outfile.writelines(textes+\"\\n\")\n",
    "    "
   ]
  },
  {
   "cell_type": "code",
   "execution_count": null,
   "metadata": {},
   "outputs": [],
   "source": []
  }
 ],
 "metadata": {
  "kernelspec": {
   "display_name": "Python [conda env:python2]",
   "language": "python",
   "name": "conda-env-python2-py"
  },
  "language_info": {
   "codemirror_mode": {
    "name": "ipython",
    "version": 2
   },
   "file_extension": ".py",
   "mimetype": "text/x-python",
   "name": "python",
   "nbconvert_exporter": "python",
   "pygments_lexer": "ipython2",
   "version": "2.7.16"
  }
 },
 "nbformat": 4,
 "nbformat_minor": 1
}
