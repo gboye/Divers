{
 "cells": [
  {
   "cell_type": "markdown",
   "metadata": {},
   "source": [
    "#Les trois pièces\n",
    "On lance trois pièces de monnaie. \n",
    "- Quelle est la probabilité que toutes trois retombent du même côté, que ce soit pile ou face ? \n"
   ]
  },
  {
   "cell_type": "code",
   "execution_count": 3,
   "metadata": {
    "collapsed": false
   },
   "outputs": [
    {
     "name": "stdout",
     "output_type": "stream",
     "text": [
      "0.2484\n"
     ]
    }
   ],
   "source": [
    "from random import randrange,choice\n",
    "pieces=range(3)\n",
    "cotes=[\"pile\",\"face\"]\n",
    "lancers={}\n",
    "result=0\n",
    "for i in range(10000):\n",
    "    for piece in pieces:\n",
    "        lancers[piece]=choice(cotes)\n",
    "    resultat=lancers[pieces[0]]\n",
    "    result+=(len(set(lancers.values()))==1)\n",
    "print float(result)/(i+1)"
   ]
  },
  {
   "cell_type": "markdown",
   "metadata": {},
   "source": [
    "#Les trois prisonniers\n",
    "Trois prisonniers sont dans une cellule. Ils savent que deux vont être condamnés à mort et un gracié, mais ils ne savent pas qui. \n",
    "\n",
    "L'un d'entre eux va voir le gardien et lui demande :\n",
    "\n",
    "    « Je sais bien que tu ne peux rien me dire, mais tu peux au moins me montrer un de mes compagnons qui sera exécuté ». \n",
    "Le gardien réfléchit, se dit que de toutes manières au moins l'un des deux autres prisonniers sera condamné, et s'exécute. Le prisonnier lui répond alors : \n",
    "\n",
    "    « Merci, avant, j'avais une chance sur trois d'être gracié, et maintenant, j'ai une chance sur deux. »\n",
    "\n",
    "Évidemment, quiconque a en main la décision de grâce sait avec certitude qui est déjà gracié. Le problème se situe au point de vue du prisonnier. \n",
    "- A-t-il raison de croire que sa probabilité d'être exécuté a varié ?"
   ]
  },
  {
   "cell_type": "markdown",
   "metadata": {},
   "source": [
    "#[Let's make a deal](https://fr.wikipedia.org/wiki/Probl%C3%A8me_de_Monty_Hall)\n",
    "Le jeu oppose un présentateur à un candidat (le joueur). Ce joueur est placé devant trois portes fermées. Derrière l'une d'elles se trouve une voiture (ou tout autre prix magnifique) et derrière chacune des deux autres se trouve une chèvre (ou tout autre prix sans importance). Il doit tout d'abord désigner une porte. Puis le présentateur ouvre une porte qui n'est ni celle choisie par le candidat, ni celle cachant la voiture (le présentateur sait quelle est la bonne porte dès le début). Le candidat a alors le droit ou bien d'ouvrir la porte qu'il a choisie initialement, ou bien d'ouvrir la troisième porte.\n",
    "\n",
    "Les questions qui se posent au candidat sont :\n",
    "\n",
    "- Que doit-il faire ?\n",
    "- Quelles sont ses chances de gagner la voiture en agissant au mieux ?\n"
   ]
  },
  {
   "cell_type": "markdown",
   "metadata": {},
   "source": [
    "##Importation des modules utilisés\n",
    "- random pour les tirages au sort\n",
    " - randrange(N) pour tirer un nombre entier inférieur à N\n",
    " - choice pour tirer un élément d'une liste"
   ]
  },
  {
   "cell_type": "code",
   "execution_count": 4,
   "metadata": {
    "collapsed": false
   },
   "outputs": [],
   "source": [
    "from random import randrange,choice"
   ]
  },
  {
   "cell_type": "markdown",
   "metadata": {},
   "source": [
    "##Création des éléments du jeu\n",
    "- *portes* : les trois portes\n",
    "- *voiture* : le numéro de la porte avec la voiture\n",
    "- *choix1* : la porte choisie par le joueur au début\n",
    "- *choix2* : la porte choisie par le joueur qui change de porte\n",
    "- *choix3* : la porte choisie par le joueur qui rechoisit au hasard entre sa porte et la porte restante\n",
    "- *strategie1* : gains du choix1\n",
    "- *strategie2* : gains du choix2\n",
    "- *strategie3* : gains du choix3\n"
   ]
  },
  {
   "cell_type": "code",
   "execution_count": 5,
   "metadata": {
    "collapsed": false
   },
   "outputs": [],
   "source": [
    "portes=[1,2,3]\n",
    "voiture=0\n",
    "choix1=0\n",
    "choix2=0\n",
    "choix3=0\n",
    "presentateur=0\n",
    "\n",
    "strategie1=0\n",
    "strategie2=0\n",
    "strategie3=0\n",
    "\n",
    "verbose=False"
   ]
  },
  {
   "cell_type": "code",
   "execution_count": 6,
   "metadata": {
    "collapsed": false
   },
   "outputs": [],
   "source": [
    "for i in range(10000):\n",
    "    voiture=randrange(3)+1\n",
    "    choix1=randrange(3)+1\n",
    "    presentateur=choice([p for p in portes if not p in [voiture, choix1]])\n",
    "    strategie1+=(choix1==voiture)\n",
    "    choix2=choice([p for p in portes if not p in [presentateur, choix1]])\n",
    "    strategie2+=(choix2==voiture)\n",
    "    choix3=choice([p for p in portes if not p in [presentateur]])\n",
    "    strategie3+=(choix3==voiture)\n",
    "    if verbose: print choix1==voiture,\":\",(voiture, choix1, presentateur),\"\\t\",choix2==voiture,\":\", (voiture, choix2, presentateur),\"\\t\",choix3==voiture,\":\", (voiture, choix3, presentateur)"
   ]
  },
  {
   "cell_type": "code",
   "execution_count": 7,
   "metadata": {
    "collapsed": false
   },
   "outputs": [
    {
     "data": {
      "text/plain": [
       "(0.3279, 0.6721, 0.5071)"
      ]
     },
     "execution_count": 7,
     "metadata": {},
     "output_type": "execute_result"
    }
   ],
   "source": [
    "strategie1/float(i+1), strategie2/float(i+1), strategie3/float(i+1)"
   ]
  },
  {
   "cell_type": "markdown",
   "metadata": {},
   "source": [
    "#Sleeping Beauty\n",
    "Le dimanche soir, alors que Aurore est endormie, on lance une pièce de monnaie pour un tirage à pile ou face. Le tirage n'est pas truqué. Le lendemain (le lundi), on réveille Aurore et on lui pose la question :\n",
    "\n",
    "    « Quelle est la probabilité que la pièce soit tombée sur pile ? »\n",
    "    \n",
    "Si la pièce est tombée sur face, l'expérience s'arrête, si c’est pile, on la rendort en lui administrant un somnifère à effet amnésique qui lui fait complètement oublier la journée du lundi et on la réveille à nouveau le mardi pour lui reposer la même question :\n",
    "\n",
    "    « Quelle est la probabilité que la pièce soit tombée sur pile ? »\n",
    "    \n",
    "À chaque réveil, Aurore ignore si on est lundi ou mardi mais tout le processus est connu de la princesse.\n",
    "\n",
    "Quand Aurore répond « La pièce est tombée sur pile » sans connaître le jour, quelle est la probabilité qu'elle ait raison ?"
   ]
  },
  {
   "cell_type": "code",
   "execution_count": 8,
   "metadata": {
    "collapsed": false
   },
   "outputs": [
    {
     "name": "stdout",
     "output_type": "stream",
     "text": [
      "0.498\n"
     ]
    }
   ],
   "source": [
    "cotes=[\"pile\",\"face\"]\n",
    "jours=[\"lundi\",\"mardi\"]\n",
    "piles=0\n",
    "for i in range(10000):\n",
    "    piece=choice(cotes)\n",
    "    if piece==\"face\":\n",
    "        jour=\"lundi\"\n",
    "    else:\n",
    "        jour=choice(jours)\n",
    "    if jour==\"lundi\":\n",
    "        if piece==\"pile\":\n",
    "            piles+=1\n",
    "    if jour==\"mardi\":\n",
    "        piles+=1\n",
    "print float(piles)/(i+1)"
   ]
  },
  {
   "cell_type": "code",
   "execution_count": 9,
   "metadata": {
    "collapsed": false
   },
   "outputs": [
    {
     "name": "stdout",
     "output_type": "stream",
     "text": [
      "0.6637\n"
     ]
    }
   ],
   "source": [
    "reveils=[\"lundi-pile\",\"lundi-face\",\"mardi-pile\"]\n",
    "piles=0\n",
    "for i in range(10000):\n",
    "    reveil=choice(reveils)\n",
    "    if \"pile\" in reveil:\n",
    "        piles+=1\n",
    "print float(piles)/(i+1)"
   ]
  },
  {
   "cell_type": "code",
   "execution_count": null,
   "metadata": {
    "collapsed": true
   },
   "outputs": [],
   "source": []
  }
 ],
 "metadata": {
  "kernelspec": {
   "display_name": "Python 2",
   "language": "python",
   "name": "python2"
  },
  "language_info": {
   "codemirror_mode": {
    "name": "ipython",
    "version": 2
   },
   "file_extension": ".py",
   "mimetype": "text/x-python",
   "name": "python",
   "nbconvert_exporter": "python",
   "pygments_lexer": "ipython2",
   "version": "2.7.11"
  }
 },
 "nbformat": 4,
 "nbformat_minor": 0
}
