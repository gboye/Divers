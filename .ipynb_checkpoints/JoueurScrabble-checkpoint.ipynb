{
 "metadata": {
  "name": "",
  "signature": "sha256:dee3ed035bcc80a6b64f6b4a5c4a838b5f36a69f073b8e1297f6e57055dcbe18"
 },
 "nbformat": 3,
 "nbformat_minor": 0,
 "worksheets": [
  {
   "cells": [
    {
     "cell_type": "code",
     "collapsed": false,
     "input": [
      "from unidecode import unidecode\n",
      "import re\n",
      "import random as rd\n",
      "import itertools as it\n",
      "import codecs"
     ],
     "language": "python",
     "metadata": {},
     "outputs": [],
     "prompt_number": 1
    },
    {
     "cell_type": "code",
     "collapsed": false,
     "input": [
      "nomLexique=\"../../Copy/Python/phonemisation/bdlexique.txt\"\n",
      "fichierLexique=codecs.open(nomLexique,\"r\",\"utf8\")"
     ],
     "language": "python",
     "metadata": {},
     "outputs": [],
     "prompt_number": 2
    },
    {
     "cell_type": "code",
     "collapsed": false,
     "input": [
      "def encodage(texte,codage=\"unicode\"):\n",
      "    codages=[\"unicode\",\"str\"]\n",
      "    if not codage in codages:\n",
      "        return texte\n",
      "    elif codage==\"unicode\":\n",
      "        if isinstance(texte,str):\n",
      "            return unicode(texte.decode(\"utf8\"))\n",
      "        else: \n",
      "            return texte\n",
      "    elif codage==\"str\":\n",
      "        if isinstance(texte,unicode):\n",
      "            return str(texte.encode(\"utf8\"))\n",
      "        else:\n",
      "            return texte\n",
      "    else:\n",
      "        return texte"
     ],
     "language": "python",
     "metadata": {},
     "outputs": [],
     "prompt_number": 3
    },
    {
     "cell_type": "code",
     "collapsed": false,
     "input": [
      "def sortLettres(mot):\n",
      "    mot=encodage(mot)\n",
      "    result=[]\n",
      "    stdMot=unidecode(mot)\n",
      "    for lettre in stdMot:\n",
      "        result.append(lettre)\n",
      "    result.sort()\n",
      "    return \"\".join(result)"
     ],
     "language": "python",
     "metadata": {},
     "outputs": [],
     "prompt_number": 8
    },
    {
     "cell_type": "code",
     "collapsed": false,
     "input": [
      "sortLettres(u\"accentu\u00e9es\")"
     ],
     "language": "python",
     "metadata": {},
     "outputs": [
      {
       "metadata": {},
       "output_type": "pyout",
       "prompt_number": 9,
       "text": [
        "'acceeenstu'"
       ]
      }
     ],
     "prompt_number": 9
    },
    {
     "cell_type": "code",
     "collapsed": false,
     "input": [
      "def bonMot(mot):\n",
      "    mot=encodage(mot)\n",
      "    if re.search(\"[-']\",mot):\n",
      "         return False     \n",
      "    else:\n",
      "        return True"
     ],
     "language": "python",
     "metadata": {},
     "outputs": [],
     "prompt_number": 10
    },
    {
     "cell_type": "code",
     "collapsed": false,
     "input": [
      "bonMot(\"presse-papier\")"
     ],
     "language": "python",
     "metadata": {},
     "outputs": [
      {
       "metadata": {},
       "output_type": "pyout",
       "prompt_number": 11,
       "text": [
        "False"
       ]
      }
     ],
     "prompt_number": 11
    },
    {
     "cell_type": "code",
     "collapsed": false,
     "input": [
      "mots={}\n",
      "lexique={}\n",
      "for element in fichierLexique:\n",
      "    mot=element.split(\";\")[0]\n",
      "    if bonMot(mot):\n",
      "        longueurMot=len(mot)\n",
      "        if not longueurMot in mots:\n",
      "            mots[longueurMot]={}\n",
      "        lettresMot=sortLettres(mot)\n",
      "        if not lettresMot in mots[longueurMot]:\n",
      "            mots[longueurMot][lettresMot]=set()\n",
      "        mots[longueurMot][lettresMot].add(mot)\n",
      "        stdMot=unidecode(mot)\n",
      "        if not stdMot in lexique:\n",
      "            lexique[stdMot]=[]\n",
      "        lexique[stdMot].append(mot)\n",
      "        \n",
      "    "
     ],
     "language": "python",
     "metadata": {},
     "outputs": [],
     "prompt_number": 12
    },
    {
     "cell_type": "code",
     "collapsed": false,
     "input": [
      "score = {\"a\": 1, \"b\": 3, \"c\": 3, \"d\": 2, \"e\": 1, \n",
      "         \"f\": 4, \"g\": 2, \"h\": 4, \"i\": 1, \"j\": 8, \n",
      "         \"k\": 10, \"l\": 1, \"m\": 2, \"n\": 1, \"o\": 1, \n",
      "         \"p\": 3, \"q\": 8, \"r\": 1, \"s\": 1, \"t\": 1, \n",
      "         \"u\": 1, \"v\": 4, \"w\": 10, \"x\": 10, \"y\": 10, \n",
      "         \"z\": 10, \"*\":0}\n",
      "alphabet=score.keys()\n",
      "joker=\"*\"\n",
      "alphabet.remove(joker)\n",
      "accents={\n",
      "            \"a\":[\"\u00e0\",\"\u00e2\"],\n",
      "            \"e\":[\"\u00e9\",\"\u00e8\",\"\u00ea\",\"\u00eb\"],\n",
      "            \"i\":[\"\u00ee\",\"\u00ef\"],\n",
      "            \"o\":[\"\u00f4\"],\n",
      "            \"u\":[\"\u00f9\",\"\u00fb\",\"\u00fc\"],\n",
      "            \"c\":[\"\u00e7\"]\n",
      "        }\n",
      "#alphabet=list(u\"abcdefghijklmnopqrstuvwxyz\")"
     ],
     "language": "python",
     "metadata": {},
     "outputs": [],
     "prompt_number": 28
    },
    {
     "cell_type": "code",
     "collapsed": false,
     "input": [
      "def scoreLettres(lettres):\n",
      "    result=0\n",
      "    for lettre in lettres:\n",
      "        if lettre in score:\n",
      "            result+=score[lettre]\n",
      "    return result"
     ],
     "language": "python",
     "metadata": {},
     "outputs": [],
     "prompt_number": 29
    },
    {
     "cell_type": "code",
     "collapsed": false,
     "input": [
      "scoreLettres(\"boNjour\")"
     ],
     "language": "python",
     "metadata": {},
     "outputs": [
      {
       "metadata": {},
       "output_type": "pyout",
       "prompt_number": 30,
       "text": [
        "15"
       ]
      }
     ],
     "prompt_number": 30
    },
    {
     "cell_type": "code",
     "collapsed": false,
     "input": [
      "def motsLettres(lettres,max=0):\n",
      "    lettres=encodage(lettres)\n",
      "    result=[]\n",
      "    setResult=set()\n",
      "    if max==0:\n",
      "        longueur=len(lettres)\n",
      "    else:\n",
      "        longueur=max\n",
      "    if \"*\" in lettres:\n",
      "        for l in alphabet:\n",
      "            nouvellesLettres=lettres.replace(\"*\",l)\n",
      "            result.extend(motsLettres(nouvellesLettres))\n",
      "        setResult=set(result)\n",
      "    else:    \n",
      "        lettres=sortLettres(lettres)\n",
      "        for retrait in range(longueur-1):\n",
      "            l=longueur-retrait\n",
      "            for comb in set(it.combinations(lettres,l)):\n",
      "                cle=\"\".join(comb)\n",
      "                if cle in mots[l]:\n",
      "                    setResult.add((scoreLettres(cle),frozenset(mots[l][cle]),len(cle)))\n",
      "    result=list(setResult)\n",
      "    result.sort(key=lambda x: x[0], reverse=True) \n",
      "    return result"
     ],
     "language": "python",
     "metadata": {},
     "outputs": [],
     "prompt_number": 31
    },
    {
     "cell_type": "code",
     "collapsed": false,
     "input": [
      "motsLettres(\"bramer\")"
     ],
     "language": "python",
     "metadata": {},
     "outputs": [
      {
       "metadata": {},
       "output_type": "pyout",
       "prompt_number": 32,
       "text": [
        "[(9, frozenset({u'ambrer', u'bramer', u'marbre', u'marbr\\xe9'}), 6),\n",
        " (8, frozenset({u'ambre', u'ambr\\xe9', u'brame', u'bram\\xe9'}), 5),\n",
        " (7, frozenset({u'arbre', u'barre', u'barr\\xe9'}), 5),\n",
        " (6, frozenset({u'aber'}), 4),\n",
        " (6, frozenset({u'armer', u'marre', u'marr\\xe9', u'ramer'}), 5),\n",
        " (5,\n",
        "  frozenset({u'amer', u'arme', u'arm\\xe9', u'mare', u'rame', u'ram\\xe9'}),\n",
        "  4),\n",
        " (5, frozenset({u'ber'}), 3),\n",
        " (5, frozenset({u'bar'}), 3),\n",
        " (5, frozenset({u'b\\xe9a'}), 3),\n",
        " (4, frozenset({u'\\xe2me'}), 3),\n",
        " (4, frozenset({u'erra', u'rare'}), 4),\n",
        " (4, frozenset({u'mer'}), 3),\n",
        " (3, frozenset({u'ma'}), 2),\n",
        " (3, frozenset({u'me'}), 2),\n",
        " (3, frozenset({u'are', u'r\\xe9a'}), 3),\n",
        " (2, frozenset({u'r\\xe9'}), 2),\n",
        " (2, frozenset({u'ra'}), 2)]"
       ]
      }
     ],
     "prompt_number": 32
    },
    {
     "cell_type": "code",
     "collapsed": false,
     "input": [
      "plateau=\"tour\""
     ],
     "language": "python",
     "metadata": {},
     "outputs": [],
     "prompt_number": 33
    },
    {
     "cell_type": "markdown",
     "metadata": {},
     "source": [
      "###D\u00e9finitions de partager et appuyer\n",
      "- partager une lettre => contrainte sur la structure des mots possibles\n",
      "- appuyer sur un mot => liste de lettres possibles pour l'appui"
     ]
    },
    {
     "cell_type": "code",
     "collapsed": false,
     "input": [
      "def appuyerLettre(mot,lettre):\n",
      "    lettre=encodage(lettre)\n",
      "    debut=\"\"\n",
      "    fin=\"\"\n",
      "    if lettre+mot in lexique:\n",
      "        debut=lettre\n",
      "    if mot+lettre in lexique:\n",
      "        fin=lettre\n",
      "    return (debut,fin)\n",
      "                \n",
      "def appuyerJetons(mot,jetons=alphabet):\n",
      "    mot=encodage(mot)\n",
      "    jetons=encodage(jetons)\n",
      "    debut=\"\"\n",
      "    fin=\"\"\n",
      "    jetons=set(jetons)\n",
      "    if \"*\" in jetons:\n",
      "        return appuyerJetons(mot)\n",
      "    else:\n",
      "        for jeton in jetons:\n",
      "            appuis=appuyerLettre(mot,jeton)\n",
      "            if appuis[0]!=\"\":\n",
      "                debut+=appuis[0]\n",
      "            if appuis[1]!=\"\":\n",
      "                fin+=appuis[1]\n",
      "        return (debut,fin)"
     ],
     "language": "python",
     "metadata": {},
     "outputs": [],
     "prompt_number": 34
    },
    {
     "cell_type": "code",
     "collapsed": false,
     "input": [
      "appuis=appuyerJetons(\"tour\",\"hezilas\")\n",
      "print \"d\u00e9but :\\t\",appuis[0]\n",
      "print \"fin :\\t\",appuis[1]"
     ],
     "language": "python",
     "metadata": {},
     "outputs": [
      {
       "output_type": "stream",
       "stream": "stdout",
       "text": [
        "d\u00e9but :\ta\n",
        "fin :\ts\n"
       ]
      }
     ],
     "prompt_number": 35
    },
    {
     "cell_type": "code",
     "collapsed": false,
     "input": [
      "def listerSupercles(base,liste):\n",
      "    base=encodage(base)\n",
      "    base=sortLettres(base)\n",
      "    tupleBase=tuple(base)\n",
      "    return [x for x in liste if tupleBase in it.combinations(x,len(tupleBase))]\n",
      "\n",
      "def continuerBase(base,filtre=\"\"):\n",
      "    base=encodage(base)\n",
      "    filtre=encodage(filtre)\n",
      "    filtre=sortLettres(filtre)\n",
      "    jokerNum=0\n",
      "    filtreLettres=list(filtre)\n",
      "    if joker in filtre:\n",
      "        '''\n",
      "        ATTENTION \n",
      "            filtreLettres[:] cr\u00e9e une instance de la liste \n",
      "            qui n'est pas modifi\u00e9e pendant la boucle\n",
      "            boucler directement sur filtreLettres pose des\n",
      "            probl\u00e8mes au moment o\u00f9 on supprime un \u00e9l\u00e9ment :\n",
      "             - le pointeur se retrouve d\u00e9plac\u00e9 sans avoir avanc\u00e9\n",
      "                du fait de la suppression de l'\u00e9l\u00e9ment courant\n",
      "                si l'\u00e9l\u00e9ment suivant devait aussi \u00eatre compt\u00e9,\n",
      "                il se retrouve saut\u00e9...\n",
      "        '''\n",
      "        for element in filtreLettres[:]:\n",
      "            if element==joker:\n",
      "                filtreLettres.remove(element)\n",
      "                jokerNum+=1\n",
      "    filtreLettres=[\"\".join(filtreLettres)]\n",
      "    cleBase=sortLettres(base)\n",
      "    tupleBase=tuple(cleBase)\n",
      "    result=[]\n",
      "    longueurBase=len(base)\n",
      "    for longueur in range(longueurBase+1,longueurBase+7):\n",
      "        candidats=listerSupercles(base,mots[longueur])\n",
      "        for candidat in candidats:\n",
      "            for element in mots[longueur][candidat]:\n",
      "                if base in element:\n",
      "                    if filtre==\"\":\n",
      "                        result.append((element,element.split(base)))\n",
      "                    else:\n",
      "                        reste=list(element)\n",
      "                        for lettre in base:\n",
      "                            reste.remove(lettre)\n",
      "                        reste=sortLettres(\"\".join(reste))\n",
      "                        for resteSansJoker in it.combinations(reste,len(reste)-jokerNum):\n",
      "#                            print resteSansJoker, filtreLettres\n",
      "                            if listerSupercles(\"\".join(resteSansJoker),filtreLettres):\n",
      "                                result.append((element,element.split(base),jokerNum))\n",
      "                            \n",
      "    return result"
     ],
     "language": "python",
     "metadata": {},
     "outputs": [],
     "prompt_number": 80
    },
    {
     "cell_type": "code",
     "collapsed": false,
     "input": [
      "for element in continuerBase(\"nez\",\"or*\"):\n",
      "    mot=element[0]\n",
      "    print element, scoreLettres(mot)"
     ],
     "language": "python",
     "metadata": {},
     "outputs": [
      {
       "output_type": "stream",
       "stream": "stdout",
       "text": [
        "(u'ornez', [u'or', u''], 1) 14\n",
        "(u'ornez', [u'or', u''], 1) 14\n",
        "(u'tr\\xf4nez', [u'tr\\xf4', u''], 1) 14\n",
        "(u'pr\\xf4nez', [u'pr\\xf4', u''], 1) 16\n",
        "(u'rognez', [u'rog', u''], 1) 16\n",
        "(u'cornez', [u'cor', u''], 1) 17\n",
        "(u'bornez', [u'bor', u''], 1) 17\n"
       ]
      }
     ],
     "prompt_number": 82
    },
    {
     "cell_type": "code",
     "collapsed": false,
     "input": [
      "listerSupercles(\"or\",[\"opr\"])"
     ],
     "language": "python",
     "metadata": {},
     "outputs": [
      {
       "metadata": {},
       "output_type": "pyout",
       "prompt_number": 84,
       "text": [
        "['opr']"
       ]
      }
     ],
     "prompt_number": 84
    },
    {
     "cell_type": "code",
     "collapsed": false,
     "input": [],
     "language": "python",
     "metadata": {},
     "outputs": []
    }
   ],
   "metadata": {}
  }
 ]
}