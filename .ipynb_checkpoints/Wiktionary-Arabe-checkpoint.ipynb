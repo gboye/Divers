{
 "cells": [
  {
   "cell_type": "markdown",
   "metadata": {},
   "source": [
    "# Constitution d'une liste d'adjectifs arabes à partir de Wiktionary.org\n",
    "\n",
    "Sur Wiktionary.org, on trouve une page avec une liste d'adjectifs arabes. Cette liste s'étend sur 10 pages HTML et chaque adjectif est donné avec un lien vers sa propre page qui contient, entre autres, sa définition, sa transcription API et sa translitération.\n",
    "\n",
    "Le script visite les 10 pages successivement et sur chaque page récupère chaque adjectif avec ses données associées (écriture, api, translitération, définition)."
   ]
  },
  {
   "cell_type": "markdown",
   "metadata": {},
   "source": [
    "## Préparation du traitement des pages HTML\n",
    "- préparer un navigateur => mechanicalsoup\n",
    "- définir la page d'accueil de Wiktionary"
   ]
  },
  {
   "cell_type": "code",
   "execution_count": 2,
   "metadata": {},
   "outputs": [],
   "source": [
    "\"\"\"Example app pour chercher des adjectifs sur Wiktionary\"\"\"\n",
    "import mechanicalsoup\n",
    "import re\n",
    "baseURL=\"https://fr.wiktionary.org\""
   ]
  },
  {
   "cell_type": "code",
   "execution_count": 3,
   "metadata": {
    "tags": []
   },
   "outputs": [],
   "source": [
    "browser = mechanicalsoup.Browser()"
   ]
  },
  {
   "cell_type": "markdown",
   "metadata": {},
   "source": [
    "### Traitement d'une page Adjectif\n",
    "Sur la page d'un mot venant d'une des pages de la liste des adjectifs, il y a une partie qui définit l'adjectif. Cette partie commence avec le mot Adjectif, on commence par cherche \"Adjectif\" sur la page :\n",
    "- adjPage.soup.find(string=\"Adjectif\")\n",
    "Ensuite, on cherche la structure paragraphe (p) qui contient ce terme :\n",
    "- divAdj.parent.parent.find_next(\"p\")\n",
    "Au sein de cette structure, il y a des éléments textes (text) qui contiennent les informations qui nous intéresse :\n",
    "- la transcription API qui a le titre \"Prononciation API\" :\n",
    "    - pAdj.find(title=\"Prononciation API\").text \n",
    "- la translittération qui a le titre \"Wiktionnaire:Conventions/arabe/Translittération\" :\n",
    "    - pAdj.find(title=\"Wiktionnaire:Conventions/arabe/Translittération\").text\n",
    "- la définition qui est dans une liste (ol) dont on va récupérer toutes les lignes : \n",
    "    - trad=[]\n",
    "    - for li in pAdj.find_next(\"ol\").findAll(\"li\"):\n",
    "        - trad.append(li.text)\n",
    "\n"
   ]
  },
  {
   "cell_type": "code",
   "execution_count": 4,
   "metadata": {},
   "outputs": [],
   "source": [
    "def getAdj(url):\n",
    "    # print url\n",
    "    adjPage=browser.get(baseURL+url)\n",
    "    try:\n",
    "        divAdj=adjPage.soup.find(string=\"Adjectif\")\n",
    "        pAdj=divAdj.parent.parent.find_next(\"p\")\n",
    "        api=pAdj.find(title=\"Prononciation API\").text\n",
    "        try:\n",
    "            translit=pAdj.find(title=\"Wiktionnaire:Conventions/arabe/Translittération\").text\n",
    "        except:\n",
    "            translit=\"\"\n",
    "        def is_abreg(chaine):\n",
    "            return u\"écriture abrégée\" in chaine\n",
    "        try:\n",
    "            simple=pAdj.find(string=is_abreg).find_next(\"a\").text\n",
    "        except:\n",
    "            simple=\"\"\n",
    "        # print api, translit, simple\n",
    "        try:\n",
    "            trad=[]\n",
    "            for li in pAdj.find_next(\"ol\").findAll(\"li\"):\n",
    "                trad.append(li.text)\n",
    "        except:\n",
    "            trad=[\"\"]\n",
    "    except:\n",
    "        api=\"\"\n",
    "        translit=\"\"\n",
    "        simple=\"\"\n",
    "        trad=[\"\"]\n",
    "    return (api,translit,simple,\" --- \".join(trad))"
   ]
  },
  {
   "cell_type": "code",
   "execution_count": 5,
   "metadata": {},
   "outputs": [],
   "source": [
    "def getAdjList(url):\n",
    "    fullPage=browser.get(baseURL+url)\n",
    "    divList=fullPage.soup.find(id=\"mw-pages\")\n",
    "    # l'url relative de la page suivante est dans la balise <a> dont le texte est \"page suivante\"\n",
    "    # si il n'y a pas d'url, la collecte est terminée => nextURL=False\n",
    "    try:\n",
    "        nextURL=divList.find(\"a\",string=\"page suivante\").get(\"href\")\n",
    "    except:\n",
    "        nextURL=False\n",
    "    # la structure qui contient la liste des adjectifs a l'id \"mw-content-ltr\"\n",
    "    listeAdj=divList.find(class_=\"mw-content-ltr\")\n",
    "    # les adjectifs sont dans les balises <li> à l'intérieur du <a>\n",
    "    adjectifsLoc={}\n",
    "    for a in listeAdj.findAll(\"a\"):\n",
    "        adjectifsLoc[a.text]=getAdj(a.get(\"href\"))\n",
    "    return adjectifsLoc,nextURL"
   ]
  },
  {
   "cell_type": "code",
   "execution_count": null,
   "metadata": {
    "tags": []
   },
   "outputs": [
    {
     "name": "stdout",
     "output_type": "stream",
     "text": [
      "page 0\n",
      "page 1\n",
      "page 2\n",
      "page 3\n",
      "page 4\n",
      "page 5\n",
      "page 6\n"
     ]
    }
   ],
   "source": [
    "adjectifsWiki,nextPage=getAdjList(\"/wiki/Catégorie:Adjectifs_en_arabe\")\n",
    "for i in range(10):\n",
    "    print (\"page\",i)\n",
    "    if nextPage:\n",
    "        adjectifsPage,nextPage=getAdjList(nextPage)\n",
    "        adjectifsWiki.update(adjectifsPage)\n",
    "    else:\n",
    "        break\n",
    "len(adjectifsWiki)"
   ]
  },
  {
   "cell_type": "markdown",
   "metadata": {},
   "source": [
    "### Ecrire le TSV"
   ]
  },
  {
   "cell_type": "code",
   "execution_count": 7,
   "metadata": {},
   "outputs": [],
   "source": [
    "import codecs\n",
    "with codecs.open(\"ADJ-Wiktionary.tsv\",\"w\",encoding=\"utf8\") as outFile:\n",
    "    for k,v in adjectifsWiki.items():\n",
    "        outFile.write(k)\n",
    "        outFile.write(\"\\t\")\n",
    "        outFile.write(v[0])        \n",
    "        outFile.write(\"\\t\")\n",
    "        outFile.write(v[1])        \n",
    "        outFile.write(\"\\t\")\n",
    "        outFile.write(v[2])\n",
    "        outFile.write(\"\\t\")\n",
    "        outFile.write(v[3].replace(\"\\n\",\" \"))\n",
    "        outFile.write(\"\\n\")        "
   ]
  }
 ],
 "metadata": {
  "kernelspec": {
   "display_name": "Python 3 (ipykernel)",
   "language": "python",
   "name": "python3"
  },
  "language_info": {
   "codemirror_mode": {
    "name": "ipython",
    "version": 3
   },
   "file_extension": ".py",
   "mimetype": "text/x-python",
   "name": "python",
   "nbconvert_exporter": "python",
   "pygments_lexer": "ipython3",
   "version": "3.9.15"
  }
 },
 "nbformat": 4,
 "nbformat_minor": 4
}
