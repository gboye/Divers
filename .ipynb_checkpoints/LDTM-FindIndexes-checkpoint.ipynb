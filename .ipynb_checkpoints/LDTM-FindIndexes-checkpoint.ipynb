{
 "cells": [
  {
   "cell_type": "code",
   "execution_count": 1,
   "metadata": {
    "collapsed": true
   },
   "outputs": [],
   "source": [
    "import glob,os"
   ]
  },
  {
   "cell_type": "code",
   "execution_count": null,
   "metadata": {
    "collapsed": true
   },
   "outputs": [],
   "source": [
    "repBook=\"/Users/gilles/Downloads/editedbook/chapters/\""
   ]
  },
  {
   "cell_type": "code",
   "execution_count": 13,
   "metadata": {},
   "outputs": [
    {
     "name": "stdout",
     "output_type": "stream",
     "text": [
      "/Users/gilles/Downloads/editedbook/chapters/Enger.tex =>\n",
      "/Users/gilles/Downloads/editedbook/chapters/Enger-original.tex\n",
      "\n",
      "/Users/gilles/Downloads/editedbook/chapters/Giraudo.tex =>\n",
      "/Users/gilles/Downloads/editedbook/chapters/Giraudo-original.tex\n",
      "\n",
      "/Users/gilles/Downloads/editedbook/chapters/HathoutNamer.tex =>\n",
      "/Users/gilles/Downloads/editedbook/chapters/HathoutNamer-original.tex\n",
      "\n",
      "/Users/gilles/Downloads/editedbook/chapters/Kihm.tex =>\n",
      "/Users/gilles/Downloads/editedbook/chapters/Kihm-original.tex\n",
      "\n",
      "/Users/gilles/Downloads/editedbook/chapters/Montermini.tex =>\n",
      "/Users/gilles/Downloads/editedbook/chapters/Montermini-original.tex\n",
      "\n",
      "/Users/gilles/Downloads/editedbook/chapters/PlagAndreouKawaletz.tex =>\n",
      "/Users/gilles/Downloads/editedbook/chapters/PlagAndreouKawaletz-original.tex\n",
      "\n",
      "/Users/gilles/Downloads/editedbook/chapters/preface.tex =>\n",
      "/Users/gilles/Downloads/editedbook/chapters/preface-original.tex\n",
      "\n",
      "/Users/gilles/Downloads/editedbook/chapters/Rainer.tex =>\n",
      "/Users/gilles/Downloads/editedbook/chapters/Rainer-original.tex\n",
      "\n",
      "/Users/gilles/Downloads/editedbook/chapters/Schwarze.tex =>\n",
      "/Users/gilles/Downloads/editedbook/chapters/Schwarze-original.tex\n",
      "\n",
      "/Users/gilles/Downloads/editedbook/chapters/Spencer.tex =>\n",
      "/Users/gilles/Downloads/editedbook/chapters/Spencer-original.tex\n",
      "\n",
      "/Users/gilles/Downloads/editedbook/chapters/Stekauer.tex =>\n",
      "/Users/gilles/Downloads/editedbook/chapters/Stekauer-original.tex\n",
      "\n",
      "/Users/gilles/Downloads/editedbook/chapters/Strnadova.tex =>\n",
      "/Users/gilles/Downloads/editedbook/chapters/Strnadova-original.tex\n",
      "\n",
      "/Users/gilles/Downloads/editedbook/chapters/Thornton.tex =>\n",
      "/Users/gilles/Downloads/editedbook/chapters/Thornton-original.tex\n",
      "\n",
      "/Users/gilles/Downloads/editedbook/chapters/VilloingDeglas.tex =>\n",
      "/Users/gilles/Downloads/editedbook/chapters/VilloingDeglas-original.tex\n",
      "\n"
     ]
    }
   ],
   "source": [
    "articles=glob.glob(repBook+\"*.tex\")\n",
    "for nom in articles:\n",
    "    if \"-cite.tex\" in nom:\n",
    "        nomBrut=nom.split(\"-cite.tex\")[0]\n",
    "        nouveauNom=nomBrut+\"-original.tex\"\n",
    "        ancienNom=nomBrut+\".tex\"\n",
    "        if os.path.isfile(ancienNom):\n",
    "            print ancienNom,\"=>\"\n",
    "            print nouveauNom\n",
    "            os.rename(ancienNom,nouveauNom)\n",
    "            print\n",
    "        "
   ]
  },
  {
   "cell_type": "code",
   "execution_count": 14,
   "metadata": {},
   "outputs": [
    {
     "name": "stdout",
     "output_type": "stream",
     "text": [
      "/Users/gilles/Downloads/editedbook/chapters/Aronoff-cite.tex =>\n",
      "/Users/gilles/Downloads/editedbook/chapters/Aronoff.tex\n",
      "\n",
      "/Users/gilles/Downloads/editedbook/chapters/BascianoMelloni-cite.tex =>\n",
      "/Users/gilles/Downloads/editedbook/chapters/BascianoMelloni.tex\n",
      "\n",
      "/Users/gilles/Downloads/editedbook/chapters/BonamiCrysmann-cite.tex =>\n",
      "/Users/gilles/Downloads/editedbook/chapters/BonamiCrysmann.tex\n",
      "\n",
      "/Users/gilles/Downloads/editedbook/chapters/Boye-cite.tex =>\n",
      "/Users/gilles/Downloads/editedbook/chapters/Boye.tex\n",
      "\n",
      "/Users/gilles/Downloads/editedbook/chapters/CruzStump-cite.tex =>\n",
      "/Users/gilles/Downloads/editedbook/chapters/CruzStump.tex\n",
      "\n",
      "/Users/gilles/Downloads/editedbook/chapters/Dal-gb-cite.tex =>\n",
      "/Users/gilles/Downloads/editedbook/chapters/Dal-gb.tex\n",
      "\n",
      "/Users/gilles/Downloads/editedbook/chapters/Enger-cite.tex =>\n",
      "/Users/gilles/Downloads/editedbook/chapters/Enger.tex\n",
      "\n",
      "/Users/gilles/Downloads/editedbook/chapters/Giraudo-cite.tex =>\n",
      "/Users/gilles/Downloads/editedbook/chapters/Giraudo.tex\n",
      "\n",
      "/Users/gilles/Downloads/editedbook/chapters/HathoutNamer-cite.tex =>\n",
      "/Users/gilles/Downloads/editedbook/chapters/HathoutNamer.tex\n",
      "\n",
      "/Users/gilles/Downloads/editedbook/chapters/Kihm-cite.tex =>\n",
      "/Users/gilles/Downloads/editedbook/chapters/Kihm.tex\n",
      "\n",
      "/Users/gilles/Downloads/editedbook/chapters/Montermini-cite.tex =>\n",
      "/Users/gilles/Downloads/editedbook/chapters/Montermini.tex\n",
      "\n",
      "/Users/gilles/Downloads/editedbook/chapters/PlagAndreouKawaletz-cite.tex =>\n",
      "/Users/gilles/Downloads/editedbook/chapters/PlagAndreouKawaletz.tex\n",
      "\n",
      "/Users/gilles/Downloads/editedbook/chapters/preface-cite.tex =>\n",
      "/Users/gilles/Downloads/editedbook/chapters/preface.tex\n",
      "\n",
      "/Users/gilles/Downloads/editedbook/chapters/Rainer-cite.tex =>\n",
      "/Users/gilles/Downloads/editedbook/chapters/Rainer.tex\n",
      "\n",
      "/Users/gilles/Downloads/editedbook/chapters/Schwarze-cite.tex =>\n",
      "/Users/gilles/Downloads/editedbook/chapters/Schwarze.tex\n",
      "\n",
      "/Users/gilles/Downloads/editedbook/chapters/Spencer-cite.tex =>\n",
      "/Users/gilles/Downloads/editedbook/chapters/Spencer.tex\n",
      "\n",
      "/Users/gilles/Downloads/editedbook/chapters/Stekauer-cite.tex =>\n",
      "/Users/gilles/Downloads/editedbook/chapters/Stekauer.tex\n",
      "\n",
      "/Users/gilles/Downloads/editedbook/chapters/Strnadova-cite.tex =>\n",
      "/Users/gilles/Downloads/editedbook/chapters/Strnadova.tex\n",
      "\n",
      "/Users/gilles/Downloads/editedbook/chapters/Thornton-cite.tex =>\n",
      "/Users/gilles/Downloads/editedbook/chapters/Thornton.tex\n",
      "\n",
      "/Users/gilles/Downloads/editedbook/chapters/VilloingDeglas-cite.tex =>\n",
      "/Users/gilles/Downloads/editedbook/chapters/VilloingDeglas.tex\n",
      "\n"
     ]
    }
   ],
   "source": [
    "for nom in glob.glob(repBook+\"*-cite.tex\"):\n",
    "    nomBrut=nom.split(\"-cite.tex\")[0]\n",
    "    nouveauNom=nomBrut+\".tex\"\n",
    "    ancienNom=nom\n",
    "    print ancienNom,\"=>\"\n",
    "    print nouveauNom\n",
    "    os.rename(ancienNom,nouveauNom)\n",
    "    print\n",
    "        "
   ]
  },
  {
   "cell_type": "code",
   "execution_count": null,
   "metadata": {
    "collapsed": true
   },
   "outputs": [],
   "source": []
  }
 ],
 "metadata": {
  "kernelspec": {
   "display_name": "Python 2",
   "language": "python",
   "name": "python2"
  },
  "language_info": {
   "codemirror_mode": {
    "name": "ipython",
    "version": 2
   },
   "file_extension": ".py",
   "mimetype": "text/x-python",
   "name": "python",
   "nbconvert_exporter": "python",
   "pygments_lexer": "ipython2",
   "version": "2.7.11"
  }
 },
 "nbformat": 4,
 "nbformat_minor": 2
}
