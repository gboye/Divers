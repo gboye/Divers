{
 "cells": [
  {
   "cell_type": "code",
   "execution_count": 2,
   "metadata": {
    "collapsed": true
   },
   "outputs": [],
   "source": [
    "import pandas as pd"
   ]
  },
  {
   "cell_type": "code",
   "execution_count": 41,
   "metadata": {
    "collapsed": true
   },
   "outputs": [],
   "source": [
    "data=pd.read_csv(\"/Users/gilles/Github/BoSchal17-Morphology/morisien2.data\")"
   ]
  },
  {
   "cell_type": "code",
   "execution_count": 42,
   "metadata": {},
   "outputs": [
    {
     "name": "stdout",
     "output_type": "stream",
     "text": [
      "Match(a=0, b=15, size=9)\n",
      "apple pie\n",
      "apple pie\n"
     ]
    }
   ],
   "source": [
    "from difflib import SequenceMatcher\n",
    "\n",
    "string1 = \"apple pie available\"\n",
    "string2 = \"come have some apple pies\"\n",
    "\n",
    "match = SequenceMatcher(None, string1, string2).find_longest_match(0, len(string1), 0, len(string2))\n",
    "\n",
    "print(match)  # -> Match(a=0, b=15, size=9)\n",
    "print(string1[match.a: match.a + match.size])  # -> apple pie\n",
    "print(string2[match.b: match.b + match.size])  # -> apple pie\n",
    "\n",
    "def trouveRadical(s1,s2):\n",
    "#    print s1,s2\n",
    "    match=SequenceMatcher(None, s1, s2).find_longest_match(0, len(s1), 0, len(s2))\n",
    "    return s1[match.a: match.a + match.size]\n",
    "\n",
    "def trouveAffixes(radical,s):\n",
    "    match=SequenceMatcher(None, s, radical).find_longest_match(0, len(s), 0, len(radical))\n",
    "    return s[:match.a]+\"X\"+s[match.a + match.size:]\n",
    "\n",
    "def trouvePatron(s1,s2):\n",
    "    radical=trouveRadical(s1,s2)\n",
    "    aff1=trouveAffixes(radical,s1)\n",
    "    aff2=trouveAffixes(radical,s2)\n",
    "    return aff1+\" <=> \"+aff2"
   ]
  },
  {
   "cell_type": "code",
   "execution_count": 43,
   "metadata": {},
   "outputs": [
    {
     "name": "stdout",
     "output_type": "stream",
     "text": [
      "déXe\n"
     ]
    }
   ],
   "source": [
    "print trouveAffixes(\"test\",u\"déteste\")"
   ]
  },
  {
   "cell_type": "code",
   "execution_count": 52,
   "metadata": {},
   "outputs": [],
   "source": [
    "data[\"patron\"]=data.apply(lambda x: trouvePatron(x[\"lf\"],x[\"sf\"]),axis=1)"
   ]
  },
  {
   "cell_type": "code",
   "execution_count": 64,
   "metadata": {},
   "outputs": [],
   "source": [
    "patrons=data.groupby(by=\"patron\").agg({\"lexeme\":['count',\", \".join]}).reset_index()"
   ]
  },
  {
   "cell_type": "code",
   "execution_count": 66,
   "metadata": {},
   "outputs": [
    {
     "data": {
      "text/html": [
       "<div>\n",
       "<table border=\"1\" class=\"dataframe\">\n",
       "  <thead>\n",
       "    <tr>\n",
       "      <th></th>\n",
       "      <th>patron</th>\n",
       "      <th colspan=\"2\" halign=\"left\">lexeme</th>\n",
       "    </tr>\n",
       "    <tr>\n",
       "      <th></th>\n",
       "      <th></th>\n",
       "      <th>count</th>\n",
       "      <th>join</th>\n",
       "    </tr>\n",
       "  </thead>\n",
       "  <tbody>\n",
       "    <tr>\n",
       "      <th>0</th>\n",
       "      <td>X &lt;=&gt; X</td>\n",
       "      <td>637</td>\n",
       "      <td>abat, abazu@di, abitje, aboli, abuti, abriti, ...</td>\n",
       "    </tr>\n",
       "    <tr>\n",
       "      <th>1</th>\n",
       "      <td>Xble &lt;=&gt; Xm</td>\n",
       "      <td>1</td>\n",
       "      <td>trâble</td>\n",
       "    </tr>\n",
       "    <tr>\n",
       "      <th>2</th>\n",
       "      <td>Xe &lt;=&gt; X</td>\n",
       "      <td>1296</td>\n",
       "      <td>abâdone, abdike, abese, abime, abite, abije, a...</td>\n",
       "    </tr>\n",
       "    <tr>\n",
       "      <th>3</th>\n",
       "      <td>Xi &lt;=&gt; X</td>\n",
       "      <td>3</td>\n",
       "      <td>revini, so@ti, vini</td>\n",
       "    </tr>\n",
       "    <tr>\n",
       "      <th>4</th>\n",
       "      <td>Xle &lt;=&gt; X</td>\n",
       "      <td>1</td>\n",
       "      <td>rôfle</td>\n",
       "    </tr>\n",
       "    <tr>\n",
       "      <th>5</th>\n",
       "      <td>Xre &lt;=&gt; X</td>\n",
       "      <td>1</td>\n",
       "      <td>râtre</td>\n",
       "    </tr>\n",
       "    <tr>\n",
       "      <th>6</th>\n",
       "      <td>Xre &lt;=&gt; X@</td>\n",
       "      <td>121</td>\n",
       "      <td>adere, admire, adore, aere, aflere, akapare, a...</td>\n",
       "    </tr>\n",
       "    <tr>\n",
       "      <th>7</th>\n",
       "      <td>Xte &lt;=&gt; X</td>\n",
       "      <td>3</td>\n",
       "      <td>egziste, paste, reste</td>\n",
       "    </tr>\n",
       "    <tr>\n",
       "      <th>8</th>\n",
       "      <td>Xâde &lt;=&gt; Xan</td>\n",
       "      <td>13</td>\n",
       "      <td>bâde, dekomâde, demâde, dimâde, komâde, râde, ...</td>\n",
       "    </tr>\n",
       "    <tr>\n",
       "      <th>9</th>\n",
       "      <td>Xôbe &lt;=&gt; Xom</td>\n",
       "      <td>2</td>\n",
       "      <td>retôbe, tôbe</td>\n",
       "    </tr>\n",
       "    <tr>\n",
       "      <th>10</th>\n",
       "      <td>Xôde &lt;=&gt; Xon</td>\n",
       "      <td>1</td>\n",
       "      <td>segôde</td>\n",
       "    </tr>\n",
       "  </tbody>\n",
       "</table>\n",
       "</div>"
      ],
      "text/plain": [
       "          patron lexeme                                                   \n",
       "                  count                                               join\n",
       "0        X <=> X    637  abat, abazu@di, abitje, aboli, abuti, abriti, ...\n",
       "1    Xble <=> Xm      1                                             trâble\n",
       "2       Xe <=> X   1296  abâdone, abdike, abese, abime, abite, abije, a...\n",
       "3       Xi <=> X      3                                revini, so@ti, vini\n",
       "4      Xle <=> X      1                                              rôfle\n",
       "5      Xre <=> X      1                                              râtre\n",
       "6     Xre <=> X@    121  adere, admire, adore, aere, aflere, akapare, a...\n",
       "7      Xte <=> X      3                              egziste, paste, reste\n",
       "8   Xâde <=> Xan     13  bâde, dekomâde, demâde, dimâde, komâde, râde, ...\n",
       "9   Xôbe <=> Xom      2                                       retôbe, tôbe\n",
       "10  Xôde <=> Xon      1                                             segôde"
      ]
     },
     "execution_count": 66,
     "metadata": {},
     "output_type": "execute_result"
    }
   ],
   "source": [
    "patrons"
   ]
  }
 ],
 "metadata": {
  "kernelspec": {
   "display_name": "Python 2",
   "language": "python",
   "name": "python2"
  },
  "language_info": {
   "codemirror_mode": {
    "name": "ipython",
    "version": 2
   },
   "file_extension": ".py",
   "mimetype": "text/x-python",
   "name": "python",
   "nbconvert_exporter": "python",
   "pygments_lexer": "ipython2",
   "version": "2.7.11"
  }
 },
 "nbformat": 4,
 "nbformat_minor": 1
}
