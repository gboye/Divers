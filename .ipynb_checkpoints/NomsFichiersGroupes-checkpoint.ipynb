{
 "cells": [
  {
   "cell_type": "code",
   "execution_count": 39,
   "metadata": {},
   "outputs": [],
   "source": [
    "import glob,re,filecmp\n",
    "import itertools as it"
   ]
  },
  {
   "cell_type": "code",
   "execution_count": 40,
   "metadata": {
    "scrolled": true
   },
   "outputs": [],
   "source": [
    "repertoire=u\"/Users/gilles/Downloads/LNS6E812-Evaluation individuelle-39420/\"\n",
    "fichiers=glob.glob(repertoire+u\"*submission*\")"
   ]
  },
  {
   "cell_type": "code",
   "execution_count": 45,
   "metadata": {},
   "outputs": [
    {
     "data": {
      "text/plain": [
       "{u'/Users/gilles/Downloads/LNS6E812-Evaluation individuelle-39420/ANGELICA PRINCE_33701_assignsubmission_file_Prince Ange\\u0301lica - Analyse de corpus.pdf': (u'ANGELICA PRINCE',\n",
       "  0),\n",
       " u'/Users/gilles/Downloads/LNS6E812-Evaluation individuelle-39420/BLANDINE POURTALET_33698_assignsubmission_file_Analyse de corpus - POURTALET.pdf': (u'BLANDINE POURTALET',\n",
       "  1),\n",
       " u'/Users/gilles/Downloads/LNS6E812-Evaluation individuelle-39420/CAMILLE GOUGET_33688_assignsubmission_file_Analyse de corpus Gouget Camille.pdf': (u'CAMILLE GOUGET',\n",
       "  2),\n",
       " u'/Users/gilles/Downloads/LNS6E812-Evaluation individuelle-39420/CAMILLE MASSIP_33687_assignsubmission_file_Analyse-de-corpus-lescalade_Massip Camille.pdf': (u'CAMILLE MASSIP',\n",
       "  3),\n",
       " u'/Users/gilles/Downloads/LNS6E812-Evaluation individuelle-39420/CHLOE JEAN_33703_assignsubmission_file_Chloe\\u0301 Jean.docx': (u'CHLOE JEAN',\n",
       "  4),\n",
       " u'/Users/gilles/Downloads/LNS6E812-Evaluation individuelle-39420/COLINE GUILLARD_33697_assignsubmission_file_Guillard Coline - Analyse de Corpus - Wolverine1.pdf': (u'COLINE GUILLARD',\n",
       "  5),\n",
       " u'/Users/gilles/Downloads/LNS6E812-Evaluation individuelle-39420/ELISA NAHARBERROUET_33694_assignsubmission_file_Evaluation individuelle.pdf': (u'ELISA NAHARBERROUET',\n",
       "  6),\n",
       " u'/Users/gilles/Downloads/LNS6E812-Evaluation individuelle-39420/ELODIE VERDIELL_33702_assignsubmission_file_Corpus- VERDIELL.pdf': (u'ELODIE VERDIELL',\n",
       "  7),\n",
       " u'/Users/gilles/Downloads/LNS6E812-Evaluation individuelle-39420/INTZA MANTEROLA_33693_assignsubmission_file_Analyse corpus indiv.pdf': (u'INTZA MANTEROLA',\n",
       "  8),\n",
       " u'/Users/gilles/Downloads/LNS6E812-Evaluation individuelle-39420/JEANNE LORENZON_33706_assignsubmission_file_Analyse de Corpus Lorenzon Jeanne.pdf': (u'JEANNE LORENZON',\n",
       "  9),\n",
       " u'/Users/gilles/Downloads/LNS6E812-Evaluation individuelle-39420/JULIE BRAIDA_33689_assignsubmission_file_BRAIDA Julie.pdf': (u'JULIE BRAIDA',\n",
       "  10),\n",
       " u'/Users/gilles/Downloads/LNS6E812-Evaluation individuelle-39420/LOUISA GUARINO DE ANGELIS_33707_assignsubmission_file_Corpus emilie 20 ans Guarino.pdf': (u'LOUISA GUARINO DE ANGELIS',\n",
       "  11),\n",
       " u'/Users/gilles/Downloads/LNS6E812-Evaluation individuelle-39420/LOUISIANE BAYET_33690_assignsubmission_file_Comparaison indiv Louisiane Bayet.pdf': (u'LOUISIANE BAYET',\n",
       "  12),\n",
       " u'/Users/gilles/Downloads/LNS6E812-Evaluation individuelle-39420/MARINE BORDELAIS_33708_assignsubmission_file_Analyse de corpus-bordelaismarine.pdf': (u'MARINE BORDELAIS',\n",
       "  13),\n",
       " u'/Users/gilles/Downloads/LNS6E812-Evaluation individuelle-39420/MATHILDE DE OLIVEIRA_33692_assignsubmission_file_analyse de corpus de oliveira mathilde.pdf': (u'MATHILDE DE OLIVEIRA',\n",
       "  14),\n",
       " u'/Users/gilles/Downloads/LNS6E812-Evaluation individuelle-39420/MAUREEN BARDINET_33699_assignsubmission_file_Evaluation personnelle Analyse de Corpus.pdf': (u'MAUREEN BARDINET',\n",
       "  15),\n",
       " u'/Users/gilles/Downloads/LNS6E812-Evaluation individuelle-39420/MAURIANE DINET-ARNAUD_33700_assignsubmission_file_Analyse du corpus de Lilian.pdf': (u'MAURIANE DINET-ARNAUD',\n",
       "  16),\n",
       " u'/Users/gilles/Downloads/LNS6E812-Evaluation individuelle-39420/MELANIE LAGUNE_33705_assignsubmission_file_Travail individuel-Lagune.pdf': (u'MELANIE LAGUNE',\n",
       "  17),\n",
       " u'/Users/gilles/Downloads/LNS6E812-Evaluation individuelle-39420/MELISSA BUSSARD_33686_assignsubmission_file_individuel-BUSSARD.pdf': (u'MELISSA BUSSARD',\n",
       "  18),\n",
       " u'/Users/gilles/Downloads/LNS6E812-Evaluation individuelle-39420/REMI LATASTE_33696_assignsubmission_file_Evaluation individuelle.pdf': (u'REMI LATASTE',\n",
       "  19),\n",
       " u'/Users/gilles/Downloads/LNS6E812-Evaluation individuelle-39420/VANESSA MUNOZ_33691_assignsubmission_file_Analyse de corpus Munoz Vanessa-min.pdf': (u'VANESSA MUNOZ',\n",
       "  20)}"
      ]
     },
     "execution_count": 45,
     "metadata": {},
     "output_type": "execute_result"
    }
   ],
   "source": [
    "patronGroupe=ur\"^[^-]+-([^_]+)_.*$\"\n",
    "patronIndividuel=ur\"^([^_]+)_.*$\"\n",
    "fichierEtudiants={}\n",
    "for nFichier,fichier in enumerate(fichiers):\n",
    "    nom=fichier.split(u\"/\")[-1]\n",
    "    m=re.match(patronGroupe,nom)\n",
    "    if m:\n",
    "        fichierEtudiants[fichier]=(m.group(1),nFichier)\n",
    "fichierEtudiants        \n",
    "        "
   ]
  },
  {
   "cell_type": "code",
   "execution_count": 46,
   "metadata": {},
   "outputs": [
    {
     "name": "stdout",
     "output_type": "stream",
     "text": [
      "{}\n"
     ]
    }
   ],
   "source": [
    "etudiantsGroupe={}\n",
    "for f1,f2 in it.combinations(fichiers,2):\n",
    "    if filecmp.cmp(f1,f2):\n",
    "        nom1,num1=fichierEtudiants[f1]\n",
    "        nom2,num2=fichierEtudiants[f2]\n",
    "        if not nom1 in etudiantsGroupe:\n",
    "            etudiantsGroupe[nom1]=num1\n",
    "        else:\n",
    "            num1=etudiantsGroupe[nom1]\n",
    "        etudiantsGroupe[nom2]=num1\n",
    "print etudiantsGroupe"
   ]
  },
  {
   "cell_type": "code",
   "execution_count": 43,
   "metadata": {},
   "outputs": [
    {
     "data": {
      "text/plain": [
       "{}"
      ]
     },
     "execution_count": 43,
     "metadata": {},
     "output_type": "execute_result"
    }
   ],
   "source": [
    "groupeEtudiants = {}\n",
    "for k, v in etudiantsGroupe.iteritems():\n",
    "    groupeEtudiants[v] = groupeEtudiants.get(v, [])\n",
    "    groupeEtudiants[v].append(k)\n",
    "groupeEtudiants"
   ]
  },
  {
   "cell_type": "code",
   "execution_count": null,
   "metadata": {
    "collapsed": true
   },
   "outputs": [],
   "source": []
  }
 ],
 "metadata": {
  "kernelspec": {
   "display_name": "Python 2",
   "language": "python",
   "name": "python2"
  },
  "language_info": {
   "codemirror_mode": {
    "name": "ipython",
    "version": 2
   },
   "file_extension": ".py",
   "mimetype": "text/x-python",
   "name": "python",
   "nbconvert_exporter": "python",
   "pygments_lexer": "ipython2",
   "version": "2.7.11"
  }
 },
 "nbformat": 4,
 "nbformat_minor": 1
}
