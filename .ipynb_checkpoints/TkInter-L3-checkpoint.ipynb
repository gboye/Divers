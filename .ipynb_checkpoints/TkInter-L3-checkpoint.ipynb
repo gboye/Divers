{
 "cells": [
  {
   "cell_type": "code",
   "execution_count": 1,
   "metadata": {
    "collapsed": false
   },
   "outputs": [
    {
     "ename": "ImportError",
     "evalue": "No module named tkinter",
     "output_type": "error",
     "traceback": [
      "\u001b[0;31m---------------------------------------------------------------------------\u001b[0m",
      "\u001b[0;31mImportError\u001b[0m                               Traceback (most recent call last)",
      "\u001b[0;32m<ipython-input-1-2f35f70f0471>\u001b[0m in \u001b[0;36m<module>\u001b[0;34m()\u001b[0m\n\u001b[0;32m----> 1\u001b[0;31m \u001b[0;32mfrom\u001b[0m \u001b[0mtkinter\u001b[0m \u001b[0;32mimport\u001b[0m \u001b[0;34m*\u001b[0m\u001b[0;34m\u001b[0m\u001b[0m\n\u001b[0m\u001b[1;32m      2\u001b[0m \u001b[0;32mimport\u001b[0m \u001b[0mcodecs\u001b[0m\u001b[0;34m,\u001b[0m \u001b[0mrandom\u001b[0m\u001b[0;34m\u001b[0m\u001b[0m\n\u001b[1;32m      3\u001b[0m \u001b[0;32mfrom\u001b[0m \u001b[0mtkinter\u001b[0m\u001b[0;34m.\u001b[0m\u001b[0mmessagebox\u001b[0m \u001b[0;32mimport\u001b[0m \u001b[0mshowinfo\u001b[0m\u001b[0;34m\u001b[0m\u001b[0m\n",
      "\u001b[0;31mImportError\u001b[0m: No module named tkinter"
     ]
    }
   ],
   "source": [
    "from tkinter import *\n",
    "import codecs, random\n",
    "from tkinter.messagebox import showinfo"
   ]
  },
  {
   "cell_type": "code",
   "execution_count": null,
   "metadata": {
    "collapsed": true
   },
   "outputs": [],
   "source": [
    "fields = ['Words?', 'Letters?']"
   ]
  },
  {
   "cell_type": "code",
   "execution_count": null,
   "metadata": {
    "collapsed": true
   },
   "outputs": [],
   "source": [
    "with codecs.open('bdlexique.txt', \"r\", \"utf-8\") as file:\n",
    "    text = file.readlines()\n",
    "    words = []\n",
    "    for line in text:\n",
    "        line = line.strip()\n",
    "        word = line.split(\";\")\n",
    "        if \" \" not in word[0] and \"-\" not in word[0]:\n",
    "            words.append(word[0])\n",
    "    s = set(words)"
   ]
  },
  {
   "cell_type": "code",
   "execution_count": null,
   "metadata": {
    "collapsed": true
   },
   "outputs": [],
   "source": [
    "def find_words(nb_letters, nb_words):\n",
    "    reduceLength = []\n",
    "    for w in s:\n",
    "        if len(w) == nb_letters:\n",
    "            reduceLength.append(w)\n",
    "    return random.sample(reduceLength, nb_words)"
   ]
  },
  {
   "cell_type": "code",
   "execution_count": null,
   "metadata": {
    "collapsed": true
   },
   "outputs": [],
   "source": [
    "def makeform1(root, fields):\n",
    "    entries = []\n",
    "    for field in fields:\n",
    "        row = Frame(root)\n",
    "        lab = Label(row, width=15, text=field[0]+\": \"+field[1], anchor='w')\n",
    "        #ent = Entry(row)\n",
    "        row.pack(side=TOP, fill=X, padx=5, pady=5)\n",
    "        lab.pack(side=LEFT)\n"
   ]
  },
  {
   "cell_type": "code",
   "execution_count": null,
   "metadata": {
    "collapsed": true
   },
   "outputs": [],
   "source": [
    "def fetch(entries):\n",
    "    w = entries[0][1].get()\n",
    "    l = entries[1][1].get()\n",
    "    print('%s: %s' % (w, l))\n",
    "    result = find_words(int(l), int(w))\n",
    "    result.sort()\n",
    "    i=1\n",
    "    cached = []\n",
    "    for m in result:\n",
    "        list_letters = []\n",
    "        for let in m:\n",
    "            list_letters.append(let)\n",
    "        random.shuffle(list_letters)\n",
    "        cached.append((\"word\"+str(i),\" \".join(list_letters)))\n",
    "        i += 1\n",
    "    makeform1(root,cached) \n",
    "    print (result)"
   ]
  },
  {
   "cell_type": "code",
   "execution_count": null,
   "metadata": {
    "collapsed": true
   },
   "outputs": [],
   "source": [
    "def fetch1():\n",
    "    i=1\n",
    "    cached = []\n",
    "    for m in result:\n",
    "        list_letters = []\n",
    "        for let in m:\n",
    "            list_letters.append(let)\n",
    "        random.shuffle(list_letters)\n",
    "        cached.append((\"word\"+str(i),\" \".join(list_letters)))\n",
    "        i += 1\n",
    "    makeform1(root,cached) \n",
    "    #print (result)"
   ]
  },
  {
   "cell_type": "code",
   "execution_count": null,
   "metadata": {
    "collapsed": true
   },
   "outputs": [],
   "source": [
    "def makeform(root, fields):\n",
    "    entries = []\n",
    "    for field in fields:\n",
    "        row = Frame(root)\n",
    "        lab = Label(row, width=15, text=field, anchor='w')\n",
    "        ent = Entry(row)\n",
    "        #if field == \"Your Guess?\":\n",
    "        #    ent.delete(0,END)\n",
    "        #    ent.insert(0,\"Wait till you see the words!\")\n",
    "        row.pack(side=TOP, fill=X, padx=5, pady=5)\n",
    "        lab.pack(side=LEFT)\n",
    "        ent.pack(side=RIGHT, expand=YES, fill=X)\n",
    "        entries.append((field, ent))\n",
    "    return entries"
   ]
  },
  {
   "cell_type": "code",
   "execution_count": null,
   "metadata": {
    "collapsed": true
   },
   "outputs": [],
   "source": [
    "def check(answer):\n",
    "    a = answer.get()\n",
    "    if a in result:\n",
    "        showinfo('Bravo!', \"One word GUESSED!\")\n",
    "        answer.delete(0,END)\n",
    "    else:\n",
    "        showinfo('Oops...', \"Try again\")\n",
    "        answer.delete(0,END)"
   ]
  },
  {
   "cell_type": "code",
   "execution_count": null,
   "metadata": {
    "collapsed": true
   },
   "outputs": [],
   "source": [
    "if __name__ == '__main__':\n",
    "    root = Tk()\n",
    "    #ents = makeform(root, fields) # AK temporary OUT\n",
    "    l = 6\n",
    "    w = 3\n",
    "    result = find_words(int(l), int(w))\n",
    "    result.sort()\n",
    "    print(result)\n",
    "    root.title(\"Guess {} words with {} letters each\".format(w,l))\n",
    "    #fetch(ents)\n",
    "    #words2guess = getWords(ents)\n",
    "    #root.bind('<Return>', (lambda event, e=ents: fetch(e))) \n",
    "    b1 = Button(root, text='Show Ltrs',\n",
    "          command=fetch1)\n",
    "          #command=(lambda e=ents: fetch(e)))\n",
    "    #print (fetch(ents))\n",
    "    b1.pack(side=LEFT, padx=5, pady=5)\n",
    "    b2 = Button(root, text='Quit', command=root.quit)\n",
    "    b2.pack(side=LEFT, padx=5, pady=5)\n",
    "    ent = Entry(root)\n",
    "    b3 = Button(root, text='VerifyGuess',\n",
    "          command=(lambda e=ent: check(e)))\n",
    "    b3.pack(side=LEFT, padx=5, pady=5)\n",
    "    l = Label(root, width=15, text=\"Your Guess?\", anchor='e')\n",
    "    ent.pack(side=RIGHT, expand=YES, fill=X)\n",
    "    l.pack(side=RIGHT, padx=5, pady=5)\n",
    "    root.mainloop()"
   ]
  }
 ],
 "metadata": {
  "kernelspec": {
   "display_name": "Python 2",
   "language": "python",
   "name": "python2"
  },
  "language_info": {
   "codemirror_mode": {
    "name": "ipython",
    "version": 2
   },
   "file_extension": ".py",
   "mimetype": "text/x-python",
   "name": "python",
   "nbconvert_exporter": "python",
   "pygments_lexer": "ipython2",
   "version": "2.7.10"
  }
 },
 "nbformat": 4,
 "nbformat_minor": 0
}
