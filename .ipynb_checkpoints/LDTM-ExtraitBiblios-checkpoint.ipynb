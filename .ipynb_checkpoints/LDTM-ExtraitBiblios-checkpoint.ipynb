{
 "cells": [
  {
   "cell_type": "markdown",
   "metadata": {},
   "source": [
    "# Script pour extraire et mélanger les exemples du Kalaba final\n",
    "- Le fichier d'entrée est \"16-K5-Texte.pdf\"\n",
    "- Les fichiers de sortie sont\n",
    " - \"16-K5-Shuffle.pdf\"\n",
    " - \"16-K5-Extrait.pdf\""
   ]
  },
  {
   "cell_type": "code",
   "execution_count": 56,
   "metadata": {},
   "outputs": [],
   "source": [
    "import codecs, re, string\n",
    "from os.path import expanduser\n",
    "import random, sys\n",
    "from pyPdf import PdfFileWriter, PdfFileReader\n",
    "home = expanduser(\"~\")"
   ]
  },
  {
   "cell_type": "code",
   "execution_count": 57,
   "metadata": {
    "collapsed": true
   },
   "outputs": [],
   "source": [
    "nKalaba=\"K5\"\n",
    "annee=\"17\"\n",
    "nPageSep=23\n",
    "repertoire=home+\"/ownCloud/Cours/Bordeaux/L1-LinguistiqueGenerale/Kalaba-Project/%s-%s\"%(annee,nKalaba)\n",
    "serie=repertoire+\"/\""
   ]
  },
  {
   "cell_type": "code",
   "execution_count": 58,
   "metadata": {
    "collapsed": true
   },
   "outputs": [],
   "source": [
    "def indexConsecutifs(index):\n",
    "    if len(index)<2:\n",
    "        return False\n",
    "    else:\n",
    "        for i in range(len(index)-1):\n",
    "            if index[i]+1==index[i+1]:\n",
    "                return True\n",
    "        return False"
   ]
  },
  {
   "cell_type": "code",
   "execution_count": 59,
   "metadata": {},
   "outputs": [
    {
     "name": "stdout",
     "output_type": "stream",
     "text": [
      "4 11 5 59\n",
      "[0, 1, 2, 3, 9, 10, 11, 12, 18, 19, 20, 21, 24, 27, 28, 29, 31, 32, 33, 35, 37, 39, 41, 42, 43, 44, 46, 48, 52, 53, 55, 58]\n",
      "[10, 48, 35, 28, 3, 43, 37, 24, 53, 39, 11, 19, 55, 46, 41, 31, 42, 27, 9, 44, 58, 29, 32, 20, 33, 0, 21, 18, 2, 12, 52, 1]\n"
     ]
    }
   ],
   "source": [
    "nomTexte=\"%s-%s-Texte.pdf\"%(annee,nKalaba)\n",
    "nomExtrait=\"%s-%s-Extrait.pdf\"%(annee,nKalaba)\n",
    "nomMelange=\"%s-%s-Shuffle.pdf\"%(annee,nKalaba)\n",
    "fileTexte=open(serie+nomTexte,\"rb\")\n",
    "input = PdfFileReader(fileTexte)\n",
    "outExtrait = PdfFileWriter()\n",
    "outShuffle = PdfFileWriter()\n",
    "pages=[]\n",
    "nProp=2\n",
    "nChunks=3\n",
    "moitie=nPageSep//nProp\n",
    "chunkSize=moitie//nChunks+(moitie%nChunks!=0)\n",
    "nTrash=nPageSep-chunkSize*nChunks\n",
    "excludeSize=nTrash//(nChunks-1)\n",
    "nPagesTotal = input.getNumPages()\n",
    "print chunkSize,nTrash,excludeSize,nPagesTotal\n",
    "for n in range(nChunks):    \n",
    "    pages.extend(range(n*(excludeSize+chunkSize),n*excludeSize+(n+1)*chunkSize))\n",
    "pages.extend(random.sample(range(nPageSep+1,nPagesTotal),20))\n",
    "random.shuffle(pages)\n",
    "while indexConsecutifs(pages):\n",
    "    random.shuffle(pages)\n",
    "print sorted(pages)\n",
    "print pages"
   ]
  },
  {
   "cell_type": "code",
   "execution_count": 60,
   "metadata": {},
   "outputs": [],
   "source": [
    "fileExtrait=open(serie+nomExtrait,\"wb\")\n",
    "for i in sorted(pages):\n",
    "    outExtrait.addPage(input.getPage(i))\n",
    "outExtrait.write(fileExtrait)\n",
    "fileExtrait.close()\n",
    "\n",
    "fileMelange=open(serie+nomMelange,\"wb\")\n",
    "for i in pages:\n",
    "     outShuffle.addPage(input.getPage(i))\n",
    "outShuffle.write(fileMelange)\n",
    "fileMelange.close()"
   ]
  },
  {
   "cell_type": "code",
   "execution_count": 61,
   "metadata": {},
   "outputs": [],
   "source": [
    "nomPuzzle=\"%s-%s-Puzzle.tex\"%(annee,nKalaba)\n",
    "lines=[r\"\\documentclass{article}\",r\"\\usepackage{graphicx,geometry,dashrule}\",\n",
    "       r\"\\geometry{scale={0.95,0.95},noheadfoot} % scale={largeur,hauteur}\",\n",
    "       r\"\\begin{document}\",r\"\\pagestyle{empty}\\thispagestyle{empty}\",r\"\\noindent\\centering\"\n",
    "      ]\n",
    "for i in range(len(pages)):\n",
    "     lines.append(r\"\\includegraphics[page=%d]{%s}\\\\\\hdashrule[0.5ex]{\\textwidth}{1pt}{3mm}\\\\\"%(i+1,nomMelange))\n",
    "lines.append(r\"\\end{document}\")\n",
    "with open(serie+nomPuzzle,\"w\") as output:\n",
    "    for line in lines:\n",
    "        output.write(line+\"\\n\")"
   ]
  },
  {
   "cell_type": "code",
   "execution_count": 62,
   "metadata": {
    "collapsed": true
   },
   "outputs": [],
   "source": [
    "nomPuzzle=\"%s-%s-PuzzleCle.tex\"%(annee,nKalaba)\n",
    "lines=[r\"\\documentclass{article}\",r\"\\usepackage{graphicx,geometry,dashrule}\",\n",
    "       r\"\\geometry{scale={0.95,0.95},noheadfoot} % scale={largeur,hauteur}\",\n",
    "       r\"\\begin{document}\",r\"\\pagestyle{empty}\\thispagestyle{empty}\",r\"\\noindent\\centering\"\n",
    "      ]\n",
    "for i in range(len(pages)):\n",
    "     lines.append(r\"\\includegraphics[page=%d]{%s}\\\\\\hdashrule[0.5ex]{\\textwidth}{1pt}{3mm}\\\\\"%(i+1,nomExtrait))\n",
    "lines.append(r\"\\end{document}\")\n",
    "with open(serie+nomPuzzle,\"w\") as output:\n",
    "    for line in lines:\n",
    "        output.write(line+\"\\n\")"
   ]
  },
  {
   "cell_type": "code",
   "execution_count": null,
   "metadata": {
    "collapsed": true
   },
   "outputs": [],
   "source": []
  }
 ],
 "metadata": {
  "kernelspec": {
   "display_name": "Python 2",
   "language": "python",
   "name": "python2"
  },
  "language_info": {
   "codemirror_mode": {
    "name": "ipython",
    "version": 2
   },
   "file_extension": ".py",
   "mimetype": "text/x-python",
   "name": "python",
   "nbconvert_exporter": "python",
   "pygments_lexer": "ipython2",
   "version": "2.7.11"
  }
 },
 "nbformat": 4,
 "nbformat_minor": 1
}
