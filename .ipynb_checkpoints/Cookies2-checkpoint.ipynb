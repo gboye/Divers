{
 "cells": [
  {
   "cell_type": "code",
   "execution_count": null,
   "metadata": {
    "collapsed": false
   },
   "outputs": [],
   "source": [
    "\"\"\"Example app to login to eCampus\"\"\"\n",
    "import mechanicalsoup"
   ]
  },
  {
   "cell_type": "code",
   "execution_count": null,
   "metadata": {
    "collapsed": false,
    "scrolled": true
   },
   "outputs": [],
   "source": [
    "args={\"username\":\"identifiant_bordeaux3\", \"password\":\"mot_de_passe\"}\n",
    "browser = mechanicalsoup.Browser()\n",
    "\n",
    "# request github login page. the result is a requests.Response object http://docs.python-requests.org/en/latest/user/quickstart/#response-content\n",
    "login_page = browser.get(\"https://sso.u-bordeaux-montaigne.fr/cas/\")"
   ]
  },
  {
   "cell_type": "code",
   "execution_count": null,
   "metadata": {
    "collapsed": false
   },
   "outputs": [],
   "source": [
    "# login_page.soup is a BeautifulSoup object http://www.crummy.com/software/BeautifulSoup/bs4/doc/#beautifulsoup \n",
    "# we grab the login form\n",
    "login_form = login_page.soup.select(\"#fm1\")[0]\n",
    "print login_form"
   ]
  },
  {
   "cell_type": "code",
   "execution_count": null,
   "metadata": {
    "collapsed": true
   },
   "outputs": [],
   "source": [
    "# specify username and password\n",
    "login_form.select(\"#username\")[0]['value'] = args[\"username\"]\n",
    "login_form.select(\"#password\")[0]['value'] = args[\"password\"]"
   ]
  },
  {
   "cell_type": "code",
   "execution_count": null,
   "metadata": {
    "collapsed": false
   },
   "outputs": [],
   "source": [
    "print \"login form\"\n",
    "print login_form"
   ]
  },
  {
   "cell_type": "code",
   "execution_count": null,
   "metadata": {
    "collapsed": true
   },
   "outputs": [],
   "source": [
    "# submit form\n",
    "page2 = browser.submit(login_form, login_page.url)"
   ]
  },
  {
   "cell_type": "code",
   "execution_count": null,
   "metadata": {
    "collapsed": false,
    "scrolled": true
   },
   "outputs": [],
   "source": [
    "print page2.soup"
   ]
  },
  {
   "cell_type": "code",
   "execution_count": null,
   "metadata": {
    "collapsed": false
   },
   "outputs": [],
   "source": [
    "# Mettre l'url d'un cours accessible à l'identifiant\n",
    "page3 = browser.get(\"http://ecampus.u-bordeaux-montaigne.fr/course/view.php?id=194\")\n",
    "print page3.soup"
   ]
  }
 ],
 "metadata": {
  "kernelspec": {
   "display_name": "Python 2",
   "language": "python",
   "name": "python2"
  },
  "language_info": {
   "codemirror_mode": {
    "name": "ipython",
    "version": 2
   },
   "file_extension": ".py",
   "mimetype": "text/x-python",
   "name": "python",
   "nbconvert_exporter": "python",
   "pygments_lexer": "ipython2",
   "version": "2.7.10"
  }
 },
 "nbformat": 4,
 "nbformat_minor": 0
}
