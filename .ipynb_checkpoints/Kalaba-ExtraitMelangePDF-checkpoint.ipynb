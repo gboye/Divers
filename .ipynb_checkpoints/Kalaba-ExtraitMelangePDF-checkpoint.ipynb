{
 "cells": [
  {
   "cell_type": "markdown",
   "metadata": {},
   "source": [
    "# Script pour générer les exemples du Kalaba final\n",
    "- à partir des exemples de Mahira\n",
    " - sélectionner la première ligne après \\\\gloses\n",
    " - supprimer les espaces entre les mots  \n",
    "- à partie des exemples de Mots\n",
    " - supprimer les environnements preview\n",
    " - supprimer les espaces entre les mots\n",
    " \n",
    "Les fichiers d'entrée sont \"Exemples.tex\" et \"Mots.tex\"\n",
    "Le fichier de sortie est \"Exemples-Texte.tex\""
   ]
  },
  {
   "cell_type": "code",
   "execution_count": 8,
   "metadata": {
    "collapsed": true
   },
   "outputs": [],
   "source": [
    "import codecs, re, string\n",
    "from os.path import expanduser\n",
    "\n",
    "home = expanduser(\"~\")"
   ]
  },
  {
   "cell_type": "code",
   "execution_count": 9,
   "metadata": {
    "collapsed": true
   },
   "outputs": [],
   "source": [
    "nKalaba=\"K5\"\n",
    "repertoire=home+\"/ownCloud/Cours/Bordeaux/L1-LinguistiqueGenerale/Kalaba-Project/16-%s\"%nKalaba\n",
    "serie=repertoire+\"/\""
   ]
  },
  {
   "cell_type": "code",
   "execution_count": 10,
   "metadata": {
    "collapsed": true
   },
   "outputs": [],
   "source": [
    "beginEnv=\"\\\\begin{piece}\\n\\\\tornpaper{%\\n\\\\parbox{.95\\\\textwidth}{\"\n",
    "endEnv=\"}\\n}\\n\\\\end{piece}\""
   ]
  },
  {
   "cell_type": "code",
   "execution_count": 11,
   "metadata": {
    "collapsed": false
   },
   "outputs": [
    {
     "name": "stdout",
     "output_type": "stream",
     "text": [
      "910\n",
      "545\n"
     ]
    }
   ],
   "source": [
    "nomExemples=\"Exemples.tex\"\n",
    "with codecs.open(serie+nomExemples,\"r\",encoding=\"utf8\") as input:\n",
    "    lignesExemples=input.readlines()\n",
    "#print len(lignesExemples)\n",
    "\n",
    "nomMots=\"Mots.tex\"\n",
    "with codecs.open(serie+nomMots,\"r\",encoding=\"utf8\") as input:\n",
    "    lignesMots=input.readlines()\n",
    "#print len(lignesMots)"
   ]
  },
  {
   "cell_type": "markdown",
   "metadata": {},
   "source": [
    "# Best way to split a list into randomly sized chunks?\n",
    "- roippi's answer"
   ]
  },
  {
   "cell_type": "code",
   "execution_count": 5,
   "metadata": {
    "collapsed": true
   },
   "outputs": [],
   "source": [
    "from itertools import islice\n",
    "from random import gauss\n",
    "\n",
    "def random_chunk(li, moyenne=3, var=1):\n",
    "    it = iter(li)\n",
    "    while True:\n",
    "        nxt = list(islice(it,int(gauss(moyenne,var))))\n",
    "        if nxt:\n",
    "            yield nxt\n",
    "        else:\n",
    "            break"
   ]
  },
  {
   "cell_type": "code",
   "execution_count": 13,
   "metadata": {
    "collapsed": false
   },
   "outputs": [
    {
     "name": "stdout",
     "output_type": "stream",
     "text": [
      "543\n",
      "73\n"
     ]
    }
   ],
   "source": [
    "mahiraExemples=[]\n",
    "for nLigne,ligne in enumerate(lignesExemples):\n",
    "    ligne=ligne.strip()\n",
    "    if ligne==\"\\\\gloses\":\n",
    "        mahiraExemples.append(\"{}\".join(re.split(\"{} \",lignesExemples[nLigne+1])).strip())\n",
    "mahiraChunks=list(random_chunk(mahiraExemples))\n",
    "\n",
    "autresExemples=[]\n",
    "lignesMots=[ligne for ligne in lignesMots if not ligne.startswith(\"%\")]\n",
    "print len(lignesMots)\n",
    "for nLigne,ligne in enumerate(lignesMots):\n",
    "    ligne=ligne.strip()\n",
    "    if nLigne%3==0:\n",
    "        ligne=ligne.replace(\"\\\\begin{preview}\",\"\")\n",
    "        ligne=ligne.replace(\"\\\\end{preview}\",\"\")\n",
    "        autresExemples.append(\"{}\".join(re.split(\"{} \",ligne))+\"\\\\\\\\\")\n",
    "autresChunks=list(random_chunk(autresExemples))\n"
   ]
  },
  {
   "cell_type": "code",
   "execution_count": 14,
   "metadata": {
    "collapsed": false
   },
   "outputs": [
    {
     "name": "stdout",
     "output_type": "stream",
     "text": [
      "0 3\n",
      "1 2\n",
      "2 3\n",
      "3 3\n",
      "4 3\n",
      "5 3\n",
      "6 2\n",
      "7 3\n",
      "8 2\n",
      "9 4\n",
      "10 2\n",
      "11 3\n",
      "12 1\n",
      "13 2\n",
      "14 2\n",
      "15 1\n",
      "16 1\n",
      "17 2\n",
      "18 2\n",
      "19 3\n",
      "20 3\n",
      "21 1\n",
      "22 2\n",
      "23 5\n",
      "24 4\n",
      "25 2\n",
      "26 4\n",
      "27 2\n",
      "28 4\n",
      "29 2\n",
      "30 3\n",
      "31 2\n",
      "32 2\n",
      "33 3\n",
      "34 4\n",
      "35 3\n",
      "36 3\n",
      "37 3\n",
      "38 2\n",
      "39 3\n",
      "40 4\n",
      "41 3\n",
      "42 2\n",
      "43 2\n",
      "####################\n",
      "73\n",
      "0 3\n",
      "1 3\n",
      "2 1\n",
      "3 2\n",
      "4 3\n",
      "5 2\n",
      "6 3\n",
      "7 3\n",
      "8 4\n",
      "9 3\n",
      "10 4\n",
      "11 4\n",
      "12 2\n",
      "13 3\n",
      "14 4\n",
      "15 2\n",
      "16 1\n",
      "17 3\n",
      "18 2\n",
      "19 2\n",
      "20 4\n",
      "21 3\n",
      "22 1\n",
      "23 2\n",
      "24 2\n",
      "25 2\n",
      "26 2\n",
      "27 2\n",
      "28 2\n",
      "29 2\n",
      "30 3\n",
      "31 3\n",
      "32 2\n",
      "33 1\n",
      "34 2\n",
      "35 1\n",
      "36 1\n",
      "37 3\n",
      "38 4\n",
      "39 1\n",
      "40 3\n",
      "41 2\n",
      "42 2\n",
      "43 2\n",
      "44 2\n",
      "45 3\n",
      "46 5\n",
      "47 3\n",
      "48 2\n",
      "49 4\n",
      "50 2\n",
      "51 2\n",
      "52 3\n",
      "53 4\n",
      "54 4\n",
      "55 4\n",
      "56 2\n",
      "57 2\n",
      "58 4\n",
      "59 3\n",
      "60 1\n",
      "61 2\n",
      "62 2\n",
      "63 2\n",
      "64 3\n",
      "65 2\n",
      "66 1\n",
      "67 1\n",
      "68 1\n",
      "69 3\n",
      "70 2\n",
      "71 3\n",
      "72 3\n"
     ]
    }
   ],
   "source": [
    "nomExemplesTexte=nomExemples.replace(\".tex\",\"-Texte.tex\")\n",
    "if nomExemplesTexte==nomExemples:\n",
    "    print \"Le nom de la sortie est le même que celui de l'entrée...\"\n",
    "else:\n",
    "    with codecs.open(serie+nomExemplesTexte,\"w\",encoding=\"utf8\") as output:\n",
    "        for nChunk,chunk in enumerate(mahiraChunks):\n",
    "            print nChunk, len(chunk)\n",
    "            output.write(beginEnv+\"\\n\")\n",
    "            for exemple in chunk:\n",
    "                output.write(exemple+\"\\n\")\n",
    "            output.write(endEnv+\"\\n\")\n",
    "\n",
    "        print \"####################\"\n",
    "        output.write(beginEnv+\"\\n\")\n",
    "        output.write(endEnv+\"\\n\")\n",
    "        \n",
    "        print len(autresChunks)\n",
    "        for nChunk,chunk in enumerate(autresChunks):\n",
    "            print nChunk, len(chunk)\n",
    "            output.write(beginEnv+\"\\n\")\n",
    "            for exemple in chunk:\n",
    "                output.write(exemple+\"\\n\")\n",
    "            output.write(endEnv+\"\\n\") "
   ]
  },
  {
   "cell_type": "code",
   "execution_count": 21,
   "metadata": {
    "collapsed": false
   },
   "outputs": [],
   "source": [
    "#!/usr/bin/env python2\n",
    "nKalaba=\"K5\"\n",
    "repertoire=home+\"/ownCloud/Cours/Bordeaux/L1-LinguistiqueGenerale/Kalaba-Project/16-%s\"%nKalaba\n",
    "serie=repertoire+\"/\"\n",
    "import random, sys\n",
    "from pyPdf import PdfFileWriter, PdfFileReader\n",
    "nomExtrait=\"16-%s-Extrait.pdf\"%nKalaba\n",
    "nomMelange=\"16-%s-Extrait-Shuffle.pdf\"%nKalaba\n",
    "fileExtrait=open(serie+nomExtrait,\"rb\")\n",
    "fileMelange=open(serie+nomMelange,\"wb\")\n",
    "input = PdfFileReader(fileExtrait)\n",
    "output = PdfFileWriter()\n",
    "pages = range(input.getNumPages())\n",
    "random.shuffle(pages)\n",
    "for i in pages:\n",
    "     output.addPage(input.getPage(i))\n",
    "output.write(fileMelange)\n",
    "fileMelange.close()\n"
   ]
  },
  {
   "cell_type": "code",
   "execution_count": null,
   "metadata": {
    "collapsed": true
   },
   "outputs": [],
   "source": []
  }
 ],
 "metadata": {
  "kernelspec": {
   "display_name": "Python 2",
   "language": "python",
   "name": "python2"
  },
  "language_info": {
   "codemirror_mode": {
    "name": "ipython",
    "version": 2
   },
   "file_extension": ".py",
   "mimetype": "text/x-python",
   "name": "python",
   "nbconvert_exporter": "python",
   "pygments_lexer": "ipython2",
   "version": "2.7.11"
  }
 },
 "nbformat": 4,
 "nbformat_minor": 0
}
