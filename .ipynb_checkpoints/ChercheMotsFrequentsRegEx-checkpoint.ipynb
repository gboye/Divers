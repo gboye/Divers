{
 "cells": [
  {
   "cell_type": "code",
   "execution_count": 13,
   "metadata": {
    "collapsed": true
   },
   "outputs": [],
   "source": [
    "lettreInitiale=u\"\"\n",
    "ligne1=u\"mtcrp\"\n",
    "ligne2=u\"aeou\"\n",
    "longueurMot=7"
   ]
  },
  {
   "cell_type": "code",
   "execution_count": 14,
   "metadata": {
    "collapsed": true
   },
   "outputs": [],
   "source": [
    "from unidecode import unidecode\n",
    "import re,sys,codecs\n",
    "import random as rd\n",
    "import itertools as it"
   ]
  },
  {
   "cell_type": "code",
   "execution_count": 15,
   "metadata": {
    "collapsed": true
   },
   "outputs": [],
   "source": [
    "nomLexique=\"../../ownCloud/Python/phonemisation/bdlexique.txt\"\n",
    "fichierLexique=codecs.open(nomLexique,encoding=\"utf8\")"
   ]
  },
  {
   "cell_type": "code",
   "execution_count": 16,
   "metadata": {
    "collapsed": true
   },
   "outputs": [],
   "source": [
    "def sortLettres(mot):\n",
    "    return \"\".join(sorted(list(unidecode(mot))))"
   ]
  },
  {
   "cell_type": "code",
   "execution_count": 17,
   "metadata": {
    "collapsed": true
   },
   "outputs": [],
   "source": [
    "def bonMot(mot):\n",
    "    if re.search(\"[-']\",mot):\n",
    "         return False     \n",
    "    else:\n",
    "        return True"
   ]
  },
  {
   "cell_type": "code",
   "execution_count": 18,
   "metadata": {
    "collapsed": true
   },
   "outputs": [],
   "source": [
    "mots={}\n",
    "for element in fichierLexique:\n",
    "    mot=element.split(\";\")[0]\n",
    "    if bonMot(mot):\n",
    "        longMot=len(mot)\n",
    "        if not longMot in mots:\n",
    "            mots[longMot]={}\n",
    "        lettresMot=sortLettres(mot)\n",
    "        if not lettresMot in mots[longMot]:\n",
    "            mots[longMot][lettresMot]=set()\n",
    "        mots[longMot][lettresMot].add(mot)"
   ]
  },
  {
   "cell_type": "code",
   "execution_count": 19,
   "metadata": {
    "collapsed": true
   },
   "outputs": [],
   "source": [
    "def tirageLettres(lettre,lettres,nb):\n",
    "    ensMots=set()\n",
    "    for combi in it.combinations(lettres,nb):\n",
    "        cle=\"\".join(sorted(combi))\n",
    "        if cle in mots[nb] :\n",
    "            for mot in mots[nb][cle]:\n",
    "                if mot.startswith(lettre) or lettre==\"\":\n",
    "                    ensMots.add(mot)\n",
    "    return sorted(list(ensMots))"
   ]
  },
  {
   "cell_type": "code",
   "execution_count": 35,
   "metadata": {
    "collapsed": true
   },
   "outputs": [],
   "source": [
    "def tirageLettres(lettreInitiale,tirage,nb):\n",
    "    ensMots=set()\n",
    "    # Prendre nb-1 lettres dans le tirage pour ajouter après la lettre initiale\n",
    "    for lettres in it.combinations(tirage,nb-(lettreInitiale!=\"\")):\n",
    "        cle=\"\".join(sorted(list(lettres)+[lettreInitiale]))\n",
    "        if cle in mots[nb] :\n",
    "            for mot in mots[nb][cle]:\n",
    "                if mot.startswith(lettreInitiale) or lettreInitiale==\"\":\n",
    "                    ensMots.add(mot)\n",
    "    return sorted(list(ensMots))"
   ]
  },
  {
   "cell_type": "code",
   "execution_count": 36,
   "metadata": {},
   "outputs": [
    {
     "name": "stdout",
     "output_type": "stream",
     "text": [
      "acemoprtu 7\n",
      "acompte amputer aperçut aperçût campeur capoter capteur capture capturé compare comparu comparé compter computa compute computé coupera coûtera emporta macoute maroute morceau percuta permuta pouacre recoupa rempota retoupa écourta écrouât écroûta\n"
     ]
    }
   ],
   "source": [
    "lettresTirage=ligne1+ligne2\n",
    "lettres=sortLettres(lettresTirage)\n",
    "print lettres, longueurMot\n",
    "for mot in tirageLettres(lettreInitiale,lettres,longueurMot):\n",
    "    print mot,"
   ]
  },
  {
   "cell_type": "code",
   "execution_count": null,
   "metadata": {
    "collapsed": true
   },
   "outputs": [],
   "source": []
  }
 ],
 "metadata": {
  "kernelspec": {
   "display_name": "Python 2",
   "language": "python",
   "name": "python2"
  },
  "language_info": {
   "codemirror_mode": {
    "name": "ipython",
    "version": 2
   },
   "file_extension": ".py",
   "mimetype": "text/x-python",
   "name": "python",
   "nbconvert_exporter": "python",
   "pygments_lexer": "ipython2",
   "version": "2.7.11"
  }
 },
 "nbformat": 4,
 "nbformat_minor": 1
}
