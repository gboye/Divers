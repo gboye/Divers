{
 "cells": [
  {
   "cell_type": "code",
   "execution_count": 1,
   "metadata": {
    "collapsed": true
   },
   "outputs": [],
   "source": [
    "#!/usr/bin/env python\n",
    "# -*- coding: utf-8 -*-"
   ]
  },
  {
   "cell_type": "code",
   "execution_count": 2,
   "metadata": {
    "collapsed": true
   },
   "outputs": [],
   "source": [
    "import urllib"
   ]
  },
  {
   "cell_type": "code",
   "execution_count": 3,
   "metadata": {
    "collapsed": true
   },
   "outputs": [],
   "source": [
    "freebox=\"27690183\"\n",
    "touches={\n",
    "    \"Up\":\"up\",\n",
    "    \"Down\":\"down\",\n",
    "    \"Right\":\"right\",\n",
    "    \"Left\":\"left\",\n",
    "    \"Return\":\"ok\",\n",
    "    \"space\":\"play\",\n",
    "    \"Home\":\"red\",\n",
    "    \"plus\":\"vol_inc\",\n",
    "    \"minus\":\"vol_dec\",\n",
    "    \"asterisk\":\"mute\",\n",
    "    \"Delete\":\"power\",\n",
    "        }\n",
    "from tkinter import * \n",
    "\n",
    "fenetre = Tk()\n",
    "\n",
    "label = Label(fenetre, text=\"Télécommande FreeBox\")\n",
    "label.pack()"
   ]
  },
  {
   "cell_type": "code",
   "execution_count": 4,
   "metadata": {
    "collapsed": true
   },
   "outputs": [],
   "source": [
    "def commande(touche):\n",
    "    if touche in touches:\n",
    "        print (touche, touches[touche])\n",
    "        f = urllib.urlopen(\"http://hd1.freebox.fr/pub/remote_control?code=%s&key=%s\"%(freebox, touches[touche]))\n",
    "    return"
   ]
  },
  {
   "cell_type": "code",
   "execution_count": 5,
   "metadata": {
    "collapsed": true
   },
   "outputs": [],
   "source": [
    "# fonction appellée lorsque l'utilisateur presse une touche\n",
    "def clavier(event):\n",
    "    touche = event.keysym\n",
    "    commande(touche)\n",
    "    print touche\n",
    "    return"
   ]
  },
  {
   "cell_type": "code",
   "execution_count": 6,
   "metadata": {
    "collapsed": false
   },
   "outputs": [
    {
     "name": "stdout",
     "output_type": "stream",
     "text": [
      "??\n",
      "('Delete', 'power')\n",
      "Delete\n",
      "('Right', 'right')\n",
      "Right\n",
      "('Right', 'right')\n",
      "Right\n",
      "('Right', 'right')\n",
      "Right\n",
      "('Right', 'right')\n",
      "Right\n",
      "('Right', 'right')\n",
      "Right\n",
      "('Return', 'ok')\n",
      "Return\n",
      "('Down', 'down')\n",
      "Down\n",
      "('Up', 'up')\n",
      "Up\n",
      "('Return', 'ok')\n",
      "Return\n",
      "('Down', 'down')\n",
      "Down\n",
      "('Down', 'down')\n",
      "Down\n",
      "('Down', 'down')\n",
      "Down\n",
      "('Down', 'down')\n",
      "Down\n",
      "('Down', 'down')\n",
      "Down\n",
      "('Down', 'down')\n",
      "Down\n",
      "('Down', 'down')\n",
      "Down\n",
      "('Return', 'ok')\n",
      "Return\n",
      "('Down', 'down')\n",
      "Down\n",
      "('Down', 'down')\n",
      "Down\n",
      "('Down', 'down')\n",
      "Down\n",
      "('Down', 'down')\n",
      "Down\n",
      "('Up', 'up')\n",
      "Up\n",
      "('Return', 'ok')\n",
      "Return\n",
      "('Down', 'down')\n",
      "Down\n",
      "('Down', 'down')\n",
      "Down\n",
      "('Return', 'ok')\n",
      "Return\n",
      "('Down', 'down')\n",
      "Down\n",
      "('Down', 'down')\n",
      "Down\n",
      "('Down', 'down')\n",
      "Down\n",
      "('Down', 'down')\n",
      "Down\n",
      "('Down', 'down')\n",
      "Down\n",
      "('Down', 'down')\n",
      "Down\n",
      "('Down', 'down')\n",
      "Down\n",
      "('Down', 'down')\n",
      "Down\n",
      "('Down', 'down')\n",
      "Down\n",
      "('Down', 'down')\n",
      "Down\n",
      "('Down', 'down')\n",
      "Down\n",
      "('Down', 'down')\n",
      "Down\n",
      "('Return', 'ok')\n",
      "Return\n",
      "('space', 'play')\n",
      "space\n",
      "Meta_L\n"
     ]
    },
    {
     "ename": "KeyboardInterrupt",
     "evalue": "",
     "output_type": "error",
     "traceback": [
      "\u001b[0;31m---------------------------------------------------------------------------\u001b[0m",
      "\u001b[0;31mKeyboardInterrupt\u001b[0m                         Traceback (most recent call last)",
      "\u001b[0;32m<ipython-input-6-2179822f4569>\u001b[0m in \u001b[0;36m<module>\u001b[0;34m()\u001b[0m\n\u001b[1;32m     11\u001b[0m \u001b[0mcanvas\u001b[0m\u001b[0;34m.\u001b[0m\u001b[0mpack\u001b[0m\u001b[0;34m(\u001b[0m\u001b[0;34m)\u001b[0m\u001b[0;34m\u001b[0m\u001b[0m\n\u001b[1;32m     12\u001b[0m \u001b[0;34m\u001b[0m\u001b[0m\n\u001b[0;32m---> 13\u001b[0;31m \u001b[0mfenetre\u001b[0m\u001b[0;34m.\u001b[0m\u001b[0mmainloop\u001b[0m\u001b[0;34m(\u001b[0m\u001b[0;34m)\u001b[0m\u001b[0;34m\u001b[0m\u001b[0m\n\u001b[0m",
      "\u001b[0;32m/Users/gilles/anaconda/lib/python2.7/lib-tk/Tkinter.pyc\u001b[0m in \u001b[0;36mmainloop\u001b[0;34m(self, n)\u001b[0m\n\u001b[1;32m   1119\u001b[0m     \u001b[0;32mdef\u001b[0m \u001b[0mmainloop\u001b[0m\u001b[0;34m(\u001b[0m\u001b[0mself\u001b[0m\u001b[0;34m,\u001b[0m \u001b[0mn\u001b[0m\u001b[0;34m=\u001b[0m\u001b[0;36m0\u001b[0m\u001b[0;34m)\u001b[0m\u001b[0;34m:\u001b[0m\u001b[0;34m\u001b[0m\u001b[0m\n\u001b[1;32m   1120\u001b[0m         \u001b[0;34m\"\"\"Call the mainloop of Tk.\"\"\"\u001b[0m\u001b[0;34m\u001b[0m\u001b[0m\n\u001b[0;32m-> 1121\u001b[0;31m         \u001b[0mself\u001b[0m\u001b[0;34m.\u001b[0m\u001b[0mtk\u001b[0m\u001b[0;34m.\u001b[0m\u001b[0mmainloop\u001b[0m\u001b[0;34m(\u001b[0m\u001b[0mn\u001b[0m\u001b[0;34m)\u001b[0m\u001b[0;34m\u001b[0m\u001b[0m\n\u001b[0m\u001b[1;32m   1122\u001b[0m     \u001b[0;32mdef\u001b[0m \u001b[0mquit\u001b[0m\u001b[0;34m(\u001b[0m\u001b[0mself\u001b[0m\u001b[0;34m)\u001b[0m\u001b[0;34m:\u001b[0m\u001b[0;34m\u001b[0m\u001b[0m\n\u001b[1;32m   1123\u001b[0m         \u001b[0;34m\"\"\"Quit the Tcl interpreter. All widgets will be destroyed.\"\"\"\u001b[0m\u001b[0;34m\u001b[0m\u001b[0m\n",
      "\u001b[0;31mKeyboardInterrupt\u001b[0m: "
     ]
    }
   ],
   "source": [
    "# création du canvas\n",
    "canvas = Canvas(fenetre, width=75, height=75, bg=\"ivory\")\n",
    "# coordonnées initiales\n",
    "coords = (120, 120)\n",
    "# création du rectangle\n",
    "rectangle = canvas.create_rectangle(25,25,50,50,fill=\"violet\")\n",
    "# ajout du bond sur les touches du clavier\n",
    "canvas.focus_set()\n",
    "canvas.bind(\"<Key>\", clavier)\n",
    "# création du canvas\n",
    "canvas.pack()\n",
    "\n",
    "fenetre.mainloop()"
   ]
  },
  {
   "cell_type": "code",
   "execution_count": null,
   "metadata": {
    "collapsed": true
   },
   "outputs": [],
   "source": []
  }
 ],
 "metadata": {
  "kernelspec": {
   "display_name": "Python 2",
   "language": "python",
   "name": "python2"
  },
  "language_info": {
   "codemirror_mode": {
    "name": "ipython",
    "version": 2
   },
   "file_extension": ".py",
   "mimetype": "text/x-python",
   "name": "python",
   "nbconvert_exporter": "python",
   "pygments_lexer": "ipython2",
   "version": "2.7.9"
  }
 },
 "nbformat": 4,
 "nbformat_minor": 0
}
