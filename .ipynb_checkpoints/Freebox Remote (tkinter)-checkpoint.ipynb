{
 "cells": [
  {
   "cell_type": "code",
   "execution_count": null,
   "metadata": {
    "collapsed": true
   },
   "outputs": [],
   "source": [
    "#!/usr/bin/env python\n",
    "# -*- coding: utf-8 -*-"
   ]
  },
  {
   "cell_type": "code",
   "execution_count": null,
   "metadata": {
    "collapsed": true
   },
   "outputs": [],
   "source": [
    "import urllib"
   ]
  },
  {
   "cell_type": "code",
   "execution_count": null,
   "metadata": {
    "collapsed": true
   },
   "outputs": [],
   "source": [
    "freebox=\"27690183\"\n",
    "touches={\n",
    "    \"Up\":\"up\",\n",
    "    \"Down\":\"down\",\n",
    "    \"Right\":\"right\",\n",
    "    \"Left\":\"left\",\n",
    "    \"Return\":\"ok\",\n",
    "    \"space\":\"play\",\n",
    "    \"Home\":\"red\",\n",
    "    \"Prior\":\"blue\",\n",
    "    \"Next\":\"yellow\",\n",
    "    \"End\":\"green\",\n",
    "    \"plus\":\"vol_inc\",\n",
    "    \"minus\":\"vol_dec\",\n",
    "    \"asterisk\":\"mute\",\n",
    "    \"Delete\":\"power\",\n",
    "        }\n",
    "from tkinter import * \n",
    "\n",
    "fenetre = Tk()\n",
    "\n",
    "label = Label(fenetre, text=\"Télécommande FreeBox\")\n",
    "label.pack()"
   ]
  },
  {
   "cell_type": "code",
   "execution_count": null,
   "metadata": {
    "collapsed": true
   },
   "outputs": [],
   "source": [
    "def commande(touche):\n",
    "    if touche in touches:\n",
    "        print (touche, touches[touche])\n",
    "        f = urllib.urlopen(\"http://hd1.freebox.fr/pub/remote_control?code=%s&key=%s\"%(freebox, touches[touche]))\n",
    "    return"
   ]
  },
  {
   "cell_type": "code",
   "execution_count": null,
   "metadata": {
    "collapsed": true
   },
   "outputs": [],
   "source": [
    "# fonction appellée lorsque l'utilisateur presse une touche\n",
    "def clavier(event):\n",
    "    touche = event.keysym\n",
    "    commande(touche)\n",
    "    print touche\n",
    "    return"
   ]
  },
  {
   "cell_type": "code",
   "execution_count": null,
   "metadata": {
    "collapsed": false
   },
   "outputs": [],
   "source": [
    "# création du canvas\n",
    "canvas = Canvas(fenetre, width=75, height=75, bg=\"ivory\")\n",
    "# coordonnées initiales\n",
    "coords = (120, 120)\n",
    "# création du rectangle\n",
    "rectangle = canvas.create_rectangle(25,25,50,50,fill=\"violet\")\n",
    "# ajout du bond sur les touches du clavier\n",
    "canvas.focus_set()\n",
    "canvas.bind(\"<Key>\", clavier)\n",
    "# création du canvas\n",
    "canvas.pack()\n",
    "\n",
    "fenetre.mainloop()"
   ]
  },
  {
   "cell_type": "code",
   "execution_count": null,
   "metadata": {
    "collapsed": true
   },
   "outputs": [],
   "source": []
  }
 ],
 "metadata": {
  "kernelspec": {
   "display_name": "Python 2",
   "language": "python",
   "name": "python2"
  },
  "language_info": {
   "codemirror_mode": {
    "name": "ipython",
    "version": 2
   },
   "file_extension": ".py",
   "mimetype": "text/x-python",
   "name": "python",
   "nbconvert_exporter": "python",
   "pygments_lexer": "ipython2",
   "version": "2.7.10"
  }
 },
 "nbformat": 4,
 "nbformat_minor": 0
}
