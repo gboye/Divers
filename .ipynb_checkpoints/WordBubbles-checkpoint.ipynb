{
 "metadata": {
  "name": "",
  "signature": "sha256:fd54d57c35af79e69d64aabf8de6a6cfa890b3d907112cb73804acbd08c68371"
 },
 "nbformat": 3,
 "nbformat_minor": 0,
 "worksheets": [
  {
   "cells": [
    {
     "cell_type": "code",
     "collapsed": false,
     "input": [
      "from unidecode import unidecode\n",
      "import re,sys\n",
      "import random as rd\n",
      "import itertools as it"
     ],
     "language": "python",
     "metadata": {},
     "outputs": []
    },
    {
     "cell_type": "code",
     "collapsed": false,
     "input": [
      "nomLexique=\"../Copy/Python/phonemisation/bdlexique.txt\"\n",
      "fichierLexique=open(nomLexique)"
     ],
     "language": "python",
     "metadata": {},
     "outputs": []
    },
    {
     "cell_type": "code",
     "collapsed": false,
     "input": [
      "def sortLettres(mot):\n",
      "    result=[]\n",
      "    stdMot=unidecode(mot)\n",
      "    for lettre in stdMot:\n",
      "        result.append(lettre)\n",
      "    result.sort()\n",
      "    return \"\".join(result)"
     ],
     "language": "python",
     "metadata": {},
     "outputs": []
    },
    {
     "cell_type": "code",
     "collapsed": false,
     "input": [
      "def bonMot(mot):\n",
      "    if re.search(\"[-']\",mot):\n",
      "         return False     \n",
      "    else:\n",
      "        return True"
     ],
     "language": "python",
     "metadata": {},
     "outputs": []
    },
    {
     "cell_type": "code",
     "collapsed": false,
     "input": [
      "mots={}\n",
      "for element in fichierLexique:\n",
      "    mot=element.split(\";\")[0]\n",
      "    if bonMot(mot):\n",
      "        longueurMot=len(mot)\n",
      "        if not longueurMot in mots:\n",
      "            mots[longueurMot]={}\n",
      "        lettresMot=sortLettres(mot)\n",
      "        if not lettresMot in mots[longueurMot]:\n",
      "            mots[longueurMot][lettresMot]=set()\n",
      "        mots[longueurMot][lettresMot].add(mot)"
     ],
     "language": "python",
     "metadata": {},
     "outputs": []
    },
    {
     "cell_type": "code",
     "collapsed": false,
     "input": [
      "score = {\"a\": 1, \"b\": 3, \"c\": 3, \"d\": 2, \"e\": 1, \n",
      "         \"f\": 4, \"g\": 2, \"h\": 4, \"i\": 1, \"j\": 8, \n",
      "         \"k\": 10, \"l\": 1, \"m\": 2, \"n\": 1, \"o\": 1, \n",
      "         \"p\": 3, \"q\": 8, \"r\": 1, \"s\": 1, \"t\": 1, \n",
      "         \"u\": 1, \"v\": 4, \"w\": 10, \"x\": 10, \"y\": 10, \n",
      "         \"z\": 10, \"*\":0}"
     ],
     "language": "python",
     "metadata": {},
     "outputs": []
    },
    {
     "cell_type": "code",
     "collapsed": false,
     "input": [
      "def scoreLettres(lettres):\n",
      "    result=0\n",
      "    for lettre in lettres:\n",
      "        if lettre in score:\n",
      "            result+=score[lettre]\n",
      "    return result"
     ],
     "language": "python",
     "metadata": {},
     "outputs": []
    },
    {
     "cell_type": "code",
     "collapsed": false,
     "input": [
      "def motsLettres(lettres,max):\n",
      "    result=[]\n",
      "    longueur=max\n",
      "    lettres=sortLettres(lettres)\n",
      "    for retrait in range(longueur-1):\n",
      "        l=longueur-retrait\n",
      "        for comb in set(it.combinations(lettres,l)):\n",
      "            cle=\"\".join(comb)\n",
      "            if cle in mots[l]:\n",
      "                result.append((scoreLettres(cle),mots[l][cle],len(cle)))\n",
      "    result.sort(key=lambda x: x[0], reverse=True) \n",
      "    return result"
     ],
     "language": "python",
     "metadata": {},
     "outputs": []
    },
    {
     "cell_type": "code",
     "collapsed": false,
     "input": [
      "bubbles=[\"eaipl\",\"xegna\",\"orsse\",\"tueue\",\"iqr\"]\n",
      "lettres=\"\"\n",
      "for ligne in bubbles:\n",
      "    lettres+=ligne\n",
      "solutions={9:\"\",8:\"exotique\",6:\"\"}\n",
      "complet=[]\n",
      "results=set()\n",
      "for lettre in lettres:\n",
      "    complet.append(lettre)\n",
      "for solution in solutions:\n",
      "    for lettre in solutions[solution]:\n",
      "        complet.remove(lettre)"
     ],
     "language": "python",
     "metadata": {},
     "outputs": []
    },
    {
     "cell_type": "code",
     "collapsed": false,
     "input": [
      "def Ngram(lot,n):\n",
      "    result=[]\n",
      "    for ngram in set(it.combinations(lot,n)):\n",
      "        mot=sortLettres(\"\".join(ngram))\n",
      "        if mot in mots[n]:\n",
      "            reste=lot[:]\n",
      "            for element in ngram:\n",
      "                reste.remove(element)\n",
      "            result.append((mots[n][mot],\"\".join(reste)))\n",
      "    return result"
     ],
     "language": "python",
     "metadata": {},
     "outputs": []
    },
    {
     "cell_type": "code",
     "collapsed": false,
     "input": [
      "possibles=[]\n",
      "for solution in solutions:\n",
      "    if solutions[solution]==\"\":\n",
      "        possibles.append(Ngram(complet,solution))"
     ],
     "language": "python",
     "metadata": {},
     "outputs": []
    },
    {
     "cell_type": "code",
     "collapsed": false,
     "input": [
      "for elPossibles in possibles:\n",
      "    for element in elPossibles:\n",
      "        reste=element[1]\n",
      "        longueur=len(reste)\n",
      "        test=sortLettres(reste)\n",
      "        if test in mots[longueur]:\n",
      "            print (element[0],mots[longueur][test]) "
     ],
     "language": "python",
     "metadata": {},
     "outputs": []
    },
    {
     "cell_type": "code",
     "collapsed": false,
     "input": [
      "for neuf in set(it.combinations(lettres,9)):\n",
      "    mot9=sortLettres(\"\".join(neuf))\n",
      "    if mot9 in mots[9]:\n",
      "        reste9=complet[:]\n",
      "        for element in neuf:\n",
      "            reste9.remove(element)\n",
      "        for huit in set(it.combinations(reste9,8)):\n",
      "            mot8=sortLettres(\"\".join(huit))\n",
      "            if mot8 in mots[8]:\n",
      "                reste8=reste9[:]\n",
      "                for element in huit:                    \n",
      "                    reste8.remove(element)\n",
      "                mot6=sortLettres(\"\".join(reste8))\n",
      "                if mot6 in mots[6]:\n",
      "                    if not mot9 in results9:\n",
      "                        print (mots[9][mot9], mots[8][mot8],mots[6][mot6])\n",
      "                    results.add((mot9,mot8,mot6))"
     ],
     "language": "python",
     "metadata": {},
     "outputs": []
    },
    {
     "cell_type": "code",
     "collapsed": false,
     "input": [
      "for element in results:\n",
      "    print (element)"
     ],
     "language": "python",
     "metadata": {},
     "outputs": []
    }
   ],
   "metadata": {}
  }
 ]
}