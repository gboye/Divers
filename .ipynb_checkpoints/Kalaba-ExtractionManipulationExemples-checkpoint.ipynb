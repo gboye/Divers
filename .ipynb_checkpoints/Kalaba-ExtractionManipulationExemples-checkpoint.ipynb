{
 "cells": [
  {
   "cell_type": "markdown",
   "metadata": {},
   "source": [
    "# Script pour générer les exemples du Kalaba final\n",
    "- à partir des exemples de Mahira\n",
    " - sélectionner la première ligne après \\\\gloses\n",
    " - supprimer les espaces entre les mots  \n",
    "- à partie des exemples de Mots\n",
    " - supprimer les environnements preview\n",
    " - supprimer les espaces entre les mots\n",
    "- à partir des déclarations\n",
    " - changer les mises en forme des noms propres\n",
    " \n",
    "Les fichiers d'entrée sont \"Exemples.tex\" et \"Mots.tex\", et \"Declarations.tex\"\n",
    "Le fichier de sortie est \"Exemples-Texte.tex\" et \"Declarations-Texte.tex\""
   ]
  },
  {
   "cell_type": "code",
   "execution_count": 1,
   "metadata": {},
   "outputs": [],
   "source": [
    "import codecs, re, string\n",
    "from os.path import expanduser\n",
    "\n",
    "home = expanduser(\"~\")"
   ]
  },
  {
   "cell_type": "code",
   "execution_count": 2,
   "metadata": {},
   "outputs": [],
   "source": [
    "nKalaba=\"K5\"\n",
    "annee=\"18\"\n",
    "RightLeft=True\n",
    "repertoire=home+\"/ownCloud/Cours/Bordeaux/L1-LinguistiqueGenerale/Kalaba-Project/%s-%s\"%(annee,nKalaba)\n",
    "serie=repertoire+\"/\""
   ]
  },
  {
   "cell_type": "code",
   "execution_count": 3,
   "metadata": {},
   "outputs": [
    {
     "name": "stdout",
     "output_type": "stream",
     "text": [
      "RightLeft\n"
     ]
    }
   ],
   "source": [
    "beginEnv=\"\\\\begin{piece}\\n\\\\tornpaper{%\\n\\\\parbox{.95\\\\textwidth}{\"\n",
    "if \"RightLeft\" in globals() and RightLeft:\n",
    "    print \"RightLeft\"\n",
    "    beginEnv+=\"\\\\raggedleft\"\n",
    "endEnv=\"}\\n}\\n\\\\end{piece}\""
   ]
  },
  {
   "cell_type": "code",
   "execution_count": 4,
   "metadata": {},
   "outputs": [],
   "source": [
    "nomExemples=\"Exemples.tex\"\n",
    "with codecs.open(serie+nomExemples,\"r\",encoding=\"utf8\") as input:\n",
    "    lignesExemples=input.readlines()\n",
    "#print len(lignesExemples)\n",
    "\n",
    "nomMots=\"Mots.tex\"\n",
    "with codecs.open(serie+nomMots,\"r\",encoding=\"utf8\") as input:\n",
    "    lignesMots=input.readlines()\n",
    "#print len(lignesMots)\n",
    "\n",
    "nomDeclarations=\"Declarations.tex\"\n",
    "with codecs.open(serie+nomMots,\"r\",encoding=\"utf8\") as input:\n",
    "    lignesDeclarations=input.readlines()\n"
   ]
  },
  {
   "cell_type": "markdown",
   "metadata": {},
   "source": [
    "# Best way to split a list into randomly sized chunks?\n",
    "- roippi's answer"
   ]
  },
  {
   "cell_type": "code",
   "execution_count": 5,
   "metadata": {},
   "outputs": [],
   "source": [
    "from itertools import islice\n",
    "from random import gauss\n",
    "\n",
    "def random_chunk(li, moyenne=3, var=1):\n",
    "    it = iter(li)\n",
    "    while True:\n",
    "        nxt = list(islice(it,int(gauss(moyenne,var))))\n",
    "        if nxt:\n",
    "            yield nxt\n",
    "        else:\n",
    "            break\n"
   ]
  },
  {
   "cell_type": "code",
   "execution_count": 6,
   "metadata": {},
   "outputs": [
    {
     "name": "stdout",
     "output_type": "stream",
     "text": [
      "543\n"
     ]
    }
   ],
   "source": [
    "mahiraExemples=[]\n",
    "for nLigne,ligne in enumerate(lignesExemples):\n",
    "    ligne=ligne.strip()\n",
    "    if ligne==\"\\\\gloses\":\n",
    "        mahiraExemples.append(\"{}\".join(re.split(\"{} \",lignesExemples[nLigne+1])).strip())\n",
    "mahiraChunks=list(random_chunk(mahiraExemples))\n",
    "\n",
    "autresExemples=[]\n",
    "lignesMots=[ligne for ligne in lignesMots if not ligne.startswith(\"%\")]\n",
    "print len(lignesMots)\n",
    "for nLigne,ligne in enumerate(lignesMots):\n",
    "    ligne=ligne.strip()\n",
    "    if nLigne%3==0:\n",
    "        ligne=ligne.replace(\"\\\\begin{preview}\",\"\")\n",
    "        ligne=ligne.replace(\"\\\\end{preview}\",\"\")\n",
    "        autresExemples.append(\"{}\".join(re.split(\"{} \",ligne))+\"\\\\\\\\\")\n",
    "autresChunks=list(random_chunk(autresExemples))\n"
   ]
  },
  {
   "cell_type": "code",
   "execution_count": 7,
   "metadata": {
    "scrolled": true
   },
   "outputs": [
    {
     "name": "stdout",
     "output_type": "stream",
     "text": [
      "0 2\n",
      "1 2\n",
      "2 3\n",
      "3 3\n",
      "4 3\n",
      "5 3\n",
      "6 2\n",
      "7 2\n",
      "8 3\n",
      "####################\n",
      "28\n",
      "0 3\n",
      "1 4\n",
      "2 1\n",
      "3 2\n",
      "4 2\n",
      "5 3\n",
      "6 3\n",
      "7 3\n",
      "8 4\n",
      "9 2\n",
      "10 2\n",
      "11 4\n",
      "12 3\n",
      "13 3\n",
      "14 2\n",
      "15 3\n",
      "16 1\n",
      "17 1\n",
      "18 2\n",
      "19 3\n",
      "20 2\n",
      "21 2\n",
      "22 2\n",
      "23 2\n",
      "24 2\n",
      "25 2\n",
      "26 3\n",
      "27 3\n"
     ]
    }
   ],
   "source": [
    "nomExemplesTexte=nomExemples.replace(\".tex\",\"-Texte.tex\")\n",
    "if nomExemplesTexte==nomExemples:\n",
    "    print \"Le nom de la sortie est le même que celui de l'entrée...\"\n",
    "else:\n",
    "    with codecs.open(serie+nomExemplesTexte,\"w\",encoding=\"utf8\") as output:\n",
    "        for nChunk,chunk in enumerate(mahiraChunks):\n",
    "            print nChunk, len(chunk)\n",
    "            output.write(beginEnv+\"\\n\")\n",
    "            for exemple in chunk:\n",
    "                output.write(exemple+\"\\n\")\n",
    "            output.write(endEnv+\"\\n\")\n",
    "\n",
    "        print \"####################\"\n",
    "        output.write(beginEnv+\"\\n\")\n",
    "        output.write(endEnv+\"\\n\")\n",
    "        \n",
    "        print len(autresChunks)\n",
    "        for nChunk,chunk in enumerate(autresChunks):\n",
    "            print nChunk, len(chunk)\n",
    "            output.write(beginEnv+\"\\n\")\n",
    "            for exemple in chunk:\n",
    "                output.write(exemple+\"\\n\")\n",
    "            output.write(endEnv+\"\\n\") "
   ]
  },
  {
   "cell_type": "code",
   "execution_count": 8,
   "metadata": {
    "scrolled": true
   },
   "outputs": [
    {
     "name": "stdout",
     "output_type": "stream",
     "text": [
      "0 2\n",
      "1 2\n",
      "2 3\n",
      "3 3\n",
      "4 3\n",
      "5 3\n",
      "6 2\n",
      "7 2\n",
      "8 3\n",
      "####################\n",
      "28\n",
      "0 3\n",
      "1 4\n",
      "2 1\n",
      "3 2\n",
      "4 2\n",
      "5 3\n",
      "6 3\n",
      "7 3\n",
      "8 4\n",
      "9 2\n",
      "10 2\n",
      "11 4\n",
      "12 3\n",
      "13 3\n",
      "14 2\n",
      "15 3\n",
      "16 1\n",
      "17 1\n",
      "18 2\n",
      "19 3\n",
      "20 2\n",
      "21 2\n",
      "22 2\n",
      "23 2\n",
      "24 2\n",
      "25 2\n",
      "26 3\n",
      "27 3\n"
     ]
    }
   ],
   "source": [
    "nomSolutionTexte=nomExemples.replace(\".tex\",\"-Solution.tex\")\n",
    "if nomSolutionTexte==nomExemples:\n",
    "    print \"Le nom de la sortie est le même que celui de l'entrée...\"\n",
    "else:\n",
    "    with codecs.open(serie+nomSolutionTexte,\"w\",encoding=\"utf8\") as output:\n",
    "        for nChunk,chunk in enumerate(mahiraChunks):\n",
    "            print nChunk, len(chunk)\n",
    "            output.write(beginEnv+\"\\n\")\n",
    "            for exemple in chunk:\n",
    "                output.write(\"{} \".join(re.split(\"{}\",exemple)).strip()+\"\\n\")\n",
    "                output.write(\"P{} \".join(re.split(\"{}\",exemple)).strip()+\"\\n\")\n",
    "                output.write(\"G{} \".join(re.split(\"{}\",exemple)).strip()+\"\\n\")\n",
    "            output.write(endEnv+\"\\n\")\n",
    "\n",
    "        print \"####################\"\n",
    "        output.write(beginEnv+\"\\n\")\n",
    "        output.write(endEnv+\"\\n\")\n",
    "        \n",
    "        print len(autresChunks)\n",
    "        for nChunk,chunk in enumerate(autresChunks):\n",
    "            print nChunk, len(chunk)\n",
    "            output.write(beginEnv+\"\\n\")\n",
    "            for exemple in chunk:\n",
    "                output.write(\"{} \".join(re.split(\"{}\",exemple)).strip()+\"\\n\")\n",
    "                output.write(\"P{} \".join(re.split(\"{}\",exemple)).strip()+\"\\n\")\n",
    "                output.write(\"G{} \".join(re.split(\"{}\",exemple)).strip()+\"\\n\")\n",
    "            output.write(endEnv+\"\\n\") "
   ]
  }
 ],
 "metadata": {
  "kernelspec": {
   "display_name": "Python 2",
   "language": "python",
   "name": "python2"
  },
  "language_info": {
   "codemirror_mode": {
    "name": "ipython",
    "version": 2
   },
   "file_extension": ".py",
   "mimetype": "text/x-python",
   "name": "python",
   "nbconvert_exporter": "python",
   "pygments_lexer": "ipython2",
   "version": "2.7.11"
  }
 },
 "nbformat": 4,
 "nbformat_minor": 1
}
