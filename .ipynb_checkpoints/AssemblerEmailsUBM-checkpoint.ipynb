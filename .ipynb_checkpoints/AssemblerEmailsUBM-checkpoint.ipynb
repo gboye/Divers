{
 "cells": [
  {
   "cell_type": "code",
   "execution_count": 6,
   "metadata": {
    "collapsed": true
   },
   "outputs": [],
   "source": [
    "import codecs, unidecode\n",
    "prenomNom=False"
   ]
  },
  {
   "cell_type": "code",
   "execution_count": 15,
   "metadata": {
    "collapsed": true
   },
   "outputs": [],
   "source": [
    "nomsFichier=codecs.open(\"/Users/gilles/Desktop/EmailsSoutiens.txt\",\"r\",encoding=\"utf8\")\n",
    "lignes=nomsFichier.readlines()"
   ]
  },
  {
   "cell_type": "code",
   "execution_count": 18,
   "metadata": {
    "collapsed": false
   },
   "outputs": [
    {
     "name": "stdout",
     "output_type": "stream",
     "text": [
      "Beatrice.Laville@u-bordeaux-montaigne.fr, \n",
      "Frederic.Boutoulle@u-bordeaux-montaigne.fr, \n",
      "Olivier.Ballesta@u-bordeaux-montaigne.fr, \n",
      "Helene.Velasco-Graciet@u-bordeaux-montaigne.fr, \n",
      "Vincent.Parello@u-bordeaux-montaigne.fr, \n",
      "Beatrice.Laville@u-bordeaux-montaigne.fr, \n",
      "Richard.Leeman@u-bordeaux-montaigne.fr, \n",
      "Agnes.Berlan-Berthon@u-bordeaux-montaigne.fr, \n",
      "Alpha.Barry@u-bordeaux-montaigne.fr, \n",
      "Maria.Causa@u-bordeaux-montaigne.fr, \n",
      "Yves.Gallet@u-bordeaux-montaigne.fr, \n",
      "Verane.Partensky@u-bordeaux-montaigne.fr, \n",
      "Francois.Simon@u-bordeaux-montaigne.fr, \n",
      "Sabine.Tinchant-Benrahho@u-bordeaux-montaigne.fr, \n",
      "Alban.Pichon@u-bordeaux-montaigne.fr, \n",
      "Cecilia.Gonzalez-Scavino@u-bordeaux-montaigne.fr, \n",
      "Mustapha.Jaouhari@u-bordeaux-montaigne.fr, \n",
      "Christelle.Lahaye@u-bordeaux-montaigne.fr, \n",
      "Gilles.Boye@u-bordeaux-montaigne.fr, \n",
      "Frederic.Boutoulle@u-bordeaux-montaigne.fr, \n",
      "Veronique.Ferrer@u-bordeaux-montaigne.fr, \n",
      "Ricardo.Etxepare@u-bordeaux-montaigne.fr, \n",
      "Celine.Spector@u-bordeaux-montaigne.fr, \n",
      "Bernard.Calas@u-bordeaux-montaigne.fr, \n",
      "Veronique.Beghain@u-bordeaux-montaigne.fr, \n",
      "Christophe.Lastecoueres@u-bordeaux-montaigne.fr, \n",
      "Anne.Gossot@u-bordeaux-montaigne.fr, \n",
      "Olivier.Bessard-Banquy@u-bordeaux-montaigne.fr, \n",
      "Maria-Caterina.Manes-Gallo@u-bordeaux-montaigne.fr, \n",
      "Alexandre.Fernandes@u-bordeaux-montaigne.fr, \n",
      "Marie-Francoise.Ong-Van-Cung@u-bordeaux-montaigne.fr, \n",
      "Remy.Chapoulie@u-bordeaux-montaigne.fr, \n",
      "Laurence.Labrune@u-bordeaux-montaigne.fr, \n",
      "Pascal.Tozzi@u-bordeaux-montaigne.fr, \n",
      "Cecile.Croce@u-bordeaux-montaigne.fr, \n",
      "Pierre.Guibert@u-bordeaux-montaigne.fr, \n",
      "Nicolas.Nercam@u-bordeaux-montaigne.fr, \n",
      "Ghislaine.Deymier@u-bordeaux-montaigne.fr, \n",
      "Takaaki.Shochi@u-bordeaux-montaigne.fr, \n",
      "Silvia.Amorim@u-bordeaux-montaigne.fr, \n",
      "Olivier.Le-Deuff@u-bordeaux-montaigne.fr, \n",
      "Emilie.De-Thonel-D'orgeix@u-bordeaux-montaigne.fr, \n",
      "Guillaume.Guerin@u-bordeaux-montaigne.fr, \n",
      "Catherine.Mathon@u-bordeaux-montaigne.fr, \n",
      "Alexis.Gorgues@u-bordeaux-montaigne.fr, \n",
      "Dominique.Picco@u-bordeaux-montaigne.fr, \n",
      "Maria-Gabriella.Dascalakis@u-bordeaux-montaigne.fr, \n",
      "Stephanie.Durrans@u-bordeaux-montaigne.fr, \n",
      "Philippe.Ortel@u-bordeaux-montaigne.fr, \n",
      "Nicole.Ollier@u-bordeaux-montaigne.fr, \n",
      "Franck.Cormerais@u-bordeaux-montaigne.fr, \n",
      "Moya.Jones@u-bordeaux-montaigne.fr, \n",
      "Pierre.Laforgue@u-bordeaux-montaigne.fr, \n",
      "Marie-Bernadette.Dufourcet@u-bordeaux-montaigne.fr, \n",
      "Jean-Jacques.Cheval@u-bordeaux-montaigne.fr, \n",
      "Olivier.Ballesta@u-bordeaux-montaigne.fr, \n",
      "Sophie.Rachmuhl@u-bordeaux-montaigne.fr, \n",
      "Francois-Xavier.Le-Bourdonnec@u-bordeaux-montaigne.fr, \n",
      "Carmela.Maltone@u-bordeaux-montaigne.fr, \n",
      "Alain.Escadafal@u-bordeaux-montaigne.fr, \n",
      "Carole.Carribon@u-bordeaux-montaigne.fr, \n",
      "Jean-Yves.Adam@u-bordeaux-montaigne.fr, \n",
      "Linda.Lawrance@u-bordeaux-montaigne.fr, \n"
     ]
    }
   ],
   "source": [
    "if prenomNom:\n",
    "    for l,ligne in enumerate(lignes):\n",
    "        ligne=unidecode.unidecode(ligne.strip())\n",
    "        elements=ligne.split(\" \")\n",
    "        elements=[\"-\".join([i.capitalize() for i in k.split(\"-\")]) for k in elements]\n",
    "    #    prenom=\"-\".join([i.capitalize() for i in elements[0].split(\"-\")])\n",
    "        prenom=elements[0]\n",
    "        nom=\"-\".join(elements[1:])\n",
    "        print \"%s.%s@u-bordeaux-montaigne.fr, \"%(prenom,nom)\n",
    "else:\n",
    "    for l,ligne in enumerate(lignes):\n",
    "        ligne=unidecode.unidecode(ligne.strip())\n",
    "        elements=ligne.split(\" \")\n",
    "        nom=[\"-\".join([i.capitalize() for i in element.split(\"-\")]) for element in elements if element.isupper()]\n",
    "        prenom=[\"-\".join([i.capitalize() for i in element.split(\"-\")]) for element in elements if element.istitle()]\n",
    "        print \"-\".join(prenom)+\".\"+\"-\".join(nom)+\"@u-bordeaux-montaigne.fr, \"\n"
   ]
  },
  {
   "cell_type": "code",
   "execution_count": null,
   "metadata": {
    "collapsed": true
   },
   "outputs": [],
   "source": []
  }
 ],
 "metadata": {
  "kernelspec": {
   "display_name": "Python 2",
   "language": "python",
   "name": "python2"
  },
  "language_info": {
   "codemirror_mode": {
    "name": "ipython",
    "version": 2
   },
   "file_extension": ".py",
   "mimetype": "text/x-python",
   "name": "python",
   "nbconvert_exporter": "python",
   "pygments_lexer": "ipython2",
   "version": "2.7.11"
  }
 },
 "nbformat": 4,
 "nbformat_minor": 0
}
