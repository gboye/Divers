{
 "cells": [
  {
   "cell_type": "markdown",
   "metadata": {},
   "source": [
    "# Script pour générer les exemples du TD-Rad\n",
    "- à partir des exemples de l'exercice\n",
    " - supprimer la marque de commentaire devant la ligne des gloses  \n",
    " (3ème ligne après \\gloses)\n",
    " - ajouter un espace entre les gloses pour séparer les mots\n",
    " \n",
    "Le fichier d'entrée est \"Exemples.tex\"  \n",
    "Le fichier de sortie est \"Exemples-Radicaux.tex\""
   ]
  },
  {
   "cell_type": "code",
   "execution_count": 28,
   "metadata": {
    "collapsed": true
   },
   "outputs": [],
   "source": [
    "import codecs, re, string\n",
    "from os.path import expanduser\n",
    "\n",
    "home = expanduser(\"~\")"
   ]
  },
  {
   "cell_type": "code",
   "execution_count": 31,
   "metadata": {
    "collapsed": false
   },
   "outputs": [],
   "source": [
    "nKalaba=\"K3\"\n",
    "repertoire=home+\"/ownCloud/Cours/Bordeaux/L1-LinguistiqueGenerale/Kalaba-Project/16-%s\"%nKalaba\n",
    "serie=repertoire+\"/\"\n",
    "\n",
    "nomExemples=\"Exemples.tex\"\n",
    "with codecs.open(serie+nomExemples,\"r\",encoding=\"utf8\") as input:\n",
    "    lignesFichier=input.readlines()\n"
   ]
  },
  {
   "cell_type": "code",
   "execution_count": 32,
   "metadata": {
    "collapsed": false
   },
   "outputs": [],
   "source": [
    "nomExemplesRadicaux=nomExemples.replace(\".tex\",\"-Radicaux.tex\")\n",
    "if nomExemplesRadicaux==nomExemples:\n",
    "    print \"Le nom de la sortie est le même que celui de l'entrée...\"\n",
    "else:\n",
    "    with codecs.open(serie+nomExemplesRadicaux,\"w\",encoding=\"utf8\") as output:\n",
    "        for nLigne,ligne in enumerate(lignesFichier):\n",
    "            ligne=ligne.strip()\n",
    "            if ligne==\"\\\\gloses\":\n",
    "                lignesFichier[nLigne+3]=\"{} \".join(re.split(\"{}\",lignesFichier[nLigne+3][1:]))        \n",
    "            output.write(ligne+\"\\n\")\n",
    "#            print ligne\n"
   ]
  },
  {
   "cell_type": "code",
   "execution_count": null,
   "metadata": {
    "collapsed": true
   },
   "outputs": [],
   "source": []
  }
 ],
 "metadata": {
  "kernelspec": {
   "display_name": "Python 2",
   "language": "python",
   "name": "python2"
  },
  "language_info": {
   "codemirror_mode": {
    "name": "ipython",
    "version": 2
   },
   "file_extension": ".py",
   "mimetype": "text/x-python",
   "name": "python",
   "nbconvert_exporter": "python",
   "pygments_lexer": "ipython2",
   "version": "2.7.11"
  }
 },
 "nbformat": 4,
 "nbformat_minor": 0
}
