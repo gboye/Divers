{
 "metadata": {
  "name": "",
  "signature": "sha256:6619c3e3eee35252aa893706c0d8c33f4ebcd24de023e245bc20a3c20aca34a2"
 },
 "nbformat": 3,
 "nbformat_minor": 0,
 "worksheets": [
  {
   "cells": [
    {
     "cell_type": "code",
     "collapsed": false,
     "input": [
      "import random"
     ],
     "language": "python",
     "metadata": {},
     "outputs": [],
     "prompt_number": 34
    },
    {
     "cell_type": "code",
     "collapsed": false,
     "input": [
      "listeJetons = {\"a\": 9, \"b\": 2, \"c\": 2, \"d\": 3, \"e\": 15, \n",
      "         \"f\": 2, \"g\": 2, \"h\": 2, \"i\": 8, \"j\": 1, \n",
      "         \"k\": 1, \"l\": 5, \"m\": 3, \"n\": 6, \"o\": 6, \n",
      "         \"p\": 2, \"q\": 1, \"r\": 6, \"s\": 6, \"t\": 6, \n",
      "         \"u\": 6, \"v\": 2, \"w\": 1, \"x\": 1, \"y\": 1, \n",
      "         \"z\": 1, \"*\": 2}"
     ],
     "language": "python",
     "metadata": {},
     "outputs": [],
     "prompt_number": 35
    },
    {
     "cell_type": "code",
     "collapsed": false,
     "input": [
      "class Scrabble():\n",
      "    def __init__ (self):\n",
      "        self.joueurs=[]\n",
      "        self.sac=Pions()\n",
      "        self.rack={}\n",
      "        # Pions().vide cr\u00e9e la liste vide au dessus\n",
      "        # Pions(Pions().vide) cr\u00e9e un objet avec des pions avec 0 de chaque\n",
      "        self.plateau=Pions(Pions().vide)\n",
      "    \n",
      "    def ajouterJoueur (self,joueur):\n",
      "        if joueur in self.joueurs:\n",
      "            print (\"Le joueur est d\u00e9j\u00e0 dans la liste\")\n",
      "        else:            \n",
      "            self.joueurs.append(joueur)\n",
      "            self.rack[joueur]=Pions(Pions().vide)\n",
      "    \n",
      "    def remplirRack (self,joueur):\n",
      "        tir=self.sac.tirerJetons(7)\n",
      "        self.rack[joueur].ajouterJetons(tir)"
     ],
     "language": "python",
     "metadata": {},
     "outputs": [],
     "prompt_number": 43
    },
    {
     "cell_type": "code",
     "collapsed": false,
     "input": [
      "jeu=Scrabble()"
     ],
     "language": "python",
     "metadata": {},
     "outputs": [],
     "prompt_number": 44
    },
    {
     "cell_type": "code",
     "collapsed": false,
     "input": [
      "jeu.ajouterJoueur(\"Val\")"
     ],
     "language": "python",
     "metadata": {},
     "outputs": [],
     "prompt_number": 45
    },
    {
     "cell_type": "code",
     "collapsed": false,
     "input": [
      "jeu.remplirRack(\"Val\")"
     ],
     "language": "python",
     "metadata": {},
     "outputs": [],
     "prompt_number": 46
    },
    {
     "cell_type": "code",
     "collapsed": false,
     "input": [
      "jeu.rack[\"Val\"].jetons"
     ],
     "language": "python",
     "metadata": {},
     "outputs": [
      {
       "metadata": {},
       "output_type": "pyout",
       "prompt_number": 48,
       "text": [
        "{'*': 1,\n",
        " 'a': 0,\n",
        " 'b': 0,\n",
        " 'c': 0,\n",
        " 'd': 0,\n",
        " 'e': 0,\n",
        " 'f': 1,\n",
        " 'g': 0,\n",
        " 'h': 0,\n",
        " 'i': 0,\n",
        " 'j': 1,\n",
        " 'k': 0,\n",
        " 'l': 0,\n",
        " 'm': 0,\n",
        " 'n': 0,\n",
        " 'o': 1,\n",
        " 'p': 1,\n",
        " 'q': 0,\n",
        " 'r': 0,\n",
        " 's': 0,\n",
        " 't': 0,\n",
        " 'u': 0,\n",
        " 'v': 1,\n",
        " 'w': 0,\n",
        " 'x': 0,\n",
        " 'y': 1,\n",
        " 'z': 0}"
       ]
      }
     ],
     "prompt_number": 48
    },
    {
     "cell_type": "code",
     "collapsed": false,
     "input": [],
     "language": "python",
     "metadata": {},
     "outputs": []
    }
   ],
   "metadata": {}
  }
 ]
}